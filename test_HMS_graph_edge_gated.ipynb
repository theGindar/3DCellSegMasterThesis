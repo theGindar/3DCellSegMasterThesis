{
 "cells": [
  {
   "cell_type": "markdown",
   "metadata": {},
   "source": [
    " ## pipeline"
   ]
  },
  {
   "cell_type": "code",
   "execution_count": 1,
   "metadata": {},
   "outputs": [
    {
     "name": "stderr",
     "output_type": "stream",
     "text": [
      "Using backend: pytorch\n"
     ]
    }
   ],
   "source": [
    "import numpy as np\n",
    "import os\n",
    "import pickle\n",
    "import copy\n",
    "import edt\n",
    "import matplotlib.pyplot as plt\n",
    "import time\n",
    "import cv2\n",
    "import pandas as pd\n",
    "from sklearn.metrics.cluster import adjusted_rand_score\n",
    "from skimage.metrics import adapted_rand_error\n",
    "\n",
    "import torch\n",
    "from torch import from_numpy as from_numpy\n",
    "from torchsummary import summary\n",
    "\n",
    "from func.run_pipeline_super_vox import semantic_segment_crop_and_cat_3_channel_output_edge_gated_model, img_3d_erosion_or_expansion, \\\n",
    "generate_super_vox_by_watershed, get_outlayer_of_a_3d_shape, get_crop_by_pixel_val, Cluster_Super_Vox, assign_boudary_voxels_to_cells_with_watershed, \\\n",
    "delete_too_small_cluster, reassign\n",
    "from func.run_pipeline import segment, assign_boudary_voxels_to_cells, dbscan_of_seg, semantic_segment_crop_and_cat\n",
    "from func.cal_accuracy import IOU_and_Dice_Accuracy, VOI\n",
    "from func.network import VoxResNet, CellSegNet_basic_edge_gated_X\n",
    "from func.unet_3d_basic import UNet3D_basic\n",
    "from func.ultis import save_obj, load_obj\n",
    "\n",
    "# graph import stuff\n",
    "from func.graph_learning import SuperVoxToNxGraph, VoxelGraphDataset, Cluster_Super_Vox_Graph, segment_super_vox_3_channel_graph_learning_edge_gated_model\n",
    "from func.graph_models import GCN"
   ]
  },
  {
   "cell_type": "markdown",
   "metadata": {},
   "source": [
    "### init model"
   ]
  },
  {
   "cell_type": "code",
   "execution_count": 2,
   "metadata": {},
   "outputs": [
    {
     "data": {
      "text/plain": "GCN(\n  (conv1): GraphConv(in=3, out=16, normalization=both, activation=None)\n  (dropout): Dropout(p=0.5, inplace=False)\n  (conv2): GraphConv(in=16, out=1, normalization=both, activation=None)\n)"
     },
     "execution_count": 2,
     "metadata": {},
     "output_type": "execute_result"
    }
   ],
   "source": [
    "# model=UNet3D_basic(in_channels = 1, out_channels = 3)\n",
    "# load_path=''\n",
    "# model=VoxResNet(input_channel=1, n_classes=3, output_func = \"softmax\")\n",
    "# load_path=\"\"\n",
    "model=CellSegNet_basic_edge_gated_X(input_channel=1, n_classes=3, output_func = \"softmax\")\n",
    "load_path='output/model_HMS_edge_gated_24_1.pkl'\n",
    "checkpoint = torch.load(load_path)\n",
    "model.load_state_dict(checkpoint['model_state_dict'])\n",
    "\n",
    "model.eval()\n",
    "device = torch.device('cuda' if torch.cuda.is_available() else 'cpu')\n",
    "model.to(device)\n",
    "\n",
    "# load graph model\n",
    "graph_model = GCN(3, num_classes=1)\n",
    "checkpoint_graph = 'output/graph_model_focal_edge_gated.pt'\n",
    "graph_model.load_state_dict(torch.load(checkpoint_graph))\n",
    "graph_model.eval()\n",
    "\n",
    "#summary(model, (1, 64, 64, 64))"
   ]
  },
  {
   "cell_type": "markdown",
   "metadata": {},
   "source": [
    "### dataset info"
   ]
  },
  {
   "cell_type": "code",
   "execution_count": 3,
   "metadata": {},
   "outputs": [],
   "source": [
    "HMS_data_dict = load_obj(\"dataset_info/HMS_dataset_info\")\n",
    "HMS_data_dict_test = HMS_data_dict[\"test\"]"
   ]
  },
  {
   "cell_type": "markdown",
   "metadata": {},
   "source": [
    "### seg one img"
   ]
  },
  {
   "cell_type": "markdown",
   "metadata": {},
   "source": [
    "parameter setting"
   ]
  },
  {
   "cell_type": "code",
   "execution_count": 4,
   "metadata": {},
   "outputs": [],
   "source": [
    "# we do not input the whole raw image to the model one time but input raw image crops\n",
    "crop_cube_size=64\n",
    "stride=32\n",
    "\n",
    "# hyperparameter for TASCAN, min touching area of two super pixels if they belong to the same cell\n",
    "min_touching_area=30"
   ]
  },
  {
   "cell_type": "markdown",
   "metadata": {},
   "source": [
    "choose a test image and load it"
   ]
  },
  {
   "cell_type": "code",
   "execution_count": 5,
   "metadata": {},
   "outputs": [
    {
     "name": "stdout",
     "output_type": "stream",
     "text": [
      "Test cases: dict_keys(['135', '120', '65', '90'])\n",
      "for test case 135 : {'raw': 'data/CellSeg_dataset/HMS_processed/raw/135.npy', 'background': 'data/CellSeg_dataset/HMS_processed/segmentation/135/135_background_3d_mask.npy', 'boundary': 'data/CellSeg_dataset/HMS_processed/segmentation/135/135_boundary_3d_mask.npy', 'foreground': 'data/CellSeg_dataset/HMS_processed/segmentation/135/135_foreground_3d_mask.npy', 'ins': 'data/CellSeg_dataset/HMS_processed/segmentation/135/135_ins.npy'}\n"
     ]
    }
   ],
   "source": [
    "print(\"Test cases: \"+str(HMS_data_dict_test.keys()))\n",
    "case = \"135\"\n",
    "print(\"for test case \"+str(case)+\" : \"+str(HMS_data_dict_test[case]))\n",
    "\n",
    "# you may load the image using another path\n",
    "raw_img=np.load(HMS_data_dict_test[case][\"raw\"]).astype(float)\n",
    "hand_seg=np.load(HMS_data_dict_test[case][\"ins\"]).astype(float)"
   ]
  },
  {
   "cell_type": "markdown",
   "metadata": {},
   "source": [
    "feed raw image crops to the model"
   ]
  },
  {
   "cell_type": "markdown",
   "metadata": {
    "pycharm": {
     "name": "#%% md\n"
    }
   },
   "source": [
    "start = time.time()\n",
    "\n",
    "# feed the raw img to the model\n",
    "print('Feed raw img to model')\n",
    "raw_img_size=raw_img.shape\n",
    "    \n",
    "seg_background_comp = np.zeros(raw_img_size)\n",
    "seg_boundary_comp = np.zeros(raw_img_size)\n",
    "\n",
    "transposes = [[0,1,2]]#,[2,0,1],[0,2,1]]\n",
    "reverse_transposes = [[0,1,2]]#,[1,2,0],[0,2,1]]\n",
    "\n",
    "for idx, transpose in enumerate(transposes):\n",
    "    print(str(idx+1)+\": Transpose the image to be: \"+str(transpose))\n",
    "    with torch.no_grad():\n",
    "        seg_img=\\\n",
    "        semantic_segment_crop_and_cat_3_channel_output_edge_gated_model(raw_img.transpose(transpose), model, device, crop_cube_size=crop_cube_size, stride=stride)\n",
    "    seg_img_background=seg_img['background']\n",
    "    seg_img_boundary=seg_img['boundary']\n",
    "    seg_img_foreground=seg_img['foreground']\n",
    "    torch.cuda.empty_cache()\n",
    "    \n",
    "    # argmax\n",
    "    print('argmax', end='\\r')\n",
    "    seg=[]\n",
    "    seg.append(seg_img_background)\n",
    "    seg.append(seg_img_boundary)\n",
    "    seg.append(seg_img_foreground)\n",
    "    seg=np.array(seg)\n",
    "    seg_argmax=np.argmax(seg, axis=0)\n",
    "    # probability map to 0 1 segment\n",
    "    seg_background=np.zeros(seg_img_background.shape)\n",
    "    seg_background[np.where(seg_argmax==0)]=1\n",
    "    seg_foreground=np.zeros(seg_img_foreground.shape)\n",
    "    seg_foreground[np.where(seg_argmax==2)]=1\n",
    "    seg_boundary=np.zeros(seg_img_boundary.shape)\n",
    "    seg_boundary[np.where(seg_argmax==1)]=1\n",
    "        \n",
    "    seg_background=seg_background.transpose(reverse_transposes[idx])\n",
    "    seg_foreground=seg_foreground.transpose(reverse_transposes[idx])\n",
    "    seg_boundary=seg_boundary.transpose(reverse_transposes[idx])\n",
    "        \n",
    "    seg_background_comp+=seg_background\n",
    "    seg_boundary_comp+=seg_boundary\n",
    "#print(\"Get model semantic seg by combination\")\n",
    "seg_background_comp = np.array(seg_background_comp>0, dtype=float)\n",
    "seg_boundary_comp = np.array(seg_boundary_comp>0, dtype=float)\n",
    "seg_foreground_comp = np.array(1 - seg_background_comp - seg_boundary_comp>0, dtype=float)\n",
    "\n",
    "end = time.time()\n",
    "\n",
    "print(\"Time elapsed: \", end - start)"
   ]
  },
  {
   "cell_type": "markdown",
   "metadata": {
    "scrolled": true,
    "pycharm": {
     "name": "#%% md\n"
    }
   },
   "source": [
    "# show current result\n",
    "\n",
    "N=100\n",
    "\n",
    "plt.figure()\n",
    "plt.title(\"raw_img\")\n",
    "plt.imshow(raw_img[N,:,:])\n",
    "plt.figure()\n",
    "plt.title(\"hand_seg\")\n",
    "plt.imshow(reassign(hand_seg[N,:,:]))\n",
    "plt.figure()\n",
    "plt.title(\"model_seg_foreground\")\n",
    "plt.imshow(seg_foreground_comp[N,:,:])\n",
    "plt.figure()\n",
    "plt.title(\"model_seg_boundary\")\n",
    "plt.imshow(seg_boundary_comp[N,:,:])\n",
    "plt.figure()\n",
    "plt.title(\"model_seg_background\")\n",
    "plt.imshow(seg_background_comp[N,:,:])"
   ]
  },
  {
   "cell_type": "markdown",
   "metadata": {},
   "source": [
    "TASCAN"
   ]
  },
  {
   "cell_type": "markdown",
   "metadata": {},
   "source": [
    "generate super vox by watershed"
   ]
  },
  {
   "cell_type": "markdown",
   "metadata": {
    "pycharm": {
     "name": "#%% md\n"
    }
   },
   "source": [
    "how_close_are_the_super_vox_to_boundary=2\n",
    "min_touching_percentage=0.51\n",
    "\n",
    "seg_foreground_erosion=1-img_3d_erosion_or_expansion(1-seg_foreground_comp, kernel_size=how_close_are_the_super_vox_to_boundary+1, device=device)\n",
    "seg_foreground_super_voxel_by_ws = generate_super_vox_by_watershed(seg_foreground_erosion, connectivity=min_touching_area)"
   ]
  },
  {
   "cell_type": "markdown",
   "metadata": {
    "scrolled": false,
    "pycharm": {
     "name": "#%% md\n"
    }
   },
   "source": [
    "print(\"There are \"+str(len(np.unique(seg_foreground_super_voxel_by_ws)))+\" super voxels\")"
   ]
  },
  {
   "cell_type": "markdown",
   "metadata": {},
   "source": [
    "super voxel clustearing"
   ]
  },
  {
   "cell_type": "code",
   "execution_count": 6,
   "metadata": {},
   "outputs": [],
   "source": [
    "# cluster_super_vox=Cluster_Super_Vox(min_touching_area=min_touching_area, min_touching_percentage=min_touching_percentage)\n",
    "# cluster_super_vox.fit(seg_foreground_super_voxel_by_ws)\n",
    "# seg_foreground_single_cell_with_boundary = cluster_super_vox.output_3d_img\n",
    "\n",
    "# import pickle\n",
    "# pickle.dump(seg_foreground_super_voxel_by_ws, open(\"test_seg_foreground_super_voxel_by_ws.pkl\", \"wb\" ))"
   ]
  },
  {
   "cell_type": "markdown",
   "source": [
    "cluster_super_vox=Cluster_Super_Vox_Graph(graph_model)\n",
    "cluster_super_vox.fit(seg_foreground_super_voxel_by_ws, fake_predictions=False)\n",
    "seg_foreground_single_cell_with_boundary = cluster_super_vox.output_3d_img\n",
    "\n"
   ],
   "metadata": {
    "collapsed": false,
    "pycharm": {
     "name": "#%% md\n"
    }
   }
  },
  {
   "cell_type": "markdown",
   "metadata": {},
   "source": [
    "delete too small cells"
   ]
  },
  {
   "cell_type": "markdown",
   "metadata": {
    "pycharm": {
     "name": "#%% md\n"
    }
   },
   "source": [
    "min_cell_size_threshold=10\n",
    "seg_foreground_single_cell_with_boundary_delete_too_small = delete_too_small_cluster(seg_foreground_single_cell_with_boundary, threshold=min_cell_size_threshold)"
   ]
  },
  {
   "cell_type": "markdown",
   "metadata": {},
   "source": [
    "assign boudary voxels to their nearest cells"
   ]
  },
  {
   "cell_type": "markdown",
   "metadata": {
    "pycharm": {
     "name": "#%% md\n"
    }
   },
   "source": [
    "seg_final=assign_boudary_voxels_to_cells_with_watershed(seg_foreground_single_cell_with_boundary_delete_too_small, seg_boundary_comp, seg_background_comp, compactness=1)"
   ]
  },
  {
   "cell_type": "markdown",
   "metadata": {},
   "source": [
    "see the final result"
   ]
  },
  {
   "cell_type": "code",
   "execution_count": 7,
   "metadata": {},
   "outputs": [],
   "source": [
    "def colorful_seg(seg):\n",
    "    unique_vals, val_counts = np.unique(seg, return_counts=True)\n",
    "    \n",
    "    background_val = unique_vals[np.argsort(val_counts)[::-1][0]]\n",
    "    \n",
    "    seg_RGB = []\n",
    "    for i in range(seg.shape[0]):\n",
    "        mask_gray = cv2.normalize(src=seg[i,:,:], dst=None, alpha=0, beta=255, norm_type=cv2.NORM_MINMAX, dtype=cv2.CV_8UC1)\n",
    "        seg_slice_RGB = cv2.cvtColor(mask_gray, cv2.COLOR_GRAY2RGB)\n",
    "        seg_RGB.append(seg_slice_RGB)\n",
    "    seg_RGB = np.array(seg_RGB)\n",
    "    \n",
    "    for idx, unique_val in enumerate(unique_vals):\n",
    "        print(str(idx/len(unique_vals)), end=\"\\r\")\n",
    "        if unique_val == background_val:\n",
    "            COLOR = np.array([0,0,0], dtype=int)\n",
    "        else:\n",
    "            COLOR = np.array(np.random.choice(np.arange(256), size=3, replace=False), dtype=int)\n",
    "        \n",
    "        locs = np.where(seg==unique_val)\n",
    "        \n",
    "        for i in range(3):\n",
    "            seg_RGB[locs[0], locs[1], locs[2], i] = COLOR[i]\n",
    "        \n",
    "    return seg_RGB"
   ]
  },
  {
   "cell_type": "markdown",
   "metadata": {
    "pycharm": {
     "name": "#%% md\n"
    }
   },
   "source": [
    "seg_RGB = colorful_seg(seg_final)\n",
    "hand_seg_RGB = colorful_seg(hand_seg)"
   ]
  },
  {
   "cell_type": "markdown",
   "metadata": {
    "pycharm": {
     "name": "#%% md\n"
    }
   },
   "source": [
    "N=100\n",
    "fig = plt.figure(figsize=(5,5))\n",
    "plt.title(\"model seg\")\n",
    "plt.axis('off')\n",
    "plt.imshow(seg_RGB[:,:,N,:])#, cmap=\"gray\")\n",
    "#plt.savefig('_RGB_'+str(N)+'.png',bbox_inches='tight',dpi=fig.dpi,pad_inches=0.0)"
   ]
  },
  {
   "cell_type": "markdown",
   "metadata": {
    "pycharm": {
     "name": "#%% md\n"
    }
   },
   "source": [
    "fig = plt.figure(figsize=(5,5))\n",
    "plt.title(\"hand seg\")\n",
    "plt.axis('off')\n",
    "plt.imshow(hand_seg_RGB[:,:,N,:])#, cmap=\"gray\")\n",
    "#plt.savefig('_RGB_'+str(N)+'.png',bbox_inches='tight',dpi=fig.dpi,pad_inches=0.0)"
   ]
  },
  {
   "cell_type": "code",
   "execution_count": 8,
   "metadata": {},
   "outputs": [],
   "source": [
    "# print(\"There are \"+str(len(np.unique(seg_final)))+\" cells in model prediction\")\n",
    "# print(\"There are \"+str(len(np.unique(hand_seg)))+\" cells in hand seg\")"
   ]
  },
  {
   "cell_type": "markdown",
   "metadata": {},
   "source": [
    "calculate accuracy"
   ]
  },
  {
   "cell_type": "markdown",
   "metadata": {
    "pycharm": {
     "name": "#%% md\n"
    }
   },
   "source": [
    "ARI = adjusted_rand_score(hand_seg.flatten(), seg_final.flatten())\n",
    "ARE = adapted_rand_error(hand_seg.astype(int).flatten(), seg_final.astype(int).flatten())\n",
    "VOI_val = VOI(seg_final.astype(int),hand_seg.astype(int))"
   ]
  },
  {
   "cell_type": "markdown",
   "metadata": {
    "pycharm": {
     "name": "#%% md\n"
    }
   },
   "source": [
    "print(\"ARI: \"+str(ARI))\n",
    "print(\"ARE: \"+str(ARE))\n",
    "print(\"VOI: \"+str(VOI_val))"
   ]
  },
  {
   "cell_type": "code",
   "execution_count": 9,
   "metadata": {},
   "outputs": [],
   "source": [
    "def img_3d_interpolate(img_3d, output_size, device = torch.device('cpu'), mode='nearest'):\n",
    "    img_3d = img_3d.reshape(1,1,img_3d.shape[0],img_3d.shape[1],img_3d.shape[2])\n",
    "    img_3d=torch.from_numpy(img_3d).float().to(device)\n",
    "    img_3d=torch.nn.functional.interpolate(img_3d, size=output_size, mode='nearest')\n",
    "    img_3d=img_3d.detach().cpu().numpy()\n",
    "    img_3d=img_3d.reshape(img_3d.shape[2],img_3d.shape[3],img_3d.shape[4])\n",
    "    \n",
    "    return img_3d\n",
    "\n",
    "scale_factor = 0.5"
   ]
  },
  {
   "cell_type": "markdown",
   "source": [
    "org_shape = seg_final.shape\n",
    "output_size = (int(org_shape[0]*scale_factor), int(org_shape[1]*scale_factor), int(org_shape[2]*scale_factor))\n",
    "print(str(org_shape)+\" --> \"+str(output_size))"
   ],
   "metadata": {
    "collapsed": false,
    "pycharm": {
     "name": "#%% md\n"
    }
   }
  },
  {
   "cell_type": "markdown",
   "metadata": {
    "pycharm": {
     "name": "#%% md\n"
    }
   },
   "source": [
    "accuracy=IOU_and_Dice_Accuracy(img_3d_interpolate(hand_seg, output_size = output_size), img_3d_interpolate(seg_final, output_size = output_size))\n",
    "accuracy_record=accuracy.cal_accuracy_II()\n",
    "\n",
    "iou=np.array(accuracy_record[:,1]>0.7, dtype=np.float)\n",
    "print('cell count accuracy iou >0.7: '+str(sum(iou)/len(iou)))\n",
    "\n",
    "dice=np.array(accuracy_record[:,2]>0.7, dtype=np.float)\n",
    "print('cell count accuracy dice >0.7: '+str(sum(dice)/len(dice)))\n",
    "    \n",
    "iou=np.array(accuracy_record[:,1]>0.5, dtype=np.float)\n",
    "print('cell count accuracy iou >0.5: '+str(sum(iou)/len(iou)))\n",
    "\n",
    "dice=np.array(accuracy_record[:,2]>0.5, dtype=np.float)\n",
    "print('cell count accuracy dice >0.5: '+str(sum(dice)/len(dice)))\n",
    "\n",
    "print('avg iou: '+str(np.mean(accuracy_record[:,1])))\n",
    "print('avg dice: '+str(np.mean(accuracy_record[:,2])))"
   ]
  },
  {
   "cell_type": "markdown",
   "metadata": {},
   "source": [
    "### seg all imgs"
   ]
  },
  {
   "cell_type": "code",
   "execution_count": 10,
   "metadata": {},
   "outputs": [],
   "source": [
    "def img_3d_interpolate(img_3d, output_size, device = torch.device('cpu'), mode='nearest'):\n",
    "    img_3d = img_3d.reshape(1,1,img_3d.shape[0],img_3d.shape[1],img_3d.shape[2])\n",
    "    img_3d=torch.from_numpy(img_3d).float().to(device)\n",
    "    img_3d=torch.nn.functional.interpolate(img_3d, size=output_size, mode='nearest')\n",
    "    img_3d=img_3d.detach().cpu().numpy()\n",
    "    img_3d=img_3d.reshape(img_3d.shape[2],img_3d.shape[3],img_3d.shape[4])\n",
    "    \n",
    "    return img_3d\n",
    "\n",
    "def pipeline(raw_img, hand_seg, model, device,\n",
    "             crop_cube_size, stride,\n",
    "             how_close_are_the_super_vox_to_boundary=2,\n",
    "             min_touching_area=30,\n",
    "             min_touching_percentage=0.51,\n",
    "             min_cell_size_threshold=1,\n",
    "             transposes = [[0,1,2]], reverse_transposes = [[0,1,2]],\n",
    "             test_file_name=None):\n",
    "    \n",
    "    seg_final=segment_super_vox_3_channel_graph_learning_edge_gated_model(raw_img, model, graph_model, device,\n",
    "                                          crop_cube_size=crop_cube_size, stride=stride,\n",
    "                                          how_close_are_the_super_vox_to_boundary=how_close_are_the_super_vox_to_boundary,\n",
    "                                          min_touching_area=min_touching_area,\n",
    "                                          min_touching_percentage=min_touching_percentage,\n",
    "                                          min_cell_size_threshold=min_cell_size_threshold,\n",
    "                                          transposes = transposes, reverse_transposes = reverse_transposes,\n",
    "                                          test_file_name=test_file_name,\n",
    "                                          intermediate_results_save_path=\"../masterthesis_results/HMS_edge_gated_gcn/\")\n",
    "    \n",
    "    ari = adjusted_rand_score(hand_seg.flatten(), seg_final.flatten())\n",
    "    voi = VOI(seg_final.astype(np.int),hand_seg.astype(np.int))\n",
    "    \n",
    "    scale_factor = 0.5\n",
    "    org_shape = seg_final.shape\n",
    "    output_size = (int(org_shape[0]*scale_factor), int(org_shape[1]*scale_factor), int(org_shape[2]*scale_factor))\n",
    "    print(str(org_shape)+\" --> \"+str(output_size))\n",
    "    \n",
    "    accuracy=IOU_and_Dice_Accuracy(img_3d_interpolate(hand_seg, output_size = output_size),\n",
    "                                   img_3d_interpolate(seg_final, output_size = output_size))\n",
    "    accuracy_record=accuracy.cal_accuracy_II()\n",
    "    hand_seg_after_accuracy=accuracy.gt\n",
    "    seg_final_after_accuracy=accuracy.pred\n",
    "    \n",
    "    return accuracy_record, hand_seg_after_accuracy, seg_final_after_accuracy, ari, voi, seg_final"
   ]
  },
  {
   "cell_type": "code",
   "execution_count": 11,
   "metadata": {},
   "outputs": [
    {
     "name": "stdout",
     "output_type": "stream",
     "text": [
      "135\n",
      "Feed raw img to model. Use different transposes\n",
      "1: Transpose the image to be: [0, 1, 2]\n",
      "Progress of segment_3d_img: 0%\r"
     ]
    },
    {
     "name": "stderr",
     "output_type": "stream",
     "text": [
      "/opt/anaconda3/envs/CellSeg3D_torch/lib/python3.8/site-packages/torch/nn/functional.py:1944: UserWarning: nn.functional.sigmoid is deprecated. Use torch.sigmoid instead.\n",
      "  warnings.warn(\"nn.functional.sigmoid is deprecated. Use torch.sigmoid instead.\")\n"
     ]
    },
    {
     "name": "stdout",
     "output_type": "stream",
     "text": [
      "argmax\rs of segment_3d_img: 99%Get model semantic seg by combination\n",
      "getting neighbor pairs\n",
      "adding neighbor ids\n",
      "calculate edges\n",
      "build networkx graph\n"
     ]
    },
    {
     "name": "stderr",
     "output_type": "stream",
     "text": [
      "/opt/anaconda3/envs/CellSeg3D_torch/lib/python3.8/site-packages/dgl/backend/pytorch/tensor.py:40: UserWarning: Creating a tensor from a list of numpy.ndarrays is extremely slow. Please consider converting the list to a single numpy.ndarray with numpy.array() before converting to a tensor. (Triggered internally at  /Users/distiller/project/pytorch/torch/csrc/utils/tensor_new.cpp:210.)\n",
      "  return th.as_tensor(data, dtype=dtype)\n"
     ]
    },
    {
     "name": "stdout",
     "output_type": "stream",
     "text": [
      "predict...\n",
      "using prediction for single-output model\n",
      "number of negatives: 0\n",
      "everything predicted!\n"
     ]
    },
    {
     "name": "stderr",
     "output_type": "stream",
     "text": [
      "/var/folders/qq/9q6wphrj19z8xt4qcffm8df80000gn/T/ipykernel_26706/275917005.py:30: DeprecationWarning: `np.int` is a deprecated alias for the builtin `int`. To silence this warning, use `int` by itself. Doing this will not modify any behavior and is safe. When replacing `np.int`, you may wish to use e.g. `np.int64` or `np.int32` to specify the precision. If you wish to review your current use, check the release note link for additional information.\n",
      "Deprecated in NumPy 1.20; for more details and guidance: https://numpy.org/devdocs/release/1.20.0-notes.html#deprecations\n",
      "  voi = VOI(seg_final.astype(np.int),hand_seg.astype(np.int))\n"
     ]
    },
    {
     "name": "stdout",
     "output_type": "stream",
     "text": [
      "(181, 331, 160) --> (90, 165, 80)\n",
      "progress: 99.7340425531915%\r\r\rrogress: 9.042553191489363%progress: 9.840425531914894%progress: 10.638297872340425%progress: 11.436170212765957%progress: 12.5%progress: 13.297872340425531%progress: 14.095744680851062%progress: 14.893617021276595%progress: 15.691489361702127%progress: 16.22340425531915%progress: 17.287234042553195%progress: 18.351063829787233%progress: 19.148936170212767%progress: 20.47872340425532%progress: 21.27659574468085%progress: 21.808510638297875%progress: 22.606382978723406%progress: 23.670212765957448%progress: 24.73404255319149%progress: 26.063829787234045%progress: 27.127659574468083%progress: 27.659574468085108%progress: 28.723404255319153%progress: 29.25531914893617%progress: 30.585106382978722%progress: 31.914893617021278%progress: 32.97872340425532%progress: 34.308510638297875%progress: 35.37234042553192%progress: 36.702127659574465%progress: 37.765957446808514%progress: 38.56382978723404%progress: 39.62765957446808%progress: 40.42553191489361%progress: 41.48936170212766%progress: 42.28723404255319%progress: 43.08510638297872%progress: 44.41489361702128%progress: 45.21276595744681%progress: 46.27659574468085%progress: 47.6063829787234%progress: 48.67021276595745%progress: 49.734042553191486%progress: 50.53191489361703%progress: 51.329787234042556%progress: 52.3936170212766%progress: 53.72340425531915%progress: 54.78723404255319%progress: 55.58510638297872%progress: 56.38297872340425%progress: 57.180851063829785%progress: 58.24468085106383%progress: 59.308510638297875%progress: 60.37234042553191%progress: 61.170212765957444%progress: 61.702127659574465%progress: 62.5%progress: 63.297872340425535%progress: 63.829787234042556%progress: 64.62765957446808%progress: 65.42553191489363%progress: 65.95744680851064%progress: 66.75531914893617%progress: 67.81914893617021%progress: 68.35106382978722%progress: 69.41489361702128%progress: 69.9468085106383%progress: 70.74468085106383%progress: 71.80851063829788%progress: 72.3404255319149%progress: 73.67021276595744%progress: 74.7340425531915%progress: 75.2659574468085%progress: 75.79787234042553%progress: 76.59574468085107%progress: 77.6595744680851%progress: 78.45744680851064%progress: 79.52127659574468%progress: 80.31914893617021%progress: 81.11702127659575%progress: 81.64893617021278%progress: 82.18085106382979%progress: 83.24468085106383%progress: 84.04255319148936%progress: 84.57446808510637%progress: 85.37234042553192%progress: 85.90425531914893%progress: 86.43617021276596%progress: 86.96808510638297%progress: 87.5%progress: 88.56382978723404%progress: 89.09574468085107%progress: 89.62765957446808%progress: 90.42553191489363%progress: 91.22340425531915%progress: 91.75531914893617%progress: 92.5531914893617%progress: 93.35106382978722%progress: 93.88297872340425%progress: 94.9468085106383%progress: 95.47872340425532%progress: 96.54255319148936%progress: 97.07446808510637%progress: 97.87234042553192%progress: 98.40425531914893%progress: 99.20212765957447%"
     ]
    },
    {
     "name": "stderr",
     "output_type": "stream",
     "text": [
      "/var/folders/qq/9q6wphrj19z8xt4qcffm8df80000gn/T/ipykernel_26706/32324825.py:21: DeprecationWarning: `np.float` is a deprecated alias for the builtin `float`. To silence this warning, use `float` by itself. Doing this will not modify any behavior and is safe. If you specifically wanted the numpy scalar type, use `np.float64` here.\n",
      "Deprecated in NumPy 1.20; for more details and guidance: https://numpy.org/devdocs/release/1.20.0-notes.html#deprecations\n",
      "  iou=np.array(accuracy_record[:,1]>0.7, dtype=np.float)\n",
      "/var/folders/qq/9q6wphrj19z8xt4qcffm8df80000gn/T/ipykernel_26706/32324825.py:24: DeprecationWarning: `np.float` is a deprecated alias for the builtin `float`. To silence this warning, use `float` by itself. Doing this will not modify any behavior and is safe. If you specifically wanted the numpy scalar type, use `np.float64` here.\n",
      "Deprecated in NumPy 1.20; for more details and guidance: https://numpy.org/devdocs/release/1.20.0-notes.html#deprecations\n",
      "  dice=np.array(accuracy_record[:,2]>0.7, dtype=np.float)\n",
      "/var/folders/qq/9q6wphrj19z8xt4qcffm8df80000gn/T/ipykernel_26706/32324825.py:27: DeprecationWarning: `np.float` is a deprecated alias for the builtin `float`. To silence this warning, use `float` by itself. Doing this will not modify any behavior and is safe. If you specifically wanted the numpy scalar type, use `np.float64` here.\n",
      "Deprecated in NumPy 1.20; for more details and guidance: https://numpy.org/devdocs/release/1.20.0-notes.html#deprecations\n",
      "  iou=np.array(accuracy_record[:,1]>0.5, dtype=np.float)\n",
      "/var/folders/qq/9q6wphrj19z8xt4qcffm8df80000gn/T/ipykernel_26706/32324825.py:30: DeprecationWarning: `np.float` is a deprecated alias for the builtin `float`. To silence this warning, use `float` by itself. Doing this will not modify any behavior and is safe. If you specifically wanted the numpy scalar type, use `np.float64` here.\n",
      "Deprecated in NumPy 1.20; for more details and guidance: https://numpy.org/devdocs/release/1.20.0-notes.html#deprecations\n",
      "  dice=np.array(accuracy_record[:,2]>0.5, dtype=np.float)\n"
     ]
    },
    {
     "name": "stdout",
     "output_type": "stream",
     "text": [
      "cell count accuracy iou >0.7: 0.3404255319148936\n",
      "cell count accuracy dice >0.7: 0.5797872340425532\n",
      "cell count accuracy iou >0.5: 0.625\n",
      "cell count accuracy dice >0.5: 0.8297872340425532\n",
      "avg iou: 0.5433609635232294\n",
      "avg dice: 0.6653032158996831\n",
      "ari: 0.990809901905031\n",
      "voi: (1.4617287287437442, 1.0257363522033205)\n",
      "----------\n",
      "120\n",
      "Feed raw img to model. Use different transposes\n",
      "1: Transpose the image to be: [0, 1, 2]\n",
      "Progress of segment_3d_img: 0%\r"
     ]
    },
    {
     "name": "stderr",
     "output_type": "stream",
     "text": [
      "/opt/anaconda3/envs/CellSeg3D_torch/lib/python3.8/site-packages/torch/nn/functional.py:1944: UserWarning: nn.functional.sigmoid is deprecated. Use torch.sigmoid instead.\n",
      "  warnings.warn(\"nn.functional.sigmoid is deprecated. Use torch.sigmoid instead.\")\n"
     ]
    },
    {
     "name": "stdout",
     "output_type": "stream",
     "text": [
      "argmax\rs of segment_3d_img: 99%Get model semantic seg by combination\n",
      "getting neighbor pairs\n",
      "adding neighbor ids\n",
      "calculate edges\n",
      "build networkx graph\n",
      "predict...\n",
      "using prediction for single-output model\n",
      "number of negatives: 5\n",
      "everything predicted!\n"
     ]
    },
    {
     "name": "stderr",
     "output_type": "stream",
     "text": [
      "/var/folders/qq/9q6wphrj19z8xt4qcffm8df80000gn/T/ipykernel_26706/275917005.py:30: DeprecationWarning: `np.int` is a deprecated alias for the builtin `int`. To silence this warning, use `int` by itself. Doing this will not modify any behavior and is safe. When replacing `np.int`, you may wish to use e.g. `np.int64` or `np.int32` to specify the precision. If you wish to review your current use, check the release note link for additional information.\n",
      "Deprecated in NumPy 1.20; for more details and guidance: https://numpy.org/devdocs/release/1.20.0-notes.html#deprecations\n",
      "  voi = VOI(seg_final.astype(np.int),hand_seg.astype(np.int))\n"
     ]
    },
    {
     "name": "stdout",
     "output_type": "stream",
     "text": [
      "(181, 331, 160) --> (90, 165, 80)\n",
      "cell count accuracy iou >0.7: 0.4494382022471918651685395%progress: 30.89887640449438%progress: 31.46067415730337%progress: 32.02247191011236%progress: 32.86516853932584%progress: 33.70786516853933%progress: 34.26966292134831%progress: 35.1123595505618%progress: 35.95505617977528%progress: 36.51685393258427%progress: 37.07865168539326%progress: 37.92134831460674%progress: 38.48314606741573%progress: 39.04494382022472%progress: 39.60674157303371%progress: 40.73033707865169%progress: 41.57303370786517%progress: 42.41573033707865%progress: 43.82022471910113%progress: 44.9438202247191%progress: 46.348314606741575%progress: 47.47191011235955%progress: 48.87640449438202%progress: 49.43820224719101%progress: 50.84269662921348%progress: 52.24719101123596%progress: 53.37078651685393%progress: 54.7752808988764%progress: 55.89887640449438%progress: 56.46067415730337%progress: 57.58426966292135%progress: 58.42696629213483%progress: 59.269662921348306%progress: 60.1123595505618%progress: 61.23595505617978%progress: 62.35955056179775%progress: 63.76404494382022%progress: 64.32584269662921%progress: 64.8876404494382%progress: 65.73033707865169%progress: 66.57303370786516%progress: 67.69662921348315%progress: 68.53932584269663%progress: 69.66292134831461%progress: 70.78651685393258%progress: 71.34831460674157%progress: 72.19101123595506%progress: 73.03370786516854%progress: 73.87640449438202%progress: 74.43820224719101%progress: 75.56179775280899%progress: 76.12359550561798%progress: 76.96629213483146%progress: 77.80898876404494%progress: 78.65168539325843%progress: 79.21348314606742%progress: 80.0561797752809%progress: 81.17977528089888%progress: 82.02247191011236%progress: 82.58426966292134%progress: 83.42696629213484%progress: 84.5505617977528%progress: 85.39325842696628%progress: 86.23595505617978%progress: 87.07865168539325%progress: 88.20224719101124%progress: 88.76404494382022%progress: 89.8876404494382%progress: 90.4494382022472%progress: 91.01123595505618%progress: 91.85393258426966%progress: 92.69662921348315%progress: 93.53932584269663%progress: 94.10112359550563%progress: 95.2247191011236%progress: 96.34831460674157%progress: 97.75280898876404%progress: 99.15730337078652%progress: 99.71910112359551%\n",
      "cell count accuracy dice >0.7: 0.6573033707865169\n",
      "cell count accuracy iou >0.5: 0.6966292134831461\n",
      "cell count accuracy dice >0.5: 0.8792134831460674\n",
      "avg iou: 0.5871401200492166\n",
      "avg dice: 0.7037163192584189\n",
      "ari: 0.9916921825320735\n",
      "voi: (1.3425775220487877, 0.9849191099334342)\n",
      "----------\n",
      "65\n"
     ]
    },
    {
     "name": "stderr",
     "output_type": "stream",
     "text": [
      "/var/folders/qq/9q6wphrj19z8xt4qcffm8df80000gn/T/ipykernel_26706/32324825.py:21: DeprecationWarning: `np.float` is a deprecated alias for the builtin `float`. To silence this warning, use `float` by itself. Doing this will not modify any behavior and is safe. If you specifically wanted the numpy scalar type, use `np.float64` here.\n",
      "Deprecated in NumPy 1.20; for more details and guidance: https://numpy.org/devdocs/release/1.20.0-notes.html#deprecations\n",
      "  iou=np.array(accuracy_record[:,1]>0.7, dtype=np.float)\n",
      "/var/folders/qq/9q6wphrj19z8xt4qcffm8df80000gn/T/ipykernel_26706/32324825.py:24: DeprecationWarning: `np.float` is a deprecated alias for the builtin `float`. To silence this warning, use `float` by itself. Doing this will not modify any behavior and is safe. If you specifically wanted the numpy scalar type, use `np.float64` here.\n",
      "Deprecated in NumPy 1.20; for more details and guidance: https://numpy.org/devdocs/release/1.20.0-notes.html#deprecations\n",
      "  dice=np.array(accuracy_record[:,2]>0.7, dtype=np.float)\n",
      "/var/folders/qq/9q6wphrj19z8xt4qcffm8df80000gn/T/ipykernel_26706/32324825.py:27: DeprecationWarning: `np.float` is a deprecated alias for the builtin `float`. To silence this warning, use `float` by itself. Doing this will not modify any behavior and is safe. If you specifically wanted the numpy scalar type, use `np.float64` here.\n",
      "Deprecated in NumPy 1.20; for more details and guidance: https://numpy.org/devdocs/release/1.20.0-notes.html#deprecations\n",
      "  iou=np.array(accuracy_record[:,1]>0.5, dtype=np.float)\n",
      "/var/folders/qq/9q6wphrj19z8xt4qcffm8df80000gn/T/ipykernel_26706/32324825.py:30: DeprecationWarning: `np.float` is a deprecated alias for the builtin `float`. To silence this warning, use `float` by itself. Doing this will not modify any behavior and is safe. If you specifically wanted the numpy scalar type, use `np.float64` here.\n",
      "Deprecated in NumPy 1.20; for more details and guidance: https://numpy.org/devdocs/release/1.20.0-notes.html#deprecations\n",
      "  dice=np.array(accuracy_record[:,2]>0.5, dtype=np.float)\n"
     ]
    },
    {
     "name": "stdout",
     "output_type": "stream",
     "text": [
      "Feed raw img to model. Use different transposes\n",
      "1: Transpose the image to be: [0, 1, 2]\n",
      "Progress of segment_3d_img: 0%\r"
     ]
    },
    {
     "name": "stderr",
     "output_type": "stream",
     "text": [
      "/opt/anaconda3/envs/CellSeg3D_torch/lib/python3.8/site-packages/torch/nn/functional.py:1944: UserWarning: nn.functional.sigmoid is deprecated. Use torch.sigmoid instead.\n",
      "  warnings.warn(\"nn.functional.sigmoid is deprecated. Use torch.sigmoid instead.\")\n"
     ]
    },
    {
     "name": "stdout",
     "output_type": "stream",
     "text": [
      "argmax\rs of segment_3d_img: 99%Get model semantic seg by combination\n",
      "getting neighbor pairs\n",
      "adding neighbor ids\n",
      "calculate edges\n",
      "build networkx graph\n",
      "predict...\n",
      "using prediction for single-output model\n",
      "number of negatives: 44\n",
      "everything predicted!\n"
     ]
    },
    {
     "name": "stderr",
     "output_type": "stream",
     "text": [
      "/var/folders/qq/9q6wphrj19z8xt4qcffm8df80000gn/T/ipykernel_26706/275917005.py:30: DeprecationWarning: `np.int` is a deprecated alias for the builtin `int`. To silence this warning, use `int` by itself. Doing this will not modify any behavior and is safe. When replacing `np.int`, you may wish to use e.g. `np.int64` or `np.int32` to specify the precision. If you wish to review your current use, check the release note link for additional information.\n",
      "Deprecated in NumPy 1.20; for more details and guidance: https://numpy.org/devdocs/release/1.20.0-notes.html#deprecations\n",
      "  voi = VOI(seg_final.astype(np.int),hand_seg.astype(np.int))\n"
     ]
    },
    {
     "name": "stdout",
     "output_type": "stream",
     "text": [
      "(181, 331, 160) --> (90, 165, 80)\n",
      "progress: 99.67105263157895%\r\rrogress: 12.828947368421053%progress: 14.144736842105262%progress: 15.460526315789474%progress: 16.776315789473685%progress: 19.407894736842106%progress: 21.052631578947366%progress: 22.039473684210524%progress: 23.026315789473685%progress: 24.013157894736842%progress: 24.671052631578945%progress: 25.32894736842105%progress: 26.644736842105267%progress: 27.631578947368425%progress: 28.947368421052634%progress: 29.605263157894733%progress: 30.263157894736842%progress: 31.25%progress: 32.23684210526316%progress: 33.223684210526315%progress: 33.881578947368425%progress: 34.53947368421053%progress: 35.526315789473685%progress: 36.51315789473684%progress: 37.17105263157895%progress: 37.82894736842105%progress: 38.81578947368421%progress: 39.80263157894737%progress: 40.78947368421053%progress: 41.776315789473685%progress: 42.43421052631579%progress: 43.42105263157895%progress: 44.73684210526316%progress: 45.723684210526315%progress: 46.381578947368425%progress: 47.368421052631575%progress: 48.35526315789473%progress: 49.67105263157895%progress: 50.6578947368421%progress: 51.64473684210527%progress: 52.63157894736842%progress: 53.61842105263158%progress: 54.60526315789473%progress: 55.92105263157895%progress: 57.23684210526315%progress: 58.223684210526315%progress: 60.19736842105263%progress: 61.18421052631579%progress: 62.17105263157895%progress: 63.48684210526315%progress: 64.47368421052632%progress: 65.78947368421053%progress: 67.10526315789474%progress: 68.0921052631579%progress: 69.07894736842105%progress: 70.06578947368422%progress: 71.38157894736842%progress: 72.36842105263158%progress: 73.68421052631578%progress: 74.67105263157895%progress: 76.31578947368422%progress: 77.30263157894737%progress: 78.61842105263158%progress: 79.93421052631578%progress: 81.57894736842105%progress: 82.56578947368422%progress: 83.88157894736842%progress: 84.86842105263158%progress: 85.85526315789474%progress: 86.8421052631579%progress: 88.48684210526315%progress: 89.47368421052632%progress: 90.46052631578947%progress: 91.11842105263158%progress: 92.76315789473685%progress: 94.07894736842105%progress: 95.39473684210526%progress: 96.38157894736842%progress: 98.02631578947368%progress: 98.68421052631578%"
     ]
    },
    {
     "name": "stderr",
     "output_type": "stream",
     "text": [
      "/var/folders/qq/9q6wphrj19z8xt4qcffm8df80000gn/T/ipykernel_26706/32324825.py:21: DeprecationWarning: `np.float` is a deprecated alias for the builtin `float`. To silence this warning, use `float` by itself. Doing this will not modify any behavior and is safe. If you specifically wanted the numpy scalar type, use `np.float64` here.\n",
      "Deprecated in NumPy 1.20; for more details and guidance: https://numpy.org/devdocs/release/1.20.0-notes.html#deprecations\n",
      "  iou=np.array(accuracy_record[:,1]>0.7, dtype=np.float)\n",
      "/var/folders/qq/9q6wphrj19z8xt4qcffm8df80000gn/T/ipykernel_26706/32324825.py:24: DeprecationWarning: `np.float` is a deprecated alias for the builtin `float`. To silence this warning, use `float` by itself. Doing this will not modify any behavior and is safe. If you specifically wanted the numpy scalar type, use `np.float64` here.\n",
      "Deprecated in NumPy 1.20; for more details and guidance: https://numpy.org/devdocs/release/1.20.0-notes.html#deprecations\n",
      "  dice=np.array(accuracy_record[:,2]>0.7, dtype=np.float)\n",
      "/var/folders/qq/9q6wphrj19z8xt4qcffm8df80000gn/T/ipykernel_26706/32324825.py:27: DeprecationWarning: `np.float` is a deprecated alias for the builtin `float`. To silence this warning, use `float` by itself. Doing this will not modify any behavior and is safe. If you specifically wanted the numpy scalar type, use `np.float64` here.\n",
      "Deprecated in NumPy 1.20; for more details and guidance: https://numpy.org/devdocs/release/1.20.0-notes.html#deprecations\n",
      "  iou=np.array(accuracy_record[:,1]>0.5, dtype=np.float)\n",
      "/var/folders/qq/9q6wphrj19z8xt4qcffm8df80000gn/T/ipykernel_26706/32324825.py:30: DeprecationWarning: `np.float` is a deprecated alias for the builtin `float`. To silence this warning, use `float` by itself. Doing this will not modify any behavior and is safe. If you specifically wanted the numpy scalar type, use `np.float64` here.\n",
      "Deprecated in NumPy 1.20; for more details and guidance: https://numpy.org/devdocs/release/1.20.0-notes.html#deprecations\n",
      "  dice=np.array(accuracy_record[:,2]>0.5, dtype=np.float)\n"
     ]
    },
    {
     "name": "stdout",
     "output_type": "stream",
     "text": [
      "cell count accuracy iou >0.7: 0.3815789473684211\n",
      "cell count accuracy dice >0.7: 0.5756578947368421\n",
      "cell count accuracy iou >0.5: 0.625\n",
      "cell count accuracy dice >0.5: 0.8223684210526315\n",
      "avg iou: 0.5633780969747979\n",
      "avg dice: 0.6887969939546709\n",
      "ari: 0.9923975834958642\n",
      "voi: (1.2863221885667562, 1.118512233178023)\n",
      "----------\n",
      "90\n",
      "Feed raw img to model. Use different transposes\n",
      "1: Transpose the image to be: [0, 1, 2]\n",
      "Progress of segment_3d_img: 0%\r"
     ]
    },
    {
     "name": "stderr",
     "output_type": "stream",
     "text": [
      "/opt/anaconda3/envs/CellSeg3D_torch/lib/python3.8/site-packages/torch/nn/functional.py:1944: UserWarning: nn.functional.sigmoid is deprecated. Use torch.sigmoid instead.\n",
      "  warnings.warn(\"nn.functional.sigmoid is deprecated. Use torch.sigmoid instead.\")\n"
     ]
    },
    {
     "name": "stdout",
     "output_type": "stream",
     "text": [
      "argmax\rs of segment_3d_img: 99%Get model semantic seg by combination\n",
      "getting neighbor pairs\n",
      "adding neighbor ids\n",
      "calculate edges\n",
      "build networkx graph\n",
      "predict...\n",
      "using prediction for single-output model\n",
      "number of negatives: 4\n",
      "everything predicted!\n"
     ]
    },
    {
     "name": "stderr",
     "output_type": "stream",
     "text": [
      "/var/folders/qq/9q6wphrj19z8xt4qcffm8df80000gn/T/ipykernel_26706/275917005.py:30: DeprecationWarning: `np.int` is a deprecated alias for the builtin `int`. To silence this warning, use `int` by itself. Doing this will not modify any behavior and is safe. When replacing `np.int`, you may wish to use e.g. `np.int64` or `np.int32` to specify the precision. If you wish to review your current use, check the release note link for additional information.\n",
      "Deprecated in NumPy 1.20; for more details and guidance: https://numpy.org/devdocs/release/1.20.0-notes.html#deprecations\n",
      "  voi = VOI(seg_final.astype(np.int),hand_seg.astype(np.int))\n"
     ]
    },
    {
     "name": "stdout",
     "output_type": "stream",
     "text": [
      "(181, 331, 160) --> (90, 165, 80)\n",
      "progress: 99.71988795518207%\rrogress: 84.87394957983193%progress: 85.99439775910365%progress: 86.83473389355743%progress: 88.23529411764706%progress: 89.07563025210085%progress: 90.47619047619048%progress: 91.31652661064426%progress: 92.15686274509804%progress: 92.99719887955182%progress: 94.9579831932773%progress: 95.51820728291317%progress: 97.19887955182072%progress: 98.31932773109243%progress: 99.43977591036415%cell count accuracy iou >0.7: 0.40896358543417366\n",
      "cell count accuracy dice >0.7: 0.5882352941176471\n",
      "cell count accuracy iou >0.5: 0.6218487394957983\n",
      "cell count accuracy dice >0.5: 0.7647058823529411\n",
      "avg iou: 0.5362822886550517\n",
      "avg dice: 0.646077097983149\n",
      "ari: 0.9937831049704441\n",
      "voi: (1.1996413859049595, 1.0637869983848578)\n",
      "----------\n"
     ]
    },
    {
     "name": "stderr",
     "output_type": "stream",
     "text": [
      "/var/folders/qq/9q6wphrj19z8xt4qcffm8df80000gn/T/ipykernel_26706/32324825.py:21: DeprecationWarning: `np.float` is a deprecated alias for the builtin `float`. To silence this warning, use `float` by itself. Doing this will not modify any behavior and is safe. If you specifically wanted the numpy scalar type, use `np.float64` here.\n",
      "Deprecated in NumPy 1.20; for more details and guidance: https://numpy.org/devdocs/release/1.20.0-notes.html#deprecations\n",
      "  iou=np.array(accuracy_record[:,1]>0.7, dtype=np.float)\n",
      "/var/folders/qq/9q6wphrj19z8xt4qcffm8df80000gn/T/ipykernel_26706/32324825.py:24: DeprecationWarning: `np.float` is a deprecated alias for the builtin `float`. To silence this warning, use `float` by itself. Doing this will not modify any behavior and is safe. If you specifically wanted the numpy scalar type, use `np.float64` here.\n",
      "Deprecated in NumPy 1.20; for more details and guidance: https://numpy.org/devdocs/release/1.20.0-notes.html#deprecations\n",
      "  dice=np.array(accuracy_record[:,2]>0.7, dtype=np.float)\n",
      "/var/folders/qq/9q6wphrj19z8xt4qcffm8df80000gn/T/ipykernel_26706/32324825.py:27: DeprecationWarning: `np.float` is a deprecated alias for the builtin `float`. To silence this warning, use `float` by itself. Doing this will not modify any behavior and is safe. If you specifically wanted the numpy scalar type, use `np.float64` here.\n",
      "Deprecated in NumPy 1.20; for more details and guidance: https://numpy.org/devdocs/release/1.20.0-notes.html#deprecations\n",
      "  iou=np.array(accuracy_record[:,1]>0.5, dtype=np.float)\n",
      "/var/folders/qq/9q6wphrj19z8xt4qcffm8df80000gn/T/ipykernel_26706/32324825.py:30: DeprecationWarning: `np.float` is a deprecated alias for the builtin `float`. To silence this warning, use `float` by itself. Doing this will not modify any behavior and is safe. If you specifically wanted the numpy scalar type, use `np.float64` here.\n",
      "Deprecated in NumPy 1.20; for more details and guidance: https://numpy.org/devdocs/release/1.20.0-notes.html#deprecations\n",
      "  dice=np.array(accuracy_record[:,2]>0.5, dtype=np.float)\n"
     ]
    }
   ],
   "source": [
    "# mass process\n",
    "seg_final_dict={}\n",
    "accuracy_record_dict = {}\n",
    "ari_dict = {}\n",
    "voi_dict = {}\n",
    "for test_file in HMS_data_dict_test.keys():\n",
    "    print(test_file)\n",
    "    raw_img=np.load(HMS_data_dict_test[test_file][\"raw\"])\n",
    "    hand_seg=np.load(HMS_data_dict_test[test_file][\"ins\"])\n",
    "    accuracy_record, hand_seg_after_accuracy, seg_final_after_accuracy, ari, voi, seg_final=\\\n",
    "    pipeline(raw_img, hand_seg, model, device,\n",
    "             crop_cube_size=64,\n",
    "             stride=32,\n",
    "             test_file_name=test_file)\n",
    "    \n",
    "    seg_final_dict[test_file] = seg_final\n",
    "    accuracy_record_dict[test_file] = accuracy_record\n",
    "    ari_dict[test_file] = ari\n",
    "    voi_dict[test_file] = voi\n",
    "    \n",
    "    iou=np.array(accuracy_record[:,1]>0.7, dtype=np.float)\n",
    "    print('cell count accuracy iou >0.7: '+str(sum(iou)/len(iou)))\n",
    "\n",
    "    dice=np.array(accuracy_record[:,2]>0.7, dtype=np.float)\n",
    "    print('cell count accuracy dice >0.7: '+str(sum(dice)/len(dice)))\n",
    "    \n",
    "    iou=np.array(accuracy_record[:,1]>0.5, dtype=np.float)\n",
    "    print('cell count accuracy iou >0.5: '+str(sum(iou)/len(iou)))\n",
    "\n",
    "    dice=np.array(accuracy_record[:,2]>0.5, dtype=np.float)\n",
    "    print('cell count accuracy dice >0.5: '+str(sum(dice)/len(dice)))\n",
    "\n",
    "    print('avg iou: '+str(np.mean(accuracy_record[:,1])))\n",
    "    print('avg dice: '+str(np.mean(accuracy_record[:,2])))\n",
    "    print(\"ari: \"+str(ari))\n",
    "    print(\"voi: \"+str(voi))\n",
    "    print(\"----------\")"
   ]
  },
  {
   "cell_type": "code",
   "execution_count": 12,
   "metadata": {},
   "outputs": [
    {
     "name": "stdout",
     "output_type": "stream",
     "text": [
      "135\n",
      "cell count accuracy iou >0.7: 0.3404255319148936\n",
      "cell count accuracy dice >0.7: 0.5797872340425532\n",
      "cell count accuracy iou >0.5: 0.625\n",
      "cell count accuracy dice >0.5: 0.8297872340425532\n",
      "avg iou: 0.5433609635232294\n",
      "avg dice: 0.6653032158996831\n",
      "ari: 0.990809901905031\n",
      "voi: (1.4617287287437442, 1.0257363522033205)\n",
      "----------\n",
      "120\n",
      "cell count accuracy iou >0.7: 0.449438202247191\n",
      "cell count accuracy dice >0.7: 0.6573033707865169\n",
      "cell count accuracy iou >0.5: 0.6966292134831461\n",
      "cell count accuracy dice >0.5: 0.8792134831460674\n",
      "avg iou: 0.5871401200492166\n",
      "avg dice: 0.7037163192584189\n",
      "ari: 0.9916921825320735\n",
      "voi: (1.3425775220487877, 0.9849191099334342)\n",
      "----------\n",
      "65\n",
      "cell count accuracy iou >0.7: 0.3815789473684211\n",
      "cell count accuracy dice >0.7: 0.5756578947368421\n",
      "cell count accuracy iou >0.5: 0.625\n",
      "cell count accuracy dice >0.5: 0.8223684210526315\n",
      "avg iou: 0.5633780969747979\n",
      "avg dice: 0.6887969939546709\n",
      "ari: 0.9923975834958642\n",
      "voi: (1.2863221885667562, 1.118512233178023)\n",
      "----------\n",
      "90\n",
      "cell count accuracy iou >0.7: 0.40896358543417366\n",
      "cell count accuracy dice >0.7: 0.5882352941176471\n",
      "cell count accuracy iou >0.5: 0.6218487394957983\n",
      "cell count accuracy dice >0.5: 0.7647058823529411\n",
      "avg iou: 0.5362822886550517\n",
      "avg dice: 0.646077097983149\n",
      "ari: 0.9937831049704441\n",
      "voi: (1.1996413859049595, 1.0637869983848578)\n",
      "----------\n"
     ]
    },
    {
     "name": "stderr",
     "output_type": "stream",
     "text": [
      "/var/folders/qq/9q6wphrj19z8xt4qcffm8df80000gn/T/ipykernel_26706/1383077988.py:6: DeprecationWarning: `np.float` is a deprecated alias for the builtin `float`. To silence this warning, use `float` by itself. Doing this will not modify any behavior and is safe. If you specifically wanted the numpy scalar type, use `np.float64` here.\n",
      "Deprecated in NumPy 1.20; for more details and guidance: https://numpy.org/devdocs/release/1.20.0-notes.html#deprecations\n",
      "  iou=np.array(accuracy_record[:,1]>0.7, dtype=np.float)\n",
      "/var/folders/qq/9q6wphrj19z8xt4qcffm8df80000gn/T/ipykernel_26706/1383077988.py:9: DeprecationWarning: `np.float` is a deprecated alias for the builtin `float`. To silence this warning, use `float` by itself. Doing this will not modify any behavior and is safe. If you specifically wanted the numpy scalar type, use `np.float64` here.\n",
      "Deprecated in NumPy 1.20; for more details and guidance: https://numpy.org/devdocs/release/1.20.0-notes.html#deprecations\n",
      "  dice=np.array(accuracy_record[:,2]>0.7, dtype=np.float)\n",
      "/var/folders/qq/9q6wphrj19z8xt4qcffm8df80000gn/T/ipykernel_26706/1383077988.py:12: DeprecationWarning: `np.float` is a deprecated alias for the builtin `float`. To silence this warning, use `float` by itself. Doing this will not modify any behavior and is safe. If you specifically wanted the numpy scalar type, use `np.float64` here.\n",
      "Deprecated in NumPy 1.20; for more details and guidance: https://numpy.org/devdocs/release/1.20.0-notes.html#deprecations\n",
      "  iou=np.array(accuracy_record[:,1]>0.5, dtype=np.float)\n",
      "/var/folders/qq/9q6wphrj19z8xt4qcffm8df80000gn/T/ipykernel_26706/1383077988.py:15: DeprecationWarning: `np.float` is a deprecated alias for the builtin `float`. To silence this warning, use `float` by itself. Doing this will not modify any behavior and is safe. If you specifically wanted the numpy scalar type, use `np.float64` here.\n",
      "Deprecated in NumPy 1.20; for more details and guidance: https://numpy.org/devdocs/release/1.20.0-notes.html#deprecations\n",
      "  dice=np.array(accuracy_record[:,2]>0.5, dtype=np.float)\n"
     ]
    }
   ],
   "source": [
    "for item in seg_final_dict.keys():\n",
    "    print(item)\n",
    "    accuracy_record = accuracy_record_dict[item]\n",
    "    ari = ari_dict[item]\n",
    "    voi = voi_dict[item]\n",
    "    iou=np.array(accuracy_record[:,1]>0.7, dtype=np.float)\n",
    "    print('cell count accuracy iou >0.7: '+str(sum(iou)/len(iou)))\n",
    "\n",
    "    dice=np.array(accuracy_record[:,2]>0.7, dtype=np.float)\n",
    "    print('cell count accuracy dice >0.7: '+str(sum(dice)/len(dice)))\n",
    "    \n",
    "    iou=np.array(accuracy_record[:,1]>0.5, dtype=np.float)\n",
    "    print('cell count accuracy iou >0.5: '+str(sum(iou)/len(iou)))\n",
    "\n",
    "    dice=np.array(accuracy_record[:,2]>0.5, dtype=np.float)\n",
    "    print('cell count accuracy dice >0.5: '+str(sum(dice)/len(dice)))\n",
    "\n",
    "    print('avg iou: '+str(np.mean(accuracy_record[:,1])))\n",
    "    print('avg dice: '+str(np.mean(accuracy_record[:,2])))\n",
    "    print(\"ari: \"+str(ari))\n",
    "    print(\"voi: \"+str(voi))\n",
    "    print(\"----------\")"
   ]
  }
 ],
 "metadata": {
  "kernelspec": {
   "display_name": "Python 3 (ipykernel)",
   "language": "python",
   "name": "python3"
  },
  "language_info": {
   "codemirror_mode": {
    "name": "ipython",
    "version": 3
   },
   "file_extension": ".py",
   "mimetype": "text/x-python",
   "name": "python",
   "nbconvert_exporter": "python",
   "pygments_lexer": "ipython3",
   "version": "3.9.7"
  }
 },
 "nbformat": 4,
 "nbformat_minor": 2
}