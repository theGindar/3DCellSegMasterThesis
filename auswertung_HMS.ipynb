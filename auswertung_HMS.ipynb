{
 "cells": [
  {
   "cell_type": "code",
   "execution_count": 1,
   "metadata": {
    "collapsed": true
   },
   "outputs": [],
   "source": [
    "\n",
    "import pandas as pd\n",
    "import numpy as np\n",
    "from func.ultis import load_obj"
   ]
  },
  {
   "cell_type": "code",
   "execution_count": 2,
   "outputs": [],
   "source": [
    "HMS_gasp = pd.read_csv('output/results_test_model_HMS_unet_gasp.csv')"
   ],
   "metadata": {
    "collapsed": false,
    "pycharm": {
     "name": "#%%\n"
    }
   }
  },
  {
   "cell_type": "code",
   "execution_count": 3,
   "outputs": [
    {
     "data": {
      "text/plain": "       Unnamed: 0  acc_iou_0_7  acc_iou_0_5  acc_dice_0_7  acc_dice_0_5  \\\ncount    4.000000     4.000000     4.000000      4.000000      4.000000   \nmean     1.500000     0.060410     0.165079      0.149037      0.323557   \nstd      1.290994     0.013802     0.007180      0.010987      0.018791   \nmin      0.000000     0.042553     0.156915      0.132979      0.303191   \n25%      0.750000     0.054756     0.160117      0.146690      0.315966   \n50%      1.500000     0.061715     0.166026      0.152933      0.321177   \n75%      2.250000     0.067370     0.170988      0.155280      0.328768   \nmax      3.000000     0.075658     0.171348      0.157303      0.348684   \n\n        avg_iou  avg_dice     voi_1     voi_2  \ncount  4.000000  4.000000  4.000000  4.000000  \nmean   0.266920  0.377741  1.286437  2.978145  \nstd    0.012981  0.018303  0.062592  0.070808  \nmin    0.253408  0.355317  1.197715  2.937005  \n25%    0.257007  0.366611  1.271359  2.940662  \n50%    0.268032  0.380780  1.301961  2.945752  \n75%    0.277944  0.391910  1.317039  2.983235  \nmax    0.278207  0.394086  1.344112  3.084071  ",
      "text/html": "<div>\n<style scoped>\n    .dataframe tbody tr th:only-of-type {\n        vertical-align: middle;\n    }\n\n    .dataframe tbody tr th {\n        vertical-align: top;\n    }\n\n    .dataframe thead th {\n        text-align: right;\n    }\n</style>\n<table border=\"1\" class=\"dataframe\">\n  <thead>\n    <tr style=\"text-align: right;\">\n      <th></th>\n      <th>Unnamed: 0</th>\n      <th>acc_iou_0_7</th>\n      <th>acc_iou_0_5</th>\n      <th>acc_dice_0_7</th>\n      <th>acc_dice_0_5</th>\n      <th>avg_iou</th>\n      <th>avg_dice</th>\n      <th>voi_1</th>\n      <th>voi_2</th>\n    </tr>\n  </thead>\n  <tbody>\n    <tr>\n      <th>count</th>\n      <td>4.000000</td>\n      <td>4.000000</td>\n      <td>4.000000</td>\n      <td>4.000000</td>\n      <td>4.000000</td>\n      <td>4.000000</td>\n      <td>4.000000</td>\n      <td>4.000000</td>\n      <td>4.000000</td>\n    </tr>\n    <tr>\n      <th>mean</th>\n      <td>1.500000</td>\n      <td>0.060410</td>\n      <td>0.165079</td>\n      <td>0.149037</td>\n      <td>0.323557</td>\n      <td>0.266920</td>\n      <td>0.377741</td>\n      <td>1.286437</td>\n      <td>2.978145</td>\n    </tr>\n    <tr>\n      <th>std</th>\n      <td>1.290994</td>\n      <td>0.013802</td>\n      <td>0.007180</td>\n      <td>0.010987</td>\n      <td>0.018791</td>\n      <td>0.012981</td>\n      <td>0.018303</td>\n      <td>0.062592</td>\n      <td>0.070808</td>\n    </tr>\n    <tr>\n      <th>min</th>\n      <td>0.000000</td>\n      <td>0.042553</td>\n      <td>0.156915</td>\n      <td>0.132979</td>\n      <td>0.303191</td>\n      <td>0.253408</td>\n      <td>0.355317</td>\n      <td>1.197715</td>\n      <td>2.937005</td>\n    </tr>\n    <tr>\n      <th>25%</th>\n      <td>0.750000</td>\n      <td>0.054756</td>\n      <td>0.160117</td>\n      <td>0.146690</td>\n      <td>0.315966</td>\n      <td>0.257007</td>\n      <td>0.366611</td>\n      <td>1.271359</td>\n      <td>2.940662</td>\n    </tr>\n    <tr>\n      <th>50%</th>\n      <td>1.500000</td>\n      <td>0.061715</td>\n      <td>0.166026</td>\n      <td>0.152933</td>\n      <td>0.321177</td>\n      <td>0.268032</td>\n      <td>0.380780</td>\n      <td>1.301961</td>\n      <td>2.945752</td>\n    </tr>\n    <tr>\n      <th>75%</th>\n      <td>2.250000</td>\n      <td>0.067370</td>\n      <td>0.170988</td>\n      <td>0.155280</td>\n      <td>0.328768</td>\n      <td>0.277944</td>\n      <td>0.391910</td>\n      <td>1.317039</td>\n      <td>2.983235</td>\n    </tr>\n    <tr>\n      <th>max</th>\n      <td>3.000000</td>\n      <td>0.075658</td>\n      <td>0.171348</td>\n      <td>0.157303</td>\n      <td>0.348684</td>\n      <td>0.278207</td>\n      <td>0.394086</td>\n      <td>1.344112</td>\n      <td>3.084071</td>\n    </tr>\n  </tbody>\n</table>\n</div>"
     },
     "execution_count": 3,
     "metadata": {},
     "output_type": "execute_result"
    }
   ],
   "source": [
    "HMS_gasp.describe()"
   ],
   "metadata": {
    "collapsed": false,
    "pycharm": {
     "name": "#%%\n"
    }
   }
  },
  {
   "cell_type": "code",
   "execution_count": null,
   "outputs": [],
   "source": [],
   "metadata": {
    "collapsed": false,
    "pycharm": {
     "name": "#%%\n"
    }
   }
  }
 ],
 "metadata": {
  "kernelspec": {
   "display_name": "Python 3",
   "language": "python",
   "name": "python3"
  },
  "language_info": {
   "codemirror_mode": {
    "name": "ipython",
    "version": 2
   },
   "file_extension": ".py",
   "mimetype": "text/x-python",
   "name": "python",
   "nbconvert_exporter": "python",
   "pygments_lexer": "ipython2",
   "version": "2.7.6"
  }
 },
 "nbformat": 4,
 "nbformat_minor": 0
}