{
 "cells": [
  {
   "cell_type": "code",
   "execution_count": 1,
   "metadata": {
    "collapsed": true
   },
   "outputs": [],
   "source": [
    "\n",
    "import pandas as pd\n",
    "import numpy as np\n",
    "from func.ultis import load_obj"
   ]
  },
  {
   "cell_type": "code",
   "execution_count": 2,
   "outputs": [],
   "source": [
    "HMS_gasp = pd.read_csv('output/results_test_model_HMS_unet_gasp.csv')"
   ],
   "metadata": {
    "collapsed": false,
    "pycharm": {
     "name": "#%%\n"
    }
   }
  },
  {
   "cell_type": "code",
   "execution_count": 3,
   "outputs": [
    {
     "data": {
      "text/plain": "       Unnamed: 0  acc_iou_0_7  acc_iou_0_5  acc_dice_0_7  acc_dice_0_5  \\\ncount    4.000000     4.000000     4.000000      4.000000      4.000000   \nmean     1.500000     0.169135     0.354599      0.331953      0.517933   \nstd      1.290994     0.018610     0.046575      0.046688      0.044760   \nmin      0.000000     0.143617     0.325658      0.303191      0.478992   \n25%      0.750000     0.164194     0.330750      0.307706      0.479945   \n50%      1.500000     0.172361     0.334291      0.311468      0.514068   \n75%      2.250000     0.177303     0.358140      0.335715      0.552056   \nmax      3.000000     0.188202     0.424157      0.401685      0.564607   \n\n        avg_iou  avg_dice     voi_1     voi_2  \ncount  4.000000  4.000000  4.000000  4.000000  \nmean   0.376881  0.491236  1.278901  2.342597  \nstd    0.024836  0.029925  0.056862  0.122350  \nmin    0.352078  0.456937  1.198352  2.224966  \n25%    0.365174  0.478164  1.267397  2.246844  \n50%    0.372130  0.489214  1.292588  2.334039  \n75%    0.383837  0.502287  1.304092  2.429791  \nmax    0.411185  0.529580  1.332075  2.477342  ",
      "text/html": "<div>\n<style scoped>\n    .dataframe tbody tr th:only-of-type {\n        vertical-align: middle;\n    }\n\n    .dataframe tbody tr th {\n        vertical-align: top;\n    }\n\n    .dataframe thead th {\n        text-align: right;\n    }\n</style>\n<table border=\"1\" class=\"dataframe\">\n  <thead>\n    <tr style=\"text-align: right;\">\n      <th></th>\n      <th>Unnamed: 0</th>\n      <th>acc_iou_0_7</th>\n      <th>acc_iou_0_5</th>\n      <th>acc_dice_0_7</th>\n      <th>acc_dice_0_5</th>\n      <th>avg_iou</th>\n      <th>avg_dice</th>\n      <th>voi_1</th>\n      <th>voi_2</th>\n    </tr>\n  </thead>\n  <tbody>\n    <tr>\n      <th>count</th>\n      <td>4.000000</td>\n      <td>4.000000</td>\n      <td>4.000000</td>\n      <td>4.000000</td>\n      <td>4.000000</td>\n      <td>4.000000</td>\n      <td>4.000000</td>\n      <td>4.000000</td>\n      <td>4.000000</td>\n    </tr>\n    <tr>\n      <th>mean</th>\n      <td>1.500000</td>\n      <td>0.169135</td>\n      <td>0.354599</td>\n      <td>0.331953</td>\n      <td>0.517933</td>\n      <td>0.376881</td>\n      <td>0.491236</td>\n      <td>1.278901</td>\n      <td>2.342597</td>\n    </tr>\n    <tr>\n      <th>std</th>\n      <td>1.290994</td>\n      <td>0.018610</td>\n      <td>0.046575</td>\n      <td>0.046688</td>\n      <td>0.044760</td>\n      <td>0.024836</td>\n      <td>0.029925</td>\n      <td>0.056862</td>\n      <td>0.122350</td>\n    </tr>\n    <tr>\n      <th>min</th>\n      <td>0.000000</td>\n      <td>0.143617</td>\n      <td>0.325658</td>\n      <td>0.303191</td>\n      <td>0.478992</td>\n      <td>0.352078</td>\n      <td>0.456937</td>\n      <td>1.198352</td>\n      <td>2.224966</td>\n    </tr>\n    <tr>\n      <th>25%</th>\n      <td>0.750000</td>\n      <td>0.164194</td>\n      <td>0.330750</td>\n      <td>0.307706</td>\n      <td>0.479945</td>\n      <td>0.365174</td>\n      <td>0.478164</td>\n      <td>1.267397</td>\n      <td>2.246844</td>\n    </tr>\n    <tr>\n      <th>50%</th>\n      <td>1.500000</td>\n      <td>0.172361</td>\n      <td>0.334291</td>\n      <td>0.311468</td>\n      <td>0.514068</td>\n      <td>0.372130</td>\n      <td>0.489214</td>\n      <td>1.292588</td>\n      <td>2.334039</td>\n    </tr>\n    <tr>\n      <th>75%</th>\n      <td>2.250000</td>\n      <td>0.177303</td>\n      <td>0.358140</td>\n      <td>0.335715</td>\n      <td>0.552056</td>\n      <td>0.383837</td>\n      <td>0.502287</td>\n      <td>1.304092</td>\n      <td>2.429791</td>\n    </tr>\n    <tr>\n      <th>max</th>\n      <td>3.000000</td>\n      <td>0.188202</td>\n      <td>0.424157</td>\n      <td>0.401685</td>\n      <td>0.564607</td>\n      <td>0.411185</td>\n      <td>0.529580</td>\n      <td>1.332075</td>\n      <td>2.477342</td>\n    </tr>\n  </tbody>\n</table>\n</div>"
     },
     "execution_count": 3,
     "metadata": {},
     "output_type": "execute_result"
    }
   ],
   "source": [
    "HMS_gasp.describe()"
   ],
   "metadata": {
    "collapsed": false,
    "pycharm": {
     "name": "#%%\n"
    }
   }
  },
  {
   "cell_type": "code",
   "execution_count": 4,
   "outputs": [
    {
     "data": {
      "text/plain": "   Unnamed: 0  acc_iou_0_7  acc_iou_0_5  acc_dice_0_7  acc_dice_0_5   avg_iou  \\\n0           0     0.171053     0.325658      0.309211      0.480263  0.369539   \n1           1     0.143617     0.332447      0.303191      0.547872  0.374721   \n2           2     0.188202     0.424157      0.401685      0.564607  0.411185   \n3           3     0.173669     0.336134      0.313725      0.478992  0.352078   \n\n   avg_dice     voi_1     voi_2  \n0  0.485240  1.198352  2.413941  \n1  0.493189  1.332075  2.254137  \n2  0.529580  1.294764  2.224966  \n3  0.456937  1.290412  2.477342  ",
      "text/html": "<div>\n<style scoped>\n    .dataframe tbody tr th:only-of-type {\n        vertical-align: middle;\n    }\n\n    .dataframe tbody tr th {\n        vertical-align: top;\n    }\n\n    .dataframe thead th {\n        text-align: right;\n    }\n</style>\n<table border=\"1\" class=\"dataframe\">\n  <thead>\n    <tr style=\"text-align: right;\">\n      <th></th>\n      <th>Unnamed: 0</th>\n      <th>acc_iou_0_7</th>\n      <th>acc_iou_0_5</th>\n      <th>acc_dice_0_7</th>\n      <th>acc_dice_0_5</th>\n      <th>avg_iou</th>\n      <th>avg_dice</th>\n      <th>voi_1</th>\n      <th>voi_2</th>\n    </tr>\n  </thead>\n  <tbody>\n    <tr>\n      <th>0</th>\n      <td>0</td>\n      <td>0.171053</td>\n      <td>0.325658</td>\n      <td>0.309211</td>\n      <td>0.480263</td>\n      <td>0.369539</td>\n      <td>0.485240</td>\n      <td>1.198352</td>\n      <td>2.413941</td>\n    </tr>\n    <tr>\n      <th>1</th>\n      <td>1</td>\n      <td>0.143617</td>\n      <td>0.332447</td>\n      <td>0.303191</td>\n      <td>0.547872</td>\n      <td>0.374721</td>\n      <td>0.493189</td>\n      <td>1.332075</td>\n      <td>2.254137</td>\n    </tr>\n    <tr>\n      <th>2</th>\n      <td>2</td>\n      <td>0.188202</td>\n      <td>0.424157</td>\n      <td>0.401685</td>\n      <td>0.564607</td>\n      <td>0.411185</td>\n      <td>0.529580</td>\n      <td>1.294764</td>\n      <td>2.224966</td>\n    </tr>\n    <tr>\n      <th>3</th>\n      <td>3</td>\n      <td>0.173669</td>\n      <td>0.336134</td>\n      <td>0.313725</td>\n      <td>0.478992</td>\n      <td>0.352078</td>\n      <td>0.456937</td>\n      <td>1.290412</td>\n      <td>2.477342</td>\n    </tr>\n  </tbody>\n</table>\n</div>"
     },
     "execution_count": 4,
     "metadata": {},
     "output_type": "execute_result"
    }
   ],
   "source": [
    "HMS_gasp\n"
   ],
   "metadata": {
    "collapsed": false,
    "pycharm": {
     "name": "#%%\n"
    }
   }
  },
  {
   "cell_type": "code",
   "execution_count": 4,
   "outputs": [],
   "source": [],
   "metadata": {
    "collapsed": false,
    "pycharm": {
     "name": "#%%\n"
    }
   }
  },
  {
   "cell_type": "code",
   "execution_count": null,
   "outputs": [],
   "source": [],
   "metadata": {
    "collapsed": false,
    "pycharm": {
     "name": "#%%\n"
    }
   }
  }
 ],
 "metadata": {
  "kernelspec": {
   "display_name": "Python 3",
   "language": "python",
   "name": "python3"
  },
  "language_info": {
   "codemirror_mode": {
    "name": "ipython",
    "version": 2
   },
   "file_extension": ".py",
   "mimetype": "text/x-python",
   "name": "python",
   "nbconvert_exporter": "python",
   "pygments_lexer": "ipython2",
   "version": "2.7.6"
  }
 },
 "nbformat": 4,
 "nbformat_minor": 0
}