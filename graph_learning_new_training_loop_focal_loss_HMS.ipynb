{
 "cells": [
  {
   "cell_type": "markdown",
   "source": [
    "## pipeline"
   ],
   "metadata": {
    "collapsed": false
   }
  },
  {
   "cell_type": "code",
   "execution_count": 1,
   "outputs": [
    {
     "name": "stderr",
     "output_type": "stream",
     "text": [
      "Using backend: pytorch\n"
     ]
    }
   ],
   "source": [
    "import dgl\n",
    "import networkx as nx\n",
    "import numpy as np\n",
    "import torch\n",
    "\n",
    "import torch.nn as nn\n",
    "\n",
    "from statistics import mean\n",
    "\n",
    "from func.run_pipeline_super_vox import get_outlayer_of_a_3d_shape, get_crop_by_pixel_val\n",
    "from func.ultis import load_obj\n",
    "\n",
    "from func.graph_learning import SuperVoxToNxGraph, VoxelGraphDataset\n"
   ],
   "metadata": {
    "collapsed": false,
    "pycharm": {
     "name": "#%%\n"
    }
   }
  },
  {
   "cell_type": "code",
   "execution_count": 2,
   "outputs": [],
   "source": [
    "# load graphs\n",
    "from func.ultis import load_obj\n",
    "\n",
    "# graphs = load_obj(\"graphs_dataset_train\")\n",
    "graphs = load_obj(\"graphs_dataset_train_with_augmentations\")"
   ],
   "metadata": {
    "collapsed": false,
    "pycharm": {
     "name": "#%%\n"
    }
   }
  },
  {
   "cell_type": "code",
   "execution_count": 3,
   "outputs": [],
   "source": [
    "import random\n",
    "random.seed(0)\n",
    "dgl.seed(0)\n",
    "torch.manual_seed(0)\n",
    "random.shuffle(graphs)"
   ],
   "metadata": {
    "collapsed": false,
    "pycharm": {
     "name": "#%%\n"
    }
   }
  },
  {
   "cell_type": "code",
   "execution_count": 4,
   "outputs": [
    {
     "name": "stderr",
     "output_type": "stream",
     "text": [
      "/opt/anaconda3/envs/CellSeg3D_torch/lib/python3.8/site-packages/dgl/backend/pytorch/tensor.py:40: UserWarning: Creating a tensor from a list of numpy.ndarrays is extremely slow. Please consider converting the list to a single numpy.ndarray with numpy.array() before converting to a tensor. (Triggered internally at  /Users/distiller/project/pytorch/torch/csrc/utils/tensor_new.cpp:210.)\n",
      "  return th.as_tensor(data, dtype=dtype)\n"
     ]
    }
   ],
   "source": [
    "dataset = VoxelGraphDataset(graphs, with_edge_weights=True)\n",
    "\n",
    "g = dataset[0]\n"
   ],
   "metadata": {
    "collapsed": false,
    "pycharm": {
     "name": "#%%\n"
    }
   }
  },
  {
   "cell_type": "markdown",
   "source": [
    "# TODO probably should normalize features!!!!"
   ],
   "metadata": {
    "collapsed": false,
    "pycharm": {
     "name": "#%% md\n"
    }
   }
  },
  {
   "cell_type": "code",
   "execution_count": 5,
   "outputs": [
    {
     "data": {
      "text/plain": "'\\ntrain_sampler = SubsetRandomSampler(torch.arange(num_train))\\ntest_sampler = SubsetRandomSampler(torch.arange(num_train, num_examples))\\n\\ntrain_dataloader = GraphDataLoader(\\n    dataset, sampler=train_sampler, batch_size=5, drop_last=False)\\n'"
     },
     "execution_count": 5,
     "metadata": {},
     "output_type": "execute_result"
    }
   ],
   "source": [
    "from dgl.dataloading import GraphDataLoader\n",
    "from torch.utils.data.sampler import SubsetRandomSampler\n",
    "\n",
    "num_examples = len(dataset)\n",
    "num_train = int(num_examples)\n",
    "\n",
    "\"\"\"\n",
    "train_sampler = SubsetRandomSampler(torch.arange(num_train))\n",
    "test_sampler = SubsetRandomSampler(torch.arange(num_train, num_examples))\n",
    "\n",
    "train_dataloader = GraphDataLoader(\n",
    "    dataset, sampler=train_sampler, batch_size=5, drop_last=False)\n",
    "\"\"\""
   ],
   "metadata": {
    "collapsed": false,
    "pycharm": {
     "name": "#%%\n"
    }
   }
  },
  {
   "cell_type": "code",
   "source": [
    "from func.graph_models import GCN, GCN_2\n",
    "import torch.nn.functional as F\n",
    "import random\n",
    "\n",
    "model = GCN(3, num_classes=1)\n",
    "CELoss = nn.CrossEntropyLoss()\n",
    "\n",
    "# training\n",
    "optimizer = torch.optim.Adam(model.parameters(), lr=0.01)\n",
    "best_val_acc = 0\n",
    "\n",
    "\n",
    "\n",
    "# features = g.ndata['feat']\n",
    "# labels = g.ndata['label']\n",
    "# train_mask = g.ndata['train_mask']\n",
    "# val_mask = g.ndata['val_mask']\n",
    "\n",
    "# calculate weights for loss\n",
    "\"\"\"\n",
    "pos_weights = []\n",
    "neg_weights = []\n",
    "for graph_number in range(len(dataset)):\n",
    "    sample_graph = dataset[graph_number]\n",
    "    labels = sample_graph.ndata['label']\n",
    "    # create class weights\n",
    "    number_positives = torch.count_nonzero(labels)\n",
    "    positive_weight = 1 - (number_positives / len(labels))\n",
    "    negative_weight = 1 - positive_weight\n",
    "\n",
    "    pos_weights.append(positive_weight.item())\n",
    "    neg_weights.append(negative_weight.item())\n",
    "weights = torch.tensor([mean(neg_weights), mean(pos_weights)])\n",
    "print(f\"weights: {weights}\")\n",
    "\"\"\"\n",
    "from torchmetrics import F1Score\n",
    "from torchvision.ops import sigmoid_focal_loss\n",
    "\n",
    "f1 = F1Score(num_classes=1, average='weighted')\n",
    "\n",
    "epoch_loss = []\n",
    "epoch_val_loss = []\n",
    "epoch_accuracy = []\n",
    "\n",
    "epoch_f1score = []\n",
    "epoch_f1score_val = []\n",
    "\n",
    "epoch_accuracy_val = []\n",
    "# best_val_acc = 0\n",
    "best_val_loss = 1000\n",
    "\n",
    "for e in range(300):\n",
    "    alpha = 0.23\n",
    "    # get random elements for batch\n",
    "    #graphs_numbers_list = range(0, len(dataset))\n",
    "    #rand_graph_numbers = random.sample(graphs_numbers_list, len(dataset))\n",
    "    for graph_number in range(len(dataset)):\n",
    "    #for graph_number in range(1):\n",
    "    #for graph_number in rand_graph_numbers:\n",
    "        # Forward\n",
    "        model.train()\n",
    "        sample_graph = dataset[graph_number]\n",
    "        features = sample_graph.ndata['feat']\n",
    "        labels = sample_graph.ndata['label']\n",
    "        train_mask = sample_graph.ndata['train_mask']\n",
    "        val_mask = sample_graph.ndata['val_mask']\n",
    "\n",
    "        # create class weights\n",
    "        number_positives = torch.count_nonzero(labels)\n",
    "        percentage_positives = number_positives / len(labels)\n",
    "        percentage_negatives = 1 - percentage_positives\n",
    "\n",
    "        # weights = torch.tensor([1 - percentage_negatives, 1 - percentage_positives])\n",
    "        # print(f\"weights: {weights}\")\n",
    "        # weights = torch.tensor([0.6, 0.4])\n",
    "        # print(f\"weights: {weights}\")\n",
    "        # print(f\"weights: {weights}\")\n",
    "\n",
    "        # CELoss = nn.CrossEntropyLoss(weight=weights)\n",
    "        train_mask = sample_graph.ndata['train_mask']\n",
    "        val_mask = sample_graph.ndata['val_mask']\n",
    "        logits = model(sample_graph, features)\n",
    "        model_output = torch.sigmoid(logits)\n",
    "\n",
    "        # Compute prediction\n",
    "        pred = (model_output > 0.5).type(torch.FloatTensor)\n",
    "        #print(f\"num of predicted negatives: {len(pred[pred==0])}\")\n",
    "        # Compute loss\n",
    "        # Note that you should only compute the losses of the nodes in the training set.\n",
    "        # loss = CELoss(logits[train_mask], labels[train_mask])\n",
    "        loss = sigmoid_focal_loss(torch.squeeze(logits[train_mask].type(torch.FloatTensor)), labels[train_mask].type(torch.FloatTensor), alpha=alpha, reduction=\"mean\")\n",
    "\n",
    "\n",
    "\n",
    "        epoch_loss.append(loss.item())\n",
    "\n",
    "        #print(loss)\n",
    "        # Compute accuracy on training/validation/test\n",
    "        train_acc = (pred[train_mask] == labels[train_mask]).float().mean()\n",
    "        val_acc = (pred[val_mask] == labels[val_mask]).float().mean()\n",
    "\n",
    "        train_f1_score = f1(pred[train_mask], labels[train_mask])\n",
    "        val_f1_score = f1(pred[val_mask], labels[val_mask])\n",
    "\n",
    "\n",
    "        epoch_accuracy.append(train_acc.item())\n",
    "        epoch_accuracy_val.append(val_acc.item())\n",
    "\n",
    "        epoch_f1score.append(train_f1_score.item())\n",
    "        epoch_f1score_val.append(val_f1_score.item())\n",
    "\n",
    "\n",
    "        # Backward\n",
    "        optimizer.zero_grad()\n",
    "        loss.backward()\n",
    "        optimizer.step()\n",
    "\n",
    "        model.eval()\n",
    "        with torch.no_grad():\n",
    "            logits = model(sample_graph, features)\n",
    "            # val_loss = CELoss(logits[val_mask], labels[val_mask])\n",
    "            val_loss = sigmoid_focal_loss(torch.squeeze(logits[val_mask].type(torch.FloatTensor)), labels[val_mask].type(torch.FloatTensor), alpha=alpha, reduction=\"mean\")\n",
    "            epoch_val_loss.append(val_loss.item())\n",
    "        model.train()\n",
    "\n",
    "    if e % 5 == 0:\n",
    "        print('In epoch {}, loss: {:.5f}, val loss: {:.5f}, accuracy: {:.3f}, val accuracy: {:.3f}, f1score: {:.3f}, val f1score: {:.3f}'.format(\n",
    "            e, mean(epoch_loss), mean(epoch_val_loss), mean(epoch_accuracy), mean(epoch_accuracy_val), mean(epoch_f1score), mean(epoch_f1score_val)))\n",
    "\n",
    "        #if mean(epoch_accuracy_val) >= best_val_acc:\n",
    "        if mean(epoch_val_loss) <= best_val_loss:\n",
    "            print(\"new best val loss\")\n",
    "            torch.save(model.state_dict(), \"output/graph_model_focal.pt\")\n",
    "            best_val_loss = mean(epoch_val_loss)\n",
    "        epoch_loss = []\n",
    "        epoch_val_loss = []\n",
    "        epoch_accuracy = []\n",
    "\n",
    "        epoch_accuracy_val = []\n",
    "        epoch_f1score_val = []\n"
   ],
   "metadata": {
    "collapsed": false,
    "pycharm": {
     "name": "#%%\n"
    }
   },
   "execution_count": 6,
   "outputs": [
    {
     "name": "stderr",
     "output_type": "stream",
     "text": [
      "/opt/anaconda3/envs/CellSeg3D_torch/lib/python3.8/site-packages/torch/autocast_mode.py:162: UserWarning: User provided device_type of 'cuda', but CUDA is not available. Disabling\n",
      "  warnings.warn('User provided device_type of \\'cuda\\', but CUDA is not available. Disabling')\n"
     ]
    },
    {
     "name": "stdout",
     "output_type": "stream",
     "text": [
      "In epoch 0, loss: 0.05509, val loss: 0.06599, accuracy: 0.788, val accuracy: 0.711, f1score: 0.876, val f1score: 0.818\n",
      "new best val loss\n",
      "In epoch 5, loss: 0.05409, val loss: 0.06439, accuracy: 0.746, val accuracy: 0.678, f1score: 0.856, val f1score: 0.797\n",
      "new best val loss\n",
      "In epoch 10, loss: 0.05366, val loss: 0.06372, accuracy: 0.723, val accuracy: 0.659, f1score: 0.849, val f1score: 0.783\n",
      "new best val loss\n",
      "In epoch 15, loss: 0.05357, val loss: 0.06363, accuracy: 0.721, val accuracy: 0.655, f1score: 0.846, val f1score: 0.782\n",
      "new best val loss\n",
      "In epoch 20, loss: 0.05352, val loss: 0.06357, accuracy: 0.720, val accuracy: 0.654, f1score: 0.844, val f1score: 0.781\n",
      "new best val loss\n",
      "In epoch 25, loss: 0.05348, val loss: 0.06353, accuracy: 0.720, val accuracy: 0.654, f1score: 0.843, val f1score: 0.782\n",
      "new best val loss\n",
      "In epoch 30, loss: 0.05346, val loss: 0.06348, accuracy: 0.720, val accuracy: 0.653, f1score: 0.843, val f1score: 0.781\n",
      "new best val loss\n",
      "In epoch 35, loss: 0.05343, val loss: 0.06348, accuracy: 0.719, val accuracy: 0.653, f1score: 0.842, val f1score: 0.781\n",
      "new best val loss\n",
      "In epoch 40, loss: 0.05339, val loss: 0.06340, accuracy: 0.716, val accuracy: 0.650, f1score: 0.842, val f1score: 0.779\n",
      "new best val loss\n",
      "In epoch 45, loss: 0.05334, val loss: 0.06337, accuracy: 0.713, val accuracy: 0.647, f1score: 0.841, val f1score: 0.776\n",
      "new best val loss\n",
      "In epoch 50, loss: 0.05334, val loss: 0.06334, accuracy: 0.713, val accuracy: 0.647, f1score: 0.841, val f1score: 0.777\n",
      "new best val loss\n",
      "In epoch 55, loss: 0.05331, val loss: 0.06332, accuracy: 0.713, val accuracy: 0.647, f1score: 0.840, val f1score: 0.777\n",
      "new best val loss\n",
      "In epoch 60, loss: 0.05332, val loss: 0.06331, accuracy: 0.713, val accuracy: 0.647, f1score: 0.840, val f1score: 0.777\n",
      "new best val loss\n",
      "In epoch 65, loss: 0.05330, val loss: 0.06330, accuracy: 0.713, val accuracy: 0.646, f1score: 0.840, val f1score: 0.777\n",
      "new best val loss\n",
      "In epoch 70, loss: 0.05329, val loss: 0.06330, accuracy: 0.713, val accuracy: 0.646, f1score: 0.839, val f1score: 0.777\n",
      "new best val loss\n",
      "In epoch 75, loss: 0.05330, val loss: 0.06329, accuracy: 0.714, val accuracy: 0.647, f1score: 0.839, val f1score: 0.778\n",
      "new best val loss\n",
      "In epoch 80, loss: 0.05328, val loss: 0.06327, accuracy: 0.713, val accuracy: 0.646, f1score: 0.839, val f1score: 0.777\n",
      "new best val loss\n",
      "In epoch 85, loss: 0.05328, val loss: 0.06327, accuracy: 0.714, val accuracy: 0.647, f1score: 0.839, val f1score: 0.777\n",
      "new best val loss\n",
      "In epoch 90, loss: 0.05326, val loss: 0.06328, accuracy: 0.715, val accuracy: 0.646, f1score: 0.839, val f1score: 0.777\n",
      "In epoch 95, loss: 0.05328, val loss: 0.06327, accuracy: 0.715, val accuracy: 0.647, f1score: 0.839, val f1score: 0.778\n",
      "In epoch 100, loss: 0.05326, val loss: 0.06326, accuracy: 0.714, val accuracy: 0.646, f1score: 0.839, val f1score: 0.777\n",
      "new best val loss\n",
      "In epoch 105, loss: 0.05325, val loss: 0.06326, accuracy: 0.715, val accuracy: 0.646, f1score: 0.839, val f1score: 0.778\n",
      "In epoch 110, loss: 0.05327, val loss: 0.06326, accuracy: 0.716, val accuracy: 0.648, f1score: 0.839, val f1score: 0.779\n",
      "In epoch 115, loss: 0.05326, val loss: 0.06323, accuracy: 0.715, val accuracy: 0.647, f1score: 0.839, val f1score: 0.778\n",
      "new best val loss\n",
      "In epoch 120, loss: 0.05324, val loss: 0.06326, accuracy: 0.716, val accuracy: 0.647, f1score: 0.839, val f1score: 0.779\n",
      "In epoch 125, loss: 0.05325, val loss: 0.06325, accuracy: 0.717, val accuracy: 0.648, f1score: 0.839, val f1score: 0.780\n",
      "In epoch 130, loss: 0.05324, val loss: 0.06325, accuracy: 0.717, val accuracy: 0.649, f1score: 0.839, val f1score: 0.780\n",
      "In epoch 135, loss: 0.05323, val loss: 0.06323, accuracy: 0.717, val accuracy: 0.648, f1score: 0.839, val f1score: 0.779\n",
      "new best val loss\n",
      "In epoch 140, loss: 0.05324, val loss: 0.06321, accuracy: 0.718, val accuracy: 0.648, f1score: 0.839, val f1score: 0.780\n",
      "new best val loss\n",
      "In epoch 145, loss: 0.05325, val loss: 0.06323, accuracy: 0.718, val accuracy: 0.649, f1score: 0.839, val f1score: 0.780\n",
      "In epoch 150, loss: 0.05322, val loss: 0.06324, accuracy: 0.717, val accuracy: 0.648, f1score: 0.839, val f1score: 0.779\n",
      "In epoch 155, loss: 0.05321, val loss: 0.06323, accuracy: 0.717, val accuracy: 0.648, f1score: 0.839, val f1score: 0.779\n",
      "In epoch 160, loss: 0.05322, val loss: 0.06324, accuracy: 0.717, val accuracy: 0.648, f1score: 0.839, val f1score: 0.779\n",
      "In epoch 165, loss: 0.05320, val loss: 0.06321, accuracy: 0.717, val accuracy: 0.648, f1score: 0.839, val f1score: 0.779\n",
      "In epoch 170, loss: 0.05324, val loss: 0.06322, accuracy: 0.717, val accuracy: 0.648, f1score: 0.839, val f1score: 0.780\n",
      "In epoch 175, loss: 0.05324, val loss: 0.06322, accuracy: 0.718, val accuracy: 0.648, f1score: 0.839, val f1score: 0.780\n",
      "In epoch 180, loss: 0.05321, val loss: 0.06324, accuracy: 0.717, val accuracy: 0.648, f1score: 0.839, val f1score: 0.780\n",
      "In epoch 185, loss: 0.05322, val loss: 0.06321, accuracy: 0.718, val accuracy: 0.648, f1score: 0.839, val f1score: 0.780\n",
      "new best val loss\n",
      "In epoch 190, loss: 0.05321, val loss: 0.06322, accuracy: 0.717, val accuracy: 0.648, f1score: 0.839, val f1score: 0.779\n",
      "In epoch 195, loss: 0.05322, val loss: 0.06321, accuracy: 0.718, val accuracy: 0.648, f1score: 0.839, val f1score: 0.780\n",
      "new best val loss\n",
      "In epoch 200, loss: 0.05321, val loss: 0.06321, accuracy: 0.718, val accuracy: 0.648, f1score: 0.839, val f1score: 0.779\n",
      "new best val loss\n",
      "In epoch 205, loss: 0.05320, val loss: 0.06321, accuracy: 0.717, val accuracy: 0.648, f1score: 0.839, val f1score: 0.779\n",
      "In epoch 210, loss: 0.05322, val loss: 0.06322, accuracy: 0.717, val accuracy: 0.648, f1score: 0.839, val f1score: 0.779\n",
      "In epoch 215, loss: 0.05320, val loss: 0.06322, accuracy: 0.717, val accuracy: 0.648, f1score: 0.839, val f1score: 0.779\n",
      "In epoch 220, loss: 0.05323, val loss: 0.06322, accuracy: 0.718, val accuracy: 0.649, f1score: 0.839, val f1score: 0.780\n",
      "In epoch 225, loss: 0.05319, val loss: 0.06320, accuracy: 0.717, val accuracy: 0.647, f1score: 0.840, val f1score: 0.779\n",
      "new best val loss\n",
      "In epoch 230, loss: 0.05321, val loss: 0.06320, accuracy: 0.718, val accuracy: 0.648, f1score: 0.840, val f1score: 0.779\n",
      "new best val loss\n",
      "In epoch 235, loss: 0.05318, val loss: 0.06322, accuracy: 0.717, val accuracy: 0.647, f1score: 0.840, val f1score: 0.779\n",
      "In epoch 240, loss: 0.05320, val loss: 0.06321, accuracy: 0.718, val accuracy: 0.648, f1score: 0.840, val f1score: 0.780\n",
      "In epoch 245, loss: 0.05320, val loss: 0.06323, accuracy: 0.718, val accuracy: 0.648, f1score: 0.840, val f1score: 0.780\n",
      "In epoch 250, loss: 0.05321, val loss: 0.06322, accuracy: 0.718, val accuracy: 0.648, f1score: 0.840, val f1score: 0.779\n",
      "In epoch 255, loss: 0.05320, val loss: 0.06323, accuracy: 0.718, val accuracy: 0.648, f1score: 0.840, val f1score: 0.780\n",
      "In epoch 260, loss: 0.05322, val loss: 0.06322, accuracy: 0.719, val accuracy: 0.648, f1score: 0.840, val f1score: 0.780\n",
      "In epoch 265, loss: 0.05320, val loss: 0.06323, accuracy: 0.718, val accuracy: 0.648, f1score: 0.840, val f1score: 0.780\n",
      "In epoch 270, loss: 0.05320, val loss: 0.06321, accuracy: 0.718, val accuracy: 0.649, f1score: 0.840, val f1score: 0.780\n",
      "In epoch 275, loss: 0.05320, val loss: 0.06321, accuracy: 0.718, val accuracy: 0.648, f1score: 0.840, val f1score: 0.780\n",
      "In epoch 280, loss: 0.05320, val loss: 0.06321, accuracy: 0.718, val accuracy: 0.648, f1score: 0.840, val f1score: 0.780\n",
      "In epoch 285, loss: 0.05320, val loss: 0.06320, accuracy: 0.718, val accuracy: 0.648, f1score: 0.840, val f1score: 0.780\n",
      "In epoch 290, loss: 0.05320, val loss: 0.06320, accuracy: 0.718, val accuracy: 0.648, f1score: 0.840, val f1score: 0.780\n",
      "new best val loss\n",
      "In epoch 295, loss: 0.05320, val loss: 0.06324, accuracy: 0.718, val accuracy: 0.648, f1score: 0.840, val f1score: 0.780\n"
     ]
    }
   ]
  },
  {
   "cell_type": "markdown",
   "source": [
    "from func.graph_models import GCN, GCN_2\n",
    "import torch.nn.functional as F\n",
    "import random\n",
    "import dgl\n",
    "\n",
    "model = GCN(1, num_classes=2)\n",
    "CELoss = nn.CrossEntropyLoss()\n",
    "\n",
    "# training\n",
    "optimizer = torch.optim.Adam(model.parameters(), lr=0.01)\n",
    "best_val_acc = 0\n",
    "\n",
    "\n",
    "\n",
    "# features = g.ndata['feat']\n",
    "# labels = g.ndata['label']\n",
    "# train_mask = g.ndata['train_mask']\n",
    "# val_mask = g.ndata['val_mask']\n",
    "\n",
    "# calculate weights for loss\n",
    "\"\"\"\n",
    "pos_weights = []\n",
    "neg_weights = []\n",
    "for graph_number in range(len(dataset)):\n",
    "    sample_graph = dataset[graph_number]\n",
    "    labels = sample_graph.ndata['label']\n",
    "    # create class weights\n",
    "    number_positives = torch.count_nonzero(labels)\n",
    "    positive_weight = 1 - (number_positives / len(labels))\n",
    "    negative_weight = 1 - positive_weight\n",
    "\n",
    "    pos_weights.append(positive_weight.item())\n",
    "    neg_weights.append(negative_weight.item())\n",
    "weights = torch.tensor([mean(neg_weights), mean(pos_weights)])\n",
    "print(f\"weights: {weights}\")\n",
    "\"\"\"\n",
    "\n",
    "# build one big graph\n",
    "graphs_list = []\n",
    "for i in range(len(dataset)):\n",
    "    graphs_list.append(dataset[i])\n",
    "\n",
    "large_g = dgl.batch(graphs_list)"
   ],
   "metadata": {
    "collapsed": false,
    "pycharm": {
     "name": "#%% md\n"
    }
   }
  },
  {
   "cell_type": "markdown",
   "source": [
    "epoch_loss = []\n",
    "epoch_accuracy = []\n",
    "for e in range(1000):\n",
    "    # get random elements for batch\n",
    "    #graphs_numbers_list = range(0, len(dataset))\n",
    "    #rand_graph_numbers = random.sample(graphs_numbers_list, len(dataset))\n",
    "    sample_graph = large_g\n",
    "    features = sample_graph.ndata['feat']\n",
    "    labels = sample_graph.ndata['label']\n",
    "\n",
    "    # create class weights\n",
    "    number_positives = torch.count_nonzero(labels)\n",
    "    percentage_positives = number_positives / len(labels)\n",
    "    percentage_negatives = 1 - percentage_positives\n",
    "\n",
    "    weights = torch.tensor([1 - percentage_negatives, 1 - percentage_positives])\n",
    "    #weights = torch.tensor([0.95, 0.05])\n",
    "    #print(weights)\n",
    "\n",
    "    CELoss = nn.CrossEntropyLoss(weight=weights)\n",
    "    #train_mask = sample_graph.ndata['train_mask']\n",
    "    #val_mask = sample_graph.ndata['val_mask']\n",
    "    logits = model(sample_graph, features)\n",
    "\n",
    "    # Compute prediction\n",
    "    pred = logits.argmax(1)\n",
    "\n",
    "    # Compute loss\n",
    "    # Note that you should only compute the losses of the nodes in the training set.\n",
    "    loss = CELoss(logits, labels)\n",
    "    epoch_loss.append(loss.item())\n",
    "    #print(loss)\n",
    "    # Compute accuracy on training/validation/test\n",
    "    train_acc = (pred == labels).float().mean()\n",
    "    epoch_accuracy.append(train_acc.item())\n",
    "    # Backward\n",
    "    optimizer.zero_grad()\n",
    "    loss.backward()\n",
    "    optimizer.step()\n",
    "\n",
    "    if e % 20 == 0:\n",
    "        print('In epoch {}, loss: {:.3f}, accuracy: {:.3f}'.format(\n",
    "            e, mean(epoch_loss), mean(epoch_accuracy)))\n",
    "        epoch_loss = []\n",
    "        epoch_accuracy = []\n",
    "\n",
    "\n"
   ],
   "metadata": {
    "collapsed": false,
    "pycharm": {
     "name": "#%% md\n"
    }
   }
  },
  {
   "cell_type": "markdown",
   "source": [
    "# Train on GPU\n",
    "g = g.to('cuda')\n",
    "model = GCN(1, 16, dataset.num_classes).to('cuda')\n",
    "train(g, model)"
   ],
   "metadata": {
    "collapsed": false,
    "pycharm": {
     "name": "#%% md\n"
    }
   }
  },
  {
   "cell_type": "code",
   "execution_count": 7,
   "outputs": [
    {
     "data": {
      "text/plain": "Graph(num_nodes=1560, num_edges=6800,\n      ndata_schemes={'feat': Scheme(shape=(3,), dtype=torch.float32), 'label': Scheme(shape=(), dtype=torch.int64), 'train_mask': Scheme(shape=(), dtype=torch.bool), 'val_mask': Scheme(shape=(), dtype=torch.bool)}\n      edata_schemes={'weight': Scheme(shape=(1,), dtype=torch.float64)})"
     },
     "execution_count": 7,
     "metadata": {},
     "output_type": "execute_result"
    }
   ],
   "source": [
    "g"
   ],
   "metadata": {
    "collapsed": false,
    "pycharm": {
     "name": "#%%\n"
    }
   }
  },
  {
   "cell_type": "code",
   "execution_count": 8,
   "outputs": [
    {
     "data": {
      "text/plain": "torch.Size([1560, 3])"
     },
     "execution_count": 8,
     "metadata": {},
     "output_type": "execute_result"
    }
   ],
   "source": [
    "\n",
    "g.ndata['feat'].shape"
   ],
   "metadata": {
    "collapsed": false,
    "pycharm": {
     "name": "#%%\n"
    }
   }
  },
  {
   "cell_type": "code",
   "execution_count": 9,
   "outputs": [],
   "source": [
    "model.eval()\n",
    "with torch.no_grad():\n",
    "    predictions = (model(g, g.ndata['feat']) > 0.5)\n",
    "    # pred = (model_output > 0.5).type(torch.FloatTensor)"
   ],
   "metadata": {
    "collapsed": false,
    "pycharm": {
     "name": "#%%\n"
    }
   }
  },
  {
   "cell_type": "code",
   "execution_count": 10,
   "outputs": [
    {
     "data": {
      "text/plain": "array([False,  True])"
     },
     "execution_count": 10,
     "metadata": {},
     "output_type": "execute_result"
    }
   ],
   "source": [
    "np.unique(predictions)"
   ],
   "metadata": {
    "collapsed": false,
    "pycharm": {
     "name": "#%%\n"
    }
   }
  },
  {
   "cell_type": "code",
   "execution_count": 11,
   "outputs": [
    {
     "data": {
      "text/plain": "array([0, 1])"
     },
     "execution_count": 11,
     "metadata": {},
     "output_type": "execute_result"
    }
   ],
   "source": [
    "labels = g.ndata['label']\n",
    "np.unique(labels)"
   ],
   "metadata": {
    "collapsed": false,
    "pycharm": {
     "name": "#%%\n"
    }
   }
  },
  {
   "cell_type": "code",
   "execution_count": 12,
   "outputs": [
    {
     "data": {
      "text/plain": "1265"
     },
     "execution_count": 12,
     "metadata": {},
     "output_type": "execute_result"
    }
   ],
   "source": [
    "len(labels[labels==1])"
   ],
   "metadata": {
    "collapsed": false,
    "pycharm": {
     "name": "#%%\n"
    }
   }
  },
  {
   "cell_type": "code",
   "execution_count": 13,
   "outputs": [
    {
     "data": {
      "text/plain": "295"
     },
     "execution_count": 13,
     "metadata": {},
     "output_type": "execute_result"
    }
   ],
   "source": [
    "len(labels[labels==0])"
   ],
   "metadata": {
    "collapsed": false,
    "pycharm": {
     "name": "#%%\n"
    }
   }
  },
  {
   "cell_type": "code",
   "execution_count": 14,
   "outputs": [
    {
     "data": {
      "text/plain": "20"
     },
     "execution_count": 14,
     "metadata": {},
     "output_type": "execute_result"
    }
   ],
   "source": [
    "len(predictions[predictions==1])"
   ],
   "metadata": {
    "collapsed": false,
    "pycharm": {
     "name": "#%%\n"
    }
   }
  },
  {
   "cell_type": "code",
   "execution_count": 15,
   "outputs": [
    {
     "data": {
      "text/plain": "1540"
     },
     "execution_count": 15,
     "metadata": {},
     "output_type": "execute_result"
    }
   ],
   "source": [
    "len(predictions[predictions==0])"
   ],
   "metadata": {
    "collapsed": false,
    "pycharm": {
     "name": "#%%\n"
    }
   }
  },
  {
   "cell_type": "code",
   "execution_count": 16,
   "outputs": [
    {
     "data": {
      "text/plain": "GCN(\n  (conv1): GraphConv(in=3, out=16, normalization=both, activation=None)\n  (dropout): Dropout(p=0.5, inplace=False)\n  (conv2): GraphConv(in=16, out=1, normalization=both, activation=None)\n)"
     },
     "execution_count": 16,
     "metadata": {},
     "output_type": "execute_result"
    }
   ],
   "source": [
    "graph_model = GCN(3, num_classes=1)\n",
    "checkpoint_graph = 'output/graph_model_focal.pt'\n",
    "graph_model.load_state_dict(torch.load(checkpoint_graph))\n",
    "graph_model.eval()"
   ],
   "metadata": {
    "collapsed": false,
    "pycharm": {
     "name": "#%%\n"
    }
   }
  },
  {
   "cell_type": "code",
   "execution_count": 17,
   "outputs": [],
   "source": [
    "predictions = (graph_model(g, g.ndata['feat']) > 0.5).numpy()\n"
   ],
   "metadata": {
    "collapsed": false,
    "pycharm": {
     "name": "#%%\n"
    }
   }
  },
  {
   "cell_type": "code",
   "execution_count": 18,
   "outputs": [
    {
     "data": {
      "text/plain": "18"
     },
     "execution_count": 18,
     "metadata": {},
     "output_type": "execute_result"
    }
   ],
   "source": [
    "\n",
    "len(predictions[predictions==1])"
   ],
   "metadata": {
    "collapsed": false,
    "pycharm": {
     "name": "#%%\n"
    }
   }
  },
  {
   "cell_type": "code",
   "execution_count": 19,
   "outputs": [
    {
     "data": {
      "text/plain": "1542"
     },
     "execution_count": 19,
     "metadata": {},
     "output_type": "execute_result"
    }
   ],
   "source": [
    "len(predictions[predictions==0])"
   ],
   "metadata": {
    "collapsed": false,
    "pycharm": {
     "name": "#%%\n"
    }
   }
  },
  {
   "cell_type": "code",
   "execution_count": 19,
   "outputs": [],
   "source": [],
   "metadata": {
    "collapsed": false,
    "pycharm": {
     "name": "#%%\n"
    }
   }
  }
 ],
 "metadata": {
  "kernelspec": {
   "display_name": "Python 3",
   "language": "python",
   "name": "python3"
  },
  "language_info": {
   "codemirror_mode": {
    "name": "ipython",
    "version": 2
   },
   "file_extension": ".py",
   "mimetype": "text/x-python",
   "name": "python",
   "nbconvert_exporter": "python",
   "pygments_lexer": "ipython2",
   "version": "2.7.6"
  }
 },
 "nbformat": 4,
 "nbformat_minor": 0
}