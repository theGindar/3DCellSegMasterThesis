{
 "cells": [
  {
   "cell_type": "code",
   "execution_count": 6,
   "metadata": {
    "collapsed": true
   },
   "outputs": [],
   "source": [
    "from func.ultis import load_obj, save_obj"
   ]
  },
  {
   "cell_type": "code",
   "execution_count": null,
   "outputs": [],
   "source": [
    "set_1 = load_obj(\"graphs_dataset_train_with_augmentations_ovules_retrained_skript_1\")\n",
    "print(len(set_1))\n",
    "\n",
    "set_2 = load_obj(\"graphs_dataset_train_with_augmentations_ovules_retrained_skript_2\")\n",
    "print(len(set_2))\n",
    "\n",
    "set_3 = load_obj(\"graphs_dataset_train_with_augmentations_ovules_retrained_skript_3\")\n",
    "print(len(set_3))\n",
    "\n",
    "set_4 = load_obj(\"graphs_dataset_train_with_augmentations_ovules_retrained_skript_4\")\n",
    "print(len(set_4))\n",
    "\n",
    "set_5 = load_obj(\"graphs_dataset_train_with_augmentations_ovules_retrained_skript_5\")\n",
    "print(len(set_5))\n",
    "\n",
    "set_6 = load_obj(\"graphs_dataset_train_with_augmentations_ovules_retrained_skript_6\")\n",
    "print(len(set_6))\n",
    "\n",
    "set_test = load_obj(\"graphs_dataset_train_with_augmentations_ovules_retrained_skript_testset\")\n",
    "print(len(set_test))"
   ],
   "metadata": {
    "collapsed": false,
    "pycharm": {
     "name": "#%%\n"
    }
   }
  },
  {
   "cell_type": "code",
   "execution_count": 3,
   "outputs": [],
   "source": [
    "set_total = set_1 + set_2 + set_3 + set_4 + set_5 + set_6"
   ],
   "metadata": {
    "collapsed": false,
    "pycharm": {
     "name": "#%%\n"
    }
   }
  },
  {
   "cell_type": "code",
   "execution_count": 24,
   "outputs": [],
   "source": [
    "set_total_small = []\n",
    "for graph in set_total:\n",
    "    if graph.number_of_nodes() < 50000:\n",
    "        set_total_small.append(graph)"
   ],
   "metadata": {
    "collapsed": false,
    "pycharm": {
     "name": "#%%\n"
    }
   }
  },
  {
   "cell_type": "code",
   "execution_count": 4,
   "outputs": [
    {
     "data": {
      "text/plain": "240"
     },
     "execution_count": 4,
     "metadata": {},
     "output_type": "execute_result"
    }
   ],
   "source": [
    "len(set_total)"
   ],
   "metadata": {
    "collapsed": false,
    "pycharm": {
     "name": "#%%\n"
    }
   }
  },
  {
   "cell_type": "markdown",
   "source": [
    "import pickle as pkl\n",
    "\n",
    "with open('graphs_dataset_train_ovules_retrained_total.pkl', 'wb') as f:\n",
    "    pkl.dump(set_total,f)"
   ],
   "metadata": {
    "collapsed": false,
    "pycharm": {
     "name": "#%% md\n"
    }
   }
  },
  {
   "cell_type": "code",
   "execution_count": 25,
   "outputs": [],
   "source": [
    "import pickle as pkl\n",
    "\n",
    "with open('graphs_dataset_train_ovules_retrained_total_small.pkl', 'wb') as f:\n",
    "    pkl.dump(set_total_small,f)"
   ],
   "metadata": {
    "collapsed": false,
    "pycharm": {
     "name": "#%%\n"
    }
   }
  },
  {
   "cell_type": "code",
   "execution_count": 12,
   "outputs": [],
   "source": [
    "total_number_of_nodes_train = []\n",
    "for graph in set_total:\n",
    "    total_number_of_nodes_train.append(graph.number_of_nodes())"
   ],
   "metadata": {
    "collapsed": false,
    "pycharm": {
     "name": "#%%\n"
    }
   }
  },
  {
   "cell_type": "code",
   "execution_count": 19,
   "outputs": [
    {
     "data": {
      "text/plain": "(array([3.97546709e-05, 1.92657251e-05, 1.03973755e-05, 2.44644128e-06,\n        3.05805161e-07, 3.05805161e-07, 0.00000000e+00, 0.00000000e+00,\n        0.00000000e+00, 3.05805161e-07, 0.00000000e+00, 3.05805161e-07,\n        0.00000000e+00, 0.00000000e+00, 0.00000000e+00, 0.00000000e+00,\n        0.00000000e+00, 0.00000000e+00, 0.00000000e+00, 0.00000000e+00,\n        0.00000000e+00, 0.00000000e+00, 0.00000000e+00, 0.00000000e+00,\n        0.00000000e+00, 0.00000000e+00, 0.00000000e+00, 0.00000000e+00,\n        0.00000000e+00, 3.05805161e-07]),\n array([   929.        ,  14554.23333333,  28179.46666667,  41804.7       ,\n         55429.93333333,  69055.16666667,  82680.4       ,  96305.63333333,\n        109930.86666667, 123556.1       , 137181.33333333, 150806.56666667,\n        164431.8       , 178057.03333333, 191682.26666667, 205307.5       ,\n        218932.73333333, 232557.96666667, 246183.2       , 259808.43333333,\n        273433.66666667, 287058.9       , 300684.13333333, 314309.36666667,\n        327934.6       , 341559.83333333, 355185.06666667, 368810.3       ,\n        382435.53333333, 396060.76666667, 409686.        ]),\n <BarContainer object of 30 artists>)"
     },
     "execution_count": 19,
     "metadata": {},
     "output_type": "execute_result"
    },
    {
     "data": {
      "text/plain": "<Figure size 432x288 with 1 Axes>",
      "image/png": "[encoded data removed]"
     },
     "metadata": {
      "needs_background": "light"
     },
     "output_type": "display_data"
    }
   ],
   "source": [
    "import matplotlib.pyplot as plt\n",
    "\n",
    "plt.hist(total_number_of_nodes_train, density=True, bins=30)"
   ],
   "metadata": {
    "collapsed": false,
    "pycharm": {
     "name": "#%%\n"
    }
   }
  },
  {
   "cell_type": "code",
   "execution_count": 17,
   "outputs": [],
   "source": [
    "total_number_of_nodes_test = []\n",
    "for graph in set_test:\n",
    "    total_number_of_nodes_test.append(graph.number_of_nodes())"
   ],
   "metadata": {
    "collapsed": false,
    "pycharm": {
     "name": "#%%\n"
    }
   }
  },
  {
   "cell_type": "code",
   "execution_count": 18,
   "outputs": [
    {
     "data": {
      "text/plain": "(array([0.0005116, 0.       , 0.       , 0.       , 0.       , 0.       ,\n        0.0002558, 0.       , 0.       , 0.       , 0.       , 0.0002558,\n        0.       , 0.0005116, 0.0002558]),\n array([ 4592.        ,  5150.46666667,  5708.93333333,  6267.4       ,\n         6825.86666667,  7384.33333333,  7942.8       ,  8501.26666667,\n         9059.73333333,  9618.2       , 10176.66666667, 10735.13333333,\n        11293.6       , 11852.06666667, 12410.53333333, 12969.        ]),\n <BarContainer object of 15 artists>)"
     },
     "execution_count": 18,
     "metadata": {},
     "output_type": "execute_result"
    },
    {
     "data": {
      "text/plain": "<Figure size 432x288 with 1 Axes>",
      "image/png": "[encoded data removed]"
     },
     "metadata": {
      "needs_background": "light"
     },
     "output_type": "display_data"
    }
   ],
   "source": [
    "plt.hist(total_number_of_nodes_test, density=True, bins=15)\n"
   ],
   "metadata": {
    "collapsed": false,
    "pycharm": {
     "name": "#%%\n"
    }
   }
  },
  {
   "cell_type": "code",
   "execution_count": 23,
   "outputs": [
    {
     "data": {
      "text/plain": "234"
     },
     "execution_count": 23,
     "metadata": {},
     "output_type": "execute_result"
    }
   ],
   "source": [
    "sum(i < 50000 for i in total_number_of_nodes_train)"
   ],
   "metadata": {
    "collapsed": false,
    "pycharm": {
     "name": "#%%\n"
    }
   }
  },
  {
   "cell_type": "code",
   "execution_count": null,
   "outputs": [],
   "source": [],
   "metadata": {
    "collapsed": false,
    "pycharm": {
     "name": "#%%\n"
    }
   }
  }
 ],
 "metadata": {
  "kernelspec": {
   "display_name": "Python 3",
   "language": "python",
   "name": "python3"
  },
  "language_info": {
   "codemirror_mode": {
    "name": "ipython",
    "version": 2
   },
   "file_extension": ".py",
   "mimetype": "text/x-python",
   "name": "python",
   "nbconvert_exporter": "python",
   "pygments_lexer": "ipython2",
   "version": "2.7.6"
  }
 },
 "nbformat": 4,
 "nbformat_minor": 0
}