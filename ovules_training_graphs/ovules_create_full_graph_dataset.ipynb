{
 "cells": [
  {
   "cell_type": "code",
   "execution_count": 6,
   "metadata": {
    "collapsed": true
   },
   "outputs": [],
   "source": [
    "from func.ultis import load_obj, save_obj"
   ]
  },
  {
   "cell_type": "code",
   "execution_count": null,
   "outputs": [],
   "source": [
    "set_1 = load_obj(\"graphs_dataset_train_with_augmentations_ovules_retrained_skript_1\")\n",
    "print(len(set_1))\n",
    "\n",
    "set_2 = load_obj(\"graphs_dataset_train_with_augmentations_ovules_retrained_skript_2\")\n",
    "print(len(set_2))\n",
    "\n",
    "set_3 = load_obj(\"graphs_dataset_train_with_augmentations_ovules_retrained_skript_3\")\n",
    "print(len(set_3))\n",
    "\n",
    "set_4 = load_obj(\"graphs_dataset_train_with_augmentations_ovules_retrained_skript_4\")\n",
    "print(len(set_4))\n",
    "\n",
    "set_5 = load_obj(\"graphs_dataset_train_with_augmentations_ovules_retrained_skript_5\")\n",
    "print(len(set_5))\n",
    "\n",
    "set_6 = load_obj(\"graphs_dataset_train_with_augmentations_ovules_retrained_skript_6\")\n",
    "print(len(set_6))\n",
    "\n",
    "set_test = load_obj(\"graphs_dataset_train_with_augmentations_ovules_retrained_skript_testset\")\n",
    "print(len(set_test))"
   ],
   "metadata": {
    "collapsed": false,
    "pycharm": {
     "name": "#%%\n"
    }
   }
  },
  {
   "cell_type": "code",
   "execution_count": 3,
   "outputs": [],
   "source": [
    "set_total = set_1 + set_2 + set_3 + set_4 + set_5 + set_6"
   ],
   "metadata": {
    "collapsed": false,
    "pycharm": {
     "name": "#%%\n"
    }
   }
  },
  {
   "cell_type": "code",
   "execution_count": 4,
   "outputs": [
    {
     "data": {
      "text/plain": "240"
     },
     "execution_count": 4,
     "metadata": {},
     "output_type": "execute_result"
    }
   ],
   "source": [
    "len(set_total)"
   ],
   "metadata": {
    "collapsed": false,
    "pycharm": {
     "name": "#%%\n"
    }
   }
  },
  {
   "cell_type": "code",
   "execution_count": 9,
   "outputs": [],
   "source": [
    "import pickle as pkl\n",
    "\n",
    "with open('graphs_dataset_train_ovules_retrained_total.pkl', 'wb') as f:\n",
    "    pkl.dump(set_total,f)"
   ],
   "metadata": {
    "collapsed": false,
    "pycharm": {
     "name": "#%%\n"
    }
   }
  },
  {
   "cell_type": "code",
   "execution_count": null,
   "outputs": [],
   "source": [],
   "metadata": {
    "collapsed": false,
    "pycharm": {
     "name": "#%%\n"
    }
   }
  }
 ],
 "metadata": {
  "kernelspec": {
   "display_name": "Python 3",
   "language": "python",
   "name": "python3"
  },
  "language_info": {
   "codemirror_mode": {
    "name": "ipython",
    "version": 2
   },
   "file_extension": ".py",
   "mimetype": "text/x-python",
   "name": "python",
   "nbconvert_exporter": "python",
   "pygments_lexer": "ipython2",
   "version": "2.7.6"
  }
 },
 "nbformat": 4,
 "nbformat_minor": 0
}