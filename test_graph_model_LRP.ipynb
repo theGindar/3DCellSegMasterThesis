{
 "cells": [
  {
   "cell_type": "markdown",
   "metadata": {
    "collapsed": true,
    "pycharm": {
     "name": "#%% md\n"
    }
   },
   "source": [
    "# Get Metrics of the Graph model on test set graphs"
   ]
  },
  {
   "cell_type": "code",
   "execution_count": 30,
   "outputs": [],
   "source": [
    "from func.ultis import load_obj\n",
    "import networkx as nx\n",
    "import numpy as np"
   ],
   "metadata": {
    "collapsed": false,
    "pycharm": {
     "name": "#%%\n"
    }
   }
  },
  {
   "cell_type": "code",
   "execution_count": 5,
   "outputs": [
    {
     "name": "stdout",
     "output_type": "stream",
     "text": [
      "4\n"
     ]
    }
   ],
   "source": [
    "set_test = load_obj(\"lrp_training_graphs/graphs_dataset_train_with_augmentations_LRP_retrained_skript_0\")\n",
    "print(len(set_test))"
   ],
   "metadata": {
    "collapsed": false,
    "pycharm": {
     "name": "#%%\n"
    }
   }
  },
  {
   "cell_type": "code",
   "execution_count": 6,
   "outputs": [
    {
     "name": "stdout",
     "output_type": "stream",
     "text": [
      "neg: 50397, \t pos: 4041\n",
      "neg: 45161, \t pos: 3362\n",
      "neg: 2436, \t pos: 3874\n",
      "neg: 38748, \t pos: 2807\n"
     ]
    }
   ],
   "source": [
    "for graph in set_test:\n",
    "    labels_dict = nx.get_node_attributes(graph, \"label\")\n",
    "    labels = []\n",
    "    for label in labels_dict.items():\n",
    "        #print(label[1])\n",
    "        labels.append(label[1])\n",
    "    negatives = np.count_nonzero(labels)\n",
    "    positives = len(labels) - negatives\n",
    "    print(f\"neg: {negatives}, \\t pos: {positives}\")\n"
   ],
   "metadata": {
    "collapsed": false,
    "pycharm": {
     "name": "#%%\n"
    }
   }
  },
  {
   "cell_type": "code",
   "execution_count": 16,
   "outputs": [
    {
     "data": {
      "text/plain": "GCN(\n  (conv1): GraphConv(in=3, out=16, normalization=both, activation=None)\n  (dropout): Dropout(p=0.5, inplace=False)\n  (conv2): GraphConv(in=16, out=1, normalization=both, activation=None)\n)"
     },
     "execution_count": 16,
     "metadata": {},
     "output_type": "execute_result"
    }
   ],
   "source": [
    "from func.graph_models import GCN\n",
    "import torch\n",
    "\n",
    "model = GCN(3, num_classes=1)\n",
    "checkpoint_graph = 'output/graph_model_focal_LRP_retrained.pt'\n",
    "model.load_state_dict(torch.load(checkpoint_graph, map_location=torch.device('cpu')))\n",
    "model.eval()"
   ],
   "metadata": {
    "collapsed": false,
    "pycharm": {
     "name": "#%%\n"
    }
   }
  },
  {
   "cell_type": "code",
   "execution_count": 17,
   "outputs": [
    {
     "ename": "KeyboardInterrupt",
     "evalue": "",
     "output_type": "error",
     "traceback": [
      "\u001B[0;31m---------------------------------------------------------------------------\u001B[0m",
      "\u001B[0;31mKeyboardInterrupt\u001B[0m                         Traceback (most recent call last)",
      "Input \u001B[0;32mIn [17]\u001B[0m, in \u001B[0;36m<cell line: 2>\u001B[0;34m()\u001B[0m\n\u001B[1;32m      1\u001B[0m \u001B[38;5;28;01mfrom\u001B[39;00m \u001B[38;5;21;01mfunc\u001B[39;00m\u001B[38;5;21;01m.\u001B[39;00m\u001B[38;5;21;01mgraph_learning\u001B[39;00m \u001B[38;5;28;01mimport\u001B[39;00m VoxelGraphDataset\n\u001B[0;32m----> 2\u001B[0m dataset \u001B[38;5;241m=\u001B[39m \u001B[43mVoxelGraphDataset\u001B[49m\u001B[43m(\u001B[49m\u001B[43mset_test\u001B[49m\u001B[43m,\u001B[49m\u001B[43m \u001B[49m\u001B[43mwith_ground_truth_labels\u001B[49m\u001B[38;5;241;43m=\u001B[39;49m\u001B[38;5;28;43;01mTrue\u001B[39;49;00m\u001B[43m)\u001B[49m\n",
      "File \u001B[0;32m~/Documents/GitHub/3DCellSegMasterThesis/func/graph_learning.py:322\u001B[0m, in \u001B[0;36mVoxelGraphDataset.__init__\u001B[0;34m(self, nx_graph_list, with_ground_truth_labels, with_edge_weights)\u001B[0m\n\u001B[1;32m    320\u001B[0m \u001B[38;5;28mself\u001B[39m\u001B[38;5;241m.\u001B[39mwith_ground_truth_labels \u001B[38;5;241m=\u001B[39m with_ground_truth_labels\n\u001B[1;32m    321\u001B[0m \u001B[38;5;28mself\u001B[39m\u001B[38;5;241m.\u001B[39mwith_edge_weights \u001B[38;5;241m=\u001B[39m with_edge_weights\n\u001B[0;32m--> 322\u001B[0m \u001B[38;5;28;43msuper\u001B[39;49m\u001B[43m(\u001B[49m\u001B[43m)\u001B[49m\u001B[38;5;241;43m.\u001B[39;49m\u001B[38;5;21;43m__init__\u001B[39;49m\u001B[43m(\u001B[49m\u001B[43mname\u001B[49m\u001B[38;5;241;43m=\u001B[39;49m\u001B[38;5;124;43m'\u001B[39;49m\u001B[38;5;124;43mvoxel_graph\u001B[39;49m\u001B[38;5;124;43m'\u001B[39;49m\u001B[43m)\u001B[49m\n",
      "File \u001B[0;32m/opt/anaconda3/envs/CellSeg3D_torch/lib/python3.8/site-packages/dgl/data/dgl_dataset.py:93\u001B[0m, in \u001B[0;36mDGLDataset.__init__\u001B[0;34m(self, name, url, raw_dir, save_dir, hash_key, force_reload, verbose)\u001B[0m\n\u001B[1;32m     90\u001B[0m \u001B[38;5;28;01melse\u001B[39;00m:\n\u001B[1;32m     91\u001B[0m     \u001B[38;5;28mself\u001B[39m\u001B[38;5;241m.\u001B[39m_save_dir \u001B[38;5;241m=\u001B[39m save_dir\n\u001B[0;32m---> 93\u001B[0m \u001B[38;5;28;43mself\u001B[39;49m\u001B[38;5;241;43m.\u001B[39;49m\u001B[43m_load\u001B[49m\u001B[43m(\u001B[49m\u001B[43m)\u001B[49m\n",
      "File \u001B[0;32m/opt/anaconda3/envs/CellSeg3D_torch/lib/python3.8/site-packages/dgl/data/dgl_dataset.py:178\u001B[0m, in \u001B[0;36mDGLDataset._load\u001B[0;34m(self)\u001B[0m\n\u001B[1;32m    176\u001B[0m \u001B[38;5;28;01mif\u001B[39;00m \u001B[38;5;129;01mnot\u001B[39;00m load_flag:\n\u001B[1;32m    177\u001B[0m     \u001B[38;5;28mself\u001B[39m\u001B[38;5;241m.\u001B[39m_download()\n\u001B[0;32m--> 178\u001B[0m     \u001B[38;5;28;43mself\u001B[39;49m\u001B[38;5;241;43m.\u001B[39;49m\u001B[43mprocess\u001B[49m\u001B[43m(\u001B[49m\u001B[43m)\u001B[49m\n\u001B[1;32m    179\u001B[0m     \u001B[38;5;28mself\u001B[39m\u001B[38;5;241m.\u001B[39msave()\n\u001B[1;32m    180\u001B[0m     \u001B[38;5;28;01mif\u001B[39;00m \u001B[38;5;28mself\u001B[39m\u001B[38;5;241m.\u001B[39mverbose:\n",
      "File \u001B[0;32m~/Documents/GitHub/3DCellSegMasterThesis/func/graph_learning.py:330\u001B[0m, in \u001B[0;36mVoxelGraphDataset.process\u001B[0;34m(self)\u001B[0m\n\u001B[1;32m    328\u001B[0m \u001B[38;5;28;01mif\u001B[39;00m \u001B[38;5;28mself\u001B[39m\u001B[38;5;241m.\u001B[39mwith_ground_truth_labels:\n\u001B[1;32m    329\u001B[0m     \u001B[38;5;28;01mif\u001B[39;00m \u001B[38;5;28mself\u001B[39m\u001B[38;5;241m.\u001B[39mwith_edge_weights:\n\u001B[0;32m--> 330\u001B[0m         graph \u001B[38;5;241m=\u001B[39m \u001B[43mdgl\u001B[49m\u001B[38;5;241;43m.\u001B[39;49m\u001B[43mfrom_networkx\u001B[49m\u001B[43m(\u001B[49m\u001B[43mnx_graph\u001B[49m\u001B[43m,\u001B[49m\u001B[43m \u001B[49m\u001B[43mnode_attrs\u001B[49m\u001B[38;5;241;43m=\u001B[39;49m\u001B[43m[\u001B[49m\u001B[38;5;124;43m\"\u001B[39;49m\u001B[38;5;124;43mfeat\u001B[39;49m\u001B[38;5;124;43m\"\u001B[39;49m\u001B[43m,\u001B[49m\u001B[43m \u001B[49m\u001B[38;5;124;43m\"\u001B[39;49m\u001B[38;5;124;43mlabel\u001B[39;49m\u001B[38;5;124;43m\"\u001B[39;49m\u001B[43m]\u001B[49m\u001B[43m,\u001B[49m\u001B[43m \u001B[49m\u001B[43medge_attrs\u001B[49m\u001B[38;5;241;43m=\u001B[39;49m\u001B[43m[\u001B[49m\u001B[38;5;124;43m\"\u001B[39;49m\u001B[38;5;124;43mweight\u001B[39;49m\u001B[38;5;124;43m\"\u001B[39;49m\u001B[43m]\u001B[49m\u001B[43m)\u001B[49m\n\u001B[1;32m    331\u001B[0m     \u001B[38;5;28;01melse\u001B[39;00m:\n\u001B[1;32m    332\u001B[0m         graph \u001B[38;5;241m=\u001B[39m dgl\u001B[38;5;241m.\u001B[39mfrom_networkx(nx_graph, node_attrs\u001B[38;5;241m=\u001B[39m[\u001B[38;5;124m\"\u001B[39m\u001B[38;5;124mfeat\u001B[39m\u001B[38;5;124m\"\u001B[39m, \u001B[38;5;124m\"\u001B[39m\u001B[38;5;124mlabel\u001B[39m\u001B[38;5;124m\"\u001B[39m])\n",
      "File \u001B[0;32m/opt/anaconda3/envs/CellSeg3D_torch/lib/python3.8/site-packages/dgl/convert.py:1259\u001B[0m, in \u001B[0;36mfrom_networkx\u001B[0;34m(nx_graph, node_attrs, edge_attrs, edge_id_attr_name, idtype, device)\u001B[0m\n\u001B[1;32m   1256\u001B[0m \u001B[38;5;28;01mif\u001B[39;00m \u001B[38;5;129;01mnot\u001B[39;00m nx_graph\u001B[38;5;241m.\u001B[39mis_directed():\n\u001B[1;32m   1257\u001B[0m     nx_graph \u001B[38;5;241m=\u001B[39m nx_graph\u001B[38;5;241m.\u001B[39mto_directed()\n\u001B[0;32m-> 1259\u001B[0m u, v, urange, vrange \u001B[38;5;241m=\u001B[39m \u001B[43mutils\u001B[49m\u001B[38;5;241;43m.\u001B[39;49m\u001B[43mgraphdata2tensors\u001B[49m\u001B[43m(\u001B[49m\n\u001B[1;32m   1260\u001B[0m \u001B[43m    \u001B[49m\u001B[43mnx_graph\u001B[49m\u001B[43m,\u001B[49m\u001B[43m \u001B[49m\u001B[43midtype\u001B[49m\u001B[43m,\u001B[49m\u001B[43m \u001B[49m\u001B[43medge_id_attr_name\u001B[49m\u001B[38;5;241;43m=\u001B[39;49m\u001B[43medge_id_attr_name\u001B[49m\u001B[43m)\u001B[49m\n\u001B[1;32m   1262\u001B[0m g \u001B[38;5;241m=\u001B[39m create_from_edges(u, v, \u001B[38;5;124m'\u001B[39m\u001B[38;5;124m_N\u001B[39m\u001B[38;5;124m'\u001B[39m, \u001B[38;5;124m'\u001B[39m\u001B[38;5;124m_E\u001B[39m\u001B[38;5;124m'\u001B[39m, \u001B[38;5;124m'\u001B[39m\u001B[38;5;124m_N\u001B[39m\u001B[38;5;124m'\u001B[39m, urange, vrange)\n\u001B[1;32m   1264\u001B[0m \u001B[38;5;66;03m# nx_graph.edges(data=True) returns src, dst, attr_dict\u001B[39;00m\n",
      "File \u001B[0;32m/opt/anaconda3/envs/CellSeg3D_torch/lib/python3.8/site-packages/dgl/utils/data.py:181\u001B[0m, in \u001B[0;36mgraphdata2tensors\u001B[0;34m(data, idtype, bipartite, **kwargs)\u001B[0m\n\u001B[1;32m    177\u001B[0m         src, dst \u001B[38;5;241m=\u001B[39m networkxbipartite2tensors(\n\u001B[1;32m    178\u001B[0m             data, idtype, top_map\u001B[38;5;241m=\u001B[39mtop_map,\n\u001B[1;32m    179\u001B[0m             bottom_map\u001B[38;5;241m=\u001B[39mbottom_map, edge_id_attr_name\u001B[38;5;241m=\u001B[39medge_id_attr_name)\n\u001B[1;32m    180\u001B[0m     \u001B[38;5;28;01melse\u001B[39;00m:\n\u001B[0;32m--> 181\u001B[0m         src, dst \u001B[38;5;241m=\u001B[39m \u001B[43mnetworkx2tensor\u001B[49m\u001B[43m(\u001B[49m\n\u001B[1;32m    182\u001B[0m \u001B[43m            \u001B[49m\u001B[43mdata\u001B[49m\u001B[43m,\u001B[49m\u001B[43m \u001B[49m\u001B[43midtype\u001B[49m\u001B[43m,\u001B[49m\u001B[43m \u001B[49m\u001B[43medge_id_attr_name\u001B[49m\u001B[38;5;241;43m=\u001B[39;49m\u001B[43medge_id_attr_name\u001B[49m\u001B[43m)\u001B[49m\n\u001B[1;32m    183\u001B[0m \u001B[38;5;28;01melse\u001B[39;00m:\n\u001B[1;32m    184\u001B[0m     \u001B[38;5;28;01mraise\u001B[39;00m DGLError(\u001B[38;5;124m'\u001B[39m\u001B[38;5;124mUnsupported graph data type:\u001B[39m\u001B[38;5;124m'\u001B[39m, \u001B[38;5;28mtype\u001B[39m(data))\n",
      "File \u001B[0;32m/opt/anaconda3/envs/CellSeg3D_torch/lib/python3.8/site-packages/dgl/utils/data.py:75\u001B[0m, in \u001B[0;36mnetworkx2tensor\u001B[0;34m(nx_graph, idtype, edge_id_attr_name)\u001B[0m\n\u001B[1;32m     72\u001B[0m     nx_graph \u001B[38;5;241m=\u001B[39m nx_graph\u001B[38;5;241m.\u001B[39mto_directed()\n\u001B[1;32m     74\u001B[0m \u001B[38;5;66;03m# Relabel nodes using consecutive integers\u001B[39;00m\n\u001B[0;32m---> 75\u001B[0m nx_graph \u001B[38;5;241m=\u001B[39m \u001B[43mnx\u001B[49m\u001B[38;5;241;43m.\u001B[39;49m\u001B[43mconvert_node_labels_to_integers\u001B[49m\u001B[43m(\u001B[49m\u001B[43mnx_graph\u001B[49m\u001B[43m,\u001B[49m\u001B[43m \u001B[49m\u001B[43mordering\u001B[49m\u001B[38;5;241;43m=\u001B[39;49m\u001B[38;5;124;43m'\u001B[39;49m\u001B[38;5;124;43msorted\u001B[39;49m\u001B[38;5;124;43m'\u001B[39;49m\u001B[43m)\u001B[49m\n\u001B[1;32m     76\u001B[0m has_edge_id \u001B[38;5;241m=\u001B[39m edge_id_attr_name \u001B[38;5;129;01mis\u001B[39;00m \u001B[38;5;129;01mnot\u001B[39;00m \u001B[38;5;28;01mNone\u001B[39;00m\n\u001B[1;32m     78\u001B[0m \u001B[38;5;28;01mif\u001B[39;00m has_edge_id:\n",
      "File \u001B[0;32m/opt/anaconda3/envs/CellSeg3D_torch/lib/python3.8/site-packages/networkx/relabel.py:278\u001B[0m, in \u001B[0;36mconvert_node_labels_to_integers\u001B[0;34m(G, first_label, ordering, label_attribute)\u001B[0m\n\u001B[1;32m    276\u001B[0m \u001B[38;5;28;01melse\u001B[39;00m:\n\u001B[1;32m    277\u001B[0m     \u001B[38;5;28;01mraise\u001B[39;00m nx\u001B[38;5;241m.\u001B[39mNetworkXError(\u001B[38;5;124mf\u001B[39m\u001B[38;5;124m\"\u001B[39m\u001B[38;5;124mUnknown node ordering: \u001B[39m\u001B[38;5;132;01m{\u001B[39;00mordering\u001B[38;5;132;01m}\u001B[39;00m\u001B[38;5;124m\"\u001B[39m)\n\u001B[0;32m--> 278\u001B[0m H \u001B[38;5;241m=\u001B[39m \u001B[43mrelabel_nodes\u001B[49m\u001B[43m(\u001B[49m\u001B[43mG\u001B[49m\u001B[43m,\u001B[49m\u001B[43m \u001B[49m\u001B[43mmapping\u001B[49m\u001B[43m)\u001B[49m\n\u001B[1;32m    279\u001B[0m \u001B[38;5;66;03m# create node attribute with the old label\u001B[39;00m\n\u001B[1;32m    280\u001B[0m \u001B[38;5;28;01mif\u001B[39;00m label_attribute \u001B[38;5;129;01mis\u001B[39;00m \u001B[38;5;129;01mnot\u001B[39;00m \u001B[38;5;28;01mNone\u001B[39;00m:\n",
      "File \u001B[0;32m/opt/anaconda3/envs/CellSeg3D_torch/lib/python3.8/site-packages/networkx/relabel.py:121\u001B[0m, in \u001B[0;36mrelabel_nodes\u001B[0;34m(G, mapping, copy)\u001B[0m\n\u001B[1;32m    119\u001B[0m     m \u001B[38;5;241m=\u001B[39m mapping\n\u001B[1;32m    120\u001B[0m \u001B[38;5;28;01mif\u001B[39;00m copy:\n\u001B[0;32m--> 121\u001B[0m     \u001B[38;5;28;01mreturn\u001B[39;00m \u001B[43m_relabel_copy\u001B[49m\u001B[43m(\u001B[49m\u001B[43mG\u001B[49m\u001B[43m,\u001B[49m\u001B[43m \u001B[49m\u001B[43mm\u001B[49m\u001B[43m)\u001B[49m\n\u001B[1;32m    122\u001B[0m \u001B[38;5;28;01melse\u001B[39;00m:\n\u001B[1;32m    123\u001B[0m     \u001B[38;5;28;01mreturn\u001B[39;00m _relabel_inplace(G, m)\n",
      "File \u001B[0;32m/opt/anaconda3/envs/CellSeg3D_torch/lib/python3.8/site-packages/networkx/relabel.py:216\u001B[0m, in \u001B[0;36m_relabel_copy\u001B[0;34m(G, mapping)\u001B[0m\n\u001B[1;32m    214\u001B[0m     H\u001B[38;5;241m.\u001B[39madd_edges_from(new_edges)\n\u001B[1;32m    215\u001B[0m \u001B[38;5;28;01melse\u001B[39;00m:\n\u001B[0;32m--> 216\u001B[0m     \u001B[43mH\u001B[49m\u001B[38;5;241;43m.\u001B[39;49m\u001B[43madd_edges_from\u001B[49m\u001B[43m(\u001B[49m\n\u001B[1;32m    217\u001B[0m \u001B[43m        \u001B[49m\u001B[43m(\u001B[49m\u001B[43mmapping\u001B[49m\u001B[38;5;241;43m.\u001B[39;49m\u001B[43mget\u001B[49m\u001B[43m(\u001B[49m\u001B[43mn1\u001B[49m\u001B[43m,\u001B[49m\u001B[43m \u001B[49m\u001B[43mn1\u001B[49m\u001B[43m)\u001B[49m\u001B[43m,\u001B[49m\u001B[43m \u001B[49m\u001B[43mmapping\u001B[49m\u001B[38;5;241;43m.\u001B[39;49m\u001B[43mget\u001B[49m\u001B[43m(\u001B[49m\u001B[43mn2\u001B[49m\u001B[43m,\u001B[49m\u001B[43m \u001B[49m\u001B[43mn2\u001B[49m\u001B[43m)\u001B[49m\u001B[43m,\u001B[49m\u001B[43m \u001B[49m\u001B[43md\u001B[49m\u001B[38;5;241;43m.\u001B[39;49m\u001B[43mcopy\u001B[49m\u001B[43m(\u001B[49m\u001B[43m)\u001B[49m\u001B[43m)\u001B[49m\n\u001B[1;32m    218\u001B[0m \u001B[43m        \u001B[49m\u001B[38;5;28;43;01mfor\u001B[39;49;00m\u001B[43m \u001B[49m\u001B[43m(\u001B[49m\u001B[43mn1\u001B[49m\u001B[43m,\u001B[49m\u001B[43m \u001B[49m\u001B[43mn2\u001B[49m\u001B[43m,\u001B[49m\u001B[43m \u001B[49m\u001B[43md\u001B[49m\u001B[43m)\u001B[49m\u001B[43m \u001B[49m\u001B[38;5;129;43;01min\u001B[39;49;00m\u001B[43m \u001B[49m\u001B[43mG\u001B[49m\u001B[38;5;241;43m.\u001B[39;49m\u001B[43medges\u001B[49m\u001B[43m(\u001B[49m\u001B[43mdata\u001B[49m\u001B[38;5;241;43m=\u001B[39;49m\u001B[38;5;28;43;01mTrue\u001B[39;49;00m\u001B[43m)\u001B[49m\n\u001B[1;32m    219\u001B[0m \u001B[43m    \u001B[49m\u001B[43m)\u001B[49m\n\u001B[1;32m    220\u001B[0m H\u001B[38;5;241m.\u001B[39mgraph\u001B[38;5;241m.\u001B[39mupdate(G\u001B[38;5;241m.\u001B[39mgraph)\n\u001B[1;32m    221\u001B[0m \u001B[38;5;28;01mreturn\u001B[39;00m H\n",
      "File \u001B[0;32m/opt/anaconda3/envs/CellSeg3D_torch/lib/python3.8/site-packages/networkx/classes/digraph.py:699\u001B[0m, in \u001B[0;36mDiGraph.add_edges_from\u001B[0;34m(self, ebunch_to_add, **attr)\u001B[0m\n\u001B[1;32m    697\u001B[0m datadict \u001B[38;5;241m=\u001B[39m \u001B[38;5;28mself\u001B[39m\u001B[38;5;241m.\u001B[39m_adj[u]\u001B[38;5;241m.\u001B[39mget(v, \u001B[38;5;28mself\u001B[39m\u001B[38;5;241m.\u001B[39medge_attr_dict_factory())\n\u001B[1;32m    698\u001B[0m datadict\u001B[38;5;241m.\u001B[39mupdate(attr)\n\u001B[0;32m--> 699\u001B[0m \u001B[43mdatadict\u001B[49m\u001B[38;5;241;43m.\u001B[39;49m\u001B[43mupdate\u001B[49m\u001B[43m(\u001B[49m\u001B[43mdd\u001B[49m\u001B[43m)\u001B[49m\n\u001B[1;32m    700\u001B[0m \u001B[38;5;28mself\u001B[39m\u001B[38;5;241m.\u001B[39m_succ[u][v] \u001B[38;5;241m=\u001B[39m datadict\n\u001B[1;32m    701\u001B[0m \u001B[38;5;28mself\u001B[39m\u001B[38;5;241m.\u001B[39m_pred[v][u] \u001B[38;5;241m=\u001B[39m datadict\n",
      "\u001B[0;31mKeyboardInterrupt\u001B[0m: "
     ]
    }
   ],
   "source": [
    "from func.graph_learning import VoxelGraphDataset\n",
    "dataset = VoxelGraphDataset(set_test, with_ground_truth_labels=True)"
   ],
   "metadata": {
    "collapsed": false,
    "pycharm": {
     "name": "#%%\n"
    }
   }
  },
  {
   "cell_type": "code",
   "execution_count": 23,
   "outputs": [
    {
     "name": "stdout",
     "output_type": "stream",
     "text": [
      "54438\n",
      "tensor(51961)\n",
      "tensor(2477)\n",
      "tensor(50397)\n",
      "tensor(0.8870)\n",
      "done\n",
      "48523\n",
      "tensor(46658)\n",
      "tensor(1865)\n",
      "tensor(45161)\n",
      "tensor(0.8976)\n",
      "done\n",
      "6310\n",
      "tensor(4091)\n",
      "tensor(2219)\n",
      "tensor(2436)\n",
      "tensor(0.4662)\n",
      "done\n",
      "41555\n",
      "tensor(38855)\n",
      "tensor(2700)\n",
      "tensor(38748)\n",
      "tensor(0.8763)\n",
      "done\n"
     ]
    }
   ],
   "source": [
    "for voxel_graph in dataset:\n",
    "    model_output = torch.sigmoid(model(voxel_graph, voxel_graph.ndata['feat']))\n",
    "    predictions = (model_output > 0.5).type(torch.FloatTensor)\n",
    "    print(len(predictions))\n",
    "    print(torch.count_nonzero(predictions))\n",
    "    print(len(predictions) - torch.count_nonzero(predictions))\n",
    "\n",
    "    labels = voxel_graph.ndata['label']\n",
    "    print(torch.count_nonzero(labels))\n",
    "\n",
    "    accuracy = (predictions == labels).float().mean()\n",
    "    print(accuracy)\n",
    "    print(\"done\")"
   ],
   "metadata": {
    "collapsed": false,
    "pycharm": {
     "name": "#%%\n"
    }
   }
  },
  {
   "cell_type": "code",
   "execution_count": 11,
   "outputs": [
    {
     "name": "stdout",
     "output_type": "stream",
     "text": [
      "DiGraph with 54438 nodes and 1172568 edges\n"
     ]
    }
   ],
   "source": [
    "print(set_test[0])"
   ],
   "metadata": {
    "collapsed": false,
    "pycharm": {
     "name": "#%%\n"
    }
   }
  },
  {
   "cell_type": "markdown",
   "source": [
    "# edge gated model"
   ],
   "metadata": {
    "collapsed": false,
    "pycharm": {
     "name": "#%% md\n"
    }
   }
  },
  {
   "cell_type": "code",
   "execution_count": 24,
   "outputs": [
    {
     "name": "stdout",
     "output_type": "stream",
     "text": [
      "4\n"
     ]
    }
   ],
   "source": [
    "set_test_edge_gated = load_obj(\"lrp_training_graphs/graphs_dataset_train_with_augmentations_LRP_retrained_skript_0_edge_gated\")\n",
    "print(len(set_test))"
   ],
   "metadata": {
    "collapsed": false,
    "pycharm": {
     "name": "#%%\n"
    }
   }
  },
  {
   "cell_type": "code",
   "execution_count": 25,
   "outputs": [
    {
     "name": "stdout",
     "output_type": "stream",
     "text": [
      "neg: 54109, \t pos: 4118\n",
      "neg: 45081, \t pos: 3995\n",
      "neg: 2467, \t pos: 3287\n",
      "neg: 38452, \t pos: 2458\n"
     ]
    }
   ],
   "source": [
    "for graph in set_test_edge_gated:\n",
    "    labels_dict = nx.get_node_attributes(graph, \"label\")\n",
    "    labels = []\n",
    "    for label in labels_dict.items():\n",
    "        #print(label[1])\n",
    "        labels.append(label[1])\n",
    "    negatives = np.count_nonzero(labels)\n",
    "    positives = len(labels) - negatives\n",
    "    print(f\"neg: {negatives}, \\t pos: {positives}\")\n"
   ],
   "metadata": {
    "collapsed": false,
    "pycharm": {
     "name": "#%%\n"
    }
   }
  },
  {
   "cell_type": "code",
   "execution_count": 26,
   "outputs": [
    {
     "data": {
      "text/plain": "GCN(\n  (conv1): GraphConv(in=3, out=16, normalization=both, activation=None)\n  (dropout): Dropout(p=0.5, inplace=False)\n  (conv2): GraphConv(in=16, out=1, normalization=both, activation=None)\n)"
     },
     "execution_count": 26,
     "metadata": {},
     "output_type": "execute_result"
    }
   ],
   "source": [
    "from func.graph_models import GCN\n",
    "import torch\n",
    "\n",
    "model_edge_gated = GCN(3, num_classes=1)\n",
    "checkpoint_graph = 'output/graph_model_focal_LRP_edge_gated.pt'\n",
    "model_edge_gated.load_state_dict(torch.load(checkpoint_graph, map_location=torch.device('cpu')))\n",
    "model_edge_gated.eval()"
   ],
   "metadata": {
    "collapsed": false,
    "pycharm": {
     "name": "#%%\n"
    }
   }
  },
  {
   "cell_type": "code",
   "execution_count": 27,
   "outputs": [],
   "source": [
    "from func.graph_learning import VoxelGraphDataset\n",
    "dataset_edge_gated = VoxelGraphDataset(set_test_edge_gated, with_ground_truth_labels=True)"
   ],
   "metadata": {
    "collapsed": false,
    "pycharm": {
     "name": "#%%\n"
    }
   }
  },
  {
   "cell_type": "code",
   "execution_count": 28,
   "outputs": [
    {
     "name": "stdout",
     "output_type": "stream",
     "text": [
      "58227\n",
      "tensor(56395)\n",
      "tensor(1832)\n",
      "tensor(54109)\n",
      "tensor(0.9023)\n",
      "done\n",
      "49076\n",
      "tensor(48433)\n",
      "tensor(643)\n",
      "tensor(45081)\n",
      "tensor(0.9076)\n",
      "done\n",
      "5754\n",
      "tensor(4808)\n",
      "tensor(946)\n",
      "tensor(2467)\n",
      "tensor(0.4522)\n",
      "done\n",
      "40910\n",
      "tensor(40205)\n",
      "tensor(705)\n",
      "tensor(38452)\n",
      "tensor(0.9248)\n",
      "done\n"
     ]
    }
   ],
   "source": [
    "for voxel_graph in dataset_edge_gated:\n",
    "    model_output = torch.sigmoid(model_edge_gated(voxel_graph, voxel_graph.ndata['feat']))\n",
    "    predictions = (model_output > 0.5).type(torch.FloatTensor)\n",
    "    print(len(predictions))\n",
    "    print(torch.count_nonzero(predictions))\n",
    "    print(len(predictions) - torch.count_nonzero(predictions))\n",
    "\n",
    "    labels = voxel_graph.ndata['label']\n",
    "    print(torch.count_nonzero(labels))\n",
    "\n",
    "    accuracy = (predictions == labels).float().mean()\n",
    "    print(accuracy)\n",
    "    print(\"done\")"
   ],
   "metadata": {
    "collapsed": false,
    "pycharm": {
     "name": "#%%\n"
    }
   }
  },
  {
   "cell_type": "code",
   "execution_count": 29,
   "outputs": [
    {
     "name": "stdout",
     "output_type": "stream",
     "text": [
      "DiGraph with 58227 nodes and 1226674 edges\n"
     ]
    }
   ],
   "source": [
    "print(set_test_edge_gated[0])"
   ],
   "metadata": {
    "collapsed": false,
    "pycharm": {
     "name": "#%%\n"
    }
   }
  },
  {
   "cell_type": "markdown",
   "source": [
    "# new"
   ],
   "metadata": {
    "collapsed": false,
    "pycharm": {
     "name": "#%% md\n"
    }
   }
  },
  {
   "cell_type": "code",
   "execution_count": 37,
   "outputs": [
    {
     "name": "stdout",
     "output_type": "stream",
     "text": [
      "4\n"
     ]
    }
   ],
   "source": [
    "import bz2\n",
    "import pickle as pkl\n",
    "\n",
    "def decompress_pickle(file):\n",
    "    data = bz2.BZ2File(file, 'rb')\n",
    "    data = pkl.load(data)\n",
    "    return data\n",
    "\n",
    "set_test = decompress_pickle(\"lrp_training_graphs/graphs_dataset_train_with_augmentations_LRP_retrained_skript_0.pbz2\")\n",
    "print(len(set_test))"
   ],
   "metadata": {
    "collapsed": false,
    "pycharm": {
     "name": "#%%\n"
    }
   }
  },
  {
   "cell_type": "code",
   "execution_count": 38,
   "outputs": [
    {
     "name": "stdout",
     "output_type": "stream",
     "text": [
      "neg: 53492, \t pos: 946\n",
      "neg: 48315, \t pos: 208\n",
      "neg: 5618, \t pos: 692\n",
      "neg: 40930, \t pos: 625\n"
     ]
    }
   ],
   "source": [
    "for graph in set_test:\n",
    "    labels_dict = nx.get_node_attributes(graph, \"label\")\n",
    "    labels = []\n",
    "    for label in labels_dict.items():\n",
    "        #print(label[1])\n",
    "        labels.append(label[1])\n",
    "    negatives = np.count_nonzero(labels)\n",
    "    positives = len(labels) - negatives\n",
    "    print(f\"neg: {negatives}, \\t pos: {positives}\")\n"
   ],
   "metadata": {
    "collapsed": false,
    "pycharm": {
     "name": "#%%\n"
    }
   }
  },
  {
   "cell_type": "code",
   "execution_count": 39,
   "outputs": [
    {
     "data": {
      "text/plain": "GCN(\n  (conv1): GraphConv(in=3, out=16, normalization=both, activation=None)\n  (dropout): Dropout(p=0.5, inplace=False)\n  (conv2): GraphConv(in=16, out=1, normalization=both, activation=None)\n)"
     },
     "execution_count": 39,
     "metadata": {},
     "output_type": "execute_result"
    }
   ],
   "source": [
    "from func.graph_models import GCN\n",
    "import torch\n",
    "\n",
    "model = GCN(3, num_classes=1)\n",
    "checkpoint_graph = 'output/graph_model_focal_LRP_retrained_2.pt'\n",
    "model.load_state_dict(torch.load(checkpoint_graph, map_location=torch.device('cpu')))\n",
    "model.eval()"
   ],
   "metadata": {
    "collapsed": false,
    "pycharm": {
     "name": "#%%\n"
    }
   }
  },
  {
   "cell_type": "code",
   "execution_count": 40,
   "outputs": [],
   "source": [
    "from func.graph_learning import VoxelGraphDataset\n",
    "dataset = VoxelGraphDataset(set_test, with_ground_truth_labels=True)"
   ],
   "metadata": {
    "collapsed": false,
    "pycharm": {
     "name": "#%%\n"
    }
   }
  },
  {
   "cell_type": "code",
   "execution_count": 41,
   "outputs": [
    {
     "name": "stdout",
     "output_type": "stream",
     "text": [
      "54438\n",
      "tensor(54438)\n",
      "tensor(0)\n",
      "tensor(53492)\n",
      "tensor(0.9826)\n",
      "done\n",
      "48523\n",
      "tensor(48523)\n",
      "tensor(0)\n",
      "tensor(48315)\n",
      "tensor(0.9957)\n",
      "done\n",
      "6310\n",
      "tensor(6310)\n",
      "tensor(0)\n",
      "tensor(5618)\n",
      "tensor(0.8903)\n",
      "done\n",
      "41555\n",
      "tensor(41555)\n",
      "tensor(0)\n",
      "tensor(40930)\n",
      "tensor(0.9850)\n",
      "done\n"
     ]
    }
   ],
   "source": [
    "for voxel_graph in dataset:\n",
    "    model_output = torch.sigmoid(model(voxel_graph, voxel_graph.ndata['feat']))\n",
    "    predictions = (model_output > 0.5).type(torch.FloatTensor)\n",
    "    print(len(predictions))\n",
    "    print(torch.count_nonzero(predictions))\n",
    "    print(len(predictions) - torch.count_nonzero(predictions))\n",
    "\n",
    "    labels = voxel_graph.ndata['label']\n",
    "    print(torch.count_nonzero(labels))\n",
    "\n",
    "    accuracy = (predictions == labels).float().mean()\n",
    "    print(accuracy)\n",
    "    print(\"done\")"
   ],
   "metadata": {
    "collapsed": false,
    "pycharm": {
     "name": "#%%\n"
    }
   }
  },
  {
   "cell_type": "code",
   "execution_count": null,
   "outputs": [],
   "source": [],
   "metadata": {
    "collapsed": false,
    "pycharm": {
     "name": "#%%\n"
    }
   }
  }
 ],
 "metadata": {
  "kernelspec": {
   "display_name": "Python 3",
   "language": "python",
   "name": "python3"
  },
  "language_info": {
   "codemirror_mode": {
    "name": "ipython",
    "version": 2
   },
   "file_extension": ".py",
   "mimetype": "text/x-python",
   "name": "python",
   "nbconvert_exporter": "python",
   "pygments_lexer": "ipython2",
   "version": "2.7.6"
  }
 },
 "nbformat": 4,
 "nbformat_minor": 0
}