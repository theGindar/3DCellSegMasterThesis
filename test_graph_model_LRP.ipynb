{
 "cells": [
  {
   "cell_type": "markdown",
   "metadata": {
    "collapsed": true,
    "pycharm": {
     "name": "#%% md\n"
    }
   },
   "source": [
    "# Get Metrics of the Graph model on test set graphs"
   ]
  },
  {
   "cell_type": "code",
   "execution_count": null,
   "outputs": [],
   "source": [
    "from func.ultis import load_obj\n",
    "import networkx as nx\n",
    "import numpy as np"
   ],
   "metadata": {
    "collapsed": false,
    "pycharm": {
     "name": "#%%\n"
    }
   }
  },
  {
   "cell_type": "code",
   "execution_count": 5,
   "outputs": [
    {
     "name": "stdout",
     "output_type": "stream",
     "text": [
      "4\n"
     ]
    }
   ],
   "source": [
    "set_test = load_obj(\"lrp_training_graphs/graphs_dataset_train_with_augmentations_LRP_retrained_skript_0\")\n",
    "print(len(set_test))"
   ],
   "metadata": {
    "collapsed": false,
    "pycharm": {
     "name": "#%%\n"
    }
   }
  },
  {
   "cell_type": "code",
   "execution_count": 6,
   "outputs": [
    {
     "name": "stdout",
     "output_type": "stream",
     "text": [
      "neg: 50397, \t pos: 4041\n",
      "neg: 45161, \t pos: 3362\n",
      "neg: 2436, \t pos: 3874\n",
      "neg: 38748, \t pos: 2807\n"
     ]
    }
   ],
   "source": [
    "for graph in set_test:\n",
    "    labels_dict = nx.get_node_attributes(graph, \"label\")\n",
    "    labels = []\n",
    "    for label in labels_dict.items():\n",
    "        #print(label[1])\n",
    "        labels.append(label[1])\n",
    "    negatives = np.count_nonzero(labels)\n",
    "    positives = len(labels) - negatives\n",
    "    print(f\"neg: {negatives}, \\t pos: {positives}\")\n"
   ],
   "metadata": {
    "collapsed": false,
    "pycharm": {
     "name": "#%%\n"
    }
   }
  },
  {
   "cell_type": "code",
   "execution_count": 8,
   "outputs": [
    {
     "data": {
      "text/plain": "GCN(\n  (conv1): GraphConv(in=3, out=16, normalization=both, activation=None)\n  (dropout): Dropout(p=0.5, inplace=False)\n  (conv2): GraphConv(in=16, out=1, normalization=both, activation=None)\n)"
     },
     "execution_count": 8,
     "metadata": {},
     "output_type": "execute_result"
    }
   ],
   "source": [
    "from func.graph_models import GCN\n",
    "import torch\n",
    "\n",
    "model = GCN(3, num_classes=1)\n",
    "checkpoint_graph = 'output/graph_model_focal_LRP_retrained.pt'\n",
    "model.load_state_dict(torch.load(checkpoint_graph, map_location=torch.device('cpu')))\n",
    "model.eval()"
   ],
   "metadata": {
    "collapsed": false,
    "pycharm": {
     "name": "#%%\n"
    }
   }
  },
  {
   "cell_type": "code",
   "execution_count": 13,
   "outputs": [],
   "source": [
    "from func.graph_learning import VoxelGraphDataset\n",
    "dataset = VoxelGraphDataset(set_test, with_ground_truth_labels=True)"
   ],
   "metadata": {
    "collapsed": false,
    "pycharm": {
     "name": "#%%\n"
    }
   }
  },
  {
   "cell_type": "code",
   "execution_count": 15,
   "outputs": [
    {
     "name": "stdout",
     "output_type": "stream",
     "text": [
      "tensor(0.5376)\n",
      "done\n",
      "tensor(0.5252)\n",
      "done\n",
      "tensor(0.5643)\n",
      "done\n",
      "tensor(0.5717)\n",
      "done\n"
     ]
    }
   ],
   "source": [
    "for voxel_graph in dataset:\n",
    "    model_output = torch.sigmoid(model(voxel_graph, voxel_graph.ndata['feat']))\n",
    "    predictions = (model_output > 0.5).type(torch.FloatTensor)\n",
    "\n",
    "    labels = voxel_graph.ndata['label']\n",
    "\n",
    "    accuracy = (predictions == labels).float().mean()\n",
    "    print(accuracy)\n",
    "    print(\"done\")"
   ],
   "metadata": {
    "collapsed": false,
    "pycharm": {
     "name": "#%%\n"
    }
   }
  },
  {
   "cell_type": "code",
   "execution_count": 11,
   "outputs": [
    {
     "name": "stdout",
     "output_type": "stream",
     "text": [
      "DiGraph with 54438 nodes and 1172568 edges\n"
     ]
    }
   ],
   "source": [
    "print(set_test[0])"
   ],
   "metadata": {
    "collapsed": false,
    "pycharm": {
     "name": "#%%\n"
    }
   }
  },
  {
   "cell_type": "code",
   "execution_count": null,
   "outputs": [],
   "source": [],
   "metadata": {
    "collapsed": false,
    "pycharm": {
     "name": "#%%\n"
    }
   }
  }
 ],
 "metadata": {
  "kernelspec": {
   "display_name": "Python 3",
   "language": "python",
   "name": "python3"
  },
  "language_info": {
   "codemirror_mode": {
    "name": "ipython",
    "version": 2
   },
   "file_extension": ".py",
   "mimetype": "text/x-python",
   "name": "python",
   "nbconvert_exporter": "python",
   "pygments_lexer": "ipython2",
   "version": "2.7.6"
  }
 },
 "nbformat": 4,
 "nbformat_minor": 0
}