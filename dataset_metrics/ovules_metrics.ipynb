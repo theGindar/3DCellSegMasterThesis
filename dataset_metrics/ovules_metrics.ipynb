{
 "cells": [
  {
   "cell_type": "code",
   "execution_count": 9,
   "metadata": {
    "collapsed": true,
    "pycharm": {
     "name": "#%%\n"
    }
   },
   "outputs": [],
   "source": [
    "from func.ultis import compressed_pickle\n",
    "import matplotlib.pyplot as plt\n",
    "\n",
    "from func.run_pipeline_super_vox import reassign\n",
    "import numpy as np\n",
    "from func.plot_utils import colorful_seg, fill_noise"
   ]
  },
  {
   "cell_type": "code",
   "execution_count": 10,
   "outputs": [
    {
     "name": "stderr",
     "output_type": "stream",
     "text": [
      "/var/folders/qq/9q6wphrj19z8xt4qcffm8df80000gn/T/ipykernel_96702/1575281564.py:15: DeprecationWarning: `np.float` is a deprecated alias for the builtin `float`. To silence this warning, use `float` by itself. Doing this will not modify any behavior and is safe. If you specifically wanted the numpy scalar type, use `np.float64` here.\n",
      "Deprecated in NumPy 1.20; for more details and guidance: https://numpy.org/devdocs/release/1.20.0-notes.html#deprecations\n",
      "  raw_img = normalize_data(np.array(hf[\"raw\"], dtype=np.float))\n",
      "/var/folders/qq/9q6wphrj19z8xt4qcffm8df80000gn/T/ipykernel_96702/1575281564.py:16: DeprecationWarning: `np.float` is a deprecated alias for the builtin `float`. To silence this warning, use `float` by itself. Doing this will not modify any behavior and is safe. If you specifically wanted the numpy scalar type, use `np.float64` here.\n",
      "Deprecated in NumPy 1.20; for more details and guidance: https://numpy.org/devdocs/release/1.20.0-notes.html#deprecations\n",
      "  hand_seg = np.array(hf[\"ins\"], dtype=np.float)\n",
      "/var/folders/qq/9q6wphrj19z8xt4qcffm8df80000gn/T/ipykernel_96702/1575281564.py:17: DeprecationWarning: `np.float` is a deprecated alias for the builtin `float`. To silence this warning, use `float` by itself. Doing this will not modify any behavior and is safe. If you specifically wanted the numpy scalar type, use `np.float64` here.\n",
      "Deprecated in NumPy 1.20; for more details and guidance: https://numpy.org/devdocs/release/1.20.0-notes.html#deprecations\n",
      "  boundary = np.array(hf[\"boundary\"], dtype=np.float)\n",
      "/var/folders/qq/9q6wphrj19z8xt4qcffm8df80000gn/T/ipykernel_96702/1575281564.py:28: DeprecationWarning: `np.float` is a deprecated alias for the builtin `float`. To silence this warning, use `float` by itself. Doing this will not modify any behavior and is safe. If you specifically wanted the numpy scalar type, use `np.float64` here.\n",
      "Deprecated in NumPy 1.20; for more details and guidance: https://numpy.org/devdocs/release/1.20.0-notes.html#deprecations\n",
      "  raw_img = normalize_data(np.array(hf[\"raw\"], dtype=np.float))\n",
      "/var/folders/qq/9q6wphrj19z8xt4qcffm8df80000gn/T/ipykernel_96702/1575281564.py:29: DeprecationWarning: `np.float` is a deprecated alias for the builtin `float`. To silence this warning, use `float` by itself. Doing this will not modify any behavior and is safe. If you specifically wanted the numpy scalar type, use `np.float64` here.\n",
      "Deprecated in NumPy 1.20; for more details and guidance: https://numpy.org/devdocs/release/1.20.0-notes.html#deprecations\n",
      "  hand_seg = np.array(hf[\"ins\"], dtype=np.float)\n",
      "/var/folders/qq/9q6wphrj19z8xt4qcffm8df80000gn/T/ipykernel_96702/1575281564.py:30: DeprecationWarning: `np.float` is a deprecated alias for the builtin `float`. To silence this warning, use `float` by itself. Doing this will not modify any behavior and is safe. If you specifically wanted the numpy scalar type, use `np.float64` here.\n",
      "Deprecated in NumPy 1.20; for more details and guidance: https://numpy.org/devdocs/release/1.20.0-notes.html#deprecations\n",
      "  boundary = np.array(hf[\"boundary\"], dtype=np.float)\n"
     ]
    }
   ],
   "source": [
    "from os import listdir\n",
    "\n",
    "def normalize_data(data):\n",
    "    return (data - np.min(data)) / (np.max(data) - np.min(data))\n",
    "\n",
    "hand_seg_list = []\n",
    "raw_img_list = []\n",
    "boundary_list = []\n",
    "\n",
    "\n",
    "test_file_names = [f for f in listdir(\"../data/CellSeg_dataset/Ovules_processed_thin_boundary_edge/test/\")]\n",
    "test_file_names.remove(\".DS_Store\")\n",
    "for i, test_file in enumerate(test_file_names):\n",
    "    hf = np.load(f\"../data/CellSeg_dataset/Ovules_processed_thin_boundary_edge/test/{test_file}\")\n",
    "    raw_img = normalize_data(np.array(hf[\"raw\"], dtype=np.float))\n",
    "    hand_seg = np.array(hf[\"ins\"], dtype=np.float)\n",
    "    boundary = np.array(hf[\"boundary\"], dtype=np.float)\n",
    "\n",
    "    hand_seg_list.append(hand_seg)\n",
    "    boundary_list.append(boundary)\n",
    "    raw_img_list.append(raw_img)\n",
    "\n",
    "\n",
    "train_file_names = [f for f in listdir(\"../data/CellSeg_dataset/Ovules_processed_thin_boundary_edge/train/\")]\n",
    "train_file_names.remove(\".DS_Store\")\n",
    "for i, train_file in enumerate(train_file_names):\n",
    "    hf = np.load(f\"../data/CellSeg_dataset/Ovules_processed_thin_boundary_edge/train/{train_file}\")\n",
    "    raw_img = normalize_data(np.array(hf[\"raw\"], dtype=np.float))\n",
    "    hand_seg = np.array(hf[\"ins\"], dtype=np.float)\n",
    "    boundary = np.array(hf[\"boundary\"], dtype=np.float)\n",
    "\n",
    "    hand_seg_list.append(hand_seg)\n",
    "    boundary_list.append(boundary)\n",
    "    raw_img_list.append(raw_img)"
   ],
   "metadata": {
    "collapsed": false,
    "pycharm": {
     "name": "#%%\n"
    }
   }
  },
  {
   "cell_type": "markdown",
   "source": [
    "# Calculate SSIM"
   ],
   "metadata": {
    "collapsed": false,
    "pycharm": {
     "name": "#%% md\n"
    }
   }
  },
  {
   "cell_type": "code",
   "execution_count": 17,
   "outputs": [
    {
     "data": {
      "text/plain": "  0%|          | 0/31 [00:00<?, ?it/s]",
      "application/vnd.jupyter.widget-view+json": {
       "version_major": 2,
       "version_minor": 0,
       "model_id": "c900976668d241e4b4a39a49d6b227ae"
      }
     },
     "metadata": {},
     "output_type": "display_data"
    },
    {
     "name": "stdout",
     "output_type": "stream",
     "text": [
      "0.6998434798628758\n",
      "0.6939576628354216\n",
      "0.6738888604017028\n",
      "0.7791962348096091\n",
      "0.6809081711570757\n",
      "0.4909198262072595\n",
      "0.34663486207611266\n",
      "0.670258597987072\n",
      "0.7530464351681565\n",
      "0.7438313526417133\n",
      "0.678537385614125\n",
      "0.8155377998604625\n",
      "0.3995136168420515\n",
      "0.6718017981364455\n",
      "0.606572794350784\n",
      "0.7407292881283303\n",
      "0.7144309038680539\n",
      "0.7447374010563745\n",
      "0.7583113451499399\n",
      "0.8769017994585053\n",
      "0.748154952469978\n",
      "0.8044125116312437\n",
      "0.7628888236148407\n",
      "0.7139262697693377\n",
      "0.6787037402033399\n",
      "0.706878431064838\n",
      "0.5205579483878751\n",
      "0.7354410164398552\n",
      "0.8261367304102869\n",
      "0.8685207721170467\n",
      "0.7435590171797632\n"
     ]
    }
   ],
   "source": [
    "from skimage.metrics import structural_similarity as ssim\n",
    "from skimage.metrics import peak_signal_noise_ratio as psnr\n",
    "from tqdm.notebook import tqdm\n",
    "\n",
    "ssim_list = []\n",
    "psnr_list = []\n",
    "\n",
    "for i in tqdm(range(len(raw_img_list))):\n",
    "    ssim_value = ssim(raw_img_list[i], boundary_list[i], channel_axis=None)\n",
    "    print(ssim_value)\n",
    "    ssim_list.append(ssim_value)\n",
    "    psnr_list.append(psnr(raw_img_list[i], boundary_list[i], data_range=1))"
   ],
   "metadata": {
    "collapsed": false,
    "pycharm": {
     "name": "#%%\n"
    }
   }
  },
  {
   "cell_type": "code",
   "execution_count": 18,
   "outputs": [],
   "source": [
    "# save it\n",
    "compressed_pickle(\"ssim_list_Ovules\", ssim_list)\n",
    "compressed_pickle(\"psnr_list_Ovules\", psnr_list)"
   ],
   "metadata": {
    "collapsed": false,
    "pycharm": {
     "name": "#%%\n"
    }
   }
  },
  {
   "cell_type": "markdown",
   "source": [
    "# Calculate the number of cell instances and their size"
   ],
   "metadata": {
    "collapsed": false,
    "pycharm": {
     "name": "#%% md\n"
    }
   }
  },
  {
   "cell_type": "code",
   "execution_count": 14,
   "outputs": [
    {
     "data": {
      "text/plain": "  0%|          | 0/31 [00:00<?, ?it/s]",
      "application/vnd.jupyter.widget-view+json": {
       "version_major": 2,
       "version_minor": 0,
       "model_id": "ebbf692652014a99ac8c888879b583b5"
      }
     },
     "metadata": {},
     "output_type": "display_data"
    }
   ],
   "source": [
    "value_count_list = []\n",
    "for i in tqdm(range(len(hand_seg_list))):\n",
    "    value_count_list.append(np.unique(hand_seg_list[i], return_counts=True))"
   ],
   "metadata": {
    "collapsed": false,
    "pycharm": {
     "name": "#%%\n"
    }
   }
  },
  {
   "cell_type": "code",
   "execution_count": 16,
   "outputs": [],
   "source": [
    "# save it\n",
    "compressed_pickle(\"value_count_list_Ovules\", value_count_list)"
   ],
   "metadata": {
    "collapsed": false,
    "pycharm": {
     "name": "#%%\n"
    }
   }
  },
  {
   "cell_type": "code",
   "execution_count": 19,
   "outputs": [],
   "source": [
    "# background percentage:\n",
    "background_percentages_list = []\n",
    "\n",
    "for hand_seg in hand_seg_list:\n",
    "    background_size = np.count_nonzero(hand_seg==0.)\n",
    "    total_size = hand_seg.size\n",
    "    background_percentages_list.append(background_size/total_size)"
   ],
   "metadata": {
    "collapsed": false,
    "pycharm": {
     "name": "#%%\n"
    }
   }
  },
  {
   "cell_type": "code",
   "execution_count": null,
   "outputs": [],
   "source": [],
   "metadata": {
    "collapsed": false,
    "pycharm": {
     "name": "#%%\n"
    }
   }
  }
 ],
 "metadata": {
  "kernelspec": {
   "display_name": "Python 3",
   "language": "python",
   "name": "python3"
  },
  "language_info": {
   "codemirror_mode": {
    "name": "ipython",
    "version": 2
   },
   "file_extension": ".py",
   "mimetype": "text/x-python",
   "name": "python",
   "nbconvert_exporter": "python",
   "pygments_lexer": "ipython2",
   "version": "2.7.6"
  }
 },
 "nbformat": 4,
 "nbformat_minor": 0
}