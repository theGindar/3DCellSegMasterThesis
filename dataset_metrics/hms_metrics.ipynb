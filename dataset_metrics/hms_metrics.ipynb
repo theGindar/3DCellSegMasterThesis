{
 "cells": [
  {
   "cell_type": "code",
   "execution_count": 1,
   "metadata": {
    "collapsed": true,
    "pycharm": {
     "name": "#%%\n"
    }
   },
   "outputs": [],
   "source": [
    "from func.ultis import compressed_pickle\n",
    "import matplotlib.pyplot as plt\n",
    "\n",
    "from func.run_pipeline_super_vox import reassign\n",
    "import numpy as np\n",
    "from func.plot_utils import colorful_seg, fill_noise"
   ]
  },
  {
   "cell_type": "code",
   "execution_count": 9,
   "outputs": [
    {
     "name": "stdout",
     "output_type": "stream",
     "text": [
      "['135', '95', '50', '150', '195', '105', '60', '160', '220', '210', '205', '180', '145', '80', '120', '175', '75', '110', '165', '65', '100', '190', '155', '55', '130', '90', '215', '225', '200', '115', '70', '170', '85', '125', '140', '185']\n"
     ]
    }
   ],
   "source": [
    "from os import listdir\n",
    "test_file_names = [f for f in listdir(\"../data/CellSeg_dataset/HMS_processed/segmentation/\")]\n",
    "test_file_names.remove(\".DS_Store\")\n",
    "print(test_file_names)\n",
    "\n",
    "def normalize_data(data):\n",
    "    return (data - np.min(data)) / (np.max(data) - np.min(data))\n",
    "\n",
    "hand_seg_list = []\n",
    "raw_img_list = []\n",
    "boundary_list = []\n",
    "\n",
    "for i, test_file in enumerate(test_file_names):\n",
    "    hand_seg = np.load(f\"../data/CellSeg_dataset/HMS_processed/segmentation/{test_file}/{test_file}_ins.npy\")\n",
    "    hand_seg_list.append(hand_seg)\n",
    "\n",
    "    boundary = np.load(f\"../data/CellSeg_dataset/HMS_processed/segmentation/{test_file}/{test_file}_boundary_3d_mask.npy\")\n",
    "    boundary_list.append(boundary)\n",
    "\n",
    "    raw_img = np.load(f\"../data/CellSeg_dataset/HMS_processed/raw/{test_file}.npy\")\n",
    "    raw_img_list.append(normalize_data(raw_img))"
   ],
   "metadata": {
    "collapsed": false,
    "pycharm": {
     "name": "#%%\n"
    }
   }
  },
  {
   "cell_type": "markdown",
   "source": [
    "# Calculate SSIM"
   ],
   "metadata": {
    "collapsed": false,
    "pycharm": {
     "name": "#%% md\n"
    }
   }
  },
  {
   "cell_type": "code",
   "execution_count": 17,
   "outputs": [
    {
     "data": {
      "text/plain": "  0%|          | 0/36 [00:00<?, ?it/s]",
      "application/vnd.jupyter.widget-view+json": {
       "version_major": 2,
       "version_minor": 0,
       "model_id": "0d423b73d3ce4c36913cbb8c3c03a1ae"
      }
     },
     "metadata": {},
     "output_type": "display_data"
    }
   ],
   "source": [
    "from skimage.metrics import structural_similarity as ssim\n",
    "from skimage.metrics import peak_signal_noise_ratio as psnr\n",
    "from tqdm.notebook import tqdm\n",
    "\n",
    "ssim_list = []\n",
    "psnr_list = []\n",
    "\n",
    "for i in tqdm(range(len(raw_img_list))):\n",
    "    ssim_list.append(ssim(raw_img_list[i], boundary_list[i], channel_axis=None))\n",
    "    psnr_list.append(psnr(raw_img_list[i], boundary_list[i], data_range=1))"
   ],
   "metadata": {
    "collapsed": false,
    "pycharm": {
     "name": "#%%\n"
    }
   }
  },
  {
   "cell_type": "code",
   "execution_count": 18,
   "outputs": [],
   "source": [
    "# save it\n",
    "compressed_pickle(\"ssim_list_HMS\", ssim_list)\n",
    "compressed_pickle(\"psnr_list_HMS\", psnr_list)"
   ],
   "metadata": {
    "collapsed": false,
    "pycharm": {
     "name": "#%%\n"
    }
   }
  },
  {
   "cell_type": "markdown",
   "source": [
    "# Calculate the number of cell instances and their size"
   ],
   "metadata": {
    "collapsed": false,
    "pycharm": {
     "name": "#%% md\n"
    }
   }
  },
  {
   "cell_type": "code",
   "execution_count": 15,
   "outputs": [
    {
     "data": {
      "text/plain": "  0%|          | 0/36 [00:00<?, ?it/s]",
      "application/vnd.jupyter.widget-view+json": {
       "version_major": 2,
       "version_minor": 0,
       "model_id": "e4e4f008ad9e4c1f859f632e65476876"
      }
     },
     "metadata": {},
     "output_type": "display_data"
    }
   ],
   "source": [
    "value_count_list = []\n",
    "for i in tqdm(range(len(hand_seg_list))):\n",
    "    value_count_list.append(np.unique(hand_seg_list[i], return_counts=True))"
   ],
   "metadata": {
    "collapsed": false,
    "pycharm": {
     "name": "#%%\n"
    }
   }
  },
  {
   "cell_type": "code",
   "execution_count": 16,
   "outputs": [],
   "source": [
    "# save it\n",
    "compressed_pickle(\"value_count_list_HMS\", value_count_list)"
   ],
   "metadata": {
    "collapsed": false,
    "pycharm": {
     "name": "#%%\n"
    }
   }
  },
  {
   "cell_type": "code",
   "source": [
    "# background percentage:\n",
    "background_percentages_list = []\n",
    "\n",
    "for hand_seg in hand_seg_list:\n",
    "    background_size = np.count_nonzero(hand_seg==0.)\n",
    "    total_size = hand_seg.size\n",
    "    background_percentages_list.append(background_size/total_size)"
   ],
   "metadata": {
    "collapsed": false,
    "pycharm": {
     "name": "#%%\n"
    }
   },
   "execution_count": 22,
   "outputs": []
  },
  {
   "cell_type": "code",
   "execution_count": null,
   "outputs": [],
   "source": [],
   "metadata": {
    "collapsed": false,
    "pycharm": {
     "name": "#%%\n"
    }
   }
  }
 ],
 "metadata": {
  "kernelspec": {
   "display_name": "Python 3",
   "language": "python",
   "name": "python3"
  },
  "language_info": {
   "codemirror_mode": {
    "name": "ipython",
    "version": 2
   },
   "file_extension": ".py",
   "mimetype": "text/x-python",
   "name": "python",
   "nbconvert_exporter": "python",
   "pygments_lexer": "ipython2",
   "version": "2.7.6"
  }
 },
 "nbformat": 4,
 "nbformat_minor": 0
}