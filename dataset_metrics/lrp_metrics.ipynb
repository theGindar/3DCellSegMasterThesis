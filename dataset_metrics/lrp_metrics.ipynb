{
 "cells": [
  {
   "cell_type": "code",
   "execution_count": 7,
   "metadata": {
    "collapsed": true,
    "pycharm": {
     "name": "#%%\n"
    }
   },
   "outputs": [],
   "source": [
    "from func.ultis import compressed_pickle\n",
    "import matplotlib.pyplot as plt\n",
    "\n",
    "from func.run_pipeline_super_vox import reassign\n",
    "import numpy as np\n",
    "from func.plot_utils import colorful_seg, fill_noise"
   ]
  },
  {
   "cell_type": "code",
   "execution_count": 8,
   "outputs": [
    {
     "name": "stderr",
     "output_type": "stream",
     "text": [
      "/var/folders/qq/9q6wphrj19z8xt4qcffm8df80000gn/T/ipykernel_97622/408077442.py:16: DeprecationWarning: `np.float` is a deprecated alias for the builtin `float`. To silence this warning, use `float` by itself. Doing this will not modify any behavior and is safe. If you specifically wanted the numpy scalar type, use `np.float64` here.\n",
      "Deprecated in NumPy 1.20; for more details and guidance: https://numpy.org/devdocs/release/1.20.0-notes.html#deprecations\n",
      "  raw_img = normalize_data(np.array(hf[\"raw\"], dtype=np.float))\n",
      "/var/folders/qq/9q6wphrj19z8xt4qcffm8df80000gn/T/ipykernel_97622/408077442.py:17: DeprecationWarning: `np.float` is a deprecated alias for the builtin `float`. To silence this warning, use `float` by itself. Doing this will not modify any behavior and is safe. If you specifically wanted the numpy scalar type, use `np.float64` here.\n",
      "Deprecated in NumPy 1.20; for more details and guidance: https://numpy.org/devdocs/release/1.20.0-notes.html#deprecations\n",
      "  hand_seg = np.array(hf[\"ins\"], dtype=np.float)\n",
      "/var/folders/qq/9q6wphrj19z8xt4qcffm8df80000gn/T/ipykernel_97622/408077442.py:18: DeprecationWarning: `np.float` is a deprecated alias for the builtin `float`. To silence this warning, use `float` by itself. Doing this will not modify any behavior and is safe. If you specifically wanted the numpy scalar type, use `np.float64` here.\n",
      "Deprecated in NumPy 1.20; for more details and guidance: https://numpy.org/devdocs/release/1.20.0-notes.html#deprecations\n",
      "  boundary = np.array(hf[\"boundary\"], dtype=np.float)\n",
      "/var/folders/qq/9q6wphrj19z8xt4qcffm8df80000gn/T/ipykernel_97622/408077442.py:29: DeprecationWarning: `np.float` is a deprecated alias for the builtin `float`. To silence this warning, use `float` by itself. Doing this will not modify any behavior and is safe. If you specifically wanted the numpy scalar type, use `np.float64` here.\n",
      "Deprecated in NumPy 1.20; for more details and guidance: https://numpy.org/devdocs/release/1.20.0-notes.html#deprecations\n",
      "  raw_img = normalize_data(np.array(hf[\"raw\"], dtype=np.float))\n",
      "/var/folders/qq/9q6wphrj19z8xt4qcffm8df80000gn/T/ipykernel_97622/408077442.py:30: DeprecationWarning: `np.float` is a deprecated alias for the builtin `float`. To silence this warning, use `float` by itself. Doing this will not modify any behavior and is safe. If you specifically wanted the numpy scalar type, use `np.float64` here.\n",
      "Deprecated in NumPy 1.20; for more details and guidance: https://numpy.org/devdocs/release/1.20.0-notes.html#deprecations\n",
      "  hand_seg = np.array(hf[\"ins\"], dtype=np.float)\n",
      "/var/folders/qq/9q6wphrj19z8xt4qcffm8df80000gn/T/ipykernel_97622/408077442.py:31: DeprecationWarning: `np.float` is a deprecated alias for the builtin `float`. To silence this warning, use `float` by itself. Doing this will not modify any behavior and is safe. If you specifically wanted the numpy scalar type, use `np.float64` here.\n",
      "Deprecated in NumPy 1.20; for more details and guidance: https://numpy.org/devdocs/release/1.20.0-notes.html#deprecations\n",
      "  boundary = np.array(hf[\"boundary\"], dtype=np.float)\n"
     ]
    }
   ],
   "source": [
    "import h5py\n",
    "from os import listdir\n",
    "\n",
    "def normalize_data(data):\n",
    "    return (data - np.min(data)) / (np.max(data) - np.min(data))\n",
    "\n",
    "hand_seg_list = []\n",
    "raw_img_list = []\n",
    "boundary_list = []\n",
    "\n",
    "\n",
    "test_file_names = [f for f in listdir(\"../data/CellSeg_dataset/LateralRootPrimordia_processed_wide_boundary_non_precropped/test/\")]\n",
    "# test_file_names.remove(\".DS_Store\")\n",
    "for i, test_file in enumerate(test_file_names):\n",
    "    hf = h5py.File(f\"../data/CellSeg_dataset/LateralRootPrimordia_processed_wide_boundary_non_precropped/test/{test_file}\")\n",
    "    raw_img = normalize_data(np.array(hf[\"raw\"], dtype=np.float))\n",
    "    hand_seg = np.array(hf[\"ins\"], dtype=np.float)\n",
    "    boundary = np.array(hf[\"boundary\"], dtype=np.float)\n",
    "\n",
    "    hand_seg_list.append(hand_seg)\n",
    "    boundary_list.append(boundary)\n",
    "    raw_img_list.append(raw_img)\n",
    "\n",
    "\n",
    "train_file_names = [f for f in listdir(\"../data/CellSeg_dataset/LateralRootPrimordia_processed_wide_boundary_non_precropped/train/\")]\n",
    "# train_file_names.remove(\".DS_Store\")\n",
    "for i, train_file in enumerate(train_file_names):\n",
    "    hf = h5py.File(f\"../data/CellSeg_dataset/LateralRootPrimordia_processed_wide_boundary_non_precropped/train/{train_file}\")\n",
    "    raw_img = normalize_data(np.array(hf[\"raw\"], dtype=np.float))\n",
    "    hand_seg = np.array(hf[\"ins\"], dtype=np.float)\n",
    "    boundary = np.array(hf[\"boundary\"], dtype=np.float)\n",
    "\n",
    "    hand_seg_list.append(hand_seg)\n",
    "    boundary_list.append(boundary)\n",
    "    raw_img_list.append(raw_img)"
   ],
   "metadata": {
    "collapsed": false,
    "pycharm": {
     "name": "#%%\n"
    }
   }
  },
  {
   "cell_type": "markdown",
   "source": [
    "# Calculate SSIM"
   ],
   "metadata": {
    "collapsed": false,
    "pycharm": {
     "name": "#%% md\n"
    }
   }
  },
  {
   "cell_type": "code",
   "execution_count": 13,
   "outputs": [
    {
     "data": {
      "text/plain": "  0%|          | 0/28 [00:00<?, ?it/s]",
      "application/vnd.jupyter.widget-view+json": {
       "version_major": 2,
       "version_minor": 0,
       "model_id": "8f010b8cc7f44253a73e00cc6aec07e3"
      }
     },
     "metadata": {},
     "output_type": "display_data"
    },
    {
     "name": "stdout",
     "output_type": "stream",
     "text": [
      "0.43340986780995694\n",
      "0.6641263563316528\n",
      "0.6269829402946628\n",
      "0.3851279064518803\n",
      "0.4059533224152847\n",
      "0.41788298322896344\n",
      "0.67582125080863\n",
      "0.6961061992324922\n",
      "0.6461762906306346\n",
      "0.4324964439006749\n",
      "0.4380464805274292\n",
      "0.6529457572698839\n",
      "0.3417994603794287\n",
      "0.6551894034392619\n",
      "0.40240334097813985\n",
      "0.3277742194481543\n",
      "0.43340986780995694\n",
      "0.6500749362998092\n",
      "0.6530209161168609\n",
      "0.6247047070435212\n",
      "0.4322360732269871\n",
      "0.6629402984098819\n",
      "0.6458950961835739\n",
      "0.6395192560840566\n",
      "0.5248036486422986\n",
      "0.6626190742886524\n",
      "0.6269829402946628\n",
      "0.3900877505450807\n"
     ]
    }
   ],
   "source": [
    "from skimage.metrics import structural_similarity as ssim\n",
    "from skimage.metrics import peak_signal_noise_ratio as psnr\n",
    "from tqdm.notebook import tqdm\n",
    "\n",
    "ssim_list = []\n",
    "psnr_list = []\n",
    "\n",
    "for i in tqdm(range(len(raw_img_list))):\n",
    "    ssim_value = ssim(raw_img_list[i], boundary_list[i], channel_axis=None)\n",
    "    print(ssim_value)\n",
    "    ssim_list.append(ssim_value)\n",
    "    psnr_list.append(psnr(raw_img_list[i], boundary_list[i], data_range=1))"
   ],
   "metadata": {
    "collapsed": false,
    "pycharm": {
     "name": "#%%\n"
    }
   }
  },
  {
   "cell_type": "code",
   "execution_count": 14,
   "outputs": [],
   "source": [
    "# save it\n",
    "compressed_pickle(\"ssim_list_LRP\", ssim_list)\n",
    "compressed_pickle(\"psnr_list_LRP\", psnr_list)"
   ],
   "metadata": {
    "collapsed": false,
    "pycharm": {
     "name": "#%%\n"
    }
   }
  },
  {
   "cell_type": "markdown",
   "source": [
    "# Calculate the number of cell instances and their size"
   ],
   "metadata": {
    "collapsed": false,
    "pycharm": {
     "name": "#%% md\n"
    }
   }
  },
  {
   "cell_type": "code",
   "execution_count": 11,
   "outputs": [
    {
     "data": {
      "text/plain": "  0%|          | 0/28 [00:00<?, ?it/s]",
      "application/vnd.jupyter.widget-view+json": {
       "version_major": 2,
       "version_minor": 0,
       "model_id": "58a422b717794f3a917ad4ebac287499"
      }
     },
     "metadata": {},
     "output_type": "display_data"
    }
   ],
   "source": [
    "value_count_list = []\n",
    "for i in tqdm(range(len(hand_seg_list))):\n",
    "    value_count_list.append(np.unique(hand_seg_list[i], return_counts=True))"
   ],
   "metadata": {
    "collapsed": false,
    "pycharm": {
     "name": "#%%\n"
    }
   }
  },
  {
   "cell_type": "code",
   "execution_count": 12,
   "outputs": [],
   "source": [
    "# save it\n",
    "compressed_pickle(\"value_count_list_LRP\", value_count_list)"
   ],
   "metadata": {
    "collapsed": false,
    "pycharm": {
     "name": "#%%\n"
    }
   }
  },
  {
   "cell_type": "code",
   "execution_count": 12,
   "outputs": [],
   "source": [],
   "metadata": {
    "collapsed": false,
    "pycharm": {
     "name": "#%%\n"
    }
   }
  }
 ],
 "metadata": {
  "kernelspec": {
   "display_name": "Python 3",
   "language": "python",
   "name": "python3"
  },
  "language_info": {
   "codemirror_mode": {
    "name": "ipython",
    "version": 2
   },
   "file_extension": ".py",
   "mimetype": "text/x-python",
   "name": "python",
   "nbconvert_exporter": "python",
   "pygments_lexer": "ipython2",
   "version": "2.7.6"
  }
 },
 "nbformat": 4,
 "nbformat_minor": 0
}