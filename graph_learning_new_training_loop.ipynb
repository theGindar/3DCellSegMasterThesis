{
 "cells": [
  {
   "cell_type": "markdown",
   "source": [
    "## pipeline"
   ],
   "metadata": {
    "collapsed": false
   }
  },
  {
   "cell_type": "code",
   "execution_count": 1,
   "outputs": [
    {
     "name": "stderr",
     "output_type": "stream",
     "text": [
      "Using backend: pytorch\n"
     ]
    }
   ],
   "source": [
    "import networkx as nx\n",
    "import numpy as np\n",
    "import torch\n",
    "\n",
    "import torch.nn as nn\n",
    "\n",
    "from statistics import mean\n",
    "\n",
    "from func.run_pipeline_super_vox import get_outlayer_of_a_3d_shape, get_crop_by_pixel_val\n",
    "from func.ultis import load_obj\n",
    "\n",
    "from func.graph_learning import SuperVoxToNxGraph, VoxelGraphDataset\n"
   ],
   "metadata": {
    "collapsed": false,
    "pycharm": {
     "name": "#%%\n"
    }
   }
  },
  {
   "cell_type": "code",
   "execution_count": 2,
   "outputs": [],
   "source": [
    "# load graphs\n",
    "from func.ultis import load_obj\n",
    "\n",
    "# graphs = load_obj(\"graphs_dataset_train\")\n",
    "graphs = load_obj(\"graphs_dataset_train_with_augmentations\")"
   ],
   "metadata": {
    "collapsed": false,
    "pycharm": {
     "name": "#%%\n"
    }
   }
  },
  {
   "cell_type": "code",
   "execution_count": 3,
   "outputs": [],
   "source": [
    "import random\n",
    "random.seed(0)\n",
    "random.shuffle(graphs)"
   ],
   "metadata": {
    "collapsed": false,
    "pycharm": {
     "name": "#%%\n"
    }
   }
  },
  {
   "cell_type": "code",
   "execution_count": 4,
   "outputs": [
    {
     "name": "stderr",
     "output_type": "stream",
     "text": [
      "/opt/anaconda3/envs/CellSeg3D_torch/lib/python3.8/site-packages/dgl/backend/pytorch/tensor.py:40: UserWarning: Creating a tensor from a list of numpy.ndarrays is extremely slow. Please consider converting the list to a single numpy.ndarray with numpy.array() before converting to a tensor. (Triggered internally at  /Users/distiller/project/pytorch/torch/csrc/utils/tensor_new.cpp:210.)\n",
      "  return th.as_tensor(data, dtype=dtype)\n"
     ]
    }
   ],
   "source": [
    "dataset = VoxelGraphDataset(graphs)\n",
    "\n",
    "g = dataset[0]\n"
   ],
   "metadata": {
    "collapsed": false,
    "pycharm": {
     "name": "#%%\n"
    }
   }
  },
  {
   "cell_type": "markdown",
   "source": [
    "# TODO probably should normalize features!!!!"
   ],
   "metadata": {
    "collapsed": false,
    "pycharm": {
     "name": "#%% md\n"
    }
   }
  },
  {
   "cell_type": "code",
   "execution_count": 5,
   "outputs": [],
   "source": [
    "from dgl.dataloading import GraphDataLoader\n",
    "from torch.utils.data.sampler import SubsetRandomSampler\n",
    "\n",
    "num_examples = len(dataset)\n",
    "num_train = int(num_examples)\n",
    "\n",
    "train_sampler = SubsetRandomSampler(torch.arange(num_train))\n",
    "test_sampler = SubsetRandomSampler(torch.arange(num_train, num_examples))\n",
    "\n",
    "train_dataloader = GraphDataLoader(\n",
    "    dataset, sampler=train_sampler, batch_size=5, drop_last=False)"
   ],
   "metadata": {
    "collapsed": false,
    "pycharm": {
     "name": "#%%\n"
    }
   }
  },
  {
   "cell_type": "code",
   "source": [
    "from func.graph_models import GCN, GCN_2\n",
    "import torch.nn.functional as F\n",
    "import random\n",
    "\n",
    "model = GCN(3, num_classes=2)\n",
    "CELoss = nn.CrossEntropyLoss()\n",
    "\n",
    "# training\n",
    "optimizer = torch.optim.Adam(model.parameters(), lr=0.01)\n",
    "best_val_acc = 0\n",
    "\n",
    "\n",
    "\n",
    "# features = g.ndata['feat']\n",
    "# labels = g.ndata['label']\n",
    "# train_mask = g.ndata['train_mask']\n",
    "# val_mask = g.ndata['val_mask']\n",
    "\n",
    "# calculate weights for loss\n",
    "\"\"\"\n",
    "pos_weights = []\n",
    "neg_weights = []\n",
    "for graph_number in range(len(dataset)):\n",
    "    sample_graph = dataset[graph_number]\n",
    "    labels = sample_graph.ndata['label']\n",
    "    # create class weights\n",
    "    number_positives = torch.count_nonzero(labels)\n",
    "    positive_weight = 1 - (number_positives / len(labels))\n",
    "    negative_weight = 1 - positive_weight\n",
    "\n",
    "    pos_weights.append(positive_weight.item())\n",
    "    neg_weights.append(negative_weight.item())\n",
    "weights = torch.tensor([mean(neg_weights), mean(pos_weights)])\n",
    "print(f\"weights: {weights}\")\n",
    "\"\"\"\n",
    "from torchmetrics import F1Score\n",
    "\n",
    "f1 = F1Score(num_classes=2, average='weighted')\n",
    "\n",
    "epoch_loss = []\n",
    "epoch_val_loss = []\n",
    "epoch_accuracy = []\n",
    "\n",
    "epoch_f1score = []\n",
    "epoch_f1score_val = []\n",
    "\n",
    "epoch_accuracy_val = []\n",
    "# best_val_acc = 0\n",
    "best_val_loss = 1000\n",
    "\n",
    "for e in range(500):\n",
    "    # get random elements for batch\n",
    "    #graphs_numbers_list = range(0, len(dataset))\n",
    "    #rand_graph_numbers = random.sample(graphs_numbers_list, len(dataset))\n",
    "    for graph_number in range(len(dataset)):\n",
    "    #for graph_number in range(1):\n",
    "    #for graph_number in rand_graph_numbers:\n",
    "        # Forward\n",
    "        model.train()\n",
    "        sample_graph = dataset[graph_number]\n",
    "        features = sample_graph.ndata['feat']\n",
    "        labels = sample_graph.ndata['label']\n",
    "        train_mask = sample_graph.ndata['train_mask']\n",
    "        val_mask = sample_graph.ndata['val_mask']\n",
    "\n",
    "        # create class weights\n",
    "        number_positives = torch.count_nonzero(labels)\n",
    "        percentage_positives = number_positives / len(labels)\n",
    "        percentage_negatives = 1 - percentage_positives\n",
    "\n",
    "        weights = torch.tensor([1 - percentage_negatives, 1 - percentage_positives])\n",
    "        #weights = torch.tensor([0.95, 0.05])\n",
    "        #print(weights)\n",
    "\n",
    "        CELoss = nn.CrossEntropyLoss(weight=weights)\n",
    "        train_mask = sample_graph.ndata['train_mask']\n",
    "        val_mask = sample_graph.ndata['val_mask']\n",
    "        logits = model(sample_graph, features)\n",
    "\n",
    "        # Compute prediction\n",
    "        pred = logits.argmax(1)\n",
    "\n",
    "        # Compute loss\n",
    "        # Note that you should only compute the losses of the nodes in the training set.\n",
    "        loss = CELoss(logits[train_mask], labels[train_mask])\n",
    "\n",
    "\n",
    "\n",
    "        epoch_loss.append(loss.item())\n",
    "\n",
    "        #print(loss)\n",
    "        # Compute accuracy on training/validation/test\n",
    "        train_acc = (pred[train_mask] == labels[train_mask]).float().mean()\n",
    "        val_acc = (pred[val_mask] == labels[val_mask]).float().mean()\n",
    "\n",
    "        train_f1_score = f1(pred[train_mask], labels[train_mask])\n",
    "        val_f1_score = f1(pred[val_mask], labels[val_mask])\n",
    "\n",
    "\n",
    "        epoch_accuracy.append(train_acc.item())\n",
    "        epoch_accuracy_val.append(val_acc.item())\n",
    "\n",
    "        epoch_f1score.append(train_f1_score.item())\n",
    "        epoch_f1score_val.append(val_f1_score.item())\n",
    "\n",
    "\n",
    "        # Backward\n",
    "        optimizer.zero_grad()\n",
    "        loss.backward()\n",
    "        optimizer.step()\n",
    "\n",
    "        model.eval()\n",
    "        with torch.no_grad():\n",
    "            logits = model(sample_graph, features)\n",
    "            val_loss = CELoss(logits[val_mask], labels[val_mask])\n",
    "            epoch_val_loss.append(val_loss.item())\n",
    "        model.train()\n",
    "\n",
    "    if e % 5 == 0:\n",
    "        print('In epoch {}, loss: {:.5f}, val loss: {:.5f}, accuracy: {:.3f}, val accuracy: {:.3f}, f1score: {:.3f}, val f1score: {:.3f}'.format(\n",
    "            e, mean(epoch_loss), mean(epoch_val_loss), mean(epoch_accuracy), mean(epoch_accuracy_val), mean(epoch_f1score), mean(epoch_f1score_val)))\n",
    "\n",
    "        #if mean(epoch_accuracy_val) >= best_val_acc:\n",
    "        if mean(epoch_val_loss) <= best_val_loss:\n",
    "            print(\"new best val loss\")\n",
    "            torch.save(model.state_dict(), \"output/graph_model.pt\")\n",
    "            best_val_loss = mean(epoch_val_loss)\n",
    "        epoch_loss = []\n",
    "        epoch_val_loss = []\n",
    "        epoch_accuracy = []\n",
    "\n",
    "        epoch_accuracy_val = []\n",
    "        epoch_f1score_val = []\n"
   ],
   "metadata": {
    "collapsed": false,
    "pycharm": {
     "name": "#%%\n"
    }
   },
   "execution_count": 6,
   "outputs": [
    {
     "name": "stderr",
     "output_type": "stream",
     "text": [
      "/opt/anaconda3/envs/CellSeg3D_torch/lib/python3.8/site-packages/torch/autocast_mode.py:162: UserWarning: User provided device_type of 'cuda', but CUDA is not available. Disabling\n",
      "  warnings.warn('User provided device_type of \\'cuda\\', but CUDA is not available. Disabling')\n"
     ]
    },
    {
     "name": "stdout",
     "output_type": "stream",
     "text": [
      "In epoch 0, loss: 0.68766, val loss: 0.69891, accuracy: 0.693, val accuracy: 0.650, f1score: 0.702, val f1score: 0.641\n",
      "new best val loss\n",
      "In epoch 5, loss: 0.67758, val loss: 0.67478, accuracy: 0.690, val accuracy: 0.663, f1score: 0.714, val f1score: 0.677\n",
      "new best val loss\n",
      "In epoch 10, loss: 0.67390, val loss: 0.65813, accuracy: 0.695, val accuracy: 0.671, f1score: 0.718, val f1score: 0.688\n",
      "new best val loss\n",
      "In epoch 15, loss: 0.67373, val loss: 0.65747, accuracy: 0.695, val accuracy: 0.672, f1score: 0.719, val f1score: 0.689\n",
      "new best val loss\n",
      "In epoch 20, loss: 0.67415, val loss: 0.65763, accuracy: 0.696, val accuracy: 0.671, f1score: 0.720, val f1score: 0.689\n",
      "In epoch 25, loss: 0.67380, val loss: 0.65750, accuracy: 0.696, val accuracy: 0.672, f1score: 0.721, val f1score: 0.690\n",
      "In epoch 30, loss: 0.67398, val loss: 0.65741, accuracy: 0.696, val accuracy: 0.673, f1score: 0.721, val f1score: 0.690\n",
      "new best val loss\n",
      "In epoch 35, loss: 0.67399, val loss: 0.65736, accuracy: 0.696, val accuracy: 0.672, f1score: 0.722, val f1score: 0.689\n",
      "new best val loss\n",
      "In epoch 40, loss: 0.67389, val loss: 0.65744, accuracy: 0.696, val accuracy: 0.672, f1score: 0.722, val f1score: 0.689\n",
      "In epoch 45, loss: 0.67380, val loss: 0.65735, accuracy: 0.696, val accuracy: 0.672, f1score: 0.722, val f1score: 0.689\n",
      "new best val loss\n",
      "In epoch 50, loss: 0.67378, val loss: 0.65746, accuracy: 0.696, val accuracy: 0.672, f1score: 0.722, val f1score: 0.689\n",
      "In epoch 55, loss: 0.67385, val loss: 0.65742, accuracy: 0.696, val accuracy: 0.671, f1score: 0.722, val f1score: 0.689\n",
      "In epoch 60, loss: 0.67376, val loss: 0.65738, accuracy: 0.696, val accuracy: 0.672, f1score: 0.722, val f1score: 0.689\n",
      "In epoch 65, loss: 0.67370, val loss: 0.65738, accuracy: 0.696, val accuracy: 0.672, f1score: 0.722, val f1score: 0.689\n",
      "In epoch 70, loss: 0.67385, val loss: 0.65718, accuracy: 0.696, val accuracy: 0.672, f1score: 0.722, val f1score: 0.689\n",
      "new best val loss\n",
      "In epoch 75, loss: 0.67397, val loss: 0.65741, accuracy: 0.696, val accuracy: 0.671, f1score: 0.723, val f1score: 0.689\n",
      "In epoch 80, loss: 0.67386, val loss: 0.65740, accuracy: 0.696, val accuracy: 0.673, f1score: 0.723, val f1score: 0.690\n",
      "In epoch 85, loss: 0.67384, val loss: 0.65728, accuracy: 0.696, val accuracy: 0.671, f1score: 0.723, val f1score: 0.688\n",
      "In epoch 90, loss: 0.67397, val loss: 0.65733, accuracy: 0.696, val accuracy: 0.672, f1score: 0.723, val f1score: 0.689\n",
      "In epoch 95, loss: 0.67379, val loss: 0.65739, accuracy: 0.696, val accuracy: 0.671, f1score: 0.723, val f1score: 0.688\n",
      "In epoch 100, loss: 0.67363, val loss: 0.65719, accuracy: 0.696, val accuracy: 0.672, f1score: 0.723, val f1score: 0.689\n",
      "In epoch 105, loss: 0.67390, val loss: 0.65730, accuracy: 0.696, val accuracy: 0.672, f1score: 0.723, val f1score: 0.689\n",
      "In epoch 110, loss: 0.67370, val loss: 0.65719, accuracy: 0.696, val accuracy: 0.672, f1score: 0.723, val f1score: 0.689\n",
      "In epoch 115, loss: 0.67367, val loss: 0.65706, accuracy: 0.696, val accuracy: 0.673, f1score: 0.723, val f1score: 0.690\n",
      "new best val loss\n",
      "In epoch 120, loss: 0.67352, val loss: 0.65707, accuracy: 0.696, val accuracy: 0.671, f1score: 0.723, val f1score: 0.689\n",
      "In epoch 125, loss: 0.67372, val loss: 0.65732, accuracy: 0.695, val accuracy: 0.671, f1score: 0.723, val f1score: 0.689\n",
      "In epoch 130, loss: 0.67369, val loss: 0.65702, accuracy: 0.696, val accuracy: 0.672, f1score: 0.723, val f1score: 0.689\n",
      "new best val loss\n",
      "In epoch 135, loss: 0.67368, val loss: 0.65720, accuracy: 0.695, val accuracy: 0.672, f1score: 0.723, val f1score: 0.689\n",
      "In epoch 140, loss: 0.67373, val loss: 0.65735, accuracy: 0.695, val accuracy: 0.671, f1score: 0.723, val f1score: 0.688\n",
      "In epoch 145, loss: 0.67383, val loss: 0.65737, accuracy: 0.696, val accuracy: 0.672, f1score: 0.723, val f1score: 0.689\n",
      "In epoch 150, loss: 0.67378, val loss: 0.65740, accuracy: 0.695, val accuracy: 0.672, f1score: 0.723, val f1score: 0.690\n",
      "In epoch 155, loss: 0.67373, val loss: 0.65724, accuracy: 0.696, val accuracy: 0.672, f1score: 0.723, val f1score: 0.690\n",
      "In epoch 160, loss: 0.67384, val loss: 0.65727, accuracy: 0.696, val accuracy: 0.671, f1score: 0.723, val f1score: 0.688\n",
      "In epoch 165, loss: 0.67393, val loss: 0.65735, accuracy: 0.696, val accuracy: 0.673, f1score: 0.723, val f1score: 0.690\n",
      "In epoch 170, loss: 0.67373, val loss: 0.65716, accuracy: 0.696, val accuracy: 0.672, f1score: 0.723, val f1score: 0.690\n",
      "In epoch 175, loss: 0.67394, val loss: 0.65750, accuracy: 0.696, val accuracy: 0.672, f1score: 0.723, val f1score: 0.689\n",
      "In epoch 180, loss: 0.67360, val loss: 0.65731, accuracy: 0.695, val accuracy: 0.671, f1score: 0.723, val f1score: 0.689\n",
      "In epoch 185, loss: 0.67381, val loss: 0.65733, accuracy: 0.695, val accuracy: 0.672, f1score: 0.723, val f1score: 0.690\n",
      "In epoch 190, loss: 0.67359, val loss: 0.65703, accuracy: 0.696, val accuracy: 0.672, f1score: 0.723, val f1score: 0.690\n",
      "In epoch 195, loss: 0.67361, val loss: 0.65725, accuracy: 0.695, val accuracy: 0.672, f1score: 0.723, val f1score: 0.689\n",
      "In epoch 200, loss: 0.67379, val loss: 0.65739, accuracy: 0.695, val accuracy: 0.672, f1score: 0.723, val f1score: 0.689\n",
      "In epoch 205, loss: 0.67367, val loss: 0.65722, accuracy: 0.695, val accuracy: 0.672, f1score: 0.723, val f1score: 0.689\n",
      "In epoch 210, loss: 0.67379, val loss: 0.65731, accuracy: 0.695, val accuracy: 0.671, f1score: 0.723, val f1score: 0.689\n",
      "In epoch 215, loss: 0.67370, val loss: 0.65727, accuracy: 0.696, val accuracy: 0.672, f1score: 0.723, val f1score: 0.690\n",
      "In epoch 220, loss: 0.67377, val loss: 0.65728, accuracy: 0.696, val accuracy: 0.672, f1score: 0.723, val f1score: 0.689\n",
      "In epoch 225, loss: 0.67360, val loss: 0.65721, accuracy: 0.696, val accuracy: 0.671, f1score: 0.723, val f1score: 0.689\n",
      "In epoch 230, loss: 0.67364, val loss: 0.65721, accuracy: 0.695, val accuracy: 0.672, f1score: 0.723, val f1score: 0.689\n",
      "In epoch 235, loss: 0.67376, val loss: 0.65711, accuracy: 0.696, val accuracy: 0.672, f1score: 0.723, val f1score: 0.690\n",
      "In epoch 240, loss: 0.67370, val loss: 0.65720, accuracy: 0.696, val accuracy: 0.671, f1score: 0.723, val f1score: 0.689\n",
      "In epoch 245, loss: 0.67377, val loss: 0.65733, accuracy: 0.695, val accuracy: 0.672, f1score: 0.723, val f1score: 0.689\n",
      "In epoch 250, loss: 0.67381, val loss: 0.65760, accuracy: 0.695, val accuracy: 0.672, f1score: 0.723, val f1score: 0.689\n",
      "In epoch 255, loss: 0.67364, val loss: 0.65711, accuracy: 0.696, val accuracy: 0.671, f1score: 0.723, val f1score: 0.689\n",
      "In epoch 260, loss: 0.67400, val loss: 0.65734, accuracy: 0.696, val accuracy: 0.673, f1score: 0.723, val f1score: 0.690\n",
      "In epoch 265, loss: 0.67355, val loss: 0.65701, accuracy: 0.695, val accuracy: 0.670, f1score: 0.723, val f1score: 0.688\n",
      "new best val loss\n",
      "In epoch 270, loss: 0.67361, val loss: 0.65699, accuracy: 0.696, val accuracy: 0.671, f1score: 0.723, val f1score: 0.688\n",
      "new best val loss\n",
      "In epoch 275, loss: 0.67377, val loss: 0.65724, accuracy: 0.696, val accuracy: 0.672, f1score: 0.723, val f1score: 0.690\n",
      "In epoch 280, loss: 0.67372, val loss: 0.65724, accuracy: 0.695, val accuracy: 0.672, f1score: 0.723, val f1score: 0.689\n",
      "In epoch 285, loss: 0.67365, val loss: 0.65723, accuracy: 0.695, val accuracy: 0.672, f1score: 0.723, val f1score: 0.690\n",
      "In epoch 290, loss: 0.67367, val loss: 0.65715, accuracy: 0.695, val accuracy: 0.671, f1score: 0.723, val f1score: 0.689\n",
      "In epoch 295, loss: 0.67397, val loss: 0.65708, accuracy: 0.696, val accuracy: 0.672, f1score: 0.723, val f1score: 0.689\n",
      "In epoch 300, loss: 0.67374, val loss: 0.65727, accuracy: 0.696, val accuracy: 0.671, f1score: 0.723, val f1score: 0.688\n",
      "In epoch 305, loss: 0.67341, val loss: 0.65692, accuracy: 0.696, val accuracy: 0.671, f1score: 0.723, val f1score: 0.688\n",
      "new best val loss\n",
      "In epoch 310, loss: 0.67359, val loss: 0.65696, accuracy: 0.696, val accuracy: 0.672, f1score: 0.723, val f1score: 0.690\n",
      "In epoch 315, loss: 0.67397, val loss: 0.65736, accuracy: 0.696, val accuracy: 0.671, f1score: 0.723, val f1score: 0.689\n",
      "In epoch 320, loss: 0.67350, val loss: 0.65703, accuracy: 0.696, val accuracy: 0.672, f1score: 0.723, val f1score: 0.689\n",
      "In epoch 325, loss: 0.67356, val loss: 0.65688, accuracy: 0.696, val accuracy: 0.672, f1score: 0.723, val f1score: 0.689\n",
      "new best val loss\n",
      "In epoch 330, loss: 0.67370, val loss: 0.65706, accuracy: 0.696, val accuracy: 0.672, f1score: 0.723, val f1score: 0.689\n",
      "In epoch 335, loss: 0.67378, val loss: 0.65717, accuracy: 0.696, val accuracy: 0.671, f1score: 0.723, val f1score: 0.689\n",
      "In epoch 340, loss: 0.67362, val loss: 0.65729, accuracy: 0.696, val accuracy: 0.672, f1score: 0.723, val f1score: 0.689\n",
      "In epoch 345, loss: 0.67357, val loss: 0.65711, accuracy: 0.696, val accuracy: 0.672, f1score: 0.723, val f1score: 0.689\n",
      "In epoch 350, loss: 0.67375, val loss: 0.65722, accuracy: 0.695, val accuracy: 0.671, f1score: 0.723, val f1score: 0.688\n",
      "In epoch 355, loss: 0.67364, val loss: 0.65713, accuracy: 0.695, val accuracy: 0.671, f1score: 0.723, val f1score: 0.689\n",
      "In epoch 360, loss: 0.67369, val loss: 0.65721, accuracy: 0.696, val accuracy: 0.671, f1score: 0.723, val f1score: 0.689\n",
      "In epoch 365, loss: 0.67379, val loss: 0.65716, accuracy: 0.696, val accuracy: 0.671, f1score: 0.723, val f1score: 0.688\n",
      "In epoch 370, loss: 0.67378, val loss: 0.65727, accuracy: 0.695, val accuracy: 0.672, f1score: 0.723, val f1score: 0.689\n",
      "In epoch 375, loss: 0.67372, val loss: 0.65704, accuracy: 0.696, val accuracy: 0.672, f1score: 0.723, val f1score: 0.689\n",
      "In epoch 380, loss: 0.67379, val loss: 0.65714, accuracy: 0.696, val accuracy: 0.671, f1score: 0.723, val f1score: 0.688\n",
      "In epoch 385, loss: 0.67339, val loss: 0.65703, accuracy: 0.696, val accuracy: 0.671, f1score: 0.723, val f1score: 0.689\n",
      "In epoch 390, loss: 0.67375, val loss: 0.65716, accuracy: 0.695, val accuracy: 0.672, f1score: 0.723, val f1score: 0.689\n",
      "In epoch 395, loss: 0.67366, val loss: 0.65709, accuracy: 0.696, val accuracy: 0.671, f1score: 0.723, val f1score: 0.689\n",
      "In epoch 400, loss: 0.67349, val loss: 0.65704, accuracy: 0.695, val accuracy: 0.672, f1score: 0.723, val f1score: 0.689\n",
      "In epoch 405, loss: 0.67377, val loss: 0.65707, accuracy: 0.696, val accuracy: 0.671, f1score: 0.723, val f1score: 0.688\n",
      "In epoch 410, loss: 0.67372, val loss: 0.65693, accuracy: 0.696, val accuracy: 0.671, f1score: 0.723, val f1score: 0.688\n",
      "In epoch 415, loss: 0.67387, val loss: 0.65715, accuracy: 0.696, val accuracy: 0.672, f1score: 0.723, val f1score: 0.690\n",
      "In epoch 420, loss: 0.67389, val loss: 0.65741, accuracy: 0.695, val accuracy: 0.671, f1score: 0.723, val f1score: 0.689\n",
      "In epoch 425, loss: 0.67372, val loss: 0.65704, accuracy: 0.695, val accuracy: 0.671, f1score: 0.723, val f1score: 0.688\n",
      "In epoch 430, loss: 0.67355, val loss: 0.65682, accuracy: 0.696, val accuracy: 0.672, f1score: 0.723, val f1score: 0.690\n",
      "new best val loss\n",
      "In epoch 435, loss: 0.67372, val loss: 0.65714, accuracy: 0.696, val accuracy: 0.672, f1score: 0.723, val f1score: 0.689\n",
      "In epoch 440, loss: 0.67375, val loss: 0.65697, accuracy: 0.696, val accuracy: 0.671, f1score: 0.723, val f1score: 0.689\n",
      "In epoch 445, loss: 0.67385, val loss: 0.65723, accuracy: 0.696, val accuracy: 0.673, f1score: 0.723, val f1score: 0.690\n",
      "In epoch 450, loss: 0.67382, val loss: 0.65711, accuracy: 0.696, val accuracy: 0.671, f1score: 0.723, val f1score: 0.688\n",
      "In epoch 455, loss: 0.67361, val loss: 0.65719, accuracy: 0.696, val accuracy: 0.672, f1score: 0.723, val f1score: 0.690\n",
      "In epoch 460, loss: 0.67370, val loss: 0.65706, accuracy: 0.696, val accuracy: 0.672, f1score: 0.723, val f1score: 0.689\n",
      "In epoch 465, loss: 0.67371, val loss: 0.65708, accuracy: 0.696, val accuracy: 0.671, f1score: 0.723, val f1score: 0.689\n",
      "In epoch 470, loss: 0.67356, val loss: 0.65700, accuracy: 0.696, val accuracy: 0.671, f1score: 0.723, val f1score: 0.689\n",
      "In epoch 475, loss: 0.67363, val loss: 0.65704, accuracy: 0.696, val accuracy: 0.672, f1score: 0.723, val f1score: 0.689\n",
      "In epoch 480, loss: 0.67405, val loss: 0.65756, accuracy: 0.696, val accuracy: 0.672, f1score: 0.723, val f1score: 0.689\n",
      "In epoch 485, loss: 0.67370, val loss: 0.65701, accuracy: 0.696, val accuracy: 0.672, f1score: 0.723, val f1score: 0.689\n",
      "In epoch 490, loss: 0.67362, val loss: 0.65716, accuracy: 0.696, val accuracy: 0.672, f1score: 0.723, val f1score: 0.689\n",
      "In epoch 495, loss: 0.67370, val loss: 0.65715, accuracy: 0.695, val accuracy: 0.671, f1score: 0.723, val f1score: 0.689\n"
     ]
    }
   ]
  },
  {
   "cell_type": "markdown",
   "source": [
    "from func.graph_models import GCN, GCN_2\n",
    "import torch.nn.functional as F\n",
    "import random\n",
    "import dgl\n",
    "\n",
    "model = GCN(1, num_classes=2)\n",
    "CELoss = nn.CrossEntropyLoss()\n",
    "\n",
    "# training\n",
    "optimizer = torch.optim.Adam(model.parameters(), lr=0.01)\n",
    "best_val_acc = 0\n",
    "\n",
    "\n",
    "\n",
    "# features = g.ndata['feat']\n",
    "# labels = g.ndata['label']\n",
    "# train_mask = g.ndata['train_mask']\n",
    "# val_mask = g.ndata['val_mask']\n",
    "\n",
    "# calculate weights for loss\n",
    "\"\"\"\n",
    "pos_weights = []\n",
    "neg_weights = []\n",
    "for graph_number in range(len(dataset)):\n",
    "    sample_graph = dataset[graph_number]\n",
    "    labels = sample_graph.ndata['label']\n",
    "    # create class weights\n",
    "    number_positives = torch.count_nonzero(labels)\n",
    "    positive_weight = 1 - (number_positives / len(labels))\n",
    "    negative_weight = 1 - positive_weight\n",
    "\n",
    "    pos_weights.append(positive_weight.item())\n",
    "    neg_weights.append(negative_weight.item())\n",
    "weights = torch.tensor([mean(neg_weights), mean(pos_weights)])\n",
    "print(f\"weights: {weights}\")\n",
    "\"\"\"\n",
    "\n",
    "# build one big graph\n",
    "graphs_list = []\n",
    "for i in range(len(dataset)):\n",
    "    graphs_list.append(dataset[i])\n",
    "\n",
    "large_g = dgl.batch(graphs_list)"
   ],
   "metadata": {
    "collapsed": false,
    "pycharm": {
     "name": "#%% md\n"
    }
   }
  },
  {
   "cell_type": "markdown",
   "source": [
    "epoch_loss = []\n",
    "epoch_accuracy = []\n",
    "for e in range(1000):\n",
    "    # get random elements for batch\n",
    "    #graphs_numbers_list = range(0, len(dataset))\n",
    "    #rand_graph_numbers = random.sample(graphs_numbers_list, len(dataset))\n",
    "    sample_graph = large_g\n",
    "    features = sample_graph.ndata['feat']\n",
    "    labels = sample_graph.ndata['label']\n",
    "\n",
    "    # create class weights\n",
    "    number_positives = torch.count_nonzero(labels)\n",
    "    percentage_positives = number_positives / len(labels)\n",
    "    percentage_negatives = 1 - percentage_positives\n",
    "\n",
    "    weights = torch.tensor([1 - percentage_negatives, 1 - percentage_positives])\n",
    "    #weights = torch.tensor([0.95, 0.05])\n",
    "    #print(weights)\n",
    "\n",
    "    CELoss = nn.CrossEntropyLoss(weight=weights)\n",
    "    #train_mask = sample_graph.ndata['train_mask']\n",
    "    #val_mask = sample_graph.ndata['val_mask']\n",
    "    logits = model(sample_graph, features)\n",
    "\n",
    "    # Compute prediction\n",
    "    pred = logits.argmax(1)\n",
    "\n",
    "    # Compute loss\n",
    "    # Note that you should only compute the losses of the nodes in the training set.\n",
    "    loss = CELoss(logits, labels)\n",
    "    epoch_loss.append(loss.item())\n",
    "    #print(loss)\n",
    "    # Compute accuracy on training/validation/test\n",
    "    train_acc = (pred == labels).float().mean()\n",
    "    epoch_accuracy.append(train_acc.item())\n",
    "    # Backward\n",
    "    optimizer.zero_grad()\n",
    "    loss.backward()\n",
    "    optimizer.step()\n",
    "\n",
    "    if e % 20 == 0:\n",
    "        print('In epoch {}, loss: {:.3f}, accuracy: {:.3f}'.format(\n",
    "            e, mean(epoch_loss), mean(epoch_accuracy)))\n",
    "        epoch_loss = []\n",
    "        epoch_accuracy = []\n",
    "\n",
    "\n"
   ],
   "metadata": {
    "collapsed": false,
    "pycharm": {
     "name": "#%% md\n"
    }
   }
  },
  {
   "cell_type": "markdown",
   "source": [
    "# Train on GPU\n",
    "g = g.to('cuda')\n",
    "model = GCN(1, 16, dataset.num_classes).to('cuda')\n",
    "train(g, model)"
   ],
   "metadata": {
    "collapsed": false,
    "pycharm": {
     "name": "#%% md\n"
    }
   }
  },
  {
   "cell_type": "code",
   "execution_count": 7,
   "outputs": [
    {
     "data": {
      "text/plain": "Graph(num_nodes=1560, num_edges=6800,\n      ndata_schemes={'feat': Scheme(shape=(3,), dtype=torch.float32), 'label': Scheme(shape=(), dtype=torch.int64), 'train_mask': Scheme(shape=(), dtype=torch.bool), 'val_mask': Scheme(shape=(), dtype=torch.bool)}\n      edata_schemes={'weight': Scheme(shape=(1,), dtype=torch.float64)})"
     },
     "execution_count": 7,
     "metadata": {},
     "output_type": "execute_result"
    }
   ],
   "source": [
    "g"
   ],
   "metadata": {
    "collapsed": false,
    "pycharm": {
     "name": "#%%\n"
    }
   }
  },
  {
   "cell_type": "code",
   "execution_count": 8,
   "outputs": [
    {
     "data": {
      "text/plain": "torch.Size([1560, 3])"
     },
     "execution_count": 8,
     "metadata": {},
     "output_type": "execute_result"
    }
   ],
   "source": [
    "\n",
    "g.ndata['feat'].shape"
   ],
   "metadata": {
    "collapsed": false,
    "pycharm": {
     "name": "#%%\n"
    }
   }
  },
  {
   "cell_type": "code",
   "execution_count": 9,
   "outputs": [],
   "source": [
    "model.eval()\n",
    "with torch.no_grad():\n",
    "    predictions = model(g, g.ndata['feat']).argmax(1).numpy()"
   ],
   "metadata": {
    "collapsed": false,
    "pycharm": {
     "name": "#%%\n"
    }
   }
  },
  {
   "cell_type": "code",
   "execution_count": 10,
   "outputs": [
    {
     "data": {
      "text/plain": "array([0, 1])"
     },
     "execution_count": 10,
     "metadata": {},
     "output_type": "execute_result"
    }
   ],
   "source": [
    "np.unique(predictions)"
   ],
   "metadata": {
    "collapsed": false,
    "pycharm": {
     "name": "#%%\n"
    }
   }
  },
  {
   "cell_type": "code",
   "execution_count": 11,
   "outputs": [
    {
     "data": {
      "text/plain": "array([0, 1])"
     },
     "execution_count": 11,
     "metadata": {},
     "output_type": "execute_result"
    }
   ],
   "source": [
    "labels = g.ndata['label']\n",
    "np.unique(labels)"
   ],
   "metadata": {
    "collapsed": false,
    "pycharm": {
     "name": "#%%\n"
    }
   }
  },
  {
   "cell_type": "code",
   "execution_count": 12,
   "outputs": [
    {
     "data": {
      "text/plain": "1265"
     },
     "execution_count": 12,
     "metadata": {},
     "output_type": "execute_result"
    }
   ],
   "source": [
    "len(labels[labels==1])"
   ],
   "metadata": {
    "collapsed": false,
    "pycharm": {
     "name": "#%%\n"
    }
   }
  },
  {
   "cell_type": "code",
   "execution_count": 13,
   "outputs": [
    {
     "data": {
      "text/plain": "295"
     },
     "execution_count": 13,
     "metadata": {},
     "output_type": "execute_result"
    }
   ],
   "source": [
    "len(labels[labels==0])"
   ],
   "metadata": {
    "collapsed": false,
    "pycharm": {
     "name": "#%%\n"
    }
   }
  },
  {
   "cell_type": "code",
   "execution_count": 14,
   "outputs": [
    {
     "data": {
      "text/plain": "1127"
     },
     "execution_count": 14,
     "metadata": {},
     "output_type": "execute_result"
    }
   ],
   "source": [
    "len(predictions[predictions==1])"
   ],
   "metadata": {
    "collapsed": false,
    "pycharm": {
     "name": "#%%\n"
    }
   }
  },
  {
   "cell_type": "code",
   "execution_count": 15,
   "outputs": [
    {
     "data": {
      "text/plain": "433"
     },
     "execution_count": 15,
     "metadata": {},
     "output_type": "execute_result"
    }
   ],
   "source": [
    "len(predictions[predictions==0])"
   ],
   "metadata": {
    "collapsed": false,
    "pycharm": {
     "name": "#%%\n"
    }
   }
  },
  {
   "cell_type": "code",
   "execution_count": 16,
   "outputs": [
    {
     "data": {
      "text/plain": "GCN(\n  (conv1): GraphConv(in=3, out=4, normalization=both, activation=None)\n  (dropout): Dropout(p=0.5, inplace=False)\n  (conv2): GraphConv(in=4, out=2, normalization=both, activation=None)\n)"
     },
     "execution_count": 16,
     "metadata": {},
     "output_type": "execute_result"
    }
   ],
   "source": [
    "graph_model = GCN(3, num_classes=2)\n",
    "checkpoint_graph = 'output/graph_model.pt'\n",
    "graph_model.load_state_dict(torch.load(checkpoint_graph))\n",
    "graph_model.eval()"
   ],
   "metadata": {
    "collapsed": false,
    "pycharm": {
     "name": "#%%\n"
    }
   }
  },
  {
   "cell_type": "code",
   "execution_count": 17,
   "outputs": [],
   "source": [
    "predictions = graph_model(g, g.ndata['feat']).argmax(1).numpy()\n"
   ],
   "metadata": {
    "collapsed": false,
    "pycharm": {
     "name": "#%%\n"
    }
   }
  },
  {
   "cell_type": "code",
   "execution_count": 18,
   "outputs": [
    {
     "data": {
      "text/plain": "1120"
     },
     "execution_count": 18,
     "metadata": {},
     "output_type": "execute_result"
    }
   ],
   "source": [
    "\n",
    "len(predictions[predictions==1])"
   ],
   "metadata": {
    "collapsed": false,
    "pycharm": {
     "name": "#%%\n"
    }
   }
  },
  {
   "cell_type": "code",
   "execution_count": 19,
   "outputs": [
    {
     "data": {
      "text/plain": "440"
     },
     "execution_count": 19,
     "metadata": {},
     "output_type": "execute_result"
    }
   ],
   "source": [
    "len(predictions[predictions==0])"
   ],
   "metadata": {
    "collapsed": false,
    "pycharm": {
     "name": "#%%\n"
    }
   }
  },
  {
   "cell_type": "code",
   "execution_count": 19,
   "outputs": [],
   "source": [],
   "metadata": {
    "collapsed": false,
    "pycharm": {
     "name": "#%%\n"
    }
   }
  }
 ],
 "metadata": {
  "kernelspec": {
   "display_name": "Python 3",
   "language": "python",
   "name": "python3"
  },
  "language_info": {
   "codemirror_mode": {
    "name": "ipython",
    "version": 2
   },
   "file_extension": ".py",
   "mimetype": "text/x-python",
   "name": "python",
   "nbconvert_exporter": "python",
   "pygments_lexer": "ipython2",
   "version": "2.7.6"
  }
 },
 "nbformat": 4,
 "nbformat_minor": 0
}