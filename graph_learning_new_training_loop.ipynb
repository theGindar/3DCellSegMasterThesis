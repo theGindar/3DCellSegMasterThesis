{
 "cells": [
  {
   "cell_type": "markdown",
   "source": [
    "## pipeline"
   ],
   "metadata": {
    "collapsed": false
   }
  },
  {
   "cell_type": "code",
   "execution_count": 1,
   "outputs": [
    {
     "name": "stderr",
     "output_type": "stream",
     "text": [
      "Using backend: pytorch\n"
     ]
    }
   ],
   "source": [
    "import networkx as nx\n",
    "import numpy as np\n",
    "import torch\n",
    "\n",
    "import torch.nn as nn\n",
    "\n",
    "from statistics import mean\n",
    "\n",
    "from func.run_pipeline_super_vox import get_outlayer_of_a_3d_shape, get_crop_by_pixel_val\n",
    "from func.ultis import load_obj\n",
    "\n",
    "from func.graph_learning import SuperVoxToNxGraph, VoxelGraphDataset\n"
   ],
   "metadata": {
    "collapsed": false,
    "pycharm": {
     "name": "#%%\n"
    }
   }
  },
  {
   "cell_type": "code",
   "execution_count": 2,
   "outputs": [],
   "source": [
    "# load graphs\n",
    "from func.ultis import load_obj\n",
    "\n",
    "graphs = load_obj(\"graphs_dataset_train\")\n"
   ],
   "metadata": {
    "collapsed": false,
    "pycharm": {
     "name": "#%%\n"
    }
   }
  },
  {
   "cell_type": "code",
   "execution_count": 3,
   "outputs": [],
   "source": [
    "dataset = VoxelGraphDataset(graphs)\n",
    "\n",
    "g = dataset[0]\n"
   ],
   "metadata": {
    "collapsed": false,
    "pycharm": {
     "name": "#%%\n"
    }
   }
  },
  {
   "cell_type": "markdown",
   "source": [
    "# TODO probably should normalize features!!!!"
   ],
   "metadata": {
    "collapsed": false,
    "pycharm": {
     "name": "#%% md\n"
    }
   }
  },
  {
   "cell_type": "code",
   "execution_count": 4,
   "outputs": [],
   "source": [
    "from dgl.dataloading import GraphDataLoader\n",
    "from torch.utils.data.sampler import SubsetRandomSampler\n",
    "\n",
    "num_examples = len(dataset)\n",
    "num_train = int(num_examples)\n",
    "\n",
    "train_sampler = SubsetRandomSampler(torch.arange(num_train))\n",
    "test_sampler = SubsetRandomSampler(torch.arange(num_train, num_examples))\n",
    "\n",
    "train_dataloader = GraphDataLoader(\n",
    "    dataset, sampler=train_sampler, batch_size=5, drop_last=False)"
   ],
   "metadata": {
    "collapsed": false,
    "pycharm": {
     "name": "#%%\n"
    }
   }
  },
  {
   "cell_type": "code",
   "source": [
    "from func.graph_models import GCN, GCN_2\n",
    "import torch.nn.functional as F\n",
    "import random\n",
    "\n",
    "model = GCN(1, num_classes=2)\n",
    "CELoss = nn.CrossEntropyLoss()\n",
    "\n",
    "# training\n",
    "optimizer = torch.optim.Adam(model.parameters(), lr=0.01)\n",
    "best_val_acc = 0\n",
    "\n",
    "\n",
    "\n",
    "# features = g.ndata['feat']\n",
    "# labels = g.ndata['label']\n",
    "# train_mask = g.ndata['train_mask']\n",
    "# val_mask = g.ndata['val_mask']\n",
    "\n",
    "# calculate weights for loss\n",
    "\"\"\"\n",
    "pos_weights = []\n",
    "neg_weights = []\n",
    "for graph_number in range(len(dataset)):\n",
    "    sample_graph = dataset[graph_number]\n",
    "    labels = sample_graph.ndata['label']\n",
    "    # create class weights\n",
    "    number_positives = torch.count_nonzero(labels)\n",
    "    positive_weight = 1 - (number_positives / len(labels))\n",
    "    negative_weight = 1 - positive_weight\n",
    "\n",
    "    pos_weights.append(positive_weight.item())\n",
    "    neg_weights.append(negative_weight.item())\n",
    "weights = torch.tensor([mean(neg_weights), mean(pos_weights)])\n",
    "print(f\"weights: {weights}\")\n",
    "\"\"\"\n",
    "from torchmetrics import F1Score\n",
    "\n",
    "f1 = F1Score(num_classes=2, average='weighted')\n",
    "\n",
    "epoch_loss = []\n",
    "epoch_accuracy = []\n",
    "\n",
    "epoch_f1score = []\n",
    "epoch_f1score_val = []\n",
    "\n",
    "epoch_accuracy_val = []\n",
    "# best_val_acc = 0\n",
    "best_f1_score = 0\n",
    "\n",
    "for e in range(500):\n",
    "    # get random elements for batch\n",
    "    #graphs_numbers_list = range(0, len(dataset))\n",
    "    #rand_graph_numbers = random.sample(graphs_numbers_list, len(dataset))\n",
    "    for graph_number in range(len(dataset)):\n",
    "    #for graph_number in range(1):\n",
    "    #for graph_number in rand_graph_numbers:\n",
    "        # Forward\n",
    "        model.train()\n",
    "        sample_graph = dataset[graph_number]\n",
    "        features = sample_graph.ndata['feat']\n",
    "        labels = sample_graph.ndata['label']\n",
    "        train_mask = sample_graph.ndata['train_mask']\n",
    "        val_mask = sample_graph.ndata['val_mask']\n",
    "\n",
    "        # create class weights\n",
    "        number_positives = torch.count_nonzero(labels)\n",
    "        percentage_positives = number_positives / len(labels)\n",
    "        percentage_negatives = 1 - percentage_positives\n",
    "\n",
    "        weights = torch.tensor([1 - percentage_negatives, 1 - percentage_positives])\n",
    "        #weights = torch.tensor([0.95, 0.05])\n",
    "        #print(weights)\n",
    "\n",
    "        CELoss = nn.CrossEntropyLoss(weight=weights)\n",
    "        train_mask = sample_graph.ndata['train_mask']\n",
    "        val_mask = sample_graph.ndata['val_mask']\n",
    "        logits = model(sample_graph, features)\n",
    "\n",
    "        # Compute prediction\n",
    "        pred = logits.argmax(1)\n",
    "\n",
    "        # Compute loss\n",
    "        # Note that you should only compute the losses of the nodes in the training set.\n",
    "        loss = CELoss(logits[train_mask], labels[train_mask])\n",
    "        epoch_loss.append(loss.item())\n",
    "        #print(loss)\n",
    "        # Compute accuracy on training/validation/test\n",
    "        train_acc = (pred[train_mask] == labels[train_mask]).float().mean()\n",
    "        val_acc = (pred[val_mask] == labels[val_mask]).float().mean()\n",
    "\n",
    "        train_f1_score = f1(pred[train_mask], labels[train_mask])\n",
    "        val_f1_score = f1(pred[val_mask], labels[val_mask])\n",
    "\n",
    "\n",
    "        epoch_accuracy.append(train_acc.item())\n",
    "        epoch_accuracy_val.append(val_acc.item())\n",
    "\n",
    "        epoch_f1score.append(train_f1_score.item())\n",
    "        epoch_f1score_val.append(val_f1_score.item())\n",
    "\n",
    "\n",
    "        # Backward\n",
    "        optimizer.zero_grad()\n",
    "        loss.backward()\n",
    "        optimizer.step()\n",
    "\n",
    "    if e % 5 == 0:\n",
    "        print('In epoch {}, loss: {:.7f}, accuracy: {:.3f}, val accuracy: {:.3f}, f1score: {:.3f}, val f1score: {:.3f}'.format(\n",
    "            e, mean(epoch_loss), mean(epoch_accuracy), mean(epoch_accuracy_val), mean(epoch_f1score), mean(epoch_f1score_val)))\n",
    "\n",
    "        #if mean(epoch_accuracy_val) >= best_val_acc:\n",
    "        if mean(epoch_f1score_val) >= best_f1_score:\n",
    "            print(\"new best val f1 score\")\n",
    "            torch.save(model.state_dict(), \"output/graph_model.pt\")\n",
    "            best_f1_score = mean(epoch_f1score_val)\n",
    "        epoch_loss = []\n",
    "        epoch_accuracy = []\n",
    "\n",
    "        epoch_accuracy_val = []\n",
    "        epoch_f1score_val = []\n"
   ],
   "metadata": {
    "collapsed": false,
    "pycharm": {
     "name": "#%%\n"
    }
   },
   "execution_count": 5,
   "outputs": [
    {
     "name": "stderr",
     "output_type": "stream",
     "text": [
      "/opt/anaconda3/envs/CellSeg3D_torch/lib/python3.8/site-packages/torch/autocast_mode.py:162: UserWarning: User provided device_type of 'cuda', but CUDA is not available. Disabling\n",
      "  warnings.warn('User provided device_type of \\'cuda\\', but CUDA is not available. Disabling')\n"
     ]
    },
    {
     "name": "stdout",
     "output_type": "stream",
     "text": [
      "In epoch 0, loss: 0.6996461, accuracy: 0.594, val accuracy: 0.600, f1score: 0.685, val f1score: 0.676\n",
      "new best val f1 score\n",
      "In epoch 5, loss: 0.6928060, accuracy: 0.894, val accuracy: 0.874, f1score: 0.850, val f1score: 0.852\n",
      "new best val f1 score\n",
      "In epoch 10, loss: 0.6923294, accuracy: 0.909, val accuracy: 0.889, f1score: 0.868, val f1score: 0.860\n",
      "new best val f1 score\n",
      "In epoch 15, loss: 0.6923858, accuracy: 0.929, val accuracy: 0.907, f1score: 0.878, val f1score: 0.868\n",
      "new best val f1 score\n",
      "In epoch 20, loss: 0.6923076, accuracy: 0.919, val accuracy: 0.897, f1score: 0.882, val f1score: 0.863\n",
      "In epoch 25, loss: 0.6923977, accuracy: 0.925, val accuracy: 0.903, f1score: 0.885, val f1score: 0.866\n",
      "In epoch 30, loss: 0.6923272, accuracy: 0.928, val accuracy: 0.906, f1score: 0.887, val f1score: 0.867\n",
      "In epoch 35, loss: 0.6923639, accuracy: 0.911, val accuracy: 0.893, f1score: 0.888, val f1score: 0.862\n",
      "In epoch 40, loss: 0.6923070, accuracy: 0.928, val accuracy: 0.905, f1score: 0.889, val f1score: 0.867\n",
      "In epoch 45, loss: 0.6922550, accuracy: 0.906, val accuracy: 0.887, f1score: 0.889, val f1score: 0.860\n",
      "In epoch 50, loss: 0.6924355, accuracy: 0.930, val accuracy: 0.908, f1score: 0.890, val f1score: 0.868\n",
      "new best val f1 score\n",
      "In epoch 55, loss: 0.6922131, accuracy: 0.921, val accuracy: 0.900, f1score: 0.891, val f1score: 0.865\n",
      "In epoch 60, loss: 0.6923586, accuracy: 0.920, val accuracy: 0.898, f1score: 0.891, val f1score: 0.863\n",
      "In epoch 65, loss: 0.6921895, accuracy: 0.897, val accuracy: 0.877, f1score: 0.891, val f1score: 0.854\n",
      "In epoch 70, loss: 0.6921425, accuracy: 0.908, val accuracy: 0.887, f1score: 0.891, val f1score: 0.859\n",
      "In epoch 75, loss: 0.6922301, accuracy: 0.918, val accuracy: 0.898, f1score: 0.891, val f1score: 0.864\n",
      "In epoch 80, loss: 0.6921318, accuracy: 0.922, val accuracy: 0.901, f1score: 0.891, val f1score: 0.865\n",
      "In epoch 85, loss: 0.6919671, accuracy: 0.887, val accuracy: 0.868, f1score: 0.891, val f1score: 0.851\n",
      "In epoch 90, loss: 0.6921197, accuracy: 0.897, val accuracy: 0.880, f1score: 0.890, val f1score: 0.856\n",
      "In epoch 95, loss: 0.6920415, accuracy: 0.897, val accuracy: 0.879, f1score: 0.890, val f1score: 0.857\n",
      "In epoch 100, loss: 0.6918918, accuracy: 0.881, val accuracy: 0.863, f1score: 0.889, val f1score: 0.849\n",
      "In epoch 105, loss: 0.6919301, accuracy: 0.904, val accuracy: 0.883, f1score: 0.889, val f1score: 0.860\n",
      "In epoch 110, loss: 0.6918425, accuracy: 0.859, val accuracy: 0.840, f1score: 0.888, val f1score: 0.835\n",
      "In epoch 115, loss: 0.6916418, accuracy: 0.836, val accuracy: 0.821, f1score: 0.887, val f1score: 0.827\n",
      "In epoch 120, loss: 0.6917412, accuracy: 0.834, val accuracy: 0.812, f1score: 0.885, val f1score: 0.822\n",
      "In epoch 125, loss: 0.6915105, accuracy: 0.852, val accuracy: 0.836, f1score: 0.884, val f1score: 0.838\n",
      "In epoch 130, loss: 0.6916059, accuracy: 0.843, val accuracy: 0.828, f1score: 0.883, val f1score: 0.833\n",
      "In epoch 135, loss: 0.6915961, accuracy: 0.823, val accuracy: 0.811, f1score: 0.882, val f1score: 0.823\n",
      "In epoch 140, loss: 0.6918236, accuracy: 0.821, val accuracy: 0.810, f1score: 0.880, val f1score: 0.819\n",
      "In epoch 145, loss: 0.6915083, accuracy: 0.812, val accuracy: 0.795, f1score: 0.879, val f1score: 0.812\n",
      "In epoch 150, loss: 0.6915323, accuracy: 0.817, val accuracy: 0.802, f1score: 0.878, val f1score: 0.817\n",
      "In epoch 155, loss: 0.6913721, accuracy: 0.808, val accuracy: 0.790, f1score: 0.876, val f1score: 0.809\n",
      "In epoch 160, loss: 0.6917180, accuracy: 0.829, val accuracy: 0.815, f1score: 0.875, val f1score: 0.824\n",
      "In epoch 165, loss: 0.6912620, accuracy: 0.811, val accuracy: 0.795, f1score: 0.874, val f1score: 0.815\n",
      "In epoch 170, loss: 0.6911368, accuracy: 0.797, val accuracy: 0.786, f1score: 0.873, val f1score: 0.810\n",
      "In epoch 175, loss: 0.6910240, accuracy: 0.790, val accuracy: 0.776, f1score: 0.872, val f1score: 0.803\n",
      "In epoch 180, loss: 0.6911191, accuracy: 0.814, val accuracy: 0.796, f1score: 0.871, val f1score: 0.815\n",
      "In epoch 185, loss: 0.6915287, accuracy: 0.781, val accuracy: 0.770, f1score: 0.870, val f1score: 0.799\n",
      "In epoch 190, loss: 0.6912672, accuracy: 0.815, val accuracy: 0.799, f1score: 0.869, val f1score: 0.818\n",
      "In epoch 195, loss: 0.6913975, accuracy: 0.771, val accuracy: 0.758, f1score: 0.867, val f1score: 0.790\n",
      "In epoch 200, loss: 0.6915225, accuracy: 0.815, val accuracy: 0.799, f1score: 0.867, val f1score: 0.817\n",
      "In epoch 205, loss: 0.6909759, accuracy: 0.786, val accuracy: 0.771, f1score: 0.866, val f1score: 0.800\n",
      "In epoch 210, loss: 0.6908615, accuracy: 0.787, val accuracy: 0.777, f1score: 0.865, val f1score: 0.805\n",
      "In epoch 215, loss: 0.6909528, accuracy: 0.789, val accuracy: 0.773, f1score: 0.864, val f1score: 0.802\n",
      "In epoch 220, loss: 0.6911565, accuracy: 0.788, val accuracy: 0.776, f1score: 0.863, val f1score: 0.804\n",
      "In epoch 225, loss: 0.6909457, accuracy: 0.794, val accuracy: 0.779, f1score: 0.862, val f1score: 0.804\n",
      "In epoch 230, loss: 0.6911285, accuracy: 0.783, val accuracy: 0.771, f1score: 0.861, val f1score: 0.801\n",
      "In epoch 235, loss: 0.6910514, accuracy: 0.781, val accuracy: 0.765, f1score: 0.861, val f1score: 0.796\n",
      "In epoch 240, loss: 0.6911916, accuracy: 0.812, val accuracy: 0.795, f1score: 0.860, val f1score: 0.814\n",
      "In epoch 245, loss: 0.6915855, accuracy: 0.815, val accuracy: 0.803, f1score: 0.860, val f1score: 0.817\n",
      "In epoch 250, loss: 0.6911108, accuracy: 0.783, val accuracy: 0.769, f1score: 0.859, val f1score: 0.798\n",
      "In epoch 255, loss: 0.6911416, accuracy: 0.804, val accuracy: 0.787, f1score: 0.859, val f1score: 0.810\n",
      "In epoch 260, loss: 0.6909922, accuracy: 0.794, val accuracy: 0.776, f1score: 0.858, val f1score: 0.803\n",
      "In epoch 265, loss: 0.6914949, accuracy: 0.805, val accuracy: 0.795, f1score: 0.858, val f1score: 0.813\n",
      "In epoch 270, loss: 0.6909741, accuracy: 0.809, val accuracy: 0.793, f1score: 0.857, val f1score: 0.816\n",
      "In epoch 275, loss: 0.6910328, accuracy: 0.805, val accuracy: 0.792, f1score: 0.857, val f1score: 0.812\n",
      "In epoch 280, loss: 0.6910923, accuracy: 0.796, val accuracy: 0.779, f1score: 0.856, val f1score: 0.806\n",
      "In epoch 285, loss: 0.6913050, accuracy: 0.820, val accuracy: 0.804, f1score: 0.856, val f1score: 0.822\n",
      "In epoch 290, loss: 0.6910713, accuracy: 0.822, val accuracy: 0.805, f1score: 0.856, val f1score: 0.821\n",
      "In epoch 295, loss: 0.6909482, accuracy: 0.810, val accuracy: 0.795, f1score: 0.856, val f1score: 0.817\n",
      "In epoch 300, loss: 0.6906814, accuracy: 0.775, val accuracy: 0.759, f1score: 0.855, val f1score: 0.793\n",
      "In epoch 305, loss: 0.6909516, accuracy: 0.777, val accuracy: 0.765, f1score: 0.854, val f1score: 0.798\n",
      "In epoch 310, loss: 0.6912119, accuracy: 0.828, val accuracy: 0.807, f1score: 0.854, val f1score: 0.823\n",
      "In epoch 315, loss: 0.6910264, accuracy: 0.820, val accuracy: 0.802, f1score: 0.854, val f1score: 0.819\n",
      "In epoch 320, loss: 0.6909245, accuracy: 0.787, val accuracy: 0.777, f1score: 0.854, val f1score: 0.806\n",
      "In epoch 325, loss: 0.6908951, accuracy: 0.819, val accuracy: 0.804, f1score: 0.854, val f1score: 0.822\n",
      "In epoch 330, loss: 0.6904664, accuracy: 0.785, val accuracy: 0.768, f1score: 0.853, val f1score: 0.800\n",
      "In epoch 335, loss: 0.6909508, accuracy: 0.766, val accuracy: 0.750, f1score: 0.853, val f1score: 0.787\n",
      "In epoch 340, loss: 0.6906706, accuracy: 0.804, val accuracy: 0.790, f1score: 0.852, val f1score: 0.815\n",
      "In epoch 345, loss: 0.6908647, accuracy: 0.805, val accuracy: 0.790, f1score: 0.852, val f1score: 0.813\n",
      "In epoch 350, loss: 0.6906412, accuracy: 0.804, val accuracy: 0.787, f1score: 0.852, val f1score: 0.812\n",
      "In epoch 355, loss: 0.6911206, accuracy: 0.811, val accuracy: 0.795, f1score: 0.852, val f1score: 0.816\n",
      "In epoch 360, loss: 0.6909281, accuracy: 0.787, val accuracy: 0.777, f1score: 0.852, val f1score: 0.807\n",
      "In epoch 365, loss: 0.6904636, accuracy: 0.816, val accuracy: 0.796, f1score: 0.851, val f1score: 0.819\n",
      "In epoch 370, loss: 0.6914541, accuracy: 0.835, val accuracy: 0.821, f1score: 0.851, val f1score: 0.830\n",
      "In epoch 375, loss: 0.6913932, accuracy: 0.811, val accuracy: 0.797, f1score: 0.851, val f1score: 0.816\n",
      "In epoch 380, loss: 0.6910589, accuracy: 0.801, val accuracy: 0.787, f1score: 0.851, val f1score: 0.812\n",
      "In epoch 385, loss: 0.6911401, accuracy: 0.795, val accuracy: 0.781, f1score: 0.851, val f1score: 0.806\n",
      "In epoch 390, loss: 0.6909973, accuracy: 0.823, val accuracy: 0.806, f1score: 0.851, val f1score: 0.824\n",
      "In epoch 395, loss: 0.6907608, accuracy: 0.792, val accuracy: 0.781, f1score: 0.851, val f1score: 0.808\n",
      "In epoch 400, loss: 0.6907269, accuracy: 0.802, val accuracy: 0.788, f1score: 0.850, val f1score: 0.814\n",
      "In epoch 405, loss: 0.6909596, accuracy: 0.805, val accuracy: 0.790, f1score: 0.850, val f1score: 0.814\n",
      "In epoch 410, loss: 0.6906079, accuracy: 0.794, val accuracy: 0.775, f1score: 0.850, val f1score: 0.805\n",
      "In epoch 415, loss: 0.6913370, accuracy: 0.821, val accuracy: 0.804, f1score: 0.850, val f1score: 0.821\n",
      "In epoch 420, loss: 0.6910185, accuracy: 0.840, val accuracy: 0.822, f1score: 0.850, val f1score: 0.834\n",
      "In epoch 425, loss: 0.6918321, accuracy: 0.812, val accuracy: 0.798, f1score: 0.850, val f1score: 0.815\n",
      "In epoch 430, loss: 0.6909203, accuracy: 0.807, val accuracy: 0.789, f1score: 0.850, val f1score: 0.813\n",
      "In epoch 435, loss: 0.6903698, accuracy: 0.807, val accuracy: 0.787, f1score: 0.850, val f1score: 0.813\n",
      "In epoch 440, loss: 0.6904916, accuracy: 0.802, val accuracy: 0.785, f1score: 0.849, val f1score: 0.811\n",
      "In epoch 445, loss: 0.6911261, accuracy: 0.807, val accuracy: 0.790, f1score: 0.849, val f1score: 0.813\n",
      "In epoch 450, loss: 0.6906376, accuracy: 0.805, val accuracy: 0.791, f1score: 0.849, val f1score: 0.815\n",
      "In epoch 455, loss: 0.6912511, accuracy: 0.790, val accuracy: 0.773, f1score: 0.849, val f1score: 0.800\n",
      "In epoch 460, loss: 0.6906246, accuracy: 0.788, val accuracy: 0.774, f1score: 0.849, val f1score: 0.805\n",
      "In epoch 465, loss: 0.6905435, accuracy: 0.806, val accuracy: 0.789, f1score: 0.849, val f1score: 0.815\n",
      "In epoch 470, loss: 0.6909079, accuracy: 0.816, val accuracy: 0.798, f1score: 0.849, val f1score: 0.818\n",
      "In epoch 475, loss: 0.6910011, accuracy: 0.809, val accuracy: 0.792, f1score: 0.848, val f1score: 0.814\n",
      "In epoch 480, loss: 0.6909037, accuracy: 0.817, val accuracy: 0.802, f1score: 0.848, val f1score: 0.822\n",
      "In epoch 485, loss: 0.6908412, accuracy: 0.810, val accuracy: 0.795, f1score: 0.848, val f1score: 0.816\n",
      "In epoch 490, loss: 0.6910435, accuracy: 0.790, val accuracy: 0.778, f1score: 0.848, val f1score: 0.806\n",
      "In epoch 495, loss: 0.6912477, accuracy: 0.810, val accuracy: 0.793, f1score: 0.848, val f1score: 0.815\n"
     ]
    }
   ]
  },
  {
   "cell_type": "markdown",
   "source": [
    "from func.graph_models import GCN, GCN_2\n",
    "import torch.nn.functional as F\n",
    "import random\n",
    "import dgl\n",
    "\n",
    "model = GCN(1, num_classes=2)\n",
    "CELoss = nn.CrossEntropyLoss()\n",
    "\n",
    "# training\n",
    "optimizer = torch.optim.Adam(model.parameters(), lr=0.01)\n",
    "best_val_acc = 0\n",
    "\n",
    "\n",
    "\n",
    "# features = g.ndata['feat']\n",
    "# labels = g.ndata['label']\n",
    "# train_mask = g.ndata['train_mask']\n",
    "# val_mask = g.ndata['val_mask']\n",
    "\n",
    "# calculate weights for loss\n",
    "\"\"\"\n",
    "pos_weights = []\n",
    "neg_weights = []\n",
    "for graph_number in range(len(dataset)):\n",
    "    sample_graph = dataset[graph_number]\n",
    "    labels = sample_graph.ndata['label']\n",
    "    # create class weights\n",
    "    number_positives = torch.count_nonzero(labels)\n",
    "    positive_weight = 1 - (number_positives / len(labels))\n",
    "    negative_weight = 1 - positive_weight\n",
    "\n",
    "    pos_weights.append(positive_weight.item())\n",
    "    neg_weights.append(negative_weight.item())\n",
    "weights = torch.tensor([mean(neg_weights), mean(pos_weights)])\n",
    "print(f\"weights: {weights}\")\n",
    "\"\"\"\n",
    "\n",
    "# build one big graph\n",
    "graphs_list = []\n",
    "for i in range(len(dataset)):\n",
    "    graphs_list.append(dataset[i])\n",
    "\n",
    "large_g = dgl.batch(graphs_list)"
   ],
   "metadata": {
    "collapsed": false,
    "pycharm": {
     "name": "#%% md\n"
    }
   }
  },
  {
   "cell_type": "markdown",
   "source": [
    "epoch_loss = []\n",
    "epoch_accuracy = []\n",
    "for e in range(1000):\n",
    "    # get random elements for batch\n",
    "    #graphs_numbers_list = range(0, len(dataset))\n",
    "    #rand_graph_numbers = random.sample(graphs_numbers_list, len(dataset))\n",
    "    sample_graph = large_g\n",
    "    features = sample_graph.ndata['feat']\n",
    "    labels = sample_graph.ndata['label']\n",
    "\n",
    "    # create class weights\n",
    "    number_positives = torch.count_nonzero(labels)\n",
    "    percentage_positives = number_positives / len(labels)\n",
    "    percentage_negatives = 1 - percentage_positives\n",
    "\n",
    "    weights = torch.tensor([1 - percentage_negatives, 1 - percentage_positives])\n",
    "    #weights = torch.tensor([0.95, 0.05])\n",
    "    #print(weights)\n",
    "\n",
    "    CELoss = nn.CrossEntropyLoss(weight=weights)\n",
    "    #train_mask = sample_graph.ndata['train_mask']\n",
    "    #val_mask = sample_graph.ndata['val_mask']\n",
    "    logits = model(sample_graph, features)\n",
    "\n",
    "    # Compute prediction\n",
    "    pred = logits.argmax(1)\n",
    "\n",
    "    # Compute loss\n",
    "    # Note that you should only compute the losses of the nodes in the training set.\n",
    "    loss = CELoss(logits, labels)\n",
    "    epoch_loss.append(loss.item())\n",
    "    #print(loss)\n",
    "    # Compute accuracy on training/validation/test\n",
    "    train_acc = (pred == labels).float().mean()\n",
    "    epoch_accuracy.append(train_acc.item())\n",
    "    # Backward\n",
    "    optimizer.zero_grad()\n",
    "    loss.backward()\n",
    "    optimizer.step()\n",
    "\n",
    "    if e % 20 == 0:\n",
    "        print('In epoch {}, loss: {:.3f}, accuracy: {:.3f}'.format(\n",
    "            e, mean(epoch_loss), mean(epoch_accuracy)))\n",
    "        epoch_loss = []\n",
    "        epoch_accuracy = []\n",
    "\n",
    "\n"
   ],
   "metadata": {
    "collapsed": false,
    "pycharm": {
     "name": "#%% md\n"
    }
   }
  },
  {
   "cell_type": "markdown",
   "source": [
    "# Train on GPU\n",
    "g = g.to('cuda')\n",
    "model = GCN(1, 16, dataset.num_classes).to('cuda')\n",
    "train(g, model)"
   ],
   "metadata": {
    "collapsed": false,
    "pycharm": {
     "name": "#%% md\n"
    }
   }
  },
  {
   "cell_type": "code",
   "execution_count": 6,
   "outputs": [
    {
     "data": {
      "text/plain": "Graph(num_nodes=1405, num_edges=5327,\n      ndata_schemes={'feat': Scheme(shape=(1,), dtype=torch.float32), 'label': Scheme(shape=(), dtype=torch.int64), 'train_mask': Scheme(shape=(), dtype=torch.bool), 'val_mask': Scheme(shape=(), dtype=torch.bool)}\n      edata_schemes={'weight': Scheme(shape=(1,), dtype=torch.float64)})"
     },
     "execution_count": 6,
     "metadata": {},
     "output_type": "execute_result"
    }
   ],
   "source": [
    "g"
   ],
   "metadata": {
    "collapsed": false,
    "pycharm": {
     "name": "#%%\n"
    }
   }
  },
  {
   "cell_type": "code",
   "execution_count": 7,
   "outputs": [
    {
     "data": {
      "text/plain": "torch.Size([1405, 1])"
     },
     "execution_count": 7,
     "metadata": {},
     "output_type": "execute_result"
    }
   ],
   "source": [
    "\n",
    "g.ndata['feat'].shape"
   ],
   "metadata": {
    "collapsed": false,
    "pycharm": {
     "name": "#%%\n"
    }
   }
  },
  {
   "cell_type": "code",
   "execution_count": 8,
   "outputs": [],
   "source": [
    "\n",
    "predictions = model(g, g.ndata['feat']).argmax(1).numpy()"
   ],
   "metadata": {
    "collapsed": false,
    "pycharm": {
     "name": "#%%\n"
    }
   }
  },
  {
   "cell_type": "code",
   "execution_count": 9,
   "outputs": [
    {
     "data": {
      "text/plain": "array([0, 1])"
     },
     "execution_count": 9,
     "metadata": {},
     "output_type": "execute_result"
    }
   ],
   "source": [
    "np.unique(predictions)"
   ],
   "metadata": {
    "collapsed": false,
    "pycharm": {
     "name": "#%%\n"
    }
   }
  },
  {
   "cell_type": "code",
   "execution_count": 10,
   "outputs": [
    {
     "data": {
      "text/plain": "array([0, 1])"
     },
     "execution_count": 10,
     "metadata": {},
     "output_type": "execute_result"
    }
   ],
   "source": [
    "labels = g.ndata['label']\n",
    "np.unique(labels)"
   ],
   "metadata": {
    "collapsed": false,
    "pycharm": {
     "name": "#%%\n"
    }
   }
  },
  {
   "cell_type": "code",
   "execution_count": 11,
   "outputs": [
    {
     "data": {
      "text/plain": "1315"
     },
     "execution_count": 11,
     "metadata": {},
     "output_type": "execute_result"
    }
   ],
   "source": [
    "len(labels[labels==1])"
   ],
   "metadata": {
    "collapsed": false,
    "pycharm": {
     "name": "#%%\n"
    }
   }
  },
  {
   "cell_type": "code",
   "execution_count": 12,
   "outputs": [
    {
     "data": {
      "text/plain": "90"
     },
     "execution_count": 12,
     "metadata": {},
     "output_type": "execute_result"
    }
   ],
   "source": [
    "len(labels[labels==0])"
   ],
   "metadata": {
    "collapsed": false,
    "pycharm": {
     "name": "#%%\n"
    }
   }
  },
  {
   "cell_type": "code",
   "execution_count": 13,
   "outputs": [
    {
     "data": {
      "text/plain": "1051"
     },
     "execution_count": 13,
     "metadata": {},
     "output_type": "execute_result"
    }
   ],
   "source": [
    "len(predictions[predictions==1])"
   ],
   "metadata": {
    "collapsed": false,
    "pycharm": {
     "name": "#%%\n"
    }
   }
  },
  {
   "cell_type": "code",
   "execution_count": 14,
   "outputs": [
    {
     "data": {
      "text/plain": "354"
     },
     "execution_count": 14,
     "metadata": {},
     "output_type": "execute_result"
    }
   ],
   "source": [
    "len(predictions[predictions==0])"
   ],
   "metadata": {
    "collapsed": false,
    "pycharm": {
     "name": "#%%\n"
    }
   }
  },
  {
   "cell_type": "code",
   "execution_count": 15,
   "outputs": [
    {
     "data": {
      "text/plain": "GCN(\n  (conv1): GraphConv(in=1, out=4, normalization=both, activation=None)\n  (dropout): Dropout(p=0.5, inplace=False)\n  (conv2): GraphConv(in=4, out=2, normalization=both, activation=None)\n)"
     },
     "execution_count": 15,
     "metadata": {},
     "output_type": "execute_result"
    }
   ],
   "source": [
    "graph_model = GCN(1, num_classes=2)\n",
    "checkpoint_graph = 'output/graph_model.pt'\n",
    "graph_model.load_state_dict(torch.load(checkpoint_graph))\n",
    "graph_model.eval()"
   ],
   "metadata": {
    "collapsed": false,
    "pycharm": {
     "name": "#%%\n"
    }
   }
  },
  {
   "cell_type": "code",
   "execution_count": 16,
   "outputs": [],
   "source": [
    "predictions = graph_model(g, g.ndata['feat']).argmax(1).numpy()\n"
   ],
   "metadata": {
    "collapsed": false,
    "pycharm": {
     "name": "#%%\n"
    }
   }
  },
  {
   "cell_type": "code",
   "execution_count": 17,
   "outputs": [
    {
     "data": {
      "text/plain": "1405"
     },
     "execution_count": 17,
     "metadata": {},
     "output_type": "execute_result"
    }
   ],
   "source": [
    "\n",
    "len(predictions[predictions==1])"
   ],
   "metadata": {
    "collapsed": false,
    "pycharm": {
     "name": "#%%\n"
    }
   }
  },
  {
   "cell_type": "code",
   "execution_count": 18,
   "outputs": [
    {
     "data": {
      "text/plain": "0"
     },
     "execution_count": 18,
     "metadata": {},
     "output_type": "execute_result"
    }
   ],
   "source": [
    "len(predictions[predictions==0])"
   ],
   "metadata": {
    "collapsed": false,
    "pycharm": {
     "name": "#%%\n"
    }
   }
  },
  {
   "cell_type": "code",
   "execution_count": 18,
   "outputs": [],
   "source": [],
   "metadata": {
    "collapsed": false,
    "pycharm": {
     "name": "#%%\n"
    }
   }
  }
 ],
 "metadata": {
  "kernelspec": {
   "display_name": "Python 3",
   "language": "python",
   "name": "python3"
  },
  "language_info": {
   "codemirror_mode": {
    "name": "ipython",
    "version": 2
   },
   "file_extension": ".py",
   "mimetype": "text/x-python",
   "name": "python",
   "nbconvert_exporter": "python",
   "pygments_lexer": "ipython2",
   "version": "2.7.6"
  }
 },
 "nbformat": 4,
 "nbformat_minor": 0
}