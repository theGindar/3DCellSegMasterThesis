{
 "cells": [
  {
   "cell_type": "markdown",
   "source": [
    "## pipeline"
   ],
   "metadata": {
    "collapsed": false
   }
  },
  {
   "cell_type": "code",
   "execution_count": 1,
   "outputs": [
    {
     "name": "stderr",
     "output_type": "stream",
     "text": [
      "Using backend: pytorch\n"
     ]
    }
   ],
   "source": [
    "import networkx as nx\n",
    "import numpy as np\n",
    "import torch\n",
    "\n",
    "import torch.nn as nn\n",
    "\n",
    "from statistics import mean\n",
    "\n",
    "from func.run_pipeline_super_vox import get_outlayer_of_a_3d_shape, get_crop_by_pixel_val\n",
    "from func.ultis import load_obj\n",
    "\n",
    "from func.graph_learning import SuperVoxToNxGraph, VoxelGraphDataset\n"
   ],
   "metadata": {
    "collapsed": false,
    "pycharm": {
     "name": "#%%\n"
    }
   }
  },
  {
   "cell_type": "code",
   "execution_count": 2,
   "outputs": [],
   "source": [
    "# load graphs\n",
    "from func.ultis import load_obj\n",
    "\n",
    "graphs = load_obj(\"graphs_dataset_train\")\n"
   ],
   "metadata": {
    "collapsed": false,
    "pycharm": {
     "name": "#%%\n"
    }
   }
  },
  {
   "cell_type": "code",
   "execution_count": 3,
   "outputs": [],
   "source": [
    "dataset = VoxelGraphDataset(graphs)\n",
    "\n",
    "g = dataset[0]\n"
   ],
   "metadata": {
    "collapsed": false,
    "pycharm": {
     "name": "#%%\n"
    }
   }
  },
  {
   "cell_type": "markdown",
   "source": [
    "# TODO probably should normalize features!!!!"
   ],
   "metadata": {
    "collapsed": false,
    "pycharm": {
     "name": "#%% md\n"
    }
   }
  },
  {
   "cell_type": "code",
   "execution_count": 4,
   "outputs": [],
   "source": [
    "from dgl.dataloading import GraphDataLoader\n",
    "from torch.utils.data.sampler import SubsetRandomSampler\n",
    "\n",
    "num_examples = len(dataset)\n",
    "num_train = int(num_examples)\n",
    "\n",
    "train_sampler = SubsetRandomSampler(torch.arange(num_train))\n",
    "test_sampler = SubsetRandomSampler(torch.arange(num_train, num_examples))\n",
    "\n",
    "train_dataloader = GraphDataLoader(\n",
    "    dataset, sampler=train_sampler, batch_size=5, drop_last=False)"
   ],
   "metadata": {
    "collapsed": false,
    "pycharm": {
     "name": "#%%\n"
    }
   }
  },
  {
   "cell_type": "code",
   "source": [
    "from func.graph_models import GCN, GCN_2\n",
    "import torch.nn.functional as F\n",
    "import random\n",
    "\n",
    "model = GCN(1, num_classes=2)\n",
    "CELoss = nn.CrossEntropyLoss()\n",
    "\n",
    "# training\n",
    "optimizer = torch.optim.Adam(model.parameters(), lr=0.01)\n",
    "best_val_acc = 0\n",
    "\n",
    "\n",
    "\n",
    "# features = g.ndata['feat']\n",
    "# labels = g.ndata['label']\n",
    "# train_mask = g.ndata['train_mask']\n",
    "# val_mask = g.ndata['val_mask']\n",
    "\n",
    "# calculate weights for loss\n",
    "\"\"\"\n",
    "pos_weights = []\n",
    "neg_weights = []\n",
    "for graph_number in range(len(dataset)):\n",
    "    sample_graph = dataset[graph_number]\n",
    "    labels = sample_graph.ndata['label']\n",
    "    # create class weights\n",
    "    number_positives = torch.count_nonzero(labels)\n",
    "    positive_weight = 1 - (number_positives / len(labels))\n",
    "    negative_weight = 1 - positive_weight\n",
    "\n",
    "    pos_weights.append(positive_weight.item())\n",
    "    neg_weights.append(negative_weight.item())\n",
    "weights = torch.tensor([mean(neg_weights), mean(pos_weights)])\n",
    "print(f\"weights: {weights}\")\n",
    "\"\"\"\n",
    "from torchmetrics import F1Score\n",
    "\n",
    "f1 = F1Score(num_classes=2, average='weighted')\n",
    "\n",
    "epoch_loss = []\n",
    "epoch_val_loss = []\n",
    "epoch_accuracy = []\n",
    "\n",
    "epoch_f1score = []\n",
    "epoch_f1score_val = []\n",
    "\n",
    "epoch_accuracy_val = []\n",
    "# best_val_acc = 0\n",
    "best_val_loss = 1000\n",
    "\n",
    "for e in range(500):\n",
    "    # get random elements for batch\n",
    "    #graphs_numbers_list = range(0, len(dataset))\n",
    "    #rand_graph_numbers = random.sample(graphs_numbers_list, len(dataset))\n",
    "    for graph_number in range(len(dataset)):\n",
    "    #for graph_number in range(1):\n",
    "    #for graph_number in rand_graph_numbers:\n",
    "        # Forward\n",
    "        model.train()\n",
    "        sample_graph = dataset[graph_number]\n",
    "        features = sample_graph.ndata['feat']\n",
    "        labels = sample_graph.ndata['label']\n",
    "        train_mask = sample_graph.ndata['train_mask']\n",
    "        val_mask = sample_graph.ndata['val_mask']\n",
    "\n",
    "        # create class weights\n",
    "        number_positives = torch.count_nonzero(labels)\n",
    "        percentage_positives = number_positives / len(labels)\n",
    "        percentage_negatives = 1 - percentage_positives\n",
    "\n",
    "        weights = torch.tensor([1 - percentage_negatives, 1 - percentage_positives])\n",
    "        #weights = torch.tensor([0.95, 0.05])\n",
    "        #print(weights)\n",
    "\n",
    "        CELoss = nn.CrossEntropyLoss(weight=weights)\n",
    "        train_mask = sample_graph.ndata['train_mask']\n",
    "        val_mask = sample_graph.ndata['val_mask']\n",
    "        logits = model(sample_graph, features)\n",
    "\n",
    "        # Compute prediction\n",
    "        pred = logits.argmax(1)\n",
    "\n",
    "        # Compute loss\n",
    "        # Note that you should only compute the losses of the nodes in the training set.\n",
    "        loss = CELoss(logits[train_mask], labels[train_mask])\n",
    "\n",
    "\n",
    "\n",
    "        epoch_loss.append(loss.item())\n",
    "\n",
    "        #print(loss)\n",
    "        # Compute accuracy on training/validation/test\n",
    "        train_acc = (pred[train_mask] == labels[train_mask]).float().mean()\n",
    "        val_acc = (pred[val_mask] == labels[val_mask]).float().mean()\n",
    "\n",
    "        train_f1_score = f1(pred[train_mask], labels[train_mask])\n",
    "        val_f1_score = f1(pred[val_mask], labels[val_mask])\n",
    "\n",
    "\n",
    "        epoch_accuracy.append(train_acc.item())\n",
    "        epoch_accuracy_val.append(val_acc.item())\n",
    "\n",
    "        epoch_f1score.append(train_f1_score.item())\n",
    "        epoch_f1score_val.append(val_f1_score.item())\n",
    "\n",
    "\n",
    "        # Backward\n",
    "        optimizer.zero_grad()\n",
    "        loss.backward()\n",
    "        optimizer.step()\n",
    "\n",
    "        model.eval()\n",
    "        with torch.no_grad():\n",
    "            logits = model(sample_graph, features)\n",
    "            val_loss = CELoss(logits[val_mask], labels[val_mask])\n",
    "            epoch_val_loss.append(val_loss.item())\n",
    "        model.train()\n",
    "\n",
    "    if e % 5 == 0:\n",
    "        print('In epoch {}, loss: {:.5f}, val loss: {:.5f}, accuracy: {:.3f}, val accuracy: {:.3f}, f1score: {:.3f}, val f1score: {:.3f}'.format(\n",
    "            e, mean(epoch_loss), mean(epoch_val_loss), mean(epoch_accuracy), mean(epoch_accuracy_val), mean(epoch_f1score), mean(epoch_f1score_val)))\n",
    "\n",
    "        #if mean(epoch_accuracy_val) >= best_val_acc:\n",
    "        if mean(epoch_val_loss) <= best_val_loss:\n",
    "            print(\"new best val loss\")\n",
    "            torch.save(model.state_dict(), \"output/graph_model.pt\")\n",
    "            best_val_loss = mean(epoch_val_loss)\n",
    "        epoch_loss = []\n",
    "        epoch_val_loss = []\n",
    "        epoch_accuracy = []\n",
    "\n",
    "        epoch_accuracy_val = []\n",
    "        epoch_f1score_val = []\n"
   ],
   "metadata": {
    "collapsed": false,
    "pycharm": {
     "name": "#%%\n"
    }
   },
   "execution_count": 5,
   "outputs": [
    {
     "name": "stderr",
     "output_type": "stream",
     "text": [
      "/opt/anaconda3/envs/CellSeg3D_torch/lib/python3.8/site-packages/torch/autocast_mode.py:162: UserWarning: User provided device_type of 'cuda', but CUDA is not available. Disabling\n",
      "  warnings.warn('User provided device_type of \\'cuda\\', but CUDA is not available. Disabling')\n"
     ]
    },
    {
     "name": "stdout",
     "output_type": "stream",
     "text": [
      "In epoch 0, loss: 0.69280, val loss: 0.69743, accuracy: 0.874, val accuracy: 0.863, f1score: 0.850, val f1score: 0.828\n",
      "new best val loss\n",
      "In epoch 5, loss: 0.69249, val loss: 0.69814, accuracy: 0.934, val accuracy: 0.911, f1score: 0.893, val f1score: 0.869\n",
      "In epoch 10, loss: 0.69239, val loss: 0.69785, accuracy: 0.934, val accuracy: 0.911, f1score: 0.897, val f1score: 0.869\n",
      "In epoch 15, loss: 0.69234, val loss: 0.69777, accuracy: 0.914, val accuracy: 0.894, f1score: 0.896, val f1score: 0.861\n",
      "In epoch 20, loss: 0.69241, val loss: 0.69789, accuracy: 0.931, val accuracy: 0.908, f1score: 0.897, val f1score: 0.868\n",
      "In epoch 25, loss: 0.69239, val loss: 0.69796, accuracy: 0.934, val accuracy: 0.911, f1score: 0.898, val f1score: 0.869\n",
      "In epoch 30, loss: 0.69239, val loss: 0.69781, accuracy: 0.934, val accuracy: 0.911, f1score: 0.899, val f1score: 0.869\n",
      "In epoch 35, loss: 0.69238, val loss: 0.69782, accuracy: 0.933, val accuracy: 0.910, f1score: 0.899, val f1score: 0.869\n",
      "In epoch 40, loss: 0.69239, val loss: 0.69786, accuracy: 0.934, val accuracy: 0.911, f1score: 0.899, val f1score: 0.869\n",
      "In epoch 45, loss: 0.69228, val loss: 0.69770, accuracy: 0.928, val accuracy: 0.906, f1score: 0.899, val f1score: 0.867\n",
      "In epoch 50, loss: 0.69235, val loss: 0.69786, accuracy: 0.913, val accuracy: 0.894, f1score: 0.899, val f1score: 0.861\n",
      "In epoch 55, loss: 0.69232, val loss: 0.69772, accuracy: 0.933, val accuracy: 0.910, f1score: 0.899, val f1score: 0.869\n",
      "In epoch 60, loss: 0.69226, val loss: 0.69742, accuracy: 0.928, val accuracy: 0.906, f1score: 0.899, val f1score: 0.867\n",
      "new best val loss\n",
      "In epoch 65, loss: 0.69213, val loss: 0.69739, accuracy: 0.916, val accuracy: 0.893, f1score: 0.898, val f1score: 0.861\n",
      "new best val loss\n",
      "In epoch 70, loss: 0.69208, val loss: 0.69731, accuracy: 0.917, val accuracy: 0.895, f1score: 0.898, val f1score: 0.863\n",
      "new best val loss\n",
      "In epoch 75, loss: 0.69206, val loss: 0.69709, accuracy: 0.898, val accuracy: 0.878, f1score: 0.897, val f1score: 0.854\n",
      "new best val loss\n",
      "In epoch 80, loss: 0.69207, val loss: 0.69710, accuracy: 0.904, val accuracy: 0.884, f1score: 0.897, val f1score: 0.858\n",
      "In epoch 85, loss: 0.69201, val loss: 0.69715, accuracy: 0.916, val accuracy: 0.893, f1score: 0.897, val f1score: 0.863\n",
      "In epoch 90, loss: 0.69200, val loss: 0.69655, accuracy: 0.885, val accuracy: 0.864, f1score: 0.896, val f1score: 0.849\n",
      "new best val loss\n",
      "In epoch 95, loss: 0.69183, val loss: 0.69662, accuracy: 0.886, val accuracy: 0.868, f1score: 0.895, val f1score: 0.852\n",
      "In epoch 100, loss: 0.69186, val loss: 0.69631, accuracy: 0.867, val accuracy: 0.846, f1score: 0.894, val f1score: 0.840\n",
      "new best val loss\n",
      "In epoch 105, loss: 0.69199, val loss: 0.69637, accuracy: 0.844, val accuracy: 0.827, f1score: 0.892, val f1score: 0.828\n",
      "In epoch 110, loss: 0.69207, val loss: 0.69688, accuracy: 0.871, val accuracy: 0.853, f1score: 0.891, val f1score: 0.843\n",
      "In epoch 115, loss: 0.69180, val loss: 0.69612, accuracy: 0.844, val accuracy: 0.821, f1score: 0.889, val f1score: 0.826\n",
      "new best val loss\n",
      "In epoch 120, loss: 0.69174, val loss: 0.69609, accuracy: 0.858, val accuracy: 0.838, f1score: 0.888, val f1score: 0.838\n",
      "new best val loss\n",
      "In epoch 125, loss: 0.69175, val loss: 0.69570, accuracy: 0.843, val accuracy: 0.827, f1score: 0.887, val f1score: 0.831\n",
      "new best val loss\n",
      "In epoch 130, loss: 0.69149, val loss: 0.69543, accuracy: 0.804, val accuracy: 0.795, f1score: 0.885, val f1score: 0.812\n",
      "new best val loss\n",
      "In epoch 135, loss: 0.69170, val loss: 0.69574, accuracy: 0.843, val accuracy: 0.828, f1score: 0.884, val f1score: 0.833\n",
      "In epoch 140, loss: 0.69128, val loss: 0.69521, accuracy: 0.812, val accuracy: 0.799, f1score: 0.882, val f1score: 0.816\n",
      "new best val loss\n",
      "In epoch 145, loss: 0.69146, val loss: 0.69532, accuracy: 0.819, val accuracy: 0.801, f1score: 0.881, val f1score: 0.817\n",
      "In epoch 150, loss: 0.69181, val loss: 0.69532, accuracy: 0.818, val accuracy: 0.803, f1score: 0.880, val f1score: 0.817\n",
      "In epoch 155, loss: 0.69185, val loss: 0.69547, accuracy: 0.824, val accuracy: 0.808, f1score: 0.879, val f1score: 0.819\n",
      "In epoch 160, loss: 0.69172, val loss: 0.69527, accuracy: 0.813, val accuracy: 0.800, f1score: 0.877, val f1score: 0.815\n",
      "In epoch 165, loss: 0.69163, val loss: 0.69512, accuracy: 0.836, val accuracy: 0.818, f1score: 0.877, val f1score: 0.827\n",
      "new best val loss\n",
      "In epoch 170, loss: 0.69169, val loss: 0.69524, accuracy: 0.821, val accuracy: 0.809, f1score: 0.876, val f1score: 0.821\n",
      "In epoch 175, loss: 0.69148, val loss: 0.69495, accuracy: 0.827, val accuracy: 0.816, f1score: 0.875, val f1score: 0.827\n",
      "new best val loss\n",
      "In epoch 180, loss: 0.69153, val loss: 0.69491, accuracy: 0.835, val accuracy: 0.818, f1score: 0.874, val f1score: 0.828\n",
      "new best val loss\n",
      "In epoch 185, loss: 0.69142, val loss: 0.69487, accuracy: 0.794, val accuracy: 0.785, f1score: 0.873, val f1score: 0.807\n",
      "new best val loss\n",
      "In epoch 190, loss: 0.69159, val loss: 0.69515, accuracy: 0.841, val accuracy: 0.825, f1score: 0.873, val f1score: 0.831\n",
      "In epoch 195, loss: 0.69148, val loss: 0.69499, accuracy: 0.848, val accuracy: 0.832, f1score: 0.872, val f1score: 0.836\n",
      "In epoch 200, loss: 0.69122, val loss: 0.69503, accuracy: 0.854, val accuracy: 0.836, f1score: 0.872, val f1score: 0.839\n",
      "In epoch 205, loss: 0.69195, val loss: 0.69523, accuracy: 0.826, val accuracy: 0.811, f1score: 0.872, val f1score: 0.821\n",
      "In epoch 210, loss: 0.69150, val loss: 0.69461, accuracy: 0.822, val accuracy: 0.809, f1score: 0.871, val f1score: 0.822\n",
      "new best val loss\n",
      "In epoch 215, loss: 0.69137, val loss: 0.69496, accuracy: 0.844, val accuracy: 0.826, f1score: 0.871, val f1score: 0.833\n",
      "In epoch 220, loss: 0.69135, val loss: 0.69462, accuracy: 0.831, val accuracy: 0.814, f1score: 0.870, val f1score: 0.827\n",
      "In epoch 225, loss: 0.69114, val loss: 0.69455, accuracy: 0.836, val accuracy: 0.819, f1score: 0.870, val f1score: 0.830\n",
      "new best val loss\n",
      "In epoch 230, loss: 0.69123, val loss: 0.69473, accuracy: 0.837, val accuracy: 0.820, f1score: 0.870, val f1score: 0.830\n",
      "In epoch 235, loss: 0.69111, val loss: 0.69442, accuracy: 0.846, val accuracy: 0.829, f1score: 0.869, val f1score: 0.836\n",
      "new best val loss\n",
      "In epoch 240, loss: 0.69144, val loss: 0.69411, accuracy: 0.832, val accuracy: 0.818, f1score: 0.869, val f1score: 0.831\n",
      "new best val loss\n",
      "In epoch 245, loss: 0.69158, val loss: 0.69492, accuracy: 0.844, val accuracy: 0.828, f1score: 0.869, val f1score: 0.833\n",
      "In epoch 250, loss: 0.69146, val loss: 0.69462, accuracy: 0.841, val accuracy: 0.821, f1score: 0.869, val f1score: 0.831\n",
      "In epoch 255, loss: 0.69121, val loss: 0.69409, accuracy: 0.827, val accuracy: 0.808, f1score: 0.868, val f1score: 0.823\n",
      "new best val loss\n",
      "In epoch 260, loss: 0.69170, val loss: 0.69486, accuracy: 0.827, val accuracy: 0.804, f1score: 0.868, val f1score: 0.818\n",
      "In epoch 265, loss: 0.69131, val loss: 0.69403, accuracy: 0.826, val accuracy: 0.807, f1score: 0.868, val f1score: 0.823\n",
      "new best val loss\n",
      "In epoch 270, loss: 0.69165, val loss: 0.69478, accuracy: 0.839, val accuracy: 0.822, f1score: 0.867, val f1score: 0.831\n",
      "In epoch 275, loss: 0.69101, val loss: 0.69414, accuracy: 0.841, val accuracy: 0.823, f1score: 0.867, val f1score: 0.833\n",
      "In epoch 280, loss: 0.69142, val loss: 0.69438, accuracy: 0.841, val accuracy: 0.823, f1score: 0.867, val f1score: 0.833\n",
      "In epoch 285, loss: 0.69143, val loss: 0.69436, accuracy: 0.827, val accuracy: 0.814, f1score: 0.867, val f1score: 0.826\n",
      "In epoch 290, loss: 0.69094, val loss: 0.69393, accuracy: 0.841, val accuracy: 0.822, f1score: 0.867, val f1score: 0.833\n",
      "new best val loss\n",
      "In epoch 295, loss: 0.69149, val loss: 0.69414, accuracy: 0.825, val accuracy: 0.810, f1score: 0.866, val f1score: 0.824\n",
      "In epoch 300, loss: 0.69100, val loss: 0.69416, accuracy: 0.833, val accuracy: 0.816, f1score: 0.866, val f1score: 0.829\n",
      "In epoch 305, loss: 0.69161, val loss: 0.69570, accuracy: 0.875, val accuracy: 0.853, f1score: 0.866, val f1score: 0.844\n",
      "In epoch 310, loss: 0.69103, val loss: 0.69426, accuracy: 0.824, val accuracy: 0.808, f1score: 0.866, val f1score: 0.824\n",
      "In epoch 315, loss: 0.69134, val loss: 0.69431, accuracy: 0.837, val accuracy: 0.817, f1score: 0.866, val f1score: 0.829\n",
      "In epoch 320, loss: 0.69127, val loss: 0.69380, accuracy: 0.837, val accuracy: 0.816, f1score: 0.866, val f1score: 0.830\n",
      "new best val loss\n",
      "In epoch 325, loss: 0.69105, val loss: 0.69350, accuracy: 0.826, val accuracy: 0.808, f1score: 0.865, val f1score: 0.825\n",
      "new best val loss\n",
      "In epoch 330, loss: 0.69142, val loss: 0.69450, accuracy: 0.840, val accuracy: 0.821, f1score: 0.865, val f1score: 0.830\n",
      "In epoch 335, loss: 0.69181, val loss: 0.69491, accuracy: 0.824, val accuracy: 0.807, f1score: 0.865, val f1score: 0.819\n",
      "In epoch 340, loss: 0.69140, val loss: 0.69446, accuracy: 0.840, val accuracy: 0.816, f1score: 0.865, val f1score: 0.827\n",
      "In epoch 345, loss: 0.69135, val loss: 0.69382, accuracy: 0.814, val accuracy: 0.799, f1score: 0.865, val f1score: 0.817\n",
      "In epoch 350, loss: 0.69089, val loss: 0.69401, accuracy: 0.829, val accuracy: 0.813, f1score: 0.864, val f1score: 0.827\n",
      "In epoch 355, loss: 0.69121, val loss: 0.69418, accuracy: 0.828, val accuracy: 0.811, f1score: 0.864, val f1score: 0.826\n",
      "In epoch 360, loss: 0.69137, val loss: 0.69526, accuracy: 0.863, val accuracy: 0.843, f1score: 0.864, val f1score: 0.841\n",
      "In epoch 365, loss: 0.69154, val loss: 0.69442, accuracy: 0.842, val accuracy: 0.827, f1score: 0.864, val f1score: 0.835\n",
      "In epoch 370, loss: 0.69141, val loss: 0.69400, accuracy: 0.830, val accuracy: 0.815, f1score: 0.864, val f1score: 0.827\n",
      "In epoch 375, loss: 0.69140, val loss: 0.69445, accuracy: 0.846, val accuracy: 0.826, f1score: 0.864, val f1score: 0.835\n",
      "In epoch 380, loss: 0.69098, val loss: 0.69378, accuracy: 0.832, val accuracy: 0.815, f1score: 0.864, val f1score: 0.828\n",
      "In epoch 385, loss: 0.69106, val loss: 0.69384, accuracy: 0.833, val accuracy: 0.814, f1score: 0.864, val f1score: 0.828\n",
      "In epoch 390, loss: 0.69132, val loss: 0.69474, accuracy: 0.853, val accuracy: 0.834, f1score: 0.864, val f1score: 0.838\n",
      "In epoch 395, loss: 0.69237, val loss: 0.69662, accuracy: 0.889, val accuracy: 0.869, f1score: 0.864, val f1score: 0.850\n",
      "In epoch 400, loss: 0.69138, val loss: 0.69475, accuracy: 0.850, val accuracy: 0.833, f1score: 0.864, val f1score: 0.839\n",
      "In epoch 405, loss: 0.69126, val loss: 0.69367, accuracy: 0.819, val accuracy: 0.805, f1score: 0.864, val f1score: 0.823\n",
      "In epoch 410, loss: 0.69076, val loss: 0.69392, accuracy: 0.823, val accuracy: 0.806, f1score: 0.864, val f1score: 0.824\n",
      "In epoch 415, loss: 0.69125, val loss: 0.69404, accuracy: 0.841, val accuracy: 0.823, f1score: 0.863, val f1score: 0.833\n",
      "In epoch 420, loss: 0.69115, val loss: 0.69403, accuracy: 0.845, val accuracy: 0.825, f1score: 0.863, val f1score: 0.834\n",
      "In epoch 425, loss: 0.69110, val loss: 0.69392, accuracy: 0.823, val accuracy: 0.808, f1score: 0.863, val f1score: 0.823\n",
      "In epoch 430, loss: 0.69126, val loss: 0.69385, accuracy: 0.833, val accuracy: 0.816, f1score: 0.863, val f1score: 0.830\n",
      "In epoch 435, loss: 0.69127, val loss: 0.69452, accuracy: 0.851, val accuracy: 0.832, f1score: 0.863, val f1score: 0.837\n",
      "In epoch 440, loss: 0.69123, val loss: 0.69411, accuracy: 0.842, val accuracy: 0.824, f1score: 0.863, val f1score: 0.834\n",
      "In epoch 445, loss: 0.69088, val loss: 0.69347, accuracy: 0.829, val accuracy: 0.808, f1score: 0.863, val f1score: 0.824\n",
      "new best val loss\n",
      "In epoch 450, loss: 0.69120, val loss: 0.69375, accuracy: 0.818, val accuracy: 0.801, f1score: 0.863, val f1score: 0.820\n",
      "In epoch 455, loss: 0.69100, val loss: 0.69354, accuracy: 0.815, val accuracy: 0.794, f1score: 0.863, val f1score: 0.815\n",
      "In epoch 460, loss: 0.69165, val loss: 0.69418, accuracy: 0.844, val accuracy: 0.829, f1score: 0.863, val f1score: 0.837\n",
      "In epoch 465, loss: 0.69144, val loss: 0.69430, accuracy: 0.841, val accuracy: 0.820, f1score: 0.863, val f1score: 0.831\n",
      "In epoch 470, loss: 0.69100, val loss: 0.69406, accuracy: 0.835, val accuracy: 0.812, f1score: 0.862, val f1score: 0.826\n",
      "In epoch 475, loss: 0.69138, val loss: 0.69426, accuracy: 0.844, val accuracy: 0.822, f1score: 0.862, val f1score: 0.832\n",
      "In epoch 480, loss: 0.69109, val loss: 0.69399, accuracy: 0.838, val accuracy: 0.819, f1score: 0.862, val f1score: 0.830\n",
      "In epoch 485, loss: 0.69108, val loss: 0.69434, accuracy: 0.821, val accuracy: 0.807, f1score: 0.862, val f1score: 0.821\n",
      "In epoch 490, loss: 0.69160, val loss: 0.69409, accuracy: 0.821, val accuracy: 0.806, f1score: 0.862, val f1score: 0.822\n",
      "In epoch 495, loss: 0.69143, val loss: 0.69460, accuracy: 0.839, val accuracy: 0.817, f1score: 0.862, val f1score: 0.828\n"
     ]
    }
   ]
  },
  {
   "cell_type": "markdown",
   "source": [
    "from func.graph_models import GCN, GCN_2\n",
    "import torch.nn.functional as F\n",
    "import random\n",
    "import dgl\n",
    "\n",
    "model = GCN(1, num_classes=2)\n",
    "CELoss = nn.CrossEntropyLoss()\n",
    "\n",
    "# training\n",
    "optimizer = torch.optim.Adam(model.parameters(), lr=0.01)\n",
    "best_val_acc = 0\n",
    "\n",
    "\n",
    "\n",
    "# features = g.ndata['feat']\n",
    "# labels = g.ndata['label']\n",
    "# train_mask = g.ndata['train_mask']\n",
    "# val_mask = g.ndata['val_mask']\n",
    "\n",
    "# calculate weights for loss\n",
    "\"\"\"\n",
    "pos_weights = []\n",
    "neg_weights = []\n",
    "for graph_number in range(len(dataset)):\n",
    "    sample_graph = dataset[graph_number]\n",
    "    labels = sample_graph.ndata['label']\n",
    "    # create class weights\n",
    "    number_positives = torch.count_nonzero(labels)\n",
    "    positive_weight = 1 - (number_positives / len(labels))\n",
    "    negative_weight = 1 - positive_weight\n",
    "\n",
    "    pos_weights.append(positive_weight.item())\n",
    "    neg_weights.append(negative_weight.item())\n",
    "weights = torch.tensor([mean(neg_weights), mean(pos_weights)])\n",
    "print(f\"weights: {weights}\")\n",
    "\"\"\"\n",
    "\n",
    "# build one big graph\n",
    "graphs_list = []\n",
    "for i in range(len(dataset)):\n",
    "    graphs_list.append(dataset[i])\n",
    "\n",
    "large_g = dgl.batch(graphs_list)"
   ],
   "metadata": {
    "collapsed": false,
    "pycharm": {
     "name": "#%% md\n"
    }
   }
  },
  {
   "cell_type": "markdown",
   "source": [
    "epoch_loss = []\n",
    "epoch_accuracy = []\n",
    "for e in range(1000):\n",
    "    # get random elements for batch\n",
    "    #graphs_numbers_list = range(0, len(dataset))\n",
    "    #rand_graph_numbers = random.sample(graphs_numbers_list, len(dataset))\n",
    "    sample_graph = large_g\n",
    "    features = sample_graph.ndata['feat']\n",
    "    labels = sample_graph.ndata['label']\n",
    "\n",
    "    # create class weights\n",
    "    number_positives = torch.count_nonzero(labels)\n",
    "    percentage_positives = number_positives / len(labels)\n",
    "    percentage_negatives = 1 - percentage_positives\n",
    "\n",
    "    weights = torch.tensor([1 - percentage_negatives, 1 - percentage_positives])\n",
    "    #weights = torch.tensor([0.95, 0.05])\n",
    "    #print(weights)\n",
    "\n",
    "    CELoss = nn.CrossEntropyLoss(weight=weights)\n",
    "    #train_mask = sample_graph.ndata['train_mask']\n",
    "    #val_mask = sample_graph.ndata['val_mask']\n",
    "    logits = model(sample_graph, features)\n",
    "\n",
    "    # Compute prediction\n",
    "    pred = logits.argmax(1)\n",
    "\n",
    "    # Compute loss\n",
    "    # Note that you should only compute the losses of the nodes in the training set.\n",
    "    loss = CELoss(logits, labels)\n",
    "    epoch_loss.append(loss.item())\n",
    "    #print(loss)\n",
    "    # Compute accuracy on training/validation/test\n",
    "    train_acc = (pred == labels).float().mean()\n",
    "    epoch_accuracy.append(train_acc.item())\n",
    "    # Backward\n",
    "    optimizer.zero_grad()\n",
    "    loss.backward()\n",
    "    optimizer.step()\n",
    "\n",
    "    if e % 20 == 0:\n",
    "        print('In epoch {}, loss: {:.3f}, accuracy: {:.3f}'.format(\n",
    "            e, mean(epoch_loss), mean(epoch_accuracy)))\n",
    "        epoch_loss = []\n",
    "        epoch_accuracy = []\n",
    "\n",
    "\n"
   ],
   "metadata": {
    "collapsed": false,
    "pycharm": {
     "name": "#%% md\n"
    }
   }
  },
  {
   "cell_type": "markdown",
   "source": [
    "# Train on GPU\n",
    "g = g.to('cuda')\n",
    "model = GCN(1, 16, dataset.num_classes).to('cuda')\n",
    "train(g, model)"
   ],
   "metadata": {
    "collapsed": false,
    "pycharm": {
     "name": "#%% md\n"
    }
   }
  },
  {
   "cell_type": "code",
   "execution_count": 19,
   "outputs": [
    {
     "data": {
      "text/plain": "Graph(num_nodes=1405, num_edges=5327,\n      ndata_schemes={'feat': Scheme(shape=(1,), dtype=torch.float32), 'label': Scheme(shape=(), dtype=torch.int64), 'train_mask': Scheme(shape=(), dtype=torch.bool), 'val_mask': Scheme(shape=(), dtype=torch.bool)}\n      edata_schemes={'weight': Scheme(shape=(1,), dtype=torch.float64)})"
     },
     "execution_count": 19,
     "metadata": {},
     "output_type": "execute_result"
    }
   ],
   "source": [
    "g"
   ],
   "metadata": {
    "collapsed": false,
    "pycharm": {
     "name": "#%%\n"
    }
   }
  },
  {
   "cell_type": "code",
   "execution_count": 20,
   "outputs": [
    {
     "data": {
      "text/plain": "torch.Size([1405, 1])"
     },
     "execution_count": 20,
     "metadata": {},
     "output_type": "execute_result"
    }
   ],
   "source": [
    "\n",
    "g.ndata['feat'].shape"
   ],
   "metadata": {
    "collapsed": false,
    "pycharm": {
     "name": "#%%\n"
    }
   }
  },
  {
   "cell_type": "code",
   "execution_count": 21,
   "outputs": [],
   "source": [
    "model.eval()\n",
    "with torch.no_grad():\n",
    "    predictions = model(g, g.ndata['feat']).argmax(1).numpy()"
   ],
   "metadata": {
    "collapsed": false,
    "pycharm": {
     "name": "#%%\n"
    }
   }
  },
  {
   "cell_type": "code",
   "execution_count": 22,
   "outputs": [
    {
     "data": {
      "text/plain": "array([0, 1])"
     },
     "execution_count": 22,
     "metadata": {},
     "output_type": "execute_result"
    }
   ],
   "source": [
    "np.unique(predictions)"
   ],
   "metadata": {
    "collapsed": false,
    "pycharm": {
     "name": "#%%\n"
    }
   }
  },
  {
   "cell_type": "code",
   "execution_count": 23,
   "outputs": [
    {
     "data": {
      "text/plain": "array([0, 1])"
     },
     "execution_count": 23,
     "metadata": {},
     "output_type": "execute_result"
    }
   ],
   "source": [
    "labels = g.ndata['label']\n",
    "np.unique(labels)"
   ],
   "metadata": {
    "collapsed": false,
    "pycharm": {
     "name": "#%%\n"
    }
   }
  },
  {
   "cell_type": "code",
   "execution_count": 24,
   "outputs": [
    {
     "data": {
      "text/plain": "1315"
     },
     "execution_count": 24,
     "metadata": {},
     "output_type": "execute_result"
    }
   ],
   "source": [
    "len(labels[labels==1])"
   ],
   "metadata": {
    "collapsed": false,
    "pycharm": {
     "name": "#%%\n"
    }
   }
  },
  {
   "cell_type": "code",
   "execution_count": 25,
   "outputs": [
    {
     "data": {
      "text/plain": "90"
     },
     "execution_count": 25,
     "metadata": {},
     "output_type": "execute_result"
    }
   ],
   "source": [
    "len(labels[labels==0])"
   ],
   "metadata": {
    "collapsed": false,
    "pycharm": {
     "name": "#%%\n"
    }
   }
  },
  {
   "cell_type": "code",
   "execution_count": 26,
   "outputs": [
    {
     "data": {
      "text/plain": "1238"
     },
     "execution_count": 26,
     "metadata": {},
     "output_type": "execute_result"
    }
   ],
   "source": [
    "len(predictions[predictions==1])"
   ],
   "metadata": {
    "collapsed": false,
    "pycharm": {
     "name": "#%%\n"
    }
   }
  },
  {
   "cell_type": "code",
   "execution_count": 27,
   "outputs": [
    {
     "data": {
      "text/plain": "167"
     },
     "execution_count": 27,
     "metadata": {},
     "output_type": "execute_result"
    }
   ],
   "source": [
    "len(predictions[predictions==0])"
   ],
   "metadata": {
    "collapsed": false,
    "pycharm": {
     "name": "#%%\n"
    }
   }
  },
  {
   "cell_type": "code",
   "execution_count": 15,
   "outputs": [
    {
     "data": {
      "text/plain": "GCN(\n  (conv1): GraphConv(in=1, out=4, normalization=both, activation=None)\n  (dropout): Dropout(p=0.5, inplace=False)\n  (conv2): GraphConv(in=4, out=2, normalization=both, activation=None)\n)"
     },
     "execution_count": 15,
     "metadata": {},
     "output_type": "execute_result"
    }
   ],
   "source": [
    "graph_model = GCN(1, num_classes=2)\n",
    "checkpoint_graph = 'output/graph_model.pt'\n",
    "graph_model.load_state_dict(torch.load(checkpoint_graph))\n",
    "graph_model.eval()"
   ],
   "metadata": {
    "collapsed": false,
    "pycharm": {
     "name": "#%%\n"
    }
   }
  },
  {
   "cell_type": "code",
   "execution_count": 16,
   "outputs": [],
   "source": [
    "predictions = graph_model(g, g.ndata['feat']).argmax(1).numpy()\n"
   ],
   "metadata": {
    "collapsed": false,
    "pycharm": {
     "name": "#%%\n"
    }
   }
  },
  {
   "cell_type": "code",
   "execution_count": 17,
   "outputs": [
    {
     "data": {
      "text/plain": "1084"
     },
     "execution_count": 17,
     "metadata": {},
     "output_type": "execute_result"
    }
   ],
   "source": [
    "\n",
    "len(predictions[predictions==1])"
   ],
   "metadata": {
    "collapsed": false,
    "pycharm": {
     "name": "#%%\n"
    }
   }
  },
  {
   "cell_type": "code",
   "execution_count": 18,
   "outputs": [
    {
     "data": {
      "text/plain": "321"
     },
     "execution_count": 18,
     "metadata": {},
     "output_type": "execute_result"
    }
   ],
   "source": [
    "len(predictions[predictions==0])"
   ],
   "metadata": {
    "collapsed": false,
    "pycharm": {
     "name": "#%%\n"
    }
   }
  },
  {
   "cell_type": "code",
   "execution_count": 18,
   "outputs": [],
   "source": [],
   "metadata": {
    "collapsed": false,
    "pycharm": {
     "name": "#%%\n"
    }
   }
  }
 ],
 "metadata": {
  "kernelspec": {
   "display_name": "Python 3",
   "language": "python",
   "name": "python3"
  },
  "language_info": {
   "codemirror_mode": {
    "name": "ipython",
    "version": 2
   },
   "file_extension": ".py",
   "mimetype": "text/x-python",
   "name": "python",
   "nbconvert_exporter": "python",
   "pygments_lexer": "ipython2",
   "version": "2.7.6"
  }
 },
 "nbformat": 4,
 "nbformat_minor": 0
}