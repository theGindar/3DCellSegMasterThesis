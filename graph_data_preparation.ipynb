{
 "cells": [
  {
   "cell_type": "code",
   "execution_count": 1,
   "metadata": {
    "collapsed": true
   },
   "outputs": [
    {
     "name": "stderr",
     "output_type": "stream",
     "text": [
      "Using backend: pytorch\n"
     ]
    }
   ],
   "source": [
    "import numpy as np\n",
    "from func.graph_learning import SuperVoxToNxGraph"
   ]
  },
  {
   "cell_type": "code",
   "execution_count": 2,
   "outputs": [],
   "source": [
    "img_ws_predictions = np.load(\"img_ws_predictions.npy\", allow_pickle=True)"
   ],
   "metadata": {
    "collapsed": false,
    "pycharm": {
     "name": "#%%\n"
    }
   }
  },
  {
   "cell_type": "code",
   "execution_count": 3,
   "outputs": [],
   "source": [
    "img_ws_predictions = img_ws_predictions[()]"
   ],
   "metadata": {
    "collapsed": false,
    "pycharm": {
     "name": "#%%\n"
    }
   }
  },
  {
   "cell_type": "code",
   "execution_count": 4,
   "outputs": [
    {
     "name": "stdout",
     "output_type": "stream",
     "text": [
      "215\n",
      "getting neighbor pairs\n",
      "adding ground truth\n",
      "adding neighbor ids\n",
      "calculate edges\n",
      "build networkx graph\n"
     ]
    },
    {
     "name": "stderr",
     "output_type": "stream",
     "text": [
      "/Users/d070426/Documents/GitHub/3DCellSegMasterThesis/func/graph_learning.py:246: VisibleDeprecationWarning: Creating an ndarray from ragged nested sequences (which is a list-or-tuple of lists-or-tuples-or ndarrays with different lengths or shapes) is deprecated. If you meant to do this, you must specify 'dtype=object' when creating the ndarray.\n",
      "  feature = np.array([v_2_size, v_1_size, neighbor_pair[3]])\n"
     ]
    },
    {
     "name": "stdout",
     "output_type": "stream",
     "text": [
      "165\n",
      "getting neighbor pairs\n",
      "adding ground truth\n",
      "adding neighbor ids\n",
      "calculate edges\n",
      "build networkx graph\n",
      "220\n",
      "getting neighbor pairs\n",
      "adding ground truth\n",
      "adding neighbor ids\n",
      "calculate edges\n",
      "build networkx graph\n",
      "100\n",
      "getting neighbor pairs\n",
      "adding ground truth\n",
      "adding neighbor ids\n",
      "calculate edges\n",
      "build networkx graph\n",
      "110\n",
      "getting neighbor pairs\n",
      "adding ground truth\n",
      "adding neighbor ids\n",
      "calculate edges\n",
      "build networkx graph\n",
      "80\n",
      "getting neighbor pairs\n",
      "adding ground truth\n",
      "adding neighbor ids\n",
      "calculate edges\n",
      "build networkx graph\n",
      "95\n",
      "getting neighbor pairs\n",
      "adding ground truth\n",
      "adding neighbor ids\n",
      "calculate edges\n",
      "build networkx graph\n",
      "140\n",
      "getting neighbor pairs\n",
      "adding ground truth\n",
      "adding neighbor ids\n",
      "calculate edges\n",
      "build networkx graph\n",
      "180\n",
      "getting neighbor pairs\n",
      "adding ground truth\n",
      "adding neighbor ids\n",
      "calculate edges\n",
      "build networkx graph\n",
      "70\n",
      "getting neighbor pairs\n",
      "adding ground truth\n",
      "adding neighbor ids\n",
      "calculate edges\n",
      "build networkx graph\n",
      "210\n",
      "getting neighbor pairs\n",
      "adding ground truth\n",
      "adding neighbor ids\n",
      "calculate edges\n",
      "build networkx graph\n",
      "115\n",
      "getting neighbor pairs\n",
      "adding ground truth\n",
      "adding neighbor ids\n",
      "calculate edges\n",
      "build networkx graph\n",
      "170\n",
      "getting neighbor pairs\n",
      "adding ground truth\n",
      "adding neighbor ids\n",
      "calculate edges\n",
      "build networkx graph\n",
      "200\n",
      "getting neighbor pairs\n",
      "adding ground truth\n",
      "adding neighbor ids\n",
      "calculate edges\n",
      "build networkx graph\n",
      "55\n",
      "getting neighbor pairs\n",
      "adding ground truth\n",
      "adding neighbor ids\n",
      "calculate edges\n",
      "build networkx graph\n",
      "105\n",
      "getting neighbor pairs\n",
      "adding ground truth\n",
      "adding neighbor ids\n",
      "calculate edges\n",
      "build networkx graph\n",
      "145\n",
      "getting neighbor pairs\n",
      "adding ground truth\n",
      "adding neighbor ids\n",
      "calculate edges\n",
      "build networkx graph\n",
      "160\n",
      "getting neighbor pairs\n",
      "adding ground truth\n",
      "adding neighbor ids\n",
      "calculate edges\n",
      "build networkx graph\n",
      "195\n",
      "getting neighbor pairs\n",
      "adding ground truth\n",
      "adding neighbor ids\n",
      "calculate edges\n",
      "build networkx graph\n",
      "125\n",
      "getting neighbor pairs\n",
      "adding ground truth\n",
      "adding neighbor ids\n",
      "calculate edges\n",
      "build networkx graph\n",
      "75\n",
      "getting neighbor pairs\n",
      "adding ground truth\n",
      "adding neighbor ids\n",
      "calculate edges\n",
      "build networkx graph\n",
      "130\n",
      "getting neighbor pairs\n",
      "adding ground truth\n",
      "adding neighbor ids\n",
      "calculate edges\n",
      "build networkx graph\n",
      "225\n",
      "getting neighbor pairs\n",
      "adding ground truth\n",
      "adding neighbor ids\n",
      "calculate edges\n",
      "build networkx graph\n",
      "85\n",
      "getting neighbor pairs\n",
      "adding ground truth\n",
      "adding neighbor ids\n",
      "calculate edges\n",
      "build networkx graph\n",
      "155\n",
      "getting neighbor pairs\n",
      "adding ground truth\n",
      "adding neighbor ids\n",
      "calculate edges\n",
      "build networkx graph\n",
      "50\n",
      "getting neighbor pairs\n",
      "adding ground truth\n",
      "adding neighbor ids\n",
      "calculate edges\n",
      "build networkx graph\n",
      "185\n",
      "getting neighbor pairs\n",
      "adding ground truth\n",
      "adding neighbor ids\n",
      "calculate edges\n",
      "build networkx graph\n",
      "60\n",
      "getting neighbor pairs\n",
      "adding ground truth\n",
      "adding neighbor ids\n",
      "calculate edges\n",
      "build networkx graph\n",
      "205\n",
      "getting neighbor pairs\n",
      "adding ground truth\n",
      "adding neighbor ids\n",
      "calculate edges\n",
      "build networkx graph\n",
      "175\n",
      "getting neighbor pairs\n",
      "adding ground truth\n",
      "adding neighbor ids\n",
      "calculate edges\n",
      "build networkx graph\n",
      "190\n",
      "getting neighbor pairs\n",
      "adding ground truth\n",
      "adding neighbor ids\n",
      "calculate edges\n",
      "build networkx graph\n",
      "150\n",
      "getting neighbor pairs\n",
      "adding ground truth\n",
      "adding neighbor ids\n",
      "calculate edges\n",
      "build networkx graph\n"
     ]
    }
   ],
   "source": [
    "all_graphs = []\n",
    "for img_ws in img_ws_predictions:\n",
    "    # get ground truth\n",
    "    print(img_ws)\n",
    "\n",
    "    ground_truth_path = f'data/CellSeg_dataset/HMS_processed/segmentation/{img_ws}/{img_ws}_ins.npy'\n",
    "    hand_seg = np.load(ground_truth_path)\n",
    "\n",
    "\n",
    "    super_vox_to_graph = SuperVoxToNxGraph()\n",
    "    graph = super_vox_to_graph.get_nx_graph_from_ws_with_gt(img_ws_predictions[img_ws], hand_seg)\n",
    "    all_graphs.append(graph)"
   ],
   "metadata": {
    "collapsed": false,
    "pycharm": {
     "name": "#%%\n"
    }
   }
  },
  {
   "cell_type": "code",
   "execution_count": 5,
   "outputs": [
    {
     "name": "stdout",
     "output_type": "stream",
     "text": [
      "32\n"
     ]
    }
   ],
   "source": [
    "print(len(all_graphs))"
   ],
   "metadata": {
    "collapsed": false,
    "pycharm": {
     "name": "#%%\n"
    }
   }
  },
  {
   "cell_type": "code",
   "execution_count": 7,
   "outputs": [
    {
     "ename": "TypeError",
     "evalue": "cannot pickle 'pickle.PickleBuffer' object",
     "output_type": "error",
     "traceback": [
      "\u001B[0;31m---------------------------------------------------------------------------\u001B[0m",
      "\u001B[0;31mTypeError\u001B[0m                                 Traceback (most recent call last)",
      "Input \u001B[0;32mIn [7]\u001B[0m, in \u001B[0;36m<cell line: 5>\u001B[0;34m()\u001B[0m\n\u001B[1;32m      1\u001B[0m \u001B[38;5;28;01mfrom\u001B[39;00m \u001B[38;5;21;01mfunc\u001B[39;00m\u001B[38;5;21;01m.\u001B[39;00m\u001B[38;5;21;01multis\u001B[39;00m \u001B[38;5;28;01mimport\u001B[39;00m save_obj\n\u001B[1;32m      3\u001B[0m all_graphs_dict \u001B[38;5;241m=\u001B[39m {\u001B[38;5;124m\"\u001B[39m\u001B[38;5;124mgraphs\u001B[39m\u001B[38;5;124m\"\u001B[39m : all_graphs}\n\u001B[0;32m----> 5\u001B[0m \u001B[43msave_obj\u001B[49m\u001B[43m(\u001B[49m\u001B[43mall_graphs_dict\u001B[49m\u001B[43m,\u001B[49m\u001B[43m \u001B[49m\u001B[38;5;124;43m\"\u001B[39;49m\u001B[38;5;124;43mall_graphs_list\u001B[39;49m\u001B[38;5;124;43m\"\u001B[39;49m\u001B[43m)\u001B[49m\n",
      "File \u001B[0;32m~/Documents/GitHub/3DCellSegMasterThesis/func/ultis.py:5\u001B[0m, in \u001B[0;36msave_obj\u001B[0;34m(obj, name)\u001B[0m\n\u001B[1;32m      3\u001B[0m \u001B[38;5;28;01mdef\u001B[39;00m \u001B[38;5;21msave_obj\u001B[39m(obj, name):\n\u001B[1;32m      4\u001B[0m     \u001B[38;5;28;01mwith\u001B[39;00m \u001B[38;5;28mopen\u001B[39m(name \u001B[38;5;241m+\u001B[39m \u001B[38;5;124m'\u001B[39m\u001B[38;5;124m.pkl\u001B[39m\u001B[38;5;124m'\u001B[39m, \u001B[38;5;124m'\u001B[39m\u001B[38;5;124mwb\u001B[39m\u001B[38;5;124m'\u001B[39m) \u001B[38;5;28;01mas\u001B[39;00m f:\n\u001B[0;32m----> 5\u001B[0m         \u001B[43mpickle\u001B[49m\u001B[38;5;241;43m.\u001B[39;49m\u001B[43mdump\u001B[49m\u001B[43m(\u001B[49m\u001B[43mobj\u001B[49m\u001B[43m,\u001B[49m\u001B[43m \u001B[49m\u001B[43mf\u001B[49m\u001B[43m,\u001B[49m\u001B[43m \u001B[49m\u001B[43mpickle\u001B[49m\u001B[38;5;241;43m.\u001B[39;49m\u001B[43mHIGHEST_PROTOCOL\u001B[49m\u001B[43m)\u001B[49m\n",
      "\u001B[0;31mTypeError\u001B[0m: cannot pickle 'pickle.PickleBuffer' object"
     ]
    }
   ],
   "source": [
    "from func.ultis import save_obj\n",
    "\n",
    "all_graphs_dict = {\"graphs\" : all_graphs}\n",
    "\n",
    "save_obj(all_graphs_dict, \"all_graphs_list\")"
   ],
   "metadata": {
    "collapsed": false,
    "pycharm": {
     "name": "#%%\n"
    }
   }
  },
  {
   "cell_type": "code",
   "execution_count": 8,
   "outputs": [],
   "source": [
    "import pickle\n",
    "with open('all_graphs_list.pkl', 'wb') as f:\n",
    "    pickle.dump(all_graphs, f)"
   ],
   "metadata": {
    "collapsed": false,
    "pycharm": {
     "name": "#%%\n"
    }
   }
  },
  {
   "cell_type": "code",
   "execution_count": null,
   "outputs": [],
   "source": [],
   "metadata": {
    "collapsed": false,
    "pycharm": {
     "name": "#%%\n"
    }
   }
  }
 ],
 "metadata": {
  "kernelspec": {
   "display_name": "Python 3",
   "language": "python",
   "name": "python3"
  },
  "language_info": {
   "codemirror_mode": {
    "name": "ipython",
    "version": 2
   },
   "file_extension": ".py",
   "mimetype": "text/x-python",
   "name": "python",
   "nbconvert_exporter": "python",
   "pygments_lexer": "ipython2",
   "version": "2.7.6"
  }
 },
 "nbformat": 4,
 "nbformat_minor": 0
}