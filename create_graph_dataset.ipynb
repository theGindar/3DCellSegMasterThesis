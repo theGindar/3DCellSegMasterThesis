{
 "cells": [
  {
   "cell_type": "code",
   "execution_count": 1,
   "metadata": {
    "collapsed": true
   },
   "outputs": [
    {
     "name": "stderr",
     "output_type": "stream",
     "text": [
      "Using backend: pytorch\n"
     ]
    }
   ],
   "source": [
    "import numpy as np\n",
    "import os\n",
    "import pickle\n",
    "import copy\n",
    "import edt\n",
    "import matplotlib.pyplot as plt\n",
    "import time\n",
    "import cv2\n",
    "import pandas as pd\n",
    "from sklearn.metrics.cluster import adjusted_rand_score\n",
    "from skimage.metrics import adapted_rand_error\n",
    "\n",
    "import torch\n",
    "from torch import from_numpy as from_numpy\n",
    "from torchsummary import summary\n",
    "\n",
    "from func.run_pipeline_super_vox import segment_super_vox_3_channel, semantic_segment_crop_and_cat_3_channel_output, img_3d_erosion_or_expansion, \\\n",
    "generate_super_vox_by_watershed, get_outlayer_of_a_3d_shape, get_crop_by_pixel_val, Cluster_Super_Vox, assign_boudary_voxels_to_cells_with_watershed, \\\n",
    "delete_too_small_cluster, reassign\n",
    "from func.run_pipeline import segment, assign_boudary_voxels_to_cells, dbscan_of_seg, semantic_segment_crop_and_cat\n",
    "from func.cal_accuracy import IOU_and_Dice_Accuracy, VOI\n",
    "from func.network import VoxResNet, CellSegNet_basic_lite\n",
    "from func.unet_3d_basic import UNet3D_basic\n",
    "from func.ultis import save_obj, load_obj\n",
    "\n",
    "from func.graph_learning import SuperVoxToNxGraph, VoxelGraphDataset"
   ]
  },
  {
   "cell_type": "code",
   "execution_count": 2,
   "outputs": [],
   "source": [
    "HMS_data_dict = load_obj(\"dataset_info/HMS_dataset_info\")\n",
    "HMS_data_dict_train = HMS_data_dict[\"train\"]"
   ],
   "metadata": {
    "collapsed": false,
    "pycharm": {
     "name": "#%%\n"
    }
   }
  },
  {
   "cell_type": "code",
   "execution_count": 3,
   "outputs": [],
   "source": [
    "img_ws_predictions = np.load(\"img_ws_predictions.npy\", allow_pickle=True)\n",
    "img_ws_predictions = img_ws_predictions[()]"
   ],
   "metadata": {
    "collapsed": false,
    "pycharm": {
     "name": "#%%\n"
    }
   }
  },
  {
   "cell_type": "code",
   "execution_count": 4,
   "outputs": [
    {
     "name": "stdout",
     "output_type": "stream",
     "text": [
      "95\n",
      "data/CellSeg_dataset/HMS_processed/raw/95.npy\n",
      "getting neighbor pairs\n",
      "adding ground truth\n",
      "adding neighbor ids\n",
      "calculate edges\n",
      "build networkx graph\n",
      "50\n",
      "data/CellSeg_dataset/HMS_processed/raw/50.npy\n",
      "getting neighbor pairs\n",
      "adding ground truth\n",
      "adding neighbor ids\n",
      "calculate edges\n",
      "build networkx graph\n",
      "150\n",
      "data/CellSeg_dataset/HMS_processed/raw/150.npy\n",
      "getting neighbor pairs\n",
      "adding ground truth\n",
      "adding neighbor ids\n",
      "calculate edges\n",
      "build networkx graph\n",
      "195\n",
      "data/CellSeg_dataset/HMS_processed/raw/195.npy\n",
      "getting neighbor pairs\n",
      "adding ground truth\n",
      "adding neighbor ids\n",
      "calculate edges\n",
      "build networkx graph\n",
      "105\n",
      "data/CellSeg_dataset/HMS_processed/raw/105.npy\n",
      "getting neighbor pairs\n",
      "adding ground truth\n",
      "adding neighbor ids\n",
      "calculate edges\n",
      "build networkx graph\n",
      "60\n",
      "data/CellSeg_dataset/HMS_processed/raw/60.npy\n",
      "getting neighbor pairs\n",
      "adding ground truth\n",
      "adding neighbor ids\n",
      "calculate edges\n",
      "build networkx graph\n",
      "160\n",
      "data/CellSeg_dataset/HMS_processed/raw/160.npy\n",
      "getting neighbor pairs\n",
      "adding ground truth\n",
      "adding neighbor ids\n",
      "calculate edges\n",
      "build networkx graph\n",
      "220\n",
      "data/CellSeg_dataset/HMS_processed/raw/220.npy\n",
      "getting neighbor pairs\n",
      "adding ground truth\n",
      "adding neighbor ids\n",
      "calculate edges\n",
      "build networkx graph\n",
      "210\n",
      "data/CellSeg_dataset/HMS_processed/raw/210.npy\n",
      "getting neighbor pairs\n",
      "adding ground truth\n",
      "adding neighbor ids\n",
      "calculate edges\n",
      "build networkx graph\n",
      "205\n",
      "data/CellSeg_dataset/HMS_processed/raw/205.npy\n",
      "getting neighbor pairs\n",
      "adding ground truth\n",
      "adding neighbor ids\n",
      "calculate edges\n",
      "build networkx graph\n",
      "180\n",
      "data/CellSeg_dataset/HMS_processed/raw/180.npy\n",
      "getting neighbor pairs\n",
      "adding ground truth\n",
      "adding neighbor ids\n",
      "calculate edges\n",
      "build networkx graph\n",
      "145\n",
      "data/CellSeg_dataset/HMS_processed/raw/145.npy\n",
      "getting neighbor pairs\n",
      "adding ground truth\n",
      "adding neighbor ids\n",
      "calculate edges\n",
      "build networkx graph\n",
      "80\n",
      "data/CellSeg_dataset/HMS_processed/raw/80.npy\n",
      "getting neighbor pairs\n",
      "adding ground truth\n",
      "adding neighbor ids\n",
      "calculate edges\n",
      "build networkx graph\n",
      "175\n",
      "data/CellSeg_dataset/HMS_processed/raw/175.npy\n",
      "getting neighbor pairs\n",
      "adding ground truth\n",
      "adding neighbor ids\n",
      "calculate edges\n",
      "build networkx graph\n",
      "75\n",
      "data/CellSeg_dataset/HMS_processed/raw/75.npy\n",
      "getting neighbor pairs\n",
      "adding ground truth\n",
      "adding neighbor ids\n",
      "calculate edges\n",
      "build networkx graph\n",
      "110\n",
      "data/CellSeg_dataset/HMS_processed/raw/110.npy\n",
      "getting neighbor pairs\n",
      "adding ground truth\n",
      "adding neighbor ids\n",
      "calculate edges\n",
      "build networkx graph\n",
      "165\n",
      "data/CellSeg_dataset/HMS_processed/raw/165.npy\n",
      "getting neighbor pairs\n",
      "adding ground truth\n",
      "adding neighbor ids\n",
      "calculate edges\n",
      "build networkx graph\n",
      "100\n",
      "data/CellSeg_dataset/HMS_processed/raw/100.npy\n",
      "getting neighbor pairs\n",
      "adding ground truth\n",
      "adding neighbor ids\n",
      "calculate edges\n",
      "build networkx graph\n",
      "190\n",
      "data/CellSeg_dataset/HMS_processed/raw/190.npy\n",
      "getting neighbor pairs\n",
      "adding ground truth\n",
      "adding neighbor ids\n",
      "calculate edges\n",
      "build networkx graph\n",
      "155\n",
      "data/CellSeg_dataset/HMS_processed/raw/155.npy\n",
      "getting neighbor pairs\n",
      "adding ground truth\n",
      "adding neighbor ids\n",
      "calculate edges\n",
      "build networkx graph\n",
      "55\n",
      "data/CellSeg_dataset/HMS_processed/raw/55.npy\n",
      "getting neighbor pairs\n",
      "adding ground truth\n",
      "adding neighbor ids\n",
      "calculate edges\n",
      "build networkx graph\n",
      "130\n",
      "data/CellSeg_dataset/HMS_processed/raw/130.npy\n",
      "getting neighbor pairs\n",
      "adding ground truth\n",
      "adding neighbor ids\n",
      "calculate edges\n",
      "build networkx graph\n",
      "215\n",
      "data/CellSeg_dataset/HMS_processed/raw/215.npy\n",
      "getting neighbor pairs\n",
      "adding ground truth\n",
      "adding neighbor ids\n",
      "calculate edges\n",
      "build networkx graph\n",
      "225\n",
      "data/CellSeg_dataset/HMS_processed/raw/225.npy\n",
      "getting neighbor pairs\n",
      "adding ground truth\n",
      "adding neighbor ids\n",
      "calculate edges\n",
      "build networkx graph\n",
      "200\n",
      "data/CellSeg_dataset/HMS_processed/raw/200.npy\n",
      "getting neighbor pairs\n",
      "adding ground truth\n",
      "adding neighbor ids\n",
      "calculate edges\n",
      "build networkx graph\n",
      "115\n",
      "data/CellSeg_dataset/HMS_processed/raw/115.npy\n",
      "getting neighbor pairs\n",
      "adding ground truth\n",
      "adding neighbor ids\n",
      "calculate edges\n",
      "build networkx graph\n",
      "70\n",
      "data/CellSeg_dataset/HMS_processed/raw/70.npy\n",
      "getting neighbor pairs\n",
      "adding ground truth\n",
      "adding neighbor ids\n",
      "calculate edges\n",
      "build networkx graph\n",
      "170\n",
      "data/CellSeg_dataset/HMS_processed/raw/170.npy\n",
      "getting neighbor pairs\n",
      "adding ground truth\n",
      "adding neighbor ids\n",
      "calculate edges\n",
      "build networkx graph\n",
      "85\n",
      "data/CellSeg_dataset/HMS_processed/raw/85.npy\n",
      "getting neighbor pairs\n",
      "adding ground truth\n",
      "adding neighbor ids\n",
      "calculate edges\n",
      "build networkx graph\n",
      "125\n",
      "data/CellSeg_dataset/HMS_processed/raw/125.npy\n",
      "getting neighbor pairs\n",
      "adding ground truth\n",
      "adding neighbor ids\n",
      "calculate edges\n",
      "build networkx graph\n",
      "140\n",
      "data/CellSeg_dataset/HMS_processed/raw/140.npy\n",
      "getting neighbor pairs\n",
      "adding ground truth\n",
      "adding neighbor ids\n",
      "calculate edges\n",
      "build networkx graph\n",
      "185\n",
      "data/CellSeg_dataset/HMS_processed/raw/185.npy\n",
      "getting neighbor pairs\n",
      "adding ground truth\n",
      "adding neighbor ids\n",
      "calculate edges\n",
      "build networkx graph\n"
     ]
    }
   ],
   "source": [
    "graphs_list = []\n",
    "for img_name in HMS_data_dict_train.keys():\n",
    "    if img_name == \".DS_Store\":\n",
    "        continue\n",
    "    print(img_name)\n",
    "    raw_img_path = HMS_data_dict_train[img_name][\"raw\"]\n",
    "    print(HMS_data_dict_train[img_name][\"raw\"])\n",
    "    hand_seg_path = f\"data/CellSeg_dataset/HMS_processed/segmentation/{img_name}/{img_name}_ins.npy\"\n",
    "\n",
    "    # raw_img = np.load(raw_img_path)\n",
    "    hand_seg = np.load(hand_seg_path)\n",
    "\n",
    "    model_seg = img_ws_predictions[img_name]\n",
    "\n",
    "    super_vox_to_graph = SuperVoxToNxGraph()\n",
    "    graph = super_vox_to_graph.get_nx_graph_from_ws_with_gt(model_seg, hand_seg)\n",
    "\n",
    "    graphs_list.append(graph)"
   ],
   "metadata": {
    "collapsed": false,
    "pycharm": {
     "name": "#%%\n"
    }
   }
  },
  {
   "cell_type": "code",
   "execution_count": 5,
   "outputs": [
    {
     "data": {
      "text/plain": "{0.0: array([62., 17.,  5.]),\n 1.0: array([17.,  5.,  2.]),\n 2.0: array([62.,  5.,  2.]),\n 3.0: array([62.,  7.,  2.]),\n 4.0: array([62.,  5.,  2.]),\n 5.0: array([7., 5., 2.]),\n 6.0: array([478.,  10.,   4.]),\n 7.0: array([289.,   8.,   3.]),\n 8.0: array([764., 289.,  17.]),\n 9.0: array([44., 34., 11.]),\n 10.0: array([1174.,   44.,   14.]),\n 11.0: array([1174.,   34.,   11.]),\n 12.0: array([492.,   3.,   2.]),\n 13.0: array([88., 13.,  7.]),\n 14.0: array([841.,  13.,   2.]),\n 15.0: array([841.,  88.,  15.]),\n 16.0: array([78., 68., 14.]),\n 17.0: array([841.,  78.,  10.]),\n 18.0: array([81., 68., 14.]),\n 19.0: array([841.,  68.,   8.]),\n 20.0: array([136.,  40.,  18.]),\n 21.0: array([136.,  20.,   5.]),\n 22.0: array([136.,  39.,   9.]),\n 23.0: array([841.,  81.,   7.]),\n 24.0: array([21., 17.,  4.]),\n 25.0: array([21., 12.,  3.]),\n 26.0: array([21., 15.,  2.]),\n 27.0: array([67., 29., 12.]),\n 28.0: array([39., 20.,  7.]),\n 29.0: array([492.,  67.,  13.]),\n 30.0: array([1409.,  492.,   43.]),\n 31.0: array([1409.,   67.,    9.]),\n 32.0: array([1165.,  837.,    2.]),\n 33.0: array([837., 385.,  19.]),\n 34.0: array([841., 312.,  64.]),\n 35.0: array([841., 800.,  43.]),\n 36.0: array([251.,   5.,   3.]),\n 37.0: array([17., 13.,  6.]),\n 38.0: array([17., 15.,  2.]),\n 39.0: array([12.,  9.,  3.]),\n 40.0: array([15., 12.,  3.]),\n 41.0: array([800., 312.,  40.]),\n 42.0: array([15.,  9.,  2.]),\n 43.0: array([9., 4., 1.]),\n 44.0: array([166.,  95.,  10.]),\n 45.0: array([166.,  11.,   1.]),\n 46.0: array([252., 226.,  37.]),\n 47.0: array([226., 223.,  32.]),\n 48.0: array([297., 226.,  19.]),\n 49.0: array([297., 252.,  21.]),\n 50.0: array([583., 252.,  40.]),\n 51.0: array([15.,  4.,  1.]),\n 52.0: array([297., 223.,  36.]),\n 53.0: array([583., 297.,  43.]),\n 54.0: array([583.,  69.,  18.]),\n 55.0: array([583.,  86.,   2.]),\n 56.0: array([808., 217.,  22.]),\n 57.0: array([1165.,  292.,   54.]),\n 58.0: array([1165.,  784.,   83.]),\n 59.0: array([1.165e+03, 6.440e+02, 1.000e+00]),\n 60.0: array([800., 173.,  27.]),\n 61.0: array([32., 28.,  7.]),\n 62.0: array([131.,  32.,   9.]),\n 63.0: array([95.,  6.,  1.]),\n 64.0: array([86., 69.,  6.]),\n 65.0: array([784., 292.,   1.]),\n 66.0: array([292., 280.,   1.]),\n 67.0: array([217.,  47.,   8.]),\n 68.0: array([28., 11.,  2.]),\n 69.0: array([152., 131.,  26.]),\n 70.0: array([712., 152.,  21.]),\n 71.0: array([86., 84.,  9.]),\n 72.0: array([18.,  7.,  3.]),\n 73.0: array([433.,   7.,   4.]),\n 74.0: array([800., 488.,  99.]),\n 75.0: array([389., 385.,  52.]),\n 76.0: array([1587.,   19.,    7.]),\n 77.0: array([433.,  18.,   3.]),\n 78.0: array([697., 635.,  80.]),\n 79.0: array([2846.,   29.,    4.]),\n 80.0: array([2846.,   46.,    8.]),\n 81.0: array([488., 309.,  96.]),\n 82.0: array([912., 488.,   3.]),\n 83.0: array([84., 59., 14.]),\n 84.0: array([33., 10.,  4.]),\n 85.0: array([14., 10.,  4.]),\n 86.0: array([27., 10.,  1.]),\n 87.0: array([3., 2., 1.]),\n 88.0: array([912., 309.,  95.]),\n 89.0: array([389.,  55.,   9.]),\n 90.0: array([784., 644., 106.]),\n 91.0: array([784., 280.,  50.]),\n 92.0: array([1572.,  143.,   52.]),\n 93.0: array([132.,  64.,  19.]),\n 94.0: array([17.,  3.,  1.]),\n 95.0: array([644.,  15.,   2.]),\n 96.0: array([33., 14.,  3.]),\n 97.0: array([433.,  51.,  20.]),\n 98.0: array([433., 340.,  14.]),\n 99.0: array([82., 64., 18.]),\n 100.0: array([82., 70., 22.]),\n 101.0: array([152.,  70.,  23.]),\n 102.0: array([1417.,    6.,    2.]),\n 103.0: array([229., 227.,  29.]),\n 104.0: array([687., 509.,  58.]),\n 105.0: array([152., 122.,  23.]),\n 106.0: array([313., 175.,  27.]),\n 107.0: array([1587., 1036.,   90.]),\n 108.0: array([1587., 1009.,   56.]),\n 109.0: array([1036., 1009.,   59.]),\n 110.0: array([27., 14.,  4.]),\n 111.0: array([27.,  8.,  3.]),\n 112.0: array([127., 122.,  23.]),\n 113.0: array([297., 261.,  41.]),\n 114.0: array([73.,  8.,  1.]),\n 115.0: array([340.,  51.,  18.]),\n 116.0: array([616., 127.,  25.]),\n 117.0: array([227., 140.,  23.]),\n 118.0: array([687.,  35.,   6.]),\n 119.0: array([11.,  2.,  1.]),\n 120.0: array([380., 261.,  40.]),\n 121.0: array([15., 11.,  3.]),\n 122.0: array([112.,  15.,   3.]),\n 123.0: array([616., 596.,  55.]),\n 124.0: array([1016.,  928.,   66.]),\n 125.0: array([241., 140.,  12.]),\n 126.0: array([127.,  92.,  18.]),\n 127.0: array([130.,  73.,   6.]),\n 128.0: array([249.,  73.,  10.]),\n 129.0: array([1656.,  112.,   16.]),\n 130.0: array([249.,  37.,   9.]),\n 131.0: array([900.,  37.,   7.]),\n 132.0: array([1531.,   37.,    6.]),\n 133.0: array([928., 451.,  43.]),\n 134.0: array([96., 70.,  7.]),\n 135.0: array([92., 84., 18.]),\n 136.0: array([1324.,   15.,    4.]),\n 137.0: array([669., 584.,  57.]),\n 138.0: array([1531.,  249.,   10.]),\n 139.0: array([1531.,  900.,   32.]),\n 140.0: array([1656., 1009.,   99.]),\n 141.0: array([1679.,  512.,   54.]),\n 142.0: array([512.,  51.,  12.]),\n 143.0: array([462., 107.,  32.]),\n 144.0: array([89., 50., 11.]),\n 145.0: array([1679., 1476.,    2.]),\n 146.0: array([1679.,   19.,    5.]),\n 147.0: array([1679.,    7.,    3.]),\n 148.0: array([1476.,   76.,   22.]),\n 149.0: array([720.,  76.,  22.]),\n 150.0: array([5., 2., 1.]),\n 151.0: array([673.,  85.,   5.]),\n 152.0: array([732., 673.,  32.]),\n 153.0: array([673., 212.,  53.]),\n 154.0: array([673.,  63.,   2.]),\n 155.0: array([729., 673.,   1.]),\n 156.0: array([85., 63., 16.]),\n 157.0: array([729.,  85.,  22.]),\n 158.0: array([70.,  6.,  3.]),\n 159.0: array([107.,  73.,  23.]),\n 160.0: array([73., 65., 16.]),\n 161.0: array([107.,  65.,   3.]),\n 162.0: array([485., 131.,  27.]),\n 163.0: array([15.,  5.,  3.]),\n 164.0: array([1476.,   51.,   18.]),\n 165.0: array([1476.,   20.,    2.]),\n 166.0: array([1476.,  720.,   32.]),\n 167.0: array([29., 14.,  1.]),\n 168.0: array([732., 212.,  35.]),\n 169.0: array([1496.,  944.,  126.]),\n 170.0: array([143.,  65.,  17.]),\n 171.0: array([596., 462.,  42.]),\n 172.0: array([1324.,  385.,   22.]),\n 173.0: array([1324.,   87.,   11.]),\n 174.0: array([20.,  3.,  2.]),\n 175.0: array([20., 15.,  7.]),\n 176.0: array([16., 15.,  7.]),\n 177.0: array([540.,  16.,   3.]),\n 178.0: array([729., 298.,  45.]),\n 179.0: array([451., 374.,  30.]),\n 180.0: array([35., 32.,  6.]),\n 181.0: array([173., 143.,  15.]),\n 182.0: array([385., 299.,  58.]),\n 183.0: array([1528.,   33.,    6.]),\n 184.0: array([522., 102.,  22.]),\n 185.0: array([78., 50., 11.]),\n 186.0: array([194.,  50.,   3.]),\n 187.0: array([221., 203.,  25.]),\n 188.0: array([803.,   9.,   2.]),\n 189.0: array([32.,  5.,  2.]),\n 190.0: array([15., 14.,  5.]),\n 191.0: array([1318.,  161.,   42.]),\n 192.0: array([485.,  28.,  11.]),\n 193.0: array([298., 107.,  24.]),\n 194.0: array([237., 145.,  31.]),\n 195.0: array([7., 6., 3.]),\n 196.0: array([456.,   6.,   1.]),\n 197.0: array([249., 145.,  17.]),\n 198.0: array([249., 146.,  32.]),\n 199.0: array([403., 249.,  22.]),\n 200.0: array([1496., 1035.,  129.]),\n 201.0: array([939., 569.,  61.]),\n 202.0: array([173.,  97.,  17.]),\n 203.0: array([14.,  7.,  1.]),\n 204.0: array([503., 179.,  22.]),\n 205.0: array([179., 115.,  18.]),\n 206.0: array([796., 179.,  26.]),\n 207.0: array([194.,  78.,  15.]),\n 208.0: array([485., 206.,  28.]),\n 209.0: array([905., 540.,  59.]),\n 210.0: array([540., 304.,  43.]),\n 211.0: array([1393.,  540.,   24.]),\n 212.0: array([456.,   7.,   3.]),\n 213.0: array([221.,  90.,  17.]),\n 214.0: array([221., 189.,  12.]),\n 215.0: array([146., 145.,  12.]),\n 216.0: array([374.,   3.,   2.]),\n 217.0: array([569.,   7.,   2.]),\n 218.0: array([16.,  6.,  1.]),\n 219.0: array([7., 6., 1.]),\n 220.0: array([1393.,  905.,   84.]),\n 221.0: array([189.,  90.,  23.]),\n 222.0: array([332.,  13.,   6.]),\n 223.0: array([500., 332.,  31.]),\n 224.0: array([97., 79., 13.]),\n 225.0: array([522., 397.,  56.]),\n 226.0: array([206.,   5.,   3.]),\n 227.0: array([720., 426.,  41.]),\n 228.0: array([1393.,  842.,  109.]),\n 229.0: array([403., 146.,  14.]),\n 230.0: array([594., 364.,  72.]),\n 231.0: array([868., 336.,  67.]),\n 232.0: array([426.,  51.,  11.]),\n 233.0: array([426., 216.,  26.]),\n 234.0: array([113.,  47.,  13.]),\n 235.0: array([79., 33., 10.]),\n 236.0: array([278., 252.,  52.]),\n 237.0: array([347., 252.,  51.]),\n 238.0: array([278., 245.,  35.]),\n 239.0: array([7., 7., 1.]),\n 240.0: array([1936.,   92.,   25.]),\n 241.0: array([503., 115.,  33.]),\n 242.0: array([503., 114.,  15.]),\n 243.0: array([796., 115.,  14.]),\n 244.0: array([115., 114.,  23.]),\n 245.0: array([115.,  99.,  10.]),\n 246.0: array([16.,  7.,  3.]),\n 247.0: array([16., 10.,  4.]),\n 248.0: array([37., 16.,  1.]),\n 249.0: array([10.,  7.,  1.]),\n 250.0: array([620., 397.,  50.]),\n 251.0: array([216.,  51.,  20.]),\n 252.0: array([121.,  94.,  14.]),\n 253.0: array([1801.,   40.,    8.]),\n 254.0: array([352., 347.,  41.]),\n 255.0: array([495., 364.,  61.]),\n 256.0: array([721., 364.,  25.]),\n 257.0: array([721., 495.,  69.]),\n 258.0: array([194., 173.,  29.]),\n 259.0: array([793., 336.,  61.]),\n 260.0: array([500.,  40.,   7.]),\n 261.0: array([172., 113.,  17.]),\n 262.0: array([352.,   7.,   3.]),\n 263.0: array([796.,  99.,  34.]),\n 264.0: array([324., 238.,  50.]),\n 265.0: array([114.,  99.,  23.]),\n 266.0: array([37., 10.,  1.]),\n 267.0: array([804., 431.,  59.]),\n 268.0: array([820., 718.,  55.]),\n 269.0: array([706., 456.,  81.]),\n 270.0: array([172., 147.,   4.]),\n 271.0: array([620., 136.,  21.]),\n 272.0: array([2013.,   95.,   26.]),\n 273.0: array([607., 328.,  51.]),\n 274.0: array([328.,   6.,   2.]),\n 275.0: array([328.,   3.,   1.]),\n 276.0: array([348.,  94.,  10.]),\n 277.0: array([145.,  97.,  20.]),\n 278.0: array([145.,  14.,   3.]),\n 279.0: array([1957.,  760.,   61.]),\n 280.0: array([37., 29.,  7.]),\n 281.0: array([19.,  7.,  3.]),\n 282.0: array([19.,  8.,  3.]),\n 283.0: array([607.,   4.,   2.]),\n 284.0: array([706.,  33.,  12.]),\n 285.0: array([40.,  5.,  3.]),\n 286.0: array([40., 15.,  3.]),\n 287.0: array([40., 12.,  2.]),\n 288.0: array([673., 606.,  88.]),\n 289.0: array([40., 38.,  6.]),\n 290.0: array([607., 482.,  71.]),\n 291.0: array([805., 238.,  55.]),\n 292.0: array([87., 48.,  9.]),\n 293.0: array([715., 503.,  71.]),\n 294.0: array([108.,  97.,  22.]),\n 295.0: array([1496.,  108.,   28.]),\n 296.0: array([14.,  9.,  3.]),\n 297.0: array([9., 5., 2.]),\n 298.0: array([9., 5., 2.]),\n 299.0: array([12.,  5.,  2.]),\n 300.0: array([606., 198.,   1.]),\n 301.0: array([15., 12.,  6.]),\n 302.0: array([15., 15.,  3.]),\n 303.0: array([87., 38., 10.]),\n 304.0: array([317.,  29.,   8.]),\n 305.0: array([4., 3., 1.]),\n 306.0: array([950.,   3.,   2.]),\n 307.0: array([950.,   4.,   3.]),\n 308.0: array([849., 706.,  68.]),\n 309.0: array([15., 12.,  2.]),\n 310.0: array([147., 123.,  15.]),\n 311.0: array([617., 445.,  60.]),\n 312.0: array([617., 138.,   5.]),\n 313.0: array([617.,  19.,   6.]),\n 314.0: array([445., 245.,  73.]),\n 315.0: array([503., 445.,   1.]),\n 316.0: array([820., 498.,  52.]),\n 317.0: array([503., 245.,  76.]),\n 318.0: array([2.454e+03, 1.200e+01, 2.000e+00]),\n 319.0: array([5., 5., 1.]),\n 320.0: array([217.,  56.,  13.]),\n 321.0: array([357., 217.,  31.]),\n 322.0: array([56., 31.,  8.]),\n 323.0: array([87., 81., 12.]),\n 324.0: array([2.891e+03, 9.000e+00, 1.000e+00]),\n 325.0: array([2.891e+03, 1.200e+01, 2.000e+00]),\n 326.0: array([540., 482.,  77.]),\n 327.0: array([1148.,  503.,   71.]),\n 328.0: array([173., 116.,  23.]),\n 329.0: array([1536.,  357.,   49.]),\n 330.0: array([81., 24.,  3.]),\n 331.0: array([641., 409.,  42.]),\n 332.0: array([409., 118.,  22.]),\n 333.0: array([173., 106.,  24.]),\n 334.0: array([106.,  61.,  22.]),\n 335.0: array([146., 106.,   4.]),\n 336.0: array([146.,  61.,  20.]),\n 337.0: array([19., 14.,  4.]),\n 338.0: array([14.,  8.,  3.]),\n 339.0: array([198.,  19.,   5.]),\n 340.0: array([19.,  8.,  1.]),\n 341.0: array([19.,  8.,  3.]),\n 342.0: array([198.,  27.,   2.]),\n 343.0: array([1224., 1044.,  162.]),\n 344.0: array([374., 242.,  40.]),\n 345.0: array([805., 359.,  48.]),\n 346.0: array([201.,  48.,   8.]),\n 347.0: array([247., 129.,  17.]),\n 348.0: array([22.,  4.,  2.]),\n 349.0: array([14.,  4.,  1.]),\n 350.0: array([146.,  88.,  18.]),\n 351.0: array([16., 10.,  3.]),\n 352.0: array([27., 10.,  4.]),\n 353.0: array([24., 24.,  4.]),\n 354.0: array([118.,  24.,   5.]),\n 355.0: array([573., 242.,  44.]),\n 356.0: array([692., 154.,  12.]),\n 357.0: array([154.,  90.,  12.]),\n 358.0: array([154.,  35.,   9.]),\n 359.0: array([1675.,  692.,  104.]),\n 360.0: array([144., 114.,  17.]),\n 361.0: array([136.,  26.,   6.]),\n 362.0: array([2090., 2067.,  209.]),\n 363.0: array([798., 348.,  52.]),\n 364.0: array([498., 343.,  43.]),\n 365.0: array([1240.,  963.,   80.]),\n 366.0: array([596., 202.,  42.]),\n 367.0: array([1496.,  125.,   23.]),\n 368.0: array([125.,  27.,   9.]),\n 369.0: array([88., 73., 21.]),\n 370.0: array([10.,  5.,  2.]),\n 371.0: array([73., 53., 13.]),\n 372.0: array([1.536e+03, 8.000e+00, 1.000e+00]),\n 373.0: array([183.,  26.,   6.]),\n 374.0: array([31., 26.,  4.]),\n 375.0: array([90., 35.,  7.]),\n 376.0: array([90., 84., 20.]),\n 377.0: array([675.,   8.,   4.]),\n 378.0: array([760.,  65.,  23.]),\n 379.0: array([200.,  80.,  22.]),\n 380.0: array([937., 200.,  26.]),\n 381.0: array([216., 200.,  11.]),\n 382.0: array([675., 200.,  16.]),\n 383.0: array([346., 317.,  36.]),\n 384.0: array([540., 235.,  58.]),\n 385.0: array([1034.,  540.,   11.]),\n 386.0: array([873.,   7.,   4.]),\n 387.0: array([596., 247.,  41.]),\n 388.0: array([1177.,   10.,    3.]),\n 389.0: array([8., 8., 1.]),\n 390.0: array([183., 172.,  21.]),\n 391.0: array([243.,  31.,   9.]),\n 392.0: array([84., 35.,  6.]),\n 393.0: array([114.,  79.,  20.]),\n 394.0: array([202.,  84.,  23.]),\n 395.0: array([216.,  80.,  13.]),\n 396.0: array([675.,  80.,  25.]),\n 397.0: array([327., 293.,  50.]),\n 398.0: array([22.,  5.,  3.]),\n 399.0: array([22., 14.,  6.]),\n 400.0: array([14., 12.,  4.]),\n 401.0: array([663.,  12.,   4.]),\n 402.0: array([1240.,  283.,   54.]),\n 403.0: array([100.,   8.,   1.]),\n 404.0: array([100.,   7.,   3.]),\n 405.0: array([24., 20.,  5.]),\n 406.0: array([937., 216.,  31.]),\n 407.0: array([416., 247.,  22.]),\n 408.0: array([327., 269.,  50.]),\n 409.0: array([283., 269.,  51.]),\n 410.0: array([343., 145.,  37.]),\n 411.0: array([84., 43.,  4.]),\n 412.0: array([43.,  6.,  2.]),\n 413.0: array([908.,  43.,   5.]),\n 414.0: array([444., 157.,  26.]),\n 415.0: array([250.,  27.,   9.]),\n 416.0: array([35., 20.,  3.]),\n 417.0: array([2491.,   22.,    9.]),\n 418.0: array([191.,  79.,  20.]),\n 419.0: array([733., 478., 106.]),\n 420.0: array([1034.,  235.,   67.]),\n 421.0: array([675., 216.,  24.]),\n 422.0: array([359., 256.,  36.]),\n 423.0: array([166.,  95.,  24.]),\n 424.0: array([138.,  19.,   5.]),\n 425.0: array([272., 247.,  35.]),\n 426.0: array([240.,  84.,  14.]),\n 427.0: array([8., 7., 3.]),\n 428.0: array([12.,  8.,  2.]),\n 429.0: array([330., 157.,  31.]),\n 430.0: array([328., 270.,  46.]),\n 431.0: array([328., 243.,  55.]),\n 432.0: array([542., 270.,  43.]),\n 433.0: array([330., 250.,  31.]),\n 434.0: array([542.,   7.,   3.]),\n 435.0: array([264., 243.,  30.]),\n 436.0: array([95.,  6.,  3.]),\n 437.0: array([437., 346.,  43.]),\n 438.0: array([235., 145.,  14.]),\n 439.0: array([145.,  97.,  22.]),\n 440.0: array([272., 166.,  30.]),\n 441.0: array([585., 243.,  58.]),\n 442.0: array([191.,  80.,  19.]),\n 443.0: array([78., 65., 21.]),\n 444.0: array([416., 103.,  24.]),\n 445.0: array([197., 166.,  24.]),\n 446.0: array([166., 139.,  14.]),\n 447.0: array([950., 663.,  74.]),\n 448.0: array([734., 607.,  71.]),\n 449.0: array([646., 630.,  62.]),\n 450.0: array([1318.,  478.,   97.]),\n 451.0: array([1034.,   11.,    7.]),\n 452.0: array([235.,  97.,  23.]),\n 453.0: array([235., 147.,  24.]),\n 454.0: array([617.,  83.,  14.]),\n 455.0: array([71.,  4.,  2.]),\n 456.0: array([35., 24.,  5.]),\n 457.0: array([95., 35.,  8.]),\n 458.0: array([24.,  6.,  3.]),\n 459.0: array([129.,  70.,  16.]),\n 460.0: array([341., 129.,  24.]),\n 461.0: array([74., 70., 10.]),\n 462.0: array([1274.,  674.,   42.]),\n 463.0: array([734., 310.,  48.]),\n 464.0: array([96., 80., 21.]),\n 465.0: array([646.,  44.,   8.]),\n 466.0: array([125.,  78.,  19.]),\n 467.0: array([364.,  95.,  23.]),\n 468.0: array([364.,  87.,  11.]),\n 469.0: array([364., 127.,  14.]),\n 470.0: array([256., 140.,  23.]),\n 471.0: array([197.,   8.,   5.]),\n 472.0: array([619., 130.,  21.]),\n 473.0: array([239., 182.,  35.]),\n 474.0: array([239.,  91.,  45.]),\n 475.0: array([509., 239.,   3.]),\n 476.0: array([509.,  91.,  45.]),\n 477.0: array([166., 163.,  39.]),\n 478.0: array([174., 163.,  29.]),\n 479.0: array([166., 135.,  29.]),\n 480.0: array([135.,  88.,  21.]),\n 481.0: array([88., 70., 20.]),\n 482.0: array([95., 70., 18.]),\n 483.0: array([307., 155.,  25.]),\n 484.0: array([341., 219.,  44.]),\n 485.0: array([504., 219.,  43.]),\n 486.0: array([96., 43.,  7.]),\n 487.0: array([96., 68., 10.]),\n 488.0: array([12.,  9.,  3.]),\n 489.0: array([32.,  9.,  2.]),\n 490.0: array([125.,   4.,   2.]),\n 491.0: array([127.,  87.,  17.]),\n 492.0: array([127.,   9.,   3.]),\n 493.0: array([14.,  9.,  2.]),\n 494.0: array([103.,   9.,   2.]),\n 495.0: array([1095.,  668.,   85.]),\n 496.0: array([83., 47.,  8.]),\n 497.0: array([908.,   5.,   2.]),\n 498.0: array([509.,  26.,   6.]),\n 499.0: array([3.156e+03, 2.800e+01, 1.000e+00]),\n 500.0: array([52., 32.,  3.]),\n 501.0: array([64., 52.,  8.]),\n 502.0: array([219.,  52.,  16.]),\n 503.0: array([229.,  52.,   4.]),\n 504.0: array([504.,  20.,   6.]),\n 505.0: array([68., 43., 16.]),\n 506.0: array([32., 12.,  1.]),\n 507.0: array([68., 50., 15.]),\n 508.0: array([139.,  30.,   8.]),\n 509.0: array([139.,  12.,   1.]),\n 510.0: array([130.,   8.,   2.]),\n 511.0: array([908., 462.,  47.]),\n 512.0: array([504., 240.,  37.]),\n 513.0: array([268., 240.,  21.]),\n 514.0: array([529.,  32.,  10.]),\n 515.0: array([219.,  32.,  12.]),\n 516.0: array([307., 287.,  37.]),\n 517.0: array([64., 49.,  5.]),\n 518.0: array([229.,  64.,  20.]),\n 519.0: array([229.,  49.,   7.]),\n 520.0: array([165.,  49.,  12.]),\n 521.0: array([164.,  20.,   4.]),\n 522.0: array([310.,  35.,  11.]),\n 523.0: array([78., 35., 11.]),\n 524.0: array([362., 194.,   7.]),\n 525.0: array([194., 179.,  36.]),\n 526.0: array([491., 362.,  52.]),\n 527.0: array([362., 179.,  36.]),\n 528.0: array([491.,  11.,   5.]),\n 529.0: array([140.,  95.,  19.]),\n 530.0: array([240., 103.,  31.]),\n 531.0: array([708.,  68.,  15.]),\n 532.0: array([79.,  9.,  2.]),\n 533.0: array([10.,  9.,  1.]),\n 534.0: array([180.,   9.,   4.]),\n 535.0: array([174.,   3.,   2.]),\n 536.0: array([691., 593.,  72.]),\n 537.0: array([294., 287.,  37.]),\n 538.0: array([327., 158.,  45.]),\n 539.0: array([1321.,  327.,   57.]),\n 540.0: array([327., 191.,   4.]),\n 541.0: array([78., 14.,  6.]),\n 542.0: array([55., 47.,  8.]),\n 543.0: array([820., 805.,  62.]),\n 544.0: array([45., 19.,  7.]),\n 545.0: array([45., 37.,  9.]),\n 546.0: array([191., 158.,  36.]),\n 547.0: array([3., 2., 1.]),\n 548.0: array([14.,  3.,  1.]),\n 549.0: array([32.,  4.,  3.]),\n 550.0: array([127., 103.,  18.]),\n 551.0: array([240., 175.,  33.]),\n 552.0: array([12.,  8.,  3.]),\n 553.0: array([943., 425.,  44.]),\n 554.0: array([180.,  79.,  21.]),\n 555.0: array([164.,   6.,   4.]),\n 556.0: array([854.,  25.,   8.]),\n 557.0: array([165.,  15.,   2.]),\n 558.0: array([130.,   7.,   2.]),\n 559.0: array([44., 34.,  9.]),\n 560.0: array([11.,  3.,  1.]),\n 561.0: array([14.,  2.,  1.]),\n 562.0: array([103.,  14.,   5.]),\n 563.0: array([14.,  6.,  2.]),\n 564.0: array([14., 10.,  5.]),\n 565.0: array([14.,  4.,  1.]),\n 566.0: array([10.,  4.,  2.]),\n 567.0: array([96., 12.,  5.]),\n 568.0: array([12.,  6.,  2.]),\n 569.0: array([154.,  65.,   9.]),\n 570.0: array([154.,  59.,   4.]),\n 571.0: array([791., 100.,  17.]),\n 572.0: array([100.,  96.,  10.]),\n 573.0: array([65., 47., 14.]),\n 574.0: array([65., 59., 12.]),\n 575.0: array([223.,  47.,  12.]),\n 576.0: array([60., 47.,  9.]),\n 577.0: array([68., 55., 11.]),\n 578.0: array([55.,  5.,  2.]),\n 579.0: array([223.,  60.,   8.]),\n 580.0: array([235., 223.,  29.]),\n 581.0: array([223.,  79.,  20.]),\n 582.0: array([180.,  10.,   5.]),\n 583.0: array([32., 10.,  1.]),\n 584.0: array([529., 219.,   5.]),\n 585.0: array([529., 205.,  41.]),\n 586.0: array([529., 125.,  25.]),\n 587.0: array([1321.,   99.,    5.]),\n 588.0: array([191., 135.,  24.]),\n 589.0: array([50., 34., 11.]),\n 590.0: array([71., 50., 14.]),\n 591.0: array([71., 36.,  8.]),\n 592.0: array([103.,   6.,   3.]),\n 593.0: array([314., 231.,  49.]),\n 594.0: array([1821.,  231.,   13.]),\n 595.0: array([216., 143.,  34.]),\n 596.0: array([314., 143.,  35.]),\n 597.0: array([227., 216.,  40.]),\n 598.0: array([504., 227.,  38.]),\n 599.0: array([504., 268.,  29.]),\n 600.0: array([439., 371.,  40.]),\n 601.0: array([229., 219.,  30.]),\n 602.0: array([219., 205.,  33.]),\n 603.0: array([229., 165.,  21.]),\n 604.0: array([207., 130.,   1.]),\n 605.0: array([130.,  29.,   3.]),\n 606.0: array([45., 38.,  6.]),\n 607.0: array([455., 207.,  27.]),\n 608.0: array([787., 478.,  66.]),\n 609.0: array([55., 29.,  6.]),\n 610.0: array([686., 137.,  25.]),\n 611.0: array([134.,  98.,  32.]),\n 612.0: array([356.,  98.,  28.]),\n 613.0: array([221., 134.,  30.]),\n 614.0: array([356., 134.,   5.]),\n 615.0: array([221.,  49.,  17.]),\n 616.0: array([60., 59., 10.]),\n 617.0: array([79., 60.,  7.]),\n 618.0: array([97., 25.,  4.]),\n 619.0: array([1821.,   25.,    5.]),\n 620.0: array([25., 20.,  7.]),\n 621.0: array([425., 280.,  51.]),\n 622.0: array([549., 280.,  43.]),\n 623.0: array([317., 180.,  33.]),\n 624.0: array([234., 174.,  31.]),\n 625.0: array([976., 854.,  88.]),\n 626.0: array([65., 55.,  7.]),\n 627.0: array([482., 251.,  39.]),\n 628.0: array([56., 49., 14.]),\n 629.0: array([56., 18.,  5.]),\n 630.0: array([118.,  38.,   6.]),\n 631.0: array([235.,  79.,  12.]),\n 632.0: array([1198.,  235.,   40.]),\n 633.0: array([235., 221.,  32.]),\n 634.0: array([1821.,  277.,   57.]),\n 635.0: array([15.,  6.,  3.]),\n 636.0: array([943.,   6.,   1.]),\n 637.0: array([943.,  15.,   4.]),\n 638.0: array([70., 45.,  8.]),\n 639.0: array([455., 325.,  51.]),\n 640.0: array([94., 65., 12.]),\n 641.0: array([2491.,    5.,    4.]),\n 642.0: array([97., 20.,  5.]),\n 643.0: array([125.,  79.,  24.]),\n 644.0: array([1821.,   20.,    4.]),\n 645.0: array([1198.,  221.,   38.]),\n 646.0: array([1198.,  233.,   23.]),\n 647.0: array([32.,  7.,  1.]),\n 648.0: array([7., 7., 1.]),\n 649.0: array([38.,  7.,  4.]),\n 650.0: array([38., 32.,  8.]),\n 651.0: array([174.,  97.,  19.]),\n 652.0: array([70., 56., 12.]),\n 653.0: array([1116.,  325.,   57.]),\n 654.0: array([161.,  94.,  18.]),\n 655.0: array([686., 482.,  61.]),\n 656.0: array([2044.,  269.,   32.]),\n 657.0: array([2044., 1298.,   44.]),\n 658.0: array([3997.,  941.,  109.]),\n 659.0: array([190.,  70.,  31.]),\n 660.0: array([190.,  93.,   2.]),\n 661.0: array([258., 190.,  29.]),\n 662.0: array([2079.,  190.,    3.]),\n 663.0: array([93., 70., 30.]),\n 664.0: array([2079.,   93.,   37.]),\n 665.0: array([258.,  10.,   4.]),\n 666.0: array([364.,  97.,  10.]),\n 667.0: array([176.,  56.,  10.]),\n 668.0: array([905., 161.,  24.]),\n 669.0: array([248.,  50.,   6.]),\n 670.0: array([248.,  34.,  12.]),\n 671.0: array([118.,  92.,  17.]),\n 672.0: array([92., 46., 13.]),\n 673.0: array([116., 109.,  13.]),\n 674.0: array([175., 116.,  22.]),\n 675.0: array([175., 162.,  27.]),\n 676.0: array([773., 162.,  30.]),\n 677.0: array([221., 125.,  24.]),\n 678.0: array([1.005e+03, 4.600e+01, 1.000e+00]),\n 679.0: array([1005.,   47.,   13.]),\n 680.0: array([773., 675.,  61.]),\n 681.0: array([1116.,  121.,   27.]),\n 682.0: array([1298.,  269.,    6.]),\n 683.0: array([2491.,    7.,    3.]),\n 684.0: array([7., 4., 1.]),\n 685.0: array([941., 821., 107.]),\n 686.0: array([150.,  75.,  22.]),\n 687.0: array([150., 111.,   1.]),\n 688.0: array([150.,  17.,   3.]),\n 689.0: array([111.,  75.,  27.]),\n 690.0: array([111.,  97.,  23.]),\n 691.0: array([754., 564.,  49.]),\n 692.0: array([564., 111.,  19.]),\n 693.0: array([111.,  15.,   5.]),\n 694.0: array([15.,  6.,  2.]),\n 695.0: array([103.,  77.,  14.]),\n 696.0: array([308.,  45.,  10.]),\n 697.0: array([47., 46., 11.]),\n 698.0: array([38.,  7.,  3.]),\n 699.0: array([19.,  7.,  1.]),\n 700.0: array([38., 19.,  4.]),\n 701.0: array([38., 16.,  3.]),\n 702.0: array([102.,  60.,   8.]),\n 703.0: array([232.,   5.,   4.]),\n 704.0: array([279.,  54.,   6.]),\n 705.0: array([148.,  80.,  21.]),\n 706.0: array([277., 148.,  22.]),\n 707.0: array([85., 80., 17.]),\n 708.0: array([85., 64., 16.]),\n 709.0: array([97., 64., 18.]),\n 710.0: array([2.491e+03, 4.000e+00, 2.000e+00]),\n 711.0: array([172.,  28.,  10.]),\n 712.0: array([243.,   4.,   3.]),\n 713.0: array([77., 62., 15.]),\n 714.0: array([15., 14.,  1.]),\n 715.0: array([56., 14.,  6.]),\n 716.0: array([1264.,  409.,   58.]),\n 717.0: array([270.,  24.,  10.]),\n 718.0: array([270., 176.,  27.]),\n 719.0: array([163.,   3.,   2.]),\n 720.0: array([12.,  8.,  2.]),\n 721.0: array([8., 6., 2.]),\n 722.0: array([277.,  54.,  17.]),\n 723.0: array([8., 5., 2.]),\n 724.0: array([10.,  8.,  3.]),\n 725.0: array([12., 10.,  3.]),\n 726.0: array([10., 10.,  3.]),\n 727.0: array([30., 10.,  1.]),\n 728.0: array([28., 14.,  5.]),\n 729.0: array([14.,  5.,  3.]),\n 730.0: array([35., 12.,  6.]),\n 731.0: array([96.,  4.,  1.]),\n 732.0: array([306.,  62.,  17.]),\n 733.0: array([110.,  49.,  13.]),\n 734.0: array([60., 54., 10.]),\n 735.0: array([12., 10.,  2.]),\n 736.0: array([30., 12.,  4.]),\n 737.0: array([3., 2., 1.]),\n 738.0: array([8., 4., 1.]),\n 739.0: array([8., 4., 1.]),\n 740.0: array([207., 110.,  23.]),\n 741.0: array([524., 345.,  57.]),\n 742.0: array([1219.,  937.,  119.]),\n 743.0: array([1080.,  308.,   25.]),\n 744.0: array([568., 563.,  49.]),\n 745.0: array([1080.,  911.,    8.]),\n 746.0: array([15.,  7.,  3.]),\n 747.0: array([56., 15.,  3.]),\n 748.0: array([82., 56., 15.]),\n 749.0: array([443.,  82.,   9.]),\n 750.0: array([19., 16.,  5.]),\n 751.0: array([39., 19.,  3.]),\n 752.0: array([270., 242.,  28.]),\n 753.0: array([201., 163.,  19.]),\n 754.0: array([1568.,    3.,    2.]),\n 755.0: array([741.,  54.,  13.]),\n 756.0: array([50., 34.,  8.]),\n 757.0: array([50., 21.,  5.]),\n 758.0: array([50., 44.,  7.]),\n 759.0: array([158.,   5.,   2.]),\n 760.0: array([6., 4., 1.]),\n 761.0: array([69.,  6.,  3.]),\n 762.0: array([154.,  54.,   3.]),\n 763.0: array([121.,  65.,   9.]),\n 764.0: array([72., 30.,  9.]),\n 765.0: array([6., 3., 1.]),\n 766.0: array([322.,   6.,   4.]),\n 767.0: array([243., 119.,  29.]),\n 768.0: array([625., 306.,  41.]),\n 769.0: array([1785.,  345.,   62.]),\n 770.0: array([1215.,  277.,   79.]),\n 771.0: array([727., 277.,  75.]),\n 772.0: array([39., 16.,  5.]),\n 773.0: array([325., 164.,  28.]),\n 774.0: array([1959.,   72.,   17.]),\n 775.0: array([1179., 1016.,   62.]),\n 776.0: array([1179.,  587.,   79.]),\n 777.0: array([1016.,  587.,   64.]),\n 778.0: array([70., 33., 13.]),\n 779.0: array([739., 119.,  32.]),\n 780.0: array([380., 207.,  16.]),\n 781.0: array([937., 578.,  90.]),\n 782.0: array([56., 36.,  9.]),\n 783.0: array([1156.,  366.,   37.]),\n 784.0: array([366., 236.,   4.]),\n 785.0: array([366., 225.,   3.]),\n 786.0: array([407., 366.,  20.]),\n 787.0: array([1568.,  136.,   41.]),\n 788.0: array([1568.,  830.,   41.]),\n 789.0: array([228., 201.,  23.]),\n 790.0: array([353., 232.,  16.]),\n 791.0: array([34., 21.,  4.]),\n 792.0: array([6., 4., 1.]),\n 793.0: array([36., 14.,  3.]),\n 794.0: array([51., 14.,  3.]),\n 795.0: array([44., 27.,  4.]),\n 796.0: array([263.,  70.,  17.]),\n 797.0: array([11.,  6.,  3.]),\n 798.0: array([122.,  35.,  11.]),\n 799.0: array([122.,   9.,   2.]),\n 800.0: array([69.,  9.,  2.]),\n 801.0: array([8., 8., 5.]),\n 802.0: array([568., 461.,  71.]),\n 803.0: array([461., 380.,  30.]),\n 804.0: array([220., 155.,  25.]),\n 805.0: array([60., 56., 10.]),\n 806.0: array([86., 60., 11.]),\n 807.0: array([532.,  86.,  12.]),\n 808.0: array([1156.,  407.,   28.]),\n 809.0: array([1156.,   82.,   15.]),\n 810.0: array([44., 21.,  6.]),\n 811.0: array([268., 199.,  14.]),\n 812.0: array([40.,  4.,  2.]),\n 813.0: array([1959.,  154.,   35.]),\n 814.0: array([578., 316.,  54.]),\n 815.0: array([12.,  5.,  1.]),\n 816.0: array([808., 532.,  40.]),\n 817.0: array([236., 183.,  17.]),\n 818.0: array([236., 225.,  44.]),\n 819.0: array([2.335e+03, 8.000e+00, 2.000e+00]),\n 820.0: array([228., 191.,  32.]),\n 821.0: array([325., 260.,  45.]),\n 822.0: array([1201.,  260.,   54.]),\n 823.0: array([876.,  44.,  14.]),\n 824.0: array([416., 158.,  17.]),\n 825.0: array([315.,  59.,  11.]),\n 826.0: array([360., 248.,  32.]),\n 827.0: array([248., 113.,  36.]),\n 828.0: array([211.,  98.,  39.]),\n 829.0: array([1453.,  211.,   53.]),\n 830.0: array([175., 113.,  29.]),\n 831.0: array([175., 163.,  22.]),\n 832.0: array([1453.,   98.,    2.]),\n 833.0: array([17.,  8.,  4.]),\n 834.0: array([892.,  14.,   2.]),\n 835.0: array([52., 51., 10.]),\n 836.0: array([223., 158.,  19.]),\n 837.0: array([533.,  32.,   4.]),\n 838.0: array([557., 322.,  30.]),\n 839.0: array([56.,  7.,  2.]),\n 840.0: array([315., 263.,  38.]),\n 841.0: array([347., 143.,  30.]),\n 842.0: array([72., 51.,  9.]),\n 843.0: array([13.,  6.,  2.]),\n 844.0: array([70., 69., 11.]),\n 845.0: array([165.,  45.,  12.]),\n 846.0: array([361., 136.,  27.]),\n 847.0: array([225., 183.,   2.]),\n 848.0: array([361., 160.,  30.]),\n 849.0: array([361., 228.,  24.]),\n 850.0: array([741., 719.,  70.]),\n 851.0: array([999., 353.,  30.]),\n 852.0: array([40., 37.,  4.]),\n 853.0: array([87., 65., 14.]),\n 854.0: array([80., 52., 15.]),\n 855.0: array([62., 44.,  6.]),\n 856.0: array([55., 43., 11.]),\n 857.0: array([236.,  61.,   8.]),\n 858.0: array([184.,  61.,   5.]),\n 859.0: array([739.,  40.,   5.]),\n 860.0: array([13.,  6.,  2.]),\n 861.0: array([678.,  70.,  15.]),\n 862.0: array([292., 155.,  22.]),\n 863.0: array([580.,   5.,   2.]),\n 864.0: array([172.,  64.,  14.]),\n 865.0: array([288., 172.,   2.]),\n 866.0: array([566., 160.,  27.]),\n 867.0: array([521., 160.,   9.]),\n 868.0: array([228., 160.,  22.]),\n 869.0: array([288.,  64.,   1.]),\n 870.0: array([566., 521.,  61.]),\n 871.0: array([234.,  47.,   7.]),\n 872.0: array([830.,   2.,   1.]),\n 873.0: array([373., 191.,  36.]),\n 874.0: array([830., 136.,  48.]),\n 875.0: array([8., 6., 2.]),\n 876.0: array([999.,   8.,   3.]),\n 877.0: array([999.,   6.,   4.]),\n 878.0: array([719., 588.,  72.]),\n 879.0: array([1374.,   10.,    3.]),\n 880.0: array([369.,  61.,   7.]),\n 881.0: array([242.,  26.,   6.]),\n 882.0: array([62., 47.,  2.]),\n 883.0: array([42., 17.,  3.]),\n 884.0: array([230., 223.,  22.]),\n 885.0: array([55.,  7.,  2.]),\n 886.0: array([55., 14.,  1.]),\n 887.0: array([371., 315.,  37.]),\n 888.0: array([360., 347.,  52.]),\n 889.0: array([539., 292.,  32.]),\n 890.0: array([5., 2., 1.]),\n 891.0: array([119.,   5.,   2.]),\n 892.0: array([407., 225.,   1.]),\n 893.0: array([521., 228.,  35.]),\n 894.0: array([262., 223.,  23.]),\n 895.0: array([223., 174.,  23.]),\n 896.0: array([223., 188.,   1.]),\n 897.0: array([847., 416.,  43.]),\n 898.0: array([216.,  37.,   8.]),\n 899.0: array([89., 87., 14.]),\n 900.0: array([80., 49., 15.]),\n 901.0: array([557., 362.,  26.]),\n 902.0: array([557., 402.,   3.]),\n 903.0: array([479.,  56.,  11.]),\n 904.0: array([183.,  51.,   7.]),\n 905.0: array([13.,  8.,  1.]),\n 906.0: array([580., 525.,  46.]),\n 907.0: array([525., 264.,  31.]),\n 908.0: array([163., 122.,  20.]),\n 909.0: array([248., 216.,  16.]),\n 910.0: array([892., 133.,  12.]),\n 911.0: array([97., 49., 18.]),\n 912.0: array([29.,  8.,  3.]),\n 913.0: array([165., 117.,  22.]),\n 914.0: array([161., 117.,  20.]),\n 915.0: array([117.,  96.,   1.]),\n 916.0: array([264., 138.,  35.]),\n 917.0: array([262., 174.,   4.]),\n 918.0: array([262., 188.,  41.]),\n 919.0: array([275.,  42.,   7.]),\n 920.0: array([97., 38.,  7.]),\n 921.0: array([81., 62., 11.]),\n 922.0: array([112.,  84.,   6.]),\n 923.0: array([112.,  69.,  16.]),\n 924.0: array([112.,  49.,   9.]),\n 925.0: array([937., 371.,  32.]),\n 926.0: array([111.,   8.,   3.]),\n 927.0: array([25.,  6.,  2.]),\n 928.0: array([539., 238.,  39.]),\n 929.0: array([14.,  7.,  2.]),\n 930.0: array([6., 4., 1.]),\n 931.0: array([9., 4., 2.]),\n 932.0: array([37.,  9.,  3.]),\n 933.0: array([122.,  88.,   8.]),\n 934.0: array([122.,  34.,  11.]),\n 935.0: array([262., 122.,   6.]),\n 936.0: array([64., 31.,  5.]),\n 937.0: array([56., 12.,  5.]),\n 938.0: array([78., 13.,  4.]),\n 939.0: array([882., 360.,  67.]),\n 940.0: array([35., 29.,  8.]),\n 941.0: array([678., 329.,  50.]),\n 942.0: array([1990.,    4.,    2.]),\n 943.0: array([25., 19.,  5.]),\n 944.0: array([137., 126.,  21.]),\n 945.0: array([165., 161.,   1.]),\n 946.0: array([165.,  96.,   9.]),\n 947.0: array([119., 102.,  18.]),\n 948.0: array([40., 29.,  9.]),\n 949.0: array([369.,  40.,   2.]),\n 950.0: array([40., 26.,  1.]),\n 951.0: array([40., 24.,  6.]),\n 952.0: array([694., 242.,  27.]),\n 953.0: array([369.,  29.,   7.]),\n 954.0: array([315., 193.,  28.]),\n 955.0: array([248., 166.,  22.]),\n 956.0: array([212., 199.,  21.]),\n 957.0: array([978.,  31.,   8.]),\n 958.0: array([91., 81., 15.]),\n 959.0: array([754., 230.,  21.]),\n 960.0: array([213., 177.,  34.]),\n 961.0: array([281., 213.,   1.]),\n 962.0: array([84., 69., 16.]),\n 963.0: array([529.,  84.,  23.]),\n 964.0: array([196.,  77.,   3.]),\n 965.0: array([32., 19.,  7.]),\n 966.0: array([325.,  32.,   5.]),\n 967.0: array([158.,  46.,   8.]),\n 968.0: array([137.,  92.,   7.]),\n 969.0: array([161.,  96.,  21.]),\n 970.0: array([2815.,  161.,   26.]),\n 971.0: array([12.,  8.,  2.]),\n 972.0: array([419.,   8.,   3.]),\n 973.0: array([185.,  14.,   6.]),\n 974.0: array([102.,  88.,  20.]),\n 975.0: array([88., 77., 20.]),\n 976.0: array([188., 174.,  25.]),\n 977.0: array([513., 174.,   7.]),\n 978.0: array([245., 166.,  30.]),\n 979.0: array([47., 38.,  4.]),\n 980.0: array([330., 133.,   4.]),\n 981.0: array([252.,  38.,   6.]),\n 982.0: array([1354.,   91.,   13.]),\n 983.0: array([14.,  7.,  5.]),\n 984.0: array([51.,  7.,  1.]),\n 985.0: array([402., 362.,  58.]),\n 986.0: array([51., 14.,  1.]),\n 987.0: array([236., 184.,  16.]),\n 988.0: array([236.,  66.,  13.]),\n 989.0: array([766.,   8.,   4.]),\n 990.0: array([35., 29., 10.]),\n 991.0: array([176.,  35.,   8.]),\n 992.0: array([176.,  29.,   8.]),\n 993.0: array([329., 167.,  25.]),\n 994.0: array([15.,  8.,  3.]),\n 995.0: array([13.,  8.,  2.]),\n 996.0: array([419.,  12.,   2.]),\n 997.0: array([288., 234.,  41.]),\n 998.0: array([513., 188.,  59.]),\n 999.0: array([245., 143.,  23.]),\n ...}"
     },
     "execution_count": 5,
     "metadata": {},
     "output_type": "execute_result"
    }
   ],
   "source": [
    "import networkx as nx\n",
    "graphs_list[0]\n",
    "nx.get_node_attributes(graphs_list[0], \"feat\")"
   ],
   "metadata": {
    "collapsed": false,
    "pycharm": {
     "name": "#%%\n"
    }
   }
  },
  {
   "cell_type": "code",
   "execution_count": 7,
   "outputs": [],
   "source": [
    "with open('graphs_dataset_train.pkl', 'wb') as f:\n",
    "    pickle.dump(graphs_list, f, protocol=pickle.HIGHEST_PROTOCOL)\n",
    "#save_obj(graphs_list, \"graphs_dataset_train\")"
   ],
   "metadata": {
    "collapsed": false,
    "pycharm": {
     "name": "#%%\n"
    }
   }
  },
  {
   "cell_type": "code",
   "execution_count": null,
   "outputs": [],
   "source": [],
   "metadata": {
    "collapsed": false,
    "pycharm": {
     "name": "#%%\n"
    }
   }
  }
 ],
 "metadata": {
  "kernelspec": {
   "display_name": "Python 3",
   "language": "python",
   "name": "python3"
  },
  "language_info": {
   "codemirror_mode": {
    "name": "ipython",
    "version": 2
   },
   "file_extension": ".py",
   "mimetype": "text/x-python",
   "name": "python",
   "nbconvert_exporter": "python",
   "pygments_lexer": "ipython2",
   "version": "2.7.6"
  }
 },
 "nbformat": 4,
 "nbformat_minor": 0
}