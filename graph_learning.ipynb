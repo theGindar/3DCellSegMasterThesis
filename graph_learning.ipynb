{
 "cells": [
  {
   "cell_type": "code",
   "execution_count": null,
   "metadata": {
    "collapsed": true
   },
   "outputs": [],
   "source": []
  },
  {
   "cell_type": "markdown",
   "source": [
    "## pipeline"
   ],
   "metadata": {
    "collapsed": false
   }
  },
  {
   "cell_type": "code",
   "execution_count": 1,
   "outputs": [
    {
     "name": "stderr",
     "output_type": "stream",
     "text": [
      "Using backend: pytorch\n"
     ]
    }
   ],
   "source": [
    "import networkx as nx\n",
    "import numpy as np\n",
    "import torch\n",
    "\n",
    "from func.run_pipeline_super_vox import get_outlayer_of_a_3d_shape, get_crop_by_pixel_val\n",
    "from func.ultis import load_obj\n",
    "\n",
    "from func.graph_learning import SuperVoxToNxGraph, VoxelGraphDataset"
   ],
   "metadata": {
    "collapsed": false,
    "pycharm": {
     "name": "#%%\n"
    }
   }
  },
  {
   "cell_type": "code",
   "execution_count": 10,
   "outputs": [
    {
     "name": "stdout",
     "output_type": "stream",
     "text": [
      "Test cases: dict_keys(['135', '120', '65', '90'])\n",
      "for test case 135 : {'raw': 'data/CellSeg_dataset/HMS_processed/raw/135.npy', 'background': 'data/CellSeg_dataset/HMS_processed/segmentation/135/135_background_3d_mask.npy', 'edge': 'data/CellSeg_dataset/HMS_processed/segmentation/135/135_edge_3d_mask.npy', 'edge_foreground': 'data/CellSeg_dataset/HMS_processed/segmentation/135/135_edge_foreground_3d_mask.npy', 'edge_background': 'data/CellSeg_dataset/HMS_processed/segmentation/135/135_edge_background_3d_mask.npy', 'boundary': 'data/CellSeg_dataset/HMS_processed/segmentation/135/135_boundary_3d_mask.npy', 'foreground': 'data/CellSeg_dataset/HMS_processed/segmentation/135/135_foreground_3d_mask.npy', 'ins': 'data/CellSeg_dataset/HMS_processed/segmentation/135/135_ins.npy'}\n"
     ]
    }
   ],
   "source": [
    "HMS_data_dict = load_obj(\"dataset_info/HMS_dataset_info\")\n",
    "HMS_data_dict_test = HMS_data_dict[\"test\"]\n",
    "print(\"Test cases: \"+str(HMS_data_dict_test.keys()))\n",
    "case = \"135\"\n",
    "print(\"for test case \"+str(case)+\" : \"+str(HMS_data_dict_test[case]))\n",
    "\n",
    "# you may load the image using another path\n",
    "raw_img=np.load(HMS_data_dict_test[case][\"raw\"]).astype(float)\n",
    "hand_seg=np.load(HMS_data_dict_test[case][\"ins\"]).astype(float)\n",
    "\n",
    "# np.save('seg_foreground_super_voxel_by_ws_graph.npy', seg_foreground_super_voxel_by_ws)"
   ],
   "metadata": {
    "collapsed": false,
    "pycharm": {
     "name": "#%%\n"
    }
   }
  },
  {
   "cell_type": "code",
   "execution_count": 11,
   "outputs": [],
   "source": [
    "seg_foreground_super_voxel_by_ws = np.load('seg_foreground_super_voxel_by_ws_graph.npy')\n"
   ],
   "metadata": {
    "collapsed": false,
    "pycharm": {
     "name": "#%%\n"
    }
   }
  },
  {
   "cell_type": "code",
   "execution_count": 12,
   "outputs": [],
   "source": [
    "super_vox_to_graph = SuperVoxToNxGraph()"
   ],
   "metadata": {
    "collapsed": false,
    "pycharm": {
     "name": "#%%\n"
    }
   }
  },
  {
   "cell_type": "code",
   "execution_count": 13,
   "outputs": [
    {
     "name": "stdout",
     "output_type": "stream",
     "text": [
      "getting neighbor pairs\n",
      "adding ground truth\n",
      "adding neighbor ids\n",
      "calculate edges\n",
      "build networkx graph\n"
     ]
    }
   ],
   "source": [
    "graph = super_vox_to_graph.get_nx_graph_from_ws_with_gt(seg_foreground_super_voxel_by_ws, hand_seg)"
   ],
   "metadata": {
    "collapsed": false,
    "pycharm": {
     "name": "#%%\n"
    }
   }
  },
  {
   "cell_type": "code",
   "execution_count": 60,
   "outputs": [],
   "source": [
    "from dgl.data import DGLDataset\n",
    "import dgl\n",
    "\n"
   ],
   "metadata": {
    "collapsed": false,
    "pycharm": {
     "name": "#%%\n"
    }
   }
  },
  {
   "cell_type": "code",
   "execution_count": 61,
   "outputs": [],
   "source": [
    "dataset = VoxelGraphDataset([graph])\n",
    "\n",
    "g = dataset[0]"
   ],
   "metadata": {
    "collapsed": false,
    "pycharm": {
     "name": "#%%\n"
    }
   }
  },
  {
   "cell_type": "code",
   "execution_count": 62,
   "outputs": [
    {
     "name": "stdout",
     "output_type": "stream",
     "text": [
      "Node features\n",
      "{'feat': tensor([[16.],\n",
      "        [11.],\n",
      "        [ 2.],\n",
      "        ...,\n",
      "        [ 4.],\n",
      "        [ 2.],\n",
      "        [28.]]), 'label': tensor([1, 1, 1,  ..., 1, 1, 1]), 'train_mask': tensor([ True,  True,  True,  ..., False, False, False]), 'val_mask': tensor([False, False, False,  ...,  True,  True,  True])}\n",
      "Edge features\n",
      "{'weight': tensor([69., 69., 35.,  ...,  0.,  0.,  0.], dtype=torch.float64)}\n"
     ]
    }
   ],
   "source": [
    "print('Node features')\n",
    "print(g.ndata)\n",
    "print('Edge features')\n",
    "print(g.edata)"
   ],
   "metadata": {
    "collapsed": false,
    "pycharm": {
     "name": "#%%\n"
    }
   }
  },
  {
   "cell_type": "markdown",
   "source": [
    "# TODO probably should normalize features!!!!"
   ],
   "metadata": {
    "collapsed": false,
    "pycharm": {
     "name": "#%% md\n"
    }
   }
  },
  {
   "cell_type": "code",
   "execution_count": 67,
   "outputs": [
    {
     "name": "stdout",
     "output_type": "stream",
     "text": [
      "In epoch 0, loss: 0.451, val acc: 0.911 (best 0.911)\n",
      "In epoch 5, loss: 0.378, val acc: 0.911 (best 0.911)\n",
      "In epoch 10, loss: 0.365, val acc: 0.911 (best 0.911)\n",
      "In epoch 15, loss: 0.344, val acc: 0.911 (best 0.911)\n",
      "In epoch 20, loss: 0.330, val acc: 0.911 (best 0.911)\n",
      "In epoch 25, loss: 0.319, val acc: 0.911 (best 0.911)\n",
      "In epoch 30, loss: 0.311, val acc: 0.911 (best 0.911)\n",
      "In epoch 35, loss: 0.304, val acc: 0.911 (best 0.911)\n",
      "In epoch 40, loss: 0.299, val acc: 0.911 (best 0.911)\n",
      "In epoch 45, loss: 0.297, val acc: 0.911 (best 0.911)\n",
      "In epoch 50, loss: 0.295, val acc: 0.911 (best 0.911)\n",
      "In epoch 55, loss: 0.294, val acc: 0.911 (best 0.911)\n",
      "In epoch 60, loss: 0.294, val acc: 0.911 (best 0.911)\n",
      "In epoch 65, loss: 0.294, val acc: 0.911 (best 0.911)\n",
      "In epoch 70, loss: 0.294, val acc: 0.911 (best 0.911)\n",
      "In epoch 75, loss: 0.294, val acc: 0.911 (best 0.911)\n",
      "In epoch 80, loss: 0.294, val acc: 0.911 (best 0.911)\n",
      "In epoch 85, loss: 0.294, val acc: 0.911 (best 0.911)\n",
      "In epoch 90, loss: 0.294, val acc: 0.911 (best 0.911)\n",
      "In epoch 95, loss: 0.294, val acc: 0.911 (best 0.911)\n"
     ]
    }
   ],
   "source": [
    "from func.graph_models import GCN\n",
    "import torch.nn.functional as F\n",
    "\n",
    "def train(g, model):\n",
    "    optimizer = torch.optim.Adam(model.parameters(), lr=0.01)\n",
    "    best_val_acc = 0\n",
    "\n",
    "    features = g.ndata['feat']\n",
    "    labels = g.ndata['label']\n",
    "    train_mask = g.ndata['train_mask']\n",
    "    val_mask = g.ndata['val_mask']\n",
    "    for e in range(100):\n",
    "        # Forward\n",
    "        logits = model(g, features)\n",
    "\n",
    "        # Compute prediction\n",
    "        pred = logits.argmax(1)\n",
    "\n",
    "        # Compute loss\n",
    "        # Note that you should only compute the losses of the nodes in the training set.\n",
    "        loss = F.cross_entropy(logits[train_mask], labels[train_mask])\n",
    "\n",
    "        # Compute accuracy on training/validation/test\n",
    "        train_acc = (pred[train_mask] == labels[train_mask]).float().mean()\n",
    "        val_acc = (pred[val_mask] == labels[val_mask]).float().mean()\n",
    "\n",
    "        # Save the best validation accuracy and the corresponding test accuracy.\n",
    "        if best_val_acc < val_acc:\n",
    "            best_val_acc = val_acc\n",
    "\n",
    "        # Backward\n",
    "        optimizer.zero_grad()\n",
    "        loss.backward()\n",
    "        optimizer.step()\n",
    "\n",
    "        if e % 5 == 0:\n",
    "            print('In epoch {}, loss: {:.3f}, val acc: {:.3f} (best {:.3f})'.format(\n",
    "                e, loss, val_acc, best_val_acc))\n",
    "\n",
    "model = GCN(1, 16, num_classes=2)\n",
    "train(g, model)\n"
   ],
   "metadata": {
    "collapsed": false,
    "pycharm": {
     "name": "#%%\n"
    }
   }
  },
  {
   "cell_type": "markdown",
   "source": [
    "# Train on GPU\n",
    "g = g.to('cuda')\n",
    "model = GCN(1, 16, dataset.num_classes).to('cuda')\n",
    "train(g, model)"
   ],
   "metadata": {
    "collapsed": false,
    "pycharm": {
     "name": "#%% md\n"
    }
   }
  },
  {
   "cell_type": "code",
   "execution_count": 58,
   "outputs": [
    {
     "data": {
      "text/plain": "Graph(num_nodes=1860, num_edges=7174,\n      ndata_schemes={'feat': Scheme(shape=(1,), dtype=torch.float32), 'label': Scheme(shape=(), dtype=torch.float32), 'train_mask': Scheme(shape=(), dtype=torch.bool), 'val_mask': Scheme(shape=(), dtype=torch.bool)}\n      edata_schemes={'weight': Scheme(shape=(), dtype=torch.float64)})"
     },
     "execution_count": 58,
     "metadata": {},
     "output_type": "execute_result"
    }
   ],
   "source": [
    "g"
   ],
   "metadata": {
    "collapsed": false,
    "pycharm": {
     "name": "#%%\n"
    }
   }
  },
  {
   "cell_type": "code",
   "execution_count": 59,
   "outputs": [
    {
     "data": {
      "text/plain": "torch.Size([1860, 1])"
     },
     "execution_count": 59,
     "metadata": {},
     "output_type": "execute_result"
    }
   ],
   "source": [
    "\n",
    "g.ndata['feat'].shape"
   ],
   "metadata": {
    "collapsed": false,
    "pycharm": {
     "name": "#%%\n"
    }
   }
  },
  {
   "cell_type": "code",
   "execution_count": 46,
   "outputs": [
    {
     "name": "stdout",
     "output_type": "stream",
     "text": [
      "Finished data loading and preprocessing.\n",
      "  NumNodes: 2708\n",
      "  NumEdges: 10556\n",
      "  NumFeats: 1433\n",
      "  NumClasses: 7\n",
      "  NumTrainingSamples: 140\n",
      "  NumValidationSamples: 500\n",
      "  NumTestSamples: 1000\n"
     ]
    },
    {
     "ename": "RuntimeError",
     "evalue": "Bool type is not supported by dlpack",
     "output_type": "error",
     "traceback": [
      "\u001B[0;31m---------------------------------------------------------------------------\u001B[0m",
      "\u001B[0;31mRuntimeError\u001B[0m                              Traceback (most recent call last)",
      "Input \u001B[0;32mIn [46]\u001B[0m, in \u001B[0;36m<cell line: 3>\u001B[0;34m()\u001B[0m\n\u001B[1;32m      1\u001B[0m \u001B[38;5;28;01mimport\u001B[39;00m \u001B[38;5;21;01mdgl\u001B[39;00m\u001B[38;5;21;01m.\u001B[39;00m\u001B[38;5;21;01mdata\u001B[39;00m\n\u001B[0;32m----> 3\u001B[0m dataset_cora \u001B[38;5;241m=\u001B[39m \u001B[43mdgl\u001B[49m\u001B[38;5;241;43m.\u001B[39;49m\u001B[43mdata\u001B[49m\u001B[38;5;241;43m.\u001B[39;49m\u001B[43mCoraGraphDataset\u001B[49m\u001B[43m(\u001B[49m\u001B[43m)\u001B[49m\n\u001B[1;32m      4\u001B[0m \u001B[38;5;28mprint\u001B[39m(\u001B[38;5;124m'\u001B[39m\u001B[38;5;124mNumber of categories:\u001B[39m\u001B[38;5;124m'\u001B[39m, dataset\u001B[38;5;241m.\u001B[39mnum_classes)\n",
      "File \u001B[0;32m/opt/anaconda3/envs/CellSeg3D_torch/lib/python3.8/site-packages/dgl/data/citation_graph.py:406\u001B[0m, in \u001B[0;36mCoraGraphDataset.__init__\u001B[0;34m(self, raw_dir, force_reload, verbose, reverse_edge)\u001B[0m\n\u001B[1;32m    403\u001B[0m \u001B[38;5;28;01mdef\u001B[39;00m \u001B[38;5;21m__init__\u001B[39m(\u001B[38;5;28mself\u001B[39m, raw_dir\u001B[38;5;241m=\u001B[39m\u001B[38;5;28;01mNone\u001B[39;00m, force_reload\u001B[38;5;241m=\u001B[39m\u001B[38;5;28;01mFalse\u001B[39;00m, verbose\u001B[38;5;241m=\u001B[39m\u001B[38;5;28;01mTrue\u001B[39;00m, reverse_edge\u001B[38;5;241m=\u001B[39m\u001B[38;5;28;01mTrue\u001B[39;00m):\n\u001B[1;32m    404\u001B[0m     name \u001B[38;5;241m=\u001B[39m \u001B[38;5;124m'\u001B[39m\u001B[38;5;124mcora\u001B[39m\u001B[38;5;124m'\u001B[39m\n\u001B[0;32m--> 406\u001B[0m     \u001B[38;5;28;43msuper\u001B[39;49m\u001B[43m(\u001B[49m\u001B[43mCoraGraphDataset\u001B[49m\u001B[43m,\u001B[49m\u001B[43m \u001B[49m\u001B[38;5;28;43mself\u001B[39;49m\u001B[43m)\u001B[49m\u001B[38;5;241;43m.\u001B[39;49m\u001B[38;5;21;43m__init__\u001B[39;49m\u001B[43m(\u001B[49m\u001B[43mname\u001B[49m\u001B[43m,\u001B[49m\u001B[43m \u001B[49m\u001B[43mraw_dir\u001B[49m\u001B[43m,\u001B[49m\u001B[43m \u001B[49m\u001B[43mforce_reload\u001B[49m\u001B[43m,\u001B[49m\u001B[43m \u001B[49m\u001B[43mverbose\u001B[49m\u001B[43m,\u001B[49m\u001B[43m \u001B[49m\u001B[43mreverse_edge\u001B[49m\u001B[43m)\u001B[49m\n",
      "File \u001B[0;32m/opt/anaconda3/envs/CellSeg3D_torch/lib/python3.8/site-packages/dgl/data/citation_graph.py:67\u001B[0m, in \u001B[0;36mCitationGraphDataset.__init__\u001B[0;34m(self, name, raw_dir, force_reload, verbose, reverse_edge)\u001B[0m\n\u001B[1;32m     64\u001B[0m url \u001B[38;5;241m=\u001B[39m _get_dgl_url(\u001B[38;5;28mself\u001B[39m\u001B[38;5;241m.\u001B[39m_urls[name])\n\u001B[1;32m     65\u001B[0m \u001B[38;5;28mself\u001B[39m\u001B[38;5;241m.\u001B[39m_reverse_edge \u001B[38;5;241m=\u001B[39m reverse_edge\n\u001B[0;32m---> 67\u001B[0m \u001B[38;5;28;43msuper\u001B[39;49m\u001B[43m(\u001B[49m\u001B[43mCitationGraphDataset\u001B[49m\u001B[43m,\u001B[49m\u001B[43m \u001B[49m\u001B[38;5;28;43mself\u001B[39;49m\u001B[43m)\u001B[49m\u001B[38;5;241;43m.\u001B[39;49m\u001B[38;5;21;43m__init__\u001B[39;49m\u001B[43m(\u001B[49m\u001B[43mname\u001B[49m\u001B[43m,\u001B[49m\n\u001B[1;32m     68\u001B[0m \u001B[43m                                           \u001B[49m\u001B[43murl\u001B[49m\u001B[38;5;241;43m=\u001B[39;49m\u001B[43murl\u001B[49m\u001B[43m,\u001B[49m\n\u001B[1;32m     69\u001B[0m \u001B[43m                                           \u001B[49m\u001B[43mraw_dir\u001B[49m\u001B[38;5;241;43m=\u001B[39;49m\u001B[43mraw_dir\u001B[49m\u001B[43m,\u001B[49m\n\u001B[1;32m     70\u001B[0m \u001B[43m                                           \u001B[49m\u001B[43mforce_reload\u001B[49m\u001B[38;5;241;43m=\u001B[39;49m\u001B[43mforce_reload\u001B[49m\u001B[43m,\u001B[49m\n\u001B[1;32m     71\u001B[0m \u001B[43m                                           \u001B[49m\u001B[43mverbose\u001B[49m\u001B[38;5;241;43m=\u001B[39;49m\u001B[43mverbose\u001B[49m\u001B[43m)\u001B[49m\n",
      "File \u001B[0;32m/opt/anaconda3/envs/CellSeg3D_torch/lib/python3.8/site-packages/dgl/data/dgl_dataset.py:282\u001B[0m, in \u001B[0;36mDGLBuiltinDataset.__init__\u001B[0;34m(self, name, url, raw_dir, hash_key, force_reload, verbose)\u001B[0m\n\u001B[1;32m    281\u001B[0m \u001B[38;5;28;01mdef\u001B[39;00m \u001B[38;5;21m__init__\u001B[39m(\u001B[38;5;28mself\u001B[39m, name, url, raw_dir\u001B[38;5;241m=\u001B[39m\u001B[38;5;28;01mNone\u001B[39;00m, hash_key\u001B[38;5;241m=\u001B[39m(), force_reload\u001B[38;5;241m=\u001B[39m\u001B[38;5;28;01mFalse\u001B[39;00m, verbose\u001B[38;5;241m=\u001B[39m\u001B[38;5;28;01mFalse\u001B[39;00m):\n\u001B[0;32m--> 282\u001B[0m     \u001B[38;5;28;43msuper\u001B[39;49m\u001B[43m(\u001B[49m\u001B[43mDGLBuiltinDataset\u001B[49m\u001B[43m,\u001B[49m\u001B[43m \u001B[49m\u001B[38;5;28;43mself\u001B[39;49m\u001B[43m)\u001B[49m\u001B[38;5;241;43m.\u001B[39;49m\u001B[38;5;21;43m__init__\u001B[39;49m\u001B[43m(\u001B[49m\u001B[43mname\u001B[49m\u001B[43m,\u001B[49m\n\u001B[1;32m    283\u001B[0m \u001B[43m                                            \u001B[49m\u001B[43murl\u001B[49m\u001B[38;5;241;43m=\u001B[39;49m\u001B[43murl\u001B[49m\u001B[43m,\u001B[49m\n\u001B[1;32m    284\u001B[0m \u001B[43m                                            \u001B[49m\u001B[43mraw_dir\u001B[49m\u001B[38;5;241;43m=\u001B[39;49m\u001B[43mraw_dir\u001B[49m\u001B[43m,\u001B[49m\n\u001B[1;32m    285\u001B[0m \u001B[43m                                            \u001B[49m\u001B[43msave_dir\u001B[49m\u001B[38;5;241;43m=\u001B[39;49m\u001B[38;5;28;43;01mNone\u001B[39;49;00m\u001B[43m,\u001B[49m\n\u001B[1;32m    286\u001B[0m \u001B[43m                                            \u001B[49m\u001B[43mhash_key\u001B[49m\u001B[38;5;241;43m=\u001B[39;49m\u001B[43mhash_key\u001B[49m\u001B[43m,\u001B[49m\n\u001B[1;32m    287\u001B[0m \u001B[43m                                            \u001B[49m\u001B[43mforce_reload\u001B[49m\u001B[38;5;241;43m=\u001B[39;49m\u001B[43mforce_reload\u001B[49m\u001B[43m,\u001B[49m\n\u001B[1;32m    288\u001B[0m \u001B[43m                                            \u001B[49m\u001B[43mverbose\u001B[49m\u001B[38;5;241;43m=\u001B[39;49m\u001B[43mverbose\u001B[49m\u001B[43m)\u001B[49m\n",
      "File \u001B[0;32m/opt/anaconda3/envs/CellSeg3D_torch/lib/python3.8/site-packages/dgl/data/dgl_dataset.py:93\u001B[0m, in \u001B[0;36mDGLDataset.__init__\u001B[0;34m(self, name, url, raw_dir, save_dir, hash_key, force_reload, verbose)\u001B[0m\n\u001B[1;32m     90\u001B[0m \u001B[38;5;28;01melse\u001B[39;00m:\n\u001B[1;32m     91\u001B[0m     \u001B[38;5;28mself\u001B[39m\u001B[38;5;241m.\u001B[39m_save_dir \u001B[38;5;241m=\u001B[39m save_dir\n\u001B[0;32m---> 93\u001B[0m \u001B[38;5;28;43mself\u001B[39;49m\u001B[38;5;241;43m.\u001B[39;49m\u001B[43m_load\u001B[49m\u001B[43m(\u001B[49m\u001B[43m)\u001B[49m\n",
      "File \u001B[0;32m/opt/anaconda3/envs/CellSeg3D_torch/lib/python3.8/site-packages/dgl/data/dgl_dataset.py:179\u001B[0m, in \u001B[0;36mDGLDataset._load\u001B[0;34m(self)\u001B[0m\n\u001B[1;32m    177\u001B[0m \u001B[38;5;28mself\u001B[39m\u001B[38;5;241m.\u001B[39m_download()\n\u001B[1;32m    178\u001B[0m \u001B[38;5;28mself\u001B[39m\u001B[38;5;241m.\u001B[39mprocess()\n\u001B[0;32m--> 179\u001B[0m \u001B[38;5;28;43mself\u001B[39;49m\u001B[38;5;241;43m.\u001B[39;49m\u001B[43msave\u001B[49m\u001B[43m(\u001B[49m\u001B[43m)\u001B[49m\n\u001B[1;32m    180\u001B[0m \u001B[38;5;28;01mif\u001B[39;00m \u001B[38;5;28mself\u001B[39m\u001B[38;5;241m.\u001B[39mverbose:\n\u001B[1;32m    181\u001B[0m     \u001B[38;5;28mprint\u001B[39m(\u001B[38;5;124m'\u001B[39m\u001B[38;5;124mDone saving data into cached files.\u001B[39m\u001B[38;5;124m'\u001B[39m)\n",
      "File \u001B[0;32m/opt/anaconda3/envs/CellSeg3D_torch/lib/python3.8/site-packages/dgl/data/citation_graph.py:171\u001B[0m, in \u001B[0;36mCitationGraphDataset.save\u001B[0;34m(self)\u001B[0m\n\u001B[1;32m    167\u001B[0m graph_path \u001B[38;5;241m=\u001B[39m os\u001B[38;5;241m.\u001B[39mpath\u001B[38;5;241m.\u001B[39mjoin(\u001B[38;5;28mself\u001B[39m\u001B[38;5;241m.\u001B[39msave_path,\n\u001B[1;32m    168\u001B[0m                           \u001B[38;5;28mself\u001B[39m\u001B[38;5;241m.\u001B[39msave_name \u001B[38;5;241m+\u001B[39m \u001B[38;5;124m'\u001B[39m\u001B[38;5;124m.bin\u001B[39m\u001B[38;5;124m'\u001B[39m)\n\u001B[1;32m    169\u001B[0m info_path \u001B[38;5;241m=\u001B[39m os\u001B[38;5;241m.\u001B[39mpath\u001B[38;5;241m.\u001B[39mjoin(\u001B[38;5;28mself\u001B[39m\u001B[38;5;241m.\u001B[39msave_path,\n\u001B[1;32m    170\u001B[0m                          \u001B[38;5;28mself\u001B[39m\u001B[38;5;241m.\u001B[39msave_name \u001B[38;5;241m+\u001B[39m \u001B[38;5;124m'\u001B[39m\u001B[38;5;124m.pkl\u001B[39m\u001B[38;5;124m'\u001B[39m)\n\u001B[0;32m--> 171\u001B[0m \u001B[43msave_graphs\u001B[49m\u001B[43m(\u001B[49m\u001B[38;5;28;43mstr\u001B[39;49m\u001B[43m(\u001B[49m\u001B[43mgraph_path\u001B[49m\u001B[43m)\u001B[49m\u001B[43m,\u001B[49m\u001B[43m \u001B[49m\u001B[38;5;28;43mself\u001B[39;49m\u001B[38;5;241;43m.\u001B[39;49m\u001B[43m_g\u001B[49m\u001B[43m)\u001B[49m\n\u001B[1;32m    172\u001B[0m save_info(\u001B[38;5;28mstr\u001B[39m(info_path), {\u001B[38;5;124m'\u001B[39m\u001B[38;5;124mnum_classes\u001B[39m\u001B[38;5;124m'\u001B[39m: \u001B[38;5;28mself\u001B[39m\u001B[38;5;241m.\u001B[39mnum_classes})\n",
      "File \u001B[0;32m/opt/anaconda3/envs/CellSeg3D_torch/lib/python3.8/site-packages/dgl/data/graph_serialize.py:130\u001B[0m, in \u001B[0;36msave_graphs\u001B[0;34m(filename, g_list, labels)\u001B[0m\n\u001B[1;32m    128\u001B[0m g_sample \u001B[38;5;241m=\u001B[39m g_list[\u001B[38;5;241m0\u001B[39m] \u001B[38;5;28;01mif\u001B[39;00m \u001B[38;5;28misinstance\u001B[39m(g_list, \u001B[38;5;28mlist\u001B[39m) \u001B[38;5;28;01melse\u001B[39;00m g_list\n\u001B[1;32m    129\u001B[0m \u001B[38;5;28;01mif\u001B[39;00m \u001B[38;5;28mtype\u001B[39m(g_sample) \u001B[38;5;241m==\u001B[39m DGLHeteroGraph:  \u001B[38;5;66;03m# Doesn't support DGLHeteroGraph's derived class\u001B[39;00m\n\u001B[0;32m--> 130\u001B[0m     \u001B[43msave_heterographs\u001B[49m\u001B[43m(\u001B[49m\u001B[43mfilename\u001B[49m\u001B[43m,\u001B[49m\u001B[43m \u001B[49m\u001B[43mg_list\u001B[49m\u001B[43m,\u001B[49m\u001B[43m \u001B[49m\u001B[43mlabels\u001B[49m\u001B[43m)\u001B[49m\n\u001B[1;32m    131\u001B[0m \u001B[38;5;28;01melse\u001B[39;00m:\n\u001B[1;32m    132\u001B[0m     \u001B[38;5;28;01mraise\u001B[39;00m DGLError(\n\u001B[1;32m    133\u001B[0m         \u001B[38;5;124m\"\u001B[39m\u001B[38;5;124mInvalid argument g_list. Must be a DGLGraph or a list of DGLGraphs.\u001B[39m\u001B[38;5;124m\"\u001B[39m)\n",
      "File \u001B[0;32m/opt/anaconda3/envs/CellSeg3D_torch/lib/python3.8/site-packages/dgl/data/heterograph_serialize.py:28\u001B[0m, in \u001B[0;36msave_heterographs\u001B[0;34m(filename, g_list, labels)\u001B[0m\n\u001B[1;32m     26\u001B[0m     g_list \u001B[38;5;241m=\u001B[39m [g_list]\n\u001B[1;32m     27\u001B[0m \u001B[38;5;28;01massert\u001B[39;00m \u001B[38;5;28mall\u001B[39m([\u001B[38;5;28mtype\u001B[39m(g) \u001B[38;5;241m==\u001B[39m DGLHeteroGraph \u001B[38;5;28;01mfor\u001B[39;00m g \u001B[38;5;129;01min\u001B[39;00m g_list]), \u001B[38;5;124m\"\u001B[39m\u001B[38;5;124mInvalid DGLHeteroGraph in g_list argument\u001B[39m\u001B[38;5;124m\"\u001B[39m\n\u001B[0;32m---> 28\u001B[0m gdata_list \u001B[38;5;241m=\u001B[39m [HeteroGraphData\u001B[38;5;241m.\u001B[39mcreate(g) \u001B[38;5;28;01mfor\u001B[39;00m g \u001B[38;5;129;01min\u001B[39;00m g_list]\n\u001B[1;32m     29\u001B[0m _CAPI_SaveHeteroGraphData(filename, gdata_list, tensor_dict_to_ndarray_dict(labels))\n",
      "File \u001B[0;32m/opt/anaconda3/envs/CellSeg3D_torch/lib/python3.8/site-packages/dgl/data/heterograph_serialize.py:28\u001B[0m, in \u001B[0;36m<listcomp>\u001B[0;34m(.0)\u001B[0m\n\u001B[1;32m     26\u001B[0m     g_list \u001B[38;5;241m=\u001B[39m [g_list]\n\u001B[1;32m     27\u001B[0m \u001B[38;5;28;01massert\u001B[39;00m \u001B[38;5;28mall\u001B[39m([\u001B[38;5;28mtype\u001B[39m(g) \u001B[38;5;241m==\u001B[39m DGLHeteroGraph \u001B[38;5;28;01mfor\u001B[39;00m g \u001B[38;5;129;01min\u001B[39;00m g_list]), \u001B[38;5;124m\"\u001B[39m\u001B[38;5;124mInvalid DGLHeteroGraph in g_list argument\u001B[39m\u001B[38;5;124m\"\u001B[39m\n\u001B[0;32m---> 28\u001B[0m gdata_list \u001B[38;5;241m=\u001B[39m [\u001B[43mHeteroGraphData\u001B[49m\u001B[38;5;241;43m.\u001B[39;49m\u001B[43mcreate\u001B[49m\u001B[43m(\u001B[49m\u001B[43mg\u001B[49m\u001B[43m)\u001B[49m \u001B[38;5;28;01mfor\u001B[39;00m g \u001B[38;5;129;01min\u001B[39;00m g_list]\n\u001B[1;32m     29\u001B[0m _CAPI_SaveHeteroGraphData(filename, gdata_list, tensor_dict_to_ndarray_dict(labels))\n",
      "File \u001B[0;32m/opt/anaconda3/envs/CellSeg3D_torch/lib/python3.8/site-packages/dgl/data/heterograph_serialize.py:42\u001B[0m, in \u001B[0;36mHeteroGraphData.create\u001B[0;34m(g)\u001B[0m\n\u001B[1;32m     40\u001B[0m     edata_list\u001B[38;5;241m.\u001B[39mappend(tensor_dict_to_ndarray_dict(g\u001B[38;5;241m.\u001B[39medges[etype]\u001B[38;5;241m.\u001B[39mdata))\n\u001B[1;32m     41\u001B[0m \u001B[38;5;28;01mfor\u001B[39;00m ntype \u001B[38;5;129;01min\u001B[39;00m g\u001B[38;5;241m.\u001B[39mntypes:\n\u001B[0;32m---> 42\u001B[0m     ndata_list\u001B[38;5;241m.\u001B[39mappend(\u001B[43mtensor_dict_to_ndarray_dict\u001B[49m\u001B[43m(\u001B[49m\u001B[43mg\u001B[49m\u001B[38;5;241;43m.\u001B[39;49m\u001B[43mnodes\u001B[49m\u001B[43m[\u001B[49m\u001B[43mntype\u001B[49m\u001B[43m]\u001B[49m\u001B[38;5;241;43m.\u001B[39;49m\u001B[43mdata\u001B[49m\u001B[43m)\u001B[49m)\n\u001B[1;32m     43\u001B[0m \u001B[38;5;28;01mreturn\u001B[39;00m _CAPI_MakeHeteroGraphData(g\u001B[38;5;241m.\u001B[39m_graph, ndata_list, edata_list, g\u001B[38;5;241m.\u001B[39mntypes, g\u001B[38;5;241m.\u001B[39metypes)\n",
      "File \u001B[0;32m/opt/anaconda3/envs/CellSeg3D_torch/lib/python3.8/site-packages/dgl/data/heterograph_serialize.py:17\u001B[0m, in \u001B[0;36mtensor_dict_to_ndarray_dict\u001B[0;34m(tensor_dict)\u001B[0m\n\u001B[1;32m     15\u001B[0m ndarray_dict \u001B[38;5;241m=\u001B[39m {}\n\u001B[1;32m     16\u001B[0m \u001B[38;5;28;01mfor\u001B[39;00m key, value \u001B[38;5;129;01min\u001B[39;00m tensor_dict\u001B[38;5;241m.\u001B[39mitems():\n\u001B[0;32m---> 17\u001B[0m     ndarray_dict[key] \u001B[38;5;241m=\u001B[39m \u001B[43mF\u001B[49m\u001B[38;5;241;43m.\u001B[39;49m\u001B[43mzerocopy_to_dgl_ndarray\u001B[49m\u001B[43m(\u001B[49m\u001B[43mvalue\u001B[49m\u001B[43m)\u001B[49m\n\u001B[1;32m     18\u001B[0m \u001B[38;5;28;01mreturn\u001B[39;00m convert_to_strmap(ndarray_dict)\n",
      "File \u001B[0;32m/opt/anaconda3/envs/CellSeg3D_torch/lib/python3.8/site-packages/dgl/backend/pytorch/tensor.py:324\u001B[0m, in \u001B[0;36mzerocopy_to_dgl_ndarray\u001B[0;34m(data)\u001B[0m\n\u001B[1;32m    323\u001B[0m \u001B[38;5;28;01mdef\u001B[39;00m \u001B[38;5;21mzerocopy_to_dgl_ndarray\u001B[39m(data):\n\u001B[0;32m--> 324\u001B[0m     \u001B[38;5;28;01mreturn\u001B[39;00m nd\u001B[38;5;241m.\u001B[39mfrom_dlpack(\u001B[43mdlpack\u001B[49m\u001B[38;5;241;43m.\u001B[39;49m\u001B[43mto_dlpack\u001B[49m\u001B[43m(\u001B[49m\u001B[43mdata\u001B[49m\u001B[38;5;241;43m.\u001B[39;49m\u001B[43mcontiguous\u001B[49m\u001B[43m(\u001B[49m\u001B[43m)\u001B[49m\u001B[43m)\u001B[49m)\n",
      "\u001B[0;31mRuntimeError\u001B[0m: Bool type is not supported by dlpack"
     ]
    }
   ],
   "source": [
    "import dgl.data\n",
    "\n",
    "dataset_cora = dgl.data.CoraGraphDataset()\n",
    "print('Number of categories:', dataset.num_classes)"
   ],
   "metadata": {
    "collapsed": false,
    "pycharm": {
     "name": "#%%\n"
    }
   }
  },
  {
   "cell_type": "code",
   "execution_count": 43,
   "outputs": [
    {
     "ename": "NameError",
     "evalue": "name 'dataset_cora' is not defined",
     "output_type": "error",
     "traceback": [
      "\u001B[0;31m---------------------------------------------------------------------------\u001B[0m",
      "\u001B[0;31mNameError\u001B[0m                                 Traceback (most recent call last)",
      "Input \u001B[0;32mIn [43]\u001B[0m, in \u001B[0;36m<cell line: 1>\u001B[0;34m()\u001B[0m\n\u001B[0;32m----> 1\u001B[0m \u001B[43mdataset_cora\u001B[49m\n",
      "\u001B[0;31mNameError\u001B[0m: name 'dataset_cora' is not defined"
     ]
    }
   ],
   "source": [
    "dataset_cora"
   ],
   "metadata": {
    "collapsed": false,
    "pycharm": {
     "name": "#%%\n"
    }
   }
  },
  {
   "cell_type": "code",
   "execution_count": 44,
   "outputs": [
    {
     "name": "stdout",
     "output_type": "stream",
     "text": [
      "Looking in links: https://data.dgl.ai/wheels/repo.html\r\n",
      "Requirement already satisfied: dgl in /opt/anaconda3/envs/CellSeg3D_torch/lib/python3.8/site-packages (0.6.1)\r\n",
      "Requirement already satisfied: numpy>=1.14.0 in /opt/anaconda3/envs/CellSeg3D_torch/lib/python3.8/site-packages (from dgl) (1.22.3)\r\n",
      "Requirement already satisfied: requests>=2.19.0 in /opt/anaconda3/envs/CellSeg3D_torch/lib/python3.8/site-packages (from dgl) (2.27.1)\r\n",
      "Requirement already satisfied: scipy>=1.1.0 in /opt/anaconda3/envs/CellSeg3D_torch/lib/python3.8/site-packages (from dgl) (1.8.0)\r\n",
      "Requirement already satisfied: networkx>=2.1 in /opt/anaconda3/envs/CellSeg3D_torch/lib/python3.8/site-packages (from dgl) (2.8)\r\n",
      "Requirement already satisfied: idna<4,>=2.5 in /opt/anaconda3/envs/CellSeg3D_torch/lib/python3.8/site-packages (from requests>=2.19.0->dgl) (3.3)\r\n",
      "Requirement already satisfied: charset-normalizer~=2.0.0 in /opt/anaconda3/envs/CellSeg3D_torch/lib/python3.8/site-packages (from requests>=2.19.0->dgl) (2.0.12)\r\n",
      "Requirement already satisfied: urllib3<1.27,>=1.21.1 in /opt/anaconda3/envs/CellSeg3D_torch/lib/python3.8/site-packages (from requests>=2.19.0->dgl) (1.26.9)\r\n",
      "Requirement already satisfied: certifi>=2017.4.17 in /opt/anaconda3/envs/CellSeg3D_torch/lib/python3.8/site-packages (from requests>=2.19.0->dgl) (2021.10.8)\r\n"
     ]
    }
   ],
   "source": [
    "\n",
    "!pip install dgl -f https://data.dgl.ai/wheels/repo.html"
   ],
   "metadata": {
    "collapsed": false,
    "pycharm": {
     "name": "#%%\n"
    }
   }
  },
  {
   "cell_type": "code",
   "execution_count": null,
   "outputs": [],
   "source": [],
   "metadata": {
    "collapsed": false,
    "pycharm": {
     "name": "#%%\n"
    }
   }
  }
 ],
 "metadata": {
  "kernelspec": {
   "display_name": "Python 3",
   "language": "python",
   "name": "python3"
  },
  "language_info": {
   "codemirror_mode": {
    "name": "ipython",
    "version": 2
   },
   "file_extension": ".py",
   "mimetype": "text/x-python",
   "name": "python",
   "nbconvert_exporter": "python",
   "pygments_lexer": "ipython2",
   "version": "2.7.6"
  }
 },
 "nbformat": 4,
 "nbformat_minor": 0
}