{
 "cells": [
  {
   "cell_type": "code",
   "execution_count": null,
   "metadata": {
    "collapsed": true
   },
   "outputs": [],
   "source": []
  },
  {
   "cell_type": "markdown",
   "source": [
    "## pipeline"
   ],
   "metadata": {
    "collapsed": false
   }
  },
  {
   "cell_type": "code",
   "execution_count": 145,
   "outputs": [],
   "source": [
    "import numpy as np\n",
    "import os\n",
    "import pickle\n",
    "import copy\n",
    "import edt\n",
    "import matplotlib.pyplot as plt\n",
    "import time\n",
    "import cv2\n",
    "import pandas as pd\n",
    "from sklearn.metrics.cluster import adjusted_rand_score\n",
    "from skimage.metrics import adapted_rand_error\n",
    "\n",
    "import torch\n",
    "from torch import from_numpy as from_numpy\n",
    "from torchsummary import summary\n",
    "\n",
    "import dgl\n",
    "\n",
    "from func.run_pipeline_super_vox import segment_super_vox_3_channel, semantic_segment_crop_and_cat_3_channel_output, img_3d_erosion_or_expansion, \\\n",
    "generate_super_vox_by_watershed, get_outlayer_of_a_3d_shape, get_crop_by_pixel_val, Cluster_Super_Vox, assign_boudary_voxels_to_cells_with_watershed, \\\n",
    "delete_too_small_cluster, reassign\n",
    "from func.run_pipeline import segment, assign_boudary_voxels_to_cells, dbscan_of_seg, semantic_segment_crop_and_cat\n",
    "from func.cal_accuracy import IOU_and_Dice_Accuracy, VOI\n",
    "from func.network import VoxResNet, CellSegNet_basic_lite\n",
    "from func.unet_3d_basic import UNet3D_basic\n",
    "from func.ultis import save_obj, load_obj\n",
    "import networkx as nx"
   ],
   "metadata": {
    "collapsed": false,
    "pycharm": {
     "name": "#%%\n"
    }
   }
  },
  {
   "cell_type": "code",
   "execution_count": 2,
   "outputs": [
    {
     "name": "stdout",
     "output_type": "stream",
     "text": [
      "Test cases: dict_keys(['135', '120', '65', '90'])\n",
      "for test case 135 : {'raw': 'data/CellSeg_dataset/HMS_processed/raw/135.npy', 'background': 'data/CellSeg_dataset/HMS_processed/segmentation/135/135_background_3d_mask.npy', 'edge': 'data/CellSeg_dataset/HMS_processed/segmentation/135/135_edge_3d_mask.npy', 'edge_foreground': 'data/CellSeg_dataset/HMS_processed/segmentation/135/135_edge_foreground_3d_mask.npy', 'edge_background': 'data/CellSeg_dataset/HMS_processed/segmentation/135/135_edge_background_3d_mask.npy', 'boundary': 'data/CellSeg_dataset/HMS_processed/segmentation/135/135_boundary_3d_mask.npy', 'foreground': 'data/CellSeg_dataset/HMS_processed/segmentation/135/135_foreground_3d_mask.npy', 'ins': 'data/CellSeg_dataset/HMS_processed/segmentation/135/135_ins.npy'}\n"
     ]
    }
   ],
   "source": [
    "HMS_data_dict = load_obj(\"dataset_info/HMS_dataset_info\")\n",
    "HMS_data_dict_test = HMS_data_dict[\"test\"]\n",
    "print(\"Test cases: \"+str(HMS_data_dict_test.keys()))\n",
    "case = \"135\"\n",
    "print(\"for test case \"+str(case)+\" : \"+str(HMS_data_dict_test[case]))\n",
    "\n",
    "# you may load the image using another path\n",
    "raw_img=np.load(HMS_data_dict_test[case][\"raw\"]).astype(float)\n",
    "hand_seg=np.load(HMS_data_dict_test[case][\"ins\"]).astype(float)\n",
    "\n",
    "# np.save('seg_foreground_super_voxel_by_ws_graph.npy', seg_foreground_super_voxel_by_ws)"
   ],
   "metadata": {
    "collapsed": false,
    "pycharm": {
     "name": "#%%\n"
    }
   }
  },
  {
   "cell_type": "code",
   "execution_count": 3,
   "outputs": [],
   "source": [
    "seg_foreground_super_voxel_by_ws = np.load('seg_foreground_super_voxel_by_ws_graph.npy')"
   ],
   "metadata": {
    "collapsed": false,
    "pycharm": {
     "name": "#%%\n"
    }
   }
  },
  {
   "cell_type": "code",
   "execution_count": 4,
   "outputs": [
    {
     "data": {
      "text/plain": "1951"
     },
     "execution_count": 4,
     "metadata": {},
     "output_type": "execute_result"
    }
   ],
   "source": [
    "len(np.unique(seg_foreground_super_voxel_by_ws))"
   ],
   "metadata": {
    "collapsed": false,
    "pycharm": {
     "name": "#%%\n"
    }
   }
  },
  {
   "cell_type": "code",
   "execution_count": 8,
   "outputs": [],
   "source": [
    "# get the size of each super voxel\n",
    "\n",
    "# unique, counts = np.unique(seg_foreground_super_voxel_by_ws, return_counts=True)\n",
    "# dict(zip(unique, counts))"
   ],
   "metadata": {
    "collapsed": false,
    "pycharm": {
     "name": "#%%\n"
    }
   }
  },
  {
   "cell_type": "code",
   "execution_count": 9,
   "outputs": [],
   "source": [
    "class Super_Vox_To_Graph_depr():\n",
    "    def __init__(self, boundary_extend=2):\n",
    "        super(Super_Vox_To_Graph, self).__init__\n",
    "        self.boundary_extend = boundary_extend\n",
    "\n",
    "        self.UN_PROCESSED = 0\n",
    "        self.LONELY_POINT = -1\n",
    "        self.A_LARGE_NUM = 100000000\n",
    "\n",
    "    def fit(self, input_3d_img, restrict_area_3d=None):\n",
    "        self.input_3d_img = input_3d_img\n",
    "\n",
    "        if restrict_area_3d is None:\n",
    "            self.restrict_area_3d = np.array(input_3d_img==0, dtype=np.int8)\n",
    "        else:\n",
    "            self.restrict_area_3d = restrict_area_3d\n",
    "\n",
    "        unique_vals, unique_val_counts = np.unique(self.input_3d_img, return_counts=True)\n",
    "        unique_val_counts = unique_val_counts[unique_vals>0]\n",
    "        unique_vals = unique_vals[unique_vals>0]\n",
    "        sort_locs = np.argsort(unique_val_counts)[::-1]\n",
    "        self.unique_vals = unique_vals[sort_locs]\n",
    "\n",
    "        self.val_labels = dict()\n",
    "        for unique_val in self.unique_vals:\n",
    "            self.val_labels[unique_val] = self.UN_PROCESSED\n",
    "\n",
    "        self.val_outlayer_area = dict()\n",
    "        for idx, unique_val in enumerate(self.unique_vals):\n",
    "            # print(\"get val_outlayer area of all vals: \"+str(idx/len(self.unique_vals)))\n",
    "            self.val_outlayer_area[unique_val] = self.A_LARGE_NUM\n",
    "\n",
    "        \"\"\"\n",
    "        neighborhoods_dict:\n",
    "        {\n",
    "            voxel: {\n",
    "                        neighbor_1: touching area,\n",
    "                        neighbor_2: touching area\n",
    "                    }\n",
    "            ...\n",
    "        }\n",
    "        \"\"\"\n",
    "        neighborhoods_dict = {}\n",
    "        for idx, current_val in enumerate(self.unique_vals):\n",
    "            # print('processing: '+str(idx/len(self.unique_vals))+' pixel val: '+str(current_val))\n",
    "            if self.val_labels[current_val]!=self.UN_PROCESSED:\n",
    "                continue\n",
    "            valid_neighbor_vals = self.regionQuery(current_val)\n",
    "            neighborhoods_dict[current_val] = valid_neighbor_vals\n",
    "            # if len(valid_neighbor_vals)>0:\n",
    "            #     # print('Assign label '+str(current_val)+' to current val\\'s neighbors: '+str(valid_neighbor_vals))\n",
    "            #    self.val_labels[current_val] = current_val\n",
    "            #    self.growCluster(valid_neighbor_vals, current_val)\n",
    "            # else:\n",
    "            #    self.val_labels[current_val] = self.LONELY_POINT\n",
    "\n",
    "        # self.output_3d_img = self.input_3d_img\n",
    "        return neighborhoods_dict\n",
    "\n",
    "    def get_outlayer_area(self, current_val):\n",
    "        current_crop_img, current_restrict_area = get_crop_by_pixel_val(self.input_3d_img, current_val,\n",
    "                                                                        boundary_extend=self.boundary_extend,\n",
    "                                                                        crop_another_3d_img_by_the_way=self.restrict_area_3d)\n",
    "        current_crop_img_onehot = np.array(current_crop_img==current_val, dtype=np.int8)\n",
    "        current_crop_img_onehot_outlayer = get_outlayer_of_a_3d_shape(current_crop_img_onehot)\n",
    "\n",
    "        assert current_crop_img_onehot_outlayer.shape == current_restrict_area.shape\n",
    "\n",
    "        current_crop_img_onehot_outlayer[current_restrict_area>0]=0\n",
    "        current_crop_outlayer_area = np.sum(current_crop_img_onehot_outlayer)\n",
    "\n",
    "        return current_crop_outlayer_area\n",
    "\n",
    "    def regionQuery(self, current_val):\n",
    "        current_crop_img, current_restrict_area = get_crop_by_pixel_val(self.input_3d_img, current_val,\n",
    "                                                                        boundary_extend=self.boundary_extend,\n",
    "                                                                        crop_another_3d_img_by_the_way=self.restrict_area_3d)\n",
    "\n",
    "        current_crop_img_onehot = np.array(current_crop_img==current_val, dtype=np.int8)\n",
    "        current_crop_img_onehot_outlayer = get_outlayer_of_a_3d_shape(current_crop_img_onehot)\n",
    "\n",
    "        assert current_crop_img_onehot_outlayer.shape == current_restrict_area.shape\n",
    "\n",
    "        current_crop_img_onehot_outlayer[current_restrict_area>0]=0\n",
    "        current_crop_outlayer_area = np.sum(current_crop_img_onehot_outlayer)\n",
    "\n",
    "        neighbor_vals, neighbor_val_counts = np.unique(current_crop_img[current_crop_img_onehot_outlayer>0], return_counts=True)\n",
    "        neighbor_val_counts = neighbor_val_counts[neighbor_vals>0]\n",
    "        neighbor_vals = neighbor_vals[neighbor_vals>0]\n",
    "\n",
    "        print(\"current_crop_outlayer_area: \"+str(current_crop_outlayer_area))\n",
    "\n",
    "        valid_neighbor_vals = self.neighborCheck(neighbor_vals, neighbor_val_counts, current_crop_outlayer_area)\n",
    "\n",
    "\n",
    "        print(\"valid_neighbor_vals: \"+str(valid_neighbor_vals))\n",
    "\n",
    "        return valid_neighbor_vals\n",
    "\n",
    "    def neighborCheck(self, neighbor_vals, neighbor_val_counts, current_crop_outlayer_area):\n",
    "        neighbor_val_counts = neighbor_val_counts[neighbor_vals>0]\n",
    "        neighbor_vals = neighbor_vals[neighbor_vals>0]\n",
    "\n",
    "        valid_neighbor_vals_dict = {}\n",
    "        for idx, neighbor_val in enumerate(neighbor_vals):\n",
    "            print(\"touching_area: \"+str(neighbor_val_counts[idx]), end=\"\\r\")\n",
    "            valid_neighbor_vals_dict[neighbor_val] = neighbor_val_counts[idx]\n",
    "\n",
    "        # double_checked_valid_neighbor_vals = []\n",
    "        # for valid_neighbor_val in valid_neighbor_vals_dict.keys():\n",
    "        #    if self.val_labels[valid_neighbor_val]==self.UN_PROCESSED or \\\n",
    "        #     self.val_labels[valid_neighbor_val]==self.LONELY_POINT:\n",
    "        #        double_checked_valid_neighbor_vals.append(valid_neighbor_val)\n",
    "\n",
    "        return valid_neighbor_vals_dict"
   ],
   "metadata": {
    "collapsed": false,
    "pycharm": {
     "name": "#%%\n"
    }
   }
  },
  {
   "cell_type": "code",
   "execution_count": 171,
   "outputs": [],
   "source": [
    "class Super_Vox_To_Graph():\n",
    "    def __init__(self, boundary_extend=2):\n",
    "        super(Super_Vox_To_Graph, self).__init__\n",
    "        self.boundary_extend = boundary_extend\n",
    "\n",
    "        self.UN_PROCESSED = 0\n",
    "        self.LONELY_POINT = -1\n",
    "        self.A_LARGE_NUM = 100000000\n",
    "\n",
    "    def get_neighbors_and_touching_area(self, input_3d_img, restrict_area_3d=None):\n",
    "        \"\"\"\n",
    "        Parameters\n",
    "        ----------\n",
    "        input_3d_img\n",
    "        restrict_area_3d\n",
    "\n",
    "        Returns numpy array with each column representing two super voxels touching\n",
    "                -> shape: supervoxel_1, neighbor_1, touching_area(between supervoxel_1 and neighbor_1)\n",
    "                          supervoxel_1, neighbor_2, touching_area(between supervoxel_1 and neighbor_2)\n",
    "                          ...\n",
    "        -------\n",
    "\n",
    "        \"\"\"\n",
    "        self.input_3d_img = input_3d_img\n",
    "\n",
    "        if restrict_area_3d is None:\n",
    "            self.restrict_area_3d = np.array(input_3d_img==0, dtype=np.int8)\n",
    "        else:\n",
    "            self.restrict_area_3d = restrict_area_3d\n",
    "\n",
    "        unique_vals, unique_val_counts = np.unique(self.input_3d_img, return_counts=True)\n",
    "\n",
    "        unique_val_counts = unique_val_counts[unique_vals>0]\n",
    "        unique_vals = unique_vals[unique_vals>0]\n",
    "        sort_locs = np.argsort(unique_val_counts)[::-1]\n",
    "\n",
    "        self.unique_vals = unique_vals[sort_locs]\n",
    "\n",
    "        self.val_labels = dict()\n",
    "        for unique_val in self.unique_vals:\n",
    "            self.val_labels[unique_val] = self.UN_PROCESSED\n",
    "\n",
    "        self.val_outlayer_area = dict()\n",
    "        for idx, unique_val in enumerate(self.unique_vals):\n",
    "            # print(\"get val_outlayer area of all vals: \"+str(idx/len(self.unique_vals)))\n",
    "            self.val_outlayer_area[unique_val] = self.A_LARGE_NUM\n",
    "\n",
    "        \"\"\"\n",
    "        neighborhoods:\n",
    "        np array:\n",
    "        supervoxel1, neighbor_1, touching_area\n",
    "        supervoxel1, neighbor_2, touching_area\n",
    "        ...\n",
    "        \"\"\"\n",
    "        neighborhoods = []\n",
    "        for idx, current_val in enumerate(self.unique_vals):\n",
    "            # print('processing: '+str(idx/len(self.unique_vals))+' pixel val: '+str(current_val))\n",
    "            #if self.val_labels[current_val]!=self.UN_PROCESSED:\n",
    "            #    continue\n",
    "            valid_neighbor_vals = self.regionQuery(current_val)\n",
    "            if len(valid_neighbor_vals) != 0:\n",
    "                neighborhoods.append(valid_neighbor_vals)\n",
    "            # if len(valid_neighbor_vals)>0:\n",
    "            #     # print('Assign label '+str(current_val)+' to current val\\'s neighbors: '+str(valid_neighbor_vals))\n",
    "            #    self.val_labels[current_val] = current_val\n",
    "            #    self.growCluster(valid_neighbor_vals, current_val)\n",
    "            # else:\n",
    "            #    self.val_labels[current_val] = self.LONELY_POINT\n",
    "\n",
    "        # self.output_3d_img = self.input_3d_img\n",
    "        neighborhoods = np.vstack(neighborhoods)\n",
    "\n",
    "        # remove duplicate combinations\n",
    "        neighborhoods_sorted_pairs = neighborhoods[:,0:2][:, neighborhoods[:,0:2][0, :].argsort()]\n",
    "\n",
    "\n",
    "        ind = np.argsort(neighborhoods[:,0:2], axis=1)\n",
    "        neighborhoods_sorted_pairs = np.take_along_axis(neighborhoods[:,0:2], ind, axis=1)\n",
    "\n",
    "        _, indices_unique = np.unique(neighborhoods_sorted_pairs, axis=0, return_index=True)\n",
    "\n",
    "        neighborhoods_deduplicated = neighborhoods[indices_unique]\n",
    "\n",
    "        return neighborhoods_deduplicated\n",
    "\n",
    "    def get_outlayer_area(self, current_val):\n",
    "        current_crop_img, current_restrict_area = get_crop_by_pixel_val(self.input_3d_img, current_val,\n",
    "                                                                        boundary_extend=self.boundary_extend,\n",
    "                                                                        crop_another_3d_img_by_the_way=self.restrict_area_3d)\n",
    "        current_crop_img_onehot = np.array(current_crop_img==current_val, dtype=np.int8)\n",
    "        current_crop_img_onehot_outlayer = get_outlayer_of_a_3d_shape(current_crop_img_onehot)\n",
    "\n",
    "        assert current_crop_img_onehot_outlayer.shape == current_restrict_area.shape\n",
    "\n",
    "        current_crop_img_onehot_outlayer[current_restrict_area>0]=0\n",
    "        current_crop_outlayer_area = np.sum(current_crop_img_onehot_outlayer)\n",
    "\n",
    "        return current_crop_outlayer_area\n",
    "\n",
    "    def regionQuery(self, current_val):\n",
    "        current_crop_img, current_restrict_area = get_crop_by_pixel_val(self.input_3d_img, current_val,\n",
    "                                                                        boundary_extend=self.boundary_extend,\n",
    "                                                                        crop_another_3d_img_by_the_way=self.restrict_area_3d)\n",
    "\n",
    "        current_crop_img_onehot = np.array(current_crop_img==current_val, dtype=np.int8)\n",
    "        current_crop_img_onehot_outlayer = get_outlayer_of_a_3d_shape(current_crop_img_onehot)\n",
    "\n",
    "        assert current_crop_img_onehot_outlayer.shape == current_restrict_area.shape\n",
    "\n",
    "        current_crop_img_onehot_outlayer[current_restrict_area>0]=0\n",
    "        current_crop_outlayer_area = np.sum(current_crop_img_onehot_outlayer)\n",
    "\n",
    "        neighbor_vals, neighbor_val_counts = np.unique(current_crop_img[current_crop_img_onehot_outlayer>0], return_counts=True)\n",
    "        neighbor_val_counts = neighbor_val_counts[neighbor_vals>0]\n",
    "        neighbor_vals = neighbor_vals[neighbor_vals>0]\n",
    "\n",
    "        # print(\"current_crop_outlayer_area: \"+str(current_crop_outlayer_area))\n",
    "\n",
    "        valid_neighbor_vals = self.neighborCheck(current_val, neighbor_vals, neighbor_val_counts, current_crop_outlayer_area)\n",
    "\n",
    "\n",
    "        # print(\"valid_neighbor_vals: \"+str(valid_neighbor_vals))\n",
    "\n",
    "        return valid_neighbor_vals\n",
    "\n",
    "    def neighborCheck(self, current_val, neighbor_vals, neighbor_val_counts, current_crop_outlayer_area):\n",
    "        neighbor_val_counts = neighbor_val_counts[neighbor_vals>0]\n",
    "        neighbor_vals = neighbor_vals[neighbor_vals>0]\n",
    "\n",
    "        valid_neighbor_vals = np.empty((len(neighbor_vals), 3))\n",
    "        valid_neighbor_vals[:,0] = current_val\n",
    "        for idx, neighbor_val in enumerate(neighbor_vals):\n",
    "            # print(\"touching_area: \"+str(neighbor_val_counts[idx]), end=\"\\r\")\n",
    "            # valid_neighbor_vals_dict[neighbor_val] = neighbor_val_counts[idx]\n",
    "            valid_neighbor_vals[idx, 1] = neighbor_val\n",
    "            valid_neighbor_vals[idx, 2] = neighbor_val_counts[idx]\n",
    "\n",
    "        # double_checked_valid_neighbor_vals = []\n",
    "        # for valid_neighbor_val in valid_neighbor_vals_dict.keys():\n",
    "        #    if self.val_labels[valid_neighbor_val]==self.UN_PROCESSED or \\\n",
    "        #     self.val_labels[valid_neighbor_val]==self.LONELY_POINT:\n",
    "        #        double_checked_valid_neighbor_vals.append(valid_neighbor_val)\n",
    "\n",
    "        return valid_neighbor_vals\n",
    "\n",
    "    def add_ground_truth_node_labels(self, input_3d_img, groundtruth_img, neighbors_and_touching_area):\n",
    "        # add ground truth column to neighbors_and_touching_area matrix\n",
    "        neighbors_and_touching_area = np.c_[(neighbors_and_touching_area,\n",
    "                                                np.zeros(len(neighbors_and_touching_area)))]\n",
    "        unique_values = np.unique(np.append(neighbors_and_touching_area[:,0], neighbors_and_touching_area[:,1]))\n",
    "\n",
    "        # get the ground truth cell label for each super voxel\n",
    "        groundtruth_labels = {}\n",
    "        for idx, value in enumerate(unique_values):\n",
    "            # get values of groundtruth that overlap with each supervoxel\n",
    "            overlapping_voxels = groundtruth_img[np.where(input_3d_img == value)]\n",
    "            # get the most occuring groundtruth voxel label for each supervoxel\n",
    "            gt_label = np.bincount(overlapping_voxels.astype(int)).argmax()\n",
    "\n",
    "            groundtruth_labels[value] = gt_label\n",
    "\n",
    "        # set ground 4th column of neighbors_and_touching_area to 1\n",
    "        # if both supervoxels have the same groundtruth cell label, 0 otherwise\n",
    "        for idx, col in enumerate(neighbors_and_touching_area):\n",
    "            if groundtruth_labels[col[0]] == groundtruth_labels[col[1]]:\n",
    "                neighbors_and_touching_area[idx, 3] = 1\n",
    "\n",
    "        return neighbors_and_touching_area\n",
    "\n",
    "\n",
    "    def get_edges_with_voxel_size(self, neighbors, input_3d_img):\n",
    "        \"\"\"\n",
    "\n",
    "        Parameters\n",
    "        ----------\n",
    "        neighbors: numpy array with pair_id, voxel1, voxel2, touching_area\n",
    "\n",
    "        Returns\n",
    "        -------\n",
    "        numpy array with pair_id_1, voxel1(pair1), voxel2(pair1), pair_id_2, voxel(pair2), voxel(pair2), size of shared voxel_x <- pairs that share voxel_x\n",
    "\n",
    "        \"\"\"\n",
    "\n",
    "        unique_vals_all, unique_val_counts = np.unique(input_3d_img, return_counts=True)\n",
    "\n",
    "        # np array: voxel_id, size\n",
    "        voxel_sizes = np.transpose(np.stack((unique_vals_all, unique_val_counts)))\n",
    "\n",
    "        # get the unique values that are really present in nodes\n",
    "        unique_values = np.unique(np.append(neighbors[:,1], neighbors[:,2]))\n",
    "        all_combinations = []\n",
    "        for idx, unique_val in enumerate(unique_values):\n",
    "            # get the entries (combinations of voxels) that include that voxel\n",
    "            shared_entries = neighbors[np.where(np.logical_or(neighbors[:,1] == unique_val, neighbors[:,2]==unique_val))][:,0:3]\n",
    "            if len(shared_entries) > 1:\n",
    "                # combinations = np.stack(np.meshgrid(shared_entries), -1).reshape(-1, 2)\n",
    "                combinations = []\n",
    "                for i in range(0, len(shared_entries)-1):\n",
    "                    for j in range(i+1,len(shared_entries)):\n",
    "                        combinations.append(np.hstack((shared_entries[i], shared_entries[j])))\n",
    "                combinations = np.stack(combinations, axis=0)\n",
    "                # add voxel size\n",
    "                new_col = np.ones(len(combinations)) * voxel_sizes[np.where(voxel_sizes[:, 0] == unique_val)][0, 1]\n",
    "                combinations = np.c_[combinations, new_col]\n",
    "                all_combinations.append(combinations)\n",
    "\n",
    "        return np.vstack(all_combinations)\n",
    "\n",
    "    def build_networkx_graph(self, neighbors, edges_with_voxel_size, with_ground_truth=False):\n",
    "        G = nx.Graph()\n",
    "\n",
    "        # add nodes\n",
    "        G.add_nodes_from(list(neighbors[:,0]))\n",
    "\n",
    "        # add node attributes\n",
    "        attributes_dict = {}\n",
    "        if with_ground_truth:\n",
    "            for neighbor_pair in neighbors:\n",
    "                attributes_dict[neighbor_pair[0]] = {\"touching_area\": neighbor_pair[3],\n",
    "                                                     \"is_same_cell\": neighbor_pair[4]}\n",
    "        else:\n",
    "            for neighbor_pair in neighbors:\n",
    "                attributes_dict[neighbor_pair[0]] = {\"touching_area\": neighbor_pair[3]}\n",
    "        print(attributes_dict)\n",
    "        nx.set_node_attributes(G, attributes_dict)\n",
    "\n",
    "        return G"
   ],
   "metadata": {
    "collapsed": false,
    "pycharm": {
     "name": "#%%\n"
    }
   }
  },
  {
   "cell_type": "code",
   "execution_count": 172,
   "outputs": [],
   "source": [
    "super_vox_to_graph = Super_Vox_To_Graph()"
   ],
   "metadata": {
    "collapsed": false,
    "pycharm": {
     "name": "#%%\n"
    }
   }
  },
  {
   "cell_type": "code",
   "execution_count": 15,
   "outputs": [],
   "source": [
    "neighbors = super_vox_to_graph.get_neighbors_and_touching_area(seg_foreground_super_voxel_by_ws)"
   ],
   "metadata": {
    "collapsed": false,
    "pycharm": {
     "name": "#%%\n"
    }
   }
  },
  {
   "cell_type": "markdown",
   "source": [
    "#seg_foreground_super_voxel_by_ws\n",
    "#hand_seg\n",
    "len(neighbors)\n",
    "for n in neighbors:\n",
    "    #print(f\"n = {n}\")\n",
    "    x = neighbors[np.where(np.logical_and(neighbors[:,0] == n[1], neighbors[:,1] == n[0]))]\n",
    "    print(f\"x = {x}\")"
   ],
   "metadata": {
    "collapsed": false,
    "pycharm": {
     "name": "#%% md\n"
    }
   }
  },
  {
   "cell_type": "code",
   "source": [
    "neighbors_with_gt = super_vox_to_graph.add_ground_truth_node_labels(seg_foreground_super_voxel_by_ws,\n",
    "                                                                    hand_seg,\n",
    "                                                                    neighbors)"
   ],
   "metadata": {
    "collapsed": false,
    "pycharm": {
     "name": "#%%\n"
    }
   },
   "execution_count": 17,
   "outputs": []
  },
  {
   "cell_type": "code",
   "execution_count": 139,
   "outputs": [],
   "source": [
    "# add neighbor ids\n",
    "neighbors = np.c_[np.arange(len(neighbors)), neighbors]"
   ],
   "metadata": {
    "collapsed": false,
    "pycharm": {
     "name": "#%%\n"
    }
   }
  },
  {
   "cell_type": "code",
   "execution_count": 140,
   "outputs": [
    {
     "data": {
      "text/plain": "array([[0.000e+00, 1.000e+00, 2.000e+00, 1.600e+01],\n       [1.000e+00, 1.000e+00, 5.000e+00, 1.100e+01],\n       [2.000e+00, 1.000e+00, 8.000e+00, 2.000e+00],\n       ...,\n       [1.857e+03, 1.943e+03, 1.936e+03, 4.000e+00],\n       [1.858e+03, 1.938e+03, 1.940e+03, 2.000e+00],\n       [1.859e+03, 1.943e+03, 1.949e+03, 2.800e+01]])"
     },
     "execution_count": 140,
     "metadata": {},
     "output_type": "execute_result"
    }
   ],
   "source": [
    "neighbors"
   ],
   "metadata": {
    "collapsed": false,
    "pycharm": {
     "name": "#%%\n"
    }
   }
  },
  {
   "cell_type": "code",
   "execution_count": 143,
   "outputs": [],
   "source": [
    "edges_with_voxel_size = super_vox_to_graph.get_edges_with_voxel_size(neighbors, seg_foreground_super_voxel_by_ws)\n"
   ],
   "metadata": {
    "collapsed": false,
    "pycharm": {
     "name": "#%%\n"
    }
   }
  },
  {
   "cell_type": "code",
   "execution_count": 144,
   "outputs": [
    {
     "data": {
      "text/plain": "array([[0.000e+00, 1.000e+00, 2.000e+00, ..., 1.000e+00, 5.000e+00,\n        6.900e+01],\n       [0.000e+00, 1.000e+00, 2.000e+00, ..., 1.000e+00, 8.000e+00,\n        6.900e+01],\n       [1.000e+00, 1.000e+00, 5.000e+00, ..., 1.000e+00, 8.000e+00,\n        6.900e+01],\n       ...,\n       [1.853e+03, 1.943e+03, 1.927e+03, ..., 1.943e+03, 1.949e+03,\n        4.510e+02],\n       [1.857e+03, 1.943e+03, 1.936e+03, ..., 1.943e+03, 1.949e+03,\n        4.510e+02],\n       [1.830e+03, 1.950e+03, 1.888e+03, ..., 1.950e+03, 1.899e+03,\n        9.900e+02]])"
     },
     "execution_count": 144,
     "metadata": {},
     "output_type": "execute_result"
    }
   ],
   "source": [
    "edges_with_voxel_size"
   ],
   "metadata": {
    "collapsed": false,
    "pycharm": {
     "name": "#%%\n"
    }
   }
  },
  {
   "cell_type": "code",
   "execution_count": 173,
   "outputs": [
    {
     "name": "stdout",
     "output_type": "stream",
     "text": [
      "{0.0: {'touching_area': 16.0}, 1.0: {'touching_area': 11.0}, 2.0: {'touching_area': 2.0}, 3.0: {'touching_area': 2.0}, 4.0: {'touching_area': 1.0}, 5.0: {'touching_area': 3.0}, 6.0: {'touching_area': 1.0}, 7.0: {'touching_area': 5.0}, 8.0: {'touching_area': 16.0}, 9.0: {'touching_area': 3.0}, 10.0: {'touching_area': 1.0}, 11.0: {'touching_area': 24.0}, 12.0: {'touching_area': 4.0}, 13.0: {'touching_area': 8.0}, 14.0: {'touching_area': 42.0}, 15.0: {'touching_area': 5.0}, 16.0: {'touching_area': 18.0}, 17.0: {'touching_area': 4.0}, 18.0: {'touching_area': 25.0}, 19.0: {'touching_area': 54.0}, 20.0: {'touching_area': 2.0}, 21.0: {'touching_area': 3.0}, 22.0: {'touching_area': 4.0}, 23.0: {'touching_area': 33.0}, 24.0: {'touching_area': 8.0}, 25.0: {'touching_area': 17.0}, 26.0: {'touching_area': 19.0}, 27.0: {'touching_area': 26.0}, 28.0: {'touching_area': 3.0}, 29.0: {'touching_area': 1.0}, 30.0: {'touching_area': 1.0}, 31.0: {'touching_area': 4.0}, 32.0: {'touching_area': 5.0}, 33.0: {'touching_area': 1.0}, 34.0: {'touching_area': 3.0}, 35.0: {'touching_area': 3.0}, 36.0: {'touching_area': 4.0}, 37.0: {'touching_area': 29.0}, 38.0: {'touching_area': 33.0}, 39.0: {'touching_area': 10.0}, 40.0: {'touching_area': 1.0}, 41.0: {'touching_area': 11.0}, 42.0: {'touching_area': 29.0}, 43.0: {'touching_area': 2.0}, 44.0: {'touching_area': 7.0}, 45.0: {'touching_area': 28.0}, 46.0: {'touching_area': 29.0}, 47.0: {'touching_area': 5.0}, 48.0: {'touching_area': 7.0}, 49.0: {'touching_area': 5.0}, 50.0: {'touching_area': 13.0}, 51.0: {'touching_area': 44.0}, 52.0: {'touching_area': 23.0}, 53.0: {'touching_area': 10.0}, 54.0: {'touching_area': 2.0}, 55.0: {'touching_area': 14.0}, 56.0: {'touching_area': 26.0}, 57.0: {'touching_area': 32.0}, 58.0: {'touching_area': 1.0}, 59.0: {'touching_area': 26.0}, 60.0: {'touching_area': 17.0}, 61.0: {'touching_area': 17.0}, 62.0: {'touching_area': 11.0}, 63.0: {'touching_area': 11.0}, 64.0: {'touching_area': 8.0}, 65.0: {'touching_area': 28.0}, 66.0: {'touching_area': 3.0}, 67.0: {'touching_area': 2.0}, 68.0: {'touching_area': 25.0}, 69.0: {'touching_area': 84.0}, 70.0: {'touching_area': 18.0}, 71.0: {'touching_area': 30.0}, 72.0: {'touching_area': 27.0}, 73.0: {'touching_area': 68.0}, 74.0: {'touching_area': 42.0}, 75.0: {'touching_area': 2.0}, 76.0: {'touching_area': 1.0}, 77.0: {'touching_area': 2.0}, 78.0: {'touching_area': 2.0}, 79.0: {'touching_area': 2.0}, 80.0: {'touching_area': 1.0}, 81.0: {'touching_area': 6.0}, 82.0: {'touching_area': 3.0}, 83.0: {'touching_area': 13.0}, 84.0: {'touching_area': 8.0}, 85.0: {'touching_area': 1.0}, 86.0: {'touching_area': 4.0}, 87.0: {'touching_area': 6.0}, 88.0: {'touching_area': 2.0}, 89.0: {'touching_area': 26.0}, 90.0: {'touching_area': 1.0}, 91.0: {'touching_area': 54.0}, 92.0: {'touching_area': 8.0}, 93.0: {'touching_area': 2.0}, 94.0: {'touching_area': 4.0}, 95.0: {'touching_area': 2.0}, 96.0: {'touching_area': 31.0}, 97.0: {'touching_area': 13.0}, 98.0: {'touching_area': 9.0}, 99.0: {'touching_area': 20.0}, 100.0: {'touching_area': 23.0}, 101.0: {'touching_area': 7.0}, 102.0: {'touching_area': 17.0}, 103.0: {'touching_area': 8.0}, 104.0: {'touching_area': 4.0}, 105.0: {'touching_area': 2.0}, 106.0: {'touching_area': 1.0}, 107.0: {'touching_area': 4.0}, 108.0: {'touching_area': 6.0}, 109.0: {'touching_area': 29.0}, 110.0: {'touching_area': 6.0}, 111.0: {'touching_area': 7.0}, 112.0: {'touching_area': 79.0}, 113.0: {'touching_area': 4.0}, 114.0: {'touching_area': 4.0}, 115.0: {'touching_area': 37.0}, 116.0: {'touching_area': 7.0}, 117.0: {'touching_area': 1.0}, 118.0: {'touching_area': 8.0}, 119.0: {'touching_area': 3.0}, 120.0: {'touching_area': 7.0}, 121.0: {'touching_area': 29.0}, 122.0: {'touching_area': 2.0}, 123.0: {'touching_area': 11.0}, 124.0: {'touching_area': 22.0}, 125.0: {'touching_area': 1.0}, 126.0: {'touching_area': 4.0}, 127.0: {'touching_area': 8.0}, 128.0: {'touching_area': 40.0}, 129.0: {'touching_area': 16.0}, 130.0: {'touching_area': 1.0}, 131.0: {'touching_area': 4.0}, 132.0: {'touching_area': 3.0}, 133.0: {'touching_area': 13.0}, 134.0: {'touching_area': 2.0}, 135.0: {'touching_area': 18.0}, 136.0: {'touching_area': 7.0}, 137.0: {'touching_area': 4.0}, 138.0: {'touching_area': 66.0}, 139.0: {'touching_area': 2.0}, 140.0: {'touching_area': 21.0}, 141.0: {'touching_area': 15.0}, 142.0: {'touching_area': 8.0}, 143.0: {'touching_area': 9.0}, 144.0: {'touching_area': 2.0}, 145.0: {'touching_area': 21.0}, 146.0: {'touching_area': 32.0}, 147.0: {'touching_area': 4.0}, 148.0: {'touching_area': 2.0}, 149.0: {'touching_area': 23.0}, 150.0: {'touching_area': 2.0}, 151.0: {'touching_area': 17.0}, 152.0: {'touching_area': 19.0}, 153.0: {'touching_area': 2.0}, 154.0: {'touching_area': 1.0}, 155.0: {'touching_area': 3.0}, 156.0: {'touching_area': 3.0}, 157.0: {'touching_area': 19.0}, 158.0: {'touching_area': 2.0}, 159.0: {'touching_area': 3.0}, 160.0: {'touching_area': 6.0}, 161.0: {'touching_area': 3.0}, 162.0: {'touching_area': 21.0}, 163.0: {'touching_area': 17.0}, 164.0: {'touching_area': 10.0}, 165.0: {'touching_area': 3.0}, 166.0: {'touching_area': 34.0}, 167.0: {'touching_area': 57.0}, 168.0: {'touching_area': 6.0}, 169.0: {'touching_area': 25.0}, 170.0: {'touching_area': 9.0}, 171.0: {'touching_area': 13.0}, 172.0: {'touching_area': 2.0}, 173.0: {'touching_area': 44.0}, 174.0: {'touching_area': 56.0}, 175.0: {'touching_area': 62.0}, 176.0: {'touching_area': 6.0}, 177.0: {'touching_area': 11.0}, 178.0: {'touching_area': 2.0}, 179.0: {'touching_area': 24.0}, 180.0: {'touching_area': 36.0}, 181.0: {'touching_area': 38.0}, 182.0: {'touching_area': 25.0}, 183.0: {'touching_area': 18.0}, 184.0: {'touching_area': 3.0}, 185.0: {'touching_area': 1.0}, 186.0: {'touching_area': 1.0}, 187.0: {'touching_area': 2.0}, 188.0: {'touching_area': 47.0}, 189.0: {'touching_area': 17.0}, 190.0: {'touching_area': 8.0}, 191.0: {'touching_area': 77.0}, 192.0: {'touching_area': 3.0}, 193.0: {'touching_area': 5.0}, 194.0: {'touching_area': 5.0}, 195.0: {'touching_area': 2.0}, 196.0: {'touching_area': 21.0}, 197.0: {'touching_area': 1.0}, 198.0: {'touching_area': 2.0}, 199.0: {'touching_area': 34.0}, 200.0: {'touching_area': 12.0}, 201.0: {'touching_area': 13.0}, 202.0: {'touching_area': 19.0}, 203.0: {'touching_area': 45.0}, 204.0: {'touching_area': 13.0}, 205.0: {'touching_area': 9.0}, 206.0: {'touching_area': 22.0}, 207.0: {'touching_area': 8.0}, 208.0: {'touching_area': 46.0}, 209.0: {'touching_area': 10.0}, 210.0: {'touching_area': 13.0}, 211.0: {'touching_area': 9.0}, 212.0: {'touching_area': 11.0}, 213.0: {'touching_area': 45.0}, 214.0: {'touching_area': 6.0}, 215.0: {'touching_area': 1.0}, 216.0: {'touching_area': 7.0}, 217.0: {'touching_area': 10.0}, 218.0: {'touching_area': 3.0}, 219.0: {'touching_area': 3.0}, 220.0: {'touching_area': 5.0}, 221.0: {'touching_area': 2.0}, 222.0: {'touching_area': 28.0}, 223.0: {'touching_area': 8.0}, 224.0: {'touching_area': 7.0}, 225.0: {'touching_area': 12.0}, 226.0: {'touching_area': 1.0}, 227.0: {'touching_area': 1.0}, 228.0: {'touching_area': 29.0}, 229.0: {'touching_area': 34.0}, 230.0: {'touching_area': 4.0}, 231.0: {'touching_area': 1.0}, 232.0: {'touching_area': 11.0}, 233.0: {'touching_area': 65.0}, 234.0: {'touching_area': 53.0}, 235.0: {'touching_area': 4.0}, 236.0: {'touching_area': 22.0}, 237.0: {'touching_area': 1.0}, 238.0: {'touching_area': 22.0}, 239.0: {'touching_area': 4.0}, 240.0: {'touching_area': 1.0}, 241.0: {'touching_area': 2.0}, 242.0: {'touching_area': 70.0}, 243.0: {'touching_area': 6.0}, 244.0: {'touching_area': 9.0}, 245.0: {'touching_area': 39.0}, 246.0: {'touching_area': 9.0}, 247.0: {'touching_area': 7.0}, 248.0: {'touching_area': 13.0}, 249.0: {'touching_area': 44.0}, 250.0: {'touching_area': 30.0}, 251.0: {'touching_area': 3.0}, 252.0: {'touching_area': 3.0}, 253.0: {'touching_area': 11.0}, 254.0: {'touching_area': 5.0}, 255.0: {'touching_area': 16.0}, 256.0: {'touching_area': 21.0}, 257.0: {'touching_area': 16.0}, 258.0: {'touching_area': 9.0}, 259.0: {'touching_area': 1.0}, 260.0: {'touching_area': 6.0}, 261.0: {'touching_area': 9.0}, 262.0: {'touching_area': 34.0}, 263.0: {'touching_area': 25.0}, 264.0: {'touching_area': 10.0}, 265.0: {'touching_area': 33.0}, 266.0: {'touching_area': 22.0}, 267.0: {'touching_area': 14.0}, 268.0: {'touching_area': 33.0}, 269.0: {'touching_area': 10.0}, 270.0: {'touching_area': 13.0}, 271.0: {'touching_area': 17.0}, 272.0: {'touching_area': 5.0}, 273.0: {'touching_area': 9.0}, 274.0: {'touching_area': 37.0}, 275.0: {'touching_area': 15.0}, 276.0: {'touching_area': 1.0}, 277.0: {'touching_area': 8.0}, 278.0: {'touching_area': 1.0}, 279.0: {'touching_area': 39.0}, 280.0: {'touching_area': 19.0}, 281.0: {'touching_area': 68.0}, 282.0: {'touching_area': 5.0}, 283.0: {'touching_area': 19.0}, 284.0: {'touching_area': 19.0}, 285.0: {'touching_area': 20.0}, 286.0: {'touching_area': 2.0}, 287.0: {'touching_area': 3.0}, 288.0: {'touching_area': 1.0}, 289.0: {'touching_area': 35.0}, 290.0: {'touching_area': 9.0}, 291.0: {'touching_area': 2.0}, 292.0: {'touching_area': 5.0}, 293.0: {'touching_area': 3.0}, 294.0: {'touching_area': 7.0}, 295.0: {'touching_area': 58.0}, 296.0: {'touching_area': 49.0}, 297.0: {'touching_area': 4.0}, 298.0: {'touching_area': 21.0}, 299.0: {'touching_area': 13.0}, 300.0: {'touching_area': 2.0}, 301.0: {'touching_area': 26.0}, 302.0: {'touching_area': 12.0}, 303.0: {'touching_area': 4.0}, 304.0: {'touching_area': 3.0}, 305.0: {'touching_area': 18.0}, 306.0: {'touching_area': 3.0}, 307.0: {'touching_area': 30.0}, 308.0: {'touching_area': 6.0}, 309.0: {'touching_area': 22.0}, 310.0: {'touching_area': 30.0}, 311.0: {'touching_area': 28.0}, 312.0: {'touching_area': 15.0}, 313.0: {'touching_area': 11.0}, 314.0: {'touching_area': 9.0}, 315.0: {'touching_area': 15.0}, 316.0: {'touching_area': 15.0}, 317.0: {'touching_area': 16.0}, 318.0: {'touching_area': 12.0}, 319.0: {'touching_area': 12.0}, 320.0: {'touching_area': 15.0}, 321.0: {'touching_area': 16.0}, 322.0: {'touching_area': 51.0}, 323.0: {'touching_area': 2.0}, 324.0: {'touching_area': 5.0}, 325.0: {'touching_area': 5.0}, 326.0: {'touching_area': 51.0}, 327.0: {'touching_area': 5.0}, 328.0: {'touching_area': 51.0}, 329.0: {'touching_area': 44.0}, 330.0: {'touching_area': 9.0}, 331.0: {'touching_area': 19.0}, 332.0: {'touching_area': 1.0}, 333.0: {'touching_area': 52.0}, 334.0: {'touching_area': 2.0}, 335.0: {'touching_area': 12.0}, 336.0: {'touching_area': 16.0}, 337.0: {'touching_area': 2.0}, 338.0: {'touching_area': 51.0}, 339.0: {'touching_area': 60.0}, 340.0: {'touching_area': 15.0}, 341.0: {'touching_area': 35.0}, 342.0: {'touching_area': 24.0}, 343.0: {'touching_area': 23.0}, 344.0: {'touching_area': 25.0}, 345.0: {'touching_area': 27.0}, 346.0: {'touching_area': 3.0}, 347.0: {'touching_area': 17.0}, 348.0: {'touching_area': 10.0}, 349.0: {'touching_area': 21.0}, 350.0: {'touching_area': 1.0}, 351.0: {'touching_area': 3.0}, 352.0: {'touching_area': 70.0}, 353.0: {'touching_area': 22.0}, 354.0: {'touching_area': 23.0}, 355.0: {'touching_area': 13.0}, 356.0: {'touching_area': 1.0}, 357.0: {'touching_area': 34.0}, 358.0: {'touching_area': 31.0}, 359.0: {'touching_area': 32.0}, 360.0: {'touching_area': 1.0}, 361.0: {'touching_area': 7.0}, 362.0: {'touching_area': 4.0}, 363.0: {'touching_area': 43.0}, 364.0: {'touching_area': 20.0}, 365.0: {'touching_area': 47.0}, 366.0: {'touching_area': 1.0}, 367.0: {'touching_area': 5.0}, 368.0: {'touching_area': 3.0}, 369.0: {'touching_area': 53.0}, 370.0: {'touching_area': 3.0}, 371.0: {'touching_area': 9.0}, 372.0: {'touching_area': 22.0}, 373.0: {'touching_area': 41.0}, 374.0: {'touching_area': 1.0}, 375.0: {'touching_area': 16.0}, 376.0: {'touching_area': 15.0}, 377.0: {'touching_area': 11.0}, 378.0: {'touching_area': 14.0}, 379.0: {'touching_area': 11.0}, 380.0: {'touching_area': 46.0}, 381.0: {'touching_area': 15.0}, 382.0: {'touching_area': 23.0}, 383.0: {'touching_area': 1.0}, 384.0: {'touching_area': 9.0}, 385.0: {'touching_area': 14.0}, 386.0: {'touching_area': 2.0}, 387.0: {'touching_area': 31.0}, 388.0: {'touching_area': 63.0}, 389.0: {'touching_area': 13.0}, 390.0: {'touching_area': 3.0}, 391.0: {'touching_area': 29.0}, 392.0: {'touching_area': 2.0}, 393.0: {'touching_area': 22.0}, 394.0: {'touching_area': 38.0}, 395.0: {'touching_area': 30.0}, 396.0: {'touching_area': 1.0}, 397.0: {'touching_area': 6.0}, 398.0: {'touching_area': 7.0}, 399.0: {'touching_area': 19.0}, 400.0: {'touching_area': 11.0}, 401.0: {'touching_area': 13.0}, 402.0: {'touching_area': 3.0}, 403.0: {'touching_area': 44.0}, 404.0: {'touching_area': 10.0}, 405.0: {'touching_area': 26.0}, 406.0: {'touching_area': 7.0}, 407.0: {'touching_area': 34.0}, 408.0: {'touching_area': 19.0}, 409.0: {'touching_area': 24.0}, 410.0: {'touching_area': 65.0}, 411.0: {'touching_area': 6.0}, 412.0: {'touching_area': 4.0}, 413.0: {'touching_area': 11.0}, 414.0: {'touching_area': 1.0}, 415.0: {'touching_area': 4.0}, 416.0: {'touching_area': 18.0}, 417.0: {'touching_area': 3.0}, 418.0: {'touching_area': 6.0}, 419.0: {'touching_area': 19.0}, 420.0: {'touching_area': 3.0}, 421.0: {'touching_area': 7.0}, 422.0: {'touching_area': 27.0}, 423.0: {'touching_area': 5.0}, 424.0: {'touching_area': 8.0}, 425.0: {'touching_area': 3.0}, 426.0: {'touching_area': 16.0}, 427.0: {'touching_area': 20.0}, 428.0: {'touching_area': 14.0}, 429.0: {'touching_area': 38.0}, 430.0: {'touching_area': 21.0}, 431.0: {'touching_area': 1.0}, 432.0: {'touching_area': 7.0}, 433.0: {'touching_area': 20.0}, 434.0: {'touching_area': 10.0}, 435.0: {'touching_area': 39.0}, 436.0: {'touching_area': 24.0}, 437.0: {'touching_area': 2.0}, 438.0: {'touching_area': 1.0}, 439.0: {'touching_area': 15.0}, 440.0: {'touching_area': 12.0}, 441.0: {'touching_area': 8.0}, 442.0: {'touching_area': 12.0}, 443.0: {'touching_area': 26.0}, 444.0: {'touching_area': 22.0}, 445.0: {'touching_area': 62.0}, 446.0: {'touching_area': 1.0}, 447.0: {'touching_area': 1.0}, 448.0: {'touching_area': 4.0}, 449.0: {'touching_area': 6.0}, 450.0: {'touching_area': 57.0}, 451.0: {'touching_area': 29.0}, 452.0: {'touching_area': 17.0}, 453.0: {'touching_area': 20.0}, 454.0: {'touching_area': 1.0}, 455.0: {'touching_area': 6.0}, 456.0: {'touching_area': 34.0}, 457.0: {'touching_area': 4.0}, 458.0: {'touching_area': 39.0}, 459.0: {'touching_area': 14.0}, 460.0: {'touching_area': 16.0}, 461.0: {'touching_area': 2.0}, 462.0: {'touching_area': 80.0}, 463.0: {'touching_area': 25.0}, 464.0: {'touching_area': 8.0}, 465.0: {'touching_area': 4.0}, 466.0: {'touching_area': 16.0}, 467.0: {'touching_area': 17.0}, 468.0: {'touching_area': 2.0}, 469.0: {'touching_area': 10.0}, 470.0: {'touching_area': 8.0}, 471.0: {'touching_area': 33.0}, 472.0: {'touching_area': 24.0}, 473.0: {'touching_area': 25.0}, 474.0: {'touching_area': 35.0}, 475.0: {'touching_area': 10.0}, 476.0: {'touching_area': 12.0}, 477.0: {'touching_area': 5.0}, 478.0: {'touching_area': 3.0}, 479.0: {'touching_area': 11.0}, 480.0: {'touching_area': 7.0}, 481.0: {'touching_area': 6.0}, 482.0: {'touching_area': 10.0}, 483.0: {'touching_area': 27.0}, 484.0: {'touching_area': 15.0}, 485.0: {'touching_area': 33.0}, 486.0: {'touching_area': 30.0}, 487.0: {'touching_area': 21.0}, 488.0: {'touching_area': 29.0}, 489.0: {'touching_area': 15.0}, 490.0: {'touching_area': 15.0}, 491.0: {'touching_area': 34.0}, 492.0: {'touching_area': 16.0}, 493.0: {'touching_area': 1.0}, 494.0: {'touching_area': 5.0}, 495.0: {'touching_area': 1.0}, 496.0: {'touching_area': 12.0}, 497.0: {'touching_area': 28.0}, 498.0: {'touching_area': 24.0}, 499.0: {'touching_area': 4.0}, 500.0: {'touching_area': 9.0}, 501.0: {'touching_area': 1.0}, 502.0: {'touching_area': 23.0}, 503.0: {'touching_area': 11.0}, 504.0: {'touching_area': 17.0}, 505.0: {'touching_area': 1.0}, 506.0: {'touching_area': 8.0}, 507.0: {'touching_area': 32.0}, 508.0: {'touching_area': 8.0}, 509.0: {'touching_area': 41.0}, 510.0: {'touching_area': 7.0}, 511.0: {'touching_area': 2.0}, 512.0: {'touching_area': 28.0}, 513.0: {'touching_area': 21.0}, 514.0: {'touching_area': 14.0}, 515.0: {'touching_area': 23.0}, 516.0: {'touching_area': 4.0}, 517.0: {'touching_area': 28.0}, 518.0: {'touching_area': 16.0}, 519.0: {'touching_area': 17.0}, 520.0: {'touching_area': 1.0}, 521.0: {'touching_area': 8.0}, 522.0: {'touching_area': 8.0}, 523.0: {'touching_area': 7.0}, 524.0: {'touching_area': 40.0}, 525.0: {'touching_area': 21.0}, 526.0: {'touching_area': 5.0}, 527.0: {'touching_area': 24.0}, 528.0: {'touching_area': 7.0}, 529.0: {'touching_area': 32.0}, 530.0: {'touching_area': 2.0}, 531.0: {'touching_area': 3.0}, 532.0: {'touching_area': 7.0}, 533.0: {'touching_area': 21.0}, 534.0: {'touching_area': 9.0}, 535.0: {'touching_area': 34.0}, 536.0: {'touching_area': 17.0}, 537.0: {'touching_area': 16.0}, 538.0: {'touching_area': 1.0}, 539.0: {'touching_area': 38.0}, 540.0: {'touching_area': 2.0}, 541.0: {'touching_area': 4.0}, 542.0: {'touching_area': 5.0}, 543.0: {'touching_area': 15.0}, 544.0: {'touching_area': 22.0}, 545.0: {'touching_area': 24.0}, 546.0: {'touching_area': 8.0}, 547.0: {'touching_area': 4.0}, 548.0: {'touching_area': 4.0}, 549.0: {'touching_area': 24.0}, 550.0: {'touching_area': 3.0}, 551.0: {'touching_area': 17.0}, 552.0: {'touching_area': 9.0}, 553.0: {'touching_area': 5.0}, 554.0: {'touching_area': 10.0}, 555.0: {'touching_area': 7.0}, 556.0: {'touching_area': 1.0}, 557.0: {'touching_area': 36.0}, 558.0: {'touching_area': 18.0}, 559.0: {'touching_area': 13.0}, 560.0: {'touching_area': 4.0}, 561.0: {'touching_area': 6.0}, 562.0: {'touching_area': 14.0}, 563.0: {'touching_area': 18.0}, 564.0: {'touching_area': 15.0}, 565.0: {'touching_area': 16.0}, 566.0: {'touching_area': 7.0}, 567.0: {'touching_area': 13.0}, 568.0: {'touching_area': 6.0}, 569.0: {'touching_area': 35.0}, 570.0: {'touching_area': 34.0}, 571.0: {'touching_area': 4.0}, 572.0: {'touching_area': 40.0}, 573.0: {'touching_area': 38.0}, 574.0: {'touching_area': 1.0}, 575.0: {'touching_area': 7.0}, 576.0: {'touching_area': 59.0}, 577.0: {'touching_area': 4.0}, 578.0: {'touching_area': 4.0}, 579.0: {'touching_area': 4.0}, 580.0: {'touching_area': 8.0}, 581.0: {'touching_area': 29.0}, 582.0: {'touching_area': 36.0}, 583.0: {'touching_area': 37.0}, 584.0: {'touching_area': 6.0}, 585.0: {'touching_area': 9.0}, 586.0: {'touching_area': 4.0}, 587.0: {'touching_area': 5.0}, 588.0: {'touching_area': 8.0}, 589.0: {'touching_area': 4.0}, 590.0: {'touching_area': 14.0}, 591.0: {'touching_area': 31.0}, 592.0: {'touching_area': 26.0}, 593.0: {'touching_area': 1.0}, 594.0: {'touching_area': 16.0}, 595.0: {'touching_area': 45.0}, 596.0: {'touching_area': 40.0}, 597.0: {'touching_area': 1.0}, 598.0: {'touching_area': 10.0}, 599.0: {'touching_area': 63.0}, 600.0: {'touching_area': 9.0}, 601.0: {'touching_area': 9.0}, 602.0: {'touching_area': 3.0}, 603.0: {'touching_area': 3.0}, 604.0: {'touching_area': 29.0}, 605.0: {'touching_area': 9.0}, 606.0: {'touching_area': 6.0}, 607.0: {'touching_area': 4.0}, 608.0: {'touching_area': 18.0}, 609.0: {'touching_area': 22.0}, 610.0: {'touching_area': 15.0}, 611.0: {'touching_area': 26.0}, 612.0: {'touching_area': 22.0}, 613.0: {'touching_area': 3.0}, 614.0: {'touching_area': 106.0}, 615.0: {'touching_area': 2.0}, 616.0: {'touching_area': 31.0}, 617.0: {'touching_area': 4.0}, 618.0: {'touching_area': 10.0}, 619.0: {'touching_area': 18.0}, 620.0: {'touching_area': 38.0}, 621.0: {'touching_area': 8.0}, 622.0: {'touching_area': 6.0}, 623.0: {'touching_area': 5.0}, 624.0: {'touching_area': 12.0}, 625.0: {'touching_area': 3.0}, 626.0: {'touching_area': 37.0}, 627.0: {'touching_area': 30.0}, 628.0: {'touching_area': 1.0}, 629.0: {'touching_area': 1.0}, 630.0: {'touching_area': 2.0}, 631.0: {'touching_area': 4.0}, 632.0: {'touching_area': 2.0}, 633.0: {'touching_area': 33.0}, 634.0: {'touching_area': 4.0}, 635.0: {'touching_area': 6.0}, 636.0: {'touching_area': 2.0}, 637.0: {'touching_area': 2.0}, 638.0: {'touching_area': 2.0}, 639.0: {'touching_area': 11.0}, 640.0: {'touching_area': 8.0}, 641.0: {'touching_area': 43.0}, 642.0: {'touching_area': 23.0}, 643.0: {'touching_area': 4.0}, 644.0: {'touching_area': 3.0}, 645.0: {'touching_area': 10.0}, 646.0: {'touching_area': 7.0}, 647.0: {'touching_area': 13.0}, 648.0: {'touching_area': 21.0}, 649.0: {'touching_area': 2.0}, 650.0: {'touching_area': 19.0}, 651.0: {'touching_area': 23.0}, 652.0: {'touching_area': 11.0}, 653.0: {'touching_area': 106.0}, 654.0: {'touching_area': 3.0}, 655.0: {'touching_area': 1.0}, 656.0: {'touching_area': 5.0}, 657.0: {'touching_area': 5.0}, 658.0: {'touching_area': 2.0}, 659.0: {'touching_area': 46.0}, 660.0: {'touching_area': 3.0}, 661.0: {'touching_area': 6.0}, 662.0: {'touching_area': 3.0}, 663.0: {'touching_area': 33.0}, 664.0: {'touching_area': 13.0}, 665.0: {'touching_area': 1.0}, 666.0: {'touching_area': 3.0}, 667.0: {'touching_area': 4.0}, 668.0: {'touching_area': 10.0}, 669.0: {'touching_area': 31.0}, 670.0: {'touching_area': 4.0}, 671.0: {'touching_area': 1.0}, 672.0: {'touching_area': 16.0}, 673.0: {'touching_area': 15.0}, 674.0: {'touching_area': 34.0}, 675.0: {'touching_area': 7.0}, 676.0: {'touching_area': 3.0}, 677.0: {'touching_area': 68.0}, 678.0: {'touching_area': 17.0}, 679.0: {'touching_area': 1.0}, 680.0: {'touching_area': 1.0}, 681.0: {'touching_area': 2.0}, 682.0: {'touching_area': 10.0}, 683.0: {'touching_area': 26.0}, 684.0: {'touching_area': 34.0}, 685.0: {'touching_area': 35.0}, 686.0: {'touching_area': 5.0}, 687.0: {'touching_area': 42.0}, 688.0: {'touching_area': 36.0}, 689.0: {'touching_area': 4.0}, 690.0: {'touching_area': 1.0}, 691.0: {'touching_area': 3.0}, 692.0: {'touching_area': 1.0}, 693.0: {'touching_area': 3.0}, 694.0: {'touching_area': 5.0}, 695.0: {'touching_area': 11.0}, 696.0: {'touching_area': 1.0}, 697.0: {'touching_area': 50.0}, 698.0: {'touching_area': 1.0}, 699.0: {'touching_area': 34.0}, 700.0: {'touching_area': 2.0}, 701.0: {'touching_area': 58.0}, 702.0: {'touching_area': 67.0}, 703.0: {'touching_area': 26.0}, 704.0: {'touching_area': 54.0}, 705.0: {'touching_area': 4.0}, 706.0: {'touching_area': 47.0}, 707.0: {'touching_area': 45.0}, 708.0: {'touching_area': 20.0}, 709.0: {'touching_area': 36.0}, 710.0: {'touching_area': 8.0}, 711.0: {'touching_area': 8.0}, 712.0: {'touching_area': 47.0}, 713.0: {'touching_area': 2.0}, 714.0: {'touching_area': 10.0}, 715.0: {'touching_area': 14.0}, 716.0: {'touching_area': 27.0}, 717.0: {'touching_area': 50.0}, 718.0: {'touching_area': 51.0}, 719.0: {'touching_area': 31.0}, 720.0: {'touching_area': 15.0}, 721.0: {'touching_area': 50.0}, 722.0: {'touching_area': 4.0}, 723.0: {'touching_area': 15.0}, 724.0: {'touching_area': 19.0}, 725.0: {'touching_area': 55.0}, 726.0: {'touching_area': 2.0}, 727.0: {'touching_area': 13.0}, 728.0: {'touching_area': 73.0}, 729.0: {'touching_area': 74.0}, 730.0: {'touching_area': 40.0}, 731.0: {'touching_area': 15.0}, 732.0: {'touching_area': 15.0}, 733.0: {'touching_area': 1.0}, 734.0: {'touching_area': 4.0}, 735.0: {'touching_area': 6.0}, 736.0: {'touching_area': 5.0}, 737.0: {'touching_area': 2.0}, 738.0: {'touching_area': 8.0}, 739.0: {'touching_area': 14.0}, 740.0: {'touching_area': 27.0}, 741.0: {'touching_area': 1.0}, 742.0: {'touching_area': 2.0}, 743.0: {'touching_area': 41.0}, 744.0: {'touching_area': 8.0}, 745.0: {'touching_area': 16.0}, 746.0: {'touching_area': 1.0}, 747.0: {'touching_area': 9.0}, 748.0: {'touching_area': 30.0}, 749.0: {'touching_area': 32.0}, 750.0: {'touching_area': 30.0}, 751.0: {'touching_area': 3.0}, 752.0: {'touching_area': 11.0}, 753.0: {'touching_area': 4.0}, 754.0: {'touching_area': 1.0}, 755.0: {'touching_area': 48.0}, 756.0: {'touching_area': 4.0}, 757.0: {'touching_area': 4.0}, 758.0: {'touching_area': 2.0}, 759.0: {'touching_area': 21.0}, 760.0: {'touching_area': 13.0}, 761.0: {'touching_area': 20.0}, 762.0: {'touching_area': 19.0}, 763.0: {'touching_area': 26.0}, 764.0: {'touching_area': 19.0}, 765.0: {'touching_area': 2.0}, 766.0: {'touching_area': 24.0}, 767.0: {'touching_area': 2.0}, 768.0: {'touching_area': 18.0}, 769.0: {'touching_area': 15.0}, 770.0: {'touching_area': 3.0}, 771.0: {'touching_area': 13.0}, 772.0: {'touching_area': 1.0}, 773.0: {'touching_area': 7.0}, 774.0: {'touching_area': 66.0}, 775.0: {'touching_area': 20.0}, 776.0: {'touching_area': 12.0}, 777.0: {'touching_area': 36.0}, 778.0: {'touching_area': 45.0}, 779.0: {'touching_area': 40.0}, 780.0: {'touching_area': 23.0}, 781.0: {'touching_area': 31.0}, 782.0: {'touching_area': 23.0}, 783.0: {'touching_area': 12.0}, 784.0: {'touching_area': 8.0}, 785.0: {'touching_area': 3.0}, 786.0: {'touching_area': 46.0}, 787.0: {'touching_area': 2.0}, 788.0: {'touching_area': 22.0}, 789.0: {'touching_area': 18.0}, 790.0: {'touching_area': 1.0}, 791.0: {'touching_area': 1.0}, 792.0: {'touching_area': 13.0}, 793.0: {'touching_area': 70.0}, 794.0: {'touching_area': 9.0}, 795.0: {'touching_area': 8.0}, 796.0: {'touching_area': 8.0}, 797.0: {'touching_area': 17.0}, 798.0: {'touching_area': 12.0}, 799.0: {'touching_area': 25.0}, 800.0: {'touching_area': 5.0}, 801.0: {'touching_area': 2.0}, 802.0: {'touching_area': 9.0}, 803.0: {'touching_area': 4.0}, 804.0: {'touching_area': 9.0}, 805.0: {'touching_area': 2.0}, 806.0: {'touching_area': 3.0}, 807.0: {'touching_area': 4.0}, 808.0: {'touching_area': 2.0}, 809.0: {'touching_area': 1.0}, 810.0: {'touching_area': 21.0}, 811.0: {'touching_area': 93.0}, 812.0: {'touching_area': 71.0}, 813.0: {'touching_area': 11.0}, 814.0: {'touching_area': 16.0}, 815.0: {'touching_area': 5.0}, 816.0: {'touching_area': 2.0}, 817.0: {'touching_area': 1.0}, 818.0: {'touching_area': 4.0}, 819.0: {'touching_area': 3.0}, 820.0: {'touching_area': 3.0}, 821.0: {'touching_area': 2.0}, 822.0: {'touching_area': 6.0}, 823.0: {'touching_area': 26.0}, 824.0: {'touching_area': 1.0}, 825.0: {'touching_area': 3.0}, 826.0: {'touching_area': 25.0}, 827.0: {'touching_area': 7.0}, 828.0: {'touching_area': 13.0}, 829.0: {'touching_area': 21.0}, 830.0: {'touching_area': 15.0}, 831.0: {'touching_area': 29.0}, 832.0: {'touching_area': 7.0}, 833.0: {'touching_area': 31.0}, 834.0: {'touching_area': 3.0}, 835.0: {'touching_area': 9.0}, 836.0: {'touching_area': 6.0}, 837.0: {'touching_area': 5.0}, 838.0: {'touching_area': 2.0}, 839.0: {'touching_area': 13.0}, 840.0: {'touching_area': 8.0}, 841.0: {'touching_area': 21.0}, 842.0: {'touching_area': 4.0}, 843.0: {'touching_area': 5.0}, 844.0: {'touching_area': 2.0}, 845.0: {'touching_area': 7.0}, 846.0: {'touching_area': 29.0}, 847.0: {'touching_area': 2.0}, 848.0: {'touching_area': 1.0}, 849.0: {'touching_area': 1.0}, 850.0: {'touching_area': 21.0}, 851.0: {'touching_area': 9.0}, 852.0: {'touching_area': 12.0}, 853.0: {'touching_area': 20.0}, 854.0: {'touching_area': 5.0}, 855.0: {'touching_area': 26.0}, 856.0: {'touching_area': 96.0}, 857.0: {'touching_area': 8.0}, 858.0: {'touching_area': 2.0}, 859.0: {'touching_area': 29.0}, 860.0: {'touching_area': 23.0}, 861.0: {'touching_area': 13.0}, 862.0: {'touching_area': 5.0}, 863.0: {'touching_area': 1.0}, 864.0: {'touching_area': 4.0}, 865.0: {'touching_area': 26.0}, 866.0: {'touching_area': 7.0}, 867.0: {'touching_area': 18.0}, 868.0: {'touching_area': 9.0}, 869.0: {'touching_area': 11.0}, 870.0: {'touching_area': 3.0}, 871.0: {'touching_area': 3.0}, 872.0: {'touching_area': 15.0}, 873.0: {'touching_area': 3.0}, 874.0: {'touching_area': 49.0}, 875.0: {'touching_area': 47.0}, 876.0: {'touching_area': 2.0}, 877.0: {'touching_area': 4.0}, 878.0: {'touching_area': 17.0}, 879.0: {'touching_area': 3.0}, 880.0: {'touching_area': 2.0}, 881.0: {'touching_area': 2.0}, 882.0: {'touching_area': 2.0}, 883.0: {'touching_area': 1.0}, 884.0: {'touching_area': 8.0}, 885.0: {'touching_area': 2.0}, 886.0: {'touching_area': 49.0}, 887.0: {'touching_area': 41.0}, 888.0: {'touching_area': 4.0}, 889.0: {'touching_area': 14.0}, 890.0: {'touching_area': 6.0}, 891.0: {'touching_area': 15.0}, 892.0: {'touching_area': 3.0}, 893.0: {'touching_area': 15.0}, 894.0: {'touching_area': 2.0}, 895.0: {'touching_area': 1.0}, 896.0: {'touching_area': 8.0}, 897.0: {'touching_area': 23.0}, 898.0: {'touching_area': 6.0}, 899.0: {'touching_area': 2.0}, 900.0: {'touching_area': 11.0}, 901.0: {'touching_area': 13.0}, 902.0: {'touching_area': 8.0}, 903.0: {'touching_area': 4.0}, 904.0: {'touching_area': 7.0}, 905.0: {'touching_area': 7.0}, 906.0: {'touching_area': 1.0}, 907.0: {'touching_area': 2.0}, 908.0: {'touching_area': 15.0}, 909.0: {'touching_area': 16.0}, 910.0: {'touching_area': 2.0}, 911.0: {'touching_area': 1.0}, 912.0: {'touching_area': 5.0}, 913.0: {'touching_area': 7.0}, 914.0: {'touching_area': 1.0}, 915.0: {'touching_area': 17.0}, 916.0: {'touching_area': 1.0}, 917.0: {'touching_area': 1.0}, 918.0: {'touching_area': 6.0}, 919.0: {'touching_area': 11.0}, 920.0: {'touching_area': 4.0}, 921.0: {'touching_area': 8.0}, 922.0: {'touching_area': 9.0}, 923.0: {'touching_area': 12.0}, 924.0: {'touching_area': 12.0}, 925.0: {'touching_area': 9.0}, 926.0: {'touching_area': 3.0}, 927.0: {'touching_area': 3.0}, 928.0: {'touching_area': 12.0}, 929.0: {'touching_area': 3.0}, 930.0: {'touching_area': 4.0}, 931.0: {'touching_area': 2.0}, 932.0: {'touching_area': 10.0}, 933.0: {'touching_area': 29.0}, 934.0: {'touching_area': 10.0}, 935.0: {'touching_area': 4.0}, 936.0: {'touching_area': 3.0}, 937.0: {'touching_area': 54.0}, 938.0: {'touching_area': 87.0}, 939.0: {'touching_area': 1.0}, 940.0: {'touching_area': 32.0}, 941.0: {'touching_area': 17.0}, 942.0: {'touching_area': 17.0}, 943.0: {'touching_area': 15.0}, 944.0: {'touching_area': 14.0}, 945.0: {'touching_area': 5.0}, 946.0: {'touching_area': 19.0}, 947.0: {'touching_area': 6.0}, 948.0: {'touching_area': 3.0}, 949.0: {'touching_area': 34.0}, 950.0: {'touching_area': 10.0}, 951.0: {'touching_area': 36.0}, 952.0: {'touching_area': 56.0}, 953.0: {'touching_area': 21.0}, 954.0: {'touching_area': 14.0}, 955.0: {'touching_area': 2.0}, 956.0: {'touching_area': 19.0}, 957.0: {'touching_area': 13.0}, 958.0: {'touching_area': 17.0}, 959.0: {'touching_area': 11.0}, 960.0: {'touching_area': 18.0}, 961.0: {'touching_area': 12.0}, 962.0: {'touching_area': 7.0}, 963.0: {'touching_area': 2.0}, 964.0: {'touching_area': 26.0}, 965.0: {'touching_area': 18.0}, 966.0: {'touching_area': 3.0}, 967.0: {'touching_area': 3.0}, 968.0: {'touching_area': 3.0}, 969.0: {'touching_area': 2.0}, 970.0: {'touching_area': 4.0}, 971.0: {'touching_area': 1.0}, 972.0: {'touching_area': 29.0}, 973.0: {'touching_area': 16.0}, 974.0: {'touching_area': 4.0}, 975.0: {'touching_area': 19.0}, 976.0: {'touching_area': 16.0}, 977.0: {'touching_area': 12.0}, 978.0: {'touching_area': 9.0}, 979.0: {'touching_area': 5.0}, 980.0: {'touching_area': 4.0}, 981.0: {'touching_area': 3.0}, 982.0: {'touching_area': 1.0}, 983.0: {'touching_area': 32.0}, 984.0: {'touching_area': 7.0}, 985.0: {'touching_area': 6.0}, 986.0: {'touching_area': 7.0}, 987.0: {'touching_area': 2.0}, 988.0: {'touching_area': 11.0}, 989.0: {'touching_area': 23.0}, 990.0: {'touching_area': 18.0}, 991.0: {'touching_area': 1.0}, 992.0: {'touching_area': 7.0}, 993.0: {'touching_area': 8.0}, 994.0: {'touching_area': 1.0}, 995.0: {'touching_area': 3.0}, 996.0: {'touching_area': 3.0}, 997.0: {'touching_area': 5.0}, 998.0: {'touching_area': 3.0}, 999.0: {'touching_area': 4.0}, 1000.0: {'touching_area': 1.0}, 1001.0: {'touching_area': 2.0}, 1002.0: {'touching_area': 3.0}, 1003.0: {'touching_area': 2.0}, 1004.0: {'touching_area': 16.0}, 1005.0: {'touching_area': 69.0}, 1006.0: {'touching_area': 5.0}, 1007.0: {'touching_area': 2.0}, 1008.0: {'touching_area': 12.0}, 1009.0: {'touching_area': 12.0}, 1010.0: {'touching_area': 6.0}, 1011.0: {'touching_area': 38.0}, 1012.0: {'touching_area': 6.0}, 1013.0: {'touching_area': 5.0}, 1014.0: {'touching_area': 6.0}, 1015.0: {'touching_area': 9.0}, 1016.0: {'touching_area': 5.0}, 1017.0: {'touching_area': 3.0}, 1018.0: {'touching_area': 17.0}, 1019.0: {'touching_area': 3.0}, 1020.0: {'touching_area': 2.0}, 1021.0: {'touching_area': 1.0}, 1022.0: {'touching_area': 12.0}, 1023.0: {'touching_area': 3.0}, 1024.0: {'touching_area': 1.0}, 1025.0: {'touching_area': 26.0}, 1026.0: {'touching_area': 5.0}, 1027.0: {'touching_area': 5.0}, 1028.0: {'touching_area': 2.0}, 1029.0: {'touching_area': 12.0}, 1030.0: {'touching_area': 3.0}, 1031.0: {'touching_area': 3.0}, 1032.0: {'touching_area': 28.0}, 1033.0: {'touching_area': 15.0}, 1034.0: {'touching_area': 5.0}, 1035.0: {'touching_area': 13.0}, 1036.0: {'touching_area': 11.0}, 1037.0: {'touching_area': 6.0}, 1038.0: {'touching_area': 49.0}, 1039.0: {'touching_area': 77.0}, 1040.0: {'touching_area': 68.0}, 1041.0: {'touching_area': 53.0}, 1042.0: {'touching_area': 19.0}, 1043.0: {'touching_area': 2.0}, 1044.0: {'touching_area': 2.0}, 1045.0: {'touching_area': 34.0}, 1046.0: {'touching_area': 6.0}, 1047.0: {'touching_area': 3.0}, 1048.0: {'touching_area': 23.0}, 1049.0: {'touching_area': 22.0}, 1050.0: {'touching_area': 1.0}, 1051.0: {'touching_area': 21.0}, 1052.0: {'touching_area': 6.0}, 1053.0: {'touching_area': 51.0}, 1054.0: {'touching_area': 7.0}, 1055.0: {'touching_area': 2.0}, 1056.0: {'touching_area': 5.0}, 1057.0: {'touching_area': 9.0}, 1058.0: {'touching_area': 39.0}, 1059.0: {'touching_area': 59.0}, 1060.0: {'touching_area': 10.0}, 1061.0: {'touching_area': 18.0}, 1062.0: {'touching_area': 16.0}, 1063.0: {'touching_area': 35.0}, 1064.0: {'touching_area': 2.0}, 1065.0: {'touching_area': 4.0}, 1066.0: {'touching_area': 29.0}, 1067.0: {'touching_area': 17.0}, 1068.0: {'touching_area': 1.0}, 1069.0: {'touching_area': 3.0}, 1070.0: {'touching_area': 15.0}, 1071.0: {'touching_area': 2.0}, 1072.0: {'touching_area': 4.0}, 1073.0: {'touching_area': 3.0}, 1074.0: {'touching_area': 2.0}, 1075.0: {'touching_area': 3.0}, 1076.0: {'touching_area': 3.0}, 1077.0: {'touching_area': 4.0}, 1078.0: {'touching_area': 11.0}, 1079.0: {'touching_area': 2.0}, 1080.0: {'touching_area': 3.0}, 1081.0: {'touching_area': 1.0}, 1082.0: {'touching_area': 6.0}, 1083.0: {'touching_area': 8.0}, 1084.0: {'touching_area': 2.0}, 1085.0: {'touching_area': 16.0}, 1086.0: {'touching_area': 20.0}, 1087.0: {'touching_area': 19.0}, 1088.0: {'touching_area': 20.0}, 1089.0: {'touching_area': 2.0}, 1090.0: {'touching_area': 7.0}, 1091.0: {'touching_area': 63.0}, 1092.0: {'touching_area': 58.0}, 1093.0: {'touching_area': 49.0}, 1094.0: {'touching_area': 2.0}, 1095.0: {'touching_area': 10.0}, 1096.0: {'touching_area': 6.0}, 1097.0: {'touching_area': 1.0}, 1098.0: {'touching_area': 6.0}, 1099.0: {'touching_area': 4.0}, 1100.0: {'touching_area': 2.0}, 1101.0: {'touching_area': 5.0}, 1102.0: {'touching_area': 28.0}, 1103.0: {'touching_area': 27.0}, 1104.0: {'touching_area': 59.0}, 1105.0: {'touching_area': 50.0}, 1106.0: {'touching_area': 3.0}, 1107.0: {'touching_area': 16.0}, 1108.0: {'touching_area': 2.0}, 1109.0: {'touching_area': 6.0}, 1110.0: {'touching_area': 35.0}, 1111.0: {'touching_area': 1.0}, 1112.0: {'touching_area': 27.0}, 1113.0: {'touching_area': 41.0}, 1114.0: {'touching_area': 24.0}, 1115.0: {'touching_area': 7.0}, 1116.0: {'touching_area': 2.0}, 1117.0: {'touching_area': 4.0}, 1118.0: {'touching_area': 2.0}, 1119.0: {'touching_area': 3.0}, 1120.0: {'touching_area': 4.0}, 1121.0: {'touching_area': 3.0}, 1122.0: {'touching_area': 3.0}, 1123.0: {'touching_area': 4.0}, 1124.0: {'touching_area': 4.0}, 1125.0: {'touching_area': 3.0}, 1126.0: {'touching_area': 22.0}, 1127.0: {'touching_area': 10.0}, 1128.0: {'touching_area': 23.0}, 1129.0: {'touching_area': 48.0}, 1130.0: {'touching_area': 23.0}, 1131.0: {'touching_area': 25.0}, 1132.0: {'touching_area': 2.0}, 1133.0: {'touching_area': 19.0}, 1134.0: {'touching_area': 16.0}, 1135.0: {'touching_area': 23.0}, 1136.0: {'touching_area': 23.0}, 1137.0: {'touching_area': 9.0}, 1138.0: {'touching_area': 15.0}, 1139.0: {'touching_area': 11.0}, 1140.0: {'touching_area': 6.0}, 1141.0: {'touching_area': 5.0}, 1142.0: {'touching_area': 22.0}, 1143.0: {'touching_area': 1.0}, 1144.0: {'touching_area': 7.0}, 1145.0: {'touching_area': 18.0}, 1146.0: {'touching_area': 2.0}, 1147.0: {'touching_area': 14.0}, 1148.0: {'touching_area': 38.0}, 1149.0: {'touching_area': 42.0}, 1150.0: {'touching_area': 38.0}, 1151.0: {'touching_area': 2.0}, 1152.0: {'touching_area': 9.0}, 1153.0: {'touching_area': 7.0}, 1154.0: {'touching_area': 1.0}, 1155.0: {'touching_area': 23.0}, 1156.0: {'touching_area': 5.0}, 1157.0: {'touching_area': 2.0}, 1158.0: {'touching_area': 31.0}, 1159.0: {'touching_area': 20.0}, 1160.0: {'touching_area': 9.0}, 1161.0: {'touching_area': 5.0}, 1162.0: {'touching_area': 1.0}, 1163.0: {'touching_area': 3.0}, 1164.0: {'touching_area': 19.0}, 1165.0: {'touching_area': 7.0}, 1166.0: {'touching_area': 20.0}, 1167.0: {'touching_area': 6.0}, 1168.0: {'touching_area': 4.0}, 1169.0: {'touching_area': 5.0}, 1170.0: {'touching_area': 4.0}, 1171.0: {'touching_area': 5.0}, 1172.0: {'touching_area': 3.0}, 1173.0: {'touching_area': 6.0}, 1174.0: {'touching_area': 7.0}, 1175.0: {'touching_area': 2.0}, 1176.0: {'touching_area': 4.0}, 1177.0: {'touching_area': 1.0}, 1178.0: {'touching_area': 3.0}, 1179.0: {'touching_area': 3.0}, 1180.0: {'touching_area': 24.0}, 1181.0: {'touching_area': 3.0}, 1182.0: {'touching_area': 22.0}, 1183.0: {'touching_area': 9.0}, 1184.0: {'touching_area': 28.0}, 1185.0: {'touching_area': 3.0}, 1186.0: {'touching_area': 20.0}, 1187.0: {'touching_area': 6.0}, 1188.0: {'touching_area': 24.0}, 1189.0: {'touching_area': 7.0}, 1190.0: {'touching_area': 25.0}, 1191.0: {'touching_area': 1.0}, 1192.0: {'touching_area': 1.0}, 1193.0: {'touching_area': 3.0}, 1194.0: {'touching_area': 1.0}, 1195.0: {'touching_area': 50.0}, 1196.0: {'touching_area': 18.0}, 1197.0: {'touching_area': 27.0}, 1198.0: {'touching_area': 10.0}, 1199.0: {'touching_area': 10.0}, 1200.0: {'touching_area': 15.0}, 1201.0: {'touching_area': 3.0}, 1202.0: {'touching_area': 3.0}, 1203.0: {'touching_area': 1.0}, 1204.0: {'touching_area': 2.0}, 1205.0: {'touching_area': 15.0}, 1206.0: {'touching_area': 4.0}, 1207.0: {'touching_area': 1.0}, 1208.0: {'touching_area': 1.0}, 1209.0: {'touching_area': 1.0}, 1210.0: {'touching_area': 2.0}, 1211.0: {'touching_area': 53.0}, 1212.0: {'touching_area': 18.0}, 1213.0: {'touching_area': 10.0}, 1214.0: {'touching_area': 1.0}, 1215.0: {'touching_area': 4.0}, 1216.0: {'touching_area': 2.0}, 1217.0: {'touching_area': 5.0}, 1218.0: {'touching_area': 19.0}, 1219.0: {'touching_area': 14.0}, 1220.0: {'touching_area': 8.0}, 1221.0: {'touching_area': 8.0}, 1222.0: {'touching_area': 5.0}, 1223.0: {'touching_area': 8.0}, 1224.0: {'touching_area': 16.0}, 1225.0: {'touching_area': 32.0}, 1226.0: {'touching_area': 20.0}, 1227.0: {'touching_area': 15.0}, 1228.0: {'touching_area': 3.0}, 1229.0: {'touching_area': 3.0}, 1230.0: {'touching_area': 27.0}, 1231.0: {'touching_area': 2.0}, 1232.0: {'touching_area': 6.0}, 1233.0: {'touching_area': 6.0}, 1234.0: {'touching_area': 5.0}, 1235.0: {'touching_area': 3.0}, 1236.0: {'touching_area': 19.0}, 1237.0: {'touching_area': 7.0}, 1238.0: {'touching_area': 1.0}, 1239.0: {'touching_area': 7.0}, 1240.0: {'touching_area': 7.0}, 1241.0: {'touching_area': 9.0}, 1242.0: {'touching_area': 7.0}, 1243.0: {'touching_area': 3.0}, 1244.0: {'touching_area': 5.0}, 1245.0: {'touching_area': 12.0}, 1246.0: {'touching_area': 10.0}, 1247.0: {'touching_area': 15.0}, 1248.0: {'touching_area': 14.0}, 1249.0: {'touching_area': 1.0}, 1250.0: {'touching_area': 2.0}, 1251.0: {'touching_area': 40.0}, 1252.0: {'touching_area': 2.0}, 1253.0: {'touching_area': 3.0}, 1254.0: {'touching_area': 10.0}, 1255.0: {'touching_area': 6.0}, 1256.0: {'touching_area': 78.0}, 1257.0: {'touching_area': 18.0}, 1258.0: {'touching_area': 9.0}, 1259.0: {'touching_area': 10.0}, 1260.0: {'touching_area': 22.0}, 1261.0: {'touching_area': 5.0}, 1262.0: {'touching_area': 11.0}, 1263.0: {'touching_area': 3.0}, 1264.0: {'touching_area': 7.0}, 1265.0: {'touching_area': 23.0}, 1266.0: {'touching_area': 12.0}, 1267.0: {'touching_area': 4.0}, 1268.0: {'touching_area': 3.0}, 1269.0: {'touching_area': 1.0}, 1270.0: {'touching_area': 35.0}, 1271.0: {'touching_area': 7.0}, 1272.0: {'touching_area': 42.0}, 1273.0: {'touching_area': 1.0}, 1274.0: {'touching_area': 5.0}, 1275.0: {'touching_area': 1.0}, 1276.0: {'touching_area': 17.0}, 1277.0: {'touching_area': 13.0}, 1278.0: {'touching_area': 53.0}, 1279.0: {'touching_area': 10.0}, 1280.0: {'touching_area': 1.0}, 1281.0: {'touching_area': 20.0}, 1282.0: {'touching_area': 1.0}, 1283.0: {'touching_area': 16.0}, 1284.0: {'touching_area': 9.0}, 1285.0: {'touching_area': 11.0}, 1286.0: {'touching_area': 24.0}, 1287.0: {'touching_area': 2.0}, 1288.0: {'touching_area': 1.0}, 1289.0: {'touching_area': 8.0}, 1290.0: {'touching_area': 17.0}, 1291.0: {'touching_area': 6.0}, 1292.0: {'touching_area': 13.0}, 1293.0: {'touching_area': 10.0}, 1294.0: {'touching_area': 10.0}, 1295.0: {'touching_area': 6.0}, 1296.0: {'touching_area': 45.0}, 1297.0: {'touching_area': 9.0}, 1298.0: {'touching_area': 3.0}, 1299.0: {'touching_area': 3.0}, 1300.0: {'touching_area': 22.0}, 1301.0: {'touching_area': 25.0}, 1302.0: {'touching_area': 1.0}, 1303.0: {'touching_area': 3.0}, 1304.0: {'touching_area': 24.0}, 1305.0: {'touching_area': 10.0}, 1306.0: {'touching_area': 7.0}, 1307.0: {'touching_area': 34.0}, 1308.0: {'touching_area': 3.0}, 1309.0: {'touching_area': 13.0}, 1310.0: {'touching_area': 11.0}, 1311.0: {'touching_area': 7.0}, 1312.0: {'touching_area': 2.0}, 1313.0: {'touching_area': 12.0}, 1314.0: {'touching_area': 23.0}, 1315.0: {'touching_area': 46.0}, 1316.0: {'touching_area': 10.0}, 1317.0: {'touching_area': 4.0}, 1318.0: {'touching_area': 26.0}, 1319.0: {'touching_area': 22.0}, 1320.0: {'touching_area': 18.0}, 1321.0: {'touching_area': 15.0}, 1322.0: {'touching_area': 2.0}, 1323.0: {'touching_area': 5.0}, 1324.0: {'touching_area': 3.0}, 1325.0: {'touching_area': 6.0}, 1326.0: {'touching_area': 1.0}, 1327.0: {'touching_area': 5.0}, 1328.0: {'touching_area': 2.0}, 1329.0: {'touching_area': 2.0}, 1330.0: {'touching_area': 18.0}, 1331.0: {'touching_area': 2.0}, 1332.0: {'touching_area': 4.0}, 1333.0: {'touching_area': 1.0}, 1334.0: {'touching_area': 3.0}, 1335.0: {'touching_area': 2.0}, 1336.0: {'touching_area': 43.0}, 1337.0: {'touching_area': 47.0}, 1338.0: {'touching_area': 2.0}, 1339.0: {'touching_area': 2.0}, 1340.0: {'touching_area': 4.0}, 1341.0: {'touching_area': 51.0}, 1342.0: {'touching_area': 2.0}, 1343.0: {'touching_area': 28.0}, 1344.0: {'touching_area': 1.0}, 1345.0: {'touching_area': 6.0}, 1346.0: {'touching_area': 15.0}, 1347.0: {'touching_area': 1.0}, 1348.0: {'touching_area': 2.0}, 1349.0: {'touching_area': 2.0}, 1350.0: {'touching_area': 6.0}, 1351.0: {'touching_area': 3.0}, 1352.0: {'touching_area': 11.0}, 1353.0: {'touching_area': 19.0}, 1354.0: {'touching_area': 2.0}, 1355.0: {'touching_area': 43.0}, 1356.0: {'touching_area': 3.0}, 1357.0: {'touching_area': 10.0}, 1358.0: {'touching_area': 3.0}, 1359.0: {'touching_area': 2.0}, 1360.0: {'touching_area': 13.0}, 1361.0: {'touching_area': 44.0}, 1362.0: {'touching_area': 2.0}, 1363.0: {'touching_area': 17.0}, 1364.0: {'touching_area': 7.0}, 1365.0: {'touching_area': 21.0}, 1366.0: {'touching_area': 3.0}, 1367.0: {'touching_area': 5.0}, 1368.0: {'touching_area': 4.0}, 1369.0: {'touching_area': 8.0}, 1370.0: {'touching_area': 15.0}, 1371.0: {'touching_area': 5.0}, 1372.0: {'touching_area': 2.0}, 1373.0: {'touching_area': 5.0}, 1374.0: {'touching_area': 2.0}, 1375.0: {'touching_area': 1.0}, 1376.0: {'touching_area': 6.0}, 1377.0: {'touching_area': 4.0}, 1378.0: {'touching_area': 8.0}, 1379.0: {'touching_area': 11.0}, 1380.0: {'touching_area': 1.0}, 1381.0: {'touching_area': 31.0}, 1382.0: {'touching_area': 43.0}, 1383.0: {'touching_area': 5.0}, 1384.0: {'touching_area': 11.0}, 1385.0: {'touching_area': 10.0}, 1386.0: {'touching_area': 11.0}, 1387.0: {'touching_area': 12.0}, 1388.0: {'touching_area': 6.0}, 1389.0: {'touching_area': 28.0}, 1390.0: {'touching_area': 2.0}, 1391.0: {'touching_area': 6.0}, 1392.0: {'touching_area': 28.0}, 1393.0: {'touching_area': 5.0}, 1394.0: {'touching_area': 25.0}, 1395.0: {'touching_area': 15.0}, 1396.0: {'touching_area': 1.0}, 1397.0: {'touching_area': 1.0}, 1398.0: {'touching_area': 8.0}, 1399.0: {'touching_area': 6.0}, 1400.0: {'touching_area': 11.0}, 1401.0: {'touching_area': 2.0}, 1402.0: {'touching_area': 13.0}, 1403.0: {'touching_area': 19.0}, 1404.0: {'touching_area': 6.0}, 1405.0: {'touching_area': 10.0}, 1406.0: {'touching_area': 23.0}, 1407.0: {'touching_area': 22.0}, 1408.0: {'touching_area': 20.0}, 1409.0: {'touching_area': 14.0}, 1410.0: {'touching_area': 1.0}, 1411.0: {'touching_area': 5.0}, 1412.0: {'touching_area': 3.0}, 1413.0: {'touching_area': 4.0}, 1414.0: {'touching_area': 19.0}, 1415.0: {'touching_area': 5.0}, 1416.0: {'touching_area': 7.0}, 1417.0: {'touching_area': 4.0}, 1418.0: {'touching_area': 7.0}, 1419.0: {'touching_area': 3.0}, 1420.0: {'touching_area': 3.0}, 1421.0: {'touching_area': 2.0}, 1422.0: {'touching_area': 3.0}, 1423.0: {'touching_area': 28.0}, 1424.0: {'touching_area': 17.0}, 1425.0: {'touching_area': 5.0}, 1426.0: {'touching_area': 4.0}, 1427.0: {'touching_area': 9.0}, 1428.0: {'touching_area': 4.0}, 1429.0: {'touching_area': 4.0}, 1430.0: {'touching_area': 15.0}, 1431.0: {'touching_area': 18.0}, 1432.0: {'touching_area': 2.0}, 1433.0: {'touching_area': 2.0}, 1434.0: {'touching_area': 16.0}, 1435.0: {'touching_area': 2.0}, 1436.0: {'touching_area': 5.0}, 1437.0: {'touching_area': 21.0}, 1438.0: {'touching_area': 3.0}, 1439.0: {'touching_area': 18.0}, 1440.0: {'touching_area': 7.0}, 1441.0: {'touching_area': 1.0}, 1442.0: {'touching_area': 1.0}, 1443.0: {'touching_area': 29.0}, 1444.0: {'touching_area': 27.0}, 1445.0: {'touching_area': 1.0}, 1446.0: {'touching_area': 19.0}, 1447.0: {'touching_area': 2.0}, 1448.0: {'touching_area': 1.0}, 1449.0: {'touching_area': 1.0}, 1450.0: {'touching_area': 3.0}, 1451.0: {'touching_area': 35.0}, 1452.0: {'touching_area': 23.0}, 1453.0: {'touching_area': 16.0}, 1454.0: {'touching_area': 7.0}, 1455.0: {'touching_area': 32.0}, 1456.0: {'touching_area': 38.0}, 1457.0: {'touching_area': 2.0}, 1458.0: {'touching_area': 32.0}, 1459.0: {'touching_area': 3.0}, 1460.0: {'touching_area': 1.0}, 1461.0: {'touching_area': 2.0}, 1462.0: {'touching_area': 4.0}, 1463.0: {'touching_area': 3.0}, 1464.0: {'touching_area': 35.0}, 1465.0: {'touching_area': 61.0}, 1466.0: {'touching_area': 50.0}, 1467.0: {'touching_area': 6.0}, 1468.0: {'touching_area': 51.0}, 1469.0: {'touching_area': 16.0}, 1470.0: {'touching_area': 7.0}, 1471.0: {'touching_area': 16.0}, 1472.0: {'touching_area': 46.0}, 1473.0: {'touching_area': 12.0}, 1474.0: {'touching_area': 10.0}, 1475.0: {'touching_area': 35.0}, 1476.0: {'touching_area': 68.0}, 1477.0: {'touching_area': 33.0}, 1478.0: {'touching_area': 11.0}, 1479.0: {'touching_area': 1.0}, 1480.0: {'touching_area': 11.0}, 1481.0: {'touching_area': 4.0}, 1482.0: {'touching_area': 33.0}, 1483.0: {'touching_area': 3.0}, 1484.0: {'touching_area': 16.0}, 1485.0: {'touching_area': 9.0}, 1486.0: {'touching_area': 82.0}, 1487.0: {'touching_area': 31.0}, 1488.0: {'touching_area': 24.0}, 1489.0: {'touching_area': 14.0}, 1490.0: {'touching_area': 1.0}, 1491.0: {'touching_area': 41.0}, 1492.0: {'touching_area': 21.0}, 1493.0: {'touching_area': 26.0}, 1494.0: {'touching_area': 21.0}, 1495.0: {'touching_area': 11.0}, 1496.0: {'touching_area': 24.0}, 1497.0: {'touching_area': 31.0}, 1498.0: {'touching_area': 35.0}, 1499.0: {'touching_area': 11.0}, 1500.0: {'touching_area': 13.0}, 1501.0: {'touching_area': 8.0}, 1502.0: {'touching_area': 26.0}, 1503.0: {'touching_area': 15.0}, 1504.0: {'touching_area': 7.0}, 1505.0: {'touching_area': 23.0}, 1506.0: {'touching_area': 20.0}, 1507.0: {'touching_area': 27.0}, 1508.0: {'touching_area': 1.0}, 1509.0: {'touching_area': 2.0}, 1510.0: {'touching_area': 1.0}, 1511.0: {'touching_area': 19.0}, 1512.0: {'touching_area': 5.0}, 1513.0: {'touching_area': 13.0}, 1514.0: {'touching_area': 35.0}, 1515.0: {'touching_area': 34.0}, 1516.0: {'touching_area': 4.0}, 1517.0: {'touching_area': 20.0}, 1518.0: {'touching_area': 1.0}, 1519.0: {'touching_area': 2.0}, 1520.0: {'touching_area': 2.0}, 1521.0: {'touching_area': 10.0}, 1522.0: {'touching_area': 1.0}, 1523.0: {'touching_area': 4.0}, 1524.0: {'touching_area': 35.0}, 1525.0: {'touching_area': 18.0}, 1526.0: {'touching_area': 21.0}, 1527.0: {'touching_area': 20.0}, 1528.0: {'touching_area': 26.0}, 1529.0: {'touching_area': 5.0}, 1530.0: {'touching_area': 2.0}, 1531.0: {'touching_area': 13.0}, 1532.0: {'touching_area': 17.0}, 1533.0: {'touching_area': 9.0}, 1534.0: {'touching_area': 2.0}, 1535.0: {'touching_area': 2.0}, 1536.0: {'touching_area': 31.0}, 1537.0: {'touching_area': 45.0}, 1538.0: {'touching_area': 30.0}, 1539.0: {'touching_area': 2.0}, 1540.0: {'touching_area': 41.0}, 1541.0: {'touching_area': 2.0}, 1542.0: {'touching_area': 14.0}, 1543.0: {'touching_area': 14.0}, 1544.0: {'touching_area': 15.0}, 1545.0: {'touching_area': 6.0}, 1546.0: {'touching_area': 43.0}, 1547.0: {'touching_area': 38.0}, 1548.0: {'touching_area': 37.0}, 1549.0: {'touching_area': 17.0}, 1550.0: {'touching_area': 18.0}, 1551.0: {'touching_area': 7.0}, 1552.0: {'touching_area': 76.0}, 1553.0: {'touching_area': 3.0}, 1554.0: {'touching_area': 22.0}, 1555.0: {'touching_area': 6.0}, 1556.0: {'touching_area': 1.0}, 1557.0: {'touching_area': 5.0}, 1558.0: {'touching_area': 2.0}, 1559.0: {'touching_area': 5.0}, 1560.0: {'touching_area': 1.0}, 1561.0: {'touching_area': 25.0}, 1562.0: {'touching_area': 1.0}, 1563.0: {'touching_area': 41.0}, 1564.0: {'touching_area': 14.0}, 1565.0: {'touching_area': 4.0}, 1566.0: {'touching_area': 12.0}, 1567.0: {'touching_area': 5.0}, 1568.0: {'touching_area': 42.0}, 1569.0: {'touching_area': 2.0}, 1570.0: {'touching_area': 14.0}, 1571.0: {'touching_area': 14.0}, 1572.0: {'touching_area': 22.0}, 1573.0: {'touching_area': 8.0}, 1574.0: {'touching_area': 14.0}, 1575.0: {'touching_area': 15.0}, 1576.0: {'touching_area': 9.0}, 1577.0: {'touching_area': 11.0}, 1578.0: {'touching_area': 34.0}, 1579.0: {'touching_area': 16.0}, 1580.0: {'touching_area': 15.0}, 1581.0: {'touching_area': 29.0}, 1582.0: {'touching_area': 24.0}, 1583.0: {'touching_area': 40.0}, 1584.0: {'touching_area': 34.0}, 1585.0: {'touching_area': 57.0}, 1586.0: {'touching_area': 34.0}, 1587.0: {'touching_area': 22.0}, 1588.0: {'touching_area': 13.0}, 1589.0: {'touching_area': 30.0}, 1590.0: {'touching_area': 23.0}, 1591.0: {'touching_area': 33.0}, 1592.0: {'touching_area': 4.0}, 1593.0: {'touching_area': 44.0}, 1594.0: {'touching_area': 3.0}, 1595.0: {'touching_area': 29.0}, 1596.0: {'touching_area': 20.0}, 1597.0: {'touching_area': 64.0}, 1598.0: {'touching_area': 60.0}, 1599.0: {'touching_area': 1.0}, 1600.0: {'touching_area': 7.0}, 1601.0: {'touching_area': 45.0}, 1602.0: {'touching_area': 14.0}, 1603.0: {'touching_area': 55.0}, 1604.0: {'touching_area': 31.0}, 1605.0: {'touching_area': 8.0}, 1606.0: {'touching_area': 1.0}, 1607.0: {'touching_area': 56.0}, 1608.0: {'touching_area': 3.0}, 1609.0: {'touching_area': 19.0}, 1610.0: {'touching_area': 20.0}, 1611.0: {'touching_area': 15.0}, 1612.0: {'touching_area': 20.0}, 1613.0: {'touching_area': 11.0}, 1614.0: {'touching_area': 3.0}, 1615.0: {'touching_area': 1.0}, 1616.0: {'touching_area': 5.0}, 1617.0: {'touching_area': 1.0}, 1618.0: {'touching_area': 38.0}, 1619.0: {'touching_area': 5.0}, 1620.0: {'touching_area': 30.0}, 1621.0: {'touching_area': 1.0}, 1622.0: {'touching_area': 4.0}, 1623.0: {'touching_area': 2.0}, 1624.0: {'touching_area': 3.0}, 1625.0: {'touching_area': 3.0}, 1626.0: {'touching_area': 9.0}, 1627.0: {'touching_area': 18.0}, 1628.0: {'touching_area': 16.0}, 1629.0: {'touching_area': 11.0}, 1630.0: {'touching_area': 5.0}, 1631.0: {'touching_area': 14.0}, 1632.0: {'touching_area': 68.0}, 1633.0: {'touching_area': 1.0}, 1634.0: {'touching_area': 28.0}, 1635.0: {'touching_area': 12.0}, 1636.0: {'touching_area': 12.0}, 1637.0: {'touching_area': 2.0}, 1638.0: {'touching_area': 18.0}, 1639.0: {'touching_area': 24.0}, 1640.0: {'touching_area': 15.0}, 1641.0: {'touching_area': 41.0}, 1642.0: {'touching_area': 2.0}, 1643.0: {'touching_area': 2.0}, 1644.0: {'touching_area': 3.0}, 1645.0: {'touching_area': 8.0}, 1646.0: {'touching_area': 63.0}, 1647.0: {'touching_area': 15.0}, 1648.0: {'touching_area': 13.0}, 1649.0: {'touching_area': 12.0}, 1650.0: {'touching_area': 11.0}, 1651.0: {'touching_area': 9.0}, 1652.0: {'touching_area': 19.0}, 1653.0: {'touching_area': 16.0}, 1654.0: {'touching_area': 2.0}, 1655.0: {'touching_area': 2.0}, 1656.0: {'touching_area': 2.0}, 1657.0: {'touching_area': 21.0}, 1658.0: {'touching_area': 4.0}, 1659.0: {'touching_area': 14.0}, 1660.0: {'touching_area': 10.0}, 1661.0: {'touching_area': 30.0}, 1662.0: {'touching_area': 23.0}, 1663.0: {'touching_area': 27.0}, 1664.0: {'touching_area': 8.0}, 1665.0: {'touching_area': 10.0}, 1666.0: {'touching_area': 1.0}, 1667.0: {'touching_area': 1.0}, 1668.0: {'touching_area': 23.0}, 1669.0: {'touching_area': 11.0}, 1670.0: {'touching_area': 3.0}, 1671.0: {'touching_area': 4.0}, 1672.0: {'touching_area': 1.0}, 1673.0: {'touching_area': 21.0}, 1674.0: {'touching_area': 6.0}, 1675.0: {'touching_area': 10.0}, 1676.0: {'touching_area': 14.0}, 1677.0: {'touching_area': 7.0}, 1678.0: {'touching_area': 11.0}, 1679.0: {'touching_area': 57.0}, 1680.0: {'touching_area': 8.0}, 1681.0: {'touching_area': 9.0}, 1682.0: {'touching_area': 28.0}, 1683.0: {'touching_area': 1.0}, 1684.0: {'touching_area': 9.0}, 1685.0: {'touching_area': 19.0}, 1686.0: {'touching_area': 1.0}, 1687.0: {'touching_area': 18.0}, 1688.0: {'touching_area': 3.0}, 1689.0: {'touching_area': 2.0}, 1690.0: {'touching_area': 16.0}, 1691.0: {'touching_area': 2.0}, 1692.0: {'touching_area': 67.0}, 1693.0: {'touching_area': 31.0}, 1694.0: {'touching_area': 29.0}, 1695.0: {'touching_area': 10.0}, 1696.0: {'touching_area': 5.0}, 1697.0: {'touching_area': 2.0}, 1698.0: {'touching_area': 1.0}, 1699.0: {'touching_area': 11.0}, 1700.0: {'touching_area': 10.0}, 1701.0: {'touching_area': 1.0}, 1702.0: {'touching_area': 14.0}, 1703.0: {'touching_area': 12.0}, 1704.0: {'touching_area': 26.0}, 1705.0: {'touching_area': 22.0}, 1706.0: {'touching_area': 10.0}, 1707.0: {'touching_area': 1.0}, 1708.0: {'touching_area': 1.0}, 1709.0: {'touching_area': 10.0}, 1710.0: {'touching_area': 27.0}, 1711.0: {'touching_area': 11.0}, 1712.0: {'touching_area': 34.0}, 1713.0: {'touching_area': 24.0}, 1714.0: {'touching_area': 4.0}, 1715.0: {'touching_area': 5.0}, 1716.0: {'touching_area': 15.0}, 1717.0: {'touching_area': 6.0}, 1718.0: {'touching_area': 14.0}, 1719.0: {'touching_area': 21.0}, 1720.0: {'touching_area': 7.0}, 1721.0: {'touching_area': 3.0}, 1722.0: {'touching_area': 1.0}, 1723.0: {'touching_area': 1.0}, 1724.0: {'touching_area': 31.0}, 1725.0: {'touching_area': 44.0}, 1726.0: {'touching_area': 59.0}, 1727.0: {'touching_area': 32.0}, 1728.0: {'touching_area': 62.0}, 1729.0: {'touching_area': 72.0}, 1730.0: {'touching_area': 22.0}, 1731.0: {'touching_area': 15.0}, 1732.0: {'touching_area': 2.0}, 1733.0: {'touching_area': 17.0}, 1734.0: {'touching_area': 10.0}, 1735.0: {'touching_area': 14.0}, 1736.0: {'touching_area': 24.0}, 1737.0: {'touching_area': 63.0}, 1738.0: {'touching_area': 9.0}, 1739.0: {'touching_area': 12.0}, 1740.0: {'touching_area': 26.0}, 1741.0: {'touching_area': 27.0}, 1742.0: {'touching_area': 26.0}, 1743.0: {'touching_area': 11.0}, 1744.0: {'touching_area': 6.0}, 1745.0: {'touching_area': 3.0}, 1746.0: {'touching_area': 1.0}, 1747.0: {'touching_area': 11.0}, 1748.0: {'touching_area': 16.0}, 1749.0: {'touching_area': 15.0}, 1750.0: {'touching_area': 22.0}, 1751.0: {'touching_area': 21.0}, 1752.0: {'touching_area': 1.0}, 1753.0: {'touching_area': 1.0}, 1754.0: {'touching_area': 33.0}, 1755.0: {'touching_area': 4.0}, 1756.0: {'touching_area': 19.0}, 1757.0: {'touching_area': 2.0}, 1758.0: {'touching_area': 14.0}, 1759.0: {'touching_area': 86.0}, 1760.0: {'touching_area': 56.0}, 1761.0: {'touching_area': 6.0}, 1762.0: {'touching_area': 39.0}, 1763.0: {'touching_area': 2.0}, 1764.0: {'touching_area': 4.0}, 1765.0: {'touching_area': 4.0}, 1766.0: {'touching_area': 5.0}, 1767.0: {'touching_area': 2.0}, 1768.0: {'touching_area': 11.0}, 1769.0: {'touching_area': 9.0}, 1770.0: {'touching_area': 11.0}, 1771.0: {'touching_area': 5.0}, 1772.0: {'touching_area': 2.0}, 1773.0: {'touching_area': 10.0}, 1774.0: {'touching_area': 22.0}, 1775.0: {'touching_area': 31.0}, 1776.0: {'touching_area': 1.0}, 1777.0: {'touching_area': 7.0}, 1778.0: {'touching_area': 41.0}, 1779.0: {'touching_area': 44.0}, 1780.0: {'touching_area': 58.0}, 1781.0: {'touching_area': 6.0}, 1782.0: {'touching_area': 17.0}, 1783.0: {'touching_area': 22.0}, 1784.0: {'touching_area': 35.0}, 1785.0: {'touching_area': 59.0}, 1786.0: {'touching_area': 62.0}, 1787.0: {'touching_area': 31.0}, 1788.0: {'touching_area': 31.0}, 1789.0: {'touching_area': 15.0}, 1790.0: {'touching_area': 12.0}, 1791.0: {'touching_area': 18.0}, 1792.0: {'touching_area': 21.0}, 1793.0: {'touching_area': 51.0}, 1794.0: {'touching_area': 2.0}, 1795.0: {'touching_area': 42.0}, 1796.0: {'touching_area': 17.0}, 1797.0: {'touching_area': 31.0}, 1798.0: {'touching_area': 38.0}, 1799.0: {'touching_area': 14.0}, 1800.0: {'touching_area': 11.0}, 1801.0: {'touching_area': 2.0}, 1802.0: {'touching_area': 22.0}, 1803.0: {'touching_area': 35.0}, 1804.0: {'touching_area': 21.0}, 1805.0: {'touching_area': 4.0}, 1806.0: {'touching_area': 29.0}, 1807.0: {'touching_area': 36.0}, 1808.0: {'touching_area': 19.0}, 1809.0: {'touching_area': 13.0}, 1810.0: {'touching_area': 14.0}, 1811.0: {'touching_area': 11.0}, 1812.0: {'touching_area': 19.0}, 1813.0: {'touching_area': 3.0}, 1814.0: {'touching_area': 28.0}, 1815.0: {'touching_area': 7.0}, 1816.0: {'touching_area': 13.0}, 1817.0: {'touching_area': 65.0}, 1818.0: {'touching_area': 7.0}, 1819.0: {'touching_area': 39.0}, 1820.0: {'touching_area': 45.0}, 1821.0: {'touching_area': 24.0}, 1822.0: {'touching_area': 37.0}, 1823.0: {'touching_area': 18.0}, 1824.0: {'touching_area': 57.0}, 1825.0: {'touching_area': 27.0}, 1826.0: {'touching_area': 28.0}, 1827.0: {'touching_area': 20.0}, 1828.0: {'touching_area': 4.0}, 1829.0: {'touching_area': 1.0}, 1830.0: {'touching_area': 5.0}, 1831.0: {'touching_area': 11.0}, 1832.0: {'touching_area': 83.0}, 1833.0: {'touching_area': 3.0}, 1834.0: {'touching_area': 6.0}, 1835.0: {'touching_area': 2.0}, 1836.0: {'touching_area': 16.0}, 1837.0: {'touching_area': 34.0}, 1838.0: {'touching_area': 76.0}, 1839.0: {'touching_area': 18.0}, 1840.0: {'touching_area': 23.0}, 1841.0: {'touching_area': 12.0}, 1842.0: {'touching_area': 14.0}, 1843.0: {'touching_area': 22.0}, 1844.0: {'touching_area': 42.0}, 1845.0: {'touching_area': 75.0}, 1846.0: {'touching_area': 41.0}, 1847.0: {'touching_area': 46.0}, 1848.0: {'touching_area': 16.0}, 1849.0: {'touching_area': 12.0}, 1850.0: {'touching_area': 4.0}, 1851.0: {'touching_area': 26.0}, 1852.0: {'touching_area': 3.0}, 1853.0: {'touching_area': 4.0}, 1854.0: {'touching_area': 18.0}, 1855.0: {'touching_area': 73.0}, 1856.0: {'touching_area': 51.0}, 1857.0: {'touching_area': 4.0}, 1858.0: {'touching_area': 2.0}, 1859.0: {'touching_area': 28.0}}\n"
     ]
    }
   ],
   "source": [
    "graph = super_vox_to_graph.build_networkx_graph(neighbors, edges_with_voxel_size)"
   ],
   "metadata": {
    "collapsed": false,
    "pycharm": {
     "name": "#%%\n"
    }
   }
  },
  {
   "cell_type": "code",
   "execution_count": 174,
   "outputs": [
    {
     "data": {
      "text/plain": "NodeView((0.0, 1.0, 2.0, 3.0, 4.0, 5.0, 6.0, 7.0, 8.0, 9.0, 10.0, 11.0, 12.0, 13.0, 14.0, 15.0, 16.0, 17.0, 18.0, 19.0, 20.0, 21.0, 22.0, 23.0, 24.0, 25.0, 26.0, 27.0, 28.0, 29.0, 30.0, 31.0, 32.0, 33.0, 34.0, 35.0, 36.0, 37.0, 38.0, 39.0, 40.0, 41.0, 42.0, 43.0, 44.0, 45.0, 46.0, 47.0, 48.0, 49.0, 50.0, 51.0, 52.0, 53.0, 54.0, 55.0, 56.0, 57.0, 58.0, 59.0, 60.0, 61.0, 62.0, 63.0, 64.0, 65.0, 66.0, 67.0, 68.0, 69.0, 70.0, 71.0, 72.0, 73.0, 74.0, 75.0, 76.0, 77.0, 78.0, 79.0, 80.0, 81.0, 82.0, 83.0, 84.0, 85.0, 86.0, 87.0, 88.0, 89.0, 90.0, 91.0, 92.0, 93.0, 94.0, 95.0, 96.0, 97.0, 98.0, 99.0, 100.0, 101.0, 102.0, 103.0, 104.0, 105.0, 106.0, 107.0, 108.0, 109.0, 110.0, 111.0, 112.0, 113.0, 114.0, 115.0, 116.0, 117.0, 118.0, 119.0, 120.0, 121.0, 122.0, 123.0, 124.0, 125.0, 126.0, 127.0, 128.0, 129.0, 130.0, 131.0, 132.0, 133.0, 134.0, 135.0, 136.0, 137.0, 138.0, 139.0, 140.0, 141.0, 142.0, 143.0, 144.0, 145.0, 146.0, 147.0, 148.0, 149.0, 150.0, 151.0, 152.0, 153.0, 154.0, 155.0, 156.0, 157.0, 158.0, 159.0, 160.0, 161.0, 162.0, 163.0, 164.0, 165.0, 166.0, 167.0, 168.0, 169.0, 170.0, 171.0, 172.0, 173.0, 174.0, 175.0, 176.0, 177.0, 178.0, 179.0, 180.0, 181.0, 182.0, 183.0, 184.0, 185.0, 186.0, 187.0, 188.0, 189.0, 190.0, 191.0, 192.0, 193.0, 194.0, 195.0, 196.0, 197.0, 198.0, 199.0, 200.0, 201.0, 202.0, 203.0, 204.0, 205.0, 206.0, 207.0, 208.0, 209.0, 210.0, 211.0, 212.0, 213.0, 214.0, 215.0, 216.0, 217.0, 218.0, 219.0, 220.0, 221.0, 222.0, 223.0, 224.0, 225.0, 226.0, 227.0, 228.0, 229.0, 230.0, 231.0, 232.0, 233.0, 234.0, 235.0, 236.0, 237.0, 238.0, 239.0, 240.0, 241.0, 242.0, 243.0, 244.0, 245.0, 246.0, 247.0, 248.0, 249.0, 250.0, 251.0, 252.0, 253.0, 254.0, 255.0, 256.0, 257.0, 258.0, 259.0, 260.0, 261.0, 262.0, 263.0, 264.0, 265.0, 266.0, 267.0, 268.0, 269.0, 270.0, 271.0, 272.0, 273.0, 274.0, 275.0, 276.0, 277.0, 278.0, 279.0, 280.0, 281.0, 282.0, 283.0, 284.0, 285.0, 286.0, 287.0, 288.0, 289.0, 290.0, 291.0, 292.0, 293.0, 294.0, 295.0, 296.0, 297.0, 298.0, 299.0, 300.0, 301.0, 302.0, 303.0, 304.0, 305.0, 306.0, 307.0, 308.0, 309.0, 310.0, 311.0, 312.0, 313.0, 314.0, 315.0, 316.0, 317.0, 318.0, 319.0, 320.0, 321.0, 322.0, 323.0, 324.0, 325.0, 326.0, 327.0, 328.0, 329.0, 330.0, 331.0, 332.0, 333.0, 334.0, 335.0, 336.0, 337.0, 338.0, 339.0, 340.0, 341.0, 342.0, 343.0, 344.0, 345.0, 346.0, 347.0, 348.0, 349.0, 350.0, 351.0, 352.0, 353.0, 354.0, 355.0, 356.0, 357.0, 358.0, 359.0, 360.0, 361.0, 362.0, 363.0, 364.0, 365.0, 366.0, 367.0, 368.0, 369.0, 370.0, 371.0, 372.0, 373.0, 374.0, 375.0, 376.0, 377.0, 378.0, 379.0, 380.0, 381.0, 382.0, 383.0, 384.0, 385.0, 386.0, 387.0, 388.0, 389.0, 390.0, 391.0, 392.0, 393.0, 394.0, 395.0, 396.0, 397.0, 398.0, 399.0, 400.0, 401.0, 402.0, 403.0, 404.0, 405.0, 406.0, 407.0, 408.0, 409.0, 410.0, 411.0, 412.0, 413.0, 414.0, 415.0, 416.0, 417.0, 418.0, 419.0, 420.0, 421.0, 422.0, 423.0, 424.0, 425.0, 426.0, 427.0, 428.0, 429.0, 430.0, 431.0, 432.0, 433.0, 434.0, 435.0, 436.0, 437.0, 438.0, 439.0, 440.0, 441.0, 442.0, 443.0, 444.0, 445.0, 446.0, 447.0, 448.0, 449.0, 450.0, 451.0, 452.0, 453.0, 454.0, 455.0, 456.0, 457.0, 458.0, 459.0, 460.0, 461.0, 462.0, 463.0, 464.0, 465.0, 466.0, 467.0, 468.0, 469.0, 470.0, 471.0, 472.0, 473.0, 474.0, 475.0, 476.0, 477.0, 478.0, 479.0, 480.0, 481.0, 482.0, 483.0, 484.0, 485.0, 486.0, 487.0, 488.0, 489.0, 490.0, 491.0, 492.0, 493.0, 494.0, 495.0, 496.0, 497.0, 498.0, 499.0, 500.0, 501.0, 502.0, 503.0, 504.0, 505.0, 506.0, 507.0, 508.0, 509.0, 510.0, 511.0, 512.0, 513.0, 514.0, 515.0, 516.0, 517.0, 518.0, 519.0, 520.0, 521.0, 522.0, 523.0, 524.0, 525.0, 526.0, 527.0, 528.0, 529.0, 530.0, 531.0, 532.0, 533.0, 534.0, 535.0, 536.0, 537.0, 538.0, 539.0, 540.0, 541.0, 542.0, 543.0, 544.0, 545.0, 546.0, 547.0, 548.0, 549.0, 550.0, 551.0, 552.0, 553.0, 554.0, 555.0, 556.0, 557.0, 558.0, 559.0, 560.0, 561.0, 562.0, 563.0, 564.0, 565.0, 566.0, 567.0, 568.0, 569.0, 570.0, 571.0, 572.0, 573.0, 574.0, 575.0, 576.0, 577.0, 578.0, 579.0, 580.0, 581.0, 582.0, 583.0, 584.0, 585.0, 586.0, 587.0, 588.0, 589.0, 590.0, 591.0, 592.0, 593.0, 594.0, 595.0, 596.0, 597.0, 598.0, 599.0, 600.0, 601.0, 602.0, 603.0, 604.0, 605.0, 606.0, 607.0, 608.0, 609.0, 610.0, 611.0, 612.0, 613.0, 614.0, 615.0, 616.0, 617.0, 618.0, 619.0, 620.0, 621.0, 622.0, 623.0, 624.0, 625.0, 626.0, 627.0, 628.0, 629.0, 630.0, 631.0, 632.0, 633.0, 634.0, 635.0, 636.0, 637.0, 638.0, 639.0, 640.0, 641.0, 642.0, 643.0, 644.0, 645.0, 646.0, 647.0, 648.0, 649.0, 650.0, 651.0, 652.0, 653.0, 654.0, 655.0, 656.0, 657.0, 658.0, 659.0, 660.0, 661.0, 662.0, 663.0, 664.0, 665.0, 666.0, 667.0, 668.0, 669.0, 670.0, 671.0, 672.0, 673.0, 674.0, 675.0, 676.0, 677.0, 678.0, 679.0, 680.0, 681.0, 682.0, 683.0, 684.0, 685.0, 686.0, 687.0, 688.0, 689.0, 690.0, 691.0, 692.0, 693.0, 694.0, 695.0, 696.0, 697.0, 698.0, 699.0, 700.0, 701.0, 702.0, 703.0, 704.0, 705.0, 706.0, 707.0, 708.0, 709.0, 710.0, 711.0, 712.0, 713.0, 714.0, 715.0, 716.0, 717.0, 718.0, 719.0, 720.0, 721.0, 722.0, 723.0, 724.0, 725.0, 726.0, 727.0, 728.0, 729.0, 730.0, 731.0, 732.0, 733.0, 734.0, 735.0, 736.0, 737.0, 738.0, 739.0, 740.0, 741.0, 742.0, 743.0, 744.0, 745.0, 746.0, 747.0, 748.0, 749.0, 750.0, 751.0, 752.0, 753.0, 754.0, 755.0, 756.0, 757.0, 758.0, 759.0, 760.0, 761.0, 762.0, 763.0, 764.0, 765.0, 766.0, 767.0, 768.0, 769.0, 770.0, 771.0, 772.0, 773.0, 774.0, 775.0, 776.0, 777.0, 778.0, 779.0, 780.0, 781.0, 782.0, 783.0, 784.0, 785.0, 786.0, 787.0, 788.0, 789.0, 790.0, 791.0, 792.0, 793.0, 794.0, 795.0, 796.0, 797.0, 798.0, 799.0, 800.0, 801.0, 802.0, 803.0, 804.0, 805.0, 806.0, 807.0, 808.0, 809.0, 810.0, 811.0, 812.0, 813.0, 814.0, 815.0, 816.0, 817.0, 818.0, 819.0, 820.0, 821.0, 822.0, 823.0, 824.0, 825.0, 826.0, 827.0, 828.0, 829.0, 830.0, 831.0, 832.0, 833.0, 834.0, 835.0, 836.0, 837.0, 838.0, 839.0, 840.0, 841.0, 842.0, 843.0, 844.0, 845.0, 846.0, 847.0, 848.0, 849.0, 850.0, 851.0, 852.0, 853.0, 854.0, 855.0, 856.0, 857.0, 858.0, 859.0, 860.0, 861.0, 862.0, 863.0, 864.0, 865.0, 866.0, 867.0, 868.0, 869.0, 870.0, 871.0, 872.0, 873.0, 874.0, 875.0, 876.0, 877.0, 878.0, 879.0, 880.0, 881.0, 882.0, 883.0, 884.0, 885.0, 886.0, 887.0, 888.0, 889.0, 890.0, 891.0, 892.0, 893.0, 894.0, 895.0, 896.0, 897.0, 898.0, 899.0, 900.0, 901.0, 902.0, 903.0, 904.0, 905.0, 906.0, 907.0, 908.0, 909.0, 910.0, 911.0, 912.0, 913.0, 914.0, 915.0, 916.0, 917.0, 918.0, 919.0, 920.0, 921.0, 922.0, 923.0, 924.0, 925.0, 926.0, 927.0, 928.0, 929.0, 930.0, 931.0, 932.0, 933.0, 934.0, 935.0, 936.0, 937.0, 938.0, 939.0, 940.0, 941.0, 942.0, 943.0, 944.0, 945.0, 946.0, 947.0, 948.0, 949.0, 950.0, 951.0, 952.0, 953.0, 954.0, 955.0, 956.0, 957.0, 958.0, 959.0, 960.0, 961.0, 962.0, 963.0, 964.0, 965.0, 966.0, 967.0, 968.0, 969.0, 970.0, 971.0, 972.0, 973.0, 974.0, 975.0, 976.0, 977.0, 978.0, 979.0, 980.0, 981.0, 982.0, 983.0, 984.0, 985.0, 986.0, 987.0, 988.0, 989.0, 990.0, 991.0, 992.0, 993.0, 994.0, 995.0, 996.0, 997.0, 998.0, 999.0, 1000.0, 1001.0, 1002.0, 1003.0, 1004.0, 1005.0, 1006.0, 1007.0, 1008.0, 1009.0, 1010.0, 1011.0, 1012.0, 1013.0, 1014.0, 1015.0, 1016.0, 1017.0, 1018.0, 1019.0, 1020.0, 1021.0, 1022.0, 1023.0, 1024.0, 1025.0, 1026.0, 1027.0, 1028.0, 1029.0, 1030.0, 1031.0, 1032.0, 1033.0, 1034.0, 1035.0, 1036.0, 1037.0, 1038.0, 1039.0, 1040.0, 1041.0, 1042.0, 1043.0, 1044.0, 1045.0, 1046.0, 1047.0, 1048.0, 1049.0, 1050.0, 1051.0, 1052.0, 1053.0, 1054.0, 1055.0, 1056.0, 1057.0, 1058.0, 1059.0, 1060.0, 1061.0, 1062.0, 1063.0, 1064.0, 1065.0, 1066.0, 1067.0, 1068.0, 1069.0, 1070.0, 1071.0, 1072.0, 1073.0, 1074.0, 1075.0, 1076.0, 1077.0, 1078.0, 1079.0, 1080.0, 1081.0, 1082.0, 1083.0, 1084.0, 1085.0, 1086.0, 1087.0, 1088.0, 1089.0, 1090.0, 1091.0, 1092.0, 1093.0, 1094.0, 1095.0, 1096.0, 1097.0, 1098.0, 1099.0, 1100.0, 1101.0, 1102.0, 1103.0, 1104.0, 1105.0, 1106.0, 1107.0, 1108.0, 1109.0, 1110.0, 1111.0, 1112.0, 1113.0, 1114.0, 1115.0, 1116.0, 1117.0, 1118.0, 1119.0, 1120.0, 1121.0, 1122.0, 1123.0, 1124.0, 1125.0, 1126.0, 1127.0, 1128.0, 1129.0, 1130.0, 1131.0, 1132.0, 1133.0, 1134.0, 1135.0, 1136.0, 1137.0, 1138.0, 1139.0, 1140.0, 1141.0, 1142.0, 1143.0, 1144.0, 1145.0, 1146.0, 1147.0, 1148.0, 1149.0, 1150.0, 1151.0, 1152.0, 1153.0, 1154.0, 1155.0, 1156.0, 1157.0, 1158.0, 1159.0, 1160.0, 1161.0, 1162.0, 1163.0, 1164.0, 1165.0, 1166.0, 1167.0, 1168.0, 1169.0, 1170.0, 1171.0, 1172.0, 1173.0, 1174.0, 1175.0, 1176.0, 1177.0, 1178.0, 1179.0, 1180.0, 1181.0, 1182.0, 1183.0, 1184.0, 1185.0, 1186.0, 1187.0, 1188.0, 1189.0, 1190.0, 1191.0, 1192.0, 1193.0, 1194.0, 1195.0, 1196.0, 1197.0, 1198.0, 1199.0, 1200.0, 1201.0, 1202.0, 1203.0, 1204.0, 1205.0, 1206.0, 1207.0, 1208.0, 1209.0, 1210.0, 1211.0, 1212.0, 1213.0, 1214.0, 1215.0, 1216.0, 1217.0, 1218.0, 1219.0, 1220.0, 1221.0, 1222.0, 1223.0, 1224.0, 1225.0, 1226.0, 1227.0, 1228.0, 1229.0, 1230.0, 1231.0, 1232.0, 1233.0, 1234.0, 1235.0, 1236.0, 1237.0, 1238.0, 1239.0, 1240.0, 1241.0, 1242.0, 1243.0, 1244.0, 1245.0, 1246.0, 1247.0, 1248.0, 1249.0, 1250.0, 1251.0, 1252.0, 1253.0, 1254.0, 1255.0, 1256.0, 1257.0, 1258.0, 1259.0, 1260.0, 1261.0, 1262.0, 1263.0, 1264.0, 1265.0, 1266.0, 1267.0, 1268.0, 1269.0, 1270.0, 1271.0, 1272.0, 1273.0, 1274.0, 1275.0, 1276.0, 1277.0, 1278.0, 1279.0, 1280.0, 1281.0, 1282.0, 1283.0, 1284.0, 1285.0, 1286.0, 1287.0, 1288.0, 1289.0, 1290.0, 1291.0, 1292.0, 1293.0, 1294.0, 1295.0, 1296.0, 1297.0, 1298.0, 1299.0, 1300.0, 1301.0, 1302.0, 1303.0, 1304.0, 1305.0, 1306.0, 1307.0, 1308.0, 1309.0, 1310.0, 1311.0, 1312.0, 1313.0, 1314.0, 1315.0, 1316.0, 1317.0, 1318.0, 1319.0, 1320.0, 1321.0, 1322.0, 1323.0, 1324.0, 1325.0, 1326.0, 1327.0, 1328.0, 1329.0, 1330.0, 1331.0, 1332.0, 1333.0, 1334.0, 1335.0, 1336.0, 1337.0, 1338.0, 1339.0, 1340.0, 1341.0, 1342.0, 1343.0, 1344.0, 1345.0, 1346.0, 1347.0, 1348.0, 1349.0, 1350.0, 1351.0, 1352.0, 1353.0, 1354.0, 1355.0, 1356.0, 1357.0, 1358.0, 1359.0, 1360.0, 1361.0, 1362.0, 1363.0, 1364.0, 1365.0, 1366.0, 1367.0, 1368.0, 1369.0, 1370.0, 1371.0, 1372.0, 1373.0, 1374.0, 1375.0, 1376.0, 1377.0, 1378.0, 1379.0, 1380.0, 1381.0, 1382.0, 1383.0, 1384.0, 1385.0, 1386.0, 1387.0, 1388.0, 1389.0, 1390.0, 1391.0, 1392.0, 1393.0, 1394.0, 1395.0, 1396.0, 1397.0, 1398.0, 1399.0, 1400.0, 1401.0, 1402.0, 1403.0, 1404.0, 1405.0, 1406.0, 1407.0, 1408.0, 1409.0, 1410.0, 1411.0, 1412.0, 1413.0, 1414.0, 1415.0, 1416.0, 1417.0, 1418.0, 1419.0, 1420.0, 1421.0, 1422.0, 1423.0, 1424.0, 1425.0, 1426.0, 1427.0, 1428.0, 1429.0, 1430.0, 1431.0, 1432.0, 1433.0, 1434.0, 1435.0, 1436.0, 1437.0, 1438.0, 1439.0, 1440.0, 1441.0, 1442.0, 1443.0, 1444.0, 1445.0, 1446.0, 1447.0, 1448.0, 1449.0, 1450.0, 1451.0, 1452.0, 1453.0, 1454.0, 1455.0, 1456.0, 1457.0, 1458.0, 1459.0, 1460.0, 1461.0, 1462.0, 1463.0, 1464.0, 1465.0, 1466.0, 1467.0, 1468.0, 1469.0, 1470.0, 1471.0, 1472.0, 1473.0, 1474.0, 1475.0, 1476.0, 1477.0, 1478.0, 1479.0, 1480.0, 1481.0, 1482.0, 1483.0, 1484.0, 1485.0, 1486.0, 1487.0, 1488.0, 1489.0, 1490.0, 1491.0, 1492.0, 1493.0, 1494.0, 1495.0, 1496.0, 1497.0, 1498.0, 1499.0, 1500.0, 1501.0, 1502.0, 1503.0, 1504.0, 1505.0, 1506.0, 1507.0, 1508.0, 1509.0, 1510.0, 1511.0, 1512.0, 1513.0, 1514.0, 1515.0, 1516.0, 1517.0, 1518.0, 1519.0, 1520.0, 1521.0, 1522.0, 1523.0, 1524.0, 1525.0, 1526.0, 1527.0, 1528.0, 1529.0, 1530.0, 1531.0, 1532.0, 1533.0, 1534.0, 1535.0, 1536.0, 1537.0, 1538.0, 1539.0, 1540.0, 1541.0, 1542.0, 1543.0, 1544.0, 1545.0, 1546.0, 1547.0, 1548.0, 1549.0, 1550.0, 1551.0, 1552.0, 1553.0, 1554.0, 1555.0, 1556.0, 1557.0, 1558.0, 1559.0, 1560.0, 1561.0, 1562.0, 1563.0, 1564.0, 1565.0, 1566.0, 1567.0, 1568.0, 1569.0, 1570.0, 1571.0, 1572.0, 1573.0, 1574.0, 1575.0, 1576.0, 1577.0, 1578.0, 1579.0, 1580.0, 1581.0, 1582.0, 1583.0, 1584.0, 1585.0, 1586.0, 1587.0, 1588.0, 1589.0, 1590.0, 1591.0, 1592.0, 1593.0, 1594.0, 1595.0, 1596.0, 1597.0, 1598.0, 1599.0, 1600.0, 1601.0, 1602.0, 1603.0, 1604.0, 1605.0, 1606.0, 1607.0, 1608.0, 1609.0, 1610.0, 1611.0, 1612.0, 1613.0, 1614.0, 1615.0, 1616.0, 1617.0, 1618.0, 1619.0, 1620.0, 1621.0, 1622.0, 1623.0, 1624.0, 1625.0, 1626.0, 1627.0, 1628.0, 1629.0, 1630.0, 1631.0, 1632.0, 1633.0, 1634.0, 1635.0, 1636.0, 1637.0, 1638.0, 1639.0, 1640.0, 1641.0, 1642.0, 1643.0, 1644.0, 1645.0, 1646.0, 1647.0, 1648.0, 1649.0, 1650.0, 1651.0, 1652.0, 1653.0, 1654.0, 1655.0, 1656.0, 1657.0, 1658.0, 1659.0, 1660.0, 1661.0, 1662.0, 1663.0, 1664.0, 1665.0, 1666.0, 1667.0, 1668.0, 1669.0, 1670.0, 1671.0, 1672.0, 1673.0, 1674.0, 1675.0, 1676.0, 1677.0, 1678.0, 1679.0, 1680.0, 1681.0, 1682.0, 1683.0, 1684.0, 1685.0, 1686.0, 1687.0, 1688.0, 1689.0, 1690.0, 1691.0, 1692.0, 1693.0, 1694.0, 1695.0, 1696.0, 1697.0, 1698.0, 1699.0, 1700.0, 1701.0, 1702.0, 1703.0, 1704.0, 1705.0, 1706.0, 1707.0, 1708.0, 1709.0, 1710.0, 1711.0, 1712.0, 1713.0, 1714.0, 1715.0, 1716.0, 1717.0, 1718.0, 1719.0, 1720.0, 1721.0, 1722.0, 1723.0, 1724.0, 1725.0, 1726.0, 1727.0, 1728.0, 1729.0, 1730.0, 1731.0, 1732.0, 1733.0, 1734.0, 1735.0, 1736.0, 1737.0, 1738.0, 1739.0, 1740.0, 1741.0, 1742.0, 1743.0, 1744.0, 1745.0, 1746.0, 1747.0, 1748.0, 1749.0, 1750.0, 1751.0, 1752.0, 1753.0, 1754.0, 1755.0, 1756.0, 1757.0, 1758.0, 1759.0, 1760.0, 1761.0, 1762.0, 1763.0, 1764.0, 1765.0, 1766.0, 1767.0, 1768.0, 1769.0, 1770.0, 1771.0, 1772.0, 1773.0, 1774.0, 1775.0, 1776.0, 1777.0, 1778.0, 1779.0, 1780.0, 1781.0, 1782.0, 1783.0, 1784.0, 1785.0, 1786.0, 1787.0, 1788.0, 1789.0, 1790.0, 1791.0, 1792.0, 1793.0, 1794.0, 1795.0, 1796.0, 1797.0, 1798.0, 1799.0, 1800.0, 1801.0, 1802.0, 1803.0, 1804.0, 1805.0, 1806.0, 1807.0, 1808.0, 1809.0, 1810.0, 1811.0, 1812.0, 1813.0, 1814.0, 1815.0, 1816.0, 1817.0, 1818.0, 1819.0, 1820.0, 1821.0, 1822.0, 1823.0, 1824.0, 1825.0, 1826.0, 1827.0, 1828.0, 1829.0, 1830.0, 1831.0, 1832.0, 1833.0, 1834.0, 1835.0, 1836.0, 1837.0, 1838.0, 1839.0, 1840.0, 1841.0, 1842.0, 1843.0, 1844.0, 1845.0, 1846.0, 1847.0, 1848.0, 1849.0, 1850.0, 1851.0, 1852.0, 1853.0, 1854.0, 1855.0, 1856.0, 1857.0, 1858.0, 1859.0))"
     },
     "execution_count": 174,
     "metadata": {},
     "output_type": "execute_result"
    }
   ],
   "source": [
    "graph.nodes()"
   ],
   "metadata": {
    "collapsed": false,
    "pycharm": {
     "name": "#%%\n"
    }
   }
  },
  {
   "cell_type": "code",
   "execution_count": 176,
   "outputs": [
    {
     "data": {
      "text/plain": "{0.0: 16.0,\n 1.0: 11.0,\n 2.0: 2.0,\n 3.0: 2.0,\n 4.0: 1.0,\n 5.0: 3.0,\n 6.0: 1.0,\n 7.0: 5.0,\n 8.0: 16.0,\n 9.0: 3.0,\n 10.0: 1.0,\n 11.0: 24.0,\n 12.0: 4.0,\n 13.0: 8.0,\n 14.0: 42.0,\n 15.0: 5.0,\n 16.0: 18.0,\n 17.0: 4.0,\n 18.0: 25.0,\n 19.0: 54.0,\n 20.0: 2.0,\n 21.0: 3.0,\n 22.0: 4.0,\n 23.0: 33.0,\n 24.0: 8.0,\n 25.0: 17.0,\n 26.0: 19.0,\n 27.0: 26.0,\n 28.0: 3.0,\n 29.0: 1.0,\n 30.0: 1.0,\n 31.0: 4.0,\n 32.0: 5.0,\n 33.0: 1.0,\n 34.0: 3.0,\n 35.0: 3.0,\n 36.0: 4.0,\n 37.0: 29.0,\n 38.0: 33.0,\n 39.0: 10.0,\n 40.0: 1.0,\n 41.0: 11.0,\n 42.0: 29.0,\n 43.0: 2.0,\n 44.0: 7.0,\n 45.0: 28.0,\n 46.0: 29.0,\n 47.0: 5.0,\n 48.0: 7.0,\n 49.0: 5.0,\n 50.0: 13.0,\n 51.0: 44.0,\n 52.0: 23.0,\n 53.0: 10.0,\n 54.0: 2.0,\n 55.0: 14.0,\n 56.0: 26.0,\n 57.0: 32.0,\n 58.0: 1.0,\n 59.0: 26.0,\n 60.0: 17.0,\n 61.0: 17.0,\n 62.0: 11.0,\n 63.0: 11.0,\n 64.0: 8.0,\n 65.0: 28.0,\n 66.0: 3.0,\n 67.0: 2.0,\n 68.0: 25.0,\n 69.0: 84.0,\n 70.0: 18.0,\n 71.0: 30.0,\n 72.0: 27.0,\n 73.0: 68.0,\n 74.0: 42.0,\n 75.0: 2.0,\n 76.0: 1.0,\n 77.0: 2.0,\n 78.0: 2.0,\n 79.0: 2.0,\n 80.0: 1.0,\n 81.0: 6.0,\n 82.0: 3.0,\n 83.0: 13.0,\n 84.0: 8.0,\n 85.0: 1.0,\n 86.0: 4.0,\n 87.0: 6.0,\n 88.0: 2.0,\n 89.0: 26.0,\n 90.0: 1.0,\n 91.0: 54.0,\n 92.0: 8.0,\n 93.0: 2.0,\n 94.0: 4.0,\n 95.0: 2.0,\n 96.0: 31.0,\n 97.0: 13.0,\n 98.0: 9.0,\n 99.0: 20.0,\n 100.0: 23.0,\n 101.0: 7.0,\n 102.0: 17.0,\n 103.0: 8.0,\n 104.0: 4.0,\n 105.0: 2.0,\n 106.0: 1.0,\n 107.0: 4.0,\n 108.0: 6.0,\n 109.0: 29.0,\n 110.0: 6.0,\n 111.0: 7.0,\n 112.0: 79.0,\n 113.0: 4.0,\n 114.0: 4.0,\n 115.0: 37.0,\n 116.0: 7.0,\n 117.0: 1.0,\n 118.0: 8.0,\n 119.0: 3.0,\n 120.0: 7.0,\n 121.0: 29.0,\n 122.0: 2.0,\n 123.0: 11.0,\n 124.0: 22.0,\n 125.0: 1.0,\n 126.0: 4.0,\n 127.0: 8.0,\n 128.0: 40.0,\n 129.0: 16.0,\n 130.0: 1.0,\n 131.0: 4.0,\n 132.0: 3.0,\n 133.0: 13.0,\n 134.0: 2.0,\n 135.0: 18.0,\n 136.0: 7.0,\n 137.0: 4.0,\n 138.0: 66.0,\n 139.0: 2.0,\n 140.0: 21.0,\n 141.0: 15.0,\n 142.0: 8.0,\n 143.0: 9.0,\n 144.0: 2.0,\n 145.0: 21.0,\n 146.0: 32.0,\n 147.0: 4.0,\n 148.0: 2.0,\n 149.0: 23.0,\n 150.0: 2.0,\n 151.0: 17.0,\n 152.0: 19.0,\n 153.0: 2.0,\n 154.0: 1.0,\n 155.0: 3.0,\n 156.0: 3.0,\n 157.0: 19.0,\n 158.0: 2.0,\n 159.0: 3.0,\n 160.0: 6.0,\n 161.0: 3.0,\n 162.0: 21.0,\n 163.0: 17.0,\n 164.0: 10.0,\n 165.0: 3.0,\n 166.0: 34.0,\n 167.0: 57.0,\n 168.0: 6.0,\n 169.0: 25.0,\n 170.0: 9.0,\n 171.0: 13.0,\n 172.0: 2.0,\n 173.0: 44.0,\n 174.0: 56.0,\n 175.0: 62.0,\n 176.0: 6.0,\n 177.0: 11.0,\n 178.0: 2.0,\n 179.0: 24.0,\n 180.0: 36.0,\n 181.0: 38.0,\n 182.0: 25.0,\n 183.0: 18.0,\n 184.0: 3.0,\n 185.0: 1.0,\n 186.0: 1.0,\n 187.0: 2.0,\n 188.0: 47.0,\n 189.0: 17.0,\n 190.0: 8.0,\n 191.0: 77.0,\n 192.0: 3.0,\n 193.0: 5.0,\n 194.0: 5.0,\n 195.0: 2.0,\n 196.0: 21.0,\n 197.0: 1.0,\n 198.0: 2.0,\n 199.0: 34.0,\n 200.0: 12.0,\n 201.0: 13.0,\n 202.0: 19.0,\n 203.0: 45.0,\n 204.0: 13.0,\n 205.0: 9.0,\n 206.0: 22.0,\n 207.0: 8.0,\n 208.0: 46.0,\n 209.0: 10.0,\n 210.0: 13.0,\n 211.0: 9.0,\n 212.0: 11.0,\n 213.0: 45.0,\n 214.0: 6.0,\n 215.0: 1.0,\n 216.0: 7.0,\n 217.0: 10.0,\n 218.0: 3.0,\n 219.0: 3.0,\n 220.0: 5.0,\n 221.0: 2.0,\n 222.0: 28.0,\n 223.0: 8.0,\n 224.0: 7.0,\n 225.0: 12.0,\n 226.0: 1.0,\n 227.0: 1.0,\n 228.0: 29.0,\n 229.0: 34.0,\n 230.0: 4.0,\n 231.0: 1.0,\n 232.0: 11.0,\n 233.0: 65.0,\n 234.0: 53.0,\n 235.0: 4.0,\n 236.0: 22.0,\n 237.0: 1.0,\n 238.0: 22.0,\n 239.0: 4.0,\n 240.0: 1.0,\n 241.0: 2.0,\n 242.0: 70.0,\n 243.0: 6.0,\n 244.0: 9.0,\n 245.0: 39.0,\n 246.0: 9.0,\n 247.0: 7.0,\n 248.0: 13.0,\n 249.0: 44.0,\n 250.0: 30.0,\n 251.0: 3.0,\n 252.0: 3.0,\n 253.0: 11.0,\n 254.0: 5.0,\n 255.0: 16.0,\n 256.0: 21.0,\n 257.0: 16.0,\n 258.0: 9.0,\n 259.0: 1.0,\n 260.0: 6.0,\n 261.0: 9.0,\n 262.0: 34.0,\n 263.0: 25.0,\n 264.0: 10.0,\n 265.0: 33.0,\n 266.0: 22.0,\n 267.0: 14.0,\n 268.0: 33.0,\n 269.0: 10.0,\n 270.0: 13.0,\n 271.0: 17.0,\n 272.0: 5.0,\n 273.0: 9.0,\n 274.0: 37.0,\n 275.0: 15.0,\n 276.0: 1.0,\n 277.0: 8.0,\n 278.0: 1.0,\n 279.0: 39.0,\n 280.0: 19.0,\n 281.0: 68.0,\n 282.0: 5.0,\n 283.0: 19.0,\n 284.0: 19.0,\n 285.0: 20.0,\n 286.0: 2.0,\n 287.0: 3.0,\n 288.0: 1.0,\n 289.0: 35.0,\n 290.0: 9.0,\n 291.0: 2.0,\n 292.0: 5.0,\n 293.0: 3.0,\n 294.0: 7.0,\n 295.0: 58.0,\n 296.0: 49.0,\n 297.0: 4.0,\n 298.0: 21.0,\n 299.0: 13.0,\n 300.0: 2.0,\n 301.0: 26.0,\n 302.0: 12.0,\n 303.0: 4.0,\n 304.0: 3.0,\n 305.0: 18.0,\n 306.0: 3.0,\n 307.0: 30.0,\n 308.0: 6.0,\n 309.0: 22.0,\n 310.0: 30.0,\n 311.0: 28.0,\n 312.0: 15.0,\n 313.0: 11.0,\n 314.0: 9.0,\n 315.0: 15.0,\n 316.0: 15.0,\n 317.0: 16.0,\n 318.0: 12.0,\n 319.0: 12.0,\n 320.0: 15.0,\n 321.0: 16.0,\n 322.0: 51.0,\n 323.0: 2.0,\n 324.0: 5.0,\n 325.0: 5.0,\n 326.0: 51.0,\n 327.0: 5.0,\n 328.0: 51.0,\n 329.0: 44.0,\n 330.0: 9.0,\n 331.0: 19.0,\n 332.0: 1.0,\n 333.0: 52.0,\n 334.0: 2.0,\n 335.0: 12.0,\n 336.0: 16.0,\n 337.0: 2.0,\n 338.0: 51.0,\n 339.0: 60.0,\n 340.0: 15.0,\n 341.0: 35.0,\n 342.0: 24.0,\n 343.0: 23.0,\n 344.0: 25.0,\n 345.0: 27.0,\n 346.0: 3.0,\n 347.0: 17.0,\n 348.0: 10.0,\n 349.0: 21.0,\n 350.0: 1.0,\n 351.0: 3.0,\n 352.0: 70.0,\n 353.0: 22.0,\n 354.0: 23.0,\n 355.0: 13.0,\n 356.0: 1.0,\n 357.0: 34.0,\n 358.0: 31.0,\n 359.0: 32.0,\n 360.0: 1.0,\n 361.0: 7.0,\n 362.0: 4.0,\n 363.0: 43.0,\n 364.0: 20.0,\n 365.0: 47.0,\n 366.0: 1.0,\n 367.0: 5.0,\n 368.0: 3.0,\n 369.0: 53.0,\n 370.0: 3.0,\n 371.0: 9.0,\n 372.0: 22.0,\n 373.0: 41.0,\n 374.0: 1.0,\n 375.0: 16.0,\n 376.0: 15.0,\n 377.0: 11.0,\n 378.0: 14.0,\n 379.0: 11.0,\n 380.0: 46.0,\n 381.0: 15.0,\n 382.0: 23.0,\n 383.0: 1.0,\n 384.0: 9.0,\n 385.0: 14.0,\n 386.0: 2.0,\n 387.0: 31.0,\n 388.0: 63.0,\n 389.0: 13.0,\n 390.0: 3.0,\n 391.0: 29.0,\n 392.0: 2.0,\n 393.0: 22.0,\n 394.0: 38.0,\n 395.0: 30.0,\n 396.0: 1.0,\n 397.0: 6.0,\n 398.0: 7.0,\n 399.0: 19.0,\n 400.0: 11.0,\n 401.0: 13.0,\n 402.0: 3.0,\n 403.0: 44.0,\n 404.0: 10.0,\n 405.0: 26.0,\n 406.0: 7.0,\n 407.0: 34.0,\n 408.0: 19.0,\n 409.0: 24.0,\n 410.0: 65.0,\n 411.0: 6.0,\n 412.0: 4.0,\n 413.0: 11.0,\n 414.0: 1.0,\n 415.0: 4.0,\n 416.0: 18.0,\n 417.0: 3.0,\n 418.0: 6.0,\n 419.0: 19.0,\n 420.0: 3.0,\n 421.0: 7.0,\n 422.0: 27.0,\n 423.0: 5.0,\n 424.0: 8.0,\n 425.0: 3.0,\n 426.0: 16.0,\n 427.0: 20.0,\n 428.0: 14.0,\n 429.0: 38.0,\n 430.0: 21.0,\n 431.0: 1.0,\n 432.0: 7.0,\n 433.0: 20.0,\n 434.0: 10.0,\n 435.0: 39.0,\n 436.0: 24.0,\n 437.0: 2.0,\n 438.0: 1.0,\n 439.0: 15.0,\n 440.0: 12.0,\n 441.0: 8.0,\n 442.0: 12.0,\n 443.0: 26.0,\n 444.0: 22.0,\n 445.0: 62.0,\n 446.0: 1.0,\n 447.0: 1.0,\n 448.0: 4.0,\n 449.0: 6.0,\n 450.0: 57.0,\n 451.0: 29.0,\n 452.0: 17.0,\n 453.0: 20.0,\n 454.0: 1.0,\n 455.0: 6.0,\n 456.0: 34.0,\n 457.0: 4.0,\n 458.0: 39.0,\n 459.0: 14.0,\n 460.0: 16.0,\n 461.0: 2.0,\n 462.0: 80.0,\n 463.0: 25.0,\n 464.0: 8.0,\n 465.0: 4.0,\n 466.0: 16.0,\n 467.0: 17.0,\n 468.0: 2.0,\n 469.0: 10.0,\n 470.0: 8.0,\n 471.0: 33.0,\n 472.0: 24.0,\n 473.0: 25.0,\n 474.0: 35.0,\n 475.0: 10.0,\n 476.0: 12.0,\n 477.0: 5.0,\n 478.0: 3.0,\n 479.0: 11.0,\n 480.0: 7.0,\n 481.0: 6.0,\n 482.0: 10.0,\n 483.0: 27.0,\n 484.0: 15.0,\n 485.0: 33.0,\n 486.0: 30.0,\n 487.0: 21.0,\n 488.0: 29.0,\n 489.0: 15.0,\n 490.0: 15.0,\n 491.0: 34.0,\n 492.0: 16.0,\n 493.0: 1.0,\n 494.0: 5.0,\n 495.0: 1.0,\n 496.0: 12.0,\n 497.0: 28.0,\n 498.0: 24.0,\n 499.0: 4.0,\n 500.0: 9.0,\n 501.0: 1.0,\n 502.0: 23.0,\n 503.0: 11.0,\n 504.0: 17.0,\n 505.0: 1.0,\n 506.0: 8.0,\n 507.0: 32.0,\n 508.0: 8.0,\n 509.0: 41.0,\n 510.0: 7.0,\n 511.0: 2.0,\n 512.0: 28.0,\n 513.0: 21.0,\n 514.0: 14.0,\n 515.0: 23.0,\n 516.0: 4.0,\n 517.0: 28.0,\n 518.0: 16.0,\n 519.0: 17.0,\n 520.0: 1.0,\n 521.0: 8.0,\n 522.0: 8.0,\n 523.0: 7.0,\n 524.0: 40.0,\n 525.0: 21.0,\n 526.0: 5.0,\n 527.0: 24.0,\n 528.0: 7.0,\n 529.0: 32.0,\n 530.0: 2.0,\n 531.0: 3.0,\n 532.0: 7.0,\n 533.0: 21.0,\n 534.0: 9.0,\n 535.0: 34.0,\n 536.0: 17.0,\n 537.0: 16.0,\n 538.0: 1.0,\n 539.0: 38.0,\n 540.0: 2.0,\n 541.0: 4.0,\n 542.0: 5.0,\n 543.0: 15.0,\n 544.0: 22.0,\n 545.0: 24.0,\n 546.0: 8.0,\n 547.0: 4.0,\n 548.0: 4.0,\n 549.0: 24.0,\n 550.0: 3.0,\n 551.0: 17.0,\n 552.0: 9.0,\n 553.0: 5.0,\n 554.0: 10.0,\n 555.0: 7.0,\n 556.0: 1.0,\n 557.0: 36.0,\n 558.0: 18.0,\n 559.0: 13.0,\n 560.0: 4.0,\n 561.0: 6.0,\n 562.0: 14.0,\n 563.0: 18.0,\n 564.0: 15.0,\n 565.0: 16.0,\n 566.0: 7.0,\n 567.0: 13.0,\n 568.0: 6.0,\n 569.0: 35.0,\n 570.0: 34.0,\n 571.0: 4.0,\n 572.0: 40.0,\n 573.0: 38.0,\n 574.0: 1.0,\n 575.0: 7.0,\n 576.0: 59.0,\n 577.0: 4.0,\n 578.0: 4.0,\n 579.0: 4.0,\n 580.0: 8.0,\n 581.0: 29.0,\n 582.0: 36.0,\n 583.0: 37.0,\n 584.0: 6.0,\n 585.0: 9.0,\n 586.0: 4.0,\n 587.0: 5.0,\n 588.0: 8.0,\n 589.0: 4.0,\n 590.0: 14.0,\n 591.0: 31.0,\n 592.0: 26.0,\n 593.0: 1.0,\n 594.0: 16.0,\n 595.0: 45.0,\n 596.0: 40.0,\n 597.0: 1.0,\n 598.0: 10.0,\n 599.0: 63.0,\n 600.0: 9.0,\n 601.0: 9.0,\n 602.0: 3.0,\n 603.0: 3.0,\n 604.0: 29.0,\n 605.0: 9.0,\n 606.0: 6.0,\n 607.0: 4.0,\n 608.0: 18.0,\n 609.0: 22.0,\n 610.0: 15.0,\n 611.0: 26.0,\n 612.0: 22.0,\n 613.0: 3.0,\n 614.0: 106.0,\n 615.0: 2.0,\n 616.0: 31.0,\n 617.0: 4.0,\n 618.0: 10.0,\n 619.0: 18.0,\n 620.0: 38.0,\n 621.0: 8.0,\n 622.0: 6.0,\n 623.0: 5.0,\n 624.0: 12.0,\n 625.0: 3.0,\n 626.0: 37.0,\n 627.0: 30.0,\n 628.0: 1.0,\n 629.0: 1.0,\n 630.0: 2.0,\n 631.0: 4.0,\n 632.0: 2.0,\n 633.0: 33.0,\n 634.0: 4.0,\n 635.0: 6.0,\n 636.0: 2.0,\n 637.0: 2.0,\n 638.0: 2.0,\n 639.0: 11.0,\n 640.0: 8.0,\n 641.0: 43.0,\n 642.0: 23.0,\n 643.0: 4.0,\n 644.0: 3.0,\n 645.0: 10.0,\n 646.0: 7.0,\n 647.0: 13.0,\n 648.0: 21.0,\n 649.0: 2.0,\n 650.0: 19.0,\n 651.0: 23.0,\n 652.0: 11.0,\n 653.0: 106.0,\n 654.0: 3.0,\n 655.0: 1.0,\n 656.0: 5.0,\n 657.0: 5.0,\n 658.0: 2.0,\n 659.0: 46.0,\n 660.0: 3.0,\n 661.0: 6.0,\n 662.0: 3.0,\n 663.0: 33.0,\n 664.0: 13.0,\n 665.0: 1.0,\n 666.0: 3.0,\n 667.0: 4.0,\n 668.0: 10.0,\n 669.0: 31.0,\n 670.0: 4.0,\n 671.0: 1.0,\n 672.0: 16.0,\n 673.0: 15.0,\n 674.0: 34.0,\n 675.0: 7.0,\n 676.0: 3.0,\n 677.0: 68.0,\n 678.0: 17.0,\n 679.0: 1.0,\n 680.0: 1.0,\n 681.0: 2.0,\n 682.0: 10.0,\n 683.0: 26.0,\n 684.0: 34.0,\n 685.0: 35.0,\n 686.0: 5.0,\n 687.0: 42.0,\n 688.0: 36.0,\n 689.0: 4.0,\n 690.0: 1.0,\n 691.0: 3.0,\n 692.0: 1.0,\n 693.0: 3.0,\n 694.0: 5.0,\n 695.0: 11.0,\n 696.0: 1.0,\n 697.0: 50.0,\n 698.0: 1.0,\n 699.0: 34.0,\n 700.0: 2.0,\n 701.0: 58.0,\n 702.0: 67.0,\n 703.0: 26.0,\n 704.0: 54.0,\n 705.0: 4.0,\n 706.0: 47.0,\n 707.0: 45.0,\n 708.0: 20.0,\n 709.0: 36.0,\n 710.0: 8.0,\n 711.0: 8.0,\n 712.0: 47.0,\n 713.0: 2.0,\n 714.0: 10.0,\n 715.0: 14.0,\n 716.0: 27.0,\n 717.0: 50.0,\n 718.0: 51.0,\n 719.0: 31.0,\n 720.0: 15.0,\n 721.0: 50.0,\n 722.0: 4.0,\n 723.0: 15.0,\n 724.0: 19.0,\n 725.0: 55.0,\n 726.0: 2.0,\n 727.0: 13.0,\n 728.0: 73.0,\n 729.0: 74.0,\n 730.0: 40.0,\n 731.0: 15.0,\n 732.0: 15.0,\n 733.0: 1.0,\n 734.0: 4.0,\n 735.0: 6.0,\n 736.0: 5.0,\n 737.0: 2.0,\n 738.0: 8.0,\n 739.0: 14.0,\n 740.0: 27.0,\n 741.0: 1.0,\n 742.0: 2.0,\n 743.0: 41.0,\n 744.0: 8.0,\n 745.0: 16.0,\n 746.0: 1.0,\n 747.0: 9.0,\n 748.0: 30.0,\n 749.0: 32.0,\n 750.0: 30.0,\n 751.0: 3.0,\n 752.0: 11.0,\n 753.0: 4.0,\n 754.0: 1.0,\n 755.0: 48.0,\n 756.0: 4.0,\n 757.0: 4.0,\n 758.0: 2.0,\n 759.0: 21.0,\n 760.0: 13.0,\n 761.0: 20.0,\n 762.0: 19.0,\n 763.0: 26.0,\n 764.0: 19.0,\n 765.0: 2.0,\n 766.0: 24.0,\n 767.0: 2.0,\n 768.0: 18.0,\n 769.0: 15.0,\n 770.0: 3.0,\n 771.0: 13.0,\n 772.0: 1.0,\n 773.0: 7.0,\n 774.0: 66.0,\n 775.0: 20.0,\n 776.0: 12.0,\n 777.0: 36.0,\n 778.0: 45.0,\n 779.0: 40.0,\n 780.0: 23.0,\n 781.0: 31.0,\n 782.0: 23.0,\n 783.0: 12.0,\n 784.0: 8.0,\n 785.0: 3.0,\n 786.0: 46.0,\n 787.0: 2.0,\n 788.0: 22.0,\n 789.0: 18.0,\n 790.0: 1.0,\n 791.0: 1.0,\n 792.0: 13.0,\n 793.0: 70.0,\n 794.0: 9.0,\n 795.0: 8.0,\n 796.0: 8.0,\n 797.0: 17.0,\n 798.0: 12.0,\n 799.0: 25.0,\n 800.0: 5.0,\n 801.0: 2.0,\n 802.0: 9.0,\n 803.0: 4.0,\n 804.0: 9.0,\n 805.0: 2.0,\n 806.0: 3.0,\n 807.0: 4.0,\n 808.0: 2.0,\n 809.0: 1.0,\n 810.0: 21.0,\n 811.0: 93.0,\n 812.0: 71.0,\n 813.0: 11.0,\n 814.0: 16.0,\n 815.0: 5.0,\n 816.0: 2.0,\n 817.0: 1.0,\n 818.0: 4.0,\n 819.0: 3.0,\n 820.0: 3.0,\n 821.0: 2.0,\n 822.0: 6.0,\n 823.0: 26.0,\n 824.0: 1.0,\n 825.0: 3.0,\n 826.0: 25.0,\n 827.0: 7.0,\n 828.0: 13.0,\n 829.0: 21.0,\n 830.0: 15.0,\n 831.0: 29.0,\n 832.0: 7.0,\n 833.0: 31.0,\n 834.0: 3.0,\n 835.0: 9.0,\n 836.0: 6.0,\n 837.0: 5.0,\n 838.0: 2.0,\n 839.0: 13.0,\n 840.0: 8.0,\n 841.0: 21.0,\n 842.0: 4.0,\n 843.0: 5.0,\n 844.0: 2.0,\n 845.0: 7.0,\n 846.0: 29.0,\n 847.0: 2.0,\n 848.0: 1.0,\n 849.0: 1.0,\n 850.0: 21.0,\n 851.0: 9.0,\n 852.0: 12.0,\n 853.0: 20.0,\n 854.0: 5.0,\n 855.0: 26.0,\n 856.0: 96.0,\n 857.0: 8.0,\n 858.0: 2.0,\n 859.0: 29.0,\n 860.0: 23.0,\n 861.0: 13.0,\n 862.0: 5.0,\n 863.0: 1.0,\n 864.0: 4.0,\n 865.0: 26.0,\n 866.0: 7.0,\n 867.0: 18.0,\n 868.0: 9.0,\n 869.0: 11.0,\n 870.0: 3.0,\n 871.0: 3.0,\n 872.0: 15.0,\n 873.0: 3.0,\n 874.0: 49.0,\n 875.0: 47.0,\n 876.0: 2.0,\n 877.0: 4.0,\n 878.0: 17.0,\n 879.0: 3.0,\n 880.0: 2.0,\n 881.0: 2.0,\n 882.0: 2.0,\n 883.0: 1.0,\n 884.0: 8.0,\n 885.0: 2.0,\n 886.0: 49.0,\n 887.0: 41.0,\n 888.0: 4.0,\n 889.0: 14.0,\n 890.0: 6.0,\n 891.0: 15.0,\n 892.0: 3.0,\n 893.0: 15.0,\n 894.0: 2.0,\n 895.0: 1.0,\n 896.0: 8.0,\n 897.0: 23.0,\n 898.0: 6.0,\n 899.0: 2.0,\n 900.0: 11.0,\n 901.0: 13.0,\n 902.0: 8.0,\n 903.0: 4.0,\n 904.0: 7.0,\n 905.0: 7.0,\n 906.0: 1.0,\n 907.0: 2.0,\n 908.0: 15.0,\n 909.0: 16.0,\n 910.0: 2.0,\n 911.0: 1.0,\n 912.0: 5.0,\n 913.0: 7.0,\n 914.0: 1.0,\n 915.0: 17.0,\n 916.0: 1.0,\n 917.0: 1.0,\n 918.0: 6.0,\n 919.0: 11.0,\n 920.0: 4.0,\n 921.0: 8.0,\n 922.0: 9.0,\n 923.0: 12.0,\n 924.0: 12.0,\n 925.0: 9.0,\n 926.0: 3.0,\n 927.0: 3.0,\n 928.0: 12.0,\n 929.0: 3.0,\n 930.0: 4.0,\n 931.0: 2.0,\n 932.0: 10.0,\n 933.0: 29.0,\n 934.0: 10.0,\n 935.0: 4.0,\n 936.0: 3.0,\n 937.0: 54.0,\n 938.0: 87.0,\n 939.0: 1.0,\n 940.0: 32.0,\n 941.0: 17.0,\n 942.0: 17.0,\n 943.0: 15.0,\n 944.0: 14.0,\n 945.0: 5.0,\n 946.0: 19.0,\n 947.0: 6.0,\n 948.0: 3.0,\n 949.0: 34.0,\n 950.0: 10.0,\n 951.0: 36.0,\n 952.0: 56.0,\n 953.0: 21.0,\n 954.0: 14.0,\n 955.0: 2.0,\n 956.0: 19.0,\n 957.0: 13.0,\n 958.0: 17.0,\n 959.0: 11.0,\n 960.0: 18.0,\n 961.0: 12.0,\n 962.0: 7.0,\n 963.0: 2.0,\n 964.0: 26.0,\n 965.0: 18.0,\n 966.0: 3.0,\n 967.0: 3.0,\n 968.0: 3.0,\n 969.0: 2.0,\n 970.0: 4.0,\n 971.0: 1.0,\n 972.0: 29.0,\n 973.0: 16.0,\n 974.0: 4.0,\n 975.0: 19.0,\n 976.0: 16.0,\n 977.0: 12.0,\n 978.0: 9.0,\n 979.0: 5.0,\n 980.0: 4.0,\n 981.0: 3.0,\n 982.0: 1.0,\n 983.0: 32.0,\n 984.0: 7.0,\n 985.0: 6.0,\n 986.0: 7.0,\n 987.0: 2.0,\n 988.0: 11.0,\n 989.0: 23.0,\n 990.0: 18.0,\n 991.0: 1.0,\n 992.0: 7.0,\n 993.0: 8.0,\n 994.0: 1.0,\n 995.0: 3.0,\n 996.0: 3.0,\n 997.0: 5.0,\n 998.0: 3.0,\n 999.0: 4.0,\n ...}"
     },
     "execution_count": 176,
     "metadata": {},
     "output_type": "execute_result"
    }
   ],
   "source": [
    "nx.get_node_attributes(graph, \"touching_area\")"
   ],
   "metadata": {
    "collapsed": false,
    "pycharm": {
     "name": "#%%\n"
    }
   }
  },
  {
   "cell_type": "code",
   "execution_count": 158,
   "outputs": [
    {
     "data": {
      "text/plain": "array([16., 11.,  2., ...,  4.,  2., 28.])"
     },
     "execution_count": 158,
     "metadata": {},
     "output_type": "execute_result"
    }
   ],
   "source": [],
   "metadata": {
    "collapsed": false,
    "pycharm": {
     "name": "#%%\n"
    }
   }
  },
  {
   "cell_type": "code",
   "execution_count": 177,
   "outputs": [
    {
     "data": {
      "text/plain": "array([[0.000e+00, 1.000e+00, 2.000e+00, 1.600e+01],\n       [1.000e+00, 1.000e+00, 5.000e+00, 1.100e+01],\n       [2.000e+00, 1.000e+00, 8.000e+00, 2.000e+00],\n       ...,\n       [1.857e+03, 1.943e+03, 1.936e+03, 4.000e+00],\n       [1.858e+03, 1.938e+03, 1.940e+03, 2.000e+00],\n       [1.859e+03, 1.943e+03, 1.949e+03, 2.800e+01]])"
     },
     "execution_count": 177,
     "metadata": {},
     "output_type": "execute_result"
    }
   ],
   "source": [
    "neighbors\n"
   ],
   "metadata": {
    "collapsed": false,
    "pycharm": {
     "name": "#%%\n"
    }
   }
  },
  {
   "cell_type": "code",
   "execution_count": null,
   "outputs": [],
   "source": [],
   "metadata": {
    "collapsed": false,
    "pycharm": {
     "name": "#%%\n"
    }
   }
  }
 ],
 "metadata": {
  "kernelspec": {
   "display_name": "Python 3",
   "language": "python",
   "name": "python3"
  },
  "language_info": {
   "codemirror_mode": {
    "name": "ipython",
    "version": 2
   },
   "file_extension": ".py",
   "mimetype": "text/x-python",
   "name": "python",
   "nbconvert_exporter": "python",
   "pygments_lexer": "ipython2",
   "version": "2.7.6"
  }
 },
 "nbformat": 4,
 "nbformat_minor": 0
}