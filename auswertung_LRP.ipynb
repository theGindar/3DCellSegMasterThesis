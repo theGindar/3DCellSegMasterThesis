{
 "cells": [
  {
   "cell_type": "code",
   "execution_count": 1,
   "outputs": [],
   "source": [
    "import pandas as pd\n",
    "import numpy as np\n",
    "from func.ultis import load_obj"
   ],
   "metadata": {
    "collapsed": false,
    "pycharm": {
     "name": "#%%\n"
    }
   }
  },
  {
   "cell_type": "code",
   "execution_count": 5,
   "outputs": [],
   "source": [
    "retrained_1 = pd.read_csv('output/results_test_model_LRP_retrained_one_transpose.csv')\n",
    "retrained_2 = pd.read_csv('output/results_test_model_LRP_retrained.csv')\n",
    "\n",
    "pretrained = pd.read_csv('output/results_test_model_LRP_pretrained.csv')\n",
    "\n",
    "edge_gated = pd.read_csv('output/results_test_model_LRP_edge_gated.csv')"
   ],
   "metadata": {
    "collapsed": false,
    "pycharm": {
     "name": "#%%\n"
    }
   }
  },
  {
   "cell_type": "code",
   "execution_count": 6,
   "outputs": [
    {
     "data": {
      "text/plain": "       Unnamed: 0  acc_iou_0_7  acc_iou_0_5  acc_dice_0_7  acc_dice_0_5  \\\ncount    4.000000     4.000000     4.000000      4.000000      4.000000   \nmean     1.500000     0.437756     0.484800      0.477918      0.524099   \nstd      1.290994     0.093522     0.130750      0.122806      0.158579   \nmin      0.000000     0.339623     0.349057      0.349057      0.377358   \n25%      0.750000     0.373367     0.385341      0.385341      0.402032   \n50%      1.500000     0.431891     0.490385      0.484432      0.502747   \n75%      2.250000     0.496280     0.589844      0.577009      0.624814   \nmax      3.000000     0.547619     0.609375      0.593750      0.713542   \n\n        avg_iou  avg_dice     voi_1     voi_2  \ncount  4.000000  4.000000  4.000000  4.000000  \nmean   0.461948  0.511220  0.276015  1.266359  \nstd    0.106268  0.124401  0.227561  0.621386  \nmin    0.346677  0.379127  0.124461  0.798234  \n25%    0.384129  0.421108  0.160522  0.802241  \n50%    0.473143  0.511485  0.182467  1.076724  \n75%    0.550961  0.601598  0.297961  1.540842  \nmax    0.554828  0.642784  0.614666  2.113754  ",
      "text/html": "<div>\n<style scoped>\n    .dataframe tbody tr th:only-of-type {\n        vertical-align: middle;\n    }\n\n    .dataframe tbody tr th {\n        vertical-align: top;\n    }\n\n    .dataframe thead th {\n        text-align: right;\n    }\n</style>\n<table border=\"1\" class=\"dataframe\">\n  <thead>\n    <tr style=\"text-align: right;\">\n      <th></th>\n      <th>Unnamed: 0</th>\n      <th>acc_iou_0_7</th>\n      <th>acc_iou_0_5</th>\n      <th>acc_dice_0_7</th>\n      <th>acc_dice_0_5</th>\n      <th>avg_iou</th>\n      <th>avg_dice</th>\n      <th>voi_1</th>\n      <th>voi_2</th>\n    </tr>\n  </thead>\n  <tbody>\n    <tr>\n      <th>count</th>\n      <td>4.000000</td>\n      <td>4.000000</td>\n      <td>4.000000</td>\n      <td>4.000000</td>\n      <td>4.000000</td>\n      <td>4.000000</td>\n      <td>4.000000</td>\n      <td>4.000000</td>\n      <td>4.000000</td>\n    </tr>\n    <tr>\n      <th>mean</th>\n      <td>1.500000</td>\n      <td>0.437756</td>\n      <td>0.484800</td>\n      <td>0.477918</td>\n      <td>0.524099</td>\n      <td>0.461948</td>\n      <td>0.511220</td>\n      <td>0.276015</td>\n      <td>1.266359</td>\n    </tr>\n    <tr>\n      <th>std</th>\n      <td>1.290994</td>\n      <td>0.093522</td>\n      <td>0.130750</td>\n      <td>0.122806</td>\n      <td>0.158579</td>\n      <td>0.106268</td>\n      <td>0.124401</td>\n      <td>0.227561</td>\n      <td>0.621386</td>\n    </tr>\n    <tr>\n      <th>min</th>\n      <td>0.000000</td>\n      <td>0.339623</td>\n      <td>0.349057</td>\n      <td>0.349057</td>\n      <td>0.377358</td>\n      <td>0.346677</td>\n      <td>0.379127</td>\n      <td>0.124461</td>\n      <td>0.798234</td>\n    </tr>\n    <tr>\n      <th>25%</th>\n      <td>0.750000</td>\n      <td>0.373367</td>\n      <td>0.385341</td>\n      <td>0.385341</td>\n      <td>0.402032</td>\n      <td>0.384129</td>\n      <td>0.421108</td>\n      <td>0.160522</td>\n      <td>0.802241</td>\n    </tr>\n    <tr>\n      <th>50%</th>\n      <td>1.500000</td>\n      <td>0.431891</td>\n      <td>0.490385</td>\n      <td>0.484432</td>\n      <td>0.502747</td>\n      <td>0.473143</td>\n      <td>0.511485</td>\n      <td>0.182467</td>\n      <td>1.076724</td>\n    </tr>\n    <tr>\n      <th>75%</th>\n      <td>2.250000</td>\n      <td>0.496280</td>\n      <td>0.589844</td>\n      <td>0.577009</td>\n      <td>0.624814</td>\n      <td>0.550961</td>\n      <td>0.601598</td>\n      <td>0.297961</td>\n      <td>1.540842</td>\n    </tr>\n    <tr>\n      <th>max</th>\n      <td>3.000000</td>\n      <td>0.547619</td>\n      <td>0.609375</td>\n      <td>0.593750</td>\n      <td>0.713542</td>\n      <td>0.554828</td>\n      <td>0.642784</td>\n      <td>0.614666</td>\n      <td>2.113754</td>\n    </tr>\n  </tbody>\n</table>\n</div>"
     },
     "execution_count": 6,
     "metadata": {},
     "output_type": "execute_result"
    }
   ],
   "source": [
    "retrained_1.describe()"
   ],
   "metadata": {
    "collapsed": false,
    "pycharm": {
     "name": "#%%\n"
    }
   }
  },
  {
   "cell_type": "code",
   "execution_count": 7,
   "outputs": [
    {
     "data": {
      "text/plain": "       Unnamed: 0  acc_iou_0_7  acc_iou_0_5  acc_dice_0_7  acc_dice_0_5  \\\ncount    4.000000     4.000000     4.000000      4.000000      4.000000   \nmean     1.500000     0.510820     0.600317      0.580159      0.676854   \nstd      1.290994     0.090951     0.097626      0.105924      0.091733   \nmin      0.000000     0.435897     0.512821      0.474359      0.589744   \n25%      0.750000     0.464443     0.545658      0.528967      0.607342   \n50%      1.500000     0.482262     0.575177      0.560043      0.665979   \n75%      2.250000     0.528639     0.629836      0.611235      0.735491   \nmax      3.000000     0.642857     0.738095      0.726190      0.785714   \n\n        avg_iou  avg_dice     voi_1     voi_2  \ncount  4.000000  4.000000  4.000000  4.000000  \nmean   0.575891  0.649906  0.454598  0.880681  \nstd    0.081992  0.078415  0.196388  0.807210  \nmin    0.526289  0.596592  0.262782  0.383967  \n25%    0.530372  0.599253  0.327127  0.437074  \n50%    0.539566  0.619538  0.422058  0.527399  \n75%    0.585085  0.670191  0.549529  0.971006  \nmax    0.698145  0.763956  0.711493  2.083958  ",
      "text/html": "<div>\n<style scoped>\n    .dataframe tbody tr th:only-of-type {\n        vertical-align: middle;\n    }\n\n    .dataframe tbody tr th {\n        vertical-align: top;\n    }\n\n    .dataframe thead th {\n        text-align: right;\n    }\n</style>\n<table border=\"1\" class=\"dataframe\">\n  <thead>\n    <tr style=\"text-align: right;\">\n      <th></th>\n      <th>Unnamed: 0</th>\n      <th>acc_iou_0_7</th>\n      <th>acc_iou_0_5</th>\n      <th>acc_dice_0_7</th>\n      <th>acc_dice_0_5</th>\n      <th>avg_iou</th>\n      <th>avg_dice</th>\n      <th>voi_1</th>\n      <th>voi_2</th>\n    </tr>\n  </thead>\n  <tbody>\n    <tr>\n      <th>count</th>\n      <td>4.000000</td>\n      <td>4.000000</td>\n      <td>4.000000</td>\n      <td>4.000000</td>\n      <td>4.000000</td>\n      <td>4.000000</td>\n      <td>4.000000</td>\n      <td>4.000000</td>\n      <td>4.000000</td>\n    </tr>\n    <tr>\n      <th>mean</th>\n      <td>1.500000</td>\n      <td>0.510820</td>\n      <td>0.600317</td>\n      <td>0.580159</td>\n      <td>0.676854</td>\n      <td>0.575891</td>\n      <td>0.649906</td>\n      <td>0.454598</td>\n      <td>0.880681</td>\n    </tr>\n    <tr>\n      <th>std</th>\n      <td>1.290994</td>\n      <td>0.090951</td>\n      <td>0.097626</td>\n      <td>0.105924</td>\n      <td>0.091733</td>\n      <td>0.081992</td>\n      <td>0.078415</td>\n      <td>0.196388</td>\n      <td>0.807210</td>\n    </tr>\n    <tr>\n      <th>min</th>\n      <td>0.000000</td>\n      <td>0.435897</td>\n      <td>0.512821</td>\n      <td>0.474359</td>\n      <td>0.589744</td>\n      <td>0.526289</td>\n      <td>0.596592</td>\n      <td>0.262782</td>\n      <td>0.383967</td>\n    </tr>\n    <tr>\n      <th>25%</th>\n      <td>0.750000</td>\n      <td>0.464443</td>\n      <td>0.545658</td>\n      <td>0.528967</td>\n      <td>0.607342</td>\n      <td>0.530372</td>\n      <td>0.599253</td>\n      <td>0.327127</td>\n      <td>0.437074</td>\n    </tr>\n    <tr>\n      <th>50%</th>\n      <td>1.500000</td>\n      <td>0.482262</td>\n      <td>0.575177</td>\n      <td>0.560043</td>\n      <td>0.665979</td>\n      <td>0.539566</td>\n      <td>0.619538</td>\n      <td>0.422058</td>\n      <td>0.527399</td>\n    </tr>\n    <tr>\n      <th>75%</th>\n      <td>2.250000</td>\n      <td>0.528639</td>\n      <td>0.629836</td>\n      <td>0.611235</td>\n      <td>0.735491</td>\n      <td>0.585085</td>\n      <td>0.670191</td>\n      <td>0.549529</td>\n      <td>0.971006</td>\n    </tr>\n    <tr>\n      <th>max</th>\n      <td>3.000000</td>\n      <td>0.642857</td>\n      <td>0.738095</td>\n      <td>0.726190</td>\n      <td>0.785714</td>\n      <td>0.698145</td>\n      <td>0.763956</td>\n      <td>0.711493</td>\n      <td>2.083958</td>\n    </tr>\n  </tbody>\n</table>\n</div>"
     },
     "execution_count": 7,
     "metadata": {},
     "output_type": "execute_result"
    }
   ],
   "source": [
    "retrained_2.describe()"
   ],
   "metadata": {
    "collapsed": false,
    "pycharm": {
     "name": "#%%\n"
    }
   }
  },
  {
   "cell_type": "code",
   "execution_count": 8,
   "outputs": [
    {
     "data": {
      "text/plain": "       Unnamed: 0  acc_iou_0_7  acc_iou_0_5  acc_dice_0_7  acc_dice_0_5  \\\ncount    4.000000     4.000000     4.000000      4.000000      4.000000   \nmean     1.500000     0.551497     0.603570      0.590297      0.649532   \nstd      1.290994     0.100809     0.132495      0.126376      0.137397   \nmin      0.000000     0.435897     0.448718      0.448718      0.487179   \n25%      0.750000     0.483974     0.515481      0.501330      0.560474   \n50%      1.500000     0.559524     0.625639      0.604672      0.667453   \n75%      2.250000     0.627046     0.713728      0.693638      0.756510   \nmax      3.000000     0.651042     0.714286      0.703125      0.776042   \n\n        avg_iou  avg_dice     voi_1     voi_2  \ncount  4.000000  4.000000  4.000000  4.000000  \nmean   0.568484  0.623087  0.258641  1.039098  \nstd    0.096707  0.105084  0.182552  0.389022  \nmin    0.463863  0.510575  0.125787  0.629119  \n25%    0.497476  0.545312  0.157515  0.749210  \n50%    0.578244  0.630819  0.190817  1.052176  \n75%    0.649252  0.708594  0.291943  1.342064  \nmax    0.653587  0.720137  0.527142  1.422920  ",
      "text/html": "<div>\n<style scoped>\n    .dataframe tbody tr th:only-of-type {\n        vertical-align: middle;\n    }\n\n    .dataframe tbody tr th {\n        vertical-align: top;\n    }\n\n    .dataframe thead th {\n        text-align: right;\n    }\n</style>\n<table border=\"1\" class=\"dataframe\">\n  <thead>\n    <tr style=\"text-align: right;\">\n      <th></th>\n      <th>Unnamed: 0</th>\n      <th>acc_iou_0_7</th>\n      <th>acc_iou_0_5</th>\n      <th>acc_dice_0_7</th>\n      <th>acc_dice_0_5</th>\n      <th>avg_iou</th>\n      <th>avg_dice</th>\n      <th>voi_1</th>\n      <th>voi_2</th>\n    </tr>\n  </thead>\n  <tbody>\n    <tr>\n      <th>count</th>\n      <td>4.000000</td>\n      <td>4.000000</td>\n      <td>4.000000</td>\n      <td>4.000000</td>\n      <td>4.000000</td>\n      <td>4.000000</td>\n      <td>4.000000</td>\n      <td>4.000000</td>\n      <td>4.000000</td>\n    </tr>\n    <tr>\n      <th>mean</th>\n      <td>1.500000</td>\n      <td>0.551497</td>\n      <td>0.603570</td>\n      <td>0.590297</td>\n      <td>0.649532</td>\n      <td>0.568484</td>\n      <td>0.623087</td>\n      <td>0.258641</td>\n      <td>1.039098</td>\n    </tr>\n    <tr>\n      <th>std</th>\n      <td>1.290994</td>\n      <td>0.100809</td>\n      <td>0.132495</td>\n      <td>0.126376</td>\n      <td>0.137397</td>\n      <td>0.096707</td>\n      <td>0.105084</td>\n      <td>0.182552</td>\n      <td>0.389022</td>\n    </tr>\n    <tr>\n      <th>min</th>\n      <td>0.000000</td>\n      <td>0.435897</td>\n      <td>0.448718</td>\n      <td>0.448718</td>\n      <td>0.487179</td>\n      <td>0.463863</td>\n      <td>0.510575</td>\n      <td>0.125787</td>\n      <td>0.629119</td>\n    </tr>\n    <tr>\n      <th>25%</th>\n      <td>0.750000</td>\n      <td>0.483974</td>\n      <td>0.515481</td>\n      <td>0.501330</td>\n      <td>0.560474</td>\n      <td>0.497476</td>\n      <td>0.545312</td>\n      <td>0.157515</td>\n      <td>0.749210</td>\n    </tr>\n    <tr>\n      <th>50%</th>\n      <td>1.500000</td>\n      <td>0.559524</td>\n      <td>0.625639</td>\n      <td>0.604672</td>\n      <td>0.667453</td>\n      <td>0.578244</td>\n      <td>0.630819</td>\n      <td>0.190817</td>\n      <td>1.052176</td>\n    </tr>\n    <tr>\n      <th>75%</th>\n      <td>2.250000</td>\n      <td>0.627046</td>\n      <td>0.713728</td>\n      <td>0.693638</td>\n      <td>0.756510</td>\n      <td>0.649252</td>\n      <td>0.708594</td>\n      <td>0.291943</td>\n      <td>1.342064</td>\n    </tr>\n    <tr>\n      <th>max</th>\n      <td>3.000000</td>\n      <td>0.651042</td>\n      <td>0.714286</td>\n      <td>0.703125</td>\n      <td>0.776042</td>\n      <td>0.653587</td>\n      <td>0.720137</td>\n      <td>0.527142</td>\n      <td>1.422920</td>\n    </tr>\n  </tbody>\n</table>\n</div>"
     },
     "execution_count": 8,
     "metadata": {},
     "output_type": "execute_result"
    }
   ],
   "source": [
    "pretrained.describe()"
   ],
   "metadata": {
    "collapsed": false,
    "pycharm": {
     "name": "#%%\n"
    }
   }
  },
  {
   "cell_type": "code",
   "execution_count": 4,
   "outputs": [
    {
     "data": {
      "text/plain": "       Unnamed: 0  acc_iou_0_7  acc_iou_0_5  acc_dice_0_7  acc_dice_0_5  \\\ncount    4.000000     4.000000     4.000000      4.000000      4.000000   \nmean     1.500000     0.420087     0.470978      0.466700      0.509363   \nstd      1.290994     0.091422     0.130029      0.125042      0.164092   \nmin      0.000000     0.307692     0.320513      0.320513      0.320513   \n25%      0.750000     0.367017     0.384373      0.384373      0.398524   \n50%      1.500000     0.430375     0.484080      0.481476      0.527740   \n75%      2.250000     0.483445     0.570685      0.563802      0.638579   \nmax      3.000000     0.511905     0.595238      0.583333      0.661458   \n\n        avg_iou  avg_dice     voi_1     voi_2  \ncount  4.000000  4.000000  4.000000  4.000000  \nmean   0.447606  0.495180  0.230738  1.324116  \nstd    0.113767  0.132722  0.171190  0.634222  \nmin    0.318436  0.344772  0.093475  0.741250  \n25%    0.370713  0.403025  0.150247  1.029622  \n50%    0.454938  0.512495  0.174230  1.164685  \n75%    0.531830  0.604650  0.254721  1.459179  \nmax    0.562114  0.610958  0.481017  2.225843  ",
      "text/html": "<div>\n<style scoped>\n    .dataframe tbody tr th:only-of-type {\n        vertical-align: middle;\n    }\n\n    .dataframe tbody tr th {\n        vertical-align: top;\n    }\n\n    .dataframe thead th {\n        text-align: right;\n    }\n</style>\n<table border=\"1\" class=\"dataframe\">\n  <thead>\n    <tr style=\"text-align: right;\">\n      <th></th>\n      <th>Unnamed: 0</th>\n      <th>acc_iou_0_7</th>\n      <th>acc_iou_0_5</th>\n      <th>acc_dice_0_7</th>\n      <th>acc_dice_0_5</th>\n      <th>avg_iou</th>\n      <th>avg_dice</th>\n      <th>voi_1</th>\n      <th>voi_2</th>\n    </tr>\n  </thead>\n  <tbody>\n    <tr>\n      <th>count</th>\n      <td>4.000000</td>\n      <td>4.000000</td>\n      <td>4.000000</td>\n      <td>4.000000</td>\n      <td>4.000000</td>\n      <td>4.000000</td>\n      <td>4.000000</td>\n      <td>4.000000</td>\n      <td>4.000000</td>\n    </tr>\n    <tr>\n      <th>mean</th>\n      <td>1.500000</td>\n      <td>0.420087</td>\n      <td>0.470978</td>\n      <td>0.466700</td>\n      <td>0.509363</td>\n      <td>0.447606</td>\n      <td>0.495180</td>\n      <td>0.230738</td>\n      <td>1.324116</td>\n    </tr>\n    <tr>\n      <th>std</th>\n      <td>1.290994</td>\n      <td>0.091422</td>\n      <td>0.130029</td>\n      <td>0.125042</td>\n      <td>0.164092</td>\n      <td>0.113767</td>\n      <td>0.132722</td>\n      <td>0.171190</td>\n      <td>0.634222</td>\n    </tr>\n    <tr>\n      <th>min</th>\n      <td>0.000000</td>\n      <td>0.307692</td>\n      <td>0.320513</td>\n      <td>0.320513</td>\n      <td>0.320513</td>\n      <td>0.318436</td>\n      <td>0.344772</td>\n      <td>0.093475</td>\n      <td>0.741250</td>\n    </tr>\n    <tr>\n      <th>25%</th>\n      <td>0.750000</td>\n      <td>0.367017</td>\n      <td>0.384373</td>\n      <td>0.384373</td>\n      <td>0.398524</td>\n      <td>0.370713</td>\n      <td>0.403025</td>\n      <td>0.150247</td>\n      <td>1.029622</td>\n    </tr>\n    <tr>\n      <th>50%</th>\n      <td>1.500000</td>\n      <td>0.430375</td>\n      <td>0.484080</td>\n      <td>0.481476</td>\n      <td>0.527740</td>\n      <td>0.454938</td>\n      <td>0.512495</td>\n      <td>0.174230</td>\n      <td>1.164685</td>\n    </tr>\n    <tr>\n      <th>75%</th>\n      <td>2.250000</td>\n      <td>0.483445</td>\n      <td>0.570685</td>\n      <td>0.563802</td>\n      <td>0.638579</td>\n      <td>0.531830</td>\n      <td>0.604650</td>\n      <td>0.254721</td>\n      <td>1.459179</td>\n    </tr>\n    <tr>\n      <th>max</th>\n      <td>3.000000</td>\n      <td>0.511905</td>\n      <td>0.595238</td>\n      <td>0.583333</td>\n      <td>0.661458</td>\n      <td>0.562114</td>\n      <td>0.610958</td>\n      <td>0.481017</td>\n      <td>2.225843</td>\n    </tr>\n  </tbody>\n</table>\n</div>"
     },
     "execution_count": 4,
     "metadata": {},
     "output_type": "execute_result"
    }
   ],
   "source": [
    "edge_gated.describe()\n",
    "\n"
   ],
   "metadata": {
    "collapsed": false,
    "pycharm": {
     "name": "#%%\n"
    }
   }
  },
  {
   "cell_type": "code",
   "execution_count": null,
   "outputs": [],
   "source": [],
   "metadata": {
    "collapsed": false,
    "pycharm": {
     "name": "#%%\n"
    }
   }
  }
 ],
 "metadata": {
  "kernelspec": {
   "display_name": "Python 3",
   "language": "python",
   "name": "python3"
  },
  "language_info": {
   "codemirror_mode": {
    "name": "ipython",
    "version": 2
   },
   "file_extension": ".py",
   "mimetype": "text/x-python",
   "name": "python",
   "nbconvert_exporter": "python",
   "pygments_lexer": "ipython2",
   "version": "2.7.6"
  }
 },
 "nbformat": 4,
 "nbformat_minor": 0
}