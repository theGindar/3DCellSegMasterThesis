{
 "cells": [
  {
   "cell_type": "code",
   "execution_count": 4,
   "outputs": [],
   "source": [
    "import pandas as pd\n",
    "import numpy as np\n",
    "from func.ultis import load_obj"
   ],
   "metadata": {
    "collapsed": false,
    "pycharm": {
     "name": "#%%\n"
    }
   }
  },
  {
   "cell_type": "code",
   "execution_count": 7,
   "outputs": [],
   "source": [
    "retrained_1 = pd.read_csv('output/results_test_model_LRP_retrained_one_transpose.csv')\n",
    "retrained_2 = pd.read_csv('output/results_test_model_LRP_retrained.csv')\n",
    "retrained_3 = pd.read_csv('output/results_test_model_LRP_retrained_limit_background.csv')\n",
    "retrained_4 = pd.read_csv('output/results_test_model_LRP_retrained_limit_background_2.csv')\n",
    "retrained_5 = pd.read_csv('output/results_test_model_LRP_retrained_limit_background_groupnorm.csv')\n",
    "retrained_6 = pd.read_csv('output/results_test_model_LRP_retrained_1.csv')\n",
    "retrained_7 = pd.read_csv('output/results_test_model_LRP_retrained_orig.csv')\n",
    "\n",
    "unet = pd.read_csv('output/results_test_model_LRP_unet.csv')\n",
    "unet_2 = pd.read_csv('output/results_test_model_LRP_unet_limit_background.csv')\n",
    "\n",
    "pretrained = pd.read_csv('output/results_test_model_LRP_pretrained.csv')\n",
    "\n",
    "edge_gated = pd.read_csv('output/results_test_model_LRP_edge_gated.csv')\n",
    "edge_gated_2 = pd.read_csv('output/results_test_model_LRP_edge_gated_limit_background.csv')\n",
    "edge_gated_3 = pd.read_csv('output/results_test_model_LRP_edge_gated_limit_background_2.csv')"
   ],
   "metadata": {
    "collapsed": false,
    "pycharm": {
     "name": "#%%\n"
    }
   }
  },
  {
   "cell_type": "code",
   "execution_count": 3,
   "outputs": [
    {
     "data": {
      "text/plain": "       Unnamed: 0  acc_iou_0_7  acc_iou_0_5  acc_dice_0_7  acc_dice_0_5  \\\ncount    4.000000     4.000000     4.000000      4.000000      4.000000   \nmean     1.500000     0.437756     0.484800      0.477918      0.524099   \nstd      1.290994     0.093522     0.130750      0.122806      0.158579   \nmin      0.000000     0.339623     0.349057      0.349057      0.377358   \n25%      0.750000     0.373367     0.385341      0.385341      0.402032   \n50%      1.500000     0.431891     0.490385      0.484432      0.502747   \n75%      2.250000     0.496280     0.589844      0.577009      0.624814   \nmax      3.000000     0.547619     0.609375      0.593750      0.713542   \n\n        avg_iou  avg_dice     voi_1     voi_2  \ncount  4.000000  4.000000  4.000000  4.000000  \nmean   0.461948  0.511220  0.276015  1.266359  \nstd    0.106268  0.124401  0.227561  0.621386  \nmin    0.346677  0.379127  0.124461  0.798234  \n25%    0.384129  0.421108  0.160522  0.802241  \n50%    0.473143  0.511485  0.182467  1.076724  \n75%    0.550961  0.601598  0.297961  1.540842  \nmax    0.554828  0.642784  0.614666  2.113754  ",
      "text/html": "<div>\n<style scoped>\n    .dataframe tbody tr th:only-of-type {\n        vertical-align: middle;\n    }\n\n    .dataframe tbody tr th {\n        vertical-align: top;\n    }\n\n    .dataframe thead th {\n        text-align: right;\n    }\n</style>\n<table border=\"1\" class=\"dataframe\">\n  <thead>\n    <tr style=\"text-align: right;\">\n      <th></th>\n      <th>Unnamed: 0</th>\n      <th>acc_iou_0_7</th>\n      <th>acc_iou_0_5</th>\n      <th>acc_dice_0_7</th>\n      <th>acc_dice_0_5</th>\n      <th>avg_iou</th>\n      <th>avg_dice</th>\n      <th>voi_1</th>\n      <th>voi_2</th>\n    </tr>\n  </thead>\n  <tbody>\n    <tr>\n      <th>count</th>\n      <td>4.000000</td>\n      <td>4.000000</td>\n      <td>4.000000</td>\n      <td>4.000000</td>\n      <td>4.000000</td>\n      <td>4.000000</td>\n      <td>4.000000</td>\n      <td>4.000000</td>\n      <td>4.000000</td>\n    </tr>\n    <tr>\n      <th>mean</th>\n      <td>1.500000</td>\n      <td>0.437756</td>\n      <td>0.484800</td>\n      <td>0.477918</td>\n      <td>0.524099</td>\n      <td>0.461948</td>\n      <td>0.511220</td>\n      <td>0.276015</td>\n      <td>1.266359</td>\n    </tr>\n    <tr>\n      <th>std</th>\n      <td>1.290994</td>\n      <td>0.093522</td>\n      <td>0.130750</td>\n      <td>0.122806</td>\n      <td>0.158579</td>\n      <td>0.106268</td>\n      <td>0.124401</td>\n      <td>0.227561</td>\n      <td>0.621386</td>\n    </tr>\n    <tr>\n      <th>min</th>\n      <td>0.000000</td>\n      <td>0.339623</td>\n      <td>0.349057</td>\n      <td>0.349057</td>\n      <td>0.377358</td>\n      <td>0.346677</td>\n      <td>0.379127</td>\n      <td>0.124461</td>\n      <td>0.798234</td>\n    </tr>\n    <tr>\n      <th>25%</th>\n      <td>0.750000</td>\n      <td>0.373367</td>\n      <td>0.385341</td>\n      <td>0.385341</td>\n      <td>0.402032</td>\n      <td>0.384129</td>\n      <td>0.421108</td>\n      <td>0.160522</td>\n      <td>0.802241</td>\n    </tr>\n    <tr>\n      <th>50%</th>\n      <td>1.500000</td>\n      <td>0.431891</td>\n      <td>0.490385</td>\n      <td>0.484432</td>\n      <td>0.502747</td>\n      <td>0.473143</td>\n      <td>0.511485</td>\n      <td>0.182467</td>\n      <td>1.076724</td>\n    </tr>\n    <tr>\n      <th>75%</th>\n      <td>2.250000</td>\n      <td>0.496280</td>\n      <td>0.589844</td>\n      <td>0.577009</td>\n      <td>0.624814</td>\n      <td>0.550961</td>\n      <td>0.601598</td>\n      <td>0.297961</td>\n      <td>1.540842</td>\n    </tr>\n    <tr>\n      <th>max</th>\n      <td>3.000000</td>\n      <td>0.547619</td>\n      <td>0.609375</td>\n      <td>0.593750</td>\n      <td>0.713542</td>\n      <td>0.554828</td>\n      <td>0.642784</td>\n      <td>0.614666</td>\n      <td>2.113754</td>\n    </tr>\n  </tbody>\n</table>\n</div>"
     },
     "execution_count": 3,
     "metadata": {},
     "output_type": "execute_result"
    }
   ],
   "source": [
    "retrained_1.describe()"
   ],
   "metadata": {
    "collapsed": false,
    "pycharm": {
     "name": "#%%\n"
    }
   }
  },
  {
   "cell_type": "code",
   "execution_count": 4,
   "outputs": [
    {
     "data": {
      "text/plain": "       Unnamed: 0  acc_iou_0_7  acc_iou_0_5  acc_dice_0_7  acc_dice_0_5  \\\ncount    4.000000     4.000000     4.000000      4.000000      4.000000   \nmean     1.500000     0.510820     0.600317      0.580159      0.676854   \nstd      1.290994     0.090951     0.097626      0.105924      0.091733   \nmin      0.000000     0.435897     0.512821      0.474359      0.589744   \n25%      0.750000     0.464443     0.545658      0.528967      0.607342   \n50%      1.500000     0.482262     0.575177      0.560043      0.665979   \n75%      2.250000     0.528639     0.629836      0.611235      0.735491   \nmax      3.000000     0.642857     0.738095      0.726190      0.785714   \n\n        avg_iou  avg_dice     voi_1     voi_2  \ncount  4.000000  4.000000  4.000000  4.000000  \nmean   0.575891  0.649906  0.454598  0.880681  \nstd    0.081992  0.078415  0.196388  0.807210  \nmin    0.526289  0.596592  0.262782  0.383967  \n25%    0.530372  0.599253  0.327127  0.437074  \n50%    0.539566  0.619538  0.422058  0.527399  \n75%    0.585085  0.670191  0.549529  0.971006  \nmax    0.698145  0.763956  0.711493  2.083958  ",
      "text/html": "<div>\n<style scoped>\n    .dataframe tbody tr th:only-of-type {\n        vertical-align: middle;\n    }\n\n    .dataframe tbody tr th {\n        vertical-align: top;\n    }\n\n    .dataframe thead th {\n        text-align: right;\n    }\n</style>\n<table border=\"1\" class=\"dataframe\">\n  <thead>\n    <tr style=\"text-align: right;\">\n      <th></th>\n      <th>Unnamed: 0</th>\n      <th>acc_iou_0_7</th>\n      <th>acc_iou_0_5</th>\n      <th>acc_dice_0_7</th>\n      <th>acc_dice_0_5</th>\n      <th>avg_iou</th>\n      <th>avg_dice</th>\n      <th>voi_1</th>\n      <th>voi_2</th>\n    </tr>\n  </thead>\n  <tbody>\n    <tr>\n      <th>count</th>\n      <td>4.000000</td>\n      <td>4.000000</td>\n      <td>4.000000</td>\n      <td>4.000000</td>\n      <td>4.000000</td>\n      <td>4.000000</td>\n      <td>4.000000</td>\n      <td>4.000000</td>\n      <td>4.000000</td>\n    </tr>\n    <tr>\n      <th>mean</th>\n      <td>1.500000</td>\n      <td>0.510820</td>\n      <td>0.600317</td>\n      <td>0.580159</td>\n      <td>0.676854</td>\n      <td>0.575891</td>\n      <td>0.649906</td>\n      <td>0.454598</td>\n      <td>0.880681</td>\n    </tr>\n    <tr>\n      <th>std</th>\n      <td>1.290994</td>\n      <td>0.090951</td>\n      <td>0.097626</td>\n      <td>0.105924</td>\n      <td>0.091733</td>\n      <td>0.081992</td>\n      <td>0.078415</td>\n      <td>0.196388</td>\n      <td>0.807210</td>\n    </tr>\n    <tr>\n      <th>min</th>\n      <td>0.000000</td>\n      <td>0.435897</td>\n      <td>0.512821</td>\n      <td>0.474359</td>\n      <td>0.589744</td>\n      <td>0.526289</td>\n      <td>0.596592</td>\n      <td>0.262782</td>\n      <td>0.383967</td>\n    </tr>\n    <tr>\n      <th>25%</th>\n      <td>0.750000</td>\n      <td>0.464443</td>\n      <td>0.545658</td>\n      <td>0.528967</td>\n      <td>0.607342</td>\n      <td>0.530372</td>\n      <td>0.599253</td>\n      <td>0.327127</td>\n      <td>0.437074</td>\n    </tr>\n    <tr>\n      <th>50%</th>\n      <td>1.500000</td>\n      <td>0.482262</td>\n      <td>0.575177</td>\n      <td>0.560043</td>\n      <td>0.665979</td>\n      <td>0.539566</td>\n      <td>0.619538</td>\n      <td>0.422058</td>\n      <td>0.527399</td>\n    </tr>\n    <tr>\n      <th>75%</th>\n      <td>2.250000</td>\n      <td>0.528639</td>\n      <td>0.629836</td>\n      <td>0.611235</td>\n      <td>0.735491</td>\n      <td>0.585085</td>\n      <td>0.670191</td>\n      <td>0.549529</td>\n      <td>0.971006</td>\n    </tr>\n    <tr>\n      <th>max</th>\n      <td>3.000000</td>\n      <td>0.642857</td>\n      <td>0.738095</td>\n      <td>0.726190</td>\n      <td>0.785714</td>\n      <td>0.698145</td>\n      <td>0.763956</td>\n      <td>0.711493</td>\n      <td>2.083958</td>\n    </tr>\n  </tbody>\n</table>\n</div>"
     },
     "execution_count": 4,
     "metadata": {},
     "output_type": "execute_result"
    }
   ],
   "source": [
    "retrained_2.describe()"
   ],
   "metadata": {
    "collapsed": false,
    "pycharm": {
     "name": "#%%\n"
    }
   }
  },
  {
   "cell_type": "code",
   "execution_count": 6,
   "outputs": [
    {
     "data": {
      "text/plain": "       Unnamed: 0  acc_iou_0_7  acc_iou_0_5  acc_dice_0_7  acc_dice_0_5  \\\ncount    4.000000     4.000000     4.000000      4.000000      4.000000   \nmean     1.500000     0.497565     0.574142      0.549124      0.638824   \nstd      1.290994     0.073341     0.088311      0.083847      0.103774   \nmin      0.000000     0.452830     0.512821      0.487179      0.547170   \n25%      0.750000     0.459361     0.517356      0.489719      0.550254   \n50%      1.500000     0.465144     0.540684      0.521325      0.635016   \n75%      2.250000     0.503348     0.597470      0.580729      0.723586   \nmax      3.000000     0.607143     0.702381      0.666667      0.738095   \n\n        avg_iou  avg_dice     voi_1     voi_2  \ncount  4.000000  4.000000  4.000000  4.000000  \nmean   0.545758  0.613624  0.434110  0.954883  \nstd    0.079323  0.083433  0.173030  0.884379  \nmin    0.470433  0.519751  0.267938  0.429391  \n25%    0.507116  0.570611  0.324508  0.435979  \n50%    0.527717  0.607663  0.401773  0.560192  \n75%    0.566359  0.650676  0.511375  1.079096  \nmax    0.657165  0.719416  0.664957  2.269758  ",
      "text/html": "<div>\n<style scoped>\n    .dataframe tbody tr th:only-of-type {\n        vertical-align: middle;\n    }\n\n    .dataframe tbody tr th {\n        vertical-align: top;\n    }\n\n    .dataframe thead th {\n        text-align: right;\n    }\n</style>\n<table border=\"1\" class=\"dataframe\">\n  <thead>\n    <tr style=\"text-align: right;\">\n      <th></th>\n      <th>Unnamed: 0</th>\n      <th>acc_iou_0_7</th>\n      <th>acc_iou_0_5</th>\n      <th>acc_dice_0_7</th>\n      <th>acc_dice_0_5</th>\n      <th>avg_iou</th>\n      <th>avg_dice</th>\n      <th>voi_1</th>\n      <th>voi_2</th>\n    </tr>\n  </thead>\n  <tbody>\n    <tr>\n      <th>count</th>\n      <td>4.000000</td>\n      <td>4.000000</td>\n      <td>4.000000</td>\n      <td>4.000000</td>\n      <td>4.000000</td>\n      <td>4.000000</td>\n      <td>4.000000</td>\n      <td>4.000000</td>\n      <td>4.000000</td>\n    </tr>\n    <tr>\n      <th>mean</th>\n      <td>1.500000</td>\n      <td>0.497565</td>\n      <td>0.574142</td>\n      <td>0.549124</td>\n      <td>0.638824</td>\n      <td>0.545758</td>\n      <td>0.613624</td>\n      <td>0.434110</td>\n      <td>0.954883</td>\n    </tr>\n    <tr>\n      <th>std</th>\n      <td>1.290994</td>\n      <td>0.073341</td>\n      <td>0.088311</td>\n      <td>0.083847</td>\n      <td>0.103774</td>\n      <td>0.079323</td>\n      <td>0.083433</td>\n      <td>0.173030</td>\n      <td>0.884379</td>\n    </tr>\n    <tr>\n      <th>min</th>\n      <td>0.000000</td>\n      <td>0.452830</td>\n      <td>0.512821</td>\n      <td>0.487179</td>\n      <td>0.547170</td>\n      <td>0.470433</td>\n      <td>0.519751</td>\n      <td>0.267938</td>\n      <td>0.429391</td>\n    </tr>\n    <tr>\n      <th>25%</th>\n      <td>0.750000</td>\n      <td>0.459361</td>\n      <td>0.517356</td>\n      <td>0.489719</td>\n      <td>0.550254</td>\n      <td>0.507116</td>\n      <td>0.570611</td>\n      <td>0.324508</td>\n      <td>0.435979</td>\n    </tr>\n    <tr>\n      <th>50%</th>\n      <td>1.500000</td>\n      <td>0.465144</td>\n      <td>0.540684</td>\n      <td>0.521325</td>\n      <td>0.635016</td>\n      <td>0.527717</td>\n      <td>0.607663</td>\n      <td>0.401773</td>\n      <td>0.560192</td>\n    </tr>\n    <tr>\n      <th>75%</th>\n      <td>2.250000</td>\n      <td>0.503348</td>\n      <td>0.597470</td>\n      <td>0.580729</td>\n      <td>0.723586</td>\n      <td>0.566359</td>\n      <td>0.650676</td>\n      <td>0.511375</td>\n      <td>1.079096</td>\n    </tr>\n    <tr>\n      <th>max</th>\n      <td>3.000000</td>\n      <td>0.607143</td>\n      <td>0.702381</td>\n      <td>0.666667</td>\n      <td>0.738095</td>\n      <td>0.657165</td>\n      <td>0.719416</td>\n      <td>0.664957</td>\n      <td>2.269758</td>\n    </tr>\n  </tbody>\n</table>\n</div>"
     },
     "execution_count": 6,
     "metadata": {},
     "output_type": "execute_result"
    }
   ],
   "source": [
    "retrained_7.describe()"
   ],
   "metadata": {
    "collapsed": false,
    "pycharm": {
     "name": "#%%\n"
    }
   }
  },
  {
   "cell_type": "code",
   "execution_count": 23,
   "outputs": [
    {
     "data": {
      "text/plain": "       Unnamed: 0  acc_iou_0_7  acc_iou_0_5  acc_dice_0_7  acc_dice_0_5  \\\ncount    4.000000     4.000000     4.000000      4.000000      4.000000   \nmean     1.500000     0.553540     0.612353      0.600963      0.674359   \nstd      1.290994     0.096344     0.117602      0.118058      0.132783   \nmin      0.000000     0.448718     0.474359      0.461538      0.487179   \n25%      0.750000     0.502804     0.571420      0.556791      0.638304   \n50%      1.500000     0.543436     0.606574      0.596158      0.706319   \n75%      2.250000     0.594171     0.647507      0.640330      0.742374   \nmax      3.000000     0.678571     0.761905      0.750000      0.797619   \n\n        avg_iou  avg_dice     voi_1     voi_2  \ncount  4.000000  4.000000  4.000000  4.000000  \nmean   0.586242  0.646620  0.323930  0.945737  \nstd    0.104349  0.108463  0.142905  0.826748  \nmin    0.467417  0.511720  0.197926  0.379039  \n25%    0.541952  0.613391  0.234899  0.544906  \n50%    0.578283  0.648721  0.287574  0.614713  \n75%    0.622573  0.681950  0.376606  1.015543  \nmax    0.720987  0.777317  0.522647  2.174483  ",
      "text/html": "<div>\n<style scoped>\n    .dataframe tbody tr th:only-of-type {\n        vertical-align: middle;\n    }\n\n    .dataframe tbody tr th {\n        vertical-align: top;\n    }\n\n    .dataframe thead th {\n        text-align: right;\n    }\n</style>\n<table border=\"1\" class=\"dataframe\">\n  <thead>\n    <tr style=\"text-align: right;\">\n      <th></th>\n      <th>Unnamed: 0</th>\n      <th>acc_iou_0_7</th>\n      <th>acc_iou_0_5</th>\n      <th>acc_dice_0_7</th>\n      <th>acc_dice_0_5</th>\n      <th>avg_iou</th>\n      <th>avg_dice</th>\n      <th>voi_1</th>\n      <th>voi_2</th>\n    </tr>\n  </thead>\n  <tbody>\n    <tr>\n      <th>count</th>\n      <td>4.000000</td>\n      <td>4.000000</td>\n      <td>4.000000</td>\n      <td>4.000000</td>\n      <td>4.000000</td>\n      <td>4.000000</td>\n      <td>4.000000</td>\n      <td>4.000000</td>\n      <td>4.000000</td>\n    </tr>\n    <tr>\n      <th>mean</th>\n      <td>1.500000</td>\n      <td>0.553540</td>\n      <td>0.612353</td>\n      <td>0.600963</td>\n      <td>0.674359</td>\n      <td>0.586242</td>\n      <td>0.646620</td>\n      <td>0.323930</td>\n      <td>0.945737</td>\n    </tr>\n    <tr>\n      <th>std</th>\n      <td>1.290994</td>\n      <td>0.096344</td>\n      <td>0.117602</td>\n      <td>0.118058</td>\n      <td>0.132783</td>\n      <td>0.104349</td>\n      <td>0.108463</td>\n      <td>0.142905</td>\n      <td>0.826748</td>\n    </tr>\n    <tr>\n      <th>min</th>\n      <td>0.000000</td>\n      <td>0.448718</td>\n      <td>0.474359</td>\n      <td>0.461538</td>\n      <td>0.487179</td>\n      <td>0.467417</td>\n      <td>0.511720</td>\n      <td>0.197926</td>\n      <td>0.379039</td>\n    </tr>\n    <tr>\n      <th>25%</th>\n      <td>0.750000</td>\n      <td>0.502804</td>\n      <td>0.571420</td>\n      <td>0.556791</td>\n      <td>0.638304</td>\n      <td>0.541952</td>\n      <td>0.613391</td>\n      <td>0.234899</td>\n      <td>0.544906</td>\n    </tr>\n    <tr>\n      <th>50%</th>\n      <td>1.500000</td>\n      <td>0.543436</td>\n      <td>0.606574</td>\n      <td>0.596158</td>\n      <td>0.706319</td>\n      <td>0.578283</td>\n      <td>0.648721</td>\n      <td>0.287574</td>\n      <td>0.614713</td>\n    </tr>\n    <tr>\n      <th>75%</th>\n      <td>2.250000</td>\n      <td>0.594171</td>\n      <td>0.647507</td>\n      <td>0.640330</td>\n      <td>0.742374</td>\n      <td>0.622573</td>\n      <td>0.681950</td>\n      <td>0.376606</td>\n      <td>1.015543</td>\n    </tr>\n    <tr>\n      <th>max</th>\n      <td>3.000000</td>\n      <td>0.678571</td>\n      <td>0.761905</td>\n      <td>0.750000</td>\n      <td>0.797619</td>\n      <td>0.720987</td>\n      <td>0.777317</td>\n      <td>0.522647</td>\n      <td>2.174483</td>\n    </tr>\n  </tbody>\n</table>\n</div>"
     },
     "execution_count": 23,
     "metadata": {},
     "output_type": "execute_result"
    }
   ],
   "source": [
    "unet.describe()"
   ],
   "metadata": {
    "collapsed": false,
    "pycharm": {
     "name": "#%%\n"
    }
   }
  },
  {
   "cell_type": "code",
   "execution_count": 8,
   "outputs": [
    {
     "data": {
      "text/plain": "       Unnamed: 0  acc_iou_0_7  acc_iou_0_5  acc_dice_0_7  acc_dice_0_5  \\\ncount    4.000000     4.000000     4.000000      4.000000      4.000000   \nmean     1.500000     0.543353     0.597787      0.573596      0.649060   \nstd      1.290994     0.107034     0.116949      0.123539      0.119728   \nmin      0.000000     0.410256     0.461538      0.423077      0.512821   \n25%      0.750000     0.484640     0.525762      0.501996      0.566884   \n50%      1.500000     0.554196     0.601710      0.584463      0.661500   \n75%      2.250000     0.612909     0.673735      0.656064      0.743676   \nmax      3.000000     0.654762     0.726190      0.702381      0.760417   \n\n        avg_iou  avg_dice     voi_1     voi_2  \ncount  4.000000  4.000000  4.000000  4.000000  \nmean   0.562446  0.618992  0.274390  1.005076  \nstd    0.091661  0.097138  0.172788  0.602934  \nmin    0.460172  0.510740  0.184234  0.493909  \n25%    0.502687  0.551523  0.185243  0.550736  \n50%    0.561889  0.624340  0.189921  0.869205  \n75%    0.621648  0.691809  0.279069  1.323545  \nmax    0.665834  0.716547  0.533486  1.787982  ",
      "text/html": "<div>\n<style scoped>\n    .dataframe tbody tr th:only-of-type {\n        vertical-align: middle;\n    }\n\n    .dataframe tbody tr th {\n        vertical-align: top;\n    }\n\n    .dataframe thead th {\n        text-align: right;\n    }\n</style>\n<table border=\"1\" class=\"dataframe\">\n  <thead>\n    <tr style=\"text-align: right;\">\n      <th></th>\n      <th>Unnamed: 0</th>\n      <th>acc_iou_0_7</th>\n      <th>acc_iou_0_5</th>\n      <th>acc_dice_0_7</th>\n      <th>acc_dice_0_5</th>\n      <th>avg_iou</th>\n      <th>avg_dice</th>\n      <th>voi_1</th>\n      <th>voi_2</th>\n    </tr>\n  </thead>\n  <tbody>\n    <tr>\n      <th>count</th>\n      <td>4.000000</td>\n      <td>4.000000</td>\n      <td>4.000000</td>\n      <td>4.000000</td>\n      <td>4.000000</td>\n      <td>4.000000</td>\n      <td>4.000000</td>\n      <td>4.000000</td>\n      <td>4.000000</td>\n    </tr>\n    <tr>\n      <th>mean</th>\n      <td>1.500000</td>\n      <td>0.543353</td>\n      <td>0.597787</td>\n      <td>0.573596</td>\n      <td>0.649060</td>\n      <td>0.562446</td>\n      <td>0.618992</td>\n      <td>0.274390</td>\n      <td>1.005076</td>\n    </tr>\n    <tr>\n      <th>std</th>\n      <td>1.290994</td>\n      <td>0.107034</td>\n      <td>0.116949</td>\n      <td>0.123539</td>\n      <td>0.119728</td>\n      <td>0.091661</td>\n      <td>0.097138</td>\n      <td>0.172788</td>\n      <td>0.602934</td>\n    </tr>\n    <tr>\n      <th>min</th>\n      <td>0.000000</td>\n      <td>0.410256</td>\n      <td>0.461538</td>\n      <td>0.423077</td>\n      <td>0.512821</td>\n      <td>0.460172</td>\n      <td>0.510740</td>\n      <td>0.184234</td>\n      <td>0.493909</td>\n    </tr>\n    <tr>\n      <th>25%</th>\n      <td>0.750000</td>\n      <td>0.484640</td>\n      <td>0.525762</td>\n      <td>0.501996</td>\n      <td>0.566884</td>\n      <td>0.502687</td>\n      <td>0.551523</td>\n      <td>0.185243</td>\n      <td>0.550736</td>\n    </tr>\n    <tr>\n      <th>50%</th>\n      <td>1.500000</td>\n      <td>0.554196</td>\n      <td>0.601710</td>\n      <td>0.584463</td>\n      <td>0.661500</td>\n      <td>0.561889</td>\n      <td>0.624340</td>\n      <td>0.189921</td>\n      <td>0.869205</td>\n    </tr>\n    <tr>\n      <th>75%</th>\n      <td>2.250000</td>\n      <td>0.612909</td>\n      <td>0.673735</td>\n      <td>0.656064</td>\n      <td>0.743676</td>\n      <td>0.621648</td>\n      <td>0.691809</td>\n      <td>0.279069</td>\n      <td>1.323545</td>\n    </tr>\n    <tr>\n      <th>max</th>\n      <td>3.000000</td>\n      <td>0.654762</td>\n      <td>0.726190</td>\n      <td>0.702381</td>\n      <td>0.760417</td>\n      <td>0.665834</td>\n      <td>0.716547</td>\n      <td>0.533486</td>\n      <td>1.787982</td>\n    </tr>\n  </tbody>\n</table>\n</div>"
     },
     "execution_count": 8,
     "metadata": {},
     "output_type": "execute_result"
    }
   ],
   "source": [
    "unet_2.describe()"
   ],
   "metadata": {
    "collapsed": false,
    "pycharm": {
     "name": "#%%\n"
    }
   }
  },
  {
   "cell_type": "code",
   "execution_count": 8,
   "outputs": [
    {
     "data": {
      "text/plain": "       Unnamed: 0  acc_iou_0_7  acc_iou_0_5  acc_dice_0_7  acc_dice_0_5  \\\ncount    4.000000     4.000000     4.000000      4.000000      4.000000   \nmean     1.500000     0.491892     0.550502      0.544693      0.597835   \nstd      1.290994     0.083709     0.089499      0.090495      0.130783   \nmin      0.000000     0.424528     0.471698      0.461538      0.471698   \n25%      0.750000     0.433055     0.473694      0.469158      0.492925   \n50%      1.500000     0.467949     0.549679      0.543141      0.595238   \n75%      2.250000     0.526786     0.626488      0.618676      0.700149   \nmax      3.000000     0.607143     0.630952      0.630952      0.729167   \n\n        avg_iou  avg_dice     voi_1     voi_2  \ncount  4.000000  4.000000  4.000000  4.000000  \nmean   0.524670  0.581713  0.409625  0.907950  \nstd    0.086582  0.098949  0.193847  0.660548  \nmin    0.433862  0.474701  0.232507  0.428225  \n25%    0.462063  0.509058  0.287646  0.480128  \n50%    0.522656  0.591330  0.365529  0.671766  \n75%    0.585263  0.663986  0.487507  1.099589  \nmax    0.619505  0.669491  0.674934  1.860044  ",
      "text/html": "<div>\n<style scoped>\n    .dataframe tbody tr th:only-of-type {\n        vertical-align: middle;\n    }\n\n    .dataframe tbody tr th {\n        vertical-align: top;\n    }\n\n    .dataframe thead th {\n        text-align: right;\n    }\n</style>\n<table border=\"1\" class=\"dataframe\">\n  <thead>\n    <tr style=\"text-align: right;\">\n      <th></th>\n      <th>Unnamed: 0</th>\n      <th>acc_iou_0_7</th>\n      <th>acc_iou_0_5</th>\n      <th>acc_dice_0_7</th>\n      <th>acc_dice_0_5</th>\n      <th>avg_iou</th>\n      <th>avg_dice</th>\n      <th>voi_1</th>\n      <th>voi_2</th>\n    </tr>\n  </thead>\n  <tbody>\n    <tr>\n      <th>count</th>\n      <td>4.000000</td>\n      <td>4.000000</td>\n      <td>4.000000</td>\n      <td>4.000000</td>\n      <td>4.000000</td>\n      <td>4.000000</td>\n      <td>4.000000</td>\n      <td>4.000000</td>\n      <td>4.000000</td>\n    </tr>\n    <tr>\n      <th>mean</th>\n      <td>1.500000</td>\n      <td>0.491892</td>\n      <td>0.550502</td>\n      <td>0.544693</td>\n      <td>0.597835</td>\n      <td>0.524670</td>\n      <td>0.581713</td>\n      <td>0.409625</td>\n      <td>0.907950</td>\n    </tr>\n    <tr>\n      <th>std</th>\n      <td>1.290994</td>\n      <td>0.083709</td>\n      <td>0.089499</td>\n      <td>0.090495</td>\n      <td>0.130783</td>\n      <td>0.086582</td>\n      <td>0.098949</td>\n      <td>0.193847</td>\n      <td>0.660548</td>\n    </tr>\n    <tr>\n      <th>min</th>\n      <td>0.000000</td>\n      <td>0.424528</td>\n      <td>0.471698</td>\n      <td>0.461538</td>\n      <td>0.471698</td>\n      <td>0.433862</td>\n      <td>0.474701</td>\n      <td>0.232507</td>\n      <td>0.428225</td>\n    </tr>\n    <tr>\n      <th>25%</th>\n      <td>0.750000</td>\n      <td>0.433055</td>\n      <td>0.473694</td>\n      <td>0.469158</td>\n      <td>0.492925</td>\n      <td>0.462063</td>\n      <td>0.509058</td>\n      <td>0.287646</td>\n      <td>0.480128</td>\n    </tr>\n    <tr>\n      <th>50%</th>\n      <td>1.500000</td>\n      <td>0.467949</td>\n      <td>0.549679</td>\n      <td>0.543141</td>\n      <td>0.595238</td>\n      <td>0.522656</td>\n      <td>0.591330</td>\n      <td>0.365529</td>\n      <td>0.671766</td>\n    </tr>\n    <tr>\n      <th>75%</th>\n      <td>2.250000</td>\n      <td>0.526786</td>\n      <td>0.626488</td>\n      <td>0.618676</td>\n      <td>0.700149</td>\n      <td>0.585263</td>\n      <td>0.663986</td>\n      <td>0.487507</td>\n      <td>1.099589</td>\n    </tr>\n    <tr>\n      <th>max</th>\n      <td>3.000000</td>\n      <td>0.607143</td>\n      <td>0.630952</td>\n      <td>0.630952</td>\n      <td>0.729167</td>\n      <td>0.619505</td>\n      <td>0.669491</td>\n      <td>0.674934</td>\n      <td>1.860044</td>\n    </tr>\n  </tbody>\n</table>\n</div>"
     },
     "execution_count": 8,
     "metadata": {},
     "output_type": "execute_result"
    }
   ],
   "source": [
    "retrained_3.describe()"
   ],
   "metadata": {
    "collapsed": false,
    "pycharm": {
     "name": "#%%\n"
    }
   }
  },
  {
   "cell_type": "code",
   "execution_count": 13,
   "outputs": [
    {
     "data": {
      "text/plain": "       Unnamed: 0  acc_iou_0_7  acc_iou_0_5  acc_dice_0_7  acc_dice_0_5  \\\ncount    4.000000     4.000000     4.000000      4.000000      4.000000   \nmean     1.500000     0.518525     0.576823      0.566051      0.657516   \nstd      1.290994     0.074564     0.089342      0.091160      0.112487   \nmin      0.000000     0.461538     0.500000      0.487179      0.538462   \n25%      0.750000     0.462083     0.500000      0.489719      0.573295   \n50%      1.500000     0.496757     0.570312      0.555179      0.664849   \n75%      2.250000     0.553199     0.647135      0.631510      0.749070   \nmax      3.000000     0.619048     0.666667      0.666667      0.761905   \n\n        avg_iou  avg_dice     voi_1     voi_2  \ncount  4.000000  4.000000  4.000000  4.000000  \nmean   0.573906  0.647318  0.444001  0.868840  \nstd    0.077012  0.078912  0.167616  0.871864  \nmin    0.516731  0.587674  0.233490  0.344076  \n25%    0.521295  0.589674  0.346897  0.392980  \n50%    0.547922  0.622793  0.479196  0.480571  \n75%    0.600534  0.680437  0.576300  0.956431  \nmax    0.683051  0.756012  0.584121  2.170143  ",
      "text/html": "<div>\n<style scoped>\n    .dataframe tbody tr th:only-of-type {\n        vertical-align: middle;\n    }\n\n    .dataframe tbody tr th {\n        vertical-align: top;\n    }\n\n    .dataframe thead th {\n        text-align: right;\n    }\n</style>\n<table border=\"1\" class=\"dataframe\">\n  <thead>\n    <tr style=\"text-align: right;\">\n      <th></th>\n      <th>Unnamed: 0</th>\n      <th>acc_iou_0_7</th>\n      <th>acc_iou_0_5</th>\n      <th>acc_dice_0_7</th>\n      <th>acc_dice_0_5</th>\n      <th>avg_iou</th>\n      <th>avg_dice</th>\n      <th>voi_1</th>\n      <th>voi_2</th>\n    </tr>\n  </thead>\n  <tbody>\n    <tr>\n      <th>count</th>\n      <td>4.000000</td>\n      <td>4.000000</td>\n      <td>4.000000</td>\n      <td>4.000000</td>\n      <td>4.000000</td>\n      <td>4.000000</td>\n      <td>4.000000</td>\n      <td>4.000000</td>\n      <td>4.000000</td>\n    </tr>\n    <tr>\n      <th>mean</th>\n      <td>1.500000</td>\n      <td>0.518525</td>\n      <td>0.576823</td>\n      <td>0.566051</td>\n      <td>0.657516</td>\n      <td>0.573906</td>\n      <td>0.647318</td>\n      <td>0.444001</td>\n      <td>0.868840</td>\n    </tr>\n    <tr>\n      <th>std</th>\n      <td>1.290994</td>\n      <td>0.074564</td>\n      <td>0.089342</td>\n      <td>0.091160</td>\n      <td>0.112487</td>\n      <td>0.077012</td>\n      <td>0.078912</td>\n      <td>0.167616</td>\n      <td>0.871864</td>\n    </tr>\n    <tr>\n      <th>min</th>\n      <td>0.000000</td>\n      <td>0.461538</td>\n      <td>0.500000</td>\n      <td>0.487179</td>\n      <td>0.538462</td>\n      <td>0.516731</td>\n      <td>0.587674</td>\n      <td>0.233490</td>\n      <td>0.344076</td>\n    </tr>\n    <tr>\n      <th>25%</th>\n      <td>0.750000</td>\n      <td>0.462083</td>\n      <td>0.500000</td>\n      <td>0.489719</td>\n      <td>0.573295</td>\n      <td>0.521295</td>\n      <td>0.589674</td>\n      <td>0.346897</td>\n      <td>0.392980</td>\n    </tr>\n    <tr>\n      <th>50%</th>\n      <td>1.500000</td>\n      <td>0.496757</td>\n      <td>0.570312</td>\n      <td>0.555179</td>\n      <td>0.664849</td>\n      <td>0.547922</td>\n      <td>0.622793</td>\n      <td>0.479196</td>\n      <td>0.480571</td>\n    </tr>\n    <tr>\n      <th>75%</th>\n      <td>2.250000</td>\n      <td>0.553199</td>\n      <td>0.647135</td>\n      <td>0.631510</td>\n      <td>0.749070</td>\n      <td>0.600534</td>\n      <td>0.680437</td>\n      <td>0.576300</td>\n      <td>0.956431</td>\n    </tr>\n    <tr>\n      <th>max</th>\n      <td>3.000000</td>\n      <td>0.619048</td>\n      <td>0.666667</td>\n      <td>0.666667</td>\n      <td>0.761905</td>\n      <td>0.683051</td>\n      <td>0.756012</td>\n      <td>0.584121</td>\n      <td>2.170143</td>\n    </tr>\n  </tbody>\n</table>\n</div>"
     },
     "execution_count": 13,
     "metadata": {},
     "output_type": "execute_result"
    }
   ],
   "source": [
    "retrained_4.describe()"
   ],
   "metadata": {
    "collapsed": false,
    "pycharm": {
     "name": "#%%\n"
    }
   }
  },
  {
   "cell_type": "code",
   "execution_count": 22,
   "outputs": [
    {
     "data": {
      "text/plain": "       Unnamed: 0  acc_iou_0_7  acc_iou_0_5  acc_dice_0_7  acc_dice_0_5  \\\ncount    4.000000     4.000000     4.000000      4.000000      4.000000   \nmean     1.500000     0.553540     0.612353      0.600963      0.674359   \nstd      1.290994     0.096344     0.117602      0.118058      0.132783   \nmin      0.000000     0.448718     0.474359      0.461538      0.487179   \n25%      0.750000     0.502804     0.571420      0.556791      0.638304   \n50%      1.500000     0.543436     0.606574      0.596158      0.706319   \n75%      2.250000     0.594171     0.647507      0.640330      0.742374   \nmax      3.000000     0.678571     0.761905      0.750000      0.797619   \n\n        avg_iou  avg_dice     voi_1     voi_2  \ncount  4.000000  4.000000  4.000000  4.000000  \nmean   0.586242  0.646620  0.323930  0.945737  \nstd    0.104349  0.108463  0.142905  0.826748  \nmin    0.467417  0.511720  0.197926  0.379039  \n25%    0.541952  0.613391  0.234899  0.544906  \n50%    0.578283  0.648721  0.287574  0.614713  \n75%    0.622573  0.681950  0.376606  1.015543  \nmax    0.720987  0.777317  0.522647  2.174483  ",
      "text/html": "<div>\n<style scoped>\n    .dataframe tbody tr th:only-of-type {\n        vertical-align: middle;\n    }\n\n    .dataframe tbody tr th {\n        vertical-align: top;\n    }\n\n    .dataframe thead th {\n        text-align: right;\n    }\n</style>\n<table border=\"1\" class=\"dataframe\">\n  <thead>\n    <tr style=\"text-align: right;\">\n      <th></th>\n      <th>Unnamed: 0</th>\n      <th>acc_iou_0_7</th>\n      <th>acc_iou_0_5</th>\n      <th>acc_dice_0_7</th>\n      <th>acc_dice_0_5</th>\n      <th>avg_iou</th>\n      <th>avg_dice</th>\n      <th>voi_1</th>\n      <th>voi_2</th>\n    </tr>\n  </thead>\n  <tbody>\n    <tr>\n      <th>count</th>\n      <td>4.000000</td>\n      <td>4.000000</td>\n      <td>4.000000</td>\n      <td>4.000000</td>\n      <td>4.000000</td>\n      <td>4.000000</td>\n      <td>4.000000</td>\n      <td>4.000000</td>\n      <td>4.000000</td>\n    </tr>\n    <tr>\n      <th>mean</th>\n      <td>1.500000</td>\n      <td>0.553540</td>\n      <td>0.612353</td>\n      <td>0.600963</td>\n      <td>0.674359</td>\n      <td>0.586242</td>\n      <td>0.646620</td>\n      <td>0.323930</td>\n      <td>0.945737</td>\n    </tr>\n    <tr>\n      <th>std</th>\n      <td>1.290994</td>\n      <td>0.096344</td>\n      <td>0.117602</td>\n      <td>0.118058</td>\n      <td>0.132783</td>\n      <td>0.104349</td>\n      <td>0.108463</td>\n      <td>0.142905</td>\n      <td>0.826748</td>\n    </tr>\n    <tr>\n      <th>min</th>\n      <td>0.000000</td>\n      <td>0.448718</td>\n      <td>0.474359</td>\n      <td>0.461538</td>\n      <td>0.487179</td>\n      <td>0.467417</td>\n      <td>0.511720</td>\n      <td>0.197926</td>\n      <td>0.379039</td>\n    </tr>\n    <tr>\n      <th>25%</th>\n      <td>0.750000</td>\n      <td>0.502804</td>\n      <td>0.571420</td>\n      <td>0.556791</td>\n      <td>0.638304</td>\n      <td>0.541952</td>\n      <td>0.613391</td>\n      <td>0.234899</td>\n      <td>0.544906</td>\n    </tr>\n    <tr>\n      <th>50%</th>\n      <td>1.500000</td>\n      <td>0.543436</td>\n      <td>0.606574</td>\n      <td>0.596158</td>\n      <td>0.706319</td>\n      <td>0.578283</td>\n      <td>0.648721</td>\n      <td>0.287574</td>\n      <td>0.614713</td>\n    </tr>\n    <tr>\n      <th>75%</th>\n      <td>2.250000</td>\n      <td>0.594171</td>\n      <td>0.647507</td>\n      <td>0.640330</td>\n      <td>0.742374</td>\n      <td>0.622573</td>\n      <td>0.681950</td>\n      <td>0.376606</td>\n      <td>1.015543</td>\n    </tr>\n    <tr>\n      <th>max</th>\n      <td>3.000000</td>\n      <td>0.678571</td>\n      <td>0.761905</td>\n      <td>0.750000</td>\n      <td>0.797619</td>\n      <td>0.720987</td>\n      <td>0.777317</td>\n      <td>0.522647</td>\n      <td>2.174483</td>\n    </tr>\n  </tbody>\n</table>\n</div>"
     },
     "execution_count": 22,
     "metadata": {},
     "output_type": "execute_result"
    }
   ],
   "source": [
    "unet.describe()"
   ],
   "metadata": {
    "collapsed": false,
    "pycharm": {
     "name": "#%%\n"
    }
   }
  },
  {
   "cell_type": "code",
   "execution_count": 19,
   "outputs": [
    {
     "data": {
      "text/plain": "       Unnamed: 0  acc_iou_0_7  acc_iou_0_5  acc_dice_0_7  acc_dice_0_5  \\\ncount    4.000000     4.000000     4.000000      4.000000      4.000000   \nmean     1.500000     0.503472     0.583145      0.569642      0.645282   \nstd      1.290994     0.094316     0.120299      0.122286      0.152842   \nmin      0.000000     0.410256     0.461538      0.448718      0.500000   \n25%      0.750000     0.449262     0.497460      0.480104      0.521226   \n50%      1.500000     0.486340     0.572425      0.557783      0.641755   \n75%      2.250000     0.540551     0.658110      0.647321      0.765811   \nmax      3.000000     0.630952     0.726190      0.714286      0.797619   \n\n        avg_iou  avg_dice     voi_1     voi_2  \ncount  4.000000  4.000000  4.000000  4.000000  \nmean   0.564795  0.633228  0.389376  0.828238  \nstd    0.102581  0.108300  0.177687  0.660421  \nmin    0.479444  0.530413  0.260635  0.352289  \n25%    0.490663  0.555652  0.288425  0.387464  \n50%    0.538532  0.616531  0.323272  0.592894  \n75%    0.612664  0.694107  0.424223  1.033667  \nmax    0.702670  0.769436  0.650326  1.774875  ",
      "text/html": "<div>\n<style scoped>\n    .dataframe tbody tr th:only-of-type {\n        vertical-align: middle;\n    }\n\n    .dataframe tbody tr th {\n        vertical-align: top;\n    }\n\n    .dataframe thead th {\n        text-align: right;\n    }\n</style>\n<table border=\"1\" class=\"dataframe\">\n  <thead>\n    <tr style=\"text-align: right;\">\n      <th></th>\n      <th>Unnamed: 0</th>\n      <th>acc_iou_0_7</th>\n      <th>acc_iou_0_5</th>\n      <th>acc_dice_0_7</th>\n      <th>acc_dice_0_5</th>\n      <th>avg_iou</th>\n      <th>avg_dice</th>\n      <th>voi_1</th>\n      <th>voi_2</th>\n    </tr>\n  </thead>\n  <tbody>\n    <tr>\n      <th>count</th>\n      <td>4.000000</td>\n      <td>4.000000</td>\n      <td>4.000000</td>\n      <td>4.000000</td>\n      <td>4.000000</td>\n      <td>4.000000</td>\n      <td>4.000000</td>\n      <td>4.000000</td>\n      <td>4.000000</td>\n    </tr>\n    <tr>\n      <th>mean</th>\n      <td>1.500000</td>\n      <td>0.503472</td>\n      <td>0.583145</td>\n      <td>0.569642</td>\n      <td>0.645282</td>\n      <td>0.564795</td>\n      <td>0.633228</td>\n      <td>0.389376</td>\n      <td>0.828238</td>\n    </tr>\n    <tr>\n      <th>std</th>\n      <td>1.290994</td>\n      <td>0.094316</td>\n      <td>0.120299</td>\n      <td>0.122286</td>\n      <td>0.152842</td>\n      <td>0.102581</td>\n      <td>0.108300</td>\n      <td>0.177687</td>\n      <td>0.660421</td>\n    </tr>\n    <tr>\n      <th>min</th>\n      <td>0.000000</td>\n      <td>0.410256</td>\n      <td>0.461538</td>\n      <td>0.448718</td>\n      <td>0.500000</td>\n      <td>0.479444</td>\n      <td>0.530413</td>\n      <td>0.260635</td>\n      <td>0.352289</td>\n    </tr>\n    <tr>\n      <th>25%</th>\n      <td>0.750000</td>\n      <td>0.449262</td>\n      <td>0.497460</td>\n      <td>0.480104</td>\n      <td>0.521226</td>\n      <td>0.490663</td>\n      <td>0.555652</td>\n      <td>0.288425</td>\n      <td>0.387464</td>\n    </tr>\n    <tr>\n      <th>50%</th>\n      <td>1.500000</td>\n      <td>0.486340</td>\n      <td>0.572425</td>\n      <td>0.557783</td>\n      <td>0.641755</td>\n      <td>0.538532</td>\n      <td>0.616531</td>\n      <td>0.323272</td>\n      <td>0.592894</td>\n    </tr>\n    <tr>\n      <th>75%</th>\n      <td>2.250000</td>\n      <td>0.540551</td>\n      <td>0.658110</td>\n      <td>0.647321</td>\n      <td>0.765811</td>\n      <td>0.612664</td>\n      <td>0.694107</td>\n      <td>0.424223</td>\n      <td>1.033667</td>\n    </tr>\n    <tr>\n      <th>max</th>\n      <td>3.000000</td>\n      <td>0.630952</td>\n      <td>0.726190</td>\n      <td>0.714286</td>\n      <td>0.797619</td>\n      <td>0.702670</td>\n      <td>0.769436</td>\n      <td>0.650326</td>\n      <td>1.774875</td>\n    </tr>\n  </tbody>\n</table>\n</div>"
     },
     "execution_count": 19,
     "metadata": {},
     "output_type": "execute_result"
    }
   ],
   "source": [
    "retrained_5.describe()"
   ],
   "metadata": {
    "collapsed": false,
    "pycharm": {
     "name": "#%%\n"
    }
   }
  },
  {
   "cell_type": "code",
   "execution_count": 21,
   "outputs": [
    {
     "data": {
      "text/plain": "       Unnamed: 0  acc_iou_0_7  acc_iou_0_5  acc_dice_0_7  acc_dice_0_5  \\\ncount    4.000000     4.000000     4.000000      4.000000      4.000000   \nmean     1.500000     0.513197     0.586672      0.562481      0.659371   \nstd      1.290994     0.078996     0.084237      0.088297      0.113896   \nmin      0.000000     0.461538     0.512821      0.474359      0.547170   \n25%      0.750000     0.474760     0.531507      0.507741      0.569485   \n50%      1.500000     0.480149     0.565743      0.548496      0.658253   \n75%      2.250000     0.518587     0.620908      0.603237      0.748140   \nmax      3.000000     0.630952     0.702381      0.678571      0.773810   \n\n        avg_iou  avg_dice     voi_1     voi_2  \ncount  4.000000  4.000000  4.000000  4.000000  \nmean   0.558162  0.626374  0.443675  0.906780  \nstd    0.082194  0.088124  0.189977  0.788715  \nmin    0.481373  0.526412  0.266753  0.419903  \n25%    0.515463  0.581054  0.330500  0.438277  \n50%    0.538818  0.620878  0.401301  0.565625  \n75%    0.581516  0.666198  0.514476  1.034128  \nmax    0.673639  0.737327  0.705343  2.075968  ",
      "text/html": "<div>\n<style scoped>\n    .dataframe tbody tr th:only-of-type {\n        vertical-align: middle;\n    }\n\n    .dataframe tbody tr th {\n        vertical-align: top;\n    }\n\n    .dataframe thead th {\n        text-align: right;\n    }\n</style>\n<table border=\"1\" class=\"dataframe\">\n  <thead>\n    <tr style=\"text-align: right;\">\n      <th></th>\n      <th>Unnamed: 0</th>\n      <th>acc_iou_0_7</th>\n      <th>acc_iou_0_5</th>\n      <th>acc_dice_0_7</th>\n      <th>acc_dice_0_5</th>\n      <th>avg_iou</th>\n      <th>avg_dice</th>\n      <th>voi_1</th>\n      <th>voi_2</th>\n    </tr>\n  </thead>\n  <tbody>\n    <tr>\n      <th>count</th>\n      <td>4.000000</td>\n      <td>4.000000</td>\n      <td>4.000000</td>\n      <td>4.000000</td>\n      <td>4.000000</td>\n      <td>4.000000</td>\n      <td>4.000000</td>\n      <td>4.000000</td>\n      <td>4.000000</td>\n    </tr>\n    <tr>\n      <th>mean</th>\n      <td>1.500000</td>\n      <td>0.513197</td>\n      <td>0.586672</td>\n      <td>0.562481</td>\n      <td>0.659371</td>\n      <td>0.558162</td>\n      <td>0.626374</td>\n      <td>0.443675</td>\n      <td>0.906780</td>\n    </tr>\n    <tr>\n      <th>std</th>\n      <td>1.290994</td>\n      <td>0.078996</td>\n      <td>0.084237</td>\n      <td>0.088297</td>\n      <td>0.113896</td>\n      <td>0.082194</td>\n      <td>0.088124</td>\n      <td>0.189977</td>\n      <td>0.788715</td>\n    </tr>\n    <tr>\n      <th>min</th>\n      <td>0.000000</td>\n      <td>0.461538</td>\n      <td>0.512821</td>\n      <td>0.474359</td>\n      <td>0.547170</td>\n      <td>0.481373</td>\n      <td>0.526412</td>\n      <td>0.266753</td>\n      <td>0.419903</td>\n    </tr>\n    <tr>\n      <th>25%</th>\n      <td>0.750000</td>\n      <td>0.474760</td>\n      <td>0.531507</td>\n      <td>0.507741</td>\n      <td>0.569485</td>\n      <td>0.515463</td>\n      <td>0.581054</td>\n      <td>0.330500</td>\n      <td>0.438277</td>\n    </tr>\n    <tr>\n      <th>50%</th>\n      <td>1.500000</td>\n      <td>0.480149</td>\n      <td>0.565743</td>\n      <td>0.548496</td>\n      <td>0.658253</td>\n      <td>0.538818</td>\n      <td>0.620878</td>\n      <td>0.401301</td>\n      <td>0.565625</td>\n    </tr>\n    <tr>\n      <th>75%</th>\n      <td>2.250000</td>\n      <td>0.518587</td>\n      <td>0.620908</td>\n      <td>0.603237</td>\n      <td>0.748140</td>\n      <td>0.581516</td>\n      <td>0.666198</td>\n      <td>0.514476</td>\n      <td>1.034128</td>\n    </tr>\n    <tr>\n      <th>max</th>\n      <td>3.000000</td>\n      <td>0.630952</td>\n      <td>0.702381</td>\n      <td>0.678571</td>\n      <td>0.773810</td>\n      <td>0.673639</td>\n      <td>0.737327</td>\n      <td>0.705343</td>\n      <td>2.075968</td>\n    </tr>\n  </tbody>\n</table>\n</div>"
     },
     "execution_count": 21,
     "metadata": {},
     "output_type": "execute_result"
    }
   ],
   "source": [
    "retrained_6.describe()"
   ],
   "metadata": {
    "collapsed": false,
    "pycharm": {
     "name": "#%%\n"
    }
   }
  },
  {
   "cell_type": "code",
   "execution_count": 5,
   "outputs": [
    {
     "data": {
      "text/plain": "       Unnamed: 0  acc_iou_0_7  acc_iou_0_5  acc_dice_0_7  acc_dice_0_5  \\\ncount    4.000000     4.000000     4.000000      4.000000      4.000000   \nmean     1.500000     0.605609     0.693244      0.676081      0.752727   \nstd      1.290994     0.096375     0.139624      0.141902      0.127169   \nmin      0.000000     0.500000     0.538462      0.525641      0.615385   \n25%      0.750000     0.549528     0.615747      0.591316      0.670356   \n50%      1.500000     0.598123     0.682734      0.660770      0.745381   \n75%      2.250000     0.654204     0.760231      0.745536      0.827753   \nmax      3.000000     0.726190     0.869048      0.857143      0.904762   \n\n        avg_iou  avg_dice     voi_1     voi_2  \ncount  4.000000  4.000000  4.000000  4.000000  \nmean   0.650423  0.720621  0.431546  0.567012  \nstd    0.095266  0.092456  0.163571  0.472579  \nmin    0.564438  0.633078  0.261321  0.255940  \n25%    0.593522  0.664346  0.316255  0.287222  \n50%    0.627074  0.701503  0.422052  0.373656  \n75%    0.683975  0.757778  0.537343  0.653447  \nmax    0.783106  0.846399  0.620759  1.264795  ",
      "text/html": "<div>\n<style scoped>\n    .dataframe tbody tr th:only-of-type {\n        vertical-align: middle;\n    }\n\n    .dataframe tbody tr th {\n        vertical-align: top;\n    }\n\n    .dataframe thead th {\n        text-align: right;\n    }\n</style>\n<table border=\"1\" class=\"dataframe\">\n  <thead>\n    <tr style=\"text-align: right;\">\n      <th></th>\n      <th>Unnamed: 0</th>\n      <th>acc_iou_0_7</th>\n      <th>acc_iou_0_5</th>\n      <th>acc_dice_0_7</th>\n      <th>acc_dice_0_5</th>\n      <th>avg_iou</th>\n      <th>avg_dice</th>\n      <th>voi_1</th>\n      <th>voi_2</th>\n    </tr>\n  </thead>\n  <tbody>\n    <tr>\n      <th>count</th>\n      <td>4.000000</td>\n      <td>4.000000</td>\n      <td>4.000000</td>\n      <td>4.000000</td>\n      <td>4.000000</td>\n      <td>4.000000</td>\n      <td>4.000000</td>\n      <td>4.000000</td>\n      <td>4.000000</td>\n    </tr>\n    <tr>\n      <th>mean</th>\n      <td>1.500000</td>\n      <td>0.605609</td>\n      <td>0.693244</td>\n      <td>0.676081</td>\n      <td>0.752727</td>\n      <td>0.650423</td>\n      <td>0.720621</td>\n      <td>0.431546</td>\n      <td>0.567012</td>\n    </tr>\n    <tr>\n      <th>std</th>\n      <td>1.290994</td>\n      <td>0.096375</td>\n      <td>0.139624</td>\n      <td>0.141902</td>\n      <td>0.127169</td>\n      <td>0.095266</td>\n      <td>0.092456</td>\n      <td>0.163571</td>\n      <td>0.472579</td>\n    </tr>\n    <tr>\n      <th>min</th>\n      <td>0.000000</td>\n      <td>0.500000</td>\n      <td>0.538462</td>\n      <td>0.525641</td>\n      <td>0.615385</td>\n      <td>0.564438</td>\n      <td>0.633078</td>\n      <td>0.261321</td>\n      <td>0.255940</td>\n    </tr>\n    <tr>\n      <th>25%</th>\n      <td>0.750000</td>\n      <td>0.549528</td>\n      <td>0.615747</td>\n      <td>0.591316</td>\n      <td>0.670356</td>\n      <td>0.593522</td>\n      <td>0.664346</td>\n      <td>0.316255</td>\n      <td>0.287222</td>\n    </tr>\n    <tr>\n      <th>50%</th>\n      <td>1.500000</td>\n      <td>0.598123</td>\n      <td>0.682734</td>\n      <td>0.660770</td>\n      <td>0.745381</td>\n      <td>0.627074</td>\n      <td>0.701503</td>\n      <td>0.422052</td>\n      <td>0.373656</td>\n    </tr>\n    <tr>\n      <th>75%</th>\n      <td>2.250000</td>\n      <td>0.654204</td>\n      <td>0.760231</td>\n      <td>0.745536</td>\n      <td>0.827753</td>\n      <td>0.683975</td>\n      <td>0.757778</td>\n      <td>0.537343</td>\n      <td>0.653447</td>\n    </tr>\n    <tr>\n      <th>max</th>\n      <td>3.000000</td>\n      <td>0.726190</td>\n      <td>0.869048</td>\n      <td>0.857143</td>\n      <td>0.904762</td>\n      <td>0.783106</td>\n      <td>0.846399</td>\n      <td>0.620759</td>\n      <td>1.264795</td>\n    </tr>\n  </tbody>\n</table>\n</div>"
     },
     "execution_count": 5,
     "metadata": {},
     "output_type": "execute_result"
    }
   ],
   "source": [
    "pretrained.describe()"
   ],
   "metadata": {
    "collapsed": false,
    "pycharm": {
     "name": "#%%\n"
    }
   }
  },
  {
   "cell_type": "code",
   "execution_count": 10,
   "outputs": [
    {
     "data": {
      "text/plain": "       Unnamed: 0  acc_iou_0_7  acc_iou_0_5  acc_dice_0_7  acc_dice_0_5  \\\ncount    4.000000     4.000000     4.000000      4.000000      4.000000   \nmean     1.500000     0.539907     0.628169      0.607345      0.725054   \nstd      1.290994     0.100988     0.092832      0.098152      0.087654   \nmin      0.000000     0.474359     0.551282      0.538462      0.628205   \n25%      0.750000     0.489683     0.576500      0.544993      0.673561   \n50%      1.500000     0.497396     0.599744      0.570460      0.719340   \n75%      2.250000     0.547619     0.651414      0.632812      0.770833   \nmax      3.000000     0.690476     0.761905      0.750000      0.833333   \n\n        avg_iou  avg_dice     voi_1     voi_2  \ncount  4.000000  4.000000  4.000000  4.000000  \nmean   0.613598  0.693330  0.602825  0.648372  \nstd    0.080858  0.076375  0.255330  0.625336  \nmin    0.566781  0.641081  0.331466  0.244245  \n25%    0.571874  0.655333  0.411847  0.302053  \n50%    0.576486  0.662709  0.625438  0.385784  \n75%    0.618209  0.700707  0.816416  0.732103  \nmax    0.734638  0.806821  0.828956  1.577673  ",
      "text/html": "<div>\n<style scoped>\n    .dataframe tbody tr th:only-of-type {\n        vertical-align: middle;\n    }\n\n    .dataframe tbody tr th {\n        vertical-align: top;\n    }\n\n    .dataframe thead th {\n        text-align: right;\n    }\n</style>\n<table border=\"1\" class=\"dataframe\">\n  <thead>\n    <tr style=\"text-align: right;\">\n      <th></th>\n      <th>Unnamed: 0</th>\n      <th>acc_iou_0_7</th>\n      <th>acc_iou_0_5</th>\n      <th>acc_dice_0_7</th>\n      <th>acc_dice_0_5</th>\n      <th>avg_iou</th>\n      <th>avg_dice</th>\n      <th>voi_1</th>\n      <th>voi_2</th>\n    </tr>\n  </thead>\n  <tbody>\n    <tr>\n      <th>count</th>\n      <td>4.000000</td>\n      <td>4.000000</td>\n      <td>4.000000</td>\n      <td>4.000000</td>\n      <td>4.000000</td>\n      <td>4.000000</td>\n      <td>4.000000</td>\n      <td>4.000000</td>\n      <td>4.000000</td>\n    </tr>\n    <tr>\n      <th>mean</th>\n      <td>1.500000</td>\n      <td>0.539907</td>\n      <td>0.628169</td>\n      <td>0.607345</td>\n      <td>0.725054</td>\n      <td>0.613598</td>\n      <td>0.693330</td>\n      <td>0.602825</td>\n      <td>0.648372</td>\n    </tr>\n    <tr>\n      <th>std</th>\n      <td>1.290994</td>\n      <td>0.100988</td>\n      <td>0.092832</td>\n      <td>0.098152</td>\n      <td>0.087654</td>\n      <td>0.080858</td>\n      <td>0.076375</td>\n      <td>0.255330</td>\n      <td>0.625336</td>\n    </tr>\n    <tr>\n      <th>min</th>\n      <td>0.000000</td>\n      <td>0.474359</td>\n      <td>0.551282</td>\n      <td>0.538462</td>\n      <td>0.628205</td>\n      <td>0.566781</td>\n      <td>0.641081</td>\n      <td>0.331466</td>\n      <td>0.244245</td>\n    </tr>\n    <tr>\n      <th>25%</th>\n      <td>0.750000</td>\n      <td>0.489683</td>\n      <td>0.576500</td>\n      <td>0.544993</td>\n      <td>0.673561</td>\n      <td>0.571874</td>\n      <td>0.655333</td>\n      <td>0.411847</td>\n      <td>0.302053</td>\n    </tr>\n    <tr>\n      <th>50%</th>\n      <td>1.500000</td>\n      <td>0.497396</td>\n      <td>0.599744</td>\n      <td>0.570460</td>\n      <td>0.719340</td>\n      <td>0.576486</td>\n      <td>0.662709</td>\n      <td>0.625438</td>\n      <td>0.385784</td>\n    </tr>\n    <tr>\n      <th>75%</th>\n      <td>2.250000</td>\n      <td>0.547619</td>\n      <td>0.651414</td>\n      <td>0.632812</td>\n      <td>0.770833</td>\n      <td>0.618209</td>\n      <td>0.700707</td>\n      <td>0.816416</td>\n      <td>0.732103</td>\n    </tr>\n    <tr>\n      <th>max</th>\n      <td>3.000000</td>\n      <td>0.690476</td>\n      <td>0.761905</td>\n      <td>0.750000</td>\n      <td>0.833333</td>\n      <td>0.734638</td>\n      <td>0.806821</td>\n      <td>0.828956</td>\n      <td>1.577673</td>\n    </tr>\n  </tbody>\n</table>\n</div>"
     },
     "execution_count": 10,
     "metadata": {},
     "output_type": "execute_result"
    }
   ],
   "source": [
    "edge_gated_2.describe()"
   ],
   "metadata": {
    "collapsed": false,
    "pycharm": {
     "name": "#%%\n"
    }
   }
  },
  {
   "cell_type": "code",
   "execution_count": 11,
   "outputs": [
    {
     "data": {
      "text/plain": "       Unnamed: 0  acc_iou_0_7  acc_iou_0_5  acc_dice_0_7  acc_dice_0_5  \\\ncount    4.000000     4.000000     4.000000      4.000000      4.000000   \nmean     1.500000     0.556373     0.649777      0.633070      0.742609   \nstd      1.290994     0.085407     0.092308      0.098428      0.078734   \nmin      0.000000     0.461538     0.538462      0.512821      0.666667   \n25%      0.750000     0.513822     0.608672      0.588111      0.690252   \n50%      1.500000     0.548644     0.649371      0.634729      0.729265   \n75%      2.250000     0.591195     0.690476      0.679688      0.781622   \nmax      3.000000     0.666667     0.761905      0.750000      0.845238   \n\n        avg_iou  avg_dice     voi_1     voi_2  \ncount  4.000000  4.000000  4.000000  4.000000  \nmean   0.623812  0.701082  0.533704  0.641552  \nstd    0.072875  0.069578  0.209086  0.606297  \nmin    0.571496  0.647788  0.309287  0.246985  \n25%    0.589193  0.663382  0.382194  0.301642  \n50%    0.596009  0.676813  0.539342  0.388869  \n75%    0.630628  0.714512  0.690852  0.728779  \nmax    0.731735  0.802912  0.746845  1.541487  ",
      "text/html": "<div>\n<style scoped>\n    .dataframe tbody tr th:only-of-type {\n        vertical-align: middle;\n    }\n\n    .dataframe tbody tr th {\n        vertical-align: top;\n    }\n\n    .dataframe thead th {\n        text-align: right;\n    }\n</style>\n<table border=\"1\" class=\"dataframe\">\n  <thead>\n    <tr style=\"text-align: right;\">\n      <th></th>\n      <th>Unnamed: 0</th>\n      <th>acc_iou_0_7</th>\n      <th>acc_iou_0_5</th>\n      <th>acc_dice_0_7</th>\n      <th>acc_dice_0_5</th>\n      <th>avg_iou</th>\n      <th>avg_dice</th>\n      <th>voi_1</th>\n      <th>voi_2</th>\n    </tr>\n  </thead>\n  <tbody>\n    <tr>\n      <th>count</th>\n      <td>4.000000</td>\n      <td>4.000000</td>\n      <td>4.000000</td>\n      <td>4.000000</td>\n      <td>4.000000</td>\n      <td>4.000000</td>\n      <td>4.000000</td>\n      <td>4.000000</td>\n      <td>4.000000</td>\n    </tr>\n    <tr>\n      <th>mean</th>\n      <td>1.500000</td>\n      <td>0.556373</td>\n      <td>0.649777</td>\n      <td>0.633070</td>\n      <td>0.742609</td>\n      <td>0.623812</td>\n      <td>0.701082</td>\n      <td>0.533704</td>\n      <td>0.641552</td>\n    </tr>\n    <tr>\n      <th>std</th>\n      <td>1.290994</td>\n      <td>0.085407</td>\n      <td>0.092308</td>\n      <td>0.098428</td>\n      <td>0.078734</td>\n      <td>0.072875</td>\n      <td>0.069578</td>\n      <td>0.209086</td>\n      <td>0.606297</td>\n    </tr>\n    <tr>\n      <th>min</th>\n      <td>0.000000</td>\n      <td>0.461538</td>\n      <td>0.538462</td>\n      <td>0.512821</td>\n      <td>0.666667</td>\n      <td>0.571496</td>\n      <td>0.647788</td>\n      <td>0.309287</td>\n      <td>0.246985</td>\n    </tr>\n    <tr>\n      <th>25%</th>\n      <td>0.750000</td>\n      <td>0.513822</td>\n      <td>0.608672</td>\n      <td>0.588111</td>\n      <td>0.690252</td>\n      <td>0.589193</td>\n      <td>0.663382</td>\n      <td>0.382194</td>\n      <td>0.301642</td>\n    </tr>\n    <tr>\n      <th>50%</th>\n      <td>1.500000</td>\n      <td>0.548644</td>\n      <td>0.649371</td>\n      <td>0.634729</td>\n      <td>0.729265</td>\n      <td>0.596009</td>\n      <td>0.676813</td>\n      <td>0.539342</td>\n      <td>0.388869</td>\n    </tr>\n    <tr>\n      <th>75%</th>\n      <td>2.250000</td>\n      <td>0.591195</td>\n      <td>0.690476</td>\n      <td>0.679688</td>\n      <td>0.781622</td>\n      <td>0.630628</td>\n      <td>0.714512</td>\n      <td>0.690852</td>\n      <td>0.728779</td>\n    </tr>\n    <tr>\n      <th>max</th>\n      <td>3.000000</td>\n      <td>0.666667</td>\n      <td>0.761905</td>\n      <td>0.750000</td>\n      <td>0.845238</td>\n      <td>0.731735</td>\n      <td>0.802912</td>\n      <td>0.746845</td>\n      <td>1.541487</td>\n    </tr>\n  </tbody>\n</table>\n</div>"
     },
     "execution_count": 11,
     "metadata": {},
     "output_type": "execute_result"
    }
   ],
   "source": [
    "edge_gated_3.describe()"
   ],
   "metadata": {
    "collapsed": false,
    "pycharm": {
     "name": "#%%\n"
    }
   }
  },
  {
   "cell_type": "code",
   "execution_count": 6,
   "outputs": [
    {
     "data": {
      "text/plain": "       Unnamed: 0  acc_iou_0_7  acc_iou_0_5  acc_dice_0_7  acc_dice_0_5  \\\ncount    4.000000     4.000000     4.000000      4.000000      4.000000   \nmean     1.500000     0.537338     0.604870      0.583867      0.679680   \nstd      1.290994     0.090933     0.117769      0.108654      0.152930   \nmin      0.000000     0.423077     0.461538      0.448718      0.487179   \n25%      0.750000     0.488582     0.568215      0.545773      0.602927   \n50%      1.500000     0.547661     0.603970      0.586232      0.693151   \n75%      2.250000     0.596417     0.640625      0.624326      0.769903   \nmax      3.000000     0.630952     0.750000      0.714286      0.845238   \n\n        avg_iou  avg_dice     voi_1     voi_2  \ncount  4.000000  4.000000  4.000000  4.000000  \nmean   0.572097  0.632408  0.350997  0.841023  \nstd    0.103968  0.113446  0.192704  0.687576  \nmin    0.453591  0.497041  0.206003  0.392439  \n25%    0.535457  0.579441  0.248988  0.428700  \n50%    0.563813  0.630942  0.281941  0.558022  \n75%    0.600453  0.683909  0.383950  0.970345  \nmax    0.707171  0.770705  0.634104  1.855611  ",
      "text/html": "<div>\n<style scoped>\n    .dataframe tbody tr th:only-of-type {\n        vertical-align: middle;\n    }\n\n    .dataframe tbody tr th {\n        vertical-align: top;\n    }\n\n    .dataframe thead th {\n        text-align: right;\n    }\n</style>\n<table border=\"1\" class=\"dataframe\">\n  <thead>\n    <tr style=\"text-align: right;\">\n      <th></th>\n      <th>Unnamed: 0</th>\n      <th>acc_iou_0_7</th>\n      <th>acc_iou_0_5</th>\n      <th>acc_dice_0_7</th>\n      <th>acc_dice_0_5</th>\n      <th>avg_iou</th>\n      <th>avg_dice</th>\n      <th>voi_1</th>\n      <th>voi_2</th>\n    </tr>\n  </thead>\n  <tbody>\n    <tr>\n      <th>count</th>\n      <td>4.000000</td>\n      <td>4.000000</td>\n      <td>4.000000</td>\n      <td>4.000000</td>\n      <td>4.000000</td>\n      <td>4.000000</td>\n      <td>4.000000</td>\n      <td>4.000000</td>\n      <td>4.000000</td>\n    </tr>\n    <tr>\n      <th>mean</th>\n      <td>1.500000</td>\n      <td>0.537338</td>\n      <td>0.604870</td>\n      <td>0.583867</td>\n      <td>0.679680</td>\n      <td>0.572097</td>\n      <td>0.632408</td>\n      <td>0.350997</td>\n      <td>0.841023</td>\n    </tr>\n    <tr>\n      <th>std</th>\n      <td>1.290994</td>\n      <td>0.090933</td>\n      <td>0.117769</td>\n      <td>0.108654</td>\n      <td>0.152930</td>\n      <td>0.103968</td>\n      <td>0.113446</td>\n      <td>0.192704</td>\n      <td>0.687576</td>\n    </tr>\n    <tr>\n      <th>min</th>\n      <td>0.000000</td>\n      <td>0.423077</td>\n      <td>0.461538</td>\n      <td>0.448718</td>\n      <td>0.487179</td>\n      <td>0.453591</td>\n      <td>0.497041</td>\n      <td>0.206003</td>\n      <td>0.392439</td>\n    </tr>\n    <tr>\n      <th>25%</th>\n      <td>0.750000</td>\n      <td>0.488582</td>\n      <td>0.568215</td>\n      <td>0.545773</td>\n      <td>0.602927</td>\n      <td>0.535457</td>\n      <td>0.579441</td>\n      <td>0.248988</td>\n      <td>0.428700</td>\n    </tr>\n    <tr>\n      <th>50%</th>\n      <td>1.500000</td>\n      <td>0.547661</td>\n      <td>0.603970</td>\n      <td>0.586232</td>\n      <td>0.693151</td>\n      <td>0.563813</td>\n      <td>0.630942</td>\n      <td>0.281941</td>\n      <td>0.558022</td>\n    </tr>\n    <tr>\n      <th>75%</th>\n      <td>2.250000</td>\n      <td>0.596417</td>\n      <td>0.640625</td>\n      <td>0.624326</td>\n      <td>0.769903</td>\n      <td>0.600453</td>\n      <td>0.683909</td>\n      <td>0.383950</td>\n      <td>0.970345</td>\n    </tr>\n    <tr>\n      <th>max</th>\n      <td>3.000000</td>\n      <td>0.630952</td>\n      <td>0.750000</td>\n      <td>0.714286</td>\n      <td>0.845238</td>\n      <td>0.707171</td>\n      <td>0.770705</td>\n      <td>0.634104</td>\n      <td>1.855611</td>\n    </tr>\n  </tbody>\n</table>\n</div>"
     },
     "execution_count": 6,
     "metadata": {},
     "output_type": "execute_result"
    }
   ],
   "source": [
    "edge_gated.describe()\n",
    "\n"
   ],
   "metadata": {
    "collapsed": false,
    "pycharm": {
     "name": "#%%\n"
    }
   }
  },
  {
   "cell_type": "code",
   "execution_count": 10,
   "outputs": [],
   "source": [
    "from func.ultis import load_obj\n",
    "\n",
    "data_info_dict = load_obj(\"dataset_info/LRP_dataset_info_original\")"
   ],
   "metadata": {
    "collapsed": false,
    "pycharm": {
     "name": "#%%\n"
    }
   }
  },
  {
   "cell_type": "code",
   "execution_count": 17,
   "outputs": [
    {
     "name": "stdout",
     "output_type": "stream",
     "text": [
      "1.0--------------------\n",
      "\"Movie1_t00014_crop_gt.h5\",\n",
      "\"Movie3_T00004_crop_gt.h5\",\n",
      "\"Movie2_T00010_crop_gt.h5\",\n",
      "\"Movie1_t00012_crop_gt.h5\",\n",
      "2.0--------------------\n",
      "\"Movie2_T00016_crop_gt.h5\",\n",
      "\"Movie1_t00045_crop_gt.h5\",\n",
      "\"Movie2_T00012_crop_gt.h5\",\n",
      "\"Movie1_t00003_crop_gt.h5\",\n",
      "3.0--------------------\n",
      "\"Movie1_t00010_crop_gt.h5\",\n",
      "\"Movie3_T00002_crop_gt.h5\",\n",
      "\"Movie1_t00009_crop_gt.h5\",\n",
      "\"Movie1_t00016_crop_gt.h5\",\n",
      "4.0--------------------\n",
      "\"Movie2_T00014_crop_gt.h5\",\n",
      "\"Movie1_t00040_crop_gt.h5\",\n",
      "\"Movie1_t00049_crop_gt.h5\",\n",
      "\"Movie2_T00002_crop_gt.h5\",\n",
      "5.0--------------------\n",
      "\"Movie2_T00006_crop_gt.h5\",\n",
      "\"Movie1_t00018_crop_gt.h5\",\n",
      "\"Movie1_t00035_crop_gt.h5\",\n",
      "\"Movie1_t00020_crop_gt.h5\",\n",
      "6.0--------------------\n",
      "\"Movie2_T00000_crop_gt.h5\",\n",
      "\"Movie2_T00008_crop_gt.h5\",\n",
      "\"Movie1_t00030_crop_gt.h5\",\n",
      "\"Movie1_t00004_crop_gt.h5\",\n"
     ]
    }
   ],
   "source": [
    "for i, k in enumerate(data_info_dict['train']):\n",
    "    if (i % 4) == 0:\n",
    "        print(f\"{i/4 + 1}--------------------\")\n",
    "\n",
    "    print(f\"\\\"{k}\\\",\")"
   ],
   "metadata": {
    "collapsed": false,
    "pycharm": {
     "name": "#%%\n"
    }
   }
  },
  {
   "cell_type": "code",
   "execution_count": 26,
   "outputs": [],
   "source": [
    "hms_unet = pd.read_csv(\"output/results_test_model_HMS_unet.csv\")"
   ],
   "metadata": {
    "collapsed": false,
    "pycharm": {
     "name": "#%%\n"
    }
   }
  },
  {
   "cell_type": "code",
   "execution_count": 27,
   "outputs": [
    {
     "data": {
      "text/plain": "       Unnamed: 0  acc_iou_0_7  acc_iou_0_5  acc_dice_0_7  acc_dice_0_5  \\\ncount    4.000000     4.000000     4.000000      4.000000      4.000000   \nmean     1.500000     0.218728     0.363861      0.335137      0.558700   \nstd      1.290994     0.018425     0.045183      0.033128      0.058491   \nmin      0.000000     0.193277     0.319328      0.294118      0.492997   \n25%      0.750000     0.211148     0.329010      0.315306      0.517986   \n50%      1.500000     0.224244     0.361597      0.342035      0.563720   \n75%      2.250000     0.231824     0.396448      0.361866      0.604433   \nmax      3.000000     0.233146     0.412921      0.362360      0.614362   \n\n        avg_iou  avg_dice     voi_1     voi_2  \ncount  4.000000  4.000000  4.000000  4.000000  \nmean   0.407628  0.527721  1.220636  1.652116  \nstd    0.032529  0.038635  0.113779  0.229008  \nmin    0.363919  0.474100  1.105191  1.368100  \n25%    0.392359  0.512528  1.157606  1.528807  \n50%    0.416289  0.538631  1.201924  1.671711  \n75%    0.431558  0.553824  1.264953  1.795021  \nmax    0.434015  0.559520  1.373502  1.896941  ",
      "text/html": "<div>\n<style scoped>\n    .dataframe tbody tr th:only-of-type {\n        vertical-align: middle;\n    }\n\n    .dataframe tbody tr th {\n        vertical-align: top;\n    }\n\n    .dataframe thead th {\n        text-align: right;\n    }\n</style>\n<table border=\"1\" class=\"dataframe\">\n  <thead>\n    <tr style=\"text-align: right;\">\n      <th></th>\n      <th>Unnamed: 0</th>\n      <th>acc_iou_0_7</th>\n      <th>acc_iou_0_5</th>\n      <th>acc_dice_0_7</th>\n      <th>acc_dice_0_5</th>\n      <th>avg_iou</th>\n      <th>avg_dice</th>\n      <th>voi_1</th>\n      <th>voi_2</th>\n    </tr>\n  </thead>\n  <tbody>\n    <tr>\n      <th>count</th>\n      <td>4.000000</td>\n      <td>4.000000</td>\n      <td>4.000000</td>\n      <td>4.000000</td>\n      <td>4.000000</td>\n      <td>4.000000</td>\n      <td>4.000000</td>\n      <td>4.000000</td>\n      <td>4.000000</td>\n    </tr>\n    <tr>\n      <th>mean</th>\n      <td>1.500000</td>\n      <td>0.218728</td>\n      <td>0.363861</td>\n      <td>0.335137</td>\n      <td>0.558700</td>\n      <td>0.407628</td>\n      <td>0.527721</td>\n      <td>1.220636</td>\n      <td>1.652116</td>\n    </tr>\n    <tr>\n      <th>std</th>\n      <td>1.290994</td>\n      <td>0.018425</td>\n      <td>0.045183</td>\n      <td>0.033128</td>\n      <td>0.058491</td>\n      <td>0.032529</td>\n      <td>0.038635</td>\n      <td>0.113779</td>\n      <td>0.229008</td>\n    </tr>\n    <tr>\n      <th>min</th>\n      <td>0.000000</td>\n      <td>0.193277</td>\n      <td>0.319328</td>\n      <td>0.294118</td>\n      <td>0.492997</td>\n      <td>0.363919</td>\n      <td>0.474100</td>\n      <td>1.105191</td>\n      <td>1.368100</td>\n    </tr>\n    <tr>\n      <th>25%</th>\n      <td>0.750000</td>\n      <td>0.211148</td>\n      <td>0.329010</td>\n      <td>0.315306</td>\n      <td>0.517986</td>\n      <td>0.392359</td>\n      <td>0.512528</td>\n      <td>1.157606</td>\n      <td>1.528807</td>\n    </tr>\n    <tr>\n      <th>50%</th>\n      <td>1.500000</td>\n      <td>0.224244</td>\n      <td>0.361597</td>\n      <td>0.342035</td>\n      <td>0.563720</td>\n      <td>0.416289</td>\n      <td>0.538631</td>\n      <td>1.201924</td>\n      <td>1.671711</td>\n    </tr>\n    <tr>\n      <th>75%</th>\n      <td>2.250000</td>\n      <td>0.231824</td>\n      <td>0.396448</td>\n      <td>0.361866</td>\n      <td>0.604433</td>\n      <td>0.431558</td>\n      <td>0.553824</td>\n      <td>1.264953</td>\n      <td>1.795021</td>\n    </tr>\n    <tr>\n      <th>max</th>\n      <td>3.000000</td>\n      <td>0.233146</td>\n      <td>0.412921</td>\n      <td>0.362360</td>\n      <td>0.614362</td>\n      <td>0.434015</td>\n      <td>0.559520</td>\n      <td>1.373502</td>\n      <td>1.896941</td>\n    </tr>\n  </tbody>\n</table>\n</div>"
     },
     "execution_count": 27,
     "metadata": {},
     "output_type": "execute_result"
    }
   ],
   "source": [
    "hms_unet.describe()"
   ],
   "metadata": {
    "collapsed": false,
    "pycharm": {
     "name": "#%%\n"
    }
   }
  },
  {
   "cell_type": "code",
   "execution_count": null,
   "outputs": [],
   "source": [],
   "metadata": {
    "collapsed": false,
    "pycharm": {
     "name": "#%%\n"
    }
   }
  }
 ],
 "metadata": {
  "kernelspec": {
   "display_name": "Python 3",
   "language": "python",
   "name": "python3"
  },
  "language_info": {
   "codemirror_mode": {
    "name": "ipython",
    "version": 2
   },
   "file_extension": ".py",
   "mimetype": "text/x-python",
   "name": "python",
   "nbconvert_exporter": "python",
   "pygments_lexer": "ipython2",
   "version": "2.7.6"
  }
 },
 "nbformat": 4,
 "nbformat_minor": 0
}