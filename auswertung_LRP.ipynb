{
 "cells": [
  {
   "cell_type": "code",
   "execution_count": 1,
   "outputs": [],
   "source": [
    "import pandas as pd\n",
    "import numpy as np\n",
    "from func.ultis import load_obj"
   ],
   "metadata": {
    "collapsed": false,
    "pycharm": {
     "name": "#%%\n"
    }
   }
  },
  {
   "cell_type": "code",
   "execution_count": 2,
   "outputs": [],
   "source": [
    "retrained = pd.read_csv('output/results_test_model_LRP_retrained.csv')\n",
    "edge_gated = pd.read_csv('output/results_test_model_LRP_edge_gated.csv')"
   ],
   "metadata": {
    "collapsed": false,
    "pycharm": {
     "name": "#%%\n"
    }
   }
  },
  {
   "cell_type": "code",
   "execution_count": 3,
   "outputs": [
    {
     "data": {
      "text/plain": "       Unnamed: 0  acc_iou_0_7  acc_iou_0_5  acc_dice_0_7  acc_dice_0_5  \\\ncount    4.000000     4.000000     4.000000      4.000000      4.000000   \nmean     1.500000     0.437756     0.484800      0.477918      0.524099   \nstd      1.290994     0.093522     0.130750      0.122806      0.158579   \nmin      0.000000     0.339623     0.349057      0.349057      0.377358   \n25%      0.750000     0.373367     0.385341      0.385341      0.402032   \n50%      1.500000     0.431891     0.490385      0.484432      0.502747   \n75%      2.250000     0.496280     0.589844      0.577009      0.624814   \nmax      3.000000     0.547619     0.609375      0.593750      0.713542   \n\n        avg_iou  avg_dice     voi_1     voi_2  \ncount  4.000000  4.000000  4.000000  4.000000  \nmean   0.461948  0.511220  0.276015  1.266359  \nstd    0.106268  0.124401  0.227561  0.621386  \nmin    0.346677  0.379127  0.124461  0.798234  \n25%    0.384129  0.421108  0.160522  0.802241  \n50%    0.473143  0.511485  0.182467  1.076724  \n75%    0.550961  0.601598  0.297961  1.540842  \nmax    0.554828  0.642784  0.614666  2.113754  ",
      "text/html": "<div>\n<style scoped>\n    .dataframe tbody tr th:only-of-type {\n        vertical-align: middle;\n    }\n\n    .dataframe tbody tr th {\n        vertical-align: top;\n    }\n\n    .dataframe thead th {\n        text-align: right;\n    }\n</style>\n<table border=\"1\" class=\"dataframe\">\n  <thead>\n    <tr style=\"text-align: right;\">\n      <th></th>\n      <th>Unnamed: 0</th>\n      <th>acc_iou_0_7</th>\n      <th>acc_iou_0_5</th>\n      <th>acc_dice_0_7</th>\n      <th>acc_dice_0_5</th>\n      <th>avg_iou</th>\n      <th>avg_dice</th>\n      <th>voi_1</th>\n      <th>voi_2</th>\n    </tr>\n  </thead>\n  <tbody>\n    <tr>\n      <th>count</th>\n      <td>4.000000</td>\n      <td>4.000000</td>\n      <td>4.000000</td>\n      <td>4.000000</td>\n      <td>4.000000</td>\n      <td>4.000000</td>\n      <td>4.000000</td>\n      <td>4.000000</td>\n      <td>4.000000</td>\n    </tr>\n    <tr>\n      <th>mean</th>\n      <td>1.500000</td>\n      <td>0.437756</td>\n      <td>0.484800</td>\n      <td>0.477918</td>\n      <td>0.524099</td>\n      <td>0.461948</td>\n      <td>0.511220</td>\n      <td>0.276015</td>\n      <td>1.266359</td>\n    </tr>\n    <tr>\n      <th>std</th>\n      <td>1.290994</td>\n      <td>0.093522</td>\n      <td>0.130750</td>\n      <td>0.122806</td>\n      <td>0.158579</td>\n      <td>0.106268</td>\n      <td>0.124401</td>\n      <td>0.227561</td>\n      <td>0.621386</td>\n    </tr>\n    <tr>\n      <th>min</th>\n      <td>0.000000</td>\n      <td>0.339623</td>\n      <td>0.349057</td>\n      <td>0.349057</td>\n      <td>0.377358</td>\n      <td>0.346677</td>\n      <td>0.379127</td>\n      <td>0.124461</td>\n      <td>0.798234</td>\n    </tr>\n    <tr>\n      <th>25%</th>\n      <td>0.750000</td>\n      <td>0.373367</td>\n      <td>0.385341</td>\n      <td>0.385341</td>\n      <td>0.402032</td>\n      <td>0.384129</td>\n      <td>0.421108</td>\n      <td>0.160522</td>\n      <td>0.802241</td>\n    </tr>\n    <tr>\n      <th>50%</th>\n      <td>1.500000</td>\n      <td>0.431891</td>\n      <td>0.490385</td>\n      <td>0.484432</td>\n      <td>0.502747</td>\n      <td>0.473143</td>\n      <td>0.511485</td>\n      <td>0.182467</td>\n      <td>1.076724</td>\n    </tr>\n    <tr>\n      <th>75%</th>\n      <td>2.250000</td>\n      <td>0.496280</td>\n      <td>0.589844</td>\n      <td>0.577009</td>\n      <td>0.624814</td>\n      <td>0.550961</td>\n      <td>0.601598</td>\n      <td>0.297961</td>\n      <td>1.540842</td>\n    </tr>\n    <tr>\n      <th>max</th>\n      <td>3.000000</td>\n      <td>0.547619</td>\n      <td>0.609375</td>\n      <td>0.593750</td>\n      <td>0.713542</td>\n      <td>0.554828</td>\n      <td>0.642784</td>\n      <td>0.614666</td>\n      <td>2.113754</td>\n    </tr>\n  </tbody>\n</table>\n</div>"
     },
     "execution_count": 3,
     "metadata": {},
     "output_type": "execute_result"
    }
   ],
   "source": [
    "retrained.describe()"
   ],
   "metadata": {
    "collapsed": false,
    "pycharm": {
     "name": "#%%\n"
    }
   }
  },
  {
   "cell_type": "code",
   "execution_count": 4,
   "outputs": [
    {
     "data": {
      "text/plain": "       Unnamed: 0  acc_iou_0_7  acc_iou_0_5  acc_dice_0_7  acc_dice_0_5  \\\ncount    4.000000     4.000000     4.000000      4.000000      4.000000   \nmean     1.500000     0.420087     0.470978      0.466700      0.509363   \nstd      1.290994     0.091422     0.130029      0.125042      0.164092   \nmin      0.000000     0.307692     0.320513      0.320513      0.320513   \n25%      0.750000     0.367017     0.384373      0.384373      0.398524   \n50%      1.500000     0.430375     0.484080      0.481476      0.527740   \n75%      2.250000     0.483445     0.570685      0.563802      0.638579   \nmax      3.000000     0.511905     0.595238      0.583333      0.661458   \n\n        avg_iou  avg_dice     voi_1     voi_2  \ncount  4.000000  4.000000  4.000000  4.000000  \nmean   0.447606  0.495180  0.230738  1.324116  \nstd    0.113767  0.132722  0.171190  0.634222  \nmin    0.318436  0.344772  0.093475  0.741250  \n25%    0.370713  0.403025  0.150247  1.029622  \n50%    0.454938  0.512495  0.174230  1.164685  \n75%    0.531830  0.604650  0.254721  1.459179  \nmax    0.562114  0.610958  0.481017  2.225843  ",
      "text/html": "<div>\n<style scoped>\n    .dataframe tbody tr th:only-of-type {\n        vertical-align: middle;\n    }\n\n    .dataframe tbody tr th {\n        vertical-align: top;\n    }\n\n    .dataframe thead th {\n        text-align: right;\n    }\n</style>\n<table border=\"1\" class=\"dataframe\">\n  <thead>\n    <tr style=\"text-align: right;\">\n      <th></th>\n      <th>Unnamed: 0</th>\n      <th>acc_iou_0_7</th>\n      <th>acc_iou_0_5</th>\n      <th>acc_dice_0_7</th>\n      <th>acc_dice_0_5</th>\n      <th>avg_iou</th>\n      <th>avg_dice</th>\n      <th>voi_1</th>\n      <th>voi_2</th>\n    </tr>\n  </thead>\n  <tbody>\n    <tr>\n      <th>count</th>\n      <td>4.000000</td>\n      <td>4.000000</td>\n      <td>4.000000</td>\n      <td>4.000000</td>\n      <td>4.000000</td>\n      <td>4.000000</td>\n      <td>4.000000</td>\n      <td>4.000000</td>\n      <td>4.000000</td>\n    </tr>\n    <tr>\n      <th>mean</th>\n      <td>1.500000</td>\n      <td>0.420087</td>\n      <td>0.470978</td>\n      <td>0.466700</td>\n      <td>0.509363</td>\n      <td>0.447606</td>\n      <td>0.495180</td>\n      <td>0.230738</td>\n      <td>1.324116</td>\n    </tr>\n    <tr>\n      <th>std</th>\n      <td>1.290994</td>\n      <td>0.091422</td>\n      <td>0.130029</td>\n      <td>0.125042</td>\n      <td>0.164092</td>\n      <td>0.113767</td>\n      <td>0.132722</td>\n      <td>0.171190</td>\n      <td>0.634222</td>\n    </tr>\n    <tr>\n      <th>min</th>\n      <td>0.000000</td>\n      <td>0.307692</td>\n      <td>0.320513</td>\n      <td>0.320513</td>\n      <td>0.320513</td>\n      <td>0.318436</td>\n      <td>0.344772</td>\n      <td>0.093475</td>\n      <td>0.741250</td>\n    </tr>\n    <tr>\n      <th>25%</th>\n      <td>0.750000</td>\n      <td>0.367017</td>\n      <td>0.384373</td>\n      <td>0.384373</td>\n      <td>0.398524</td>\n      <td>0.370713</td>\n      <td>0.403025</td>\n      <td>0.150247</td>\n      <td>1.029622</td>\n    </tr>\n    <tr>\n      <th>50%</th>\n      <td>1.500000</td>\n      <td>0.430375</td>\n      <td>0.484080</td>\n      <td>0.481476</td>\n      <td>0.527740</td>\n      <td>0.454938</td>\n      <td>0.512495</td>\n      <td>0.174230</td>\n      <td>1.164685</td>\n    </tr>\n    <tr>\n      <th>75%</th>\n      <td>2.250000</td>\n      <td>0.483445</td>\n      <td>0.570685</td>\n      <td>0.563802</td>\n      <td>0.638579</td>\n      <td>0.531830</td>\n      <td>0.604650</td>\n      <td>0.254721</td>\n      <td>1.459179</td>\n    </tr>\n    <tr>\n      <th>max</th>\n      <td>3.000000</td>\n      <td>0.511905</td>\n      <td>0.595238</td>\n      <td>0.583333</td>\n      <td>0.661458</td>\n      <td>0.562114</td>\n      <td>0.610958</td>\n      <td>0.481017</td>\n      <td>2.225843</td>\n    </tr>\n  </tbody>\n</table>\n</div>"
     },
     "execution_count": 4,
     "metadata": {},
     "output_type": "execute_result"
    }
   ],
   "source": [
    "edge_gated.describe()\n",
    "\n"
   ],
   "metadata": {
    "collapsed": false,
    "pycharm": {
     "name": "#%%\n"
    }
   }
  },
  {
   "cell_type": "code",
   "execution_count": null,
   "outputs": [],
   "source": [],
   "metadata": {
    "collapsed": false,
    "pycharm": {
     "name": "#%%\n"
    }
   }
  }
 ],
 "metadata": {
  "kernelspec": {
   "display_name": "Python 3",
   "language": "python",
   "name": "python3"
  },
  "language_info": {
   "codemirror_mode": {
    "name": "ipython",
    "version": 2
   },
   "file_extension": ".py",
   "mimetype": "text/x-python",
   "name": "python",
   "nbconvert_exporter": "python",
   "pygments_lexer": "ipython2",
   "version": "2.7.6"
  }
 },
 "nbformat": 4,
 "nbformat_minor": 0
}