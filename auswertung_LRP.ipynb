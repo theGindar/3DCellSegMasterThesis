{
 "cells": [
  {
   "cell_type": "code",
   "execution_count": 1,
   "outputs": [],
   "source": [
    "import pandas as pd\n",
    "import numpy as np\n",
    "from func.ultis import load_obj"
   ],
   "metadata": {
    "collapsed": false,
    "pycharm": {
     "name": "#%%\n"
    }
   }
  },
  {
   "cell_type": "code",
   "execution_count": 7,
   "outputs": [],
   "source": [
    "retrained_1 = pd.read_csv('output/results_test_model_LRP_retrained_one_transpose.csv')\n",
    "retrained_2 = pd.read_csv('output/results_test_model_LRP_retrained.csv')\n",
    "retrained_3 = pd.read_csv('output/results_test_model_LRP_retrained_limit_background.csv')\n",
    "\n",
    "pretrained = pd.read_csv('output/results_test_model_LRP_pretrained.csv')\n",
    "\n",
    "edge_gated = pd.read_csv('output/results_test_model_LRP_edge_gated.csv')"
   ],
   "metadata": {
    "collapsed": false,
    "pycharm": {
     "name": "#%%\n"
    }
   }
  },
  {
   "cell_type": "code",
   "execution_count": 3,
   "outputs": [
    {
     "data": {
      "text/plain": "       Unnamed: 0  acc_iou_0_7  acc_iou_0_5  acc_dice_0_7  acc_dice_0_5  \\\ncount    4.000000     4.000000     4.000000      4.000000      4.000000   \nmean     1.500000     0.437756     0.484800      0.477918      0.524099   \nstd      1.290994     0.093522     0.130750      0.122806      0.158579   \nmin      0.000000     0.339623     0.349057      0.349057      0.377358   \n25%      0.750000     0.373367     0.385341      0.385341      0.402032   \n50%      1.500000     0.431891     0.490385      0.484432      0.502747   \n75%      2.250000     0.496280     0.589844      0.577009      0.624814   \nmax      3.000000     0.547619     0.609375      0.593750      0.713542   \n\n        avg_iou  avg_dice     voi_1     voi_2  \ncount  4.000000  4.000000  4.000000  4.000000  \nmean   0.461948  0.511220  0.276015  1.266359  \nstd    0.106268  0.124401  0.227561  0.621386  \nmin    0.346677  0.379127  0.124461  0.798234  \n25%    0.384129  0.421108  0.160522  0.802241  \n50%    0.473143  0.511485  0.182467  1.076724  \n75%    0.550961  0.601598  0.297961  1.540842  \nmax    0.554828  0.642784  0.614666  2.113754  ",
      "text/html": "<div>\n<style scoped>\n    .dataframe tbody tr th:only-of-type {\n        vertical-align: middle;\n    }\n\n    .dataframe tbody tr th {\n        vertical-align: top;\n    }\n\n    .dataframe thead th {\n        text-align: right;\n    }\n</style>\n<table border=\"1\" class=\"dataframe\">\n  <thead>\n    <tr style=\"text-align: right;\">\n      <th></th>\n      <th>Unnamed: 0</th>\n      <th>acc_iou_0_7</th>\n      <th>acc_iou_0_5</th>\n      <th>acc_dice_0_7</th>\n      <th>acc_dice_0_5</th>\n      <th>avg_iou</th>\n      <th>avg_dice</th>\n      <th>voi_1</th>\n      <th>voi_2</th>\n    </tr>\n  </thead>\n  <tbody>\n    <tr>\n      <th>count</th>\n      <td>4.000000</td>\n      <td>4.000000</td>\n      <td>4.000000</td>\n      <td>4.000000</td>\n      <td>4.000000</td>\n      <td>4.000000</td>\n      <td>4.000000</td>\n      <td>4.000000</td>\n      <td>4.000000</td>\n    </tr>\n    <tr>\n      <th>mean</th>\n      <td>1.500000</td>\n      <td>0.437756</td>\n      <td>0.484800</td>\n      <td>0.477918</td>\n      <td>0.524099</td>\n      <td>0.461948</td>\n      <td>0.511220</td>\n      <td>0.276015</td>\n      <td>1.266359</td>\n    </tr>\n    <tr>\n      <th>std</th>\n      <td>1.290994</td>\n      <td>0.093522</td>\n      <td>0.130750</td>\n      <td>0.122806</td>\n      <td>0.158579</td>\n      <td>0.106268</td>\n      <td>0.124401</td>\n      <td>0.227561</td>\n      <td>0.621386</td>\n    </tr>\n    <tr>\n      <th>min</th>\n      <td>0.000000</td>\n      <td>0.339623</td>\n      <td>0.349057</td>\n      <td>0.349057</td>\n      <td>0.377358</td>\n      <td>0.346677</td>\n      <td>0.379127</td>\n      <td>0.124461</td>\n      <td>0.798234</td>\n    </tr>\n    <tr>\n      <th>25%</th>\n      <td>0.750000</td>\n      <td>0.373367</td>\n      <td>0.385341</td>\n      <td>0.385341</td>\n      <td>0.402032</td>\n      <td>0.384129</td>\n      <td>0.421108</td>\n      <td>0.160522</td>\n      <td>0.802241</td>\n    </tr>\n    <tr>\n      <th>50%</th>\n      <td>1.500000</td>\n      <td>0.431891</td>\n      <td>0.490385</td>\n      <td>0.484432</td>\n      <td>0.502747</td>\n      <td>0.473143</td>\n      <td>0.511485</td>\n      <td>0.182467</td>\n      <td>1.076724</td>\n    </tr>\n    <tr>\n      <th>75%</th>\n      <td>2.250000</td>\n      <td>0.496280</td>\n      <td>0.589844</td>\n      <td>0.577009</td>\n      <td>0.624814</td>\n      <td>0.550961</td>\n      <td>0.601598</td>\n      <td>0.297961</td>\n      <td>1.540842</td>\n    </tr>\n    <tr>\n      <th>max</th>\n      <td>3.000000</td>\n      <td>0.547619</td>\n      <td>0.609375</td>\n      <td>0.593750</td>\n      <td>0.713542</td>\n      <td>0.554828</td>\n      <td>0.642784</td>\n      <td>0.614666</td>\n      <td>2.113754</td>\n    </tr>\n  </tbody>\n</table>\n</div>"
     },
     "execution_count": 3,
     "metadata": {},
     "output_type": "execute_result"
    }
   ],
   "source": [
    "retrained_1.describe()"
   ],
   "metadata": {
    "collapsed": false,
    "pycharm": {
     "name": "#%%\n"
    }
   }
  },
  {
   "cell_type": "code",
   "execution_count": 4,
   "outputs": [
    {
     "data": {
      "text/plain": "       Unnamed: 0  acc_iou_0_7  acc_iou_0_5  acc_dice_0_7  acc_dice_0_5  \\\ncount    4.000000     4.000000     4.000000      4.000000      4.000000   \nmean     1.500000     0.510820     0.600317      0.580159      0.676854   \nstd      1.290994     0.090951     0.097626      0.105924      0.091733   \nmin      0.000000     0.435897     0.512821      0.474359      0.589744   \n25%      0.750000     0.464443     0.545658      0.528967      0.607342   \n50%      1.500000     0.482262     0.575177      0.560043      0.665979   \n75%      2.250000     0.528639     0.629836      0.611235      0.735491   \nmax      3.000000     0.642857     0.738095      0.726190      0.785714   \n\n        avg_iou  avg_dice     voi_1     voi_2  \ncount  4.000000  4.000000  4.000000  4.000000  \nmean   0.575891  0.649906  0.454598  0.880681  \nstd    0.081992  0.078415  0.196388  0.807210  \nmin    0.526289  0.596592  0.262782  0.383967  \n25%    0.530372  0.599253  0.327127  0.437074  \n50%    0.539566  0.619538  0.422058  0.527399  \n75%    0.585085  0.670191  0.549529  0.971006  \nmax    0.698145  0.763956  0.711493  2.083958  ",
      "text/html": "<div>\n<style scoped>\n    .dataframe tbody tr th:only-of-type {\n        vertical-align: middle;\n    }\n\n    .dataframe tbody tr th {\n        vertical-align: top;\n    }\n\n    .dataframe thead th {\n        text-align: right;\n    }\n</style>\n<table border=\"1\" class=\"dataframe\">\n  <thead>\n    <tr style=\"text-align: right;\">\n      <th></th>\n      <th>Unnamed: 0</th>\n      <th>acc_iou_0_7</th>\n      <th>acc_iou_0_5</th>\n      <th>acc_dice_0_7</th>\n      <th>acc_dice_0_5</th>\n      <th>avg_iou</th>\n      <th>avg_dice</th>\n      <th>voi_1</th>\n      <th>voi_2</th>\n    </tr>\n  </thead>\n  <tbody>\n    <tr>\n      <th>count</th>\n      <td>4.000000</td>\n      <td>4.000000</td>\n      <td>4.000000</td>\n      <td>4.000000</td>\n      <td>4.000000</td>\n      <td>4.000000</td>\n      <td>4.000000</td>\n      <td>4.000000</td>\n      <td>4.000000</td>\n    </tr>\n    <tr>\n      <th>mean</th>\n      <td>1.500000</td>\n      <td>0.510820</td>\n      <td>0.600317</td>\n      <td>0.580159</td>\n      <td>0.676854</td>\n      <td>0.575891</td>\n      <td>0.649906</td>\n      <td>0.454598</td>\n      <td>0.880681</td>\n    </tr>\n    <tr>\n      <th>std</th>\n      <td>1.290994</td>\n      <td>0.090951</td>\n      <td>0.097626</td>\n      <td>0.105924</td>\n      <td>0.091733</td>\n      <td>0.081992</td>\n      <td>0.078415</td>\n      <td>0.196388</td>\n      <td>0.807210</td>\n    </tr>\n    <tr>\n      <th>min</th>\n      <td>0.000000</td>\n      <td>0.435897</td>\n      <td>0.512821</td>\n      <td>0.474359</td>\n      <td>0.589744</td>\n      <td>0.526289</td>\n      <td>0.596592</td>\n      <td>0.262782</td>\n      <td>0.383967</td>\n    </tr>\n    <tr>\n      <th>25%</th>\n      <td>0.750000</td>\n      <td>0.464443</td>\n      <td>0.545658</td>\n      <td>0.528967</td>\n      <td>0.607342</td>\n      <td>0.530372</td>\n      <td>0.599253</td>\n      <td>0.327127</td>\n      <td>0.437074</td>\n    </tr>\n    <tr>\n      <th>50%</th>\n      <td>1.500000</td>\n      <td>0.482262</td>\n      <td>0.575177</td>\n      <td>0.560043</td>\n      <td>0.665979</td>\n      <td>0.539566</td>\n      <td>0.619538</td>\n      <td>0.422058</td>\n      <td>0.527399</td>\n    </tr>\n    <tr>\n      <th>75%</th>\n      <td>2.250000</td>\n      <td>0.528639</td>\n      <td>0.629836</td>\n      <td>0.611235</td>\n      <td>0.735491</td>\n      <td>0.585085</td>\n      <td>0.670191</td>\n      <td>0.549529</td>\n      <td>0.971006</td>\n    </tr>\n    <tr>\n      <th>max</th>\n      <td>3.000000</td>\n      <td>0.642857</td>\n      <td>0.738095</td>\n      <td>0.726190</td>\n      <td>0.785714</td>\n      <td>0.698145</td>\n      <td>0.763956</td>\n      <td>0.711493</td>\n      <td>2.083958</td>\n    </tr>\n  </tbody>\n</table>\n</div>"
     },
     "execution_count": 4,
     "metadata": {},
     "output_type": "execute_result"
    }
   ],
   "source": [
    "retrained_2.describe()"
   ],
   "metadata": {
    "collapsed": false,
    "pycharm": {
     "name": "#%%\n"
    }
   }
  },
  {
   "cell_type": "code",
   "execution_count": 8,
   "outputs": [
    {
     "data": {
      "text/plain": "       Unnamed: 0  acc_iou_0_7  acc_iou_0_5  acc_dice_0_7  acc_dice_0_5  \\\ncount    4.000000     4.000000     4.000000      4.000000      4.000000   \nmean     1.500000     0.491892     0.550502      0.544693      0.597835   \nstd      1.290994     0.083709     0.089499      0.090495      0.130783   \nmin      0.000000     0.424528     0.471698      0.461538      0.471698   \n25%      0.750000     0.433055     0.473694      0.469158      0.492925   \n50%      1.500000     0.467949     0.549679      0.543141      0.595238   \n75%      2.250000     0.526786     0.626488      0.618676      0.700149   \nmax      3.000000     0.607143     0.630952      0.630952      0.729167   \n\n        avg_iou  avg_dice     voi_1     voi_2  \ncount  4.000000  4.000000  4.000000  4.000000  \nmean   0.524670  0.581713  0.409625  0.907950  \nstd    0.086582  0.098949  0.193847  0.660548  \nmin    0.433862  0.474701  0.232507  0.428225  \n25%    0.462063  0.509058  0.287646  0.480128  \n50%    0.522656  0.591330  0.365529  0.671766  \n75%    0.585263  0.663986  0.487507  1.099589  \nmax    0.619505  0.669491  0.674934  1.860044  ",
      "text/html": "<div>\n<style scoped>\n    .dataframe tbody tr th:only-of-type {\n        vertical-align: middle;\n    }\n\n    .dataframe tbody tr th {\n        vertical-align: top;\n    }\n\n    .dataframe thead th {\n        text-align: right;\n    }\n</style>\n<table border=\"1\" class=\"dataframe\">\n  <thead>\n    <tr style=\"text-align: right;\">\n      <th></th>\n      <th>Unnamed: 0</th>\n      <th>acc_iou_0_7</th>\n      <th>acc_iou_0_5</th>\n      <th>acc_dice_0_7</th>\n      <th>acc_dice_0_5</th>\n      <th>avg_iou</th>\n      <th>avg_dice</th>\n      <th>voi_1</th>\n      <th>voi_2</th>\n    </tr>\n  </thead>\n  <tbody>\n    <tr>\n      <th>count</th>\n      <td>4.000000</td>\n      <td>4.000000</td>\n      <td>4.000000</td>\n      <td>4.000000</td>\n      <td>4.000000</td>\n      <td>4.000000</td>\n      <td>4.000000</td>\n      <td>4.000000</td>\n      <td>4.000000</td>\n    </tr>\n    <tr>\n      <th>mean</th>\n      <td>1.500000</td>\n      <td>0.491892</td>\n      <td>0.550502</td>\n      <td>0.544693</td>\n      <td>0.597835</td>\n      <td>0.524670</td>\n      <td>0.581713</td>\n      <td>0.409625</td>\n      <td>0.907950</td>\n    </tr>\n    <tr>\n      <th>std</th>\n      <td>1.290994</td>\n      <td>0.083709</td>\n      <td>0.089499</td>\n      <td>0.090495</td>\n      <td>0.130783</td>\n      <td>0.086582</td>\n      <td>0.098949</td>\n      <td>0.193847</td>\n      <td>0.660548</td>\n    </tr>\n    <tr>\n      <th>min</th>\n      <td>0.000000</td>\n      <td>0.424528</td>\n      <td>0.471698</td>\n      <td>0.461538</td>\n      <td>0.471698</td>\n      <td>0.433862</td>\n      <td>0.474701</td>\n      <td>0.232507</td>\n      <td>0.428225</td>\n    </tr>\n    <tr>\n      <th>25%</th>\n      <td>0.750000</td>\n      <td>0.433055</td>\n      <td>0.473694</td>\n      <td>0.469158</td>\n      <td>0.492925</td>\n      <td>0.462063</td>\n      <td>0.509058</td>\n      <td>0.287646</td>\n      <td>0.480128</td>\n    </tr>\n    <tr>\n      <th>50%</th>\n      <td>1.500000</td>\n      <td>0.467949</td>\n      <td>0.549679</td>\n      <td>0.543141</td>\n      <td>0.595238</td>\n      <td>0.522656</td>\n      <td>0.591330</td>\n      <td>0.365529</td>\n      <td>0.671766</td>\n    </tr>\n    <tr>\n      <th>75%</th>\n      <td>2.250000</td>\n      <td>0.526786</td>\n      <td>0.626488</td>\n      <td>0.618676</td>\n      <td>0.700149</td>\n      <td>0.585263</td>\n      <td>0.663986</td>\n      <td>0.487507</td>\n      <td>1.099589</td>\n    </tr>\n    <tr>\n      <th>max</th>\n      <td>3.000000</td>\n      <td>0.607143</td>\n      <td>0.630952</td>\n      <td>0.630952</td>\n      <td>0.729167</td>\n      <td>0.619505</td>\n      <td>0.669491</td>\n      <td>0.674934</td>\n      <td>1.860044</td>\n    </tr>\n  </tbody>\n</table>\n</div>"
     },
     "execution_count": 8,
     "metadata": {},
     "output_type": "execute_result"
    }
   ],
   "source": [
    "retrained_3.describe()"
   ],
   "metadata": {
    "collapsed": false,
    "pycharm": {
     "name": "#%%\n"
    }
   }
  },
  {
   "cell_type": "code",
   "execution_count": 5,
   "outputs": [
    {
     "data": {
      "text/plain": "       Unnamed: 0  acc_iou_0_7  acc_iou_0_5  acc_dice_0_7  acc_dice_0_5  \\\ncount    4.000000     4.000000     4.000000      4.000000      4.000000   \nmean     1.500000     0.605609     0.693244      0.676081      0.752727   \nstd      1.290994     0.096375     0.139624      0.141902      0.127169   \nmin      0.000000     0.500000     0.538462      0.525641      0.615385   \n25%      0.750000     0.549528     0.615747      0.591316      0.670356   \n50%      1.500000     0.598123     0.682734      0.660770      0.745381   \n75%      2.250000     0.654204     0.760231      0.745536      0.827753   \nmax      3.000000     0.726190     0.869048      0.857143      0.904762   \n\n        avg_iou  avg_dice     voi_1     voi_2  \ncount  4.000000  4.000000  4.000000  4.000000  \nmean   0.650423  0.720621  0.431546  0.567012  \nstd    0.095266  0.092456  0.163571  0.472579  \nmin    0.564438  0.633078  0.261321  0.255940  \n25%    0.593522  0.664346  0.316255  0.287222  \n50%    0.627074  0.701503  0.422052  0.373656  \n75%    0.683975  0.757778  0.537343  0.653447  \nmax    0.783106  0.846399  0.620759  1.264795  ",
      "text/html": "<div>\n<style scoped>\n    .dataframe tbody tr th:only-of-type {\n        vertical-align: middle;\n    }\n\n    .dataframe tbody tr th {\n        vertical-align: top;\n    }\n\n    .dataframe thead th {\n        text-align: right;\n    }\n</style>\n<table border=\"1\" class=\"dataframe\">\n  <thead>\n    <tr style=\"text-align: right;\">\n      <th></th>\n      <th>Unnamed: 0</th>\n      <th>acc_iou_0_7</th>\n      <th>acc_iou_0_5</th>\n      <th>acc_dice_0_7</th>\n      <th>acc_dice_0_5</th>\n      <th>avg_iou</th>\n      <th>avg_dice</th>\n      <th>voi_1</th>\n      <th>voi_2</th>\n    </tr>\n  </thead>\n  <tbody>\n    <tr>\n      <th>count</th>\n      <td>4.000000</td>\n      <td>4.000000</td>\n      <td>4.000000</td>\n      <td>4.000000</td>\n      <td>4.000000</td>\n      <td>4.000000</td>\n      <td>4.000000</td>\n      <td>4.000000</td>\n      <td>4.000000</td>\n    </tr>\n    <tr>\n      <th>mean</th>\n      <td>1.500000</td>\n      <td>0.605609</td>\n      <td>0.693244</td>\n      <td>0.676081</td>\n      <td>0.752727</td>\n      <td>0.650423</td>\n      <td>0.720621</td>\n      <td>0.431546</td>\n      <td>0.567012</td>\n    </tr>\n    <tr>\n      <th>std</th>\n      <td>1.290994</td>\n      <td>0.096375</td>\n      <td>0.139624</td>\n      <td>0.141902</td>\n      <td>0.127169</td>\n      <td>0.095266</td>\n      <td>0.092456</td>\n      <td>0.163571</td>\n      <td>0.472579</td>\n    </tr>\n    <tr>\n      <th>min</th>\n      <td>0.000000</td>\n      <td>0.500000</td>\n      <td>0.538462</td>\n      <td>0.525641</td>\n      <td>0.615385</td>\n      <td>0.564438</td>\n      <td>0.633078</td>\n      <td>0.261321</td>\n      <td>0.255940</td>\n    </tr>\n    <tr>\n      <th>25%</th>\n      <td>0.750000</td>\n      <td>0.549528</td>\n      <td>0.615747</td>\n      <td>0.591316</td>\n      <td>0.670356</td>\n      <td>0.593522</td>\n      <td>0.664346</td>\n      <td>0.316255</td>\n      <td>0.287222</td>\n    </tr>\n    <tr>\n      <th>50%</th>\n      <td>1.500000</td>\n      <td>0.598123</td>\n      <td>0.682734</td>\n      <td>0.660770</td>\n      <td>0.745381</td>\n      <td>0.627074</td>\n      <td>0.701503</td>\n      <td>0.422052</td>\n      <td>0.373656</td>\n    </tr>\n    <tr>\n      <th>75%</th>\n      <td>2.250000</td>\n      <td>0.654204</td>\n      <td>0.760231</td>\n      <td>0.745536</td>\n      <td>0.827753</td>\n      <td>0.683975</td>\n      <td>0.757778</td>\n      <td>0.537343</td>\n      <td>0.653447</td>\n    </tr>\n    <tr>\n      <th>max</th>\n      <td>3.000000</td>\n      <td>0.726190</td>\n      <td>0.869048</td>\n      <td>0.857143</td>\n      <td>0.904762</td>\n      <td>0.783106</td>\n      <td>0.846399</td>\n      <td>0.620759</td>\n      <td>1.264795</td>\n    </tr>\n  </tbody>\n</table>\n</div>"
     },
     "execution_count": 5,
     "metadata": {},
     "output_type": "execute_result"
    }
   ],
   "source": [
    "pretrained.describe()"
   ],
   "metadata": {
    "collapsed": false,
    "pycharm": {
     "name": "#%%\n"
    }
   }
  },
  {
   "cell_type": "code",
   "execution_count": 6,
   "outputs": [
    {
     "data": {
      "text/plain": "       Unnamed: 0  acc_iou_0_7  acc_iou_0_5  acc_dice_0_7  acc_dice_0_5  \\\ncount    4.000000     4.000000     4.000000      4.000000      4.000000   \nmean     1.500000     0.537338     0.604870      0.583867      0.679680   \nstd      1.290994     0.090933     0.117769      0.108654      0.152930   \nmin      0.000000     0.423077     0.461538      0.448718      0.487179   \n25%      0.750000     0.488582     0.568215      0.545773      0.602927   \n50%      1.500000     0.547661     0.603970      0.586232      0.693151   \n75%      2.250000     0.596417     0.640625      0.624326      0.769903   \nmax      3.000000     0.630952     0.750000      0.714286      0.845238   \n\n        avg_iou  avg_dice     voi_1     voi_2  \ncount  4.000000  4.000000  4.000000  4.000000  \nmean   0.572097  0.632408  0.350997  0.841023  \nstd    0.103968  0.113446  0.192704  0.687576  \nmin    0.453591  0.497041  0.206003  0.392439  \n25%    0.535457  0.579441  0.248988  0.428700  \n50%    0.563813  0.630942  0.281941  0.558022  \n75%    0.600453  0.683909  0.383950  0.970345  \nmax    0.707171  0.770705  0.634104  1.855611  ",
      "text/html": "<div>\n<style scoped>\n    .dataframe tbody tr th:only-of-type {\n        vertical-align: middle;\n    }\n\n    .dataframe tbody tr th {\n        vertical-align: top;\n    }\n\n    .dataframe thead th {\n        text-align: right;\n    }\n</style>\n<table border=\"1\" class=\"dataframe\">\n  <thead>\n    <tr style=\"text-align: right;\">\n      <th></th>\n      <th>Unnamed: 0</th>\n      <th>acc_iou_0_7</th>\n      <th>acc_iou_0_5</th>\n      <th>acc_dice_0_7</th>\n      <th>acc_dice_0_5</th>\n      <th>avg_iou</th>\n      <th>avg_dice</th>\n      <th>voi_1</th>\n      <th>voi_2</th>\n    </tr>\n  </thead>\n  <tbody>\n    <tr>\n      <th>count</th>\n      <td>4.000000</td>\n      <td>4.000000</td>\n      <td>4.000000</td>\n      <td>4.000000</td>\n      <td>4.000000</td>\n      <td>4.000000</td>\n      <td>4.000000</td>\n      <td>4.000000</td>\n      <td>4.000000</td>\n    </tr>\n    <tr>\n      <th>mean</th>\n      <td>1.500000</td>\n      <td>0.537338</td>\n      <td>0.604870</td>\n      <td>0.583867</td>\n      <td>0.679680</td>\n      <td>0.572097</td>\n      <td>0.632408</td>\n      <td>0.350997</td>\n      <td>0.841023</td>\n    </tr>\n    <tr>\n      <th>std</th>\n      <td>1.290994</td>\n      <td>0.090933</td>\n      <td>0.117769</td>\n      <td>0.108654</td>\n      <td>0.152930</td>\n      <td>0.103968</td>\n      <td>0.113446</td>\n      <td>0.192704</td>\n      <td>0.687576</td>\n    </tr>\n    <tr>\n      <th>min</th>\n      <td>0.000000</td>\n      <td>0.423077</td>\n      <td>0.461538</td>\n      <td>0.448718</td>\n      <td>0.487179</td>\n      <td>0.453591</td>\n      <td>0.497041</td>\n      <td>0.206003</td>\n      <td>0.392439</td>\n    </tr>\n    <tr>\n      <th>25%</th>\n      <td>0.750000</td>\n      <td>0.488582</td>\n      <td>0.568215</td>\n      <td>0.545773</td>\n      <td>0.602927</td>\n      <td>0.535457</td>\n      <td>0.579441</td>\n      <td>0.248988</td>\n      <td>0.428700</td>\n    </tr>\n    <tr>\n      <th>50%</th>\n      <td>1.500000</td>\n      <td>0.547661</td>\n      <td>0.603970</td>\n      <td>0.586232</td>\n      <td>0.693151</td>\n      <td>0.563813</td>\n      <td>0.630942</td>\n      <td>0.281941</td>\n      <td>0.558022</td>\n    </tr>\n    <tr>\n      <th>75%</th>\n      <td>2.250000</td>\n      <td>0.596417</td>\n      <td>0.640625</td>\n      <td>0.624326</td>\n      <td>0.769903</td>\n      <td>0.600453</td>\n      <td>0.683909</td>\n      <td>0.383950</td>\n      <td>0.970345</td>\n    </tr>\n    <tr>\n      <th>max</th>\n      <td>3.000000</td>\n      <td>0.630952</td>\n      <td>0.750000</td>\n      <td>0.714286</td>\n      <td>0.845238</td>\n      <td>0.707171</td>\n      <td>0.770705</td>\n      <td>0.634104</td>\n      <td>1.855611</td>\n    </tr>\n  </tbody>\n</table>\n</div>"
     },
     "execution_count": 6,
     "metadata": {},
     "output_type": "execute_result"
    }
   ],
   "source": [
    "edge_gated.describe()\n",
    "\n"
   ],
   "metadata": {
    "collapsed": false,
    "pycharm": {
     "name": "#%%\n"
    }
   }
  },
  {
   "cell_type": "code",
   "execution_count": null,
   "outputs": [],
   "source": [],
   "metadata": {
    "collapsed": false,
    "pycharm": {
     "name": "#%%\n"
    }
   }
  }
 ],
 "metadata": {
  "kernelspec": {
   "display_name": "Python 3",
   "language": "python",
   "name": "python3"
  },
  "language_info": {
   "codemirror_mode": {
    "name": "ipython",
    "version": 2
   },
   "file_extension": ".py",
   "mimetype": "text/x-python",
   "name": "python",
   "nbconvert_exporter": "python",
   "pygments_lexer": "ipython2",
   "version": "2.7.6"
  }
 },
 "nbformat": 4,
 "nbformat_minor": 0
}