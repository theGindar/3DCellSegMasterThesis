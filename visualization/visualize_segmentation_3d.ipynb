{
 "cells": [
  {
   "cell_type": "code",
   "execution_count": 1,
   "metadata": {
    "collapsed": true
   },
   "outputs": [
    {
     "ename": "ModuleNotFoundError",
     "evalue": "No module named 'pickle5'",
     "output_type": "error",
     "traceback": [
      "\u001B[0;31m---------------------------------------------------------------------------\u001B[0m",
      "\u001B[0;31mModuleNotFoundError\u001B[0m                       Traceback (most recent call last)",
      "Input \u001B[0;32mIn [1]\u001B[0m, in \u001B[0;36m<cell line: 1>\u001B[0;34m()\u001B[0m\n\u001B[0;32m----> 1\u001B[0m \u001B[38;5;28;01mfrom\u001B[39;00m \u001B[38;5;21;01mfunc\u001B[39;00m\u001B[38;5;21;01m.\u001B[39;00m\u001B[38;5;21;01multis\u001B[39;00m \u001B[38;5;28;01mimport\u001B[39;00m decompress_pickle, load_obj\n\u001B[1;32m      2\u001B[0m \u001B[38;5;28;01mimport\u001B[39;00m \u001B[38;5;21;01mmatplotlib\u001B[39;00m\u001B[38;5;21;01m.\u001B[39;00m\u001B[38;5;21;01mpyplot\u001B[39;00m \u001B[38;5;28;01mas\u001B[39;00m \u001B[38;5;21;01mplt\u001B[39;00m\n\u001B[1;32m      4\u001B[0m \u001B[38;5;28;01mfrom\u001B[39;00m \u001B[38;5;21;01mfunc\u001B[39;00m\u001B[38;5;21;01m.\u001B[39;00m\u001B[38;5;21;01mrun_pipeline_super_vox\u001B[39;00m \u001B[38;5;28;01mimport\u001B[39;00m reassign\n",
      "File \u001B[0;32m~/Documents/GitHub/3DCellSegMasterThesis/func/ultis.py:1\u001B[0m, in \u001B[0;36m<module>\u001B[0;34m\u001B[0m\n\u001B[0;32m----> 1\u001B[0m \u001B[38;5;28;01mimport\u001B[39;00m \u001B[38;5;21;01mpickle5\u001B[39;00m \u001B[38;5;28;01mas\u001B[39;00m \u001B[38;5;21;01mpickle\u001B[39;00m\n\u001B[1;32m      2\u001B[0m \u001B[38;5;28;01mimport\u001B[39;00m \u001B[38;5;21;01mnumpy\u001B[39;00m \u001B[38;5;28;01mas\u001B[39;00m \u001B[38;5;21;01mnp\u001B[39;00m\n\u001B[1;32m      3\u001B[0m \u001B[38;5;28;01mimport\u001B[39;00m \u001B[38;5;21;01mos\u001B[39;00m\n",
      "\u001B[0;31mModuleNotFoundError\u001B[0m: No module named 'pickle5'"
     ]
    }
   ],
   "source": [
    "from func.ultis import decompress_pickle, load_obj\n",
    "import matplotlib.pyplot as plt\n",
    "\n",
    "from func.run_pipeline_super_vox import reassign\n",
    "import numpy as np"
   ]
  },
  {
   "cell_type": "code",
   "execution_count": 2,
   "outputs": [
    {
     "name": "stdout",
     "output_type": "stream",
     "text": [
      "reassign unique numbers progress: 0.9921259842519685\r6"
     ]
    },
    {
     "data": {
      "text/plain": "<matplotlib.image.AxesImage at 0x7f7af04bcca0>"
     },
     "execution_count": 2,
     "metadata": {},
     "output_type": "execute_result"
    },
    {
     "data": {
      "text/plain": "<Figure size 432x288 with 1 Axes>",
      "image/png": "[encoded data removed]"
     },
     "metadata": {
      "needs_background": "light"
     },
     "output_type": "display_data"
    }
   ],
   "source": [
    "seg_final_HMS = decompress_pickle(\"../../masterthesis_results/HMS/edge_gated_gcn/65_seg_final.pbz2\")\n",
    "N=80\n",
    "\n",
    "plt.figure()\n",
    "plt.title(\"seg_final HMS\")\n",
    "plt.imshow(reassign(seg_final_HMS[:,:,N]))"
   ],
   "metadata": {
    "collapsed": false,
    "pycharm": {
     "name": "#%%\n"
    }
   }
  },
  {
   "cell_type": "code",
   "execution_count": 3,
   "outputs": [],
   "source": [
    "\n",
    "raw_img_HMS = np.load(\"../data/CellSeg_dataset/HMS_processed/raw/65.npy\")"
   ],
   "metadata": {
    "collapsed": false,
    "pycharm": {
     "name": "#%%\n"
    }
   }
  },
  {
   "cell_type": "code",
   "execution_count": 4,
   "outputs": [],
   "source": [
    "import matplotlib.pyplot as plt"
   ],
   "metadata": {
    "collapsed": false,
    "pycharm": {
     "name": "#%%\n"
    }
   }
  },
  {
   "cell_type": "code",
   "execution_count": 2,
   "outputs": [],
   "source": [
    "import napari\n",
    "from napari.utils import nbscreenshot"
   ],
   "metadata": {
    "collapsed": false,
    "pycharm": {
     "name": "#%%\n"
    }
   }
  },
  {
   "cell_type": "markdown",
   "source": [
    "# rescale images to be isotropic"
   ],
   "metadata": {
    "collapsed": false,
    "pycharm": {
     "name": "#%% md\n"
    }
   }
  },
  {
   "cell_type": "code",
   "execution_count": 5,
   "outputs": [
    {
     "ename": "AttributeError",
     "evalue": "'_texture_limits' is not an attribute of class <TiledImageVisual at 0x7f7b0109d640>. Call \"unfreeze()\" to allow addition of new attributes",
     "output_type": "error",
     "traceback": [
      "\u001B[0;31m---------------------------------------------------------------------------\u001B[0m",
      "\u001B[0;31mAttributeError\u001B[0m                            Traceback (most recent call last)",
      "File \u001B[0;32m/opt/anaconda3/envs/cellseg_visualization/lib/python3.8/site-packages/vispy/app/backends/_qt.py:903\u001B[0m, in \u001B[0;36mCanvasBackendDesktop.paintGL\u001B[0;34m(self)\u001B[0m\n\u001B[1;32m    901\u001B[0m \u001B[38;5;66;03m# (0, 0, self.width(), self.height()))\u001B[39;00m\n\u001B[1;32m    902\u001B[0m \u001B[38;5;28mself\u001B[39m\u001B[38;5;241m.\u001B[39m_vispy_canvas\u001B[38;5;241m.\u001B[39mset_current()\n\u001B[0;32m--> 903\u001B[0m \u001B[38;5;28;43mself\u001B[39;49m\u001B[38;5;241;43m.\u001B[39;49m\u001B[43m_vispy_canvas\u001B[49m\u001B[38;5;241;43m.\u001B[39;49m\u001B[43mevents\u001B[49m\u001B[38;5;241;43m.\u001B[39;49m\u001B[43mdraw\u001B[49m\u001B[43m(\u001B[49m\u001B[43mregion\u001B[49m\u001B[38;5;241;43m=\u001B[39;49m\u001B[38;5;28;43;01mNone\u001B[39;49;00m\u001B[43m)\u001B[49m\n\u001B[1;32m    905\u001B[0m \u001B[38;5;66;03m# Clear the alpha channel with QOpenGLWidget (Qt >= 5.4), otherwise the\u001B[39;00m\n\u001B[1;32m    906\u001B[0m \u001B[38;5;66;03m# window is translucent behind non-opaque objects.\u001B[39;00m\n\u001B[1;32m    907\u001B[0m \u001B[38;5;66;03m# Reference:  MRtrix3/mrtrix3#266\u001B[39;00m\n\u001B[1;32m    908\u001B[0m \u001B[38;5;28;01mif\u001B[39;00m QT5_NEW_API \u001B[38;5;129;01mor\u001B[39;00m PYSIDE6_API \u001B[38;5;129;01mor\u001B[39;00m PYQT6_API:\n",
      "File \u001B[0;32m/opt/anaconda3/envs/cellseg_visualization/lib/python3.8/site-packages/vispy/util/event.py:453\u001B[0m, in \u001B[0;36mEventEmitter.__call__\u001B[0;34m(self, *args, **kwargs)\u001B[0m\n\u001B[1;32m    450\u001B[0m \u001B[38;5;28;01mif\u001B[39;00m \u001B[38;5;28mself\u001B[39m\u001B[38;5;241m.\u001B[39m_emitting \u001B[38;5;241m>\u001B[39m \u001B[38;5;241m1\u001B[39m:\n\u001B[1;32m    451\u001B[0m     \u001B[38;5;28;01mraise\u001B[39;00m \u001B[38;5;167;01mRuntimeError\u001B[39;00m(\u001B[38;5;124m'\u001B[39m\u001B[38;5;124mEventEmitter loop detected!\u001B[39m\u001B[38;5;124m'\u001B[39m)\n\u001B[0;32m--> 453\u001B[0m \u001B[38;5;28;43mself\u001B[39;49m\u001B[38;5;241;43m.\u001B[39;49m\u001B[43m_invoke_callback\u001B[49m\u001B[43m(\u001B[49m\u001B[43mcb\u001B[49m\u001B[43m,\u001B[49m\u001B[43m \u001B[49m\u001B[43mevent\u001B[49m\u001B[43m)\u001B[49m\n\u001B[1;32m    454\u001B[0m \u001B[38;5;28;01mif\u001B[39;00m event\u001B[38;5;241m.\u001B[39mblocked:\n\u001B[1;32m    455\u001B[0m     \u001B[38;5;28;01mbreak\u001B[39;00m\n",
      "File \u001B[0;32m/opt/anaconda3/envs/cellseg_visualization/lib/python3.8/site-packages/vispy/util/event.py:471\u001B[0m, in \u001B[0;36mEventEmitter._invoke_callback\u001B[0;34m(self, cb, event)\u001B[0m\n\u001B[1;32m    469\u001B[0m     cb(event)\n\u001B[1;32m    470\u001B[0m \u001B[38;5;28;01mexcept\u001B[39;00m \u001B[38;5;167;01mException\u001B[39;00m:\n\u001B[0;32m--> 471\u001B[0m     \u001B[43m_handle_exception\u001B[49m\u001B[43m(\u001B[49m\u001B[38;5;28;43mself\u001B[39;49m\u001B[38;5;241;43m.\u001B[39;49m\u001B[43mignore_callback_errors\u001B[49m\u001B[43m,\u001B[49m\n\u001B[1;32m    472\u001B[0m \u001B[43m                      \u001B[49m\u001B[38;5;28;43mself\u001B[39;49m\u001B[38;5;241;43m.\u001B[39;49m\u001B[43mprint_callback_errors\u001B[49m\u001B[43m,\u001B[49m\n\u001B[1;32m    473\u001B[0m \u001B[43m                      \u001B[49m\u001B[38;5;28;43mself\u001B[39;49m\u001B[43m,\u001B[49m\u001B[43m \u001B[49m\u001B[43mcb_event\u001B[49m\u001B[38;5;241;43m=\u001B[39;49m\u001B[43m(\u001B[49m\u001B[43mcb\u001B[49m\u001B[43m,\u001B[49m\u001B[43m \u001B[49m\u001B[43mevent\u001B[49m\u001B[43m)\u001B[49m\u001B[43m)\u001B[49m\n",
      "File \u001B[0;32m/opt/anaconda3/envs/cellseg_visualization/lib/python3.8/site-packages/vispy/util/event.py:469\u001B[0m, in \u001B[0;36mEventEmitter._invoke_callback\u001B[0;34m(self, cb, event)\u001B[0m\n\u001B[1;32m    467\u001B[0m \u001B[38;5;28;01mdef\u001B[39;00m \u001B[38;5;21m_invoke_callback\u001B[39m(\u001B[38;5;28mself\u001B[39m, cb, event):\n\u001B[1;32m    468\u001B[0m     \u001B[38;5;28;01mtry\u001B[39;00m:\n\u001B[0;32m--> 469\u001B[0m         \u001B[43mcb\u001B[49m\u001B[43m(\u001B[49m\u001B[43mevent\u001B[49m\u001B[43m)\u001B[49m\n\u001B[1;32m    470\u001B[0m     \u001B[38;5;28;01mexcept\u001B[39;00m \u001B[38;5;167;01mException\u001B[39;00m:\n\u001B[1;32m    471\u001B[0m         _handle_exception(\u001B[38;5;28mself\u001B[39m\u001B[38;5;241m.\u001B[39mignore_callback_errors,\n\u001B[1;32m    472\u001B[0m                           \u001B[38;5;28mself\u001B[39m\u001B[38;5;241m.\u001B[39mprint_callback_errors,\n\u001B[1;32m    473\u001B[0m                           \u001B[38;5;28mself\u001B[39m, cb_event\u001B[38;5;241m=\u001B[39m(cb, event))\n",
      "File \u001B[0;32m/opt/anaconda3/envs/cellseg_visualization/lib/python3.8/site-packages/vispy/scene/canvas.py:218\u001B[0m, in \u001B[0;36mSceneCanvas.on_draw\u001B[0;34m(self, event)\u001B[0m\n\u001B[1;32m    215\u001B[0m \u001B[38;5;66;03m# Now that a draw event is going to be handled, open up the\u001B[39;00m\n\u001B[1;32m    216\u001B[0m \u001B[38;5;66;03m# scheduling of further updates\u001B[39;00m\n\u001B[1;32m    217\u001B[0m \u001B[38;5;28mself\u001B[39m\u001B[38;5;241m.\u001B[39m_update_pending \u001B[38;5;241m=\u001B[39m \u001B[38;5;28;01mFalse\u001B[39;00m\n\u001B[0;32m--> 218\u001B[0m \u001B[38;5;28;43mself\u001B[39;49m\u001B[38;5;241;43m.\u001B[39;49m\u001B[43m_draw_scene\u001B[49m\u001B[43m(\u001B[49m\u001B[43m)\u001B[49m\n",
      "File \u001B[0;32m/opt/anaconda3/envs/cellseg_visualization/lib/python3.8/site-packages/vispy/scene/canvas.py:277\u001B[0m, in \u001B[0;36mSceneCanvas._draw_scene\u001B[0;34m(self, bgcolor)\u001B[0m\n\u001B[1;32m    275\u001B[0m     bgcolor \u001B[38;5;241m=\u001B[39m \u001B[38;5;28mself\u001B[39m\u001B[38;5;241m.\u001B[39m_bgcolor\n\u001B[1;32m    276\u001B[0m \u001B[38;5;28mself\u001B[39m\u001B[38;5;241m.\u001B[39mcontext\u001B[38;5;241m.\u001B[39mclear(color\u001B[38;5;241m=\u001B[39mbgcolor, depth\u001B[38;5;241m=\u001B[39m\u001B[38;5;28;01mTrue\u001B[39;00m)\n\u001B[0;32m--> 277\u001B[0m \u001B[38;5;28;43mself\u001B[39;49m\u001B[38;5;241;43m.\u001B[39;49m\u001B[43mdraw_visual\u001B[49m\u001B[43m(\u001B[49m\u001B[38;5;28;43mself\u001B[39;49m\u001B[38;5;241;43m.\u001B[39;49m\u001B[43mscene\u001B[49m\u001B[43m)\u001B[49m\n",
      "File \u001B[0;32m/opt/anaconda3/envs/cellseg_visualization/lib/python3.8/site-packages/vispy/scene/canvas.py:315\u001B[0m, in \u001B[0;36mSceneCanvas.draw_visual\u001B[0;34m(self, visual, event)\u001B[0m\n\u001B[1;32m    313\u001B[0m         \u001B[38;5;28;01melse\u001B[39;00m:\n\u001B[1;32m    314\u001B[0m             \u001B[38;5;28;01mif\u001B[39;00m \u001B[38;5;28mhasattr\u001B[39m(node, \u001B[38;5;124m'\u001B[39m\u001B[38;5;124mdraw\u001B[39m\u001B[38;5;124m'\u001B[39m):\n\u001B[0;32m--> 315\u001B[0m                 \u001B[43mnode\u001B[49m\u001B[38;5;241;43m.\u001B[39;49m\u001B[43mdraw\u001B[49m\u001B[43m(\u001B[49m\u001B[43m)\u001B[49m\n\u001B[1;32m    316\u001B[0m                 prof\u001B[38;5;241m.\u001B[39mmark(\u001B[38;5;28mstr\u001B[39m(node))\n\u001B[1;32m    317\u001B[0m \u001B[38;5;28;01melse\u001B[39;00m:\n",
      "File \u001B[0;32m/opt/anaconda3/envs/cellseg_visualization/lib/python3.8/site-packages/vispy/scene/visuals.py:103\u001B[0m, in \u001B[0;36mVisualNode.draw\u001B[0;34m(self)\u001B[0m\n\u001B[1;32m    101\u001B[0m \u001B[38;5;28;01mif\u001B[39;00m \u001B[38;5;28mself\u001B[39m\u001B[38;5;241m.\u001B[39mpicking \u001B[38;5;129;01mand\u001B[39;00m \u001B[38;5;129;01mnot\u001B[39;00m \u001B[38;5;28mself\u001B[39m\u001B[38;5;241m.\u001B[39minteractive:\n\u001B[1;32m    102\u001B[0m     \u001B[38;5;28;01mreturn\u001B[39;00m\n\u001B[0;32m--> 103\u001B[0m \u001B[38;5;28;43mself\u001B[39;49m\u001B[38;5;241;43m.\u001B[39;49m\u001B[43m_visual_superclass\u001B[49m\u001B[38;5;241;43m.\u001B[39;49m\u001B[43mdraw\u001B[49m\u001B[43m(\u001B[49m\u001B[38;5;28;43mself\u001B[39;49m\u001B[43m)\u001B[49m\n",
      "File \u001B[0;32m/opt/anaconda3/envs/cellseg_visualization/lib/python3.8/site-packages/vispy/visuals/visual.py:442\u001B[0m, in \u001B[0;36mVisual.draw\u001B[0;34m(self)\u001B[0m\n\u001B[1;32m    440\u001B[0m \u001B[38;5;28;01mif\u001B[39;00m \u001B[38;5;129;01mnot\u001B[39;00m \u001B[38;5;28mself\u001B[39m\u001B[38;5;241m.\u001B[39mvisible:\n\u001B[1;32m    441\u001B[0m     \u001B[38;5;28;01mreturn\u001B[39;00m\n\u001B[0;32m--> 442\u001B[0m \u001B[38;5;28;01mif\u001B[39;00m \u001B[38;5;28;43mself\u001B[39;49m\u001B[38;5;241;43m.\u001B[39;49m\u001B[43m_prepare_draw\u001B[49m\u001B[43m(\u001B[49m\u001B[43mview\u001B[49m\u001B[38;5;241;43m=\u001B[39;49m\u001B[38;5;28;43mself\u001B[39;49m\u001B[43m)\u001B[49m \u001B[38;5;129;01mis\u001B[39;00m \u001B[38;5;28;01mFalse\u001B[39;00m:\n\u001B[1;32m    443\u001B[0m     \u001B[38;5;28;01mreturn\u001B[39;00m\n\u001B[1;32m    445\u001B[0m \u001B[38;5;28;01mif\u001B[39;00m \u001B[38;5;28mself\u001B[39m\u001B[38;5;241m.\u001B[39m_vshare\u001B[38;5;241m.\u001B[39mdraw_mode \u001B[38;5;129;01mis\u001B[39;00m \u001B[38;5;28;01mNone\u001B[39;00m:\n",
      "File \u001B[0;32m/opt/anaconda3/envs/cellseg_visualization/lib/python3.8/site-packages/napari/_vispy/experimental/tiled_image_visual.py:415\u001B[0m, in \u001B[0;36mTiledImageVisual._prepare_draw\u001B[0;34m(self, view)\u001B[0m\n\u001B[1;32m    413\u001B[0m \u001B[38;5;66;03m# We call our own _build_texture\u001B[39;00m\n\u001B[1;32m    414\u001B[0m \u001B[38;5;28;01mif\u001B[39;00m \u001B[38;5;28mself\u001B[39m\u001B[38;5;241m.\u001B[39m_need_texture_upload:\n\u001B[0;32m--> 415\u001B[0m     \u001B[38;5;28;43mself\u001B[39;49m\u001B[38;5;241;43m.\u001B[39;49m\u001B[43m_build_texture\u001B[49m\u001B[43m(\u001B[49m\u001B[43m)\u001B[49m\n\u001B[1;32m    417\u001B[0m \u001B[38;5;66;03m# TODO_OCTREE: how does colortransform change for tiled?\u001B[39;00m\n\u001B[1;32m    418\u001B[0m \u001B[38;5;28;01mif\u001B[39;00m \u001B[38;5;28mself\u001B[39m\u001B[38;5;241m.\u001B[39m_need_colortransform_update:\n",
      "File \u001B[0;32m/opt/anaconda3/envs/cellseg_visualization/lib/python3.8/site-packages/napari/_vispy/experimental/tiled_image_visual.py:366\u001B[0m, in \u001B[0;36mTiledImageVisual._build_texture\u001B[0;34m(self)\u001B[0m\n\u001B[1;32m    359\u001B[0m \u001B[38;5;28;01mif\u001B[39;00m \u001B[38;5;28misinstance\u001B[39m(\u001B[38;5;28mself\u001B[39m\u001B[38;5;241m.\u001B[39m_clim, \u001B[38;5;28mstr\u001B[39m) \u001B[38;5;129;01mand\u001B[39;00m \u001B[38;5;28mself\u001B[39m\u001B[38;5;241m.\u001B[39m_clim \u001B[38;5;241m==\u001B[39m \u001B[38;5;124m'\u001B[39m\u001B[38;5;124mauto\u001B[39m\u001B[38;5;124m'\u001B[39m:\n\u001B[1;32m    360\u001B[0m     \u001B[38;5;28;01mraise\u001B[39;00m \u001B[38;5;167;01mValueError\u001B[39;00m(\n\u001B[1;32m    361\u001B[0m         trans\u001B[38;5;241m.\u001B[39m_(\n\u001B[1;32m    362\u001B[0m             \u001B[38;5;124m'\u001B[39m\u001B[38;5;124mAuto clims not supported for tiled image visual\u001B[39m\u001B[38;5;124m'\u001B[39m,\n\u001B[1;32m    363\u001B[0m             deferred\u001B[38;5;241m=\u001B[39m\u001B[38;5;28;01mTrue\u001B[39;00m,\n\u001B[1;32m    364\u001B[0m         )\n\u001B[1;32m    365\u001B[0m     )\n\u001B[0;32m--> 366\u001B[0m \u001B[38;5;28mself\u001B[39m\u001B[38;5;241m.\u001B[39m_texture_limits \u001B[38;5;241m=\u001B[39m np\u001B[38;5;241m.\u001B[39marray(\u001B[38;5;28mself\u001B[39m\u001B[38;5;241m.\u001B[39m_clim)\n\u001B[1;32m    367\u001B[0m \u001B[38;5;28mself\u001B[39m\u001B[38;5;241m.\u001B[39m_need_colortransform_update \u001B[38;5;241m=\u001B[39m \u001B[38;5;28;01mTrue\u001B[39;00m\n\u001B[1;32m    369\u001B[0m \u001B[38;5;28mself\u001B[39m\u001B[38;5;241m.\u001B[39m_need_texture_upload \u001B[38;5;241m=\u001B[39m \u001B[38;5;28;01mFalse\u001B[39;00m\n",
      "File \u001B[0;32m/opt/anaconda3/envs/cellseg_visualization/lib/python3.8/site-packages/vispy/util/frozen.py:14\u001B[0m, in \u001B[0;36mFrozen.__setattr__\u001B[0;34m(self, key, value)\u001B[0m\n\u001B[1;32m     12\u001B[0m \u001B[38;5;28;01mdef\u001B[39;00m \u001B[38;5;21m__setattr__\u001B[39m(\u001B[38;5;28mself\u001B[39m, key, value):\n\u001B[1;32m     13\u001B[0m     \u001B[38;5;28;01mif\u001B[39;00m \u001B[38;5;28mself\u001B[39m\u001B[38;5;241m.\u001B[39m__isfrozen \u001B[38;5;129;01mand\u001B[39;00m \u001B[38;5;129;01mnot\u001B[39;00m \u001B[38;5;28mhasattr\u001B[39m(\u001B[38;5;28mself\u001B[39m, key):\n\u001B[0;32m---> 14\u001B[0m         \u001B[38;5;28;01mraise\u001B[39;00m \u001B[38;5;167;01mAttributeError\u001B[39;00m(\u001B[38;5;124m'\u001B[39m\u001B[38;5;132;01m%r\u001B[39;00m\u001B[38;5;124m is not an attribute of class \u001B[39m\u001B[38;5;132;01m%s\u001B[39;00m\u001B[38;5;124m. Call \u001B[39m\u001B[38;5;124m'\u001B[39m\n\u001B[1;32m     15\u001B[0m                              \u001B[38;5;124m'\u001B[39m\u001B[38;5;124m\"\u001B[39m\u001B[38;5;124munfreeze()\u001B[39m\u001B[38;5;124m\"\u001B[39m\u001B[38;5;124m to allow addition of new \u001B[39m\u001B[38;5;124m'\u001B[39m\n\u001B[1;32m     16\u001B[0m                              \u001B[38;5;124m'\u001B[39m\u001B[38;5;124mattributes\u001B[39m\u001B[38;5;124m'\u001B[39m \u001B[38;5;241m%\u001B[39m (key, \u001B[38;5;28mself\u001B[39m))\n\u001B[1;32m     17\u001B[0m     \u001B[38;5;28mobject\u001B[39m\u001B[38;5;241m.\u001B[39m\u001B[38;5;21m__setattr__\u001B[39m(\u001B[38;5;28mself\u001B[39m, key, value)\n",
      "\u001B[0;31mAttributeError\u001B[0m: '_texture_limits' is not an attribute of class <TiledImageVisual at 0x7f7b0109d640>. Call \"unfreeze()\" to allow addition of new attributes"
     ]
    },
    {
     "data": {
      "text/plain": "<Image layer 'seg_final_HMS' at 0x7f7ae04bb580>"
     },
     "execution_count": 5,
     "metadata": {},
     "output_type": "execute_result"
    }
   ],
   "source": [
    "# start napari\n",
    "viewer = napari.Viewer()\n",
    "\n",
    "# show images\n",
    "viewer.add_image(seg_final_HMS)"
   ],
   "metadata": {
    "collapsed": false,
    "pycharm": {
     "name": "#%%\n"
    }
   }
  },
  {
   "cell_type": "code",
   "execution_count": 1,
   "outputs": [],
   "source": [
    "import napari\n",
    "from skimage import data\n",
    "\n",
    "cells = data.cells3d() #ZCYX image data\n",
    "\n",
    "# load multichannel image in one line\n",
    "viewer = napari.view_image(cells, channel_axis=1)\n",
    "\n",
    "\n",
    "# load multichannel image in one line, with additional options\n",
    "viewer = napari.view_image(\n",
    "        cells,\n",
    "        channel_axis=1,\n",
    "        name=[\"membrane\", \"nuclei\"],\n",
    "        colormap=[\"green\", \"magenta\"],\n",
    "        contrast_limits=[[1000, 20000], [1000, 50000]],\n",
    "        )"
   ],
   "metadata": {
    "collapsed": false,
    "pycharm": {
     "name": "#%%\n"
    }
   }
  },
  {
   "cell_type": "code",
   "execution_count": null,
   "outputs": [],
   "source": [
    "# works!\n",
    "\n",
    "blobs = seg_final_HMS# data.binary_blobs(length=128, volume_fraction=0.1, n_dim=3)\n",
    "viewer = napari.view_image(blobs.astype(float), name='blobs')\n",
    "labeled = seg_final_HMS\n",
    "viewer.add_labels(labeled, name='blob ID')\n"
   ],
   "metadata": {
    "collapsed": false,
    "pycharm": {
     "name": "#%%\n"
    }
   }
  },
  {
   "cell_type": "code",
   "execution_count": null,
   "outputs": [],
   "source": [],
   "metadata": {
    "collapsed": false,
    "pycharm": {
     "name": "#%%\n"
    }
   }
  },
  {
   "cell_type": "code",
   "execution_count": null,
   "outputs": [],
   "source": [
    "seg_final_ovules = decompress_pickle(\"../../masterthesis_results/ovules_results/edge_gated/N_294_final_crop_ds2.npz_seg_final.pbz2\")\n",
    "N=120\n",
    "\n",
    "plt.figure()\n",
    "plt.title(\"seg_final ovules\")\n",
    "plt.imshow(reassign(seg_final_ovules[:,:,N]))"
   ],
   "metadata": {
    "collapsed": false,
    "pycharm": {
     "name": "#%%\n"
    }
   }
  },
  {
   "cell_type": "code",
   "execution_count": null,
   "outputs": [],
   "source": [
    "\n",
    "seg_retrained_ovules = decompress_pickle(\"../../masterthesis_results/ovules_results/retrained/N_294_final_crop_ds2.npz_seg_final.pbz2\")\n",
    "N=120\n",
    "\n",
    "plt.figure()\n",
    "plt.title(\"seg_final ovules\")\n",
    "plt.imshow(reassign(seg_retrained_ovules[:,:,N]))"
   ],
   "metadata": {
    "collapsed": false,
    "pycharm": {
     "name": "#%%\n"
    }
   }
  },
  {
   "cell_type": "code",
   "execution_count": null,
   "outputs": [],
   "source": [
    "blobs = seg_final_ovules# data.binary_blobs(length=128, volume_fraction=0.1, n_dim=3)\n",
    "viewer = napari.view_image(blobs.astype(float), name='blobs')\n",
    "labeled = seg_final_ovules\n",
    "viewer.add_labels(labeled, name='blob ID')"
   ],
   "metadata": {
    "collapsed": false,
    "pycharm": {
     "name": "#%%\n"
    }
   }
  },
  {
   "cell_type": "code",
   "execution_count": null,
   "outputs": [],
   "source": [
    "seg_final_lrp = decompress_pickle(\"../../masterthesis_results/lrp_results/edge_gated_gcn/Movie1_t00006_crop_gt.h5_seg_final.pbz2\")\n",
    "N=120\n",
    "\n",
    "plt.figure()\n",
    "plt.title(\"seg_final lrp\")\n",
    "plt.imshow(reassign(seg_final_lrp[:,:,N]))"
   ],
   "metadata": {
    "collapsed": false,
    "pycharm": {
     "name": "#%%\n"
    }
   }
  },
  {
   "cell_type": "code",
   "execution_count": null,
   "outputs": [],
   "source": [
    "blobs = seg_final_lrp# data.binary_blobs(length=128, volume_fraction=0.1, n_dim=3)\n",
    "viewer = napari.view_image(blobs.astype(float), name='blobs')\n",
    "# labeled = seg_final_lrp\n",
    "# viewer.add_labels(labeled, name='blob ID')"
   ],
   "metadata": {
    "collapsed": false,
    "pycharm": {
     "name": "#%%\n"
    }
   }
  },
  {
   "cell_type": "code",
   "execution_count": null,
   "outputs": [],
   "source": [],
   "metadata": {
    "collapsed": false,
    "pycharm": {
     "name": "#%%\n"
    }
   }
  }
 ],
 "metadata": {
  "kernelspec": {
   "display_name": "Python 3",
   "language": "python",
   "name": "python3"
  },
  "language_info": {
   "codemirror_mode": {
    "name": "ipython",
    "version": 2
   },
   "file_extension": ".py",
   "mimetype": "text/x-python",
   "name": "python",
   "nbconvert_exporter": "python",
   "pygments_lexer": "ipython2",
   "version": "2.7.6"
  }
 },
 "nbformat": 4,
 "nbformat_minor": 0
}