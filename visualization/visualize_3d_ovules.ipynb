{
 "cells": [
  {
   "cell_type": "code",
   "execution_count": 1,
   "outputs": [],
   "source": [
    "from func.ultis import decompress_pickle, load_obj\n",
    "import matplotlib.pyplot as plt\n",
    "\n",
    "from func.run_pipeline_super_vox import reassign\n",
    "import numpy as np\n",
    "from func.plot_utils import colorful_seg, fill_noise\n",
    "\n",
    "import napari"
   ],
   "metadata": {
    "collapsed": false,
    "pycharm": {
     "name": "#%%\n"
    }
   }
  },
  {
   "cell_type": "code",
   "execution_count": 14,
   "outputs": [
    {
     "name": "stdout",
     "output_type": "stream",
     "text": [
      "18859\n",
      "0\n"
     ]
    }
   ],
   "source": [
    "seg_final_gasp_3d_1 = decompress_pickle(f\"../../masterthesis_results/ovules_results/gasp/N_522_final_crop_ds2.npz_seg_final.pbz2\")\n",
    "\n",
    "print(seg_final_gasp_3d_1[0,0,0])\n",
    "\n",
    "seg_final_gasp_3d_1[np.where(seg_final_gasp_3d_1 == seg_final_gasp_3d_1[0,0,0])] = 0\n",
    "\n",
    "print(seg_final_gasp_3d_1[0,0,0])"
   ],
   "metadata": {
    "collapsed": false,
    "pycharm": {
     "name": "#%%\n"
    }
   }
  },
  {
   "cell_type": "code",
   "execution_count": 15,
   "outputs": [
    {
     "data": {
      "text/plain": "<Labels layer 'blob ID gasp' at 0x7fa59175a3a0>"
     },
     "execution_count": 15,
     "metadata": {},
     "output_type": "execute_result"
    }
   ],
   "source": [
    "viewer = napari.Viewer(ndisplay=3)\n",
    "#blobs = seg_final_eg_gcn_3d_1# data.binary_blobs(length=128, volume_fraction=0.1, n_dim=3)\n",
    "#viewer = napari.view_image(blobs.astype(float), name='blobs_eg')\n",
    "labeled = seg_final_gasp_3d_1\n",
    "viewer.add_labels(labeled, name='blob ID gasp', rotate=(0,180,0), opacity=.85)"
   ],
   "metadata": {
    "collapsed": false,
    "pycharm": {
     "name": "#%%\n"
    }
   }
  },
  {
   "cell_type": "code",
   "execution_count": 4,
   "outputs": [
    {
     "data": {
      "text/plain": "<Labels layer 'blob ID retrained' at 0x7fa570c25d60>"
     },
     "execution_count": 4,
     "metadata": {},
     "output_type": "execute_result"
    }
   ],
   "source": [
    "seg_final_retrained_3d_1 = decompress_pickle(f\"../../masterthesis_results/ovules_results/retrained/N_522_final_crop_ds2.npz_seg_final.pbz2\")\n",
    "\n",
    "viewer = napari.Viewer(ndisplay=3)\n",
    "#blobs = seg_final_eg_gcn_3d_1# data.binary_blobs(length=128, volume_fraction=0.1, n_dim=3)\n",
    "#viewer = napari.view_image(blobs.astype(float), name='blobs_eg')\n",
    "labeled = seg_final_retrained_3d_1\n",
    "viewer.add_labels(labeled, name='blob ID retrained', rotate=(0,180,0), opacity=.85)"
   ],
   "metadata": {
    "collapsed": false,
    "pycharm": {
     "name": "#%%\n"
    }
   }
  },
  {
   "cell_type": "code",
   "execution_count": 9,
   "outputs": [
    {
     "name": "stderr",
     "output_type": "stream",
     "text": [
      "/var/folders/qq/9q6wphrj19z8xt4qcffm8df80000gn/T/ipykernel_41581/3794688251.py:2: DeprecationWarning: `np.float` is a deprecated alias for the builtin `float`. To silence this warning, use `float` by itself. Doing this will not modify any behavior and is safe. If you specifically wanted the numpy scalar type, use `np.float64` here.\n",
      "Deprecated in NumPy 1.20; for more details and guidance: https://numpy.org/devdocs/release/1.20.0-notes.html#deprecations\n",
      "  raw_img_4 = np.array(hf[\"raw\"], dtype=np.float)\n"
     ]
    },
    {
     "name": "stdout",
     "output_type": "stream",
     "text": [
      "0.0\n"
     ]
    },
    {
     "name": "stderr",
     "output_type": "stream",
     "text": [
      "/var/folders/qq/9q6wphrj19z8xt4qcffm8df80000gn/T/ipykernel_41581/3794688251.py:3: DeprecationWarning: `np.float` is a deprecated alias for the builtin `float`. To silence this warning, use `float` by itself. Doing this will not modify any behavior and is safe. If you specifically wanted the numpy scalar type, use `np.float64` here.\n",
      "Deprecated in NumPy 1.20; for more details and guidance: https://numpy.org/devdocs/release/1.20.0-notes.html#deprecations\n",
      "  ins_4 = np.array(hf[\"ins\"], dtype=np.float)\n"
     ]
    }
   ],
   "source": [
    "hf = np.load(f\"../data/CellSeg_dataset/Ovules_processed_thin_boundary_edge/test/N_522_final_crop_ds2.npz\")\n",
    "raw_img_4 = np.array(hf[\"raw\"], dtype=np.float)\n",
    "ins_4 = np.array(hf[\"ins\"], dtype=np.float)\n",
    "\n",
    "print(raw_img_4[0,0,0])\n"
   ],
   "metadata": {
    "collapsed": false,
    "pycharm": {
     "name": "#%%\n"
    }
   }
  },
  {
   "cell_type": "code",
   "execution_count": 16,
   "outputs": [
    {
     "data": {
      "text/plain": "<Labels layer 'blob ID groundtruth' at 0x7fa592957310>"
     },
     "execution_count": 16,
     "metadata": {},
     "output_type": "execute_result"
    }
   ],
   "source": [
    "ins_4 = ins_4.astype(np.int64)\n",
    "viewer = napari.Viewer(ndisplay=3)\n",
    "#blobs = seg_final_eg_gcn_3d_1# data.binary_blobs(length=128, volume_fraction=0.1, n_dim=3)\n",
    "#viewer = napari.view_image(blobs.astype(float), name='blobs_eg')\n",
    "labeled = ins_4\n",
    "viewer.add_labels(labeled, name='blob ID groundtruth', rotate=(0,180,0), opacity=.85)"
   ],
   "metadata": {
    "collapsed": false,
    "pycharm": {
     "name": "#%%\n"
    }
   }
  },
  {
   "cell_type": "code",
   "execution_count": 5,
   "outputs": [
    {
     "ename": "NameError",
     "evalue": "name 'raw_img_4' is not defined",
     "output_type": "error",
     "traceback": [
      "\u001B[0;31m---------------------------------------------------------------------------\u001B[0m",
      "\u001B[0;31mNameError\u001B[0m                                 Traceback (most recent call last)",
      "Input \u001B[0;32mIn [5]\u001B[0m, in \u001B[0;36m<cell line: 2>\u001B[0;34m()\u001B[0m\n\u001B[1;32m      1\u001B[0m viewer \u001B[38;5;241m=\u001B[39m napari\u001B[38;5;241m.\u001B[39mViewer(ndisplay\u001B[38;5;241m=\u001B[39m\u001B[38;5;241m3\u001B[39m)\n\u001B[0;32m----> 2\u001B[0m blobs \u001B[38;5;241m=\u001B[39m \u001B[43mraw_img_4\u001B[49m\u001B[38;5;66;03m# data.binary_blobs(length=128, volume_fraction=0.1, n_dim=3)\u001B[39;00m\n\u001B[1;32m      3\u001B[0m viewer \u001B[38;5;241m=\u001B[39m napari\u001B[38;5;241m.\u001B[39mview_image(blobs\u001B[38;5;241m.\u001B[39mastype(\u001B[38;5;28mfloat\u001B[39m), name\u001B[38;5;241m=\u001B[39m\u001B[38;5;124m'\u001B[39m\u001B[38;5;124mblobs_eg\u001B[39m\u001B[38;5;124m'\u001B[39m, rotate\u001B[38;5;241m=\u001B[39m(\u001B[38;5;241m0\u001B[39m,\u001B[38;5;241m180\u001B[39m,\u001B[38;5;241m0\u001B[39m), opacity\u001B[38;5;241m=\u001B[39m\u001B[38;5;241m.85\u001B[39m)\n",
      "\u001B[0;31mNameError\u001B[0m: name 'raw_img_4' is not defined"
     ]
    }
   ],
   "source": [
    "viewer = napari.Viewer(ndisplay=3)\n",
    "blobs = raw_img_4# data.binary_blobs(length=128, volume_fraction=0.1, n_dim=3)\n",
    "viewer = napari.view_image(blobs.astype(float), name='blobs_eg', rotate=(0,180,0), opacity=.85)"
   ],
   "metadata": {
    "collapsed": false,
    "pycharm": {
     "name": "#%%\n"
    }
   }
  },
  {
   "cell_type": "code",
   "execution_count": 18,
   "outputs": [
    {
     "data": {
      "text/plain": "<Labels layer 'blob ID retrained' at 0x7fa592dea1c0>"
     },
     "execution_count": 18,
     "metadata": {},
     "output_type": "execute_result"
    }
   ],
   "source": [
    "viewer = napari.Viewer(ndisplay=3)\n",
    "labeled = seg_final_retrained_3d_1\n",
    "viewer.add_labels(labeled, name='blob ID retrained', rotate=(0,180,0), opacity=.85)"
   ],
   "metadata": {
    "collapsed": false,
    "pycharm": {
     "name": "#%%\n"
    }
   }
  },
  {
   "cell_type": "code",
   "execution_count": 6,
   "outputs": [],
   "source": [
    "# TODO fill noise anwenden!!!\n",
    "seg_final_eg_3d_1 = decompress_pickle(f\"../../masterthesis_results/ovules_results/edge_gated/N_522_final_crop_ds2.npz_seg_final.pbz2\")\n",
    "seg_final_eg_3d_1 = fill_noise(seg_final_eg_3d_1)"
   ],
   "metadata": {
    "collapsed": false,
    "pycharm": {
     "name": "#%%\n"
    }
   }
  },
  {
   "cell_type": "code",
   "execution_count": 19,
   "outputs": [
    {
     "data": {
      "text/plain": "<Labels layer 'blob ID edge gated' at 0x7fa553c3f970>"
     },
     "execution_count": 19,
     "metadata": {},
     "output_type": "execute_result"
    }
   ],
   "source": [
    "viewer = napari.Viewer(ndisplay=3)\n",
    "#blobs = seg_final_eg_gcn_3d_1# data.binary_blobs(length=128, volume_fraction=0.1, n_dim=3)\n",
    "#viewer = napari.view_image(blobs.astype(float), name='blobs_eg')\n",
    "labeled = seg_final_eg_3d_1\n",
    "viewer.add_labels(labeled, name='blob ID edge gated', rotate=(0,180,0), opacity=.85)\n"
   ],
   "metadata": {
    "collapsed": false,
    "pycharm": {
     "name": "#%%\n"
    }
   }
  },
  {
   "cell_type": "markdown",
   "source": [
    "from napari_process_points_and_surfaces import label_to_surface, simplify_vertex_clustering, filter_smooth_taubin\n",
    "from skimage.measure import regionprops\n",
    "from napari_pymeshlab import colorize_curvature_apss\n",
    "from napari.utils import nbscreenshot\n",
    "from tqdm import tqdm\n",
    "\n",
    "statistics = regionprops(labeled)\n",
    "\n",
    "\n",
    "for i, r in tqdm(enumerate(statistics)):\n",
    "    surface = label_to_surface(labeled, r.label)\n",
    "    surface = filter_smooth_taubin(surface, 200)\n",
    "    su_list = list(surface)\n",
    "    # su_list[2] = np.linspace(0, 9999999999, len(su_list[0]))\n",
    "    su_list[2] = np.ones_like(surface[2]) * r.label * 0.0001\n",
    "    surface = tuple(su_list)\n",
    "    surface_layer = viewer.add_surface(surface, blending='opaque', shading='smooth', colormap='label_colormap')"
   ],
   "metadata": {
    "collapsed": false,
    "pycharm": {
     "name": "#%% md\n"
    }
   }
  },
  {
   "cell_type": "code",
   "execution_count": 66,
   "outputs": [],
   "source": [
    "labels = []\n",
    "for i, r in enumerate(statistics):\n",
    "    labels.append(r.label)\n",
    "\n"
   ],
   "metadata": {
    "collapsed": false,
    "pycharm": {
     "name": "#%%\n"
    }
   }
  }
 ],
 "metadata": {
  "kernelspec": {
   "name": "pycharm-9680649a",
   "language": "python",
   "display_name": "PyCharm (plantseg_poc)"
  },
  "language_info": {
   "codemirror_mode": {
    "name": "ipython",
    "version": 2
   },
   "file_extension": ".py",
   "mimetype": "text/x-python",
   "name": "python",
   "nbconvert_exporter": "python",
   "pygments_lexer": "ipython2",
   "version": "2.7.6"
  }
 },
 "nbformat": 4,
 "nbformat_minor": 0
}