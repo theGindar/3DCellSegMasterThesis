{
 "cells": [
  {
   "cell_type": "code",
   "execution_count": 1,
   "metadata": {
    "collapsed": true
   },
   "outputs": [],
   "source": [
    "from func.ultis import load_obj\n",
    "import networkx as nx\n",
    "import numpy as np"
   ]
  },
  {
   "cell_type": "code",
   "execution_count": 2,
   "outputs": [
    {
     "name": "stdout",
     "output_type": "stream",
     "text": [
      "7\n"
     ]
    }
   ],
   "source": [
    "set_test = load_obj(\"ovules_training_graphs/graphs_dataset_train_with_augmentations_ovules_retrained_skript_testset\")\n",
    "print(len(set_test))"
   ],
   "metadata": {
    "collapsed": false,
    "pycharm": {
     "name": "#%%\n"
    }
   }
  },
  {
   "cell_type": "code",
   "execution_count": 3,
   "outputs": [
    {
     "name": "stdout",
     "output_type": "stream",
     "text": [
      "neg: 10971, \t pos: 1164\n",
      "neg: 8203, \t pos: 4766\n",
      "neg: 3065, \t pos: 1527\n",
      "neg: 7519, \t pos: 630\n",
      "neg: 10667, \t pos: 425\n",
      "neg: 4469, \t pos: 503\n",
      "neg: 10007, \t pos: 1995\n"
     ]
    }
   ],
   "source": [
    "for graph in set_test:\n",
    "    labels_dict = nx.get_node_attributes(graph, \"label\")\n",
    "    labels = []\n",
    "    for label in labels_dict.items():\n",
    "        #print(label[1])\n",
    "        labels.append(label[1])\n",
    "    negatives = np.count_nonzero(labels)\n",
    "    positives = len(labels) - negatives\n",
    "    print(f\"neg: {negatives}, \\t pos: {positives}\")\n"
   ],
   "metadata": {
    "collapsed": false,
    "pycharm": {
     "name": "#%%\n"
    }
   }
  },
  {
   "cell_type": "code",
   "execution_count": 4,
   "outputs": [
    {
     "name": "stderr",
     "output_type": "stream",
     "text": [
      "Using backend: pytorch\n"
     ]
    },
    {
     "data": {
      "text/plain": "GCN(\n  (conv1): GraphConv(in=3, out=16, normalization=both, activation=None)\n  (dropout): Dropout(p=0.5, inplace=False)\n  (conv2): GraphConv(in=16, out=1, normalization=both, activation=None)\n)"
     },
     "execution_count": 4,
     "metadata": {},
     "output_type": "execute_result"
    }
   ],
   "source": [
    "from func.graph_models import GCN\n",
    "import torch\n",
    "\n",
    "model = GCN(3, num_classes=1)\n",
    "checkpoint_graph = 'output/graph_model_focal_ovules_retrained.pt'\n",
    "model.load_state_dict(torch.load(checkpoint_graph, map_location=torch.device('cpu')))\n",
    "model.eval()"
   ],
   "metadata": {
    "collapsed": false,
    "pycharm": {
     "name": "#%%\n"
    }
   }
  },
  {
   "cell_type": "code",
   "execution_count": 5,
   "outputs": [
    {
     "name": "stderr",
     "output_type": "stream",
     "text": [
      "/opt/anaconda3/envs/CellSeg3D_torch/lib/python3.8/site-packages/dgl/backend/pytorch/tensor.py:40: UserWarning: Creating a tensor from a list of numpy.ndarrays is extremely slow. Please consider converting the list to a single numpy.ndarray with numpy.array() before converting to a tensor. (Triggered internally at  /Users/distiller/project/pytorch/torch/csrc/utils/tensor_new.cpp:210.)\n",
      "  return th.as_tensor(data, dtype=dtype)\n"
     ]
    }
   ],
   "source": [
    "from func.graph_learning import VoxelGraphDataset\n",
    "dataset = VoxelGraphDataset(set_test, with_ground_truth_labels=True)"
   ],
   "metadata": {
    "collapsed": false,
    "pycharm": {
     "name": "#%%\n"
    }
   }
  },
  {
   "cell_type": "code",
   "execution_count": 6,
   "outputs": [
    {
     "name": "stdout",
     "output_type": "stream",
     "text": [
      "tensor(0.8419)\n",
      "done\n",
      "tensor(0.6232)\n",
      "done\n",
      "tensor(0.6106)\n",
      "done\n",
      "tensor(0.8973)\n",
      "done\n",
      "tensor(0.9483)\n",
      "done\n",
      "tensor(0.8637)\n",
      "done\n",
      "tensor(0.8235)\n",
      "done\n"
     ]
    }
   ],
   "source": [
    "for voxel_graph in dataset:\n",
    "    model_output = torch.sigmoid(model(voxel_graph, voxel_graph.ndata['feat']))\n",
    "    predictions = (model_output > 0.5).type(torch.FloatTensor)\n",
    "    \n",
    "    labels = voxel_graph.ndata['label']\n",
    "    \n",
    "    accuracy = (predictions == labels).float().mean()\n",
    "    print(accuracy)\n",
    "    print(\"done\")"
   ],
   "metadata": {
    "collapsed": false,
    "pycharm": {
     "name": "#%%\n"
    }
   }
  },
  {
   "cell_type": "code",
   "execution_count": 11,
   "outputs": [
    {
     "name": "stdout",
     "output_type": "stream",
     "text": [
      "DiGraph with 54438 nodes and 1172568 edges\n"
     ]
    }
   ],
   "source": [
    "print(set_test[0])"
   ],
   "metadata": {
    "collapsed": false,
    "pycharm": {
     "name": "#%%\n"
    }
   }
  },
  {
   "cell_type": "code",
   "execution_count": null,
   "outputs": [],
   "source": [],
   "metadata": {
    "collapsed": false,
    "pycharm": {
     "name": "#%%\n"
    }
   }
  }
 ],
 "metadata": {
  "kernelspec": {
   "display_name": "Python 3",
   "language": "python",
   "name": "python3"
  },
  "language_info": {
   "codemirror_mode": {
    "name": "ipython",
    "version": 2
   },
   "file_extension": ".py",
   "mimetype": "text/x-python",
   "name": "python",
   "nbconvert_exporter": "python",
   "pygments_lexer": "ipython2",
   "version": "2.7.6"
  }
 },
 "nbformat": 4,
 "nbformat_minor": 0
}