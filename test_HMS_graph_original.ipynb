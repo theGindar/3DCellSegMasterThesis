{
 "cells": [
  {
   "cell_type": "markdown",
   "metadata": {},
   "source": [
    " ## pipeline"
   ]
  },
  {
   "cell_type": "code",
   "execution_count": 1,
   "metadata": {},
   "outputs": [
    {
     "name": "stderr",
     "output_type": "stream",
     "text": [
      "Using backend: pytorch\n"
     ]
    }
   ],
   "source": [
    "import numpy as np\n",
    "import os\n",
    "import pickle\n",
    "import copy\n",
    "import edt\n",
    "import matplotlib.pyplot as plt\n",
    "import time\n",
    "import cv2\n",
    "import pandas as pd\n",
    "from sklearn.metrics.cluster import adjusted_rand_score\n",
    "from skimage.metrics import adapted_rand_error\n",
    "\n",
    "import torch\n",
    "from torch import from_numpy as from_numpy\n",
    "from torchsummary import summary\n",
    "\n",
    "from func.run_pipeline_super_vox import semantic_segment_crop_and_cat_3_channel_output, img_3d_erosion_or_expansion, \\\n",
    "generate_super_vox_by_watershed, get_outlayer_of_a_3d_shape, get_crop_by_pixel_val, Cluster_Super_Vox, assign_boudary_voxels_to_cells_with_watershed, \\\n",
    "delete_too_small_cluster, reassign\n",
    "from func.run_pipeline import segment, assign_boudary_voxels_to_cells, dbscan_of_seg, semantic_segment_crop_and_cat\n",
    "from func.cal_accuracy import IOU_and_Dice_Accuracy, VOI\n",
    "from func.network import VoxResNet, CellSegNet_basic_lite_w_groupnorm\n",
    "from func.unet_3d_basic import UNet3D_basic\n",
    "from func.ultis import save_obj, load_obj\n",
    "\n",
    "# graph import stuff\n",
    "from func.graph_learning import SuperVoxToNxGraph, VoxelGraphDataset, Cluster_Super_Vox_Graph, segment_super_vox_3_channel_graph_learning\n",
    "from func.graph_models import GCN"
   ]
  },
  {
   "cell_type": "markdown",
   "metadata": {},
   "source": [
    "### init model"
   ]
  },
  {
   "cell_type": "code",
   "execution_count": 2,
   "metadata": {},
   "outputs": [
    {
     "data": {
      "text/plain": "GCN(\n  (conv1): GraphConv(in=3, out=16, normalization=both, activation=None)\n  (dropout): Dropout(p=0.5, inplace=False)\n  (conv2): GraphConv(in=16, out=1, normalization=both, activation=None)\n)"
     },
     "execution_count": 2,
     "metadata": {},
     "output_type": "execute_result"
    }
   ],
   "source": [
    "# model=UNet3D_basic(in_channels = 1, out_channels = 3)\n",
    "# load_path=''\n",
    "# model=VoxResNet(input_channel=1, n_classes=3, output_func = \"softmax\")\n",
    "# load_path=\"\"\n",
    "model=CellSegNet_basic_lite_w_groupnorm(input_channel=1, n_classes=3, output_func = \"softmax\")\n",
    "load_path='output/model_HMS_w_groupnorm_batchsize5.pkl'\n",
    "checkpoint = torch.load(load_path)\n",
    "model.load_state_dict(checkpoint['model_state_dict'])\n",
    "\n",
    "model.eval()\n",
    "device = torch.device('cuda' if torch.cuda.is_available() else 'cpu')\n",
    "model.to(device)\n",
    "\n",
    "# load graph model\n",
    "graph_model = GCN(3, num_classes=1)\n",
    "checkpoint_graph = 'output/graph_model_focal.pt'\n",
    "graph_model.load_state_dict(torch.load(checkpoint_graph))\n",
    "graph_model.eval()\n",
    "\n",
    "#summary(model, (1, 64, 64, 64))"
   ]
  },
  {
   "cell_type": "markdown",
   "metadata": {},
   "source": [
    "### dataset info"
   ]
  },
  {
   "cell_type": "code",
   "execution_count": 3,
   "metadata": {},
   "outputs": [],
   "source": [
    "HMS_data_dict = load_obj(\"dataset_info/HMS_dataset_info\")\n",
    "HMS_data_dict_test = HMS_data_dict[\"test\"]"
   ]
  },
  {
   "cell_type": "markdown",
   "metadata": {},
   "source": [
    "### seg one img"
   ]
  },
  {
   "cell_type": "markdown",
   "metadata": {},
   "source": [
    "parameter setting"
   ]
  },
  {
   "cell_type": "code",
   "execution_count": 4,
   "metadata": {},
   "outputs": [],
   "source": [
    "# we do not input the whole raw image to the model one time but input raw image crops\n",
    "crop_cube_size=64\n",
    "stride=32\n",
    "\n",
    "# hyperparameter for TASCAN, min touching area of two super pixels if they belong to the same cell\n",
    "min_touching_area=30"
   ]
  },
  {
   "cell_type": "markdown",
   "metadata": {},
   "source": [
    "choose a test image and load it"
   ]
  },
  {
   "cell_type": "code",
   "execution_count": 5,
   "metadata": {},
   "outputs": [
    {
     "name": "stdout",
     "output_type": "stream",
     "text": [
      "Test cases: dict_keys(['135', '120', '65', '90'])\n",
      "for test case 135 : {'raw': 'data/CellSeg_dataset/HMS_processed/raw/135.npy', 'background': 'data/CellSeg_dataset/HMS_processed/segmentation/135/135_background_3d_mask.npy', 'boundary': 'data/CellSeg_dataset/HMS_processed/segmentation/135/135_boundary_3d_mask.npy', 'foreground': 'data/CellSeg_dataset/HMS_processed/segmentation/135/135_foreground_3d_mask.npy', 'ins': 'data/CellSeg_dataset/HMS_processed/segmentation/135/135_ins.npy'}\n"
     ]
    }
   ],
   "source": [
    "print(\"Test cases: \"+str(HMS_data_dict_test.keys()))\n",
    "case = \"135\"\n",
    "print(\"for test case \"+str(case)+\" : \"+str(HMS_data_dict_test[case]))\n",
    "\n",
    "# you may load the image using another path\n",
    "raw_img=np.load(HMS_data_dict_test[case][\"raw\"]).astype(float)\n",
    "hand_seg=np.load(HMS_data_dict_test[case][\"ins\"]).astype(float)"
   ]
  },
  {
   "cell_type": "markdown",
   "metadata": {},
   "source": [
    "feed raw image crops to the model"
   ]
  },
  {
   "cell_type": "code",
   "execution_count": 6,
   "metadata": {},
   "outputs": [
    {
     "name": "stdout",
     "output_type": "stream",
     "text": [
      "Feed raw img to model\n",
      "1: Transpose the image to be: [0, 1, 2]\n",
      "argmax\rs of segment_3d_img: 99%Time elapsed:  220.1075940132141\n"
     ]
    }
   ],
   "source": [
    "start = time.time()\n",
    "\n",
    "# feed the raw img to the model\n",
    "print('Feed raw img to model')\n",
    "raw_img_size=raw_img.shape\n",
    "    \n",
    "seg_background_comp = np.zeros(raw_img_size)\n",
    "seg_boundary_comp = np.zeros(raw_img_size)\n",
    "\n",
    "transposes = [[0,1,2]]#,[2,0,1],[0,2,1]]\n",
    "reverse_transposes = [[0,1,2]]#,[1,2,0],[0,2,1]]\n",
    "\n",
    "for idx, transpose in enumerate(transposes):\n",
    "    print(str(idx+1)+\": Transpose the image to be: \"+str(transpose))\n",
    "    with torch.no_grad():\n",
    "        seg_img=\\\n",
    "        semantic_segment_crop_and_cat_3_channel_output(raw_img.transpose(transpose), model, device, crop_cube_size=crop_cube_size, stride=stride)\n",
    "    seg_img_background=seg_img['background']\n",
    "    seg_img_boundary=seg_img['boundary']\n",
    "    seg_img_foreground=seg_img['foreground']\n",
    "    torch.cuda.empty_cache()\n",
    "    \n",
    "    # argmax\n",
    "    print('argmax', end='\\r')\n",
    "    seg=[]\n",
    "    seg.append(seg_img_background)\n",
    "    seg.append(seg_img_boundary)\n",
    "    seg.append(seg_img_foreground)\n",
    "    seg=np.array(seg)\n",
    "    seg_argmax=np.argmax(seg, axis=0)\n",
    "    # probability map to 0 1 segment\n",
    "    seg_background=np.zeros(seg_img_background.shape)\n",
    "    seg_background[np.where(seg_argmax==0)]=1\n",
    "    seg_foreground=np.zeros(seg_img_foreground.shape)\n",
    "    seg_foreground[np.where(seg_argmax==2)]=1\n",
    "    seg_boundary=np.zeros(seg_img_boundary.shape)\n",
    "    seg_boundary[np.where(seg_argmax==1)]=1\n",
    "        \n",
    "    seg_background=seg_background.transpose(reverse_transposes[idx])\n",
    "    seg_foreground=seg_foreground.transpose(reverse_transposes[idx])\n",
    "    seg_boundary=seg_boundary.transpose(reverse_transposes[idx])\n",
    "        \n",
    "    seg_background_comp+=seg_background\n",
    "    seg_boundary_comp+=seg_boundary\n",
    "#print(\"Get model semantic seg by combination\")\n",
    "seg_background_comp = np.array(seg_background_comp>0, dtype=float)\n",
    "seg_boundary_comp = np.array(seg_boundary_comp>0, dtype=float)\n",
    "seg_foreground_comp = np.array(1 - seg_background_comp - seg_boundary_comp>0, dtype=float)\n",
    "\n",
    "end = time.time()\n",
    "\n",
    "print(\"Time elapsed: \", end - start)"
   ]
  },
  {
   "cell_type": "code",
   "execution_count": 7,
   "metadata": {
    "scrolled": true
   },
   "outputs": [
    {
     "name": "stdout",
     "output_type": "stream",
     "text": [
      "reassign unique numbers progress: 0.9882352941176471\r5"
     ]
    },
    {
     "data": {
      "text/plain": "<matplotlib.image.AxesImage at 0x7f9f39f0a670>"
     },
     "execution_count": 7,
     "metadata": {},
     "output_type": "execute_result"
    },
    {
     "data": {
      "text/plain": "<Figure size 432x288 with 1 Axes>",
      "image/png": "[encoded data removed]"
     },
     "metadata": {
      "needs_background": "light"
     },
     "output_type": "display_data"
    },
    {
     "data": {
      "text/plain": "<Figure size 432x288 with 1 Axes>",
      "image/png": "[encoded data removed]"
     },
     "metadata": {
      "needs_background": "light"
     },
     "output_type": "display_data"
    },
    {
     "data": {
      "text/plain": "<Figure size 432x288 with 1 Axes>",
      "image/png": "[encoded data removed]"
     },
     "metadata": {
      "needs_background": "light"
     },
     "output_type": "display_data"
    },
    {
     "data": {
      "text/plain": "<Figure size 432x288 with 1 Axes>",
      "image/png": "[encoded data removed]"
     },
     "metadata": {
      "needs_background": "light"
     },
     "output_type": "display_data"
    },
    {
     "data": {
      "text/plain": "<Figure size 432x288 with 1 Axes>",
      "image/png": "[encoded data removed]"
     },
     "metadata": {
      "needs_background": "light"
     },
     "output_type": "display_data"
    }
   ],
   "source": [
    "# show current result\n",
    "\n",
    "N=100\n",
    "\n",
    "plt.figure()\n",
    "plt.title(\"raw_img\")\n",
    "plt.imshow(raw_img[N,:,:])\n",
    "plt.figure()\n",
    "plt.title(\"hand_seg\")\n",
    "plt.imshow(reassign(hand_seg[N,:,:]))\n",
    "plt.figure()\n",
    "plt.title(\"model_seg_foreground\")\n",
    "plt.imshow(seg_foreground_comp[N,:,:])\n",
    "plt.figure()\n",
    "plt.title(\"model_seg_boundary\")\n",
    "plt.imshow(seg_boundary_comp[N,:,:])\n",
    "plt.figure()\n",
    "plt.title(\"model_seg_background\")\n",
    "plt.imshow(seg_background_comp[N,:,:])"
   ]
  },
  {
   "cell_type": "markdown",
   "metadata": {},
   "source": [
    "TASCAN"
   ]
  },
  {
   "cell_type": "markdown",
   "metadata": {},
   "source": [
    "generate super vox by watershed"
   ]
  },
  {
   "cell_type": "code",
   "execution_count": 8,
   "metadata": {},
   "outputs": [],
   "source": [
    "how_close_are_the_super_vox_to_boundary=2\n",
    "min_touching_percentage=0.51\n",
    "\n",
    "seg_foreground_erosion=1-img_3d_erosion_or_expansion(1-seg_foreground_comp, kernel_size=how_close_are_the_super_vox_to_boundary+1, device=device)\n",
    "seg_foreground_super_voxel_by_ws = generate_super_vox_by_watershed(seg_foreground_erosion, connectivity=min_touching_area)"
   ]
  },
  {
   "cell_type": "code",
   "execution_count": 9,
   "metadata": {
    "scrolled": false
   },
   "outputs": [
    {
     "name": "stdout",
     "output_type": "stream",
     "text": [
      "There are 1998 super voxels\n"
     ]
    }
   ],
   "source": [
    "print(\"There are \"+str(len(np.unique(seg_foreground_super_voxel_by_ws)))+\" super voxels\")"
   ]
  },
  {
   "cell_type": "markdown",
   "metadata": {},
   "source": [
    "super voxel clustearing"
   ]
  },
  {
   "cell_type": "code",
   "execution_count": 10,
   "metadata": {},
   "outputs": [],
   "source": [
    "# cluster_super_vox=Cluster_Super_Vox(min_touching_area=min_touching_area, min_touching_percentage=min_touching_percentage)\n",
    "# cluster_super_vox.fit(seg_foreground_super_voxel_by_ws)\n",
    "# seg_foreground_single_cell_with_boundary = cluster_super_vox.output_3d_img\n",
    "\n",
    "# import pickle\n",
    "# pickle.dump(seg_foreground_super_voxel_by_ws, open(\"test_seg_foreground_super_voxel_by_ws.pkl\", \"wb\" ))"
   ]
  },
  {
   "cell_type": "code",
   "execution_count": 11,
   "outputs": [
    {
     "name": "stdout",
     "output_type": "stream",
     "text": [
      "getting neighbor pairs\n",
      "adding neighbor ids\n",
      "calculate edges\n",
      "build networkx graph\n"
     ]
    },
    {
     "name": "stderr",
     "output_type": "stream",
     "text": [
      "/opt/anaconda3/envs/CellSeg3D_torch/lib/python3.8/site-packages/dgl/backend/pytorch/tensor.py:40: UserWarning: Creating a tensor from a list of numpy.ndarrays is extremely slow. Please consider converting the list to a single numpy.ndarray with numpy.array() before converting to a tensor. (Triggered internally at  /Users/distiller/project/pytorch/torch/csrc/utils/tensor_new.cpp:210.)\n",
      "  return th.as_tensor(data, dtype=dtype)\n"
     ]
    },
    {
     "name": "stdout",
     "output_type": "stream",
     "text": [
      "predict...\n",
      "using prediction for single-output model\n",
      "number of negatives: 137\n",
      "everything predicted!\n"
     ]
    }
   ],
   "source": [
    "cluster_super_vox=Cluster_Super_Vox_Graph(graph_model)\n",
    "cluster_super_vox.fit(seg_foreground_super_voxel_by_ws, fake_predictions=False)\n",
    "seg_foreground_single_cell_with_boundary = cluster_super_vox.output_3d_img\n",
    "\n"
   ],
   "metadata": {
    "collapsed": false,
    "pycharm": {
     "name": "#%%\n"
    }
   }
  },
  {
   "cell_type": "markdown",
   "metadata": {},
   "source": [
    "delete too small cells"
   ]
  },
  {
   "cell_type": "code",
   "execution_count": 12,
   "metadata": {},
   "outputs": [],
   "source": [
    "min_cell_size_threshold=10\n",
    "seg_foreground_single_cell_with_boundary_delete_too_small = delete_too_small_cluster(seg_foreground_single_cell_with_boundary, threshold=min_cell_size_threshold)"
   ]
  },
  {
   "cell_type": "markdown",
   "metadata": {},
   "source": [
    "assign boudary voxels to their nearest cells"
   ]
  },
  {
   "cell_type": "code",
   "execution_count": 13,
   "metadata": {},
   "outputs": [],
   "source": [
    "seg_final=assign_boudary_voxels_to_cells_with_watershed(seg_foreground_single_cell_with_boundary_delete_too_small, seg_boundary_comp, seg_background_comp, compactness=1)"
   ]
  },
  {
   "cell_type": "markdown",
   "metadata": {},
   "source": [
    "see the final result"
   ]
  },
  {
   "cell_type": "code",
   "execution_count": 14,
   "metadata": {},
   "outputs": [],
   "source": [
    "def colorful_seg(seg):\n",
    "    unique_vals, val_counts = np.unique(seg, return_counts=True)\n",
    "    \n",
    "    background_val = unique_vals[np.argsort(val_counts)[::-1][0]]\n",
    "    \n",
    "    seg_RGB = []\n",
    "    for i in range(seg.shape[0]):\n",
    "        mask_gray = cv2.normalize(src=seg[i,:,:], dst=None, alpha=0, beta=255, norm_type=cv2.NORM_MINMAX, dtype=cv2.CV_8UC1)\n",
    "        seg_slice_RGB = cv2.cvtColor(mask_gray, cv2.COLOR_GRAY2RGB)\n",
    "        seg_RGB.append(seg_slice_RGB)\n",
    "    seg_RGB = np.array(seg_RGB)\n",
    "    \n",
    "    for idx, unique_val in enumerate(unique_vals):\n",
    "        print(str(idx/len(unique_vals)), end=\"\\r\")\n",
    "        if unique_val == background_val:\n",
    "            COLOR = np.array([0,0,0], dtype=int)\n",
    "        else:\n",
    "            COLOR = np.array(np.random.choice(np.arange(256), size=3, replace=False), dtype=int)\n",
    "        \n",
    "        locs = np.where(seg==unique_val)\n",
    "        \n",
    "        for i in range(3):\n",
    "            seg_RGB[locs[0], locs[1], locs[2], i] = COLOR[i]\n",
    "        \n",
    "    return seg_RGB"
   ]
  },
  {
   "cell_type": "code",
   "execution_count": 15,
   "metadata": {},
   "outputs": [
    {
     "name": "stdout",
     "output_type": "stream",
     "text": [
      "0.9976958525345622\r\r\r.0160427807486631030.03386809269162210.051693404634581110.069518716577540110.08734402852049910.10516934046345810.122994652406417120.14081996434937610.15864527629233510.176470588235294130.194295900178253130.212121212121212130.22816399286987520.245989304812834240.26381461675579320.28163992869875220.29946524064171120.31550802139037430.33333333333333330.35115864527629230.36898395721925130.38680926916221030.40285204991087340.42067736185383240.43850267379679140.45632798573975040.47415329768270950.49197860962566850.50980392156862740.52762923351158640.54545454545454540.56327985739750440.58110516934046340.59893048128342240.61675579322638140.63458110516934040.65240641711229950.67023172905525850.68805704099821750.70588235294117650.72192513368983960.73796791443850260.75579322638146160.77361853832442060.79144385026737970.80748663101604280.82531194295900180.84313725490196080.86096256684491980.87878787878787880.89661319073083780.91443850267379680.930481283422460.9483065953654190.9661319073083780.9839572192513370.00.0207373271889400930.039170506912442390.05760368663594470.076036866359447010.09447004608294930.112903225806451610.13133640552995390.14976958525345620.168202764976958520.186635944700460830.205069124423963130.223502304147465440.241935483870967750.260368663594470030.278801843317972360.297235023041474640.3156682027649770.336405529953917040.35483870967741940.375576036866359430.394009216589861770.41474654377880180.433179723502304160.451612903225806440.47004608294930880.488479262672811050.50691244239631340.52534562211981560.5437788018433180.56221198156682030.58064516129032260.60138248847926270.62211981566820270.64055299539170510.65898617511520740.67741935483870960.6958525345622120.71428571428571430.73271889400921660.75115207373271890.76958525345622120.78801843317972350.80875576036866360.82718894009216590.84562211981566810.86405529953917050.88248847926267280.90092165898617520.91935483870967740.94009216589861750.95852534562211980.97695852534562210.9953917050691244"
     ]
    }
   ],
   "source": [
    "seg_RGB = colorful_seg(seg_final)\n",
    "hand_seg_RGB = colorful_seg(hand_seg)"
   ]
  },
  {
   "cell_type": "code",
   "execution_count": 16,
   "metadata": {},
   "outputs": [
    {
     "data": {
      "text/plain": "<matplotlib.image.AxesImage at 0x7f9f3b81b550>"
     },
     "execution_count": 16,
     "metadata": {},
     "output_type": "execute_result"
    },
    {
     "data": {
      "text/plain": "<Figure size 360x360 with 1 Axes>",
      "image/png": "[encoded data removed]"
     },
     "metadata": {
      "needs_background": "light"
     },
     "output_type": "display_data"
    }
   ],
   "source": [
    "N=100\n",
    "fig = plt.figure(figsize=(5,5))\n",
    "plt.title(\"model seg\")\n",
    "plt.axis('off')\n",
    "plt.imshow(seg_RGB[:,:,N,:])#, cmap=\"gray\")\n",
    "#plt.savefig('_RGB_'+str(N)+'.png',bbox_inches='tight',dpi=fig.dpi,pad_inches=0.0)"
   ]
  },
  {
   "cell_type": "code",
   "execution_count": 17,
   "metadata": {},
   "outputs": [
    {
     "data": {
      "text/plain": "<matplotlib.image.AxesImage at 0x7f9f3b74b490>"
     },
     "execution_count": 17,
     "metadata": {},
     "output_type": "execute_result"
    },
    {
     "data": {
      "text/plain": "<Figure size 360x360 with 1 Axes>",
      "image/png": "[encoded data removed]"
     },
     "metadata": {
      "needs_background": "light"
     },
     "output_type": "display_data"
    }
   ],
   "source": [
    "fig = plt.figure(figsize=(5,5))\n",
    "plt.title(\"hand seg\")\n",
    "plt.axis('off')\n",
    "plt.imshow(hand_seg_RGB[:,:,N,:])#, cmap=\"gray\")\n",
    "#plt.savefig('_RGB_'+str(N)+'.png',bbox_inches='tight',dpi=fig.dpi,pad_inches=0.0)"
   ]
  },
  {
   "cell_type": "code",
   "execution_count": 18,
   "metadata": {},
   "outputs": [],
   "source": [
    "# print(\"There are \"+str(len(np.unique(seg_final)))+\" cells in model prediction\")\n",
    "# print(\"There are \"+str(len(np.unique(hand_seg)))+\" cells in hand seg\")"
   ]
  },
  {
   "cell_type": "markdown",
   "metadata": {},
   "source": [
    "calculate accuracy"
   ]
  },
  {
   "cell_type": "code",
   "execution_count": 19,
   "metadata": {},
   "outputs": [],
   "source": [
    "ARI = adjusted_rand_score(hand_seg.flatten(), seg_final.flatten())\n",
    "ARE = adapted_rand_error(hand_seg.astype(int).flatten(), seg_final.astype(int).flatten())\n",
    "VOI_val = VOI(seg_final.astype(int),hand_seg.astype(int))"
   ]
  },
  {
   "cell_type": "code",
   "execution_count": 20,
   "metadata": {},
   "outputs": [
    {
     "name": "stdout",
     "output_type": "stream",
     "text": [
      "ARI: 0.9916572427659055\n",
      "ARE: (0.3361383781466617, 0.6253673800173143, 0.7074057000445324)\n",
      "VOI: (1.4258247426603714, 1.047230344334572)\n"
     ]
    }
   ],
   "source": [
    "print(\"ARI: \"+str(ARI))\n",
    "print(\"ARE: \"+str(ARE))\n",
    "print(\"VOI: \"+str(VOI_val))"
   ]
  },
  {
   "cell_type": "code",
   "execution_count": 21,
   "metadata": {},
   "outputs": [
    {
     "name": "stdout",
     "output_type": "stream",
     "text": [
      "(181, 331, 160) --> (90, 165, 80)\n"
     ]
    }
   ],
   "source": [
    "def img_3d_interpolate(img_3d, output_size, device = torch.device('cpu'), mode='nearest'):\n",
    "    img_3d = img_3d.reshape(1,1,img_3d.shape[0],img_3d.shape[1],img_3d.shape[2])\n",
    "    img_3d=torch.from_numpy(img_3d).float().to(device)\n",
    "    img_3d=torch.nn.functional.interpolate(img_3d, size=output_size, mode='nearest')\n",
    "    img_3d=img_3d.detach().cpu().numpy()\n",
    "    img_3d=img_3d.reshape(img_3d.shape[2],img_3d.shape[3],img_3d.shape[4])\n",
    "    \n",
    "    return img_3d\n",
    "\n",
    "scale_factor = 0.5\n",
    "org_shape = seg_final.shape\n",
    "output_size = (int(org_shape[0]*scale_factor), int(org_shape[1]*scale_factor), int(org_shape[2]*scale_factor))\n",
    "print(str(org_shape)+\" --> \"+str(output_size))"
   ]
  },
  {
   "cell_type": "code",
   "execution_count": 22,
   "metadata": {},
   "outputs": [
    {
     "name": "stdout",
     "output_type": "stream",
     "text": [
      "progress: 99.7340425531915%\r\r\rrogress: 30.319148936170215%progress: 31.914893617021278%progress: 32.97872340425532%progress: 34.57446808510639%progress: 35.90425531914894%progress: 37.234042553191486%progress: 38.297872340425535%progress: 39.62765957446808%progress: 40.691489361702125%progress: 42.02127659574468%progress: 43.08510638297872%progress: 44.41489361702128%progress: 45.47872340425532%progress: 46.808510638297875%progress: 47.6063829787234%progress: 48.67021276595745%progress: 49.734042553191486%progress: 50.53191489361703%progress: 51.329787234042556%progress: 52.3936170212766%progress: 53.98936170212766%progress: 55.053191489361694%progress: 56.11702127659575%progress: 57.180851063829785%progress: 58.24468085106383%progress: 59.308510638297875%progress: 60.37234042553191%progress: 61.43617021276596%progress: 62.23404255319149%progress: 62.76595744680851%progress: 63.297872340425535%progress: 63.829787234042556%progress: 64.8936170212766%progress: 65.69148936170212%progress: 66.48936170212765%progress: 67.81914893617021%progress: 68.61702127659575%progress: 69.68085106382979%progress: 70.74468085106383%progress: 72.07446808510637%progress: 73.67021276595744%progress: 74.7340425531915%progress: 75.2659574468085%progress: 75.79787234042553%progress: 76.59574468085107%progress: 77.6595744680851%progress: 78.45744680851064%progress: 80.0531914893617%progress: 80.85106382978722%progress: 81.38297872340425%progress: 82.4468085106383%progress: 83.24468085106383%progress: 83.77659574468085%progress: 84.30851063829788%progress: 85.1063829787234%progress: 85.90425531914893%progress: 86.70212765957447%progress: 87.7659574468085%progress: 88.82978723404256%progress: 89.36170212765957%progress: 89.8936170212766%progress: 90.69148936170212%progress: 91.48936170212765%progress: 92.2872340425532%progress: 93.08510638297872%progress: 93.88297872340425%progress: 95.2127659574468%progress: 95.74468085106383%progress: 97.07446808510637%progress: 97.6063829787234%progress: 98.13829787234043%progress: 98.67021276595744%progress: 99.46808510638297%cell count accuracy iou >0.7: 0.34574468085106386\n",
      "cell count accuracy dice >0.7: 0.5851063829787234\n",
      "cell count accuracy iou >0.5: 0.625\n",
      "cell count accuracy dice >0.5: 0.8218085106382979\n",
      "avg iou: 0.5397359148619023\n",
      "avg dice: 0.6624175839601679\n"
     ]
    },
    {
     "name": "stderr",
     "output_type": "stream",
     "text": [
      "/var/folders/qq/9q6wphrj19z8xt4qcffm8df80000gn/T/ipykernel_15758/259725777.py:4: DeprecationWarning: `np.float` is a deprecated alias for the builtin `float`. To silence this warning, use `float` by itself. Doing this will not modify any behavior and is safe. If you specifically wanted the numpy scalar type, use `np.float64` here.\n",
      "Deprecated in NumPy 1.20; for more details and guidance: https://numpy.org/devdocs/release/1.20.0-notes.html#deprecations\n",
      "  iou=np.array(accuracy_record[:,1]>0.7, dtype=np.float)\n",
      "/var/folders/qq/9q6wphrj19z8xt4qcffm8df80000gn/T/ipykernel_15758/259725777.py:7: DeprecationWarning: `np.float` is a deprecated alias for the builtin `float`. To silence this warning, use `float` by itself. Doing this will not modify any behavior and is safe. If you specifically wanted the numpy scalar type, use `np.float64` here.\n",
      "Deprecated in NumPy 1.20; for more details and guidance: https://numpy.org/devdocs/release/1.20.0-notes.html#deprecations\n",
      "  dice=np.array(accuracy_record[:,2]>0.7, dtype=np.float)\n",
      "/var/folders/qq/9q6wphrj19z8xt4qcffm8df80000gn/T/ipykernel_15758/259725777.py:10: DeprecationWarning: `np.float` is a deprecated alias for the builtin `float`. To silence this warning, use `float` by itself. Doing this will not modify any behavior and is safe. If you specifically wanted the numpy scalar type, use `np.float64` here.\n",
      "Deprecated in NumPy 1.20; for more details and guidance: https://numpy.org/devdocs/release/1.20.0-notes.html#deprecations\n",
      "  iou=np.array(accuracy_record[:,1]>0.5, dtype=np.float)\n",
      "/var/folders/qq/9q6wphrj19z8xt4qcffm8df80000gn/T/ipykernel_15758/259725777.py:13: DeprecationWarning: `np.float` is a deprecated alias for the builtin `float`. To silence this warning, use `float` by itself. Doing this will not modify any behavior and is safe. If you specifically wanted the numpy scalar type, use `np.float64` here.\n",
      "Deprecated in NumPy 1.20; for more details and guidance: https://numpy.org/devdocs/release/1.20.0-notes.html#deprecations\n",
      "  dice=np.array(accuracy_record[:,2]>0.5, dtype=np.float)\n"
     ]
    }
   ],
   "source": [
    "accuracy=IOU_and_Dice_Accuracy(img_3d_interpolate(hand_seg, output_size = output_size), img_3d_interpolate(seg_final, output_size = output_size))\n",
    "accuracy_record=accuracy.cal_accuracy_II()\n",
    "\n",
    "iou=np.array(accuracy_record[:,1]>0.7, dtype=np.float)\n",
    "print('cell count accuracy iou >0.7: '+str(sum(iou)/len(iou)))\n",
    "\n",
    "dice=np.array(accuracy_record[:,2]>0.7, dtype=np.float)\n",
    "print('cell count accuracy dice >0.7: '+str(sum(dice)/len(dice)))\n",
    "    \n",
    "iou=np.array(accuracy_record[:,1]>0.5, dtype=np.float)\n",
    "print('cell count accuracy iou >0.5: '+str(sum(iou)/len(iou)))\n",
    "\n",
    "dice=np.array(accuracy_record[:,2]>0.5, dtype=np.float)\n",
    "print('cell count accuracy dice >0.5: '+str(sum(dice)/len(dice)))\n",
    "\n",
    "print('avg iou: '+str(np.mean(accuracy_record[:,1])))\n",
    "print('avg dice: '+str(np.mean(accuracy_record[:,2])))"
   ]
  },
  {
   "cell_type": "markdown",
   "metadata": {},
   "source": [
    "### seg all imgs"
   ]
  },
  {
   "cell_type": "code",
   "execution_count": 23,
   "metadata": {},
   "outputs": [],
   "source": [
    "def img_3d_interpolate(img_3d, output_size, device = torch.device('cpu'), mode='nearest'):\n",
    "    img_3d = img_3d.reshape(1,1,img_3d.shape[0],img_3d.shape[1],img_3d.shape[2])\n",
    "    img_3d=torch.from_numpy(img_3d).float().to(device)\n",
    "    img_3d=torch.nn.functional.interpolate(img_3d, size=output_size, mode='nearest')\n",
    "    img_3d=img_3d.detach().cpu().numpy()\n",
    "    img_3d=img_3d.reshape(img_3d.shape[2],img_3d.shape[3],img_3d.shape[4])\n",
    "    \n",
    "    return img_3d\n",
    "\n",
    "def pipeline(raw_img, hand_seg, model, device,\n",
    "             crop_cube_size, stride,\n",
    "             how_close_are_the_super_vox_to_boundary=2,\n",
    "             min_touching_area=30,\n",
    "             min_touching_percentage=0.51,\n",
    "             min_cell_size_threshold=1,\n",
    "             transposes = [[0,1,2]], reverse_transposes = [[0,1,2]]):\n",
    "    \n",
    "    seg_final=segment_super_vox_3_channel_graph_learning(raw_img, model, graph_model, device,\n",
    "                                          crop_cube_size=crop_cube_size, stride=stride,\n",
    "                                          how_close_are_the_super_vox_to_boundary=how_close_are_the_super_vox_to_boundary,\n",
    "                                          min_touching_area=min_touching_area,\n",
    "                                          min_touching_percentage=min_touching_percentage,\n",
    "                                          min_cell_size_threshold=min_cell_size_threshold,\n",
    "                                          transposes = transposes, reverse_transposes = reverse_transposes)\n",
    "    \n",
    "    ari = adjusted_rand_score(hand_seg.flatten(), seg_final.flatten())\n",
    "    voi = VOI(seg_final.astype(np.int),hand_seg.astype(np.int))\n",
    "    \n",
    "    scale_factor = 0.5\n",
    "    org_shape = seg_final.shape\n",
    "    output_size = (int(org_shape[0]*scale_factor), int(org_shape[1]*scale_factor), int(org_shape[2]*scale_factor))\n",
    "    print(str(org_shape)+\" --> \"+str(output_size))\n",
    "    \n",
    "    accuracy=IOU_and_Dice_Accuracy(img_3d_interpolate(hand_seg, output_size = output_size),\n",
    "                                   img_3d_interpolate(seg_final, output_size = output_size))\n",
    "    accuracy_record=accuracy.cal_accuracy_II()\n",
    "    hand_seg_after_accuracy=accuracy.gt\n",
    "    seg_final_after_accuracy=accuracy.pred\n",
    "    \n",
    "    return accuracy_record, hand_seg_after_accuracy, seg_final_after_accuracy, ari, voi, seg_final"
   ]
  },
  {
   "cell_type": "code",
   "execution_count": 24,
   "metadata": {},
   "outputs": [
    {
     "name": "stdout",
     "output_type": "stream",
     "text": [
      "135\n",
      "Feed raw img to model. Use different transposes\n",
      "1: Transpose the image to be: [0, 1, 2]\n",
      "argmax\rs of segment_3d_img: 99%Get model semantic seg by combination\n",
      "getting neighbor pairs\n",
      "adding neighbor ids\n",
      "calculate edges\n",
      "build networkx graph\n",
      "predict...\n",
      "using prediction for single-output model\n",
      "number of negatives: 137\n",
      "everything predicted!\n"
     ]
    },
    {
     "name": "stderr",
     "output_type": "stream",
     "text": [
      "/var/folders/qq/9q6wphrj19z8xt4qcffm8df80000gn/T/ipykernel_15758/1421938685.py:27: DeprecationWarning: `np.int` is a deprecated alias for the builtin `int`. To silence this warning, use `int` by itself. Doing this will not modify any behavior and is safe. When replacing `np.int`, you may wish to use e.g. `np.int64` or `np.int32` to specify the precision. If you wish to review your current use, check the release note link for additional information.\n",
      "Deprecated in NumPy 1.20; for more details and guidance: https://numpy.org/devdocs/release/1.20.0-notes.html#deprecations\n",
      "  voi = VOI(seg_final.astype(np.int),hand_seg.astype(np.int))\n"
     ]
    },
    {
     "name": "stdout",
     "output_type": "stream",
     "text": [
      "(181, 331, 160) --> (90, 165, 80)\n",
      "progress: 99.7340425531915%\r\r\rrogress: 25.265957446808514%progress: 26.595744680851062%progress: 27.127659574468083%progress: 27.659574468085108%progress: 28.98936170212766%progress: 30.319148936170215%progress: 31.914893617021278%progress: 32.97872340425532%progress: 34.57446808510639%progress: 35.90425531914894%progress: 37.234042553191486%progress: 38.297872340425535%progress: 39.62765957446808%progress: 40.691489361702125%progress: 41.755319148936174%progress: 42.819148936170215%progress: 44.148936170212764%progress: 45.47872340425532%progress: 46.808510638297875%progress: 47.6063829787234%progress: 48.67021276595745%progress: 49.734042553191486%progress: 50.53191489361703%progress: 51.329787234042556%progress: 52.12765957446809%progress: 53.72340425531915%progress: 54.78723404255319%progress: 55.85106382978723%progress: 56.38297872340425%progress: 57.180851063829785%progress: 58.24468085106383%progress: 59.308510638297875%progress: 60.37234042553191%progress: 61.170212765957444%progress: 61.702127659574465%progress: 62.5%progress: 63.297872340425535%progress: 63.829787234042556%progress: 64.8936170212766%progress: 65.69148936170212%progress: 66.48936170212765%progress: 67.81914893617021%progress: 68.35106382978722%progress: 69.68085106382979%progress: 70.47872340425532%progress: 71.27659574468085%progress: 72.07446808510637%progress: 73.40425531914893%progress: 74.7340425531915%progress: 75.2659574468085%progress: 75.79787234042553%progress: 76.59574468085107%progress: 77.6595744680851%progress: 78.45744680851064%progress: 80.0531914893617%progress: 80.85106382978722%progress: 81.38297872340425%progress: 82.4468085106383%progress: 83.24468085106383%progress: 83.77659574468085%progress: 84.30851063829788%progress: 85.1063829787234%progress: 85.90425531914893%progress: 86.70212765957447%progress: 87.5%progress: 88.56382978723404%progress: 89.36170212765957%progress: 89.8936170212766%progress: 90.69148936170212%progress: 91.48936170212765%progress: 92.2872340425532%progress: 93.08510638297872%progress: 93.88297872340425%progress: 94.9468085106383%progress: 95.47872340425532%progress: 96.54255319148936%progress: 97.07446808510637%progress: 97.87234042553192%progress: 98.40425531914893%progress: 99.20212765957447%"
     ]
    },
    {
     "name": "stderr",
     "output_type": "stream",
     "text": [
      "/var/folders/qq/9q6wphrj19z8xt4qcffm8df80000gn/T/ipykernel_15758/870501310.py:20: DeprecationWarning: `np.float` is a deprecated alias for the builtin `float`. To silence this warning, use `float` by itself. Doing this will not modify any behavior and is safe. If you specifically wanted the numpy scalar type, use `np.float64` here.\n",
      "Deprecated in NumPy 1.20; for more details and guidance: https://numpy.org/devdocs/release/1.20.0-notes.html#deprecations\n",
      "  iou=np.array(accuracy_record[:,1]>0.7, dtype=np.float)\n",
      "/var/folders/qq/9q6wphrj19z8xt4qcffm8df80000gn/T/ipykernel_15758/870501310.py:23: DeprecationWarning: `np.float` is a deprecated alias for the builtin `float`. To silence this warning, use `float` by itself. Doing this will not modify any behavior and is safe. If you specifically wanted the numpy scalar type, use `np.float64` here.\n",
      "Deprecated in NumPy 1.20; for more details and guidance: https://numpy.org/devdocs/release/1.20.0-notes.html#deprecations\n",
      "  dice=np.array(accuracy_record[:,2]>0.7, dtype=np.float)\n",
      "/var/folders/qq/9q6wphrj19z8xt4qcffm8df80000gn/T/ipykernel_15758/870501310.py:26: DeprecationWarning: `np.float` is a deprecated alias for the builtin `float`. To silence this warning, use `float` by itself. Doing this will not modify any behavior and is safe. If you specifically wanted the numpy scalar type, use `np.float64` here.\n",
      "Deprecated in NumPy 1.20; for more details and guidance: https://numpy.org/devdocs/release/1.20.0-notes.html#deprecations\n",
      "  iou=np.array(accuracy_record[:,1]>0.5, dtype=np.float)\n",
      "/var/folders/qq/9q6wphrj19z8xt4qcffm8df80000gn/T/ipykernel_15758/870501310.py:29: DeprecationWarning: `np.float` is a deprecated alias for the builtin `float`. To silence this warning, use `float` by itself. Doing this will not modify any behavior and is safe. If you specifically wanted the numpy scalar type, use `np.float64` here.\n",
      "Deprecated in NumPy 1.20; for more details and guidance: https://numpy.org/devdocs/release/1.20.0-notes.html#deprecations\n",
      "  dice=np.array(accuracy_record[:,2]>0.5, dtype=np.float)\n"
     ]
    },
    {
     "name": "stdout",
     "output_type": "stream",
     "text": [
      "cell count accuracy iou >0.7: 0.3377659574468085\n",
      "cell count accuracy dice >0.7: 0.5797872340425532\n",
      "cell count accuracy iou >0.5: 0.6196808510638298\n",
      "cell count accuracy dice >0.5: 0.8164893617021277\n",
      "avg iou: 0.5371368092464957\n",
      "avg dice: 0.6599793104811552\n",
      "ari: 0.9916619698898321\n",
      "voi: (1.4804100261000068, 1.019161840676887)\n",
      "----------\n",
      "120\n",
      "Feed raw img to model. Use different transposes\n",
      "1: Transpose the image to be: [0, 1, 2]\n",
      "argmax\rs of segment_3d_img: 99%Get model semantic seg by combination\n",
      "getting neighbor pairs\n",
      "adding neighbor ids\n",
      "calculate edges\n",
      "build networkx graph\n",
      "predict...\n",
      "using prediction for single-output model\n",
      "number of negatives: 208\n",
      "everything predicted!\n"
     ]
    },
    {
     "name": "stderr",
     "output_type": "stream",
     "text": [
      "/var/folders/qq/9q6wphrj19z8xt4qcffm8df80000gn/T/ipykernel_15758/1421938685.py:27: DeprecationWarning: `np.int` is a deprecated alias for the builtin `int`. To silence this warning, use `int` by itself. Doing this will not modify any behavior and is safe. When replacing `np.int`, you may wish to use e.g. `np.int64` or `np.int32` to specify the precision. If you wish to review your current use, check the release note link for additional information.\n",
      "Deprecated in NumPy 1.20; for more details and guidance: https://numpy.org/devdocs/release/1.20.0-notes.html#deprecations\n",
      "  voi = VOI(seg_final.astype(np.int),hand_seg.astype(np.int))\n"
     ]
    },
    {
     "name": "stdout",
     "output_type": "stream",
     "text": [
      "(181, 331, 160) --> (90, 165, 80)\n",
      "progress: 99.71910112359551%\r\rrogress: 4.775280898876404%progress: 5.8988764044943816%progress: 6.460674157303371%progress: 7.584269662921349%progress: 8.707865168539326%progress: 9.550561797752808%progress: 10.112359550561797%progress: 11.51685393258427%progress: 12.921348314606742%progress: 14.606741573033707%progress: 15.44943820224719%progress: 16.292134831460675%progress: 17.415730337078653%progress: 18.258426966292134%progress: 19.382022471910112%progress: 20.224719101123593%progress: 20.786516853932586%progress: 21.629213483146067%progress: 22.191011235955056%progress: 23.03370786516854%progress: 24.15730337078652%progress: 24.719101123595504%progress: 25.56179775280899%progress: 26.12359550561798%progress: 26.685393258426966%progress: 27.247191011235955%progress: 27.808988764044944%progress: 28.370786516853936%progress: 29.213483146067414%progress: 29.775280898876407%progress: 30.61797752808989%progress: 31.179775280898873%progress: 31.741573033707866%progress: 32.58426966292135%progress: 33.42696629213483%progress: 33.98876404494382%progress: 34.831460674157306%progress: 35.95505617977528%progress: 36.51685393258427%progress: 37.359550561797754%progress: 38.20224719101123%progress: 38.764044943820224%progress: 39.325842696629216%progress: 40.73033707865169%progress: 41.57303370786517%progress: 42.69662921348314%progress: 44.662921348314605%progress: 46.06741573033708%progress: 47.19101123595505%progress: 48.87640449438202%progress: 50.28089887640449%progress: 51.68539325842697%progress: 53.37078651685393%progress: 54.7752808988764%progress: 56.17977528089888%progress: 57.30337078651685%progress: 58.14606741573034%progress: 59.269662921348306%progress: 60.39325842696629%progress: 61.51685393258427%progress: 62.92134831460674%progress: 64.32584269662921%progress: 65.1685393258427%progress: 66.29213483146067%progress: 67.69662921348315%progress: 68.82022471910112%progress: 69.9438202247191%progress: 71.06741573033707%progress: 71.91011235955057%progress: 72.75280898876404%progress: 73.87640449438202%progress: 74.43820224719101%progress: 75.56179775280899%progress: 76.12359550561798%progress: 76.96629213483146%progress: 77.80898876404494%progress: 78.37078651685393%progress: 79.21348314606742%progress: 80.33707865168539%progress: 81.46067415730337%progress: 82.02247191011236%progress: 82.58426966292134%progress: 83.42696629213484%progress: 84.8314606741573%progress: 85.39325842696628%progress: 85.95505617977528%progress: 86.51685393258427%progress: 87.35955056179775%progress: 88.48314606741573%progress: 89.32584269662921%progress: 90.4494382022472%progress: 91.01123595505618%progress: 91.85393258426966%progress: 92.69662921348315%progress: 93.53932584269663%progress: 94.10112359550563%progress: 95.50561797752809%progress: 97.19101123595506%progress: 98.31460674157303%progress: 99.43820224719101%"
     ]
    },
    {
     "name": "stderr",
     "output_type": "stream",
     "text": [
      "/var/folders/qq/9q6wphrj19z8xt4qcffm8df80000gn/T/ipykernel_15758/870501310.py:20: DeprecationWarning: `np.float` is a deprecated alias for the builtin `float`. To silence this warning, use `float` by itself. Doing this will not modify any behavior and is safe. If you specifically wanted the numpy scalar type, use `np.float64` here.\n",
      "Deprecated in NumPy 1.20; for more details and guidance: https://numpy.org/devdocs/release/1.20.0-notes.html#deprecations\n",
      "  iou=np.array(accuracy_record[:,1]>0.7, dtype=np.float)\n",
      "/var/folders/qq/9q6wphrj19z8xt4qcffm8df80000gn/T/ipykernel_15758/870501310.py:23: DeprecationWarning: `np.float` is a deprecated alias for the builtin `float`. To silence this warning, use `float` by itself. Doing this will not modify any behavior and is safe. If you specifically wanted the numpy scalar type, use `np.float64` here.\n",
      "Deprecated in NumPy 1.20; for more details and guidance: https://numpy.org/devdocs/release/1.20.0-notes.html#deprecations\n",
      "  dice=np.array(accuracy_record[:,2]>0.7, dtype=np.float)\n",
      "/var/folders/qq/9q6wphrj19z8xt4qcffm8df80000gn/T/ipykernel_15758/870501310.py:26: DeprecationWarning: `np.float` is a deprecated alias for the builtin `float`. To silence this warning, use `float` by itself. Doing this will not modify any behavior and is safe. If you specifically wanted the numpy scalar type, use `np.float64` here.\n",
      "Deprecated in NumPy 1.20; for more details and guidance: https://numpy.org/devdocs/release/1.20.0-notes.html#deprecations\n",
      "  iou=np.array(accuracy_record[:,1]>0.5, dtype=np.float)\n",
      "/var/folders/qq/9q6wphrj19z8xt4qcffm8df80000gn/T/ipykernel_15758/870501310.py:29: DeprecationWarning: `np.float` is a deprecated alias for the builtin `float`. To silence this warning, use `float` by itself. Doing this will not modify any behavior and is safe. If you specifically wanted the numpy scalar type, use `np.float64` here.\n",
      "Deprecated in NumPy 1.20; for more details and guidance: https://numpy.org/devdocs/release/1.20.0-notes.html#deprecations\n",
      "  dice=np.array(accuracy_record[:,2]>0.5, dtype=np.float)\n"
     ]
    },
    {
     "name": "stdout",
     "output_type": "stream",
     "text": [
      "cell count accuracy iou >0.7: 0.398876404494382\n",
      "cell count accuracy dice >0.7: 0.6320224719101124\n",
      "cell count accuracy iou >0.5: 0.6685393258426966\n",
      "cell count accuracy dice >0.5: 0.8286516853932584\n",
      "avg iou: 0.5638918324930886\n",
      "avg dice: 0.6834134637597906\n",
      "ari: 0.9922283457487082\n",
      "voi: (1.4643885057787482, 0.9633559851900344)\n",
      "----------\n",
      "65\n",
      "Feed raw img to model. Use different transposes\n",
      "1: Transpose the image to be: [0, 1, 2]\n",
      "argmax\rs of segment_3d_img: 99%Get model semantic seg by combination\n",
      "getting neighbor pairs\n",
      "adding neighbor ids\n",
      "calculate edges\n",
      "build networkx graph\n",
      "predict...\n",
      "using prediction for single-output model\n",
      "number of negatives: 735\n",
      "everything predicted!\n"
     ]
    },
    {
     "name": "stderr",
     "output_type": "stream",
     "text": [
      "/var/folders/qq/9q6wphrj19z8xt4qcffm8df80000gn/T/ipykernel_15758/1421938685.py:27: DeprecationWarning: `np.int` is a deprecated alias for the builtin `int`. To silence this warning, use `int` by itself. Doing this will not modify any behavior and is safe. When replacing `np.int`, you may wish to use e.g. `np.int64` or `np.int32` to specify the precision. If you wish to review your current use, check the release note link for additional information.\n",
      "Deprecated in NumPy 1.20; for more details and guidance: https://numpy.org/devdocs/release/1.20.0-notes.html#deprecations\n",
      "  voi = VOI(seg_final.astype(np.int),hand_seg.astype(np.int))\n"
     ]
    },
    {
     "name": "stdout",
     "output_type": "stream",
     "text": [
      "(181, 331, 160) --> (90, 165, 80)\n",
      "cell count accuracy iou >0.7: 0.33223684210526316421052%progress: 8.223684210526317%progress: 9.868421052631579%progress: 10.855263157894738%progress: 12.5%progress: 14.144736842105262%progress: 15.460526315789474%progress: 17.105263157894736%progress: 19.407894736842106%progress: 21.052631578947366%progress: 22.039473684210524%progress: 22.697368421052634%progress: 23.684210526315788%progress: 24.671052631578945%progress: 25.32894736842105%progress: 26.644736842105267%progress: 27.960526315789476%progress: 28.947368421052634%progress: 29.605263157894733%progress: 30.263157894736842%progress: 31.25%progress: 32.23684210526316%progress: 33.223684210526315%progress: 33.881578947368425%progress: 34.53947368421053%progress: 35.526315789473685%progress: 36.51315789473684%progress: 37.17105263157895%progress: 37.82894736842105%progress: 38.81578947368421%progress: 39.473684210526315%progress: 40.78947368421053%progress: 41.776315789473685%progress: 42.43421052631579%progress: 43.42105263157895%progress: 44.73684210526316%progress: 45.723684210526315%progress: 46.381578947368425%progress: 47.03947368421053%progress: 47.69736842105263%progress: 49.01315789473684%progress: 50.0%progress: 50.6578947368421%progress: 51.64473684210527%progress: 52.63157894736842%progress: 53.61842105263158%progress: 54.60526315789473%progress: 55.5921052631579%progress: 56.9078947368421%progress: 57.56578947368421%progress: 58.88157894736842%progress: 60.526315789473685%progress: 61.51315789473685%progress: 62.5%progress: 63.81578947368421%progress: 64.47368421052632%progress: 65.78947368421053%progress: 66.77631578947368%progress: 67.76315789473685%progress: 68.75%progress: 69.73684210526315%progress: 70.72368421052632%progress: 71.71052631578947%progress: 72.69736842105263%progress: 74.01315789473685%progress: 74.67105263157895%progress: 75.98684210526315%progress: 76.97368421052632%progress: 78.28947368421053%progress: 79.60526315789474%progress: 81.25%progress: 81.9078947368421%progress: 82.56578947368422%progress: 83.55263157894737%progress: 84.21052631578947%progress: 84.86842105263158%progress: 85.52631578947368%progress: 86.51315789473685%progress: 87.17105263157895%progress: 88.1578947368421%progress: 89.14473684210526%progress: 89.80263157894737%progress: 90.78947368421053%progress: 91.44736842105263%progress: 92.76315789473685%progress: 94.07894736842105%progress: 95.06578947368422%progress: 96.05263157894737%progress: 97.03947368421053%progress: 98.02631578947368%progress: 98.68421052631578%progress: 99.67105263157895%\n",
      "cell count accuracy dice >0.7: 0.5098684210526315\n",
      "cell count accuracy iou >0.5: 0.5756578947368421\n",
      "cell count accuracy dice >0.5: 0.7993421052631579\n",
      "avg iou: 0.53348854895433\n",
      "avg dice: 0.662315872893056\n",
      "ari: 0.9921127858063882\n",
      "voi: (1.7644284178270784, 0.9172399322850826)\n",
      "----------\n",
      "90\n"
     ]
    },
    {
     "name": "stderr",
     "output_type": "stream",
     "text": [
      "/var/folders/qq/9q6wphrj19z8xt4qcffm8df80000gn/T/ipykernel_15758/870501310.py:20: DeprecationWarning: `np.float` is a deprecated alias for the builtin `float`. To silence this warning, use `float` by itself. Doing this will not modify any behavior and is safe. If you specifically wanted the numpy scalar type, use `np.float64` here.\n",
      "Deprecated in NumPy 1.20; for more details and guidance: https://numpy.org/devdocs/release/1.20.0-notes.html#deprecations\n",
      "  iou=np.array(accuracy_record[:,1]>0.7, dtype=np.float)\n",
      "/var/folders/qq/9q6wphrj19z8xt4qcffm8df80000gn/T/ipykernel_15758/870501310.py:23: DeprecationWarning: `np.float` is a deprecated alias for the builtin `float`. To silence this warning, use `float` by itself. Doing this will not modify any behavior and is safe. If you specifically wanted the numpy scalar type, use `np.float64` here.\n",
      "Deprecated in NumPy 1.20; for more details and guidance: https://numpy.org/devdocs/release/1.20.0-notes.html#deprecations\n",
      "  dice=np.array(accuracy_record[:,2]>0.7, dtype=np.float)\n",
      "/var/folders/qq/9q6wphrj19z8xt4qcffm8df80000gn/T/ipykernel_15758/870501310.py:26: DeprecationWarning: `np.float` is a deprecated alias for the builtin `float`. To silence this warning, use `float` by itself. Doing this will not modify any behavior and is safe. If you specifically wanted the numpy scalar type, use `np.float64` here.\n",
      "Deprecated in NumPy 1.20; for more details and guidance: https://numpy.org/devdocs/release/1.20.0-notes.html#deprecations\n",
      "  iou=np.array(accuracy_record[:,1]>0.5, dtype=np.float)\n",
      "/var/folders/qq/9q6wphrj19z8xt4qcffm8df80000gn/T/ipykernel_15758/870501310.py:29: DeprecationWarning: `np.float` is a deprecated alias for the builtin `float`. To silence this warning, use `float` by itself. Doing this will not modify any behavior and is safe. If you specifically wanted the numpy scalar type, use `np.float64` here.\n",
      "Deprecated in NumPy 1.20; for more details and guidance: https://numpy.org/devdocs/release/1.20.0-notes.html#deprecations\n",
      "  dice=np.array(accuracy_record[:,2]>0.5, dtype=np.float)\n"
     ]
    },
    {
     "name": "stdout",
     "output_type": "stream",
     "text": [
      "Feed raw img to model. Use different transposes\n",
      "1: Transpose the image to be: [0, 1, 2]\n",
      "argmax\rs of segment_3d_img: 99%Get model semantic seg by combination\n",
      "getting neighbor pairs\n",
      "adding neighbor ids\n",
      "calculate edges\n",
      "build networkx graph\n",
      "predict...\n",
      "using prediction for single-output model\n",
      "number of negatives: 499\n",
      "everything predicted!\n"
     ]
    },
    {
     "name": "stderr",
     "output_type": "stream",
     "text": [
      "/var/folders/qq/9q6wphrj19z8xt4qcffm8df80000gn/T/ipykernel_15758/1421938685.py:27: DeprecationWarning: `np.int` is a deprecated alias for the builtin `int`. To silence this warning, use `int` by itself. Doing this will not modify any behavior and is safe. When replacing `np.int`, you may wish to use e.g. `np.int64` or `np.int32` to specify the precision. If you wish to review your current use, check the release note link for additional information.\n",
      "Deprecated in NumPy 1.20; for more details and guidance: https://numpy.org/devdocs/release/1.20.0-notes.html#deprecations\n",
      "  voi = VOI(seg_final.astype(np.int),hand_seg.astype(np.int))\n"
     ]
    },
    {
     "name": "stdout",
     "output_type": "stream",
     "text": [
      "(181, 331, 160) --> (90, 165, 80)\n",
      "progress: 99.71988795518207%\r\rrogress: 9.243697478991598%progress: 10.084033613445378%progress: 10.644257703081232%progress: 11.484593837535014%progress: 12.324929971988796%progress: 12.885154061624648%progress: 14.565826330532214%progress: 15.686274509803921%progress: 16.246498599439775%progress: 17.366946778711483%progress: 18.487394957983195%progress: 20.168067226890756%progress: 21.568627450980394%progress: 22.969187675070028%progress: 24.649859943977592%progress: 26.330532212885156%progress: 27.450980392156865%progress: 28.57142857142857%progress: 29.971988795518207%progress: 31.652661064425768%progress: 33.0532212885154%progress: 33.61344537815126%progress: 34.45378151260504%progress: 35.294117647058826%progress: 36.134453781512605%progress: 36.69467787114846%progress: 37.53501400560224%progress: 38.37535014005603%progress: 39.21568627450981%progress: 40.056022408963585%progress: 41.45658263305322%progress: 42.016806722689076%progress: 42.57703081232493%progress: 43.13725490196079%progress: 43.69747899159664%progress: 44.25770308123249%progress: 44.81792717086835%progress: 45.378151260504204%progress: 45.938375350140056%progress: 47.05882352941176%progress: 47.89915966386555%progress: 48.739495798319325%progress: 49.57983193277311%progress: 50.700280112044815%progress: 51.540616246498594%progress: 52.10084033613446%progress: 52.66106442577031%progress: 53.50140056022409%progress: 54.34173669467787%progress: 54.90196078431373%progress: 55.46218487394958%progress: 56.022408963585434%progress: 57.14285714285714%progress: 57.98319327731093%progress: 58.543417366946784%progress: 59.103641456582636%progress: 59.943977591036415%progress: 60.78431372549019%progress: 61.62464985994398%progress: 62.18487394957983%progress: 63.02521008403361%progress: 63.58543417366946%progress: 64.42577030812325%progress: 64.9859943977591%progress: 65.54621848739495%progress: 66.66666666666666%progress: 67.22689075630252%progress: 68.0672268907563%progress: 68.62745098039215%progress: 69.187675070028%progress: 70.02801120448179%progress: 70.86834733893558%progress: 71.42857142857143%progress: 72.26890756302521%progress: 73.10924369747899%progress: 73.94957983193278%progress: 74.78991596638656%progress: 75.63025210084034%progress: 76.47058823529412%progress: 77.31092436974791%progress: 78.15126050420169%progress: 78.99159663865547%progress: 79.83193277310924%progress: 80.3921568627451%progress: 80.95238095238095%progress: 81.5126050420168%progress: 82.07282913165265%progress: 82.6330532212885%progress: 83.19327731092437%progress: 83.75350140056022%progress: 84.31372549019608%progress: 85.15406162464986%progress: 85.99439775910365%progress: 86.83473389355743%progress: 87.95518207282913%progress: 88.51540616246498%progress: 89.07563025210085%progress: 90.19607843137256%progress: 90.75630252100841%progress: 91.59663865546219%progress: 92.43697478991596%progress: 92.99719887955182%progress: 94.67787114845937%progress: 95.51820728291317%progress: 96.35854341736695%progress: 97.75910364145658%progress: 98.31932773109243%progress: 99.15966386554622%cell count accuracy iou >0.7: 0.33053221288515405\n",
      "cell count accuracy dice >0.7: 0.5210084033613446\n",
      "cell count accuracy iou >0.5: 0.5602240896358543\n",
      "cell count accuracy dice >0.5: 0.7591036414565826\n",
      "avg iou: 0.5138319220365526\n",
      "avg dice: 0.6295018751302692\n",
      "ari: 0.9931298212127477\n",
      "voi: (1.6142696798687441, 0.9139665505008281)\n",
      "----------\n"
     ]
    },
    {
     "name": "stderr",
     "output_type": "stream",
     "text": [
      "/var/folders/qq/9q6wphrj19z8xt4qcffm8df80000gn/T/ipykernel_15758/870501310.py:20: DeprecationWarning: `np.float` is a deprecated alias for the builtin `float`. To silence this warning, use `float` by itself. Doing this will not modify any behavior and is safe. If you specifically wanted the numpy scalar type, use `np.float64` here.\n",
      "Deprecated in NumPy 1.20; for more details and guidance: https://numpy.org/devdocs/release/1.20.0-notes.html#deprecations\n",
      "  iou=np.array(accuracy_record[:,1]>0.7, dtype=np.float)\n",
      "/var/folders/qq/9q6wphrj19z8xt4qcffm8df80000gn/T/ipykernel_15758/870501310.py:23: DeprecationWarning: `np.float` is a deprecated alias for the builtin `float`. To silence this warning, use `float` by itself. Doing this will not modify any behavior and is safe. If you specifically wanted the numpy scalar type, use `np.float64` here.\n",
      "Deprecated in NumPy 1.20; for more details and guidance: https://numpy.org/devdocs/release/1.20.0-notes.html#deprecations\n",
      "  dice=np.array(accuracy_record[:,2]>0.7, dtype=np.float)\n",
      "/var/folders/qq/9q6wphrj19z8xt4qcffm8df80000gn/T/ipykernel_15758/870501310.py:26: DeprecationWarning: `np.float` is a deprecated alias for the builtin `float`. To silence this warning, use `float` by itself. Doing this will not modify any behavior and is safe. If you specifically wanted the numpy scalar type, use `np.float64` here.\n",
      "Deprecated in NumPy 1.20; for more details and guidance: https://numpy.org/devdocs/release/1.20.0-notes.html#deprecations\n",
      "  iou=np.array(accuracy_record[:,1]>0.5, dtype=np.float)\n",
      "/var/folders/qq/9q6wphrj19z8xt4qcffm8df80000gn/T/ipykernel_15758/870501310.py:29: DeprecationWarning: `np.float` is a deprecated alias for the builtin `float`. To silence this warning, use `float` by itself. Doing this will not modify any behavior and is safe. If you specifically wanted the numpy scalar type, use `np.float64` here.\n",
      "Deprecated in NumPy 1.20; for more details and guidance: https://numpy.org/devdocs/release/1.20.0-notes.html#deprecations\n",
      "  dice=np.array(accuracy_record[:,2]>0.5, dtype=np.float)\n"
     ]
    }
   ],
   "source": [
    "# mass process\n",
    "seg_final_dict={}\n",
    "accuracy_record_dict = {}\n",
    "ari_dict = {}\n",
    "voi_dict = {}\n",
    "for test_file in HMS_data_dict_test.keys():\n",
    "    print(test_file)\n",
    "    raw_img=np.load(HMS_data_dict_test[test_file][\"raw\"])\n",
    "    hand_seg=np.load(HMS_data_dict_test[test_file][\"ins\"])\n",
    "    accuracy_record, hand_seg_after_accuracy, seg_final_after_accuracy, ari, voi, seg_final=\\\n",
    "    pipeline(raw_img, hand_seg, model, device,\n",
    "             crop_cube_size=64,\n",
    "             stride=32)\n",
    "    \n",
    "    seg_final_dict[test_file] = seg_final\n",
    "    accuracy_record_dict[test_file] = accuracy_record\n",
    "    ari_dict[test_file] = ari\n",
    "    voi_dict[test_file] = voi\n",
    "    \n",
    "    iou=np.array(accuracy_record[:,1]>0.7, dtype=np.float)\n",
    "    print('cell count accuracy iou >0.7: '+str(sum(iou)/len(iou)))\n",
    "\n",
    "    dice=np.array(accuracy_record[:,2]>0.7, dtype=np.float)\n",
    "    print('cell count accuracy dice >0.7: '+str(sum(dice)/len(dice)))\n",
    "    \n",
    "    iou=np.array(accuracy_record[:,1]>0.5, dtype=np.float)\n",
    "    print('cell count accuracy iou >0.5: '+str(sum(iou)/len(iou)))\n",
    "\n",
    "    dice=np.array(accuracy_record[:,2]>0.5, dtype=np.float)\n",
    "    print('cell count accuracy dice >0.5: '+str(sum(dice)/len(dice)))\n",
    "\n",
    "    print('avg iou: '+str(np.mean(accuracy_record[:,1])))\n",
    "    print('avg dice: '+str(np.mean(accuracy_record[:,2])))\n",
    "    print(\"ari: \"+str(ari))\n",
    "    print(\"voi: \"+str(voi))\n",
    "    print(\"----------\")"
   ]
  },
  {
   "cell_type": "code",
   "execution_count": 25,
   "metadata": {},
   "outputs": [
    {
     "name": "stdout",
     "output_type": "stream",
     "text": [
      "135\n",
      "cell count accuracy iou >0.7: 0.3377659574468085\n",
      "cell count accuracy dice >0.7: 0.5797872340425532\n",
      "cell count accuracy iou >0.5: 0.6196808510638298\n",
      "cell count accuracy dice >0.5: 0.8164893617021277\n",
      "avg iou: 0.5371368092464957\n",
      "avg dice: 0.6599793104811552\n",
      "ari: 0.9916619698898321\n",
      "voi: (1.4804100261000068, 1.019161840676887)\n",
      "----------\n",
      "120\n",
      "cell count accuracy iou >0.7: 0.398876404494382\n",
      "cell count accuracy dice >0.7: 0.6320224719101124\n",
      "cell count accuracy iou >0.5: 0.6685393258426966\n",
      "cell count accuracy dice >0.5: 0.8286516853932584\n",
      "avg iou: 0.5638918324930886\n",
      "avg dice: 0.6834134637597906\n",
      "ari: 0.9922283457487082\n",
      "voi: (1.4643885057787482, 0.9633559851900344)\n",
      "----------\n",
      "65\n",
      "cell count accuracy iou >0.7: 0.33223684210526316\n",
      "cell count accuracy dice >0.7: 0.5098684210526315\n",
      "cell count accuracy iou >0.5: 0.5756578947368421\n",
      "cell count accuracy dice >0.5: 0.7993421052631579\n",
      "avg iou: 0.53348854895433\n",
      "avg dice: 0.662315872893056\n",
      "ari: 0.9921127858063882\n",
      "voi: (1.7644284178270784, 0.9172399322850826)\n",
      "----------\n",
      "90\n",
      "cell count accuracy iou >0.7: 0.33053221288515405\n",
      "cell count accuracy dice >0.7: 0.5210084033613446\n",
      "cell count accuracy iou >0.5: 0.5602240896358543\n",
      "cell count accuracy dice >0.5: 0.7591036414565826\n",
      "avg iou: 0.5138319220365526\n",
      "avg dice: 0.6295018751302692\n",
      "ari: 0.9931298212127477\n",
      "voi: (1.6142696798687441, 0.9139665505008281)\n",
      "----------\n"
     ]
    },
    {
     "name": "stderr",
     "output_type": "stream",
     "text": [
      "/var/folders/qq/9q6wphrj19z8xt4qcffm8df80000gn/T/ipykernel_15758/1383077988.py:6: DeprecationWarning: `np.float` is a deprecated alias for the builtin `float`. To silence this warning, use `float` by itself. Doing this will not modify any behavior and is safe. If you specifically wanted the numpy scalar type, use `np.float64` here.\n",
      "Deprecated in NumPy 1.20; for more details and guidance: https://numpy.org/devdocs/release/1.20.0-notes.html#deprecations\n",
      "  iou=np.array(accuracy_record[:,1]>0.7, dtype=np.float)\n",
      "/var/folders/qq/9q6wphrj19z8xt4qcffm8df80000gn/T/ipykernel_15758/1383077988.py:9: DeprecationWarning: `np.float` is a deprecated alias for the builtin `float`. To silence this warning, use `float` by itself. Doing this will not modify any behavior and is safe. If you specifically wanted the numpy scalar type, use `np.float64` here.\n",
      "Deprecated in NumPy 1.20; for more details and guidance: https://numpy.org/devdocs/release/1.20.0-notes.html#deprecations\n",
      "  dice=np.array(accuracy_record[:,2]>0.7, dtype=np.float)\n",
      "/var/folders/qq/9q6wphrj19z8xt4qcffm8df80000gn/T/ipykernel_15758/1383077988.py:12: DeprecationWarning: `np.float` is a deprecated alias for the builtin `float`. To silence this warning, use `float` by itself. Doing this will not modify any behavior and is safe. If you specifically wanted the numpy scalar type, use `np.float64` here.\n",
      "Deprecated in NumPy 1.20; for more details and guidance: https://numpy.org/devdocs/release/1.20.0-notes.html#deprecations\n",
      "  iou=np.array(accuracy_record[:,1]>0.5, dtype=np.float)\n",
      "/var/folders/qq/9q6wphrj19z8xt4qcffm8df80000gn/T/ipykernel_15758/1383077988.py:15: DeprecationWarning: `np.float` is a deprecated alias for the builtin `float`. To silence this warning, use `float` by itself. Doing this will not modify any behavior and is safe. If you specifically wanted the numpy scalar type, use `np.float64` here.\n",
      "Deprecated in NumPy 1.20; for more details and guidance: https://numpy.org/devdocs/release/1.20.0-notes.html#deprecations\n",
      "  dice=np.array(accuracy_record[:,2]>0.5, dtype=np.float)\n"
     ]
    }
   ],
   "source": [
    "for item in seg_final_dict.keys():\n",
    "    print(item)\n",
    "    accuracy_record = accuracy_record_dict[item]\n",
    "    ari = ari_dict[item]\n",
    "    voi = voi_dict[item]\n",
    "    iou=np.array(accuracy_record[:,1]>0.7, dtype=np.float)\n",
    "    print('cell count accuracy iou >0.7: '+str(sum(iou)/len(iou)))\n",
    "\n",
    "    dice=np.array(accuracy_record[:,2]>0.7, dtype=np.float)\n",
    "    print('cell count accuracy dice >0.7: '+str(sum(dice)/len(dice)))\n",
    "    \n",
    "    iou=np.array(accuracy_record[:,1]>0.5, dtype=np.float)\n",
    "    print('cell count accuracy iou >0.5: '+str(sum(iou)/len(iou)))\n",
    "\n",
    "    dice=np.array(accuracy_record[:,2]>0.5, dtype=np.float)\n",
    "    print('cell count accuracy dice >0.5: '+str(sum(dice)/len(dice)))\n",
    "\n",
    "    print('avg iou: '+str(np.mean(accuracy_record[:,1])))\n",
    "    print('avg dice: '+str(np.mean(accuracy_record[:,2])))\n",
    "    print(\"ari: \"+str(ari))\n",
    "    print(\"voi: \"+str(voi))\n",
    "    print(\"----------\")"
   ]
  }
 ],
 "metadata": {
  "kernelspec": {
   "display_name": "Python 3 (ipykernel)",
   "language": "python",
   "name": "python3"
  },
  "language_info": {
   "codemirror_mode": {
    "name": "ipython",
    "version": 3
   },
   "file_extension": ".py",
   "mimetype": "text/x-python",
   "name": "python",
   "nbconvert_exporter": "python",
   "pygments_lexer": "ipython3",
   "version": "3.9.7"
  }
 },
 "nbformat": 4,
 "nbformat_minor": 2
}