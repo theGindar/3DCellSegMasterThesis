{
 "cells": [
  {
   "cell_type": "code",
   "execution_count": 8,
   "metadata": {
    "collapsed": true
   },
   "outputs": [],
   "source": [
    "import numpy as np"
   ]
  },
  {
   "cell_type": "code",
   "execution_count": 166,
   "outputs": [],
   "source": [
    "gt = np.asarray([[[0,0,0,0,0,0,0,0,0],\n",
    "                  [0,0,0,0,0,0,0,0,0],\n",
    "                  [0,0,0,0,0,0,0,0,0],\n",
    "                  [0,0,0,0,0,0,0,0,0],\n",
    "                  [0,0,0,0,0,0,0,0,0]],\n",
    "                 [[0,0,0,0,0,0,0,0,0],\n",
    "                  [0,0,0,0,0,0,0,0,0],\n",
    "                  [0,0,0,1,1,0,0,0,0],\n",
    "                  [0,0,0,1,1,0,0,0,0],\n",
    "                  [0,0,0,0,0,0,0,0,0]],\n",
    "                 [[0,0,0,0,0,0,0,0,0],\n",
    "                  [4,4,0,0,0,0,0,0,0],\n",
    "                  [4,4,0,0,0,0,0,0,0],\n",
    "                  [0,0,0,0,0,0,0,2,2],\n",
    "                  [0,0,0,0,0,0,0,0,0]],\n",
    "                 [[0,0,0,0,0,0,0,0,0],\n",
    "                  [4,4,0,0,0,0,0,0,0],\n",
    "                  [4,4,0,0,0,0,0,0,0],\n",
    "                  [0,0,0,0,0,0,0,2,2],\n",
    "                  [0,0,0,0,0,0,0,0,0]]])\n",
    "\n",
    "gt = np.asarray([[[0,0,0,0,0],\n",
    "                  [0,0,0,0,0],\n",
    "                  [0,0,0,0,0],\n",
    "                  [0,0,0,0,0],\n",
    "                  [0,0,0,0,0]],\n",
    "                 [[5,5,0,8,8],\n",
    "                  [5,5,0,8,8],\n",
    "                  [9,9,9,0,0],\n",
    "                  [9,9,9,0,0],\n",
    "                  [9,9,9,0,0]],\n",
    "                 [[5,5,0,8,8],\n",
    "                  [5,5,0,8,8],\n",
    "                  [9,9,9,0,0],\n",
    "                  [9,9,9,0,0],\n",
    "                  [9,9,9,0,0]],\n",
    "                 [[5,5,0,8,8],\n",
    "                  [5,5,0,8,8],\n",
    "                  [9,9,9,0,0],\n",
    "                  [9,9,9,0,0],\n",
    "                  [9,9,9,0,0]]])\n",
    "\n",
    "# gt = np.ones((5,5,5))"
   ],
   "metadata": {
    "collapsed": false,
    "pycharm": {
     "name": "#%%\n"
    }
   }
  },
  {
   "cell_type": "code",
   "execution_count": 185,
   "outputs": [],
   "source": [
    "pred = np.asarray([[[0,0,0,0,0,0,0,0,0],\n",
    "                    [0,0,0,0,0,0,0,0,0],\n",
    "                    [0,0,0,0,0,0,0,0,0],\n",
    "                    [0,0,0,0,0,0,0,0,0],\n",
    "                    [0,0,0,0,0,0,0,0,0]],\n",
    "                   [[0,0,0,0,0,0,0,0,0],\n",
    "                    [0,0,0,0,0,0,0,0,0],\n",
    "                    [0,0,0,1,1,0,0,0,0],\n",
    "                    [0,0,0,1,1,0,0,0,0],\n",
    "                    [0,0,0,0,0,0,0,0,0]],\n",
    "                   [[0,0,0,0,0,0,0,0,0],\n",
    "                    [0,0,0,0,0,0,0,0,0],\n",
    "                    [0,0,0,0,0,0,0,0,0],\n",
    "                    [0,0,0,0,0,0,0,2,2],\n",
    "                    [0,0,0,0,0,0,0,0,0]],\n",
    "                   [[0,0,0,0,0,0,0,0,0],\n",
    "                    [4,4,0,0,0,0,0,0,0],\n",
    "                    [0,0,0,0,0,0,0,0,0],\n",
    "                    [0,0,0,0,0,0,0,2,2],\n",
    "                    [0,0,0,0,0,0,0,0,0]]])\n",
    "\n",
    "pred = np.asarray([[[0,0,0,0,0],\n",
    "                    [0,0,0,0,0],\n",
    "                    [0,0,0,0,0],\n",
    "                    [0,0,0,0,0],\n",
    "                    [0,0,0,0,0]],\n",
    "                   [[0,0,7,7,0],\n",
    "                    [0,0,7,7,0],\n",
    "                    [9,9,9,0,0],\n",
    "                    [9,9,9,0,0],\n",
    "                    [9,9,9,0,0]],\n",
    "                   [[3,0,7,7,0],\n",
    "                    [0,0,7,7,0],\n",
    "                    [9,9,9,0,0],\n",
    "                    [9,9,9,0,0],\n",
    "                    [9,9,9,0,0]],\n",
    "                   [[3,3,7,7,0],\n",
    "                    [3,3,7,7,0],\n",
    "                    [9,9,9,0,0],\n",
    "                    [9,9,9,0,0],\n",
    "                    [9,9,9,0,0]]])\n",
    "\n",
    "# pred = np.ones((5,5,5))"
   ],
   "metadata": {
    "collapsed": false,
    "pycharm": {
     "name": "#%%\n"
    }
   }
  },
  {
   "cell_type": "code",
   "execution_count": 186,
   "outputs": [],
   "source": [
    "import torch\n",
    "def img_3d_interpolate(img_3d, output_size, device = torch.device('cpu'), mode='nearest'):\n",
    "    img_3d = img_3d.reshape(1,1,img_3d.shape[0],img_3d.shape[1],img_3d.shape[2])\n",
    "    img_3d=torch.from_numpy(img_3d).float().to(device)\n",
    "    img_3d=torch.nn.functional.interpolate(img_3d, size=output_size, mode='nearest')\n",
    "    img_3d=img_3d.detach().cpu().numpy()\n",
    "    img_3d=img_3d.reshape(img_3d.shape[2],img_3d.shape[3],img_3d.shape[4])\n",
    "\n",
    "    return img_3d"
   ],
   "metadata": {
    "collapsed": false,
    "pycharm": {
     "name": "#%%\n"
    }
   }
  },
  {
   "cell_type": "code",
   "execution_count": 187,
   "outputs": [
    {
     "name": "stdout",
     "output_type": "stream",
     "text": [
      "progress: 66.66666666666666%\r"
     ]
    }
   ],
   "source": [
    "from func.cal_accuracy import IOU_and_Dice_Accuracy\n",
    "\n",
    "output_size = pred.shape\n",
    "\n",
    "accuracy=IOU_and_Dice_Accuracy(img_3d_interpolate(gt, output_size = output_size),\n",
    "                                   img_3d_interpolate(pred, output_size = output_size))\n",
    "accuracy_record=accuracy.cal_accuracy_II()\n",
    "hand_seg_after_accuracy=accuracy.gt\n",
    "seg_final_after_accuracy=accuracy.pred"
   ],
   "metadata": {
    "collapsed": false,
    "pycharm": {
     "name": "#%%\n"
    }
   }
  },
  {
   "cell_type": "code",
   "execution_count": 191,
   "outputs": [
    {
     "data": {
      "text/plain": "array([[[0., 0., 0., 0., 0.],\n        [0., 0., 0., 0., 0.],\n        [0., 0., 0., 0., 0.],\n        [0., 0., 0., 0., 0.],\n        [0., 0., 0., 0., 0.]],\n\n       [[5., 5., 0., 8., 8.],\n        [5., 5., 0., 8., 8.],\n        [9., 9., 9., 0., 0.],\n        [9., 9., 9., 0., 0.],\n        [9., 9., 9., 0., 0.]],\n\n       [[5., 5., 0., 8., 8.],\n        [5., 5., 0., 8., 8.],\n        [9., 9., 9., 0., 0.],\n        [9., 9., 9., 0., 0.],\n        [9., 9., 9., 0., 0.]],\n\n       [[5., 5., 0., 8., 8.],\n        [5., 5., 0., 8., 8.],\n        [9., 9., 9., 0., 0.],\n        [9., 9., 9., 0., 0.],\n        [9., 9., 9., 0., 0.]]], dtype=float32)"
     },
     "execution_count": 191,
     "metadata": {},
     "output_type": "execute_result"
    }
   ],
   "source": [
    "hand_seg_after_accuracy"
   ],
   "metadata": {
    "collapsed": false,
    "pycharm": {
     "name": "#%%\n"
    }
   }
  },
  {
   "cell_type": "code",
   "execution_count": 192,
   "outputs": [
    {
     "data": {
      "text/plain": "array([[[0., 0., 0., 0., 0.],\n        [0., 0., 0., 0., 0.],\n        [0., 0., 0., 0., 0.],\n        [0., 0., 0., 0., 0.],\n        [0., 0., 0., 0., 0.]],\n\n       [[0., 0., 8., 8., 0.],\n        [0., 0., 8., 8., 0.],\n        [9., 9., 9., 0., 0.],\n        [9., 9., 9., 0., 0.],\n        [9., 9., 9., 0., 0.]],\n\n       [[5., 0., 8., 8., 0.],\n        [0., 0., 8., 8., 0.],\n        [9., 9., 9., 0., 0.],\n        [9., 9., 9., 0., 0.],\n        [9., 9., 9., 0., 0.]],\n\n       [[5., 5., 8., 8., 0.],\n        [5., 5., 8., 8., 0.],\n        [9., 9., 9., 0., 0.],\n        [9., 9., 9., 0., 0.],\n        [9., 9., 9., 0., 0.]]], dtype=float32)"
     },
     "execution_count": 192,
     "metadata": {},
     "output_type": "execute_result"
    }
   ],
   "source": [
    "seg_final_after_accuracy"
   ],
   "metadata": {
    "collapsed": false,
    "pycharm": {
     "name": "#%%\n"
    }
   }
  },
  {
   "cell_type": "code",
   "execution_count": 189,
   "outputs": [
    {
     "data": {
      "text/plain": "array([[5.        , 0.5       , 0.66666669],\n       [8.        , 0.5       , 0.66666669],\n       [9.        , 1.        , 1.        ]])"
     },
     "execution_count": 189,
     "metadata": {},
     "output_type": "execute_result"
    }
   ],
   "source": [
    "accuracy_record"
   ],
   "metadata": {
    "collapsed": false,
    "pycharm": {
     "name": "#%%\n"
    }
   }
  },
  {
   "cell_type": "code",
   "execution_count": 190,
   "outputs": [
    {
     "data": {
      "text/plain": "9"
     },
     "execution_count": 190,
     "metadata": {},
     "output_type": "execute_result"
    }
   ],
   "source": [
    "np.max(pred)"
   ],
   "metadata": {
    "collapsed": false,
    "pycharm": {
     "name": "#%%0\n"
    }
   }
  },
  {
   "cell_type": "code",
   "execution_count": null,
   "outputs": [],
   "source": [],
   "metadata": {
    "collapsed": false,
    "pycharm": {
     "name": "#%%\n"
    }
   }
  }
 ],
 "metadata": {
  "kernelspec": {
   "display_name": "Python 3",
   "language": "python",
   "name": "python3"
  },
  "language_info": {
   "codemirror_mode": {
    "name": "ipython",
    "version": 2
   },
   "file_extension": ".py",
   "mimetype": "text/x-python",
   "name": "python",
   "nbconvert_exporter": "python",
   "pygments_lexer": "ipython2",
   "version": "2.7.6"
  }
 },
 "nbformat": 4,
 "nbformat_minor": 0
}